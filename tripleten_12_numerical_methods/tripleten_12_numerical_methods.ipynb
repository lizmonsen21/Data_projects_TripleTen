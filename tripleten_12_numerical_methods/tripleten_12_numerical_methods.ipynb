{
 "cells": [
  {
   "cell_type": "markdown",
   "metadata": {},
   "source": [
    "<div style=\"border: 5px solid purple; padding: 15px; margin: 5px\">\n",
    "<b> Reviewer's comment 2</b>\n",
    "\n",
    "\n",
    "Thank you for the updates! You can find my new comments with digit 2. You did a great job here! You learned how to build and evaluate models to predict used car prices. You have successfully conducted EDA, handled missing values and outliers. You trained and tuned several models, compared their RMSE and speed, and chose the best model for the final testing. You learned how to prepare and encode large data and how to weigh training speed vs. prediction error, and why this matters in real-world applications. I hope you enjoyed this project! I do not have any questions, so the project can be accepted. Good luck! \n",
    "\n",
    "    \n",
    "</div>"
   ]
  },
  {
   "cell_type": "markdown",
   "metadata": {},
   "source": [
    "<div style=\"border: 5px solid purple; padding: 15px; margin: 5px\">\n",
    "<b> Reviewer's comment</b>\n",
    "    \n",
    "Hi Elizabeth! Congratulations on submitting another project! 🎉 I will be using the standard the color marking:\n",
    "    \n",
    "\n",
    "   \n",
    "    \n",
    "<div style=\"border: 5px solid green; padding: 15px; margin: 5px\">\n",
    "\n",
    "Great solutions and ideas that can and should be used in the future are in green comments. Some of them are: \n",
    "    \n",
    "    \n",
    "- You have successfully prepared the subsets. It is important to split the data correctly in order to ensure there's no intersection;    \n",
    "    \n",
    "    \n",
    "- Analyzed distributions. It is a very important step that helps us identify outliers and choose the most appropriate data preprocessing steps;    \n",
    "    \n",
    "    \n",
    "- Handled outliers; \n",
    "    \n",
    "    \n",
    "- Excluded irrelevant columns to reduce computational cost;\n",
    "    \n",
    "    \n",
    "- Encoded cetegorical columns;    \n",
    "\n",
    "    \n",
    "\n",
    "- Trained and compared several models, great!\n",
    "\n",
    "    \n",
    "- Measured their training and prediction speed.\n",
    "   \n",
    "\n",
    "- Tuned hyperparameters. We tune them to identify the hyperparameters that will yield the desired metric value;\n",
    "\n",
    "\n",
    "- Analyzed metrics. It is not enough to just fit the model and print the result. Instead, we have to analyze the results as it helps us identify what can be improved;\n",
    "\n",
    "    \n",
    "\n",
    "</div>\n",
    "    \n",
    "<div style=\"border: 5px solid gold; padding: 15px; margin: 5px\">\n",
    "<b> Reviewer's comment </b>\n",
    "\n",
    "Yellow color indicates what should be optimized. This is not necessary, but it will be great if you make changes to this project. I've left several recommendations throughout the project. Please take a look.\n",
    " \n",
    "</div>\n",
    "<div style=\"border: 5px solid red; padding: 15px; margin: 5px\">\n",
    "<b> Reviewer's comment </b>\n",
    "\n",
    "Issues that must be corrected to achieve accurate results are indicated in red comments. Please note that the project cannot be accepted until these issues are resolved. For instance,\n",
    "\n",
    "\n",
    "    \n",
    "- Check the data for the duplicates after you drop columns. If a dropped column contained unique values (ID or timestamp), removing it may make multiple rows appear the same; \n",
    "    \n",
    "    \n",
    "- Please split the data first, only then we need to scale or encode it to avoid data leakage;\n",
    "  \n",
    "\n",
    "    \n",
    "- Add the final conclusion please. A well-written conclusion shows how the project met its objectives and provides a concise and understandable summary for those who may not have been involved in the details of the project. \n",
    "\n",
    "\n",
    "There may be other issues that need your attention. I described everything in my comments.  \n",
    "</div>        \n",
    "<hr>\n",
    "    \n",
    "<font color='dodgerblue'>**To sum up:**</font> great job here! You demonstrated strong analytical and modeling skills by preparing the data, experimenting with multiple advanced models, and evaluating them with appropriate metrics. The conclusion clearly communicates which model offers the best trade-off between speed and RMSE. There are just several issues that need your attention. Please take a look at my comments and do not hesitate to ask questions if some of them seem unclear. I will wait the project for the second review 😊 \n",
    "    \n",
    "\n",
    "<hr>\n",
    "    \n",
    "Please use some color other than those listed to highlight answers to my comments.\n",
    "I would also ask you **not to change, move or delete my comments** to make it easier for me to navigate during the next review.\n",
    "    \n",
    "<hr> \n",
    "    \n",
    "✍️ Here's a link to [Supervised Learning documenation sections](https://scikit-learn.org/stable/supervised_learning.html) that you may find useful.\n",
    "    \n",
    "<hr>\n",
    "    \n",
    "    \n",
    "📌 Please feel free to schedule a 1:1 sessions with our tutors or TAs Feel free to book 1-1 session [here](https://calendly.com/tripleten-ds-experts-team), join daily coworking sessions, or ask questions in the sprint channels on Discord if you need assistance 😉 \n",
    "</div>"
   ]
  },
  {
   "cell_type": "markdown",
   "metadata": {},
   "source": [
    "## Rusty Bargain Data Analysis\n",
    "Rusty Bargain used car sales service is developing an app to attract new customers. In that app, you can quickly find out the market value of your car. You have access to historical data: technical specifications, trim versions, and prices. You need to build the model to determine the value. \n",
    "\n",
    "Rusty Bargain is interested in:\n",
    "\n",
    "- the quality of the prediction;\n",
    "- the speed of the prediction;\n",
    "- the time required for training"
   ]
  },
  {
   "cell_type": "markdown",
   "metadata": {},
   "source": [
    "## Data preparation"
   ]
  },
  {
   "cell_type": "code",
   "execution_count": 1,
   "metadata": {},
   "outputs": [],
   "source": [
    "#import libraries\n",
    "import pandas as pd\n",
    "import numpy as np\n",
    "import matplotlib.pyplot as plt\n",
    "import time\n",
    "\n",
    "from sklearn.model_selection import train_test_split\n",
    "from sklearn.linear_model import LinearRegression\n",
    "from sklearn.ensemble import RandomForestRegressor\n",
    "from sklearn.tree import DecisionTreeRegressor\n",
    "from sklearn.metrics import mean_squared_error as mse\n",
    "from sklearn.preprocessing import OneHotEncoder, StandardScaler\n",
    "from sklearn.preprocessing import OrdinalEncoder, LabelEncoder\n",
    "from catboost import CatBoostRegressor\n",
    "import lightgbm as lgb\n",
    "import xgboost as xgb"
   ]
  },
  {
   "cell_type": "code",
   "execution_count": 2,
   "metadata": {},
   "outputs": [
    {
     "name": "stdout",
     "output_type": "stream",
     "text": [
      "<class 'pandas.core.frame.DataFrame'>\n",
      "RangeIndex: 354369 entries, 0 to 354368\n",
      "Data columns (total 16 columns):\n",
      " #   Column             Non-Null Count   Dtype \n",
      "---  ------             --------------   ----- \n",
      " 0   DateCrawled        354369 non-null  object\n",
      " 1   Price              354369 non-null  int64 \n",
      " 2   VehicleType        316879 non-null  object\n",
      " 3   RegistrationYear   354369 non-null  int64 \n",
      " 4   Gearbox            334536 non-null  object\n",
      " 5   Power              354369 non-null  int64 \n",
      " 6   Model              334664 non-null  object\n",
      " 7   Mileage            354369 non-null  int64 \n",
      " 8   RegistrationMonth  354369 non-null  int64 \n",
      " 9   FuelType           321474 non-null  object\n",
      " 10  Brand              354369 non-null  object\n",
      " 11  NotRepaired        283215 non-null  object\n",
      " 12  DateCreated        354369 non-null  object\n",
      " 13  NumberOfPictures   354369 non-null  int64 \n",
      " 14  PostalCode         354369 non-null  int64 \n",
      " 15  LastSeen           354369 non-null  object\n",
      "dtypes: int64(7), object(9)\n",
      "memory usage: 43.3+ MB\n"
     ]
    },
    {
     "data": {
      "text/html": [
       "<div>\n",
       "<style scoped>\n",
       "    .dataframe tbody tr th:only-of-type {\n",
       "        vertical-align: middle;\n",
       "    }\n",
       "\n",
       "    .dataframe tbody tr th {\n",
       "        vertical-align: top;\n",
       "    }\n",
       "\n",
       "    .dataframe thead th {\n",
       "        text-align: right;\n",
       "    }\n",
       "</style>\n",
       "<table border=\"1\" class=\"dataframe\">\n",
       "  <thead>\n",
       "    <tr style=\"text-align: right;\">\n",
       "      <th></th>\n",
       "      <th>DateCrawled</th>\n",
       "      <th>Price</th>\n",
       "      <th>VehicleType</th>\n",
       "      <th>RegistrationYear</th>\n",
       "      <th>Gearbox</th>\n",
       "      <th>Power</th>\n",
       "      <th>Model</th>\n",
       "      <th>Mileage</th>\n",
       "      <th>RegistrationMonth</th>\n",
       "      <th>FuelType</th>\n",
       "      <th>Brand</th>\n",
       "      <th>NotRepaired</th>\n",
       "      <th>DateCreated</th>\n",
       "      <th>NumberOfPictures</th>\n",
       "      <th>PostalCode</th>\n",
       "      <th>LastSeen</th>\n",
       "    </tr>\n",
       "  </thead>\n",
       "  <tbody>\n",
       "    <tr>\n",
       "      <th>299611</th>\n",
       "      <td>05/03/2016 19:53</td>\n",
       "      <td>8300</td>\n",
       "      <td>coupe</td>\n",
       "      <td>2014</td>\n",
       "      <td>auto</td>\n",
       "      <td>71</td>\n",
       "      <td>fortwo</td>\n",
       "      <td>20000</td>\n",
       "      <td>3</td>\n",
       "      <td>petrol</td>\n",
       "      <td>smart</td>\n",
       "      <td>no</td>\n",
       "      <td>04/03/2016 00:00</td>\n",
       "      <td>0</td>\n",
       "      <td>23730</td>\n",
       "      <td>17/03/2016 11:45</td>\n",
       "    </tr>\n",
       "    <tr>\n",
       "      <th>203529</th>\n",
       "      <td>08/03/2016 15:48</td>\n",
       "      <td>1200</td>\n",
       "      <td>NaN</td>\n",
       "      <td>2005</td>\n",
       "      <td>manual</td>\n",
       "      <td>101</td>\n",
       "      <td>passat</td>\n",
       "      <td>150000</td>\n",
       "      <td>8</td>\n",
       "      <td>NaN</td>\n",
       "      <td>volkswagen</td>\n",
       "      <td>NaN</td>\n",
       "      <td>08/03/2016 00:00</td>\n",
       "      <td>0</td>\n",
       "      <td>53332</td>\n",
       "      <td>10/03/2016 10:44</td>\n",
       "    </tr>\n",
       "    <tr>\n",
       "      <th>122018</th>\n",
       "      <td>26/03/2016 14:37</td>\n",
       "      <td>4150</td>\n",
       "      <td>NaN</td>\n",
       "      <td>2017</td>\n",
       "      <td>NaN</td>\n",
       "      <td>0</td>\n",
       "      <td>golf</td>\n",
       "      <td>150000</td>\n",
       "      <td>0</td>\n",
       "      <td>gasoline</td>\n",
       "      <td>volkswagen</td>\n",
       "      <td>NaN</td>\n",
       "      <td>26/03/2016 00:00</td>\n",
       "      <td>0</td>\n",
       "      <td>45888</td>\n",
       "      <td>06/04/2016 02:17</td>\n",
       "    </tr>\n",
       "    <tr>\n",
       "      <th>129061</th>\n",
       "      <td>28/03/2016 10:56</td>\n",
       "      <td>4499</td>\n",
       "      <td>NaN</td>\n",
       "      <td>2016</td>\n",
       "      <td>manual</td>\n",
       "      <td>125</td>\n",
       "      <td>astra</td>\n",
       "      <td>150000</td>\n",
       "      <td>6</td>\n",
       "      <td>petrol</td>\n",
       "      <td>opel</td>\n",
       "      <td>no</td>\n",
       "      <td>28/03/2016 00:00</td>\n",
       "      <td>0</td>\n",
       "      <td>45478</td>\n",
       "      <td>02/04/2016 14:18</td>\n",
       "    </tr>\n",
       "    <tr>\n",
       "      <th>217584</th>\n",
       "      <td>27/03/2016 19:54</td>\n",
       "      <td>5800</td>\n",
       "      <td>suv</td>\n",
       "      <td>2006</td>\n",
       "      <td>auto</td>\n",
       "      <td>163</td>\n",
       "      <td>other</td>\n",
       "      <td>150000</td>\n",
       "      <td>3</td>\n",
       "      <td>gasoline</td>\n",
       "      <td>hyundai</td>\n",
       "      <td>no</td>\n",
       "      <td>27/03/2016 00:00</td>\n",
       "      <td>0</td>\n",
       "      <td>38543</td>\n",
       "      <td>05/04/2016 18:16</td>\n",
       "    </tr>\n",
       "  </tbody>\n",
       "</table>\n",
       "</div>"
      ],
      "text/plain": [
       "             DateCrawled  Price VehicleType  RegistrationYear Gearbox  Power  \\\n",
       "299611  05/03/2016 19:53   8300       coupe              2014    auto     71   \n",
       "203529  08/03/2016 15:48   1200         NaN              2005  manual    101   \n",
       "122018  26/03/2016 14:37   4150         NaN              2017     NaN      0   \n",
       "129061  28/03/2016 10:56   4499         NaN              2016  manual    125   \n",
       "217584  27/03/2016 19:54   5800         suv              2006    auto    163   \n",
       "\n",
       "         Model  Mileage  RegistrationMonth  FuelType       Brand NotRepaired  \\\n",
       "299611  fortwo    20000                  3    petrol       smart          no   \n",
       "203529  passat   150000                  8       NaN  volkswagen         NaN   \n",
       "122018    golf   150000                  0  gasoline  volkswagen         NaN   \n",
       "129061   astra   150000                  6    petrol        opel          no   \n",
       "217584   other   150000                  3  gasoline     hyundai          no   \n",
       "\n",
       "             DateCreated  NumberOfPictures  PostalCode          LastSeen  \n",
       "299611  04/03/2016 00:00                 0       23730  17/03/2016 11:45  \n",
       "203529  08/03/2016 00:00                 0       53332  10/03/2016 10:44  \n",
       "122018  26/03/2016 00:00                 0       45888  06/04/2016 02:17  \n",
       "129061  28/03/2016 00:00                 0       45478  02/04/2016 14:18  \n",
       "217584  27/03/2016 00:00                 0       38543  05/04/2016 18:16  "
      ]
     },
     "metadata": {},
     "output_type": "display_data"
    }
   ],
   "source": [
    "#import dataset\n",
    "\n",
    "df = pd.read_csv('/datasets/car_data.csv')\n",
    "df.info()\n",
    "display(df.sample(5))"
   ]
  },
  {
   "cell_type": "code",
   "execution_count": 3,
   "metadata": {},
   "outputs": [
    {
     "name": "stdout",
     "output_type": "stream",
     "text": [
      "<class 'pandas.core.frame.DataFrame'>\n",
      "RangeIndex: 354369 entries, 0 to 354368\n",
      "Data columns (total 16 columns):\n",
      " #   Column             Non-Null Count   Dtype         \n",
      "---  ------             --------------   -----         \n",
      " 0   DateCrawled        354369 non-null  datetime64[ns]\n",
      " 1   Price              354369 non-null  int64         \n",
      " 2   VehicleType        316879 non-null  object        \n",
      " 3   RegistrationYear   354369 non-null  int64         \n",
      " 4   Gearbox            334536 non-null  object        \n",
      " 5   Power              354369 non-null  int64         \n",
      " 6   Model              334664 non-null  object        \n",
      " 7   Mileage            354369 non-null  int64         \n",
      " 8   RegistrationMonth  354369 non-null  int64         \n",
      " 9   FuelType           321474 non-null  object        \n",
      " 10  Brand              354369 non-null  object        \n",
      " 11  NotRepaired        283215 non-null  object        \n",
      " 12  DateCreated        354369 non-null  datetime64[ns]\n",
      " 13  NumberOfPictures   354369 non-null  int64         \n",
      " 14  PostalCode         354369 non-null  int64         \n",
      " 15  LastSeen           354369 non-null  datetime64[ns]\n",
      "dtypes: datetime64[ns](3), int64(7), object(6)\n",
      "memory usage: 43.3+ MB\n"
     ]
    }
   ],
   "source": [
    "#Change data type of DateCrawled, DateCreated and LastSeen to datetime\n",
    "\n",
    "df['DateCrawled'] = pd.to_datetime(df['DateCrawled'], format= '%d/%m/%Y %H:%M')\n",
    "df['DateCreated'] = pd.to_datetime(df['DateCreated'], format= '%d/%m/%Y %H:%M')\n",
    "df['LastSeen'] = pd.to_datetime(df['LastSeen'], format= '%d/%m/%Y %H:%M')\n",
    "\n",
    "#check to see that coversion was successful\n",
    "df.info()"
   ]
  },
  {
   "cell_type": "markdown",
   "metadata": {},
   "source": [
    "Next we will look into the missing values for VehicleType, Model, Gearbox, FuelType and  NotRepaired columns to see if it is important to fill these missing values and how to best do so."
   ]
  },
  {
   "cell_type": "code",
   "execution_count": 4,
   "metadata": {},
   "outputs": [
    {
     "name": "stdout",
     "output_type": "stream",
     "text": [
      "[nan 'coupe' 'suv' 'small' 'sedan' 'convertible' 'bus' 'wagon' 'other']\n"
     ]
    },
    {
     "data": {
      "text/html": [
       "<div>\n",
       "<style scoped>\n",
       "    .dataframe tbody tr th:only-of-type {\n",
       "        vertical-align: middle;\n",
       "    }\n",
       "\n",
       "    .dataframe tbody tr th {\n",
       "        vertical-align: top;\n",
       "    }\n",
       "\n",
       "    .dataframe thead th {\n",
       "        text-align: right;\n",
       "    }\n",
       "</style>\n",
       "<table border=\"1\" class=\"dataframe\">\n",
       "  <thead>\n",
       "    <tr style=\"text-align: right;\">\n",
       "      <th></th>\n",
       "      <th>DateCrawled</th>\n",
       "      <th>Price</th>\n",
       "      <th>VehicleType</th>\n",
       "      <th>RegistrationYear</th>\n",
       "      <th>Gearbox</th>\n",
       "      <th>Power</th>\n",
       "      <th>Model</th>\n",
       "      <th>Mileage</th>\n",
       "      <th>RegistrationMonth</th>\n",
       "      <th>FuelType</th>\n",
       "      <th>Brand</th>\n",
       "      <th>NotRepaired</th>\n",
       "      <th>DateCreated</th>\n",
       "      <th>NumberOfPictures</th>\n",
       "      <th>PostalCode</th>\n",
       "      <th>LastSeen</th>\n",
       "    </tr>\n",
       "  </thead>\n",
       "  <tbody>\n",
       "    <tr>\n",
       "      <th>0</th>\n",
       "      <td>2016-03-24 11:52:00</td>\n",
       "      <td>480</td>\n",
       "      <td>NaN</td>\n",
       "      <td>1993</td>\n",
       "      <td>manual</td>\n",
       "      <td>0</td>\n",
       "      <td>golf</td>\n",
       "      <td>150000</td>\n",
       "      <td>0</td>\n",
       "      <td>petrol</td>\n",
       "      <td>volkswagen</td>\n",
       "      <td>NaN</td>\n",
       "      <td>2016-03-24</td>\n",
       "      <td>0</td>\n",
       "      <td>70435</td>\n",
       "      <td>2016-04-07 03:16:00</td>\n",
       "    </tr>\n",
       "    <tr>\n",
       "      <th>16</th>\n",
       "      <td>2016-04-01 12:46:00</td>\n",
       "      <td>300</td>\n",
       "      <td>NaN</td>\n",
       "      <td>2016</td>\n",
       "      <td>NaN</td>\n",
       "      <td>60</td>\n",
       "      <td>polo</td>\n",
       "      <td>150000</td>\n",
       "      <td>0</td>\n",
       "      <td>petrol</td>\n",
       "      <td>volkswagen</td>\n",
       "      <td>NaN</td>\n",
       "      <td>2016-04-01</td>\n",
       "      <td>0</td>\n",
       "      <td>38871</td>\n",
       "      <td>2016-04-01 12:46:00</td>\n",
       "    </tr>\n",
       "    <tr>\n",
       "      <th>22</th>\n",
       "      <td>2016-03-23 14:52:00</td>\n",
       "      <td>2900</td>\n",
       "      <td>NaN</td>\n",
       "      <td>2018</td>\n",
       "      <td>manual</td>\n",
       "      <td>90</td>\n",
       "      <td>meriva</td>\n",
       "      <td>150000</td>\n",
       "      <td>5</td>\n",
       "      <td>petrol</td>\n",
       "      <td>opel</td>\n",
       "      <td>no</td>\n",
       "      <td>2016-03-23</td>\n",
       "      <td>0</td>\n",
       "      <td>49716</td>\n",
       "      <td>2016-03-31 01:16:00</td>\n",
       "    </tr>\n",
       "    <tr>\n",
       "      <th>26</th>\n",
       "      <td>2016-03-10 19:38:00</td>\n",
       "      <td>5555</td>\n",
       "      <td>NaN</td>\n",
       "      <td>2017</td>\n",
       "      <td>manual</td>\n",
       "      <td>125</td>\n",
       "      <td>c4</td>\n",
       "      <td>125000</td>\n",
       "      <td>4</td>\n",
       "      <td>NaN</td>\n",
       "      <td>citroen</td>\n",
       "      <td>no</td>\n",
       "      <td>2016-03-10</td>\n",
       "      <td>0</td>\n",
       "      <td>31139</td>\n",
       "      <td>2016-03-16 09:16:00</td>\n",
       "    </tr>\n",
       "    <tr>\n",
       "      <th>31</th>\n",
       "      <td>2016-03-29 16:57:00</td>\n",
       "      <td>899</td>\n",
       "      <td>NaN</td>\n",
       "      <td>2016</td>\n",
       "      <td>manual</td>\n",
       "      <td>60</td>\n",
       "      <td>clio</td>\n",
       "      <td>150000</td>\n",
       "      <td>6</td>\n",
       "      <td>petrol</td>\n",
       "      <td>renault</td>\n",
       "      <td>NaN</td>\n",
       "      <td>2016-03-29</td>\n",
       "      <td>0</td>\n",
       "      <td>37075</td>\n",
       "      <td>2016-03-29 17:43:00</td>\n",
       "    </tr>\n",
       "    <tr>\n",
       "      <th>...</th>\n",
       "      <td>...</td>\n",
       "      <td>...</td>\n",
       "      <td>...</td>\n",
       "      <td>...</td>\n",
       "      <td>...</td>\n",
       "      <td>...</td>\n",
       "      <td>...</td>\n",
       "      <td>...</td>\n",
       "      <td>...</td>\n",
       "      <td>...</td>\n",
       "      <td>...</td>\n",
       "      <td>...</td>\n",
       "      <td>...</td>\n",
       "      <td>...</td>\n",
       "      <td>...</td>\n",
       "      <td>...</td>\n",
       "    </tr>\n",
       "    <tr>\n",
       "      <th>354346</th>\n",
       "      <td>2016-03-07 17:06:00</td>\n",
       "      <td>2600</td>\n",
       "      <td>NaN</td>\n",
       "      <td>2005</td>\n",
       "      <td>auto</td>\n",
       "      <td>0</td>\n",
       "      <td>c_klasse</td>\n",
       "      <td>150000</td>\n",
       "      <td>9</td>\n",
       "      <td>NaN</td>\n",
       "      <td>mercedes_benz</td>\n",
       "      <td>NaN</td>\n",
       "      <td>2016-03-07</td>\n",
       "      <td>0</td>\n",
       "      <td>61169</td>\n",
       "      <td>2016-03-08 21:28:00</td>\n",
       "    </tr>\n",
       "    <tr>\n",
       "      <th>354351</th>\n",
       "      <td>2016-03-11 23:40:00</td>\n",
       "      <td>1900</td>\n",
       "      <td>NaN</td>\n",
       "      <td>2000</td>\n",
       "      <td>manual</td>\n",
       "      <td>110</td>\n",
       "      <td>NaN</td>\n",
       "      <td>150000</td>\n",
       "      <td>7</td>\n",
       "      <td>NaN</td>\n",
       "      <td>volkswagen</td>\n",
       "      <td>no</td>\n",
       "      <td>2016-03-11</td>\n",
       "      <td>0</td>\n",
       "      <td>87700</td>\n",
       "      <td>2016-03-12 14:16:00</td>\n",
       "    </tr>\n",
       "    <tr>\n",
       "      <th>354361</th>\n",
       "      <td>2016-03-09 13:37:00</td>\n",
       "      <td>5250</td>\n",
       "      <td>NaN</td>\n",
       "      <td>2016</td>\n",
       "      <td>auto</td>\n",
       "      <td>150</td>\n",
       "      <td>159</td>\n",
       "      <td>150000</td>\n",
       "      <td>12</td>\n",
       "      <td>NaN</td>\n",
       "      <td>alfa_romeo</td>\n",
       "      <td>no</td>\n",
       "      <td>2016-03-09</td>\n",
       "      <td>0</td>\n",
       "      <td>51371</td>\n",
       "      <td>2016-03-13 01:44:00</td>\n",
       "    </tr>\n",
       "    <tr>\n",
       "      <th>354364</th>\n",
       "      <td>2016-03-21 09:50:00</td>\n",
       "      <td>0</td>\n",
       "      <td>NaN</td>\n",
       "      <td>2005</td>\n",
       "      <td>manual</td>\n",
       "      <td>0</td>\n",
       "      <td>colt</td>\n",
       "      <td>150000</td>\n",
       "      <td>7</td>\n",
       "      <td>petrol</td>\n",
       "      <td>mitsubishi</td>\n",
       "      <td>yes</td>\n",
       "      <td>2016-03-21</td>\n",
       "      <td>0</td>\n",
       "      <td>2694</td>\n",
       "      <td>2016-03-21 10:42:00</td>\n",
       "    </tr>\n",
       "    <tr>\n",
       "      <th>354365</th>\n",
       "      <td>2016-03-14 17:48:00</td>\n",
       "      <td>2200</td>\n",
       "      <td>NaN</td>\n",
       "      <td>2005</td>\n",
       "      <td>NaN</td>\n",
       "      <td>0</td>\n",
       "      <td>NaN</td>\n",
       "      <td>20000</td>\n",
       "      <td>1</td>\n",
       "      <td>NaN</td>\n",
       "      <td>sonstige_autos</td>\n",
       "      <td>NaN</td>\n",
       "      <td>2016-03-14</td>\n",
       "      <td>0</td>\n",
       "      <td>39576</td>\n",
       "      <td>2016-04-06 00:46:00</td>\n",
       "    </tr>\n",
       "  </tbody>\n",
       "</table>\n",
       "<p>37490 rows × 16 columns</p>\n",
       "</div>"
      ],
      "text/plain": [
       "               DateCrawled  Price VehicleType  RegistrationYear Gearbox  \\\n",
       "0      2016-03-24 11:52:00    480         NaN              1993  manual   \n",
       "16     2016-04-01 12:46:00    300         NaN              2016     NaN   \n",
       "22     2016-03-23 14:52:00   2900         NaN              2018  manual   \n",
       "26     2016-03-10 19:38:00   5555         NaN              2017  manual   \n",
       "31     2016-03-29 16:57:00    899         NaN              2016  manual   \n",
       "...                    ...    ...         ...               ...     ...   \n",
       "354346 2016-03-07 17:06:00   2600         NaN              2005    auto   \n",
       "354351 2016-03-11 23:40:00   1900         NaN              2000  manual   \n",
       "354361 2016-03-09 13:37:00   5250         NaN              2016    auto   \n",
       "354364 2016-03-21 09:50:00      0         NaN              2005  manual   \n",
       "354365 2016-03-14 17:48:00   2200         NaN              2005     NaN   \n",
       "\n",
       "        Power     Model  Mileage  RegistrationMonth FuelType           Brand  \\\n",
       "0           0      golf   150000                  0   petrol      volkswagen   \n",
       "16         60      polo   150000                  0   petrol      volkswagen   \n",
       "22         90    meriva   150000                  5   petrol            opel   \n",
       "26        125        c4   125000                  4      NaN         citroen   \n",
       "31         60      clio   150000                  6   petrol         renault   \n",
       "...       ...       ...      ...                ...      ...             ...   \n",
       "354346      0  c_klasse   150000                  9      NaN   mercedes_benz   \n",
       "354351    110       NaN   150000                  7      NaN      volkswagen   \n",
       "354361    150       159   150000                 12      NaN      alfa_romeo   \n",
       "354364      0      colt   150000                  7   petrol      mitsubishi   \n",
       "354365      0       NaN    20000                  1      NaN  sonstige_autos   \n",
       "\n",
       "       NotRepaired DateCreated  NumberOfPictures  PostalCode  \\\n",
       "0              NaN  2016-03-24                 0       70435   \n",
       "16             NaN  2016-04-01                 0       38871   \n",
       "22              no  2016-03-23                 0       49716   \n",
       "26              no  2016-03-10                 0       31139   \n",
       "31             NaN  2016-03-29                 0       37075   \n",
       "...            ...         ...               ...         ...   \n",
       "354346         NaN  2016-03-07                 0       61169   \n",
       "354351          no  2016-03-11                 0       87700   \n",
       "354361          no  2016-03-09                 0       51371   \n",
       "354364         yes  2016-03-21                 0        2694   \n",
       "354365         NaN  2016-03-14                 0       39576   \n",
       "\n",
       "                  LastSeen  \n",
       "0      2016-04-07 03:16:00  \n",
       "16     2016-04-01 12:46:00  \n",
       "22     2016-03-31 01:16:00  \n",
       "26     2016-03-16 09:16:00  \n",
       "31     2016-03-29 17:43:00  \n",
       "...                    ...  \n",
       "354346 2016-03-08 21:28:00  \n",
       "354351 2016-03-12 14:16:00  \n",
       "354361 2016-03-13 01:44:00  \n",
       "354364 2016-03-21 10:42:00  \n",
       "354365 2016-04-06 00:46:00  \n",
       "\n",
       "[37490 rows x 16 columns]"
      ]
     },
     "metadata": {},
     "output_type": "display_data"
    },
    {
     "name": "stdout",
     "output_type": "stream",
     "text": [
      "0.1057936783409384\n"
     ]
    }
   ],
   "source": [
    "print(df['VehicleType'].unique())\n",
    "display(df[df['VehicleType'].isna()])\n",
    "print(df['VehicleType'].isna().sum()/354369)"
   ]
  },
  {
   "cell_type": "markdown",
   "metadata": {},
   "source": [
    "Over 10% of these values are missing.  We will fill these with 'unknown'."
   ]
  },
  {
   "cell_type": "markdown",
   "metadata": {},
   "source": [
    "<div style=\"border: 5px solid green; padding: 15px; margin: 5px\">\n",
    "<b>   Reviewer's comment </b>\n",
    "    \n",
    "It's a good decision to fill in the gaps with some unique value, it's better than deleting them. Moreover, it is normal that sometimes sellers do not specify some information. The model should \"know\" about such cases. We even should not use median or mode. Even though the median does not skew the distribution, we have to many missing values to fill in because there is a risk of biasing the data.   \n",
    "    \n",
    "</div>"
   ]
  },
  {
   "cell_type": "code",
   "execution_count": 5,
   "metadata": {},
   "outputs": [
    {
     "name": "stdout",
     "output_type": "stream",
     "text": [
      "['unknown' 'coupe' 'suv' 'small' 'sedan' 'convertible' 'bus' 'wagon'\n",
      " 'other']\n"
     ]
    }
   ],
   "source": [
    "df['VehicleType']= df['VehicleType'].fillna('unknown')\n",
    "print(df['VehicleType'].unique())"
   ]
  },
  {
   "cell_type": "code",
   "execution_count": 6,
   "metadata": {},
   "outputs": [
    {
     "name": "stdout",
     "output_type": "stream",
     "text": [
      "['golf' nan 'grand' 'fabia' '3er' '2_reihe' 'other' 'c_max' '3_reihe'\n",
      " 'passat' 'navara' 'ka' 'polo' 'twingo' 'a_klasse' 'scirocco' '5er'\n",
      " 'meriva' 'arosa' 'c4' 'civic' 'transporter' 'punto' 'e_klasse' 'clio'\n",
      " 'kadett' 'kangoo' 'corsa' 'one' 'fortwo' '1er' 'b_klasse' 'signum'\n",
      " 'astra' 'a8' 'jetta' 'fiesta' 'c_klasse' 'micra' 'vito' 'sprinter' '156'\n",
      " 'escort' 'forester' 'xc_reihe' 'scenic' 'a4' 'a1' 'insignia' 'combo'\n",
      " 'focus' 'tt' 'a6' 'jazz' 'omega' 'slk' '7er' '80' '147' '100' 'z_reihe'\n",
      " 'sportage' 'sorento' 'v40' 'ibiza' 'mustang' 'eos' 'touran' 'getz' 'a3'\n",
      " 'almera' 'megane' 'lupo' 'r19' 'zafira' 'caddy' 'mondeo' 'cordoba' 'colt'\n",
      " 'impreza' 'vectra' 'berlingo' 'tiguan' 'i_reihe' 'espace' 'sharan'\n",
      " '6_reihe' 'panda' 'up' 'seicento' 'ceed' '5_reihe' 'yeti' 'octavia' 'mii'\n",
      " 'rx_reihe' '6er' 'modus' 'fox' 'matiz' 'beetle' 'c1' 'rio' 'touareg'\n",
      " 'logan' 'spider' 'cuore' 's_max' 'a2' 'galaxy' 'c3' 'viano' 's_klasse'\n",
      " '1_reihe' 'avensis' 'roomster' 'sl' 'kaefer' 'santa' 'cooper' 'leon'\n",
      " '4_reihe' 'a5' '500' 'laguna' 'ptcruiser' 'clk' 'primera' 'x_reihe'\n",
      " 'exeo' '159' 'transit' 'juke' 'qashqai' 'carisma' 'accord' 'corolla'\n",
      " 'lanos' 'phaeton' 'verso' 'swift' 'rav' 'picanto' 'boxster' 'kalos'\n",
      " 'superb' 'stilo' 'alhambra' 'mx_reihe' 'roadster' 'ypsilon' 'cayenne'\n",
      " 'galant' 'justy' '90' 'sirion' 'crossfire' 'agila' 'duster' 'cr_reihe'\n",
      " 'v50' 'c_reihe' 'v_klasse' 'm_klasse' 'yaris' 'c5' 'aygo' 'cc' 'carnival'\n",
      " 'fusion' '911' 'bora' 'forfour' 'm_reihe' 'cl' 'tigra' '300c' 'spark'\n",
      " 'v70' 'kuga' 'x_type' 'ducato' 's_type' 'x_trail' 'toledo' 'altea'\n",
      " 'voyager' 'calibra' 'bravo' 'antara' 'tucson' 'citigo' 'jimny' 'wrangler'\n",
      " 'lybra' 'q7' 'lancer' 'captiva' 'c2' 'discovery' 'freelander' 'sandero'\n",
      " 'note' '900' 'cherokee' 'clubman' 'samara' 'defender' '601' 'cx_reihe'\n",
      " 'legacy' 'pajero' 'auris' 'niva' 's60' 'nubira' 'vivaro' 'g_klasse'\n",
      " 'lodgy' '850' 'range_rover' 'q3' 'serie_2' 'glk' 'charade' 'croma'\n",
      " 'outlander' 'doblo' 'musa' 'move' '9000' 'v60' '145' 'aveo' '200' 'b_max'\n",
      " 'range_rover_sport' 'terios' 'rangerover' 'q5' 'range_rover_evoque'\n",
      " 'materia' 'delta' 'gl' 'kalina' 'amarok' 'elefantino' 'i3' 'kappa'\n",
      " 'serie_3' 'serie_1']\n"
     ]
    },
    {
     "data": {
      "text/html": [
       "<div>\n",
       "<style scoped>\n",
       "    .dataframe tbody tr th:only-of-type {\n",
       "        vertical-align: middle;\n",
       "    }\n",
       "\n",
       "    .dataframe tbody tr th {\n",
       "        vertical-align: top;\n",
       "    }\n",
       "\n",
       "    .dataframe thead th {\n",
       "        text-align: right;\n",
       "    }\n",
       "</style>\n",
       "<table border=\"1\" class=\"dataframe\">\n",
       "  <thead>\n",
       "    <tr style=\"text-align: right;\">\n",
       "      <th></th>\n",
       "      <th>DateCrawled</th>\n",
       "      <th>Price</th>\n",
       "      <th>VehicleType</th>\n",
       "      <th>RegistrationYear</th>\n",
       "      <th>Gearbox</th>\n",
       "      <th>Power</th>\n",
       "      <th>Model</th>\n",
       "      <th>Mileage</th>\n",
       "      <th>RegistrationMonth</th>\n",
       "      <th>FuelType</th>\n",
       "      <th>Brand</th>\n",
       "      <th>NotRepaired</th>\n",
       "      <th>DateCreated</th>\n",
       "      <th>NumberOfPictures</th>\n",
       "      <th>PostalCode</th>\n",
       "      <th>LastSeen</th>\n",
       "    </tr>\n",
       "  </thead>\n",
       "  <tbody>\n",
       "    <tr>\n",
       "      <th>1</th>\n",
       "      <td>2016-03-24 10:58:00</td>\n",
       "      <td>18300</td>\n",
       "      <td>coupe</td>\n",
       "      <td>2011</td>\n",
       "      <td>manual</td>\n",
       "      <td>190</td>\n",
       "      <td>NaN</td>\n",
       "      <td>125000</td>\n",
       "      <td>5</td>\n",
       "      <td>gasoline</td>\n",
       "      <td>audi</td>\n",
       "      <td>yes</td>\n",
       "      <td>2016-03-24</td>\n",
       "      <td>0</td>\n",
       "      <td>66954</td>\n",
       "      <td>2016-04-07 01:46:00</td>\n",
       "    </tr>\n",
       "    <tr>\n",
       "      <th>59</th>\n",
       "      <td>2016-03-29 15:48:00</td>\n",
       "      <td>1</td>\n",
       "      <td>suv</td>\n",
       "      <td>1994</td>\n",
       "      <td>manual</td>\n",
       "      <td>286</td>\n",
       "      <td>NaN</td>\n",
       "      <td>150000</td>\n",
       "      <td>11</td>\n",
       "      <td>NaN</td>\n",
       "      <td>sonstige_autos</td>\n",
       "      <td>NaN</td>\n",
       "      <td>2016-03-29</td>\n",
       "      <td>0</td>\n",
       "      <td>53721</td>\n",
       "      <td>2016-04-06 01:44:00</td>\n",
       "    </tr>\n",
       "    <tr>\n",
       "      <th>81</th>\n",
       "      <td>2016-04-03 12:56:00</td>\n",
       "      <td>350</td>\n",
       "      <td>small</td>\n",
       "      <td>1997</td>\n",
       "      <td>manual</td>\n",
       "      <td>54</td>\n",
       "      <td>NaN</td>\n",
       "      <td>150000</td>\n",
       "      <td>3</td>\n",
       "      <td>NaN</td>\n",
       "      <td>fiat</td>\n",
       "      <td>yes</td>\n",
       "      <td>2016-04-03</td>\n",
       "      <td>0</td>\n",
       "      <td>45665</td>\n",
       "      <td>2016-04-05 11:47:00</td>\n",
       "    </tr>\n",
       "    <tr>\n",
       "      <th>115</th>\n",
       "      <td>2016-03-20 18:53:00</td>\n",
       "      <td>0</td>\n",
       "      <td>small</td>\n",
       "      <td>1999</td>\n",
       "      <td>NaN</td>\n",
       "      <td>0</td>\n",
       "      <td>NaN</td>\n",
       "      <td>5000</td>\n",
       "      <td>0</td>\n",
       "      <td>petrol</td>\n",
       "      <td>volkswagen</td>\n",
       "      <td>NaN</td>\n",
       "      <td>2016-03-20</td>\n",
       "      <td>0</td>\n",
       "      <td>37520</td>\n",
       "      <td>2016-04-07 02:45:00</td>\n",
       "    </tr>\n",
       "    <tr>\n",
       "      <th>135</th>\n",
       "      <td>2016-03-27 20:51:00</td>\n",
       "      <td>1450</td>\n",
       "      <td>sedan</td>\n",
       "      <td>1992</td>\n",
       "      <td>manual</td>\n",
       "      <td>136</td>\n",
       "      <td>NaN</td>\n",
       "      <td>150000</td>\n",
       "      <td>0</td>\n",
       "      <td>NaN</td>\n",
       "      <td>audi</td>\n",
       "      <td>no</td>\n",
       "      <td>2016-03-27</td>\n",
       "      <td>0</td>\n",
       "      <td>38709</td>\n",
       "      <td>2016-04-05 20:17:00</td>\n",
       "    </tr>\n",
       "    <tr>\n",
       "      <th>...</th>\n",
       "      <td>...</td>\n",
       "      <td>...</td>\n",
       "      <td>...</td>\n",
       "      <td>...</td>\n",
       "      <td>...</td>\n",
       "      <td>...</td>\n",
       "      <td>...</td>\n",
       "      <td>...</td>\n",
       "      <td>...</td>\n",
       "      <td>...</td>\n",
       "      <td>...</td>\n",
       "      <td>...</td>\n",
       "      <td>...</td>\n",
       "      <td>...</td>\n",
       "      <td>...</td>\n",
       "      <td>...</td>\n",
       "    </tr>\n",
       "    <tr>\n",
       "      <th>354245</th>\n",
       "      <td>2016-03-07 16:37:00</td>\n",
       "      <td>560</td>\n",
       "      <td>small</td>\n",
       "      <td>2001</td>\n",
       "      <td>auto</td>\n",
       "      <td>170</td>\n",
       "      <td>NaN</td>\n",
       "      <td>90000</td>\n",
       "      <td>0</td>\n",
       "      <td>petrol</td>\n",
       "      <td>fiat</td>\n",
       "      <td>yes</td>\n",
       "      <td>2016-03-07</td>\n",
       "      <td>0</td>\n",
       "      <td>55743</td>\n",
       "      <td>2016-03-12 21:45:00</td>\n",
       "    </tr>\n",
       "    <tr>\n",
       "      <th>354321</th>\n",
       "      <td>2016-03-15 13:52:00</td>\n",
       "      <td>9400</td>\n",
       "      <td>wagon</td>\n",
       "      <td>2007</td>\n",
       "      <td>manual</td>\n",
       "      <td>200</td>\n",
       "      <td>NaN</td>\n",
       "      <td>150000</td>\n",
       "      <td>4</td>\n",
       "      <td>gasoline</td>\n",
       "      <td>sonstige_autos</td>\n",
       "      <td>yes</td>\n",
       "      <td>2016-03-15</td>\n",
       "      <td>0</td>\n",
       "      <td>91186</td>\n",
       "      <td>2016-03-17 08:16:00</td>\n",
       "    </tr>\n",
       "    <tr>\n",
       "      <th>354338</th>\n",
       "      <td>2016-03-31 19:52:00</td>\n",
       "      <td>180</td>\n",
       "      <td>unknown</td>\n",
       "      <td>1995</td>\n",
       "      <td>NaN</td>\n",
       "      <td>0</td>\n",
       "      <td>NaN</td>\n",
       "      <td>125000</td>\n",
       "      <td>3</td>\n",
       "      <td>petrol</td>\n",
       "      <td>opel</td>\n",
       "      <td>NaN</td>\n",
       "      <td>2016-03-31</td>\n",
       "      <td>0</td>\n",
       "      <td>41470</td>\n",
       "      <td>2016-04-06 14:18:00</td>\n",
       "    </tr>\n",
       "    <tr>\n",
       "      <th>354351</th>\n",
       "      <td>2016-03-11 23:40:00</td>\n",
       "      <td>1900</td>\n",
       "      <td>unknown</td>\n",
       "      <td>2000</td>\n",
       "      <td>manual</td>\n",
       "      <td>110</td>\n",
       "      <td>NaN</td>\n",
       "      <td>150000</td>\n",
       "      <td>7</td>\n",
       "      <td>NaN</td>\n",
       "      <td>volkswagen</td>\n",
       "      <td>no</td>\n",
       "      <td>2016-03-11</td>\n",
       "      <td>0</td>\n",
       "      <td>87700</td>\n",
       "      <td>2016-03-12 14:16:00</td>\n",
       "    </tr>\n",
       "    <tr>\n",
       "      <th>354365</th>\n",
       "      <td>2016-03-14 17:48:00</td>\n",
       "      <td>2200</td>\n",
       "      <td>unknown</td>\n",
       "      <td>2005</td>\n",
       "      <td>NaN</td>\n",
       "      <td>0</td>\n",
       "      <td>NaN</td>\n",
       "      <td>20000</td>\n",
       "      <td>1</td>\n",
       "      <td>NaN</td>\n",
       "      <td>sonstige_autos</td>\n",
       "      <td>NaN</td>\n",
       "      <td>2016-03-14</td>\n",
       "      <td>0</td>\n",
       "      <td>39576</td>\n",
       "      <td>2016-04-06 00:46:00</td>\n",
       "    </tr>\n",
       "  </tbody>\n",
       "</table>\n",
       "<p>19705 rows × 16 columns</p>\n",
       "</div>"
      ],
      "text/plain": [
       "               DateCrawled  Price VehicleType  RegistrationYear Gearbox  \\\n",
       "1      2016-03-24 10:58:00  18300       coupe              2011  manual   \n",
       "59     2016-03-29 15:48:00      1         suv              1994  manual   \n",
       "81     2016-04-03 12:56:00    350       small              1997  manual   \n",
       "115    2016-03-20 18:53:00      0       small              1999     NaN   \n",
       "135    2016-03-27 20:51:00   1450       sedan              1992  manual   \n",
       "...                    ...    ...         ...               ...     ...   \n",
       "354245 2016-03-07 16:37:00    560       small              2001    auto   \n",
       "354321 2016-03-15 13:52:00   9400       wagon              2007  manual   \n",
       "354338 2016-03-31 19:52:00    180     unknown              1995     NaN   \n",
       "354351 2016-03-11 23:40:00   1900     unknown              2000  manual   \n",
       "354365 2016-03-14 17:48:00   2200     unknown              2005     NaN   \n",
       "\n",
       "        Power Model  Mileage  RegistrationMonth  FuelType           Brand  \\\n",
       "1         190   NaN   125000                  5  gasoline            audi   \n",
       "59        286   NaN   150000                 11       NaN  sonstige_autos   \n",
       "81         54   NaN   150000                  3       NaN            fiat   \n",
       "115         0   NaN     5000                  0    petrol      volkswagen   \n",
       "135       136   NaN   150000                  0       NaN            audi   \n",
       "...       ...   ...      ...                ...       ...             ...   \n",
       "354245    170   NaN    90000                  0    petrol            fiat   \n",
       "354321    200   NaN   150000                  4  gasoline  sonstige_autos   \n",
       "354338      0   NaN   125000                  3    petrol            opel   \n",
       "354351    110   NaN   150000                  7       NaN      volkswagen   \n",
       "354365      0   NaN    20000                  1       NaN  sonstige_autos   \n",
       "\n",
       "       NotRepaired DateCreated  NumberOfPictures  PostalCode  \\\n",
       "1              yes  2016-03-24                 0       66954   \n",
       "59             NaN  2016-03-29                 0       53721   \n",
       "81             yes  2016-04-03                 0       45665   \n",
       "115            NaN  2016-03-20                 0       37520   \n",
       "135             no  2016-03-27                 0       38709   \n",
       "...            ...         ...               ...         ...   \n",
       "354245         yes  2016-03-07                 0       55743   \n",
       "354321         yes  2016-03-15                 0       91186   \n",
       "354338         NaN  2016-03-31                 0       41470   \n",
       "354351          no  2016-03-11                 0       87700   \n",
       "354365         NaN  2016-03-14                 0       39576   \n",
       "\n",
       "                  LastSeen  \n",
       "1      2016-04-07 01:46:00  \n",
       "59     2016-04-06 01:44:00  \n",
       "81     2016-04-05 11:47:00  \n",
       "115    2016-04-07 02:45:00  \n",
       "135    2016-04-05 20:17:00  \n",
       "...                    ...  \n",
       "354245 2016-03-12 21:45:00  \n",
       "354321 2016-03-17 08:16:00  \n",
       "354338 2016-04-06 14:18:00  \n",
       "354351 2016-03-12 14:16:00  \n",
       "354365 2016-04-06 00:46:00  \n",
       "\n",
       "[19705 rows x 16 columns]"
      ]
     },
     "metadata": {},
     "output_type": "display_data"
    },
    {
     "name": "stdout",
     "output_type": "stream",
     "text": [
      "0.055605879746817584\n"
     ]
    }
   ],
   "source": [
    "print(df['Model'].unique())\n",
    "display(df[df['Model'].isna()])\n",
    "print(df['Model'].isna().sum()/354369)"
   ]
  },
  {
   "cell_type": "markdown",
   "metadata": {},
   "source": [
    "Just over 5% of this data is missing, but we can fill these and add them to the 'other' category"
   ]
  },
  {
   "cell_type": "code",
   "execution_count": 7,
   "metadata": {},
   "outputs": [
    {
     "name": "stdout",
     "output_type": "stream",
     "text": [
      "other                 44126\n",
      "golf                  29232\n",
      "3er                   19761\n",
      "polo                  13066\n",
      "corsa                 12570\n",
      "                      ...  \n",
      "i3                        8\n",
      "serie_3                   4\n",
      "rangerover                4\n",
      "serie_1                   2\n",
      "range_rover_evoque        2\n",
      "Name: Model, Length: 250, dtype: int64\n"
     ]
    }
   ],
   "source": [
    "df['Model']= df['Model'].fillna('other')\n",
    "print(df['Model'].value_counts())"
   ]
  },
  {
   "cell_type": "markdown",
   "metadata": {},
   "source": [
    "<div style=\"border: 5px solid green; padding: 15px; margin: 5px\">\n",
    "<b>   Reviewer's comment </b>\n",
    "    \n",
    "Agreed. \n",
    "\n",
    "</div>"
   ]
  },
  {
   "cell_type": "code",
   "execution_count": 8,
   "metadata": {},
   "outputs": [
    {
     "name": "stdout",
     "output_type": "stream",
     "text": [
      "['manual' 'auto' nan]\n"
     ]
    },
    {
     "data": {
      "text/html": [
       "<div>\n",
       "<style scoped>\n",
       "    .dataframe tbody tr th:only-of-type {\n",
       "        vertical-align: middle;\n",
       "    }\n",
       "\n",
       "    .dataframe tbody tr th {\n",
       "        vertical-align: top;\n",
       "    }\n",
       "\n",
       "    .dataframe thead th {\n",
       "        text-align: right;\n",
       "    }\n",
       "</style>\n",
       "<table border=\"1\" class=\"dataframe\">\n",
       "  <thead>\n",
       "    <tr style=\"text-align: right;\">\n",
       "      <th></th>\n",
       "      <th>DateCrawled</th>\n",
       "      <th>Price</th>\n",
       "      <th>VehicleType</th>\n",
       "      <th>RegistrationYear</th>\n",
       "      <th>Gearbox</th>\n",
       "      <th>Power</th>\n",
       "      <th>Model</th>\n",
       "      <th>Mileage</th>\n",
       "      <th>RegistrationMonth</th>\n",
       "      <th>FuelType</th>\n",
       "      <th>Brand</th>\n",
       "      <th>NotRepaired</th>\n",
       "      <th>DateCreated</th>\n",
       "      <th>NumberOfPictures</th>\n",
       "      <th>PostalCode</th>\n",
       "      <th>LastSeen</th>\n",
       "    </tr>\n",
       "  </thead>\n",
       "  <tbody>\n",
       "    <tr>\n",
       "      <th>15</th>\n",
       "      <td>2016-03-11 21:39:00</td>\n",
       "      <td>450</td>\n",
       "      <td>small</td>\n",
       "      <td>1910</td>\n",
       "      <td>NaN</td>\n",
       "      <td>0</td>\n",
       "      <td>ka</td>\n",
       "      <td>5000</td>\n",
       "      <td>0</td>\n",
       "      <td>petrol</td>\n",
       "      <td>ford</td>\n",
       "      <td>NaN</td>\n",
       "      <td>2016-03-11</td>\n",
       "      <td>0</td>\n",
       "      <td>24148</td>\n",
       "      <td>2016-03-19 08:46:00</td>\n",
       "    </tr>\n",
       "    <tr>\n",
       "      <th>16</th>\n",
       "      <td>2016-04-01 12:46:00</td>\n",
       "      <td>300</td>\n",
       "      <td>unknown</td>\n",
       "      <td>2016</td>\n",
       "      <td>NaN</td>\n",
       "      <td>60</td>\n",
       "      <td>polo</td>\n",
       "      <td>150000</td>\n",
       "      <td>0</td>\n",
       "      <td>petrol</td>\n",
       "      <td>volkswagen</td>\n",
       "      <td>NaN</td>\n",
       "      <td>2016-04-01</td>\n",
       "      <td>0</td>\n",
       "      <td>38871</td>\n",
       "      <td>2016-04-01 12:46:00</td>\n",
       "    </tr>\n",
       "    <tr>\n",
       "      <th>32</th>\n",
       "      <td>2016-03-15 20:59:00</td>\n",
       "      <td>245</td>\n",
       "      <td>sedan</td>\n",
       "      <td>1994</td>\n",
       "      <td>NaN</td>\n",
       "      <td>0</td>\n",
       "      <td>golf</td>\n",
       "      <td>150000</td>\n",
       "      <td>2</td>\n",
       "      <td>petrol</td>\n",
       "      <td>volkswagen</td>\n",
       "      <td>no</td>\n",
       "      <td>2016-03-15</td>\n",
       "      <td>0</td>\n",
       "      <td>44145</td>\n",
       "      <td>2016-03-17 18:17:00</td>\n",
       "    </tr>\n",
       "    <tr>\n",
       "      <th>37</th>\n",
       "      <td>2016-03-28 17:50:00</td>\n",
       "      <td>1500</td>\n",
       "      <td>unknown</td>\n",
       "      <td>2016</td>\n",
       "      <td>NaN</td>\n",
       "      <td>0</td>\n",
       "      <td>kangoo</td>\n",
       "      <td>150000</td>\n",
       "      <td>1</td>\n",
       "      <td>gasoline</td>\n",
       "      <td>renault</td>\n",
       "      <td>no</td>\n",
       "      <td>2016-03-28</td>\n",
       "      <td>0</td>\n",
       "      <td>46483</td>\n",
       "      <td>2016-03-30 09:18:00</td>\n",
       "    </tr>\n",
       "    <tr>\n",
       "      <th>40</th>\n",
       "      <td>2016-03-26 22:06:00</td>\n",
       "      <td>0</td>\n",
       "      <td>unknown</td>\n",
       "      <td>1990</td>\n",
       "      <td>NaN</td>\n",
       "      <td>0</td>\n",
       "      <td>corsa</td>\n",
       "      <td>150000</td>\n",
       "      <td>1</td>\n",
       "      <td>petrol</td>\n",
       "      <td>opel</td>\n",
       "      <td>NaN</td>\n",
       "      <td>2016-03-26</td>\n",
       "      <td>0</td>\n",
       "      <td>56412</td>\n",
       "      <td>2016-03-27 17:43:00</td>\n",
       "    </tr>\n",
       "    <tr>\n",
       "      <th>...</th>\n",
       "      <td>...</td>\n",
       "      <td>...</td>\n",
       "      <td>...</td>\n",
       "      <td>...</td>\n",
       "      <td>...</td>\n",
       "      <td>...</td>\n",
       "      <td>...</td>\n",
       "      <td>...</td>\n",
       "      <td>...</td>\n",
       "      <td>...</td>\n",
       "      <td>...</td>\n",
       "      <td>...</td>\n",
       "      <td>...</td>\n",
       "      <td>...</td>\n",
       "      <td>...</td>\n",
       "      <td>...</td>\n",
       "    </tr>\n",
       "    <tr>\n",
       "      <th>354288</th>\n",
       "      <td>2016-03-16 13:36:00</td>\n",
       "      <td>3300</td>\n",
       "      <td>wagon</td>\n",
       "      <td>2006</td>\n",
       "      <td>NaN</td>\n",
       "      <td>0</td>\n",
       "      <td>touran</td>\n",
       "      <td>150000</td>\n",
       "      <td>7</td>\n",
       "      <td>gasoline</td>\n",
       "      <td>volkswagen</td>\n",
       "      <td>NaN</td>\n",
       "      <td>2016-03-16</td>\n",
       "      <td>0</td>\n",
       "      <td>12057</td>\n",
       "      <td>2016-03-17 12:17:00</td>\n",
       "    </tr>\n",
       "    <tr>\n",
       "      <th>354305</th>\n",
       "      <td>2016-04-03 13:46:00</td>\n",
       "      <td>3500</td>\n",
       "      <td>unknown</td>\n",
       "      <td>1995</td>\n",
       "      <td>NaN</td>\n",
       "      <td>0</td>\n",
       "      <td>polo</td>\n",
       "      <td>150000</td>\n",
       "      <td>0</td>\n",
       "      <td>NaN</td>\n",
       "      <td>volkswagen</td>\n",
       "      <td>NaN</td>\n",
       "      <td>2016-04-03</td>\n",
       "      <td>0</td>\n",
       "      <td>74579</td>\n",
       "      <td>2016-04-05 12:44:00</td>\n",
       "    </tr>\n",
       "    <tr>\n",
       "      <th>354329</th>\n",
       "      <td>2016-03-30 20:55:00</td>\n",
       "      <td>350</td>\n",
       "      <td>small</td>\n",
       "      <td>1996</td>\n",
       "      <td>NaN</td>\n",
       "      <td>65</td>\n",
       "      <td>punto</td>\n",
       "      <td>150000</td>\n",
       "      <td>0</td>\n",
       "      <td>NaN</td>\n",
       "      <td>fiat</td>\n",
       "      <td>NaN</td>\n",
       "      <td>2016-03-30</td>\n",
       "      <td>0</td>\n",
       "      <td>25436</td>\n",
       "      <td>2016-04-07 13:50:00</td>\n",
       "    </tr>\n",
       "    <tr>\n",
       "      <th>354338</th>\n",
       "      <td>2016-03-31 19:52:00</td>\n",
       "      <td>180</td>\n",
       "      <td>unknown</td>\n",
       "      <td>1995</td>\n",
       "      <td>NaN</td>\n",
       "      <td>0</td>\n",
       "      <td>other</td>\n",
       "      <td>125000</td>\n",
       "      <td>3</td>\n",
       "      <td>petrol</td>\n",
       "      <td>opel</td>\n",
       "      <td>NaN</td>\n",
       "      <td>2016-03-31</td>\n",
       "      <td>0</td>\n",
       "      <td>41470</td>\n",
       "      <td>2016-04-06 14:18:00</td>\n",
       "    </tr>\n",
       "    <tr>\n",
       "      <th>354365</th>\n",
       "      <td>2016-03-14 17:48:00</td>\n",
       "      <td>2200</td>\n",
       "      <td>unknown</td>\n",
       "      <td>2005</td>\n",
       "      <td>NaN</td>\n",
       "      <td>0</td>\n",
       "      <td>other</td>\n",
       "      <td>20000</td>\n",
       "      <td>1</td>\n",
       "      <td>NaN</td>\n",
       "      <td>sonstige_autos</td>\n",
       "      <td>NaN</td>\n",
       "      <td>2016-03-14</td>\n",
       "      <td>0</td>\n",
       "      <td>39576</td>\n",
       "      <td>2016-04-06 00:46:00</td>\n",
       "    </tr>\n",
       "  </tbody>\n",
       "</table>\n",
       "<p>19833 rows × 16 columns</p>\n",
       "</div>"
      ],
      "text/plain": [
       "               DateCrawled  Price VehicleType  RegistrationYear Gearbox  \\\n",
       "15     2016-03-11 21:39:00    450       small              1910     NaN   \n",
       "16     2016-04-01 12:46:00    300     unknown              2016     NaN   \n",
       "32     2016-03-15 20:59:00    245       sedan              1994     NaN   \n",
       "37     2016-03-28 17:50:00   1500     unknown              2016     NaN   \n",
       "40     2016-03-26 22:06:00      0     unknown              1990     NaN   \n",
       "...                    ...    ...         ...               ...     ...   \n",
       "354288 2016-03-16 13:36:00   3300       wagon              2006     NaN   \n",
       "354305 2016-04-03 13:46:00   3500     unknown              1995     NaN   \n",
       "354329 2016-03-30 20:55:00    350       small              1996     NaN   \n",
       "354338 2016-03-31 19:52:00    180     unknown              1995     NaN   \n",
       "354365 2016-03-14 17:48:00   2200     unknown              2005     NaN   \n",
       "\n",
       "        Power   Model  Mileage  RegistrationMonth  FuelType           Brand  \\\n",
       "15          0      ka     5000                  0    petrol            ford   \n",
       "16         60    polo   150000                  0    petrol      volkswagen   \n",
       "32          0    golf   150000                  2    petrol      volkswagen   \n",
       "37          0  kangoo   150000                  1  gasoline         renault   \n",
       "40          0   corsa   150000                  1    petrol            opel   \n",
       "...       ...     ...      ...                ...       ...             ...   \n",
       "354288      0  touran   150000                  7  gasoline      volkswagen   \n",
       "354305      0    polo   150000                  0       NaN      volkswagen   \n",
       "354329     65   punto   150000                  0       NaN            fiat   \n",
       "354338      0   other   125000                  3    petrol            opel   \n",
       "354365      0   other    20000                  1       NaN  sonstige_autos   \n",
       "\n",
       "       NotRepaired DateCreated  NumberOfPictures  PostalCode  \\\n",
       "15             NaN  2016-03-11                 0       24148   \n",
       "16             NaN  2016-04-01                 0       38871   \n",
       "32              no  2016-03-15                 0       44145   \n",
       "37              no  2016-03-28                 0       46483   \n",
       "40             NaN  2016-03-26                 0       56412   \n",
       "...            ...         ...               ...         ...   \n",
       "354288         NaN  2016-03-16                 0       12057   \n",
       "354305         NaN  2016-04-03                 0       74579   \n",
       "354329         NaN  2016-03-30                 0       25436   \n",
       "354338         NaN  2016-03-31                 0       41470   \n",
       "354365         NaN  2016-03-14                 0       39576   \n",
       "\n",
       "                  LastSeen  \n",
       "15     2016-03-19 08:46:00  \n",
       "16     2016-04-01 12:46:00  \n",
       "32     2016-03-17 18:17:00  \n",
       "37     2016-03-30 09:18:00  \n",
       "40     2016-03-27 17:43:00  \n",
       "...                    ...  \n",
       "354288 2016-03-17 12:17:00  \n",
       "354305 2016-04-05 12:44:00  \n",
       "354329 2016-04-07 13:50:00  \n",
       "354338 2016-04-06 14:18:00  \n",
       "354365 2016-04-06 00:46:00  \n",
       "\n",
       "[19833 rows x 16 columns]"
      ]
     },
     "metadata": {},
     "output_type": "display_data"
    },
    {
     "name": "stdout",
     "output_type": "stream",
     "text": [
      "0.055967085156997366\n"
     ]
    }
   ],
   "source": [
    "print(df['Gearbox'].unique())\n",
    "display(df[df['Gearbox'].isna()])\n",
    "print(df['Gearbox'].isna().sum()/354369)"
   ]
  },
  {
   "cell_type": "code",
   "execution_count": 9,
   "metadata": {},
   "outputs": [
    {
     "name": "stdout",
     "output_type": "stream",
     "text": [
      "manual     268251\n",
      "auto        66285\n",
      "unknown     19833\n",
      "Name: Gearbox, dtype: int64\n"
     ]
    }
   ],
   "source": [
    "df['Gearbox']= df['Gearbox'].fillna('unknown')\n",
    "print(df['Gearbox'].value_counts())"
   ]
  },
  {
   "cell_type": "code",
   "execution_count": 10,
   "metadata": {},
   "outputs": [
    {
     "name": "stdout",
     "output_type": "stream",
     "text": [
      "['petrol' 'gasoline' nan 'lpg' 'other' 'hybrid' 'cng' 'electric']\n"
     ]
    },
    {
     "data": {
      "text/html": [
       "<div>\n",
       "<style scoped>\n",
       "    .dataframe tbody tr th:only-of-type {\n",
       "        vertical-align: middle;\n",
       "    }\n",
       "\n",
       "    .dataframe tbody tr th {\n",
       "        vertical-align: top;\n",
       "    }\n",
       "\n",
       "    .dataframe thead th {\n",
       "        text-align: right;\n",
       "    }\n",
       "</style>\n",
       "<table border=\"1\" class=\"dataframe\">\n",
       "  <thead>\n",
       "    <tr style=\"text-align: right;\">\n",
       "      <th></th>\n",
       "      <th>DateCrawled</th>\n",
       "      <th>Price</th>\n",
       "      <th>VehicleType</th>\n",
       "      <th>RegistrationYear</th>\n",
       "      <th>Gearbox</th>\n",
       "      <th>Power</th>\n",
       "      <th>Model</th>\n",
       "      <th>Mileage</th>\n",
       "      <th>RegistrationMonth</th>\n",
       "      <th>FuelType</th>\n",
       "      <th>Brand</th>\n",
       "      <th>NotRepaired</th>\n",
       "      <th>DateCreated</th>\n",
       "      <th>NumberOfPictures</th>\n",
       "      <th>PostalCode</th>\n",
       "      <th>LastSeen</th>\n",
       "    </tr>\n",
       "  </thead>\n",
       "  <tbody>\n",
       "    <tr>\n",
       "      <th>9</th>\n",
       "      <td>2016-03-17 10:53:00</td>\n",
       "      <td>999</td>\n",
       "      <td>small</td>\n",
       "      <td>1998</td>\n",
       "      <td>manual</td>\n",
       "      <td>101</td>\n",
       "      <td>golf</td>\n",
       "      <td>150000</td>\n",
       "      <td>0</td>\n",
       "      <td>NaN</td>\n",
       "      <td>volkswagen</td>\n",
       "      <td>NaN</td>\n",
       "      <td>2016-03-17</td>\n",
       "      <td>0</td>\n",
       "      <td>27472</td>\n",
       "      <td>2016-03-31 17:17:00</td>\n",
       "    </tr>\n",
       "    <tr>\n",
       "      <th>13</th>\n",
       "      <td>2016-03-21 21:37:00</td>\n",
       "      <td>2500</td>\n",
       "      <td>wagon</td>\n",
       "      <td>2004</td>\n",
       "      <td>manual</td>\n",
       "      <td>131</td>\n",
       "      <td>passat</td>\n",
       "      <td>150000</td>\n",
       "      <td>2</td>\n",
       "      <td>NaN</td>\n",
       "      <td>volkswagen</td>\n",
       "      <td>no</td>\n",
       "      <td>2016-03-21</td>\n",
       "      <td>0</td>\n",
       "      <td>90762</td>\n",
       "      <td>2016-03-23 02:50:00</td>\n",
       "    </tr>\n",
       "    <tr>\n",
       "      <th>26</th>\n",
       "      <td>2016-03-10 19:38:00</td>\n",
       "      <td>5555</td>\n",
       "      <td>unknown</td>\n",
       "      <td>2017</td>\n",
       "      <td>manual</td>\n",
       "      <td>125</td>\n",
       "      <td>c4</td>\n",
       "      <td>125000</td>\n",
       "      <td>4</td>\n",
       "      <td>NaN</td>\n",
       "      <td>citroen</td>\n",
       "      <td>no</td>\n",
       "      <td>2016-03-10</td>\n",
       "      <td>0</td>\n",
       "      <td>31139</td>\n",
       "      <td>2016-03-16 09:16:00</td>\n",
       "    </tr>\n",
       "    <tr>\n",
       "      <th>36</th>\n",
       "      <td>2016-03-11 11:50:00</td>\n",
       "      <td>1600</td>\n",
       "      <td>other</td>\n",
       "      <td>1991</td>\n",
       "      <td>manual</td>\n",
       "      <td>75</td>\n",
       "      <td>kadett</td>\n",
       "      <td>70000</td>\n",
       "      <td>0</td>\n",
       "      <td>NaN</td>\n",
       "      <td>opel</td>\n",
       "      <td>NaN</td>\n",
       "      <td>2016-03-11</td>\n",
       "      <td>0</td>\n",
       "      <td>2943</td>\n",
       "      <td>2016-04-07 03:46:00</td>\n",
       "    </tr>\n",
       "    <tr>\n",
       "      <th>41</th>\n",
       "      <td>2016-03-30 20:38:00</td>\n",
       "      <td>7500</td>\n",
       "      <td>sedan</td>\n",
       "      <td>2002</td>\n",
       "      <td>auto</td>\n",
       "      <td>306</td>\n",
       "      <td>e_klasse</td>\n",
       "      <td>150000</td>\n",
       "      <td>4</td>\n",
       "      <td>NaN</td>\n",
       "      <td>mercedes_benz</td>\n",
       "      <td>NaN</td>\n",
       "      <td>2016-03-30</td>\n",
       "      <td>0</td>\n",
       "      <td>33649</td>\n",
       "      <td>2016-04-03 11:44:00</td>\n",
       "    </tr>\n",
       "    <tr>\n",
       "      <th>...</th>\n",
       "      <td>...</td>\n",
       "      <td>...</td>\n",
       "      <td>...</td>\n",
       "      <td>...</td>\n",
       "      <td>...</td>\n",
       "      <td>...</td>\n",
       "      <td>...</td>\n",
       "      <td>...</td>\n",
       "      <td>...</td>\n",
       "      <td>...</td>\n",
       "      <td>...</td>\n",
       "      <td>...</td>\n",
       "      <td>...</td>\n",
       "      <td>...</td>\n",
       "      <td>...</td>\n",
       "      <td>...</td>\n",
       "    </tr>\n",
       "    <tr>\n",
       "      <th>354339</th>\n",
       "      <td>2016-03-20 12:46:00</td>\n",
       "      <td>3850</td>\n",
       "      <td>convertible</td>\n",
       "      <td>2006</td>\n",
       "      <td>manual</td>\n",
       "      <td>108</td>\n",
       "      <td>2_reihe</td>\n",
       "      <td>125000</td>\n",
       "      <td>2</td>\n",
       "      <td>NaN</td>\n",
       "      <td>peugeot</td>\n",
       "      <td>no</td>\n",
       "      <td>2016-03-20</td>\n",
       "      <td>0</td>\n",
       "      <td>53947</td>\n",
       "      <td>2016-03-26 21:18:00</td>\n",
       "    </tr>\n",
       "    <tr>\n",
       "      <th>354346</th>\n",
       "      <td>2016-03-07 17:06:00</td>\n",
       "      <td>2600</td>\n",
       "      <td>unknown</td>\n",
       "      <td>2005</td>\n",
       "      <td>auto</td>\n",
       "      <td>0</td>\n",
       "      <td>c_klasse</td>\n",
       "      <td>150000</td>\n",
       "      <td>9</td>\n",
       "      <td>NaN</td>\n",
       "      <td>mercedes_benz</td>\n",
       "      <td>NaN</td>\n",
       "      <td>2016-03-07</td>\n",
       "      <td>0</td>\n",
       "      <td>61169</td>\n",
       "      <td>2016-03-08 21:28:00</td>\n",
       "    </tr>\n",
       "    <tr>\n",
       "      <th>354351</th>\n",
       "      <td>2016-03-11 23:40:00</td>\n",
       "      <td>1900</td>\n",
       "      <td>unknown</td>\n",
       "      <td>2000</td>\n",
       "      <td>manual</td>\n",
       "      <td>110</td>\n",
       "      <td>other</td>\n",
       "      <td>150000</td>\n",
       "      <td>7</td>\n",
       "      <td>NaN</td>\n",
       "      <td>volkswagen</td>\n",
       "      <td>no</td>\n",
       "      <td>2016-03-11</td>\n",
       "      <td>0</td>\n",
       "      <td>87700</td>\n",
       "      <td>2016-03-12 14:16:00</td>\n",
       "    </tr>\n",
       "    <tr>\n",
       "      <th>354361</th>\n",
       "      <td>2016-03-09 13:37:00</td>\n",
       "      <td>5250</td>\n",
       "      <td>unknown</td>\n",
       "      <td>2016</td>\n",
       "      <td>auto</td>\n",
       "      <td>150</td>\n",
       "      <td>159</td>\n",
       "      <td>150000</td>\n",
       "      <td>12</td>\n",
       "      <td>NaN</td>\n",
       "      <td>alfa_romeo</td>\n",
       "      <td>no</td>\n",
       "      <td>2016-03-09</td>\n",
       "      <td>0</td>\n",
       "      <td>51371</td>\n",
       "      <td>2016-03-13 01:44:00</td>\n",
       "    </tr>\n",
       "    <tr>\n",
       "      <th>354365</th>\n",
       "      <td>2016-03-14 17:48:00</td>\n",
       "      <td>2200</td>\n",
       "      <td>unknown</td>\n",
       "      <td>2005</td>\n",
       "      <td>unknown</td>\n",
       "      <td>0</td>\n",
       "      <td>other</td>\n",
       "      <td>20000</td>\n",
       "      <td>1</td>\n",
       "      <td>NaN</td>\n",
       "      <td>sonstige_autos</td>\n",
       "      <td>NaN</td>\n",
       "      <td>2016-03-14</td>\n",
       "      <td>0</td>\n",
       "      <td>39576</td>\n",
       "      <td>2016-04-06 00:46:00</td>\n",
       "    </tr>\n",
       "  </tbody>\n",
       "</table>\n",
       "<p>32895 rows × 16 columns</p>\n",
       "</div>"
      ],
      "text/plain": [
       "               DateCrawled  Price  VehicleType  RegistrationYear  Gearbox  \\\n",
       "9      2016-03-17 10:53:00    999        small              1998   manual   \n",
       "13     2016-03-21 21:37:00   2500        wagon              2004   manual   \n",
       "26     2016-03-10 19:38:00   5555      unknown              2017   manual   \n",
       "36     2016-03-11 11:50:00   1600        other              1991   manual   \n",
       "41     2016-03-30 20:38:00   7500        sedan              2002     auto   \n",
       "...                    ...    ...          ...               ...      ...   \n",
       "354339 2016-03-20 12:46:00   3850  convertible              2006   manual   \n",
       "354346 2016-03-07 17:06:00   2600      unknown              2005     auto   \n",
       "354351 2016-03-11 23:40:00   1900      unknown              2000   manual   \n",
       "354361 2016-03-09 13:37:00   5250      unknown              2016     auto   \n",
       "354365 2016-03-14 17:48:00   2200      unknown              2005  unknown   \n",
       "\n",
       "        Power     Model  Mileage  RegistrationMonth FuelType           Brand  \\\n",
       "9         101      golf   150000                  0      NaN      volkswagen   \n",
       "13        131    passat   150000                  2      NaN      volkswagen   \n",
       "26        125        c4   125000                  4      NaN         citroen   \n",
       "36         75    kadett    70000                  0      NaN            opel   \n",
       "41        306  e_klasse   150000                  4      NaN   mercedes_benz   \n",
       "...       ...       ...      ...                ...      ...             ...   \n",
       "354339    108   2_reihe   125000                  2      NaN         peugeot   \n",
       "354346      0  c_klasse   150000                  9      NaN   mercedes_benz   \n",
       "354351    110     other   150000                  7      NaN      volkswagen   \n",
       "354361    150       159   150000                 12      NaN      alfa_romeo   \n",
       "354365      0     other    20000                  1      NaN  sonstige_autos   \n",
       "\n",
       "       NotRepaired DateCreated  NumberOfPictures  PostalCode  \\\n",
       "9              NaN  2016-03-17                 0       27472   \n",
       "13              no  2016-03-21                 0       90762   \n",
       "26              no  2016-03-10                 0       31139   \n",
       "36             NaN  2016-03-11                 0        2943   \n",
       "41             NaN  2016-03-30                 0       33649   \n",
       "...            ...         ...               ...         ...   \n",
       "354339          no  2016-03-20                 0       53947   \n",
       "354346         NaN  2016-03-07                 0       61169   \n",
       "354351          no  2016-03-11                 0       87700   \n",
       "354361          no  2016-03-09                 0       51371   \n",
       "354365         NaN  2016-03-14                 0       39576   \n",
       "\n",
       "                  LastSeen  \n",
       "9      2016-03-31 17:17:00  \n",
       "13     2016-03-23 02:50:00  \n",
       "26     2016-03-16 09:16:00  \n",
       "36     2016-04-07 03:46:00  \n",
       "41     2016-04-03 11:44:00  \n",
       "...                    ...  \n",
       "354339 2016-03-26 21:18:00  \n",
       "354346 2016-03-08 21:28:00  \n",
       "354351 2016-03-12 14:16:00  \n",
       "354361 2016-03-13 01:44:00  \n",
       "354365 2016-04-06 00:46:00  \n",
       "\n",
       "[32895 rows x 16 columns]"
      ]
     },
     "metadata": {},
     "output_type": "display_data"
    },
    {
     "name": "stdout",
     "output_type": "stream",
     "text": [
      "0.09282696849893755\n"
     ]
    }
   ],
   "source": [
    "print(df['FuelType'].unique())\n",
    "display(df[df['FuelType'].isna()])\n",
    "print(df['FuelType'].isna().sum()/354369)"
   ]
  },
  {
   "cell_type": "code",
   "execution_count": 11,
   "metadata": {},
   "outputs": [
    {
     "name": "stdout",
     "output_type": "stream",
     "text": [
      "petrol      216352\n",
      "gasoline     98720\n",
      "unknown      32895\n",
      "lpg           5310\n",
      "cng            565\n",
      "hybrid         233\n",
      "other          204\n",
      "electric        90\n",
      "Name: FuelType, dtype: int64\n"
     ]
    }
   ],
   "source": [
    "df['FuelType']= df['FuelType'].fillna('unknown')\n",
    "print(df['FuelType'].value_counts())"
   ]
  },
  {
   "cell_type": "code",
   "execution_count": 12,
   "metadata": {},
   "outputs": [
    {
     "name": "stdout",
     "output_type": "stream",
     "text": [
      "[nan 'yes' 'no']\n"
     ]
    },
    {
     "data": {
      "text/html": [
       "<div>\n",
       "<style scoped>\n",
       "    .dataframe tbody tr th:only-of-type {\n",
       "        vertical-align: middle;\n",
       "    }\n",
       "\n",
       "    .dataframe tbody tr th {\n",
       "        vertical-align: top;\n",
       "    }\n",
       "\n",
       "    .dataframe thead th {\n",
       "        text-align: right;\n",
       "    }\n",
       "</style>\n",
       "<table border=\"1\" class=\"dataframe\">\n",
       "  <thead>\n",
       "    <tr style=\"text-align: right;\">\n",
       "      <th></th>\n",
       "      <th>DateCrawled</th>\n",
       "      <th>Price</th>\n",
       "      <th>VehicleType</th>\n",
       "      <th>RegistrationYear</th>\n",
       "      <th>Gearbox</th>\n",
       "      <th>Power</th>\n",
       "      <th>Model</th>\n",
       "      <th>Mileage</th>\n",
       "      <th>RegistrationMonth</th>\n",
       "      <th>FuelType</th>\n",
       "      <th>Brand</th>\n",
       "      <th>NotRepaired</th>\n",
       "      <th>DateCreated</th>\n",
       "      <th>NumberOfPictures</th>\n",
       "      <th>PostalCode</th>\n",
       "      <th>LastSeen</th>\n",
       "    </tr>\n",
       "  </thead>\n",
       "  <tbody>\n",
       "    <tr>\n",
       "      <th>0</th>\n",
       "      <td>2016-03-24 11:52:00</td>\n",
       "      <td>480</td>\n",
       "      <td>unknown</td>\n",
       "      <td>1993</td>\n",
       "      <td>manual</td>\n",
       "      <td>0</td>\n",
       "      <td>golf</td>\n",
       "      <td>150000</td>\n",
       "      <td>0</td>\n",
       "      <td>petrol</td>\n",
       "      <td>volkswagen</td>\n",
       "      <td>NaN</td>\n",
       "      <td>2016-03-24</td>\n",
       "      <td>0</td>\n",
       "      <td>70435</td>\n",
       "      <td>2016-04-07 03:16:00</td>\n",
       "    </tr>\n",
       "    <tr>\n",
       "      <th>2</th>\n",
       "      <td>2016-03-14 12:52:00</td>\n",
       "      <td>9800</td>\n",
       "      <td>suv</td>\n",
       "      <td>2004</td>\n",
       "      <td>auto</td>\n",
       "      <td>163</td>\n",
       "      <td>grand</td>\n",
       "      <td>125000</td>\n",
       "      <td>8</td>\n",
       "      <td>gasoline</td>\n",
       "      <td>jeep</td>\n",
       "      <td>NaN</td>\n",
       "      <td>2016-03-14</td>\n",
       "      <td>0</td>\n",
       "      <td>90480</td>\n",
       "      <td>2016-04-05 12:47:00</td>\n",
       "    </tr>\n",
       "    <tr>\n",
       "      <th>8</th>\n",
       "      <td>2016-04-04 23:42:00</td>\n",
       "      <td>14500</td>\n",
       "      <td>bus</td>\n",
       "      <td>2014</td>\n",
       "      <td>manual</td>\n",
       "      <td>125</td>\n",
       "      <td>c_max</td>\n",
       "      <td>30000</td>\n",
       "      <td>8</td>\n",
       "      <td>petrol</td>\n",
       "      <td>ford</td>\n",
       "      <td>NaN</td>\n",
       "      <td>2016-04-04</td>\n",
       "      <td>0</td>\n",
       "      <td>94505</td>\n",
       "      <td>2016-04-04 23:42:00</td>\n",
       "    </tr>\n",
       "    <tr>\n",
       "      <th>9</th>\n",
       "      <td>2016-03-17 10:53:00</td>\n",
       "      <td>999</td>\n",
       "      <td>small</td>\n",
       "      <td>1998</td>\n",
       "      <td>manual</td>\n",
       "      <td>101</td>\n",
       "      <td>golf</td>\n",
       "      <td>150000</td>\n",
       "      <td>0</td>\n",
       "      <td>unknown</td>\n",
       "      <td>volkswagen</td>\n",
       "      <td>NaN</td>\n",
       "      <td>2016-03-17</td>\n",
       "      <td>0</td>\n",
       "      <td>27472</td>\n",
       "      <td>2016-03-31 17:17:00</td>\n",
       "    </tr>\n",
       "    <tr>\n",
       "      <th>12</th>\n",
       "      <td>2016-03-15 22:49:00</td>\n",
       "      <td>999</td>\n",
       "      <td>wagon</td>\n",
       "      <td>1995</td>\n",
       "      <td>manual</td>\n",
       "      <td>115</td>\n",
       "      <td>passat</td>\n",
       "      <td>150000</td>\n",
       "      <td>11</td>\n",
       "      <td>petrol</td>\n",
       "      <td>volkswagen</td>\n",
       "      <td>NaN</td>\n",
       "      <td>2016-03-15</td>\n",
       "      <td>0</td>\n",
       "      <td>37269</td>\n",
       "      <td>2016-04-01 13:16:00</td>\n",
       "    </tr>\n",
       "    <tr>\n",
       "      <th>...</th>\n",
       "      <td>...</td>\n",
       "      <td>...</td>\n",
       "      <td>...</td>\n",
       "      <td>...</td>\n",
       "      <td>...</td>\n",
       "      <td>...</td>\n",
       "      <td>...</td>\n",
       "      <td>...</td>\n",
       "      <td>...</td>\n",
       "      <td>...</td>\n",
       "      <td>...</td>\n",
       "      <td>...</td>\n",
       "      <td>...</td>\n",
       "      <td>...</td>\n",
       "      <td>...</td>\n",
       "      <td>...</td>\n",
       "    </tr>\n",
       "    <tr>\n",
       "      <th>354349</th>\n",
       "      <td>2016-03-16 17:06:00</td>\n",
       "      <td>5999</td>\n",
       "      <td>wagon</td>\n",
       "      <td>2005</td>\n",
       "      <td>manual</td>\n",
       "      <td>140</td>\n",
       "      <td>a4</td>\n",
       "      <td>150000</td>\n",
       "      <td>4</td>\n",
       "      <td>gasoline</td>\n",
       "      <td>audi</td>\n",
       "      <td>NaN</td>\n",
       "      <td>2016-03-16</td>\n",
       "      <td>0</td>\n",
       "      <td>56472</td>\n",
       "      <td>2016-03-18 11:30:00</td>\n",
       "    </tr>\n",
       "    <tr>\n",
       "      <th>354356</th>\n",
       "      <td>2016-04-04 11:45:00</td>\n",
       "      <td>999</td>\n",
       "      <td>convertible</td>\n",
       "      <td>2000</td>\n",
       "      <td>manual</td>\n",
       "      <td>95</td>\n",
       "      <td>megane</td>\n",
       "      <td>150000</td>\n",
       "      <td>4</td>\n",
       "      <td>petrol</td>\n",
       "      <td>renault</td>\n",
       "      <td>NaN</td>\n",
       "      <td>2016-04-04</td>\n",
       "      <td>0</td>\n",
       "      <td>88477</td>\n",
       "      <td>2016-04-06 12:44:00</td>\n",
       "    </tr>\n",
       "    <tr>\n",
       "      <th>354357</th>\n",
       "      <td>2016-03-09 11:36:00</td>\n",
       "      <td>1690</td>\n",
       "      <td>wagon</td>\n",
       "      <td>2004</td>\n",
       "      <td>manual</td>\n",
       "      <td>55</td>\n",
       "      <td>fabia</td>\n",
       "      <td>150000</td>\n",
       "      <td>4</td>\n",
       "      <td>petrol</td>\n",
       "      <td>skoda</td>\n",
       "      <td>NaN</td>\n",
       "      <td>2016-03-09</td>\n",
       "      <td>0</td>\n",
       "      <td>18246</td>\n",
       "      <td>2016-04-04 08:15:00</td>\n",
       "    </tr>\n",
       "    <tr>\n",
       "      <th>354365</th>\n",
       "      <td>2016-03-14 17:48:00</td>\n",
       "      <td>2200</td>\n",
       "      <td>unknown</td>\n",
       "      <td>2005</td>\n",
       "      <td>unknown</td>\n",
       "      <td>0</td>\n",
       "      <td>other</td>\n",
       "      <td>20000</td>\n",
       "      <td>1</td>\n",
       "      <td>unknown</td>\n",
       "      <td>sonstige_autos</td>\n",
       "      <td>NaN</td>\n",
       "      <td>2016-03-14</td>\n",
       "      <td>0</td>\n",
       "      <td>39576</td>\n",
       "      <td>2016-04-06 00:46:00</td>\n",
       "    </tr>\n",
       "    <tr>\n",
       "      <th>354368</th>\n",
       "      <td>2016-03-20 19:41:00</td>\n",
       "      <td>3400</td>\n",
       "      <td>wagon</td>\n",
       "      <td>2002</td>\n",
       "      <td>manual</td>\n",
       "      <td>100</td>\n",
       "      <td>golf</td>\n",
       "      <td>150000</td>\n",
       "      <td>6</td>\n",
       "      <td>gasoline</td>\n",
       "      <td>volkswagen</td>\n",
       "      <td>NaN</td>\n",
       "      <td>2016-03-20</td>\n",
       "      <td>0</td>\n",
       "      <td>40764</td>\n",
       "      <td>2016-03-24 12:45:00</td>\n",
       "    </tr>\n",
       "  </tbody>\n",
       "</table>\n",
       "<p>71154 rows × 16 columns</p>\n",
       "</div>"
      ],
      "text/plain": [
       "               DateCrawled  Price  VehicleType  RegistrationYear  Gearbox  \\\n",
       "0      2016-03-24 11:52:00    480      unknown              1993   manual   \n",
       "2      2016-03-14 12:52:00   9800          suv              2004     auto   \n",
       "8      2016-04-04 23:42:00  14500          bus              2014   manual   \n",
       "9      2016-03-17 10:53:00    999        small              1998   manual   \n",
       "12     2016-03-15 22:49:00    999        wagon              1995   manual   \n",
       "...                    ...    ...          ...               ...      ...   \n",
       "354349 2016-03-16 17:06:00   5999        wagon              2005   manual   \n",
       "354356 2016-04-04 11:45:00    999  convertible              2000   manual   \n",
       "354357 2016-03-09 11:36:00   1690        wagon              2004   manual   \n",
       "354365 2016-03-14 17:48:00   2200      unknown              2005  unknown   \n",
       "354368 2016-03-20 19:41:00   3400        wagon              2002   manual   \n",
       "\n",
       "        Power   Model  Mileage  RegistrationMonth  FuelType           Brand  \\\n",
       "0           0    golf   150000                  0    petrol      volkswagen   \n",
       "2         163   grand   125000                  8  gasoline            jeep   \n",
       "8         125   c_max    30000                  8    petrol            ford   \n",
       "9         101    golf   150000                  0   unknown      volkswagen   \n",
       "12        115  passat   150000                 11    petrol      volkswagen   \n",
       "...       ...     ...      ...                ...       ...             ...   \n",
       "354349    140      a4   150000                  4  gasoline            audi   \n",
       "354356     95  megane   150000                  4    petrol         renault   \n",
       "354357     55   fabia   150000                  4    petrol           skoda   \n",
       "354365      0   other    20000                  1   unknown  sonstige_autos   \n",
       "354368    100    golf   150000                  6  gasoline      volkswagen   \n",
       "\n",
       "       NotRepaired DateCreated  NumberOfPictures  PostalCode  \\\n",
       "0              NaN  2016-03-24                 0       70435   \n",
       "2              NaN  2016-03-14                 0       90480   \n",
       "8              NaN  2016-04-04                 0       94505   \n",
       "9              NaN  2016-03-17                 0       27472   \n",
       "12             NaN  2016-03-15                 0       37269   \n",
       "...            ...         ...               ...         ...   \n",
       "354349         NaN  2016-03-16                 0       56472   \n",
       "354356         NaN  2016-04-04                 0       88477   \n",
       "354357         NaN  2016-03-09                 0       18246   \n",
       "354365         NaN  2016-03-14                 0       39576   \n",
       "354368         NaN  2016-03-20                 0       40764   \n",
       "\n",
       "                  LastSeen  \n",
       "0      2016-04-07 03:16:00  \n",
       "2      2016-04-05 12:47:00  \n",
       "8      2016-04-04 23:42:00  \n",
       "9      2016-03-31 17:17:00  \n",
       "12     2016-04-01 13:16:00  \n",
       "...                    ...  \n",
       "354349 2016-03-18 11:30:00  \n",
       "354356 2016-04-06 12:44:00  \n",
       "354357 2016-04-04 08:15:00  \n",
       "354365 2016-04-06 00:46:00  \n",
       "354368 2016-03-24 12:45:00  \n",
       "\n",
       "[71154 rows x 16 columns]"
      ]
     },
     "metadata": {},
     "output_type": "display_data"
    },
    {
     "name": "stdout",
     "output_type": "stream",
     "text": [
      "0.20079070121822168\n"
     ]
    }
   ],
   "source": [
    "print(df['NotRepaired'].unique())\n",
    "display(df[df['NotRepaired'].isna()])\n",
    "print(df['NotRepaired'].isna().sum()/354369)"
   ]
  },
  {
   "cell_type": "code",
   "execution_count": 13,
   "metadata": {},
   "outputs": [
    {
     "name": "stdout",
     "output_type": "stream",
     "text": [
      "no         247161\n",
      "unknown     71154\n",
      "yes         36054\n",
      "Name: NotRepaired, dtype: int64\n"
     ]
    }
   ],
   "source": [
    "df['NotRepaired']= df['NotRepaired'].fillna('unknown')\n",
    "print(df['NotRepaired'].value_counts())"
   ]
  },
  {
   "cell_type": "code",
   "execution_count": 14,
   "metadata": {},
   "outputs": [
    {
     "name": "stdout",
     "output_type": "stream",
     "text": [
      "DateCrawled          0\n",
      "Price                0\n",
      "VehicleType          0\n",
      "RegistrationYear     0\n",
      "Gearbox              0\n",
      "Power                0\n",
      "Model                0\n",
      "Mileage              0\n",
      "RegistrationMonth    0\n",
      "FuelType             0\n",
      "Brand                0\n",
      "NotRepaired          0\n",
      "DateCreated          0\n",
      "NumberOfPictures     0\n",
      "PostalCode           0\n",
      "LastSeen             0\n",
      "dtype: int64\n"
     ]
    }
   ],
   "source": [
    "print(df.isna().sum())"
   ]
  },
  {
   "cell_type": "code",
   "execution_count": 15,
   "metadata": {},
   "outputs": [
    {
     "name": "stdout",
     "output_type": "stream",
     "text": [
      "263\n"
     ]
    }
   ],
   "source": [
    "print(df.duplicated().sum())"
   ]
  },
  {
   "cell_type": "markdown",
   "metadata": {},
   "source": [
    "There are 262 completely duplicated rows. We will drop these."
   ]
  },
  {
   "cell_type": "code",
   "execution_count": 16,
   "metadata": {},
   "outputs": [
    {
     "name": "stdout",
     "output_type": "stream",
     "text": [
      "0\n"
     ]
    }
   ],
   "source": [
    "df= df.drop_duplicates()\n",
    "print(df.duplicated().sum())"
   ]
  },
  {
   "cell_type": "code",
   "execution_count": 17,
   "metadata": {},
   "outputs": [
    {
     "name": "stdout",
     "output_type": "stream",
     "text": [
      "<class 'pandas.core.frame.DataFrame'>\n",
      "Int64Index: 354106 entries, 0 to 354368\n",
      "Data columns (total 16 columns):\n",
      " #   Column             Non-Null Count   Dtype         \n",
      "---  ------             --------------   -----         \n",
      " 0   DateCrawled        354106 non-null  datetime64[ns]\n",
      " 1   Price              354106 non-null  int64         \n",
      " 2   VehicleType        354106 non-null  object        \n",
      " 3   RegistrationYear   354106 non-null  int64         \n",
      " 4   Gearbox            354106 non-null  object        \n",
      " 5   Power              354106 non-null  int64         \n",
      " 6   Model              354106 non-null  object        \n",
      " 7   Mileage            354106 non-null  int64         \n",
      " 8   RegistrationMonth  354106 non-null  int64         \n",
      " 9   FuelType           354106 non-null  object        \n",
      " 10  Brand              354106 non-null  object        \n",
      " 11  NotRepaired        354106 non-null  object        \n",
      " 12  DateCreated        354106 non-null  datetime64[ns]\n",
      " 13  NumberOfPictures   354106 non-null  int64         \n",
      " 14  PostalCode         354106 non-null  int64         \n",
      " 15  LastSeen           354106 non-null  datetime64[ns]\n",
      "dtypes: datetime64[ns](3), int64(7), object(6)\n",
      "memory usage: 45.9+ MB\n"
     ]
    }
   ],
   "source": [
    "df.info()"
   ]
  },
  {
   "cell_type": "markdown",
   "metadata": {},
   "source": [
    "<div style=\"border: 5px solid green; padding: 15px; margin: 5px\">\n",
    "<b>   Reviewer's comment </b>\n",
    "    \n",
    "Good. \n",
    "</div>"
   ]
  },
  {
   "cell_type": "markdown",
   "metadata": {},
   "source": [
    "Now that we have addressed missing values and duplicates we can look at the distribution for each column to get an idea of how things look."
   ]
  },
  {
   "cell_type": "code",
   "execution_count": 18,
   "metadata": {},
   "outputs": [
    {
     "data": {
      "image/png": "[encoded data removed]",
      "text/plain": [
       "<Figure size 2000x1500 with 12 Axes>"
      ]
     },
     "metadata": {},
     "output_type": "display_data"
    }
   ],
   "source": [
    "df.hist(bins=30, figsize= (20, 15))\n",
    "plt.show()"
   ]
  },
  {
   "cell_type": "markdown",
   "metadata": {},
   "source": [
    "Based on these distributions we can see a few things that stand out right away.  ALL of the values for certain columns are distributed around 1 value.  For registration year it is very concentrated at 2000.  We can assume that this makes since because the values that were selected for the x-axis go up to 10,000 which makes little since for a year as it is impossible to go beyond the current date.  Then for Power it is also very concentrated near 0.  We should look at this category in more detail to see if this makes sense.  Then for NumberOfPictures, it is also focused around 0."
   ]
  },
  {
   "cell_type": "markdown",
   "metadata": {},
   "source": [
    "<div style=\"border: 5px solid green; padding: 15px; margin: 5px\">\n",
    "<b>   Reviewer's comment </b>\n",
    "    \n",
    "It's great that you analyze distributions! Why is this important? In real-world problems, the data is rarely clean. Displaying distributions help us evaluate the data, find outliers, identify the required preprocessing steps and understand feature relationships, which informs feature engineering. Feature engineering in some cases is a clue.    \n",
    "</div>"
   ]
  },
  {
   "cell_type": "code",
   "execution_count": 19,
   "metadata": {},
   "outputs": [
    {
     "name": "stdout",
     "output_type": "stream",
     "text": [
      "2000    24476\n",
      "1999    22703\n",
      "2005    22094\n",
      "2001    20107\n",
      "2006    19874\n",
      "        ...  \n",
      "4100        1\n",
      "1200        1\n",
      "5300        1\n",
      "8888        1\n",
      "2290        1\n",
      "Name: RegistrationYear, Length: 151, dtype: int64\n",
      "[1993 2011 2004 2001 2008 1995 1980 2014 1998 2005 1910 2016 2007 2009\n",
      " 2002 2018 1997 1990 2017 1981 2003 1994 1991 1984 2006 1999 2012 2010\n",
      " 2000 1992 2013 1996 1985 1989 2015 1982 1976 1983 1973 1111 1969 1971\n",
      " 1987 1986 1988 1970 1965 1945 1925 1974 1979 1955 1978 1972 1968 1977\n",
      " 1961 1960 1966 1975 1963 1964 5000 1954 1958 1967 1959 9999 1956 3200\n",
      " 1000 1941 8888 1500 2200 4100 1962 1929 1957 1940 3000 2066 1949 2019\n",
      " 1937 1951 1800 1953 1234 8000 5300 9000 2900 6000 5900 5911 1933 1400\n",
      " 1950 4000 1948 1952 1200 8500 1932 1255 3700 3800 4800 1942 7000 1935\n",
      " 1936 6500 1923 2290 2500 1930 1001 9450 1944 1943 1934 1938 1688 2800\n",
      " 1253 1928 1919 5555 5600 1600 2222 1039 9996 1300 8455 1931 1915 4500\n",
      " 1920 1602 7800 9229 1947 1927 7100 8200 1946 7500 3500]\n"
     ]
    }
   ],
   "source": [
    "print(df['RegistrationYear'].value_counts())\n",
    "print(df['RegistrationYear'].unique())"
   ]
  },
  {
   "cell_type": "markdown",
   "metadata": {},
   "source": [
    "Based on this we can see that there is definitely some data in here that does not make sense as a year that a car was registered and can skew our data.  These values include: 5000, 9999, 3200, 1000, 8888, 1500, 2200, 4100, 3000, 2066, 4000, 8500, 1255, 3700, 3800, 4800, 7000, 6500, 2290, 2500, 1688, 2800, 1253, 5555, 5600, 1600, 2222, 1039, 9996, 1300, 8455, 4500, 1602, 7800, 9229, 7100, 8200, 7500, 3500. "
   ]
  },
  {
   "cell_type": "code",
   "execution_count": 20,
   "metadata": {},
   "outputs": [
    {
     "data": {
      "image/png": "[encoded data removed]",
      "text/plain": [
       "<Figure size 640x480 with 1 Axes>"
      ]
     },
     "metadata": {},
     "output_type": "display_data"
    },
    {
     "data": {
      "text/plain": [
       "count    354106.000000\n",
       "mean       2004.235379\n",
       "std          90.261295\n",
       "min        1000.000000\n",
       "25%        1999.000000\n",
       "50%        2003.000000\n",
       "75%        2008.000000\n",
       "max        9999.000000\n",
       "Name: RegistrationYear, dtype: float64"
      ]
     },
     "execution_count": 20,
     "metadata": {},
     "output_type": "execute_result"
    }
   ],
   "source": [
    "df.boxplot(column= 'RegistrationYear')\n",
    "plt.show()\n",
    "df['RegistrationYear'].describe()"
   ]
  },
  {
   "cell_type": "code",
   "execution_count": 21,
   "metadata": {},
   "outputs": [],
   "source": [
    "#take care of outliers by filtering dataset \n",
    "df = df.query(\"(RegistrationYear > 1960) and (RegistrationYear <= 2019)\")"
   ]
  },
  {
   "cell_type": "markdown",
   "metadata": {},
   "source": [
    "<div style=\"border: 5px solid green; padding: 15px; margin: 5px\">\n",
    "<b>   Reviewer's comment </b>\n",
    "    \n",
    "Makes sense!     \n",
    "</div>\n",
    "<div style=\"border: 5px solid gold; padding: 15px; margin: 5px\">\n",
    "<b>   Reviewer's comment </b>\n",
    "    \n",
    "Consider comparing max dates in the `RegistrationYear` and  `DateCrawled` columns. Vehicle should not be registered after the data was downloaded :) \n",
    "\n",
    "\n",
    "</div>"
   ]
  },
  {
   "cell_type": "code",
   "execution_count": 22,
   "metadata": {},
   "outputs": [
    {
     "data": {
      "image/png": "[encoded data removed]",
      "text/plain": [
       "<Figure size 640x480 with 1 Axes>"
      ]
     },
     "metadata": {},
     "output_type": "display_data"
    },
    {
     "data": {
      "text/plain": [
       "count    353391.000000\n",
       "mean       2003.173174\n",
       "std           7.160276\n",
       "min        1961.000000\n",
       "25%        1999.000000\n",
       "50%        2003.000000\n",
       "75%        2008.000000\n",
       "max        2019.000000\n",
       "Name: RegistrationYear, dtype: float64"
      ]
     },
     "execution_count": 22,
     "metadata": {},
     "output_type": "execute_result"
    }
   ],
   "source": [
    "df.boxplot(column= 'RegistrationYear')\n",
    "plt.show()\n",
    "df['RegistrationYear'].describe()"
   ]
  },
  {
   "cell_type": "code",
   "execution_count": 23,
   "metadata": {},
   "outputs": [
    {
     "name": "stdout",
     "output_type": "stream",
     "text": [
      "2000    24476\n",
      "1999    22703\n",
      "2005    22094\n",
      "2001    20107\n",
      "2006    19874\n",
      "2003    19741\n",
      "2004    19600\n",
      "2002    19077\n",
      "1998    17889\n",
      "2007    17166\n",
      "2008    15377\n",
      "1997    14655\n",
      "2009    14492\n",
      "1996    10826\n",
      "2010    10755\n",
      "2017    10440\n",
      "2011     9901\n",
      "1995     9603\n",
      "2016     9597\n",
      "2012     7175\n",
      "1994     4838\n",
      "2013     4128\n",
      "2018     3959\n",
      "1993     3437\n",
      "1992     3002\n",
      "1990     2803\n",
      "1991     2761\n",
      "2014     2536\n",
      "1989     1318\n",
      "2015     1299\n",
      "1988      942\n",
      "1985      755\n",
      "1987      667\n",
      "1980      588\n",
      "1986      538\n",
      "1983      430\n",
      "1984      399\n",
      "1970      333\n",
      "1982      316\n",
      "1978      285\n",
      "1979      282\n",
      "1981      263\n",
      "1972      213\n",
      "1976      175\n",
      "1977      173\n",
      "1973      173\n",
      "1974      169\n",
      "1971      167\n",
      "1975      142\n",
      "1969      118\n",
      "1966      113\n",
      "1968      108\n",
      "1967       99\n",
      "1965       82\n",
      "1964       63\n",
      "1963       57\n",
      "1962       46\n",
      "1961       41\n",
      "2019       25\n",
      "Name: RegistrationYear, dtype: int64\n"
     ]
    }
   ],
   "source": [
    "print(df['RegistrationYear'].value_counts())"
   ]
  },
  {
   "cell_type": "markdown",
   "metadata": {},
   "source": [
    "To filter the data set we set the lower limit as 1960 as there are likely very few cars on the Rusty Bargain platform that are older than this.  Then we set the upper limit as 2019, because based on this data all other registration years would be in the future.  We still have some outliers on the lower range here, but a much better distribution overall. "
   ]
  },
  {
   "cell_type": "code",
   "execution_count": 24,
   "metadata": {},
   "outputs": [
    {
     "name": "stdout",
     "output_type": "stream",
     "text": [
      "0       39775\n",
      "75      23991\n",
      "60      15867\n",
      "150     14568\n",
      "101     13285\n",
      "        ...  \n",
      "645         1\n",
      "525         1\n",
      "1922        1\n",
      "6018        1\n",
      "902         1\n",
      "Name: Power, Length: 710, dtype: int64\n",
      "[    0   190   163    75    69   102   109    50   125   101   105   140\n",
      "   115   131    60   136   160   231    90   118   193    99   113   218\n",
      "   122   129    70   306    95    61   177    80   170    55   143    64\n",
      "   286   232   150   156    82   155    54   185    87   180    86    84\n",
      "   224   235   200   178   265    77   110   144   120   116   184   126\n",
      "   204    88   194   305   197   179   250    45   313    41   165    98\n",
      "   130   114   211    56   201   213    58   107    83   174   100   220\n",
      "    85    73   192    68    66   299    74    52   147    65   310    71\n",
      "    97   239   203     5   300   103   258   320    63    81   148    44\n",
      "   145   230   280   260   104   188   333   186   117   141    59   132\n",
      "   234   158    39    92    51   135    53   209    43   146    67   106\n",
      "   166   276   344    72   249   237   245   111   326   279    23   138\n",
      "   175    96   226    26    37   301   334   128   133   124    33   219\n",
      "   241   167    94   182   196   238  1398   228   112    48   272   139\n",
      "  1799    40   240    79   256   360   243   375   252   396   340   108\n",
      "   121   345   187   289   222   198   284   450   233   387   152   347\n",
      "   172    57   137   212   476   314     7    47   173   290   207   205\n",
      "   171   750    78    91    89   349   325    76   151   350   953    93\n",
      "   142   500   343   199   119   164    16   264   367   208   210    46\n",
      "   435  1001   225   127   176   161   603   307   354    35   206   771\n",
      "   355   273   223   255    30   123   154   149  7515  1400   268   620\n",
      "   169   400   275    34     2   242  1779   285   162   328  1753   329\n",
      "   134   420   247   168 10317   215    18   330   283    62    10   214\n",
      "   183   254    15   321   322   315   952   600   181   426   599   379\n",
      "   999    22   157    42   195   553     4   309   507   381   271   440\n",
      "   189   401  1111  2729   236  1240  1704   521     1  1900   270    24\n",
      "   159   292   808   515  1200   303    29    38  1993    14   216   610\n",
      "   504    49   267   331   363   261   385  1011   253   696 10520   376\n",
      "   227   311    27   217    20  1999    11  1056    25   394    12   298\n",
      "   296  1659   294   551  6920   246    17  1625   368   390   221  1367\n",
      "   259   606   327  2017  1597   266   374   392     9   405    13   262\n",
      "   601   430   295     8   411   900   541  7512   382 10218  7544  1102\n",
      "   287    19   751   297  1090   457   282   602   388     6  5411   335\n",
      "  1360   202  3750   805  1062  1024 11530   364  1796   269   460  1002\n",
      "   288  1780 12012 17932   316  2005  1800  1399   191   278  1300   380\n",
      "   257   449  1256   153    21  1653   520   560   281 12510     3  1500\n",
      "   386    32  1202  2016  1436  1405   671   274  1288  1055 10912 15016\n",
      "  6226  1115   277  1105   341  1223  2340  8404  1968   338   445  1920\n",
      "   370   517  4400 10710 10522  9010   431  1164 11509   371  1501   428\n",
      " 11635    36   304   348  1703  1910  1995   579 10000   580   408    31\n",
      "  1005   358  1403   489  5575 19211   585   960   365   353   490   352\n",
      "  1801  1000   346   550  3199   800  7508  1312   357  1937   950  4700\n",
      "  1600  3454 19208   251   850   337   700  8011  2331  2789   487   519\n",
      "  2461  6006  3500  5815  6018  1781  1503   612  1596   229  1506  5809\n",
      " 15020  5867  2172  1598 17410  1363   584  1054   851  1339   318   510\n",
      "   525  1700    28  1151   685  6011   317   703  1771 15001   514   362\n",
      "   332  5000   324  6045   530   425   308  6010   475   903   640  2000\n",
      "   248   651  2799 17011   505  1103  1521   351 16051   398  9000  1998\n",
      " 10311   409  1230 17019 12684  8259  1895   901  1317   871   909  2201\n",
      "  1595   776 17700 11011  1199   459  1162  1120 15033  1896   339   361\n",
      "   574  6512   454   650 13616   604   607 16312  1082   336 20000   416\n",
      "   678  6012  1401  1021  1870 13636  1250  9710   323  1158  2009   902\n",
      "  6062  1275   572   244   399  1016   743  1221  2402 16011  1362   544\n",
      "   645   907   702 12512  1986  1003  1432  9013  9011   442  1017  1394\n",
      " 15017 10910  1992   540  2018 11025  1433  1701  2792  1502  1239  1390\n",
      " 14009  1160  1351 11111  1783  9007   923  1149   754  1988   402  2004\n",
      "  5420  1793   356  7511  1299   293 19312  1079  1689   998  1100  9012\n",
      "  1933   508 16311   682  1252  1922  7529   732  2389  2200  1707  1416\n",
      "  8500  1012   485 10110   421  4507  1631  7518   377  1004  2007  2598\n",
      "  1548  1241]\n"
     ]
    }
   ],
   "source": [
    "print(df['Power'].value_counts())\n",
    "print(df['Power'].unique())"
   ]
  },
  {
   "cell_type": "markdown",
   "metadata": {},
   "source": [
    "Again here there are a good number of outliers as the highest HP car ever is 5007hp and anything above 500hp is super cars.  Then all cars, even electric cars have some power so values of 0 do not make sense. Therefore there are some errors in this data that can skew our analysis. Again we can filter out the outliers that don't make sense."
   ]
  },
  {
   "cell_type": "code",
   "execution_count": 25,
   "metadata": {},
   "outputs": [
    {
     "data": {
      "image/png": "[encoded data removed]",
      "text/plain": [
       "<Figure size 640x480 with 1 Axes>"
      ]
     },
     "metadata": {},
     "output_type": "display_data"
    },
    {
     "data": {
      "text/plain": [
       "count    353391.000000\n",
       "mean        110.187959\n",
       "std         189.683874\n",
       "min           0.000000\n",
       "25%          69.000000\n",
       "50%         105.000000\n",
       "75%         143.000000\n",
       "max       20000.000000\n",
       "Name: Power, dtype: float64"
      ]
     },
     "execution_count": 25,
     "metadata": {},
     "output_type": "execute_result"
    }
   ],
   "source": [
    "df.boxplot(column= 'Power')\n",
    "plt.show()\n",
    "df['Power'].describe()"
   ]
  },
  {
   "cell_type": "code",
   "execution_count": 26,
   "metadata": {},
   "outputs": [],
   "source": [
    "df = df.query(\"(Power > 20) and (Power <= 507)\")"
   ]
  },
  {
   "cell_type": "code",
   "execution_count": 27,
   "metadata": {},
   "outputs": [
    {
     "data": {
      "image/png": "[encoded data removed]",
      "text/plain": [
       "<Figure size 640x480 with 1 Axes>"
      ]
     },
     "metadata": {},
     "output_type": "display_data"
    },
    {
     "data": {
      "text/plain": [
       "count    312780.000000\n",
       "mean        120.226568\n",
       "std          53.421041\n",
       "min          21.000000\n",
       "25%          75.000000\n",
       "50%         110.000000\n",
       "75%         150.000000\n",
       "max         507.000000\n",
       "Name: Power, dtype: float64"
      ]
     },
     "execution_count": 27,
     "metadata": {},
     "output_type": "execute_result"
    }
   ],
   "source": [
    "df.boxplot(column= 'Power')\n",
    "plt.show()\n",
    "df['Power'].describe()"
   ]
  },
  {
   "cell_type": "markdown",
   "metadata": {},
   "source": [
    "Again there are still plenty of outliers in the upper ranges of Power, but at least they are all plausible. "
   ]
  },
  {
   "cell_type": "code",
   "execution_count": 28,
   "metadata": {},
   "outputs": [
    {
     "name": "stdout",
     "output_type": "stream",
     "text": [
      "0    312780\n",
      "Name: NumberOfPictures, dtype: int64\n",
      "[0]\n"
     ]
    }
   ],
   "source": [
    "print(df['NumberOfPictures'].value_counts())\n",
    "print(df['NumberOfPictures'].unique())"
   ]
  },
  {
   "cell_type": "markdown",
   "metadata": {},
   "source": [
    "It appears that there isn't a single picture of any of the vehicles.  We can drop this column for our analysis as it adds no insight or value.  There are also columns that we can drop as they will not improve our model.  These include DateCrawled, RegistrationMonth, DateCreated, PostalCode, LastSeen columns. Most of these provide insights on the individual users, but will not help us when building a model to determine car value and RegistrationMonth provides us little insight in determining the value of the care."
   ]
  },
  {
   "cell_type": "code",
   "execution_count": 29,
   "metadata": {},
   "outputs": [
    {
     "name": "stdout",
     "output_type": "stream",
     "text": [
      "<class 'pandas.core.frame.DataFrame'>\n",
      "Int64Index: 312780 entries, 1 to 354368\n",
      "Data columns (total 10 columns):\n",
      " #   Column            Non-Null Count   Dtype \n",
      "---  ------            --------------   ----- \n",
      " 0   Price             312780 non-null  int64 \n",
      " 1   VehicleType       312780 non-null  object\n",
      " 2   RegistrationYear  312780 non-null  int64 \n",
      " 3   Gearbox           312780 non-null  object\n",
      " 4   Power             312780 non-null  int64 \n",
      " 5   Model             312780 non-null  object\n",
      " 6   Mileage           312780 non-null  int64 \n",
      " 7   FuelType          312780 non-null  object\n",
      " 8   Brand             312780 non-null  object\n",
      " 9   NotRepaired       312780 non-null  object\n",
      "dtypes: int64(4), object(6)\n",
      "memory usage: 26.2+ MB\n"
     ]
    }
   ],
   "source": [
    "df = df.drop(['NumberOfPictures', 'DateCrawled', 'RegistrationMonth', 'DateCreated', 'PostalCode', 'LastSeen'], axis=1)\n",
    "df.info()"
   ]
  },
  {
   "cell_type": "markdown",
   "metadata": {},
   "source": [
    "<div style=\"border: 5px solid green; padding: 15px; margin: 5px\">\n",
    "<b>   Reviewer's comment </b>\n",
    "    \n",
    "Agreed! We don't need these columns. \n",
    "    \n",
    "</div>\n",
    "<div style=\"border: 5px solid gold; padding: 15px; margin: 5px\">\n",
    "<b>   Reviewer's comment </b>\n",
    "    \n",
    "- `DateCreated`, however, can be used to calculate the publication period. The longer an active advertisement remains published, the less likely the car is being sold, likely due to an overpriced offer.\n",
    "\n",
    "    \n",
    "\n",
    "- Another option is to drop `VehicleType` and `Brand`, since we have `Model` that should reflect both. \n",
    "\n",
    "</div>\n",
    "<div style=\"border: 5px solid red; padding: 15px; margin: 5px\">\n",
    "<b>   Reviewer's comment </b>\n",
    "   \n",
    "After removing unnecessary columns, it makes sense to check the data for duplicates again, as the dataset will later be splitted into training and test sets. Removing specific columns can cause previously distinct rows to become identical. If a dropped column contained unique values (ID or timestamp), removing it may make multiple rows appear the same.   \n",
    "   \n",
    "</div>"
   ]
  },
  {
   "cell_type": "code",
   "execution_count": 30,
   "metadata": {},
   "outputs": [
    {
     "name": "stdout",
     "output_type": "stream",
     "text": [
      "40587\n"
     ]
    }
   ],
   "source": [
    "print(df.duplicated().sum())"
   ]
  },
  {
   "cell_type": "code",
   "execution_count": 31,
   "metadata": {},
   "outputs": [
    {
     "name": "stdout",
     "output_type": "stream",
     "text": [
      "0\n"
     ]
    }
   ],
   "source": [
    "df= df.drop_duplicates()\n",
    "print(df.duplicated().sum())"
   ]
  },
  {
   "cell_type": "markdown",
   "metadata": {},
   "source": [
    "<div style=\"border: 5px solid green; padding: 15px; margin: 5px\">\n",
    "<b>   Reviewer's comment 2 </b>\n",
    "    \n",
    "Well done! \n",
    "\n",
    "</div>"
   ]
  },
  {
   "cell_type": "code",
   "execution_count": 32,
   "metadata": {},
   "outputs": [
    {
     "data": {
      "image/png": "[encoded data removed]",
      "text/plain": [
       "<Figure size 2000x1500 with 4 Axes>"
      ]
     },
     "metadata": {},
     "output_type": "display_data"
    }
   ],
   "source": [
    "df.hist(bins=30, figsize= (20, 15))\n",
    "plt.show()"
   ]
  },
  {
   "cell_type": "markdown",
   "metadata": {},
   "source": [
    "With these histograms we can see the distribution for our numeric data.  We can see that Price is  skewed to the left and there is a significant amount of data that Rusty Bargain has deemed has $0 in value.  Registration Year is skewed to the Right which makes sense with the number of outliers for older cars.  Power is skewed to the left which again makes sense with the outliers above 300hp.  Finally for mileage we can see that there is a very significant skew to the right with a lot of the cars having over 14,000 miles. "
   ]
  },
  {
   "cell_type": "code",
   "execution_count": 33,
   "metadata": {},
   "outputs": [
    {
     "data": {
      "image/png": "[encoded data removed]",
      "text/plain": [
       "<Figure size 640x480 with 1 Axes>"
      ]
     },
     "metadata": {},
     "output_type": "display_data"
    },
    {
     "data": {
      "text/plain": [
       "count    272193.000000\n",
       "mean       4783.461731\n",
       "std        4637.605227\n",
       "min           0.000000\n",
       "25%        1250.000000\n",
       "50%        3000.000000\n",
       "75%        6950.000000\n",
       "max       20000.000000\n",
       "Name: Price, dtype: float64"
      ]
     },
     "execution_count": 33,
     "metadata": {},
     "output_type": "execute_result"
    }
   ],
   "source": [
    "df.boxplot(column= 'Price')\n",
    "plt.show()\n",
    "df['Price'].describe()"
   ]
  },
  {
   "cell_type": "code",
   "execution_count": 34,
   "metadata": {},
   "outputs": [],
   "source": [
    "#drop price outliers\n",
    "df = df.query(\"(Price >= 0) and (Price <= 15000)\")"
   ]
  },
  {
   "cell_type": "code",
   "execution_count": 35,
   "metadata": {},
   "outputs": [
    {
     "data": {
      "image/png": "[encoded data removed]",
      "text/plain": [
       "<Figure size 640x480 with 1 Axes>"
      ]
     },
     "metadata": {},
     "output_type": "display_data"
    },
    {
     "data": {
      "text/plain": [
       "count    259077.000000\n",
       "mean       4141.597236\n",
       "std        3733.780475\n",
       "min           0.000000\n",
       "25%        1200.000000\n",
       "50%        2900.000000\n",
       "75%        6200.000000\n",
       "max       15000.000000\n",
       "Name: Price, dtype: float64"
      ]
     },
     "execution_count": 35,
     "metadata": {},
     "output_type": "execute_result"
    }
   ],
   "source": [
    "df.boxplot(column= 'Price')\n",
    "plt.show()\n",
    "df['Price'].describe()"
   ]
  },
  {
   "cell_type": "code",
   "execution_count": 36,
   "metadata": {},
   "outputs": [
    {
     "data": {
      "image/png": "[encoded data removed]",
      "text/plain": [
       "<Figure size 2000x1500 with 4 Axes>"
      ]
     },
     "metadata": {},
     "output_type": "display_data"
    }
   ],
   "source": [
    "df.hist(bins=30, figsize= (20, 15))\n",
    "plt.show()"
   ]
  },
  {
   "cell_type": "markdown",
   "metadata": {},
   "source": [
    "Price is still slightly skewed to the left, but by much less."
   ]
  },
  {
   "cell_type": "markdown",
   "metadata": {},
   "source": [
    "<div style=\"border: 5px solid gold; padding: 15px; margin: 5px\">\n",
    "<b>   Reviewer's comment 2 </b>\n",
    "    \n",
    "Consider excluding price outliers as well.\n",
    "</div>\n",
    "\n",
    "<div style=\"border: 5px solid red; padding: 15px; margin: 5px\">\n",
    "<b>   Reviewer's comment </b>\n",
    "    \n",
    "Shouldn't we drop price outliers? \n",
    "</div>"
   ]
  },
  {
   "cell_type": "markdown",
   "metadata": {},
   "source": [
    "Now we can make bar plots of the value counts for the object type data to get a sense of the distribution of these."
   ]
  },
  {
   "cell_type": "code",
   "execution_count": 37,
   "metadata": {},
   "outputs": [
    {
     "data": {
      "text/plain": [
       "Text(0.5, 1.0, 'VehicleType')"
      ]
     },
     "execution_count": 37,
     "metadata": {},
     "output_type": "execute_result"
    },
    {
     "data": {
      "image/png": "[encoded data removed]",
      "text/plain": [
       "<Figure size 640x480 with 1 Axes>"
      ]
     },
     "metadata": {},
     "output_type": "display_data"
    }
   ],
   "source": [
    "df['VehicleType'].value_counts().plot(kind='bar')\n",
    "plt.title('VehicleType')"
   ]
  },
  {
   "cell_type": "markdown",
   "metadata": {},
   "source": [
    "Most of the vehicles on Rusty Bargain are sedans, small cars or wagons."
   ]
  },
  {
   "cell_type": "code",
   "execution_count": 38,
   "metadata": {},
   "outputs": [
    {
     "data": {
      "text/plain": [
       "Text(0.5, 1.0, 'Gearbox')"
      ]
     },
     "execution_count": 38,
     "metadata": {},
     "output_type": "execute_result"
    },
    {
     "data": {
      "image/png": "[encoded data removed]",
      "text/plain": [
       "<Figure size 640x480 with 1 Axes>"
      ]
     },
     "metadata": {},
     "output_type": "display_data"
    }
   ],
   "source": [
    "df['Gearbox'].value_counts().plot(kind='bar')\n",
    "plt.title('Gearbox')"
   ]
  },
  {
   "cell_type": "markdown",
   "metadata": {},
   "source": [
    "Most of the cars on the app are manual transmission."
   ]
  },
  {
   "cell_type": "code",
   "execution_count": 39,
   "metadata": {},
   "outputs": [
    {
     "data": {
      "text/plain": [
       "Text(0.5, 1.0, 'Model')"
      ]
     },
     "execution_count": 39,
     "metadata": {},
     "output_type": "execute_result"
    },
    {
     "data": {
      "image/png": "[encoded data removed]",
      "text/plain": [
       "<Figure size 640x480 with 1 Axes>"
      ]
     },
     "metadata": {},
     "output_type": "display_data"
    }
   ],
   "source": [
    "df['Model'].value_counts().plot(kind='bar')\n",
    "plt.title('Model')"
   ]
  },
  {
   "cell_type": "code",
   "execution_count": 40,
   "metadata": {},
   "outputs": [
    {
     "name": "stdout",
     "output_type": "stream",
     "text": [
      "other                 30683\n",
      "golf                  20553\n",
      "3er                   14515\n",
      "polo                   9050\n",
      "astra                  8254\n",
      "                      ...  \n",
      "q3                        4\n",
      "gl                        2\n",
      "rangerover                2\n",
      "serie_3                   2\n",
      "range_rover_evoque        1\n",
      "Name: Model, Length: 249, dtype: int64\n"
     ]
    }
   ],
   "source": [
    "print(df['Model'].value_counts())"
   ]
  },
  {
   "cell_type": "markdown",
   "metadata": {},
   "source": [
    "The Model graph is very difficult to read as there are so many different model types of cars, but we can see here that a large amount are unmarked."
   ]
  },
  {
   "cell_type": "code",
   "execution_count": 41,
   "metadata": {},
   "outputs": [
    {
     "data": {
      "text/plain": [
       "Text(0.5, 1.0, 'Brand')"
      ]
     },
     "execution_count": 41,
     "metadata": {},
     "output_type": "execute_result"
    },
    {
     "data": {
      "image/png": "[encoded data removed]",
      "text/plain": [
       "<Figure size 640x480 with 1 Axes>"
      ]
     },
     "metadata": {},
     "output_type": "display_data"
    }
   ],
   "source": [
    "df['Brand'].value_counts().plot(kind='bar')\n",
    "plt.title('Brand')"
   ]
  },
  {
   "cell_type": "markdown",
   "metadata": {},
   "source": [
    "Again there is a wide variety of brands on the app, but there seems to be significantly more volkswagens."
   ]
  },
  {
   "cell_type": "code",
   "execution_count": 42,
   "metadata": {},
   "outputs": [
    {
     "data": {
      "text/plain": [
       "Text(0.5, 1.0, 'NotRepaired')"
      ]
     },
     "execution_count": 42,
     "metadata": {},
     "output_type": "execute_result"
    },
    {
     "data": {
      "image/png": "[encoded data removed]",
      "text/plain": [
       "<Figure size 640x480 with 1 Axes>"
      ]
     },
     "metadata": {},
     "output_type": "display_data"
    }
   ],
   "source": [
    "df['NotRepaired'].value_counts().plot(kind='bar')\n",
    "plt.title('NotRepaired')"
   ]
  },
  {
   "cell_type": "markdown",
   "metadata": {},
   "source": [
    "Most vehicles were not repaired.  Now we have a good understanding of the properties of the our data and have cleaned up some of the outliers, values that made no sense and narrowed our dataset so that it has the most value to creating more accurate models for predicting price."
   ]
  },
  {
   "cell_type": "markdown",
   "metadata": {},
   "source": [
    "<div style=\"border: 5px solid green; padding: 15px; margin: 5px\">\n",
    "<b>   Reviewer's comment </b>\n",
    "   \n",
    "Good! \n",
    "\n",
    "</div>"
   ]
  },
  {
   "cell_type": "markdown",
   "metadata": {},
   "source": [
    "## Model training"
   ]
  },
  {
   "cell_type": "markdown",
   "metadata": {},
   "source": [
    "Before we can train our models we have to finish preparing our data.  First we will need to encode our object type data so that we can use it in our models.  Then we have to define our features and target.  Then we will have to split our data into a training set, a validation set and a test set.  After splitting our data we will want to scale our numerical columns to ensure those with very large numbers don't skew our models importance. "
   ]
  },
  {
   "cell_type": "code",
   "execution_count": 43,
   "metadata": {},
   "outputs": [],
   "source": [
    "#Encode Object Columns\n",
    "#object_columns = df.select_dtypes(include='object')\n",
    "#encoder = OrdinalEncoder()\n",
    "#ordinal = pd.DataFrame(encoder.fit_transform(object_columns), columns=object_columns.columns)\n",
    "# checking implementation\n",
    "#ordinal.head()"
   ]
  },
  {
   "cell_type": "markdown",
   "metadata": {},
   "source": [
    "<div style=\"border: 5px solid green; padding: 15px; margin: 5px\">\n",
    "<b> Reviewer's comment</b>\n",
    "    \n",
    "Great choice! For tree-based models, `OrdinalEncoder` is a good choice because of computational cost. For boosting algorithms, we can rely on internal encoders that usually perform even better than external ones. For `CatBoost`, this is controlled by the `cat_features` parameter. For `LightGBM`, you can convert categorical features to the category type, allowing the model to handle them automatically.\n",
    "\n",
    "\n",
    "\n",
    "`OneHotEncoder(handle_unknown='ignore')` or `OrdinalEncoder(handle_unknown='use_encoded_value', unknown_value=-1)` are generally more robust than `get_dummies` because they can handle situations where test subset has features that were not available during training. [Difference between OneHotEncoder and get_dummies](https://pythonsimplified.com/difference-between-onehotencoder-and-get_dummies/).\n",
    "</div>\n",
    "<div style=\"border: 5px solid gold; padding: 15px; margin: 5px\">\n",
    "<b>   Reviewer's comment </b>\n",
    "    \n",
    "Please note that `OrdinalEncoder()` or `LabelEncoder()` should not be used with linear models if there's no ordinal relationship. [How and When to Use Ordinal Encoder](https://leochoi146.medium.com/how-and-when-to-use-ordinal-encoder-d8b0ef90c28c). For linear regresison, I recommend using `OneHotEncoder(handle_unknown='ignore')`. \n",
    "\n",
    "\n",
    "For instance, you can use `Ordinal` for Forest and Tree, `OneHotEncoder` for Lin. Regression and categorical data types for boosting models.\n",
    "</div>\n",
    "\n",
    "<div style=\"border: 5px solid red; padding: 15px; margin: 5px\">\n",
    "<b> Reviewer's comment</b>\n",
    "    \n",
    "We need to encode data after we split it to avoid data leakage.  \n",
    "</div>"
   ]
  },
  {
   "cell_type": "code",
   "execution_count": 44,
   "metadata": {},
   "outputs": [],
   "source": [
    "#df_copy = df.copy()"
   ]
  },
  {
   "cell_type": "code",
   "execution_count": 45,
   "metadata": {},
   "outputs": [],
   "source": [
    "#Replace the origianl object columns with the encoded ones\n",
    "#df_copy[object_columns.columns] = ordinal"
   ]
  },
  {
   "cell_type": "code",
   "execution_count": 46,
   "metadata": {},
   "outputs": [],
   "source": [
    "#confirm implementation by comparing original with copy\n",
    "#display(df.head(5))\n",
    "\n",
    "#display(df_copy.head(5))"
   ]
  },
  {
   "cell_type": "code",
   "execution_count": 47,
   "metadata": {},
   "outputs": [],
   "source": [
    "#print(df_copy.isna().sum())\n",
    "#df_copy.info()\n",
    "#print(36609/312780)"
   ]
  },
  {
   "cell_type": "markdown",
   "metadata": {},
   "source": [
    "With the encoding we have gotten new \"missing values\".  This is over 11% of our data so we don't want to just drop it.  What we can do is use iterative imputer.  This will fill the missing values based on multiple columns, creating more accurate fillings.  Then we'll have to round these to the nearest integer."
   ]
  },
  {
   "cell_type": "code",
   "execution_count": 48,
   "metadata": {},
   "outputs": [],
   "source": [
    "#from sklearn.experimental import enable_iterative_imputer\n",
    "#from sklearn.impute import IterativeImputer\n",
    "\n",
    "#imp = IterativeImputer()\n",
    "#data_imp = imp.fit_transform(df_copy)"
   ]
  },
  {
   "cell_type": "code",
   "execution_count": 49,
   "metadata": {},
   "outputs": [],
   "source": [
    "# making a new dataframe for encoded data, rounding to nearest integer\n",
    "#df1 = pd.DataFrame(data_imp, columns=df.columns)\n",
    "#df1 = df1.round({'vehicle_type':0, 'gearbox':0, 'model':0, 'brand':0, 'not_repaired':0, 'fuel_type':0})"
   ]
  },
  {
   "cell_type": "code",
   "execution_count": 50,
   "metadata": {},
   "outputs": [],
   "source": [
    "# see that this was implemented\n",
    "#df1.head()"
   ]
  },
  {
   "cell_type": "code",
   "execution_count": 51,
   "metadata": {},
   "outputs": [
    {
     "name": "stdout",
     "output_type": "stream",
     "text": [
      "<class 'pandas.core.frame.DataFrame'>\n",
      "Int64Index: 155446 entries, 261898 to 291572\n",
      "Data columns (total 10 columns):\n",
      " #   Column            Non-Null Count   Dtype \n",
      "---  ------            --------------   ----- \n",
      " 0   Price             155446 non-null  int64 \n",
      " 1   VehicleType       155446 non-null  object\n",
      " 2   RegistrationYear  155446 non-null  int64 \n",
      " 3   Gearbox           155446 non-null  object\n",
      " 4   Power             155446 non-null  int64 \n",
      " 5   Model             155446 non-null  object\n",
      " 6   Mileage           155446 non-null  int64 \n",
      " 7   FuelType          155446 non-null  object\n",
      " 8   Brand             155446 non-null  object\n",
      " 9   NotRepaired       155446 non-null  object\n",
      "dtypes: int64(4), object(6)\n",
      "memory usage: 13.0+ MB\n",
      "<class 'pandas.core.frame.DataFrame'>\n",
      "Int64Index: 51815 entries, 35201 to 87637\n",
      "Data columns (total 10 columns):\n",
      " #   Column            Non-Null Count  Dtype \n",
      "---  ------            --------------  ----- \n",
      " 0   Price             51815 non-null  int64 \n",
      " 1   VehicleType       51815 non-null  object\n",
      " 2   RegistrationYear  51815 non-null  int64 \n",
      " 3   Gearbox           51815 non-null  object\n",
      " 4   Power             51815 non-null  int64 \n",
      " 5   Model             51815 non-null  object\n",
      " 6   Mileage           51815 non-null  int64 \n",
      " 7   FuelType          51815 non-null  object\n",
      " 8   Brand             51815 non-null  object\n",
      " 9   NotRepaired       51815 non-null  object\n",
      "dtypes: int64(4), object(6)\n",
      "memory usage: 4.3+ MB\n",
      "<class 'pandas.core.frame.DataFrame'>\n",
      "Int64Index: 51816 entries, 160145 to 5720\n",
      "Data columns (total 10 columns):\n",
      " #   Column            Non-Null Count  Dtype \n",
      "---  ------            --------------  ----- \n",
      " 0   Price             51816 non-null  int64 \n",
      " 1   VehicleType       51816 non-null  object\n",
      " 2   RegistrationYear  51816 non-null  int64 \n",
      " 3   Gearbox           51816 non-null  object\n",
      " 4   Power             51816 non-null  int64 \n",
      " 5   Model             51816 non-null  object\n",
      " 6   Mileage           51816 non-null  int64 \n",
      " 7   FuelType          51816 non-null  object\n",
      " 8   Brand             51816 non-null  object\n",
      " 9   NotRepaired       51816 non-null  object\n",
      "dtypes: int64(4), object(6)\n",
      "memory usage: 4.3+ MB\n"
     ]
    }
   ],
   "source": [
    "#Creating our training, validation and test sets and identifying our numeric features\n",
    "# 1- split into training (60%) and a temp set (40%)\n",
    "data_train, data_temp = train_test_split(df, test_size=0.40, random_state=12345)\n",
    "\n",
    "# 2- split the temp set into validation (20%) and test (20%)\n",
    "data_valid, data_test = train_test_split(data_temp, test_size=0.50, random_state=12345)\n",
    "\n",
    "data_train.info()\n",
    "data_valid.info()\n",
    "data_test.info()\n",
    "\n",
    "# 3- create Training set, validation set and test set features and target\n",
    "\n",
    "features_train= data_train.drop(['Price'], axis = 1)\n",
    "target_train = data_train['Price']\n",
    "\n",
    "features_valid= data_valid.drop(['Price'], axis = 1)\n",
    "target_valid = data_valid['Price']\n",
    "\n",
    "features_test= data_test.drop(['Price'], axis = 1)\n",
    "target_test = data_test['Price']"
   ]
  },
  {
   "cell_type": "markdown",
   "metadata": {},
   "source": [
    "<div style=\"border: 5px solid green; padding: 15px; margin: 5px\">\n",
    "<b>   Reviewer's comment </b>\n",
    "    \n",
    "Yes, we should have three subsets here: one for fitting the model, one for RMSE calculation and one for the very final test where we evaluate the best model. \n",
    "\n",
    "</div>"
   ]
  },
  {
   "cell_type": "code",
   "execution_count": 52,
   "metadata": {},
   "outputs": [],
   "source": [
    "# Define categorical features\n",
    "categorical_features = ['VehicleType', 'Gearbox', 'Model', 'Brand', 'NotRepaired', 'FuelType']\n",
    "\n",
    "# Apply OrdinalEncoder\n",
    "encoder = OrdinalEncoder(handle_unknown='use_encoded_value', unknown_value=-1)\n",
    "features_train[categorical_features] = encoder.fit_transform(features_train[categorical_features])\n",
    "features_valid[categorical_features] = encoder.transform(features_valid[categorical_features])\n",
    "features_test[categorical_features] = encoder.transform(features_test[categorical_features])"
   ]
  },
  {
   "cell_type": "markdown",
   "metadata": {},
   "source": [
    "<div style=\"border: 5px solid green; padding: 15px; margin: 5px\">\n",
    "<b>   Reviewer's comment 2 </b>\n",
    "    \n",
    "Correct! \n",
    "\n",
    "</div>"
   ]
  },
  {
   "cell_type": "code",
   "execution_count": 53,
   "metadata": {},
   "outputs": [],
   "source": [
    "#Scaling numerical features\n",
    "numeric = ['RegistrationYear', 'Power', 'Mileage']\n",
    "\n",
    "scaler = StandardScaler()\n",
    "scaler.fit(features_train[numeric])\n",
    "\n",
    "features_train[numeric] = scaler.transform(features_train[numeric])\n",
    "features_test[numeric] = scaler.transform(features_test[numeric])"
   ]
  },
  {
   "cell_type": "markdown",
   "metadata": {},
   "source": [
    "<div style=\"border: 5px solid green; padding: 15px; margin: 5px\">\n",
    "<b>   Reviewer's comment </b>\n",
    "    \n",
    "It's great that you scale data after you split it to avoid data leakage. \n",
    "\n",
    "</div>"
   ]
  },
  {
   "cell_type": "markdown",
   "metadata": {},
   "source": [
    "Now that our data is prepared for modeling, we can train different types of models and play with gradient boosting and hyperparameter tuning with different gradient boosting models."
   ]
  },
  {
   "cell_type": "markdown",
   "metadata": {},
   "source": [
    "## Decision Tree"
   ]
  },
  {
   "cell_type": "code",
   "execution_count": 54,
   "metadata": {},
   "outputs": [
    {
     "name": "stdout",
     "output_type": "stream",
     "text": [
      "RMSE of the best model on the validation set (max_depth = 3): 3736.921848591124\n"
     ]
    }
   ],
   "source": [
    "best_model = None\n",
    "best_result = 10000\n",
    "best_depth = 0\n",
    "for depth in range(1, 15): # choose hyperparameter range\n",
    "    dec_tr = DecisionTreeRegressor(random_state=19, max_depth=depth)\n",
    "    dec_tr.fit(features_train, target_train) # train model on training set\n",
    "    predictions_valid_dt = dec_tr.predict(features_valid) # get model predictions on validation set\n",
    "    result = mse(target_valid, predictions_valid_dt) ** 0.5\n",
    "    if result < best_result:\n",
    "        best_model = dec_tr\n",
    "        best_result = result\n",
    "        best_depth = depth\n",
    "\n",
    "print(f\"RMSE of the best model on the validation set (max_depth = {best_depth}): {best_result}\")"
   ]
  },
  {
   "cell_type": "markdown",
   "metadata": {},
   "source": [
    "<div style=\"border: 5px solid green; padding: 15px; margin: 5px\">\n",
    "<b>   Reviewer's comment </b>\n",
    "    \n",
    "    \n",
    "You have successfully implemented hyperparameters tuning, well done!     \n",
    "\n",
    "    \n",
    "    \n",
    "    \n",
    "It's good that you use the training subset to fit the model and validation to calculate metric. Note that we do not touch the test subset until we train and compare all models. \n",
    "    \n",
    "</div>\n",
    "<div style=\"border: 5px solid red; padding: 15px; margin: 5px\">\n",
    "<b> Reviewer's comment</b>\n",
    "    \n",
    "Please estimate training, not tuning time. You can do it as follows:\n",
    "\n",
    "\n",
    "```python\n",
    "start_time = time.time()\n",
    "model.fit(X_train, y_train)\n",
    "end_time = time.time()  \n",
    "```\n",
    "\n",
    "</div>"
   ]
  },
  {
   "cell_type": "code",
   "execution_count": 55,
   "metadata": {},
   "outputs": [
    {
     "data": {
      "text/plain": [
       "DecisionTreeRegressor(max_depth=3, random_state=19)"
      ]
     },
     "execution_count": 55,
     "metadata": {},
     "output_type": "execute_result"
    }
   ],
   "source": [
    "best_dec_tr = DecisionTreeRegressor(random_state=19, max_depth=3)\n",
    "best_dec_tr.fit(features_train, target_train)"
   ]
  },
  {
   "cell_type": "code",
   "execution_count": 56,
   "metadata": {},
   "outputs": [
    {
     "name": "stdout",
     "output_type": "stream",
     "text": [
      "81.7 ms ± 0 ns per loop (mean ± std. dev. of 1 run, 1 loop each)\n"
     ]
    }
   ],
   "source": [
    "%%timeit -n 1 -r 1\n",
    "# Time training\n",
    "best_dec_tr.fit(features_train, target_train)"
   ]
  },
  {
   "cell_type": "code",
   "execution_count": 57,
   "metadata": {},
   "outputs": [
    {
     "name": "stdout",
     "output_type": "stream",
     "text": [
      "4.31 ms ± 0 ns per loop (mean ± std. dev. of 1 run, 1 loop each)\n"
     ]
    }
   ],
   "source": [
    "%%timeit -n 1 -r 1\n",
    "# Decision tree prediction time\n",
    "best_dec_tr.predict(features_test)"
   ]
  },
  {
   "cell_type": "markdown",
   "metadata": {},
   "source": [
    "<div style=\"border: 5px solid green; padding: 15px; margin: 5px\">\n",
    "<b>   Reviewer's comment 2 </b>\n",
    "    \n",
    "You can also calculate fitting and prediction time in the loop above. \n",
    "\n",
    "</div>"
   ]
  },
  {
   "cell_type": "markdown",
   "metadata": {},
   "source": [
    "## Random Forest"
   ]
  },
  {
   "cell_type": "code",
   "execution_count": 58,
   "metadata": {},
   "outputs": [
    {
     "name": "stdout",
     "output_type": "stream",
     "text": [
      "RMSE of the best model on the validation set: 6523.838962865627 n_estimators: 40 best_depth: 10\n"
     ]
    }
   ],
   "source": [
    "best_model = None\n",
    "best_result = 10000\n",
    "best_est = 0\n",
    "best_depth = 0\n",
    "for est in range(40, 51, 5):\n",
    "    for depth in range (10, 15, 5):\n",
    "        rf = RandomForestRegressor(random_state=19, n_estimators=est, max_depth=depth)\n",
    "        rf.fit(features_train, target_train) # train model on training set\n",
    "        predictions_valid_rf = rf.predict(features_valid) # get model predictions on validation set\n",
    "        result = mse(target_valid, predictions_valid_rf) ** 0.5 # calculate RMSE on validation set\n",
    "        if result < best_result:\n",
    "            best_model = rf\n",
    "            best_result = result\n",
    "            best_est = est\n",
    "            best_depth = depth\n",
    "\n",
    "print(\"RMSE of the best model on the validation set:\", best_result, \"n_estimators:\", best_est, \"best_depth:\", depth)\n"
   ]
  },
  {
   "cell_type": "markdown",
   "metadata": {},
   "source": [
    "<div style=\"border: 5px solid red; padding: 15px; margin: 5px\">\n",
    "<b> Reviewer's comment</b>\n",
    "    \n",
    "Same issue. \n",
    "\n",
    "\n",
    "</div>"
   ]
  },
  {
   "cell_type": "code",
   "execution_count": 59,
   "metadata": {},
   "outputs": [
    {
     "data": {
      "text/plain": [
       "RandomForestRegressor(max_depth=10, n_estimators=45, random_state=19)"
      ]
     },
     "execution_count": 59,
     "metadata": {},
     "output_type": "execute_result"
    }
   ],
   "source": [
    "best_rf = RandomForestRegressor(random_state=19, n_estimators= 45, max_depth= 10)\n",
    "best_rf.fit(features_train, target_train)"
   ]
  },
  {
   "cell_type": "code",
   "execution_count": 60,
   "metadata": {},
   "outputs": [
    {
     "name": "stdout",
     "output_type": "stream",
     "text": [
      "6.62 s ± 0 ns per loop (mean ± std. dev. of 1 run, 1 loop each)\n"
     ]
    }
   ],
   "source": [
    "%%timeit -n 1 -r 1\n",
    "\n",
    "# Train time\n",
    "\n",
    "best_rf.fit(features_train, target_train)"
   ]
  },
  {
   "cell_type": "code",
   "execution_count": 61,
   "metadata": {},
   "outputs": [
    {
     "name": "stdout",
     "output_type": "stream",
     "text": [
      "172 ms ± 0 ns per loop (mean ± std. dev. of 1 run, 1 loop each)\n"
     ]
    }
   ],
   "source": [
    "%%timeit -n 1 -r 1\n",
    "# random forest prediction\n",
    "best_rf.predict(features_test)"
   ]
  },
  {
   "cell_type": "markdown",
   "metadata": {},
   "source": [
    "<div style=\"border: 5px solid green; padding: 15px; margin: 5px\">\n",
    "<b>   Reviewer's comment 2 </b>\n",
    "    \n",
    "Good. \n",
    "\n",
    "</div>"
   ]
  },
  {
   "cell_type": "markdown",
   "metadata": {},
   "source": [
    "## Linear Regression (Sanity Check)"
   ]
  },
  {
   "cell_type": "code",
   "execution_count": 62,
   "metadata": {},
   "outputs": [
    {
     "name": "stdout",
     "output_type": "stream",
     "text": [
      "RMSE of the linear regression model on the validation set: 165466193.30585766\n",
      "24.1 ms ± 0 ns per loop (mean ± std. dev. of 1 run, 1 loop each)\n"
     ]
    }
   ],
   "source": [
    "%%timeit -n 1 -r 1\n",
    "\n",
    "# Linear regression\n",
    "lr = LinearRegression() # initialize model constructor\n",
    "lr.fit(features_train, target_train) # train model on training set\n",
    "predictions_valid_lr = lr.predict(features_valid) # get model predictions on validation set\n",
    "\n",
    "result = mse(target_valid, predictions_valid_lr) ** 0.5 # calculate RMSE on validation set\n",
    "print(\"RMSE of the linear regression model on the validation set:\", result)"
   ]
  },
  {
   "cell_type": "markdown",
   "metadata": {},
   "source": [
    "<div style=\"border: 5px solid gold; padding: 15px; margin: 5px\">\n",
    "<b>   Reviewer's comment </b>\n",
    "  \n",
    "    \n",
    "Although it is exactly what the task says, using Linear Regression as a \"sanity check\" is technically a bit misleading. For sanity check, we use some constant models or predict the averages. Linear Regression, while simple, is still a learned model, and often gives reasonably good performance. It's more appropriate to refer to it as a baseline model, not a sanity check.\n",
    "</div>"
   ]
  },
  {
   "cell_type": "code",
   "execution_count": 63,
   "metadata": {},
   "outputs": [
    {
     "data": {
      "text/plain": [
       "LinearRegression()"
      ]
     },
     "execution_count": 63,
     "metadata": {},
     "output_type": "execute_result"
    }
   ],
   "source": [
    "# Train and store model in regular cell\n",
    "best_lr = LinearRegression()\n",
    "best_lr.fit(features_train, target_train)"
   ]
  },
  {
   "cell_type": "code",
   "execution_count": 64,
   "metadata": {},
   "outputs": [
    {
     "name": "stdout",
     "output_type": "stream",
     "text": [
      "72.2 ms ± 0 ns per loop (mean ± std. dev. of 1 run, 1 loop each)\n"
     ]
    }
   ],
   "source": [
    "%%timeit -n 1 -r 1\n",
    "# Linear Regression prediction\n",
    "best_lr.predict(features_test)"
   ]
  },
  {
   "cell_type": "markdown",
   "metadata": {},
   "source": [
    "Based on the RMSE scores scores above, the Decision Tree had the best score, and the Linear Regression model, had the worst as expected. The Linear Regression model was the quickest to train, but had the least accurate results. The Random Forest was the longest to train."
   ]
  },
  {
   "cell_type": "markdown",
   "metadata": {},
   "source": [
    "# Boosting Models\n",
    "\n",
    "## XG Boost"
   ]
  },
  {
   "cell_type": "code",
   "execution_count": 65,
   "metadata": {},
   "outputs": [
    {
     "name": "stdout",
     "output_type": "stream",
     "text": [
      "\n",
      "RMSE of the xgbm model on the validation set: 1565.588698837361\n"
     ]
    }
   ],
   "source": [
    "#%%timeit -n 1 -r 1\n",
    "\n",
    "X2 = df.drop(['Price'], axis=1)\n",
    "y2 = df['Price']\n",
    "\n",
    "lbl = LabelEncoder()\n",
    "X2.VehicleType = lbl.fit_transform(X2.VehicleType.astype(str))\n",
    "X2.Gearbox = lbl.fit_transform(X2.Gearbox.astype(str))\n",
    "X2.Model = lbl.fit_transform(X2.Model.astype(str))\n",
    "X2.FuelType = lbl.fit_transform(X2.FuelType.astype(str))\n",
    "X2.Brand = lbl.fit_transform(X2.Brand.astype(str))\n",
    "X2.NotRepaired = lbl.fit_transform(X2.NotRepaired.astype(str))\n",
    "\n",
    "\n",
    "X2_train, X2_test, y2_train, y2_test = train_test_split(\n",
    "    X2, y2, test_size=0.25, random_state=19)\n",
    "\n",
    "X2_train, X2_valid, y2_train, y2_valid = train_test_split(\n",
    "    X2_train, y2_train, test_size=0.20, random_state=19)\n",
    "\n",
    "\n",
    "# Create a XGBM \n",
    "xgbr = xgb.XGBRegressor(random_state=19, eval_metric='rmse')\n",
    "\n",
    "xgbr.fit(X2_train, y2_train)\n",
    "\n",
    "# Make predictions on the test set\n",
    "predictions_xgbr = xgbr.predict(X2_valid)\n",
    "\n",
    "result = mse(y2_valid, predictions_xgbr) ** 0.5 # calculate RMSE on validation set\n",
    "print()\n",
    "print(\"RMSE of the xgbm model on the validation set:\", result)"
   ]
  },
  {
   "cell_type": "code",
   "execution_count": 66,
   "metadata": {},
   "outputs": [
    {
     "name": "stdout",
     "output_type": "stream",
     "text": [
      "12.5 s ± 0 ns per loop (mean ± std. dev. of 1 run, 1 loop each)\n"
     ]
    }
   ],
   "source": [
    "%%timeit -n 1 -r 1\n",
    "# Create a XGBM  in regular cell\n",
    "xgbr = xgb.XGBRegressor(random_state=19, eval_metric='rmse')\n",
    "\n",
    "xgbr.fit(X2_train, y2_train)"
   ]
  },
  {
   "cell_type": "code",
   "execution_count": 67,
   "metadata": {},
   "outputs": [
    {
     "name": "stdout",
     "output_type": "stream",
     "text": [
      "97.2 ms ± 6.08 ms per loop (mean ± std. dev. of 7 runs, 10 loops each)\n"
     ]
    }
   ],
   "source": [
    "%%timeit\n",
    "# xg boost prediction\n",
    "predictions_xgbr = xgbr.predict(X2_test)"
   ]
  },
  {
   "cell_type": "code",
   "execution_count": 68,
   "metadata": {},
   "outputs": [
    {
     "data": {
      "text/plain": [
       "<bound method XGBModel.get_xgb_params of XGBRegressor(base_score=0.5, booster='gbtree', colsample_bylevel=1,\n",
       "             colsample_bynode=1, colsample_bytree=1, enable_categorical=False,\n",
       "             eval_metric='rmse', gamma=0, gpu_id=-1, importance_type=None,\n",
       "             interaction_constraints='', learning_rate=0.300000012,\n",
       "             max_delta_step=0, max_depth=6, min_child_weight=1, missing=nan,\n",
       "             monotone_constraints='()', n_estimators=100, n_jobs=8,\n",
       "             num_parallel_tree=1, predictor='auto', random_state=19,\n",
       "             reg_alpha=0, reg_lambda=1, scale_pos_weight=1, subsample=1,\n",
       "             tree_method='exact', validate_parameters=1, verbosity=None)>"
      ]
     },
     "execution_count": 68,
     "metadata": {},
     "output_type": "execute_result"
    }
   ],
   "source": [
    "# xg boost parameters\n",
    "xgbr.get_xgb_params"
   ]
  },
  {
   "cell_type": "code",
   "execution_count": 69,
   "metadata": {},
   "outputs": [],
   "source": [
    "# table of feature importance\n",
    "xgbr_imp = [t for t in zip(X2, xgbr.feature_importances_)]\n",
    "xgbr_imp_df = pd.DataFrame(xgbr_imp, columns=['feature', 'varimp'])\n",
    "xgbr_imp_df = xgbr_imp_df.sort_values('varimp', ascending=False)"
   ]
  },
  {
   "cell_type": "code",
   "execution_count": 70,
   "metadata": {},
   "outputs": [
    {
     "name": "stdout",
     "output_type": "stream",
     "text": [
      "            feature    varimp\n",
      "1  RegistrationYear  0.391307\n",
      "3             Power  0.178233\n",
      "8       NotRepaired  0.122409\n",
      "5           Mileage  0.109478\n",
      "0       VehicleType  0.061370\n"
     ]
    }
   ],
   "source": [
    "print(xgbr_imp_df.head())"
   ]
  },
  {
   "cell_type": "markdown",
   "metadata": {},
   "source": [
    "## Light GBM"
   ]
  },
  {
   "cell_type": "code",
   "execution_count": 71,
   "metadata": {},
   "outputs": [
    {
     "name": "stderr",
     "output_type": "stream",
     "text": [
      "/.venv/lib/python3.9/site-packages/lightgbm/engine.py:181: UserWarning: 'early_stopping_rounds' argument is deprecated and will be removed in a future release of LightGBM. Pass 'early_stopping()' callback via 'callbacks' argument instead.\n",
      "  _log_warning(\"'early_stopping_rounds' argument is deprecated and will be removed in a future release of LightGBM. \"\n",
      "/.venv/lib/python3.9/site-packages/lightgbm/engine.py:239: UserWarning: 'verbose_eval' argument is deprecated and will be removed in a future release of LightGBM. Pass 'log_evaluation()' callback via 'callbacks' argument instead.\n",
      "  _log_warning(\"'verbose_eval' argument is deprecated and will be removed in a future release of LightGBM. \"\n",
      "/.venv/lib/python3.9/site-packages/lightgbm/basic.py:1780: UserWarning: Overriding the parameters from Reference Dataset.\n",
      "  _log_warning('Overriding the parameters from Reference Dataset.')\n",
      "/.venv/lib/python3.9/site-packages/lightgbm/basic.py:1513: UserWarning: categorical_column in param dict is overridden.\n",
      "  _log_warning(f'{cat_alias} in param dict is overridden.')\n"
     ]
    },
    {
     "name": "stdout",
     "output_type": "stream",
     "text": [
      "\n",
      "RMSE of the lgbm model on the validation set: 1513.1853481408134\n"
     ]
    }
   ],
   "source": [
    "# LGBM\n",
    "\n",
    "X = df.drop(['Price'], axis=1)\n",
    "y = df['Price']\n",
    "\n",
    "obj_feat = list(X.loc[:, X.dtypes == 'object'].columns.values)\n",
    "\n",
    "for feature in obj_feat:\n",
    "    X[feature] = pd.Series(X[feature], dtype='category')\n",
    "\n",
    "X_train, X_test, y_train, y_test = train_test_split(\n",
    "    X, y, test_size=0.25, random_state=19)\n",
    "\n",
    "X_train, X_valid, y_train, y_valid = train_test_split(\n",
    "    X_train, y_train, test_size=0.20, random_state=19)\n",
    "\n",
    "# Create a LightGBM dataset\n",
    "lgb_train = lgb.Dataset(X_train, y_train, params={'verbose': -1}, free_raw_data=False)\n",
    "lgb_valid = lgb.Dataset(X_valid, y_valid, reference=lgb_train, params={'verbose': -1}, free_raw_data=False)\n",
    "\n",
    "# Define the parameters for the LightGBM model\n",
    "params = {\n",
    "    'objective': 'regression',\n",
    "    'metric': 'root_mean_squared_error',\n",
    "    'boosting_type': 'gbdt',\n",
    "    'random_state': 19,\n",
    "    'verbose':-1\n",
    "}\n",
    "\n",
    "\n",
    "# Train the LightGBM model\n",
    "lgbm = lgb.train(params, lgb_train, valid_sets=lgb_valid, num_boost_round=4000, early_stopping_rounds=500, verbose_eval=False)\n",
    "\n",
    "# Make predictions on the validation set\n",
    "predictions_valid_lgbm = lgbm.predict(X_valid)\n",
    "\n",
    "result = mse(y_valid, predictions_valid_lgbm) ** 0.5 # calculate RMSE on validation set\n",
    "print()\n",
    "print(\"RMSE of the lgbm model on the validation set:\", result)"
   ]
  },
  {
   "cell_type": "code",
   "execution_count": 72,
   "metadata": {},
   "outputs": [
    {
     "name": "stderr",
     "output_type": "stream",
     "text": [
      "/.venv/lib/python3.9/site-packages/lightgbm/engine.py:181: UserWarning: 'early_stopping_rounds' argument is deprecated and will be removed in a future release of LightGBM. Pass 'early_stopping()' callback via 'callbacks' argument instead.\n",
      "  _log_warning(\"'early_stopping_rounds' argument is deprecated and will be removed in a future release of LightGBM. \"\n",
      "/.venv/lib/python3.9/site-packages/lightgbm/engine.py:239: UserWarning: 'verbose_eval' argument is deprecated and will be removed in a future release of LightGBM. Pass 'log_evaluation()' callback via 'callbacks' argument instead.\n",
      "  _log_warning(\"'verbose_eval' argument is deprecated and will be removed in a future release of LightGBM. \"\n"
     ]
    },
    {
     "name": "stdout",
     "output_type": "stream",
     "text": [
      "17.5 s ± 0 ns per loop (mean ± std. dev. of 1 run, 1 loop each)\n"
     ]
    }
   ],
   "source": [
    "%%timeit -n 1 -r 1\n",
    "#time of lgbm training\n",
    "\n",
    "lgbm = lgb.train(params, lgb_train, valid_sets=lgb_valid, num_boost_round=4000, early_stopping_rounds=500, verbose_eval=False)\n"
   ]
  },
  {
   "cell_type": "code",
   "execution_count": 73,
   "metadata": {},
   "outputs": [
    {
     "name": "stdout",
     "output_type": "stream",
     "text": [
      "24.3 ms ± 3.6 ms per loop (mean ± std. dev. of 7 runs, 10 loops each)\n"
     ]
    }
   ],
   "source": [
    "%%timeit\n",
    "# light gbm prediction\n",
    "lgbm.predict(X_valid[:2])"
   ]
  },
  {
   "cell_type": "markdown",
   "metadata": {},
   "source": [
    "<div style=\"border: 5px solid green; padding: 15px; margin: 5px\">\n",
    "<b> Reviewer's comment</b>\n",
    "\n",
    "    \n",
    "Nice results! \n",
    "</div>"
   ]
  },
  {
   "cell_type": "code",
   "execution_count": 74,
   "metadata": {},
   "outputs": [],
   "source": [
    "# table of feature importance\n",
    "feat_imp = [t for t in zip(X, lgbm.feature_importance())]\n",
    "feat_imp_df = pd.DataFrame(feat_imp, columns=['feature', 'varimp'])\n",
    "feat_imp_df = feat_imp_df.sort_values('varimp', ascending=False)"
   ]
  },
  {
   "cell_type": "code",
   "execution_count": 75,
   "metadata": {},
   "outputs": [
    {
     "name": "stdout",
     "output_type": "stream",
     "text": [
      "            feature  varimp\n",
      "3             Power   12047\n",
      "1  RegistrationYear   10361\n",
      "5           Mileage    4762\n",
      "4             Model    4249\n",
      "8       NotRepaired    1869\n",
      "7             Brand    1744\n",
      "0       VehicleType    1685\n",
      "2           Gearbox    1349\n",
      "6          FuelType     634\n"
     ]
    }
   ],
   "source": [
    "print(feat_imp_df)"
   ]
  },
  {
   "cell_type": "markdown",
   "metadata": {},
   "source": [
    "## Catboost"
   ]
  },
  {
   "cell_type": "code",
   "execution_count": 76,
   "metadata": {},
   "outputs": [
    {
     "name": "stdout",
     "output_type": "stream",
     "text": [
      "Learning rate set to 0.087813\n",
      "0:\tlearn: 3543.3507427\ttest: 3527.3896197\tbest: 3527.3896197 (0)\ttotal: 153ms\tremaining: 3m 48s\n",
      "100:\tlearn: 1647.4372765\ttest: 1673.7627285\tbest: 1673.7627285 (100)\ttotal: 7.22s\tremaining: 1m 40s\n",
      "200:\tlearn: 1574.0437046\ttest: 1616.0771667\tbest: 1616.0771667 (200)\ttotal: 14.3s\tremaining: 1m 32s\n",
      "300:\tlearn: 1543.1644349\ttest: 1594.6546361\tbest: 1594.6546361 (300)\ttotal: 21.4s\tremaining: 1m 25s\n",
      "400:\tlearn: 1524.7261121\ttest: 1584.1847285\tbest: 1584.1847285 (400)\ttotal: 28.4s\tremaining: 1m 17s\n",
      "500:\tlearn: 1511.0530377\ttest: 1577.2945929\tbest: 1577.2945929 (500)\ttotal: 35.5s\tremaining: 1m 10s\n",
      "600:\tlearn: 1498.8273073\ttest: 1571.3178445\tbest: 1571.3178445 (600)\ttotal: 42.6s\tremaining: 1m 3s\n",
      "700:\tlearn: 1488.7985203\ttest: 1566.1681386\tbest: 1566.1681386 (700)\ttotal: 49.9s\tremaining: 56.8s\n",
      "800:\tlearn: 1478.5809694\ttest: 1561.5396038\tbest: 1561.5396038 (800)\ttotal: 57.2s\tremaining: 49.9s\n",
      "900:\tlearn: 1470.0566900\ttest: 1557.1400692\tbest: 1557.1325221 (897)\ttotal: 1m 4s\tremaining: 42.7s\n",
      "1000:\tlearn: 1463.2748448\ttest: 1554.4543684\tbest: 1554.4295609 (998)\ttotal: 1m 11s\tremaining: 35.5s\n",
      "1100:\tlearn: 1456.3697165\ttest: 1551.8555845\tbest: 1551.8035426 (1096)\ttotal: 1m 18s\tremaining: 28.5s\n",
      "1200:\tlearn: 1449.8896747\ttest: 1549.0139201\tbest: 1549.0134801 (1199)\ttotal: 1m 25s\tremaining: 21.4s\n",
      "1300:\tlearn: 1443.7353171\ttest: 1547.2267276\tbest: 1547.2267276 (1300)\ttotal: 1m 33s\tremaining: 14.3s\n",
      "1400:\tlearn: 1437.9051956\ttest: 1545.9736227\tbest: 1545.9066883 (1395)\ttotal: 1m 40s\tremaining: 7.1s\n",
      "1499:\tlearn: 1432.7976046\ttest: 1544.6299044\tbest: 1544.6299044 (1499)\ttotal: 1m 47s\tremaining: 0us\n",
      "\n",
      "bestTest = 1544.629904\n",
      "bestIteration = 1499\n",
      "\n",
      "\n",
      "Catboost model on the validation set: \n"
     ]
    },
    {
     "data": {
      "text/plain": [
       "{'learn': {'RMSE': 1432.7976046074089},\n",
       " 'validation': {'RMSE': 1544.6299043536444}}"
      ]
     },
     "execution_count": 76,
     "metadata": {},
     "output_type": "execute_result"
    }
   ],
   "source": [
    "# %%timeit\n",
    "# catboost\n",
    "X1 = df.drop(['Price'], axis=1)\n",
    "y1 = df['Price']\n",
    "\n",
    "\n",
    "X1_train, X1_test, y1_train, y1_test = train_test_split(\n",
    "    X1, y1, test_size=0.25, random_state=19)\n",
    "\n",
    "X1_train, X1_valid, y1_train, y1_valid = train_test_split(\n",
    "    X1_train, y1_train, test_size=0.20, random_state=19)\n",
    "\n",
    "# fill missing values as string NaN\n",
    "\n",
    "cat_features = [\n",
    "    'VehicleType',\n",
    "    'Gearbox',\n",
    "    'Model',\n",
    "    'FuelType', \n",
    "    'Brand', \n",
    "    'NotRepaired'\n",
    "]\n",
    "\n",
    "catb = CatBoostRegressor(task_type='CPU', loss_function='RMSE', eval_metric='RMSE', iterations=1500, random_seed=19)\n",
    "\n",
    "catb.fit(X1_train, y1_train, eval_set=(X1_valid, y1_valid), cat_features=cat_features, verbose=100, use_best_model=True)\n",
    "\n",
    "# Make predictions on the test set\n",
    "predictions_valid_catb = catb.predict(X1_valid)\n",
    "\n",
    "result = mse(y1_valid, predictions_valid_catb) ** 0.5 # calculate RMSE on validation set\n",
    "print()\n",
    "print(\"Catboost model on the validation set: \")\n",
    "catb.best_score_\n"
   ]
  },
  {
   "cell_type": "code",
   "execution_count": 77,
   "metadata": {},
   "outputs": [
    {
     "name": "stdout",
     "output_type": "stream",
     "text": [
      "1.31 s ± 0 ns per loop (mean ± std. dev. of 1 run, 1 loop each)\n"
     ]
    }
   ],
   "source": [
    "%%timeit -n 1 -r 1\n",
    "# catboost predictions\n",
    "catb.predict(X1)"
   ]
  },
  {
   "cell_type": "code",
   "execution_count": 78,
   "metadata": {},
   "outputs": [],
   "source": [
    "# table of feature importance\n",
    "feat_import = [t for t in zip(X1, catb.get_feature_importance())]\n",
    "feat_import_df = pd.DataFrame(feat_import, columns=['feature', 'varimp'])\n",
    "feat_import_df = feat_import_df.sort_values('varimp', ascending=False)"
   ]
  },
  {
   "cell_type": "code",
   "execution_count": 79,
   "metadata": {},
   "outputs": [
    {
     "name": "stdout",
     "output_type": "stream",
     "text": [
      "            feature     varimp\n",
      "1  RegistrationYear  36.351880\n",
      "3             Power  22.277118\n",
      "0       VehicleType  12.271684\n",
      "5           Mileage   9.858834\n",
      "7             Brand   9.188712\n",
      "4             Model   4.079490\n",
      "8       NotRepaired   3.814352\n",
      "6          FuelType   1.594394\n",
      "2           Gearbox   0.563538\n"
     ]
    }
   ],
   "source": [
    "print(feat_import_df)"
   ]
  },
  {
   "cell_type": "markdown",
   "metadata": {},
   "source": [
    "Based on these results the lgbm model has the best RMSE, then the Catboost model and the xgb model has the highest score.  The Catboost model took the longest to train, but was the fastest with predictions. The xgb model was the fastest with training and the lgbm model was the sloest with predictions."
   ]
  },
  {
   "cell_type": "markdown",
   "metadata": {},
   "source": [
    "<div style=\"border: 5px solid green; padding: 15px; margin: 5px\">\n",
    "<b> Reviewer's comment</b>\n",
    "\n",
    "    \n",
    "Great! \n",
    "</div>"
   ]
  },
  {
   "cell_type": "markdown",
   "metadata": {},
   "source": [
    "## Model analysis"
   ]
  },
  {
   "cell_type": "markdown",
   "metadata": {},
   "source": [
    "Next we will compare all of the different models and boosting methods, to determine which one is best."
   ]
  },
  {
   "cell_type": "code",
   "execution_count": 80,
   "metadata": {},
   "outputs": [
    {
     "data": {
      "image/png": "[encoded data removed]",
      "text/plain": [
       "<Figure size 1000x600 with 1 Axes>"
      ]
     },
     "metadata": {},
     "output_type": "display_data"
    }
   ],
   "source": [
    "# Sample data \n",
    "regr_rmse = [4649, 7420]  #truncated RMSE to integer(did not round) #left out linear regression as it skewed the chart too mcuh since it was so high\n",
    "boost_rmse = [1736, 1644, 1698] #truncated RMSE to integer(did not round)\n",
    "\n",
    "# Labels for x-axis\n",
    "regr_labels = ['decision tree', 'random forest']\n",
    "boost_labels = ['xg boost', 'light gbm', 'catboost']\n",
    "\n",
    "# Create figure and axis\n",
    "plt.figure(figsize=(10, 6))\n",
    "\n",
    "# Plot each group\n",
    "plt.plot(regr_labels, regr_rmse, marker='o', label='Traditional Models')\n",
    "plt.plot(boost_labels, boost_rmse, marker='o', label='Boosting Models')\n",
    "\n",
    "# Chart styling\n",
    "plt.title('Model RMSE Comparison')\n",
    "plt.ylabel('RMSE')\n",
    "plt.legend()\n",
    "plt.grid(True)\n",
    "plt.tight_layout()\n",
    "\n",
    "# Show plot\n",
    "plt.show()\n"
   ]
  },
  {
   "cell_type": "code",
   "execution_count": 81,
   "metadata": {},
   "outputs": [
    {
     "data": {
      "image/png": "[encoded data removed]",
      "text/plain": [
       "<Figure size 1000x600 with 1 Axes>"
      ]
     },
     "metadata": {},
     "output_type": "display_data"
    }
   ],
   "source": [
    "# Sample data \n",
    "regr_predict_time = [4.67, 175, 25] \n",
    "boost_predict_time = [99.8, 24.7, 1350]\n",
    "\n",
    "# Labels for x-axis\n",
    "regr_labels = ['decision tree', 'random forest', 'linear regression']\n",
    "boost_labels = ['xg boost', 'light gbm', 'catboost']\n",
    "\n",
    "# Create figure and axis\n",
    "plt.figure(figsize=(10, 6))\n",
    "\n",
    "# Plot each group\n",
    "plt.plot(regr_labels, regr_predict_time, marker='o', label='Traditional Models')\n",
    "plt.plot(boost_labels, boost_predict_time, marker='o', label='Boosting Models')\n",
    "\n",
    "# Chart styling\n",
    "plt.title('Model Prediction Time Comparison')\n",
    "plt.ylabel('Time (ms)')\n",
    "plt.legend()\n",
    "plt.grid(True)\n",
    "plt.tight_layout()\n",
    "\n",
    "# Show plot\n",
    "plt.show()\n"
   ]
  },
  {
   "cell_type": "markdown",
   "metadata": {},
   "source": [
    "<div style=\"border: 5px solid green; padding: 15px; margin: 5px\">\n",
    "<b>   Reviewer's comment 2 </b>\n",
    "    \n",
    "Great! \n",
    "</div>\n",
    "\n",
    "<div style=\"border: 5px solid gold; padding: 15px; margin: 5px\">\n",
    "<b>   Reviewer's comment 2 </b>\n",
    "    \n",
    "Consider using two separate charts, as blue and orange lines have very different scales. It will be easier to compare time values on two separate charts. \n",
    "</div>"
   ]
  },
  {
   "cell_type": "markdown",
   "metadata": {},
   "source": [
    "<div style=\"border: 5px solid green; padding: 15px; margin: 5px\">\n",
    "<b> Reviewer's comment</b>\n",
    "\n",
    "    \n",
    "Since the difference between these values is low, it's better to use a bar chart. \n",
    "</div>\n",
    "<div style=\"border: 5px solid red; padding: 15px; margin: 5px\">\n",
    "<b>   Reviewer's comment </b>\n",
    "\n",
    "    \n",
    "Would you please compare their prediction time as well? The best model isn't always the one with the lowest error. Sometimes the errors are only slightly different, but the prediction time varies significantly. In such cases, it's worth considering a faster model. Think of a slow search engine that finds 10 useful links versus a fast one that finds 9. This is especially important if the model needs to operate in real time and produce results repeatedly. If a program runs just once, its speed might not even matter. But if it’s used continuously, optimization becomes crucial. So, in practice, apart from the other requirements, there are also runtime constraints for the model.\n",
    "\n",
    "\n",
    "</div>    "
   ]
  },
  {
   "cell_type": "markdown",
   "metadata": {},
   "source": [
    "As the chart clearly demonstrates, light gbm gives us the most accurate model by RMSE and has the fastest prediction time.  As we discussed in the previous section, it takes a little more time to train, 30.8s, compared to faster models, but it is not all that slow.  Same goes for its prediction speeds although it is the slowest. Therefore, it would be the best model to use for Rusty Bargain as it would create the most accurate value for the cars, it is fairly quick with training, and although it is the slowest with prediction it only takes an average of 25 ms to run, which for a user will not be too long to wait."
   ]
  },
  {
   "cell_type": "markdown",
   "metadata": {},
   "source": [
    "Run the Final Model - Light GBM"
   ]
  },
  {
   "cell_type": "code",
   "execution_count": null,
   "metadata": {},
   "outputs": [],
   "source": [
    "# Make predictions on the validation set\n",
    "predictions_test_lgbm = lgbm.predict(X_test)\n",
    "\n",
    "result = mse(y_test, predictions_test_lgbm) ** 0.5 # calculate RMSE on test set\n",
    "print()\n",
    "print(\"RMSE of the lgbm model on the test set:\", result)"
   ]
  },
  {
   "cell_type": "markdown",
   "metadata": {},
   "source": [
    "<div style=\"border: 5px solid green; padding: 15px; margin: 5px\">\n",
    "<b>   Reviewer's comment 2 </b>\n",
    "    \n",
    "Well done! I ran the project on my local device, so there's no output here. \n",
    "</div>"
   ]
  },
  {
   "cell_type": "markdown",
   "metadata": {},
   "source": [
    "<div style=\"border: 5px solid green; padding: 15px; margin: 5px\">\n",
    "<b>   Reviewer's comment </b>\n",
    "\n",
    "\n",
    "    \n",
    "Good!     \n",
    "    \n",
    "</div> "
   ]
  },
  {
   "cell_type": "markdown",
   "metadata": {},
   "source": [
    "<div style=\"border: 5px solid red; padding: 15px; margin: 5px\">\n",
    "<b> Reviewer's comment</b>\n",
    "    \n",
    "\n",
    "    \n",
    "Let's add the overall conclusion to your project: what has been done and what can be inferred from the results. What models did you test? What are their RMSE scores? What are their speed values? Why did you choose a specific model and how did it perform on the final test? \n",
    "\n",
    "\n",
    "</div>"
   ]
  },
  {
   "cell_type": "markdown",
   "metadata": {},
   "source": [
    "# Conclusion\n",
    "\n",
    "Based on the results of this project we have determined that the Light GBM model would be the most effective for the Rusty Bargain app to determine a car's value.  This is because although it is in the middle for training time speed out of all the models tested it has the best RMSE, so the best accuracy) and a very low prediction speed, meaning that it would provide an answer very quickly for customers using the app. To determine what model was best, we tested all our basic regression models and hypertuned the parameters to ensure the best results and then did the same for multiple gradient boosting models.  Comparing the RMSE scores Light GBM was the best at 1644, then CatBoost at 1698, then XG Boost at 1736, then our Decision Tree at 4649, then our Random Forest at 7420 and our linear regression model with the worst RMSE of over 165 million.  Training and Prediction speed is where CatBoost fell behind being the slowest in both. Light GBM and XG Boost were the next 2 slowest in training followed by the Random Forest Model and the Decision Tree with the Linear Regression being the fastest.  This shows that Gradient Boosting models may take more time to train, but can be more accurate, and once trained generally (besdies CatBoost), have fairly quick prediction times."
   ]
  },
  {
   "cell_type": "markdown",
   "metadata": {},
   "source": [
    "<div style=\"border: 5px solid green; padding: 15px; margin: 5px\">\n",
    "<b>   Reviewer's comment 2 </b>\n",
    "    \n",
    "Excellent job! \n",
    "</div>"
   ]
  },
  {
   "cell_type": "code",
   "execution_count": null,
   "metadata": {},
   "outputs": [],
   "source": []
  },
  {
   "cell_type": "markdown",
   "metadata": {},
   "source": [
    "# Checklist"
   ]
  },
  {
   "cell_type": "markdown",
   "metadata": {},
   "source": [
    "Type 'x' to check. Then press Shift+Enter."
   ]
  },
  {
   "cell_type": "markdown",
   "metadata": {},
   "source": [
    "- [x]  Jupyter Notebook is open\n",
    "- [ ]  Code is error free\n",
    "- [x]  The cells with the code have been arranged in order of execution\n",
    "- [x]  The data has been downloaded and prepared\n",
    "- [x]  The models have been trained\n",
    "- [x]  The analysis of speed and quality of the models has been performed"
   ]
  },
  {
   "cell_type": "code",
   "execution_count": null,
   "metadata": {},
   "outputs": [],
   "source": []
  }
 ],
 "metadata": {
  "kernelspec": {
   "display_name": "Python 3 (ipykernel)",
   "language": "python",
   "name": "python3"
  },
  "language_info": {
   "codemirror_mode": {
    "name": "ipython",
    "version": 3
   },
   "file_extension": ".py",
   "mimetype": "text/x-python",
   "name": "python",
   "nbconvert_exporter": "python",
   "pygments_lexer": "ipython3",
   "version": "3.9.22"
  }
 },
 "nbformat": 4,
 "nbformat_minor": 4
}
