{
 "cells": [
  {
   "cell_type": "markdown",
   "id": "458509ea",
   "metadata": {},
   "source": [
    "<div style=\"border:solid blue 2px; padding: 20px\">\n",
    "\n",
    "**Hello Elizabeth,**\n",
    "\n",
    "\n",
    "Thank you for thoroughly addressing all the points raised in the previous review.\n",
    "\n",
    "I truly appreciate the care you’ve taken in fixing each issue. The project looks excellent now.\n",
    "\n",
    "Congratulations once again on your journey and accomplishments. Your project has been accepted.\n",
    "\n",
    "Keep up the amazing work! 🪄\n",
    "\n",
    "</div>  \n",
    "\n"
   ]
  },
  {
   "cell_type": "markdown",
   "id": "ef2a33d2",
   "metadata": {},
   "source": [
    "<div style=\"border:solid blue 2px; padding: 20px\">\n",
    "\n",
    "**Hello Elizabeth,**\n",
    "\n",
    "Congratulations on submitting your second Python practical project! 🎉  \n",
    "\n",
    "You’re making fantastic progress, and every project you complete brings you closer to mastering the skills needed to excel in data analysis. Your dedication and hard work are evident, and you should be proud of this achievement.  \n",
    "\n",
    "Keep up the great momentum — let’s dive into this project together!  \n",
    "\n",
    "---\n",
    "\n",
    "You’ll find specific notes inside the project file, marked in green, yellow, or red. Below is a quick guide to what each color represents. **Note:** Please do not remove or alter my comments, as they’ll help guide future reviews and make the process smoother for both of us.  \n",
    "\n",
    "<div class=\"alert alert-success\"; style=\"border-left: 7px solid green\">\n",
    "<b>✅ Reviewer’s Comment</b>  \n",
    "\n",
    "These comments highlight efficient solutions and great ideas that you can apply to future projects.  \n",
    "</div>  \n",
    "\n",
    "<div class=\"alert alert-warning\"; style=\"border-left: 7px solid gold\">\n",
    "<b>⚠️ Reviewer’s Comment</b>  \n",
    "\n",
    "These comments point out areas for optimization. While corrections are not mandatory, addressing them will enhance your project.  \n",
    "</div>  \n",
    "\n",
    "<div class=\"alert alert-danger\"; style=\"border-left: 7px solid red\">\n",
    "<b>⛔️ Reviewer’s Comment</b>  \n",
    "\n",
    "These comments indicate issues that must be resolved before your project can be accepted.  \n",
    "</div>  \n",
    "\n",
    "---\n",
    "\n",
    "**Project Review Summary:**  \n",
    "\n",
    "**What Went Well:**  \n",
    "\n",
    "- **Data Pre-Processing:** You demonstrated a solid understanding of Python by applying the necessary methods to pre-process the data effectively. Excellent work here!\n",
    "  \n",
    "- **Code Quality:** Your code is both optimal and easy to follow, showcasing not only your technical skills but also your ability to write clean, maintainable code.\n",
    "  \n",
    "- **Data Visualization:** The charts you plotted effectively answered the questions posed in the analysis. They were well-designed, formatted professionally, and provided clear insights. Fantastic job!\n",
    "    \n",
    "\n",
    "**Areas for Improvement:**  \n",
    "\n",
    "- Add a project title and introduction to provide context.  \n",
    "- Include intermediary and overall conclusions for clarity.  \n",
    "- Identify and count duplicated product names, excluding missing values.  \n",
    "- Confirm that all orders with missing values in the add_to_cart_order column correspond to orders containing more than 64 products. This could provide insight into potential system or data collection issues.\n",
    "\n",
    "\n",
    "---\n",
    "\n",
    "Feel free to add your own comments, explain the changes you’ve made, or ask questions by using the example below. Simply copy and paste the code into a Markdown cell:  \n",
    "\n",
    "```\n",
    "<div class=\"alert alert-info\"; style=\"border-left: 7px solid blue\">\n",
    "<b>Student’s Comment</b></div>\n",
    "```  \n",
    "\n",
    "It will appear like this:  \n",
    "\n",
    "<div class=\"alert alert-info\"; style=\"border-left: 7px solid blue\">\n",
    "<b>Student’s Comment</b></div>  \n",
    "\n",
    "---\n",
    "\n",
    "Revisions are a natural and essential part of the learning process, so don’t be discouraged! Take your time to review the feedback and make the necessary updates. Once you’re ready, resubmit the project, and I’m confident you’ll excel on your next attempt.  \n",
    "\n",
    "Remember, every challenge is an opportunity to grow. You’ve got this! 🏄  \n",
    "\n",
    "</div>  \n",
    "\n"
   ]
  },
  {
   "cell_type": "markdown",
   "id": "3eb9d8f6",
   "metadata": {},
   "source": [
    "<div class=\"alert alert-success\"; style=\"border-left: 7px solid green\">\n",
    "<b>✅ Reviewer's comment, v. 2</b> \n",
    "    \n",
    "✔️ \n",
    "    \n",
    "\n",
    "\n",
    "<div class=\"alert alert-danger\"; style=\"border-left: 7px solid red\">\n",
    "<b>⛔️ Reviewer's comment, v. 1</b> \n",
    "\n",
    "\n",
    "A project title and introduction are essential to provide context and clarity to your work. Please ensure these elements are included.\n",
    "\n",
    "For the introduction, it would be most effective to cover the following:\n",
    "\n",
    "- A brief overview of the situation or problem being addressed;\n",
    "- A clear statement of the project's objective, outlining what you aim to achieve;\n",
    "- A description of the dataset(s) you'll be using, highlighting key attributes and any relevant details;\n",
    "- A brief plan or strategy detailing how you intend to reach your goal.\n",
    "\n",
    "</div>\n"
   ]
  },
  {
   "cell_type": "markdown",
   "id": "31a77a18",
   "metadata": {},
   "source": [
    "Title: 2017 Instacart Customer Trends\n",
    "\n",
    "Datasets: Data dictionary\n",
    "There are five tables in the dataset, and you’ll need to use all of them to do your data preprocessing and EDA. Below is a data dictionary that lists the columns in each table and describes that data that hold.\n",
    "\n",
    "instacart_orders.csv: each row corresponds to one order on the Instacart app\n",
    "'order_id': ID number that uniquely identifies each order\n",
    "'user_id': ID number that uniquely identifies each customer account\n",
    "'order_number': the number of times this customer has placed an order\n",
    "'order_dow': day of the week that the order placed (which day is 0 is uncertain)\n",
    "'order_hour_of_day': hour of the day that the order was placed\n",
    "'days_since_prior_order': number of days since this customer placed their previous order\n",
    "products.csv: each row corresponds to a unique product that customers can buy\n",
    "'product_id': ID number that uniquely identifies each product\n",
    "'product_name': name of the product\n",
    "'aisle_id': ID number that uniquely identifies each grocery aisle category\n",
    "'department_id': ID number that uniquely identifies each grocery department category\n",
    "order_products.csv: each row corresponds to one item placed in an order\n",
    "'order_id': ID number that uniquely identifies each order\n",
    "'product_id': ID number that uniquely identifies each product\n",
    "'add_to_cart_order': the sequential order in which each item was placed in the cart\n",
    "'reordered': 0 if the customer has never ordered this product before, 1 if they have\n",
    "aisles.csv\n",
    "'aisle_id': ID number that uniquely identifies each grocery aisle category\n",
    "'aisle': name of the aisle\n",
    "departments.csv\n",
    "'department_id': ID number that uniquely identifies each grocery department category\n",
    "'department': name of the department"
   ]
  },
  {
   "cell_type": "code",
   "execution_count": 1,
   "id": "fbf1adab",
   "metadata": {
    "trusted": false
   },
   "outputs": [],
   "source": [
    "import pandas as pd"
   ]
  },
  {
   "cell_type": "code",
   "execution_count": 2,
   "id": "ad36396d",
   "metadata": {
    "trusted": false
   },
   "outputs": [
    {
     "name": "stdout",
     "output_type": "stream",
     "text": [
      "<class 'pandas.core.frame.DataFrame'>\n",
      "RangeIndex: 478967 entries, 0 to 478966\n",
      "Data columns (total 6 columns):\n",
      " #   Column                  Non-Null Count   Dtype  \n",
      "---  ------                  --------------   -----  \n",
      " 0   order_id                478967 non-null  int64  \n",
      " 1   user_id                 478967 non-null  int64  \n",
      " 2   order_number            478967 non-null  int64  \n",
      " 3   order_dow               478967 non-null  int64  \n",
      " 4   order_hour_of_day       478967 non-null  int64  \n",
      " 5   days_since_prior_order  450148 non-null  float64\n",
      "dtypes: float64(1), int64(5)\n",
      "memory usage: 21.9 MB\n",
      "\n",
      "        order_id  user_id  order_number  order_dow  order_hour_of_day  \\\n",
      "476225    109606   147170            11          2                  6   \n",
      "191931    653530   150132             4          2                 14   \n",
      "134537   1573768   160512             5          1                  9   \n",
      "181087   1517366    75943            51          2                  7   \n",
      "89040     586025   187692             9          3                 17   \n",
      "182220    688614   153967             9          4                 15   \n",
      "106392   2171295    36641             7          4                 17   \n",
      "478019    998839    68906            11          0                 22   \n",
      "210911   2317215    38399            22          4                 10   \n",
      "297417   1377050   140698            40          4                 15   \n",
      "\n",
      "        days_since_prior_order  \n",
      "476225                    17.0  \n",
      "191931                    27.0  \n",
      "134537                    13.0  \n",
      "181087                     3.0  \n",
      "89040                     12.0  \n",
      "182220                    10.0  \n",
      "106392                    17.0  \n",
      "478019                     6.0  \n",
      "210911                     8.0  \n",
      "297417                    12.0  \n"
     ]
    }
   ],
   "source": [
    "df_instacart = pd.read_csv('/datasets/instacart_orders.csv',sep=\";\")\n",
    "df_instacart.info() #get the info of the data set\n",
    "#see a sample of the dataframe\n",
    "print()\n",
    "print(df_instacart.sample(10))"
   ]
  },
  {
   "cell_type": "code",
   "execution_count": 3,
   "id": "ad6a1efa",
   "metadata": {
    "trusted": false
   },
   "outputs": [
    {
     "name": "stdout",
     "output_type": "stream",
     "text": [
      "<class 'pandas.core.frame.DataFrame'>\n",
      "RangeIndex: 49694 entries, 0 to 49693\n",
      "Data columns (total 4 columns):\n",
      " #   Column         Non-Null Count  Dtype \n",
      "---  ------         --------------  ----- \n",
      " 0   product_id     49694 non-null  int64 \n",
      " 1   product_name   48436 non-null  object\n",
      " 2   aisle_id       49694 non-null  int64 \n",
      " 3   department_id  49694 non-null  int64 \n",
      "dtypes: int64(3), object(1)\n",
      "memory usage: 1.5+ MB\n",
      "\n",
      "       product_id                                       product_name  \\\n",
      "39025       39026                                                NaN   \n",
      "41423       41424                         Organic Wheat Soba Noodles   \n",
      "46560       46561  Organic Superfood Oat Based Espresso Maca Mulb...   \n",
      "26645       26646                                  Wintergreen Mints   \n",
      "45034       45035                               Coffee Flavor Yogurt   \n",
      "8023         8024                         Duck Eggs Organic Pastured   \n",
      "16247       16248                                    Tropical Medley   \n",
      "2701         2702                 Biscuits for Dogs less than 20 lbs   \n",
      "34197       34198                                    Fortune Cookies   \n",
      "22967       22968        G Series Strawberry Watermelon Sports Drink   \n",
      "\n",
      "       aisle_id  department_id  \n",
      "39025       100             21  \n",
      "41423        66              6  \n",
      "46560       130             14  \n",
      "26645        46             19  \n",
      "45034       120             16  \n",
      "8023         86             16  \n",
      "16247       123              4  \n",
      "2701         40              8  \n",
      "34197        66              6  \n",
      "22967        64              7  \n"
     ]
    }
   ],
   "source": [
    "df_products = pd.read_csv('/datasets/products.csv', sep=\";\")\n",
    "df_products.info()#get the info of the data set\n",
    "#see a sample of the dataframe\n",
    "print()\n",
    "print(df_products.sample(10))"
   ]
  },
  {
   "cell_type": "code",
   "execution_count": 4,
   "id": "5130e05e",
   "metadata": {
    "trusted": false
   },
   "outputs": [
    {
     "name": "stdout",
     "output_type": "stream",
     "text": [
      "<class 'pandas.core.frame.DataFrame'>\n",
      "RangeIndex: 134 entries, 0 to 133\n",
      "Data columns (total 2 columns):\n",
      " #   Column    Non-Null Count  Dtype \n",
      "---  ------    --------------  ----- \n",
      " 0   aisle_id  134 non-null    int64 \n",
      " 1   aisle     134 non-null    object\n",
      "dtypes: int64(1), object(1)\n",
      "memory usage: 2.2+ KB\n",
      "\n",
      "     aisle_id                    aisle\n",
      "5           6                    other\n",
      "111       112                    bread\n",
      "29         30             latino foods\n",
      "38         39          seafood counter\n",
      "105       106   hot dogs bacon sausage\n",
      "127       128     tortillas flat bread\n",
      "62         63  grains rice dried goods\n",
      "131       132                   beauty\n",
      "8           9              pasta sauce\n",
      "24         25                     soap\n",
      "\n",
      "aisle_id    0\n",
      "aisle       0\n",
      "dtype: int64\n"
     ]
    }
   ],
   "source": [
    "df_aisles = pd.read_csv('/datasets/aisles.csv', sep = \";\")\n",
    "df_aisles.info()#get the info of the data set\n",
    "#see a sample of the dataframe\n",
    "print()\n",
    "print(df_aisles.sample(10))\n",
    "#calculate the number of missing values\n",
    "print()\n",
    "print(df_aisles.isna().sum()) "
   ]
  },
  {
   "cell_type": "markdown",
   "id": "d9775edd",
   "metadata": {},
   "source": [
    "there are no missing values in df_aisles, don't need to address anything here"
   ]
  },
  {
   "cell_type": "markdown",
   "id": "589d319a",
   "metadata": {},
   "source": [
    "<div class=\"alert alert-success\"; style=\"border-left: 7px solid green\">\n",
    "<b>✅ Reviewer's comment, v. 2</b> \n",
    "    \n",
    "✔️ \n",
    "    \n",
    "\n",
    "\n",
    "<div class=\"alert alert-warning\" style=\"border-left: 7px solid gold\">\n",
    "<b>⚠️ Reviewer's Comment, v. 1</b> \n",
    "\n",
    "Please use Markdown cells for comments and conclusions, as this format is intended for descriptive text. Code cells should contain only brief comments specifically related to the code.\n",
    "\n",
    "To change a cell type to Markdown, use the top navigation bar: create a new cell with the `+` button, then select the cell and choose \"Markdown\" from the dropdown menu where it currently says \"Code.\"\n",
    "\n",
    "</div>"
   ]
  },
  {
   "cell_type": "code",
   "execution_count": 5,
   "id": "d8370c05",
   "metadata": {
    "trusted": false
   },
   "outputs": [
    {
     "name": "stdout",
     "output_type": "stream",
     "text": [
      "<class 'pandas.core.frame.DataFrame'>\n",
      "RangeIndex: 21 entries, 0 to 20\n",
      "Data columns (total 2 columns):\n",
      " #   Column         Non-Null Count  Dtype \n",
      "---  ------         --------------  ----- \n",
      " 0   department_id  21 non-null     int64 \n",
      " 1   department     21 non-null     object\n",
      "dtypes: int64(1), object(1)\n",
      "memory usage: 464.0+ bytes\n",
      "\n",
      "    department_id       department\n",
      "1               2            other\n",
      "11             12     meat seafood\n",
      "6               7        beverages\n",
      "14             15     canned goods\n",
      "3               4          produce\n",
      "9              10             bulk\n",
      "15             16       dairy eggs\n",
      "8               9  dry goods pasta\n",
      "16             17        household\n",
      "4               5          alcohol\n",
      "\n",
      "department_id    0\n",
      "department       0\n",
      "dtype: int64\n"
     ]
    }
   ],
   "source": [
    "df_departments = pd.read_csv('/datasets/departments.csv', sep =\";\")\n",
    "df_departments.info()#get the info of the data set\n",
    "#see a sample of the dataframe\n",
    "print()\n",
    "print(df_departments.sample(10))\n",
    "#calculate the number of missing values\n",
    "print()\n",
    "print(df_departments.isna().sum())"
   ]
  },
  {
   "cell_type": "markdown",
   "id": "1ed10c25",
   "metadata": {},
   "source": [
    "there are no missing values in df_departments, don't need to address anything here"
   ]
  },
  {
   "cell_type": "code",
   "execution_count": 6,
   "id": "59e2090f",
   "metadata": {
    "trusted": false
   },
   "outputs": [
    {
     "name": "stdout",
     "output_type": "stream",
     "text": [
      "<class 'pandas.core.frame.DataFrame'>\n",
      "RangeIndex: 4545007 entries, 0 to 4545006\n",
      "Data columns (total 4 columns):\n",
      " #   Column             Non-Null Count    Dtype  \n",
      "---  ------             --------------    -----  \n",
      " 0   order_id           4545007 non-null  int64  \n",
      " 1   product_id         4545007 non-null  int64  \n",
      " 2   add_to_cart_order  4544171 non-null  float64\n",
      " 3   reordered          4545007 non-null  int64  \n",
      "dtypes: float64(1), int64(3)\n",
      "memory usage: 138.7 MB\n",
      "\n",
      "         order_id  product_id  add_to_cart_order  reordered\n",
      "4038678   1006832       42701                4.0          0\n",
      "2019227    573112       31717               11.0          0\n",
      "2368369    765713       30949               12.0          1\n",
      "1877835   2340447       26949                3.0          1\n",
      "3672090    462020       39301                4.0          1\n",
      "2123907    929705       28849               18.0          1\n",
      "4251047    447583       28800                2.0          0\n",
      "4050729   2431460       21463                7.0          0\n",
      "4405774       250       17902                1.0          1\n",
      "574437     305684       28999               12.0          0\n"
     ]
    }
   ],
   "source": [
    "df_order_products = pd.read_csv('/datasets/order_products.csv', sep=\";\")\n",
    "df_order_products.info(show_counts=True)#get the info of the data set\n",
    "#see a sample of the dataframe\n",
    "print()\n",
    "print(df_order_products.sample(10))\n"
   ]
  },
  {
   "cell_type": "markdown",
   "id": "98ed0862",
   "metadata": {},
   "source": [
    "<div class=\"alert alert-success\"; style=\"border-left: 7px solid green\">\n",
    "<b>✅ Reviewer's Comment, v. 1</b>\n",
    "\n",
    "Great job! You’ve employed a comprehensive set of methods to get an initial overview of the data.\n",
    "\n",
    "Another useful method for quickly scanning a dataset is `describe()`. It provides a summary of key statistics for numeric data."
   ]
  },
  {
   "cell_type": "markdown",
   "id": "815fb375",
   "metadata": {},
   "source": [
    "Summary of Data:\n",
    "For all dataframes the column names are clear represenatations of what is in them, so no need to change.  It is also clear that there is some overlap in column names which will likely be helpful in indexing and merging down the line, so it seems beneficial to keep them the same now.  There are object, integer and float data types. The only object data types seem to be where products, aisles or departments are named.  These make sense and should stay that way. The id columns (ex: user_id, product_id, etc) all seem to be integer columns. All though these are numbers, we could consider changing them to object type as they are identifiers and not numbers that we would want to do airthmetic with. For now we can leave them, but if this affects future calculations, we may want to consider changing them. Some counts like days_since_last_order and add_to_cart_order are float data types.  On reviewing most of these are whole numbers, so we could consider changing to integer types, but will not affect our ability to do arithemitic with them so we do not have to change at this time. There are missing values in days_since_prior_order in df_instacart, product_names in df_products, and add_to_cart_order in df_order_products.  Later on we we dive deeper into these missing values, to determine if there is an explanation for them being missing and if it would be best for our analysis to fill them appropriately. "
   ]
  },
  {
   "cell_type": "markdown",
   "id": "7ff13aa7",
   "metadata": {},
   "source": []
  },
  {
   "cell_type": "markdown",
   "id": "60c4c936",
   "metadata": {},
   "source": [
    "<div class=\"alert alert-success\"; style=\"border-left: 7px solid green\">\n",
    "<b>✅ Reviewer's comment, v. 2</b> \n",
    "    \n",
    "✔️ Excellent.\n",
    "    \n",
    "\n",
    "\n",
    "\n",
    "<div class=\"alert alert-danger\"; style=\"border-left: 7px solid red\">\n",
    "<b>⛔️ Reviewer's comment, v. 1</b> \n",
    "\n",
    "    \n",
    "After you've studied the data don't forget to write a brief summary of your observations.\n",
    "    \n",
    "In your observations, it is recommended to include the following:\n",
    "\n",
    "- **Column names** – Indicate if any columns require renaming.\n",
    "- **Data types** – Verify whether the current data types are optimal or need modification.\n",
    "- **Missing values** – If the non-null count is less than the total number of entries, this indicates missing values.\n",
    "\n"
   ]
  },
  {
   "cell_type": "markdown",
   "id": "07357848-dc64-4156-9cc3-01ff4365226d",
   "metadata": {},
   "source": [
    "## Find and remove duplicate values (and describe why you make your choices)"
   ]
  },
  {
   "cell_type": "markdown",
   "id": "f179f0a9",
   "metadata": {},
   "source": [
    "### `orders` data frame"
   ]
  },
  {
   "cell_type": "code",
   "execution_count": 7,
   "id": "b99297a5-405a-463d-8535-9adc3da4ad74",
   "metadata": {
    "trusted": false
   },
   "outputs": [
    {
     "name": "stdout",
     "output_type": "stream",
     "text": [
      "15\n"
     ]
    }
   ],
   "source": [
    "# Check for duplicated orders\n",
    "\n",
    "print(df_instacart.duplicated().sum())\n",
    "# number of duplicated rows (orders) in instacart orders dataset"
   ]
  },
  {
   "cell_type": "code",
   "execution_count": 8,
   "id": "0d44de5d",
   "metadata": {
    "trusted": false
   },
   "outputs": [
    {
     "name": "stdout",
     "output_type": "stream",
     "text": [
      "        order_id  user_id  order_number  order_dow  order_hour_of_day  \\\n",
      "4838     2766110   162084            41          3                  2   \n",
      "5156     2190225   138285            18          3                  2   \n",
      "15506     553049    58599            13          3                  2   \n",
      "18420     382357   120200            19          3                  2   \n",
      "24691     690242    77357             2          3                  2   \n",
      "...          ...      ...           ...        ...                ...   \n",
      "457013   3384021    14881             6          3                  2   \n",
      "458816    910166   164782            18          3                  2   \n",
      "459635   1680532   106435             6          3                  2   \n",
      "468324    222962    54979            59          3                  2   \n",
      "477526   2592344    46860            38          3                  2   \n",
      "\n",
      "        days_since_prior_order  \n",
      "4838                      16.0  \n",
      "5156                      11.0  \n",
      "15506                      7.0  \n",
      "18420                     11.0  \n",
      "24691                      9.0  \n",
      "...                        ...  \n",
      "457013                    30.0  \n",
      "458816                     4.0  \n",
      "459635                    21.0  \n",
      "468324                     3.0  \n",
      "477526                     3.0  \n",
      "\n",
      "[121 rows x 6 columns]\n"
     ]
    }
   ],
   "source": [
    "# Check for all orders placed Wednesday at 2:00 AM\n",
    "#per Kaggle competition discussion 0=Sun, 1=Mon etc. \n",
    "dow_dict= {0:'sun', 1:'mon', 2:'tues', 3:'wed', 4:'thurs', 5:'fri', 6:'sat'}\n",
    "\n",
    "two_AM_Wed = df_instacart.query(\"order_hour_of_day == 2 and order_dow == 3\")\n",
    "print(two_AM_Wed)\n"
   ]
  },
  {
   "cell_type": "code",
   "execution_count": 9,
   "id": "480563c7",
   "metadata": {
    "trusted": false
   },
   "outputs": [
    {
     "name": "stdout",
     "output_type": "stream",
     "text": [
      "   order_id  user_id  order_number  order_dow  order_hour_of_day  \\\n",
      "0   1515936   183418            11          6                 13   \n",
      "1   1690866   163593             5          5                 12   \n",
      "2   1454967    39980             4          5                 19   \n",
      "3   1768857    82516            56          0                 20   \n",
      "4   3007858   196724             2          4                 12   \n",
      "\n",
      "   days_since_prior_order  \n",
      "0                    30.0  \n",
      "1                     9.0  \n",
      "2                     2.0  \n",
      "3                    10.0  \n",
      "4                    17.0  \n"
     ]
    }
   ],
   "source": [
    "# Remove duplicate orders\n",
    "df_instacart= df_instacart.drop_duplicates()\n",
    "print(df_instacart.head())"
   ]
  },
  {
   "cell_type": "code",
   "execution_count": 10,
   "id": "0b2396a2",
   "metadata": {
    "trusted": false
   },
   "outputs": [
    {
     "name": "stdout",
     "output_type": "stream",
     "text": [
      "0\n"
     ]
    }
   ],
   "source": [
    "# Double check for duplicate rows\n",
    "print(df_instacart.duplicated().sum())"
   ]
  },
  {
   "cell_type": "code",
   "execution_count": 11,
   "id": "f6113ef1",
   "metadata": {
    "trusted": false
   },
   "outputs": [
    {
     "name": "stdout",
     "output_type": "stream",
     "text": [
      "0\n"
     ]
    }
   ],
   "source": [
    "# Double check for duplicate order IDs only\n",
    "print(df_instacart['order_id'].duplicated().sum())"
   ]
  },
  {
   "cell_type": "markdown",
   "id": "5e8905ae",
   "metadata": {},
   "source": [
    "In this section we found that there were 15 duplicate rows of orders in our instacart orders table. Each row of this table represents an order, so fully duplicated rows can be dropped as we only need to analyze an individual order once.  It can also skew the frequency of day of the week or time shopped by having extra values there. We also got some clarity on which numbers represented which day of the week. 0= Sunday, 1=Monday and so on until 6=Saturday.  We were able to filter the data to see exactly how many orders were placed at 2AM on a Wednesday which can be helpful for analyzing time of day people shop most later down the road. "
   ]
  },
  {
   "cell_type": "markdown",
   "id": "60d4e276",
   "metadata": {},
   "source": [
    "<div class=\"alert alert-success\" style=\"border-left: 7px solid green\">\n",
    "<b>✅ Reviewer's Comment, v. 1</b>\n",
    "\n",
    "Well done! You have completed all the necessary checks and data pre-processing.\n",
    "</div>\n"
   ]
  },
  {
   "cell_type": "markdown",
   "id": "ce6a3fa5",
   "metadata": {},
   "source": [
    "<div class=\"alert alert-success\"; style=\"border-left: 7px solid green\">\n",
    "<b>✅ Reviewer's comment, v. 2</b> \n",
    "    \n",
    "✔️ Great job.\n",
    "    \n",
    "\n",
    "\n",
    "<div class=\"alert alert-danger\"; style=\"border-left: 7px solid red\">\n",
    "<b>⛔️ Reviewer's comment, v. 1</b> \n",
    "\n",
    " \n",
    "It is highly recommended to add a conclusion or summary ***at the end of each section***. This should briefly describe your observations and highlight any major outcomes from your analysis for a business customer, framing them in a way that directly addresses the concerns and interests of business stakeholders. "
   ]
  },
  {
   "cell_type": "markdown",
   "id": "45e6bc46",
   "metadata": {},
   "source": [
    "### `products` data frame"
   ]
  },
  {
   "cell_type": "code",
   "execution_count": 12,
   "id": "5f526b5b-8175-46fa-a0fd-441767d50e64",
   "metadata": {
    "trusted": false
   },
   "outputs": [
    {
     "name": "stdout",
     "output_type": "stream",
     "text": [
      "0\n"
     ]
    }
   ],
   "source": [
    "# Check for fully duplicate rows\n",
    "print(df_products.duplicated().sum())"
   ]
  },
  {
   "cell_type": "code",
   "execution_count": 13,
   "id": "88daa4f4",
   "metadata": {
    "trusted": false
   },
   "outputs": [
    {
     "name": "stdout",
     "output_type": "stream",
     "text": [
      "0\n"
     ]
    }
   ],
   "source": [
    "# Check for just duplicate product IDs\n",
    "print(df_products['product_id'].duplicated().sum())"
   ]
  },
  {
   "cell_type": "code",
   "execution_count": 14,
   "id": "c773f0bf",
   "metadata": {
    "trusted": false
   },
   "outputs": [
    {
     "name": "stdout",
     "output_type": "stream",
     "text": [
      "1361\n"
     ]
    }
   ],
   "source": [
    "# Check for just duplicate product names (convert names to lowercase to compare better)\n",
    "print(df_products['product_name'].str.lower().duplicated().sum())"
   ]
  },
  {
   "cell_type": "code",
   "execution_count": 15,
   "id": "01efd02e",
   "metadata": {
    "trusted": false
   },
   "outputs": [
    {
     "name": "stdout",
     "output_type": "stream",
     "text": [
      "Series([], Name: product_name, dtype: object)\n",
      "0\n"
     ]
    }
   ],
   "source": [
    "# Check for duplicate product names that aren't missing\n",
    "duplicates = (~(df_products['product_name'].isna()) & (df_products['product_name'].duplicated()))\n",
    "duplicate_product_names= df_products.loc[duplicates, 'product_name']\n",
    "print(duplicate_product_names)\n",
    "print(duplicate_product_names.sum())"
   ]
  },
  {
   "cell_type": "code",
   "execution_count": 16,
   "id": "fbf370ad",
   "metadata": {
    "trusted": false
   },
   "outputs": [
    {
     "data": {
      "text/html": [
       "<div>\n",
       "<style scoped>\n",
       "    .dataframe tbody tr th:only-of-type {\n",
       "        vertical-align: middle;\n",
       "    }\n",
       "\n",
       "    .dataframe tbody tr th {\n",
       "        vertical-align: top;\n",
       "    }\n",
       "\n",
       "    .dataframe thead th {\n",
       "        text-align: right;\n",
       "    }\n",
       "</style>\n",
       "<table border=\"1\" class=\"dataframe\">\n",
       "  <thead>\n",
       "    <tr style=\"text-align: right;\">\n",
       "      <th></th>\n",
       "      <th>product_id</th>\n",
       "      <th>product_name</th>\n",
       "      <th>aisle_id</th>\n",
       "      <th>department_id</th>\n",
       "    </tr>\n",
       "  </thead>\n",
       "  <tbody>\n",
       "    <tr>\n",
       "      <th>2058</th>\n",
       "      <td>2059</td>\n",
       "      <td>Biotin 1000 Mcg</td>\n",
       "      <td>47</td>\n",
       "      <td>11</td>\n",
       "    </tr>\n",
       "    <tr>\n",
       "      <th>5455</th>\n",
       "      <td>5456</td>\n",
       "      <td>Green Tea With Ginseng and Honey</td>\n",
       "      <td>96</td>\n",
       "      <td>20</td>\n",
       "    </tr>\n",
       "    <tr>\n",
       "      <th>5558</th>\n",
       "      <td>5559</td>\n",
       "      <td>Cream Of Mushroom Soup</td>\n",
       "      <td>69</td>\n",
       "      <td>15</td>\n",
       "    </tr>\n",
       "    <tr>\n",
       "      <th>7558</th>\n",
       "      <td>7559</td>\n",
       "      <td>Cinnamon Rolls with Icing</td>\n",
       "      <td>105</td>\n",
       "      <td>13</td>\n",
       "    </tr>\n",
       "    <tr>\n",
       "      <th>9037</th>\n",
       "      <td>9038</td>\n",
       "      <td>American Cheese slices</td>\n",
       "      <td>21</td>\n",
       "      <td>16</td>\n",
       "    </tr>\n",
       "    <tr>\n",
       "      <th>...</th>\n",
       "      <td>...</td>\n",
       "      <td>...</td>\n",
       "      <td>...</td>\n",
       "      <td>...</td>\n",
       "    </tr>\n",
       "    <tr>\n",
       "      <th>49689</th>\n",
       "      <td>49690</td>\n",
       "      <td>HIGH PERFORMANCE ENERGY DRINK</td>\n",
       "      <td>64</td>\n",
       "      <td>7</td>\n",
       "    </tr>\n",
       "    <tr>\n",
       "      <th>49690</th>\n",
       "      <td>49691</td>\n",
       "      <td>ORIGINAL PANCAKE &amp; WAFFLE MIX</td>\n",
       "      <td>130</td>\n",
       "      <td>14</td>\n",
       "    </tr>\n",
       "    <tr>\n",
       "      <th>49691</th>\n",
       "      <td>49692</td>\n",
       "      <td>ORGANIC INSTANT OATMEAL LIGHT MAPLE BROWN SUGAR</td>\n",
       "      <td>130</td>\n",
       "      <td>14</td>\n",
       "    </tr>\n",
       "    <tr>\n",
       "      <th>49692</th>\n",
       "      <td>49693</td>\n",
       "      <td>SPRING WATER BODY WASH</td>\n",
       "      <td>127</td>\n",
       "      <td>11</td>\n",
       "    </tr>\n",
       "    <tr>\n",
       "      <th>49693</th>\n",
       "      <td>49694</td>\n",
       "      <td>BURRITO- STEAK &amp; CHEESE</td>\n",
       "      <td>38</td>\n",
       "      <td>1</td>\n",
       "    </tr>\n",
       "  </tbody>\n",
       "</table>\n",
       "<p>104 rows × 4 columns</p>\n",
       "</div>"
      ],
      "text/plain": [
       "       product_id                                     product_name  aisle_id  \\\n",
       "2058         2059                                  Biotin 1000 Mcg        47   \n",
       "5455         5456                 Green Tea With Ginseng and Honey        96   \n",
       "5558         5559                           Cream Of Mushroom Soup        69   \n",
       "7558         7559                        Cinnamon Rolls with Icing       105   \n",
       "9037         9038                           American Cheese slices        21   \n",
       "...           ...                                              ...       ...   \n",
       "49689       49690                    HIGH PERFORMANCE ENERGY DRINK        64   \n",
       "49690       49691                    ORIGINAL PANCAKE & WAFFLE MIX       130   \n",
       "49691       49692  ORGANIC INSTANT OATMEAL LIGHT MAPLE BROWN SUGAR       130   \n",
       "49692       49693                           SPRING WATER BODY WASH       127   \n",
       "49693       49694                          BURRITO- STEAK & CHEESE        38   \n",
       "\n",
       "       department_id  \n",
       "2058              11  \n",
       "5455              20  \n",
       "5558              15  \n",
       "7558              13  \n",
       "9037              16  \n",
       "...              ...  \n",
       "49689              7  \n",
       "49690             14  \n",
       "49691             14  \n",
       "49692             11  \n",
       "49693              1  \n",
       "\n",
       "[104 rows x 4 columns]"
      ]
     },
     "execution_count": 16,
     "metadata": {},
     "output_type": "execute_result"
    }
   ],
   "source": [
    "# added by reviewer\n",
    "\n",
    "df_products[df_products['product_name'].notna() & (df_products['product_name'].str.lower().duplicated())]\n"
   ]
  },
  {
   "cell_type": "markdown",
   "id": "d2da4c91",
   "metadata": {},
   "source": [
    "<div class=\"alert alert-warning\"; style=\"border-left: 7px solid gold\">\n",
    "<b>⚠️ Reviewer's comment, v. 2</b> \n",
    "    \n",
    "Oh, I see.\n",
    "    \n",
    "Please note (I did not mention it in my previous comment) that we need to check the duplicates among the lower case product names. And also a useful method to check for non-missing values is `notna()`. \n",
    " \n",
    "So, I corrected your code slightly and showed above that we have 104 such duplicates. The purpose of this exercise was to check how many of the 1361 duplicated product names you determined earlier are real duplicates and not just missing values (which are also considered duplicates). So, now we can see that only 104 are really duplicated, the rest is just missing.\n",
    "\n",
    "\n",
    "<div class=\"alert alert-danger\"; style=\"border-left: 7px solid red\">  \n",
    "<b>⛔️ Reviewer's Comment, v. 1</b>  \n",
    "\n",
    "You haven’t yet filled in the missing values with `'unknown'` (this will be done at a later step, after you've studied the missing values). So, could you please review the approach above and check the number of product names that are duplicates but not missing, in line with the task?  \n",
    "    \n",
    "   \n"
   ]
  },
  {
   "cell_type": "markdown",
   "id": "9d11d3a0",
   "metadata": {},
   "source": [
    "<div class=\"alert alert-info\"; style=\"border-left: 7px solid blue\">\n",
    "<b>Sorry about that!  Originally, I checked for missing values in the top section and moved it once I got there and forgot to come back and fix it before submitting!  This should be better now!</b></div>\n"
   ]
  },
  {
   "cell_type": "markdown",
   "id": "9da8d293",
   "metadata": {},
   "source": [
    "Here we look at duplicate values in the products table. There are no duplicate rows, so we dig deeper to see if there are any duplicates in any of the columns and find that there are 1361 in the product_name column. In the first section we did see that there were missing values in this column resulting in NaN.  As there are multiple missing values we know that at least some of these will account for our duplicates, but are there any others that we have to address.  We filter all of the product names that aren't missing and get an empty data set which tells us that ALL of our duplicate values are missing values.  We will analyze our missing values later on and address at that time."
   ]
  },
  {
   "cell_type": "markdown",
   "id": "60f30db1",
   "metadata": {},
   "source": [
    "### `departments` data frame"
   ]
  },
  {
   "cell_type": "code",
   "execution_count": 17,
   "id": "fb410ad4-0fbf-4b80-bb09-23fdea79afe3",
   "metadata": {
    "trusted": false
   },
   "outputs": [
    {
     "name": "stdout",
     "output_type": "stream",
     "text": [
      "0\n"
     ]
    }
   ],
   "source": [
    "print(df_departments.duplicated().sum())\n",
    "#shows there are no duplicate rows "
   ]
  },
  {
   "cell_type": "code",
   "execution_count": 18,
   "id": "1583bff9",
   "metadata": {
    "trusted": false
   },
   "outputs": [
    {
     "name": "stdout",
     "output_type": "stream",
     "text": [
      "0\n",
      "0\n"
     ]
    }
   ],
   "source": [
    "print(df_departments['department_id'].duplicated().sum())\n",
    "print(df_departments['department'].duplicated().sum())"
   ]
  },
  {
   "cell_type": "markdown",
   "id": "bd30d78e",
   "metadata": {},
   "source": [
    "There are no duplicate rows or duplicate values in either column in the departments dataframe"
   ]
  },
  {
   "cell_type": "markdown",
   "id": "889349c1",
   "metadata": {},
   "source": [
    "### `aisles` data frame"
   ]
  },
  {
   "cell_type": "code",
   "execution_count": 19,
   "id": "9da89fb9-4679-40f5-ad0d-c34df753a3f8",
   "metadata": {
    "trusted": false
   },
   "outputs": [
    {
     "name": "stdout",
     "output_type": "stream",
     "text": [
      "0\n"
     ]
    }
   ],
   "source": [
    "print(df_aisles.duplicated().sum())\n",
    "#shows there are no duplicate rows"
   ]
  },
  {
   "cell_type": "code",
   "execution_count": 20,
   "id": "da7c2822",
   "metadata": {
    "trusted": false
   },
   "outputs": [
    {
     "name": "stdout",
     "output_type": "stream",
     "text": [
      "0\n",
      "0\n"
     ]
    }
   ],
   "source": [
    "print(df_aisles['aisle'].duplicated().sum())\n",
    "print(df_aisles['aisle_id'].duplicated().sum())"
   ]
  },
  {
   "cell_type": "markdown",
   "id": "ac63826f",
   "metadata": {},
   "source": [
    "There are no duplicate rows or duplicate values in either column in the aisles dataframe"
   ]
  },
  {
   "cell_type": "markdown",
   "id": "274cd06a",
   "metadata": {},
   "source": [
    "### `order_products` data frame"
   ]
  },
  {
   "cell_type": "code",
   "execution_count": 21,
   "id": "52326689-84a8-4b8f-a881-7c68780f62c9",
   "metadata": {
    "trusted": false
   },
   "outputs": [
    {
     "name": "stdout",
     "output_type": "stream",
     "text": [
      "0\n"
     ]
    }
   ],
   "source": [
    "# Check for fullly duplicate rows\n",
    "print(df_order_products.duplicated().sum())\n",
    "#shows there are no duplicate rows"
   ]
  },
  {
   "cell_type": "code",
   "execution_count": 22,
   "id": "7b861391",
   "metadata": {
    "trusted": false
   },
   "outputs": [
    {
     "name": "stdout",
     "output_type": "stream",
     "text": [
      "24852    66050\n",
      "13176    53297\n",
      "21137    37039\n",
      "21903    33971\n",
      "47209    29773\n",
      "         ...  \n",
      "10543        1\n",
      "5222         1\n",
      "2347         1\n",
      "11893        1\n",
      "32074        1\n",
      "Name: product_id, Length: 45573, dtype: int64\n",
      "\n",
      "product_id  reordered\n",
      "1           1            158\n",
      "            0            122\n",
      "2           0             11\n",
      "3           1             31\n",
      "            0             11\n",
      "                        ... \n",
      "49692       1              5\n",
      "49693       0             14\n",
      "            1             11\n",
      "49694       0              6\n",
      "            1              3\n",
      "Name: reordered, Length: 79992, dtype: int64\n"
     ]
    }
   ],
   "source": [
    "# Double check for any other tricky duplicates\n",
    "#reordered products could potentially produce duplicates but rows won't be exactly identical. Because order_id will change, so you can check for duplicates in product_id column to see if there are duplicates\n",
    "print(df_order_products['product_id'].value_counts())\n",
    "print()\n",
    "print(df_order_products.groupby('product_id')['reordered'].value_counts())\n",
    "#this shows that there are duplicates of products ordered"
   ]
  },
  {
   "cell_type": "code",
   "execution_count": 23,
   "id": "1e6442e2",
   "metadata": {
    "trusted": false
   },
   "outputs": [
    {
     "name": "stdout",
     "output_type": "stream",
     "text": [
      "0\n"
     ]
    }
   ],
   "source": [
    "order_id_and_product_id_duplicate_combos= df_order_products[['order_id','product_id']].duplicated().sum()\n",
    "print(order_id_and_product_id_duplicate_combos)"
   ]
  },
  {
   "cell_type": "markdown",
   "id": "0b890492",
   "metadata": {},
   "source": [
    "Based on this analysis we can assure that not only are there no duplicate rows, there are no duplicate combinations of order_id and product_id.  There are duplicated product_ids d/t reordering, BUT they are in a completely separate order."
   ]
  },
  {
   "cell_type": "markdown",
   "id": "706cb12e",
   "metadata": {},
   "source": [
    "<div class=\"alert alert-success\"; style=\"border-left: 7px solid green\">\n",
    "<b>✅ Reviewer's comment, v. 2</b> \n",
    "    \n",
    "✔️ Great job. \n",
    "    \n",
    "\n",
    "\n",
    "<div class=\"alert alert-danger\"; style=\"border-left: 7px solid red\">\n",
    "<b>⛔️ Reviewer's comment, v. 1</b> \n",
    "\n",
    "\n",
    "When checking for duplicates, it's important to look beyond full duplicates and also verify the uniqueness of combinations that should be unique. In this case, we need to ensure that there are no repeated combinations of order_id and product_id. Could you please try to do that?"
   ]
  },
  {
   "cell_type": "markdown",
   "id": "df041d49",
   "metadata": {},
   "source": [
    "<div class=\"alert alert-info\"; style=\"border-left: 7px solid blue\">\n",
    "<b>I added a section to filter for repeated combinations of order_id and product_id, was my thought about duplicate product_ids d/t reordering off? </b>\n",
    "\n",
    "<div class=\"alert alert-success\"; style=\"border-left: 7px solid green\">\n",
    "<b>✅ Reviewer's comment, v. 2</b> \n",
    "\n",
    "✔️ Your approach to filtering for repeated combinations of order_id and product_id looks great now. Though I’m not entirely sure I fully understand the reasoning behind your check for reordered products. It might just need a bit more clarification 🤔\n",
    "\n",
    "\n",
    "</div>"
   ]
  },
  {
   "cell_type": "markdown",
   "id": "1e46de76",
   "metadata": {},
   "source": [
    "## Find and remove missing values\n"
   ]
  },
  {
   "cell_type": "markdown",
   "id": "c0aebd78",
   "metadata": {},
   "source": [
    "### `products` data frame"
   ]
  },
  {
   "cell_type": "code",
   "execution_count": 24,
   "id": "fe4a8b0f",
   "metadata": {
    "trusted": false
   },
   "outputs": [
    {
     "name": "stdout",
     "output_type": "stream",
     "text": [
      "product_id          0\n",
      "product_name     1258\n",
      "aisle_id            0\n",
      "department_id       0\n",
      "dtype: int64\n",
      "\n",
      "NaN                                                       1258\n",
      "Spoon Size Wheat 'n Bran Shredded Wheat Cereal               1\n",
      "Organic Spinach & Cheese Tortellini                          1\n",
      "Organic Baby Rainbow Carrots                                 1\n",
      "Organic Red Chard Greens                                     1\n",
      "                                                          ... \n",
      "Rioja                                                        1\n",
      "Selected Italian Plum Tomatoes                               1\n",
      "Unsweetened Elegant Jasmine Green Tea                        1\n",
      "Very Emollient Fragrance Free Mineral Sunscreen SPF 30       1\n",
      "Organic Premium Sweet Petite Mini Peeled Carrots             1\n",
      "Name: product_name, Length: 48437, dtype: int64\n"
     ]
    }
   ],
   "source": [
    "print(df_products.isna().sum())\n",
    "#see the unique values including the missing value counts\n",
    "print()\n",
    "print(df_products['product_name'].value_counts(dropna=False))"
   ]
  },
  {
   "cell_type": "code",
   "execution_count": 25,
   "id": "e96167bc",
   "metadata": {
    "trusted": false
   },
   "outputs": [
    {
     "name": "stdout",
     "output_type": "stream",
     "text": [
      "       product_id product_name  aisle_id  department_id\n",
      "37             38          NaN       100             21\n",
      "71             72          NaN       100             21\n",
      "109           110          NaN       100             21\n",
      "296           297          NaN       100             21\n",
      "416           417          NaN       100             21\n",
      "...           ...          ...       ...            ...\n",
      "49552       49553          NaN       100             21\n",
      "49574       49575          NaN       100             21\n",
      "49640       49641          NaN       100             21\n",
      "49663       49664          NaN       100             21\n",
      "49668       49669          NaN       100             21\n",
      "\n",
      "[1258 rows x 4 columns]\n",
      "1258\n"
     ]
    }
   ],
   "source": [
    "# Are all of the missing product names associated with aisle ID 100?\n",
    "df_missing_products_aisle= df_products[(df_products['product_name'].isna()) & (df_products['aisle_id']== 100)]\n",
    "print(df_missing_products_aisle)\n",
    "count_missing_products_aisle = len(df_missing_products_aisle)\n",
    "print(count_missing_products_aisle) \n",
    "# First line of code filters out all product_names that are missing AND in aisle 100.  When we count the number of rows with this filter it = 1258 which is the total number of missing values\n",
    "# therefore we can conclude ALL of the missing product names are associated with aisle ID 100"
   ]
  },
  {
   "cell_type": "code",
   "execution_count": 26,
   "id": "8fd0a541",
   "metadata": {
    "trusted": false
   },
   "outputs": [
    {
     "name": "stdout",
     "output_type": "stream",
     "text": [
      "       product_id product_name  aisle_id  department_id\n",
      "37             38          NaN       100             21\n",
      "71             72          NaN       100             21\n",
      "109           110          NaN       100             21\n",
      "296           297          NaN       100             21\n",
      "416           417          NaN       100             21\n",
      "...           ...          ...       ...            ...\n",
      "49552       49553          NaN       100             21\n",
      "49574       49575          NaN       100             21\n",
      "49640       49641          NaN       100             21\n",
      "49663       49664          NaN       100             21\n",
      "49668       49669          NaN       100             21\n",
      "\n",
      "[1258 rows x 4 columns]\n",
      "1258\n"
     ]
    }
   ],
   "source": [
    "# Are all of the missing product names associated with department ID 21?\n",
    "df_missing_products_department= df_products[(df_products['product_name'].isna()) & (df_products['department_id']== 21)]\n",
    "print(df_missing_products_department)\n",
    "count_missing_products_department = len(df_missing_products_department)\n",
    "print(count_missing_products_department) \n",
    "# First line of code filters out all product_names that are missing AND in department 21.  When we count the number of rows with this filter it = 1258 which is the total number of missing values\n",
    "# therefore we can conclude ALL of the missing product names are associated with department ID 21"
   ]
  },
  {
   "cell_type": "code",
   "execution_count": 27,
   "id": "325c3464",
   "metadata": {
    "trusted": false
   },
   "outputs": [
    {
     "name": "stdout",
     "output_type": "stream",
     "text": [
      "    aisle_id    aisle\n",
      "99       100  missing\n",
      "    department_id department\n",
      "20             21    missing\n"
     ]
    }
   ],
   "source": [
    "# What is this ailse and department?\n",
    "print(df_aisles.query(\"aisle_id == 100\"))\n",
    "print(df_departments.query(\"department_id == 21\"))\n",
    "#The missing products are in the missing aisle and department"
   ]
  },
  {
   "cell_type": "code",
   "execution_count": 28,
   "id": "6b295120",
   "metadata": {
    "trusted": false
   },
   "outputs": [
    {
     "name": "stdout",
     "output_type": "stream",
     "text": [
      "product_id       0\n",
      "product_name     0\n",
      "aisle_id         0\n",
      "department_id    0\n",
      "dtype: int64\n"
     ]
    }
   ],
   "source": [
    "# Fill missing product names with 'Unknown'\n",
    "df_products['product_name'] = df_products['product_name'].fillna(value='unknown')\n",
    "print(df_products.isna().sum()) #run again to check that there are no more missing values"
   ]
  },
  {
   "cell_type": "markdown",
   "id": "d1b34784",
   "metadata": {},
   "source": [
    "<div class=\"alert alert-success\" style=\"border-left: 7px solid green\">\n",
    "<b>✅ Reviewer's Comment, v. 1</b>\n",
    "\n",
    "Great job on the checks and data pre-processing.\n",
    "</div>\n"
   ]
  },
  {
   "cell_type": "markdown",
   "id": "fc70e5ad",
   "metadata": {},
   "source": [
    "Based on this analysis we were able to find that all of the missing product names were in the missing department and aisle, almost like a miscellanous category.  We can fill these missing values as unknown. "
   ]
  },
  {
   "cell_type": "markdown",
   "id": "7eb45c86",
   "metadata": {},
   "source": [
    "### `orders` data frame"
   ]
  },
  {
   "cell_type": "code",
   "execution_count": 29,
   "id": "93e41d96",
   "metadata": {
    "trusted": false
   },
   "outputs": [
    {
     "name": "stdout",
     "output_type": "stream",
     "text": [
      "order_id                      0\n",
      "user_id                       0\n",
      "order_number                  0\n",
      "order_dow                     0\n",
      "order_hour_of_day             0\n",
      "days_since_prior_order    28817\n",
      "dtype: int64\n",
      "\n",
      "30.0    51337\n",
      "7.0     44577\n",
      "6.0     33930\n",
      "4.0     31006\n",
      "3.0     30224\n",
      "5.0     30096\n",
      "NaN     28817\n",
      "2.0     27138\n",
      "8.0     25361\n",
      "1.0     20179\n",
      "9.0     16753\n",
      "14.0    13992\n",
      "10.0    13309\n",
      "13.0    11737\n",
      "11.0    11467\n",
      "12.0    10658\n",
      "0.0      9589\n",
      "15.0     9416\n",
      "16.0     6587\n",
      "21.0     6448\n",
      "17.0     5498\n",
      "20.0     5302\n",
      "18.0     4971\n",
      "19.0     4939\n",
      "22.0     4514\n",
      "28.0     3745\n",
      "23.0     3337\n",
      "24.0     3015\n",
      "27.0     2986\n",
      "25.0     2711\n",
      "29.0     2673\n",
      "26.0     2640\n",
      "Name: days_since_prior_order, dtype: int64\n"
     ]
    }
   ],
   "source": [
    "#calculate the number of missing values\n",
    "print(df_instacart.isna().sum())\n",
    "#see the unique values including the missing value counts\n",
    "print()\n",
    "print(df_instacart['days_since_prior_order'].value_counts(dropna=False))\n",
    "#only 6% of the values are missing and we likely won't need this column for later calculations so will not fill missing values at this time"
   ]
  },
  {
   "cell_type": "code",
   "execution_count": 30,
   "id": "166e5a86",
   "metadata": {
    "trusted": false
   },
   "outputs": [
    {
     "name": "stdout",
     "output_type": "stream",
     "text": [
      "Empty DataFrame\n",
      "Columns: [order_id, user_id, order_number, order_dow, order_hour_of_day, days_since_prior_order]\n",
      "Index: []\n",
      "\n",
      "order_id                  28817\n",
      "user_id                   28817\n",
      "order_number              28817\n",
      "order_dow                 28817\n",
      "order_hour_of_day         28817\n",
      "days_since_prior_order        0\n",
      "dtype: int64\n"
     ]
    }
   ],
   "source": [
    "# Are there any missing values where it's not a customer's first order?\n",
    "not_first_order_missing_values = df_instacart[df_instacart[\"days_since_prior_order\"].isna() &(df_instacart['order_number'] != 1)]\n",
    "print(not_first_order_missing_values)\n",
    "# above filters data on the condition that it is missing values in days_since_prior_order AND the order_number is not 1 (the first order), this comes up with a blank data set indicating there are no values that meet both these conditions\n",
    "print()\n",
    "first_order_missing_values = df_instacart[df_instacart[\"days_since_prior_order\"].isna() &(df_instacart['order_number'] == 1)]\n",
    "print(first_order_missing_values.count())\n",
    "#to double check filtered data on the condition that days_since_prior_order is missing AND it is their first order. This came back with 28,817 values which is the total number of missing values\n",
    "#From this we can conclude ALL the missing values in days_since_prior_order are because they are no previous orders"
   ]
  },
  {
   "cell_type": "markdown",
   "id": "4e23d089",
   "metadata": {},
   "source": [
    "<div class=\"alert alert-success\" style=\"border-left: 7px solid green\">\n",
    "<b>✅ Reviewer's Comment, v. 1</b>\n",
    "\n",
    "Yes, indeed. So, the gaps are logical and do not need to be filled in.</div>\n"
   ]
  },
  {
   "cell_type": "markdown",
   "id": "69dc9ca4",
   "metadata": {},
   "source": [
    "### `order_products` data frame"
   ]
  },
  {
   "cell_type": "code",
   "execution_count": 31,
   "id": "b8240253",
   "metadata": {
    "trusted": false
   },
   "outputs": [
    {
     "name": "stdout",
     "output_type": "stream",
     "text": [
      "order_id               0\n",
      "product_id             0\n",
      "add_to_cart_order    836\n",
      "reordered              0\n",
      "dtype: int64\n"
     ]
    }
   ],
   "source": [
    "#calculate the number of missing values\n",
    "print(df_order_products.isna().sum()) "
   ]
  },
  {
   "cell_type": "code",
   "execution_count": 32,
   "id": "9a78e5ee",
   "metadata": {
    "trusted": false
   },
   "outputs": [
    {
     "name": "stdout",
     "output_type": "stream",
     "text": [
      "min equals: 1.0\n",
      "\n",
      "max equals: 64.0\n"
     ]
    }
   ],
   "source": [
    "# What are the min and max values in this column?\n",
    "min= df_order_products['add_to_cart_order'].min()\n",
    "print('min equals:', min)\n",
    "print()\n",
    "max= df_order_products['add_to_cart_order'].max()\n",
    "print('max equals:', max)"
   ]
  },
  {
   "cell_type": "code",
   "execution_count": 33,
   "id": "ab9d0c2b",
   "metadata": {
    "scrolled": true,
    "trusted": false
   },
   "outputs": [
    {
     "name": "stdout",
     "output_type": "stream",
     "text": [
      "[2449164, 1968313, 2926893, 1717990, 1959075, 844733, 61355, 936852, 264710, 1717990, 1564093, 129627, 264710, 293169, 2849370, 1386261, 3308010, 903110, 2136777, 3347453, 1888628, 165801, 2449164, 2094761, 3347453, 1038146, 2136777, 2997021, 844733, 844733, 2136777, 813364, 165801, 2256933, 171934, 264710, 2449164, 2409109, 3347453, 813364, 2926893, 936852, 1730767, 1169835, 733526, 844733, 293169, 61355, 903110, 1968313, 733526, 2136777, 2926893, 404157, 1386261, 171934, 3125735, 747668, 3308010, 1169835, 1800005, 1961723, 936852, 2849370, 3308010, 61355, 871281, 1717990, 813364, 388234, 61355, 3125735, 1959075, 61355, 3125735, 1648217, 171934, 3125735, 61355, 1477139, 1959075, 1717990, 1717990, 61355, 1717990, 171934, 1038146, 3308010, 3347453, 102236, 936852, 171934, 1730767, 2926893, 1021563, 1832957, 1959075, 2256933, 1968313, 2721963, 293169, 102236, 3125735, 1959075, 264710, 678116, 1220886, 1386261, 171934, 1959075, 61355, 3308010, 61355, 102236, 388234, 171934, 3308010, 1961723, 2721963, 3308010, 1564093, 264710, 404157, 1673227, 813364, 2094761, 844733, 1386261, 1959075, 3125735, 61355, 102236, 3308010, 1386261, 936852, 2999801, 1038146, 1888628, 813364, 1800005, 1968313, 3308010, 2449164, 388234, 3125735, 102236, 903110, 1832957, 102236, 3308010, 2926893, 388234, 1800005, 2094761, 2721963, 844733, 2136777, 2926893, 813364, 2136777, 1673227, 1633337, 1021563, 102236, 1800005, 1477139, 2470674, 1220886, 2470674, 1648217, 264710, 1832957, 2721963, 2849370, 2625444, 871281, 1717990, 1220886, 1677118, 1730767, 1730767, 678116, 102236, 2136777, 61355, 2136777, 903110, 844733, 2849370, 1832957, 1730767, 2479011, 3383594, 61355, 1832957, 1021563, 1021563, 1959075, 1832957, 813364, 61355, 61355, 2926893, 1959075, 1648217, 2136777, 264710, 1800005, 2094761, 2926893, 1959075, 264710, 61355, 3308010, 2256933, 936852, 3308010, 1038146, 1183255, 2256933, 1832957, 1386261, 1713430, 1730767, 2136777, 3308010, 1717990, 171934, 1968313, 1717990, 2136777, 1648217, 1968313, 2652650, 733526, 1673227, 2849370, 61355, 3308010, 1169835, 3308010, 171934, 2999801, 1717990, 1386261, 936852, 1968313, 1713430, 1800005, 2136777, 264710, 264710, 2926893, 165801, 1598369, 2997021, 1730767, 61355, 1916118, 1730767, 3308010, 2479011, 2449164, 61355, 3125735, 2094761, 1888628, 3125735, 264710, 171934, 1800005, 1038146, 1959075, 102236, 3308010, 1386261, 1800005, 2470674, 2926893, 2470674, 102236, 3308010, 1717990, 903110, 2997021, 129627, 3383594, 3308010, 1386261, 854647, 102236, 1038146, 3308010, 936852, 264710, 264710, 1800005, 61355, 1220886, 2136777, 293169, 1800005, 1888628, 813364, 2136777, 61355, 1730767, 1021563, 2721963, 1730767, 1564093, 3308010, 2849370, 3308010, 1302315, 1888628, 61355, 1959075, 61355, 2136777, 733526, 3308010, 1730767, 1183255, 264710, 1730767, 678116, 2721963, 2136777, 3308010, 2721963, 2409109, 871281, 171934, 678116, 2849370, 813364, 3125735, 1730767, 61355, 2999801, 1648217, 936852, 3125735, 61355, 2849370, 1220886, 1959075, 2256933, 171934, 2926893, 2926893, 404157, 2136777, 3308010, 1021563, 404157, 171934, 61355, 2094761, 1832957, 293169, 813364, 293169, 3125735, 1021563, 1800005, 3308010, 936852, 264710, 171934, 888470, 1673227, 871281, 1800005, 3308010, 1730767, 180546, 2621907, 1730767, 936852, 1959075, 1169835, 1730767, 2926893, 854647, 2449164, 3308010, 2470674, 1183255, 61355, 1386261, 903110, 2094761, 903110, 264710, 1648217, 293169, 2479011, 1730767, 1730767, 2926893, 61355, 3125735, 1959075, 2409109, 2926893, 1021563, 1386261, 3308010, 2926893, 1800005, 61355, 2449164, 102236, 3308010, 1308785, 1800005, 2926893, 61355, 2136777, 1717990, 3308010, 1730767, 871281, 1673227, 102236, 2136777, 1717990, 813364, 1800005, 1959075, 813364, 165801, 2136777, 2729254, 1673227, 1961723, 61355, 1183255, 2136777, 1302315, 1386261, 2849370, 171934, 2136777, 3308010, 733526, 1959075, 9310, 813364, 2170451, 1800005, 404157, 871281, 3125735, 2721963, 404157, 129627, 678116, 2926893, 264710, 2256933, 102236, 102236, 1021563, 264710, 2926893, 936852, 102236, 1968313, 936852, 293169, 2136777, 2136777, 61355, 1183255, 1730767, 1800005, 2479011, 1386261, 1800005, 1673227, 3308010, 2926893, 2926893, 61355, 1832957, 1717990, 813364, 2999801, 264710, 3308010, 3347453, 3308010, 936852, 813364, 404157, 171934, 903110, 871281, 102236, 61355, 813364, 102236, 3308010, 1800005, 1832957, 2479011, 171934, 171934, 844733, 3308010, 171934, 1800005, 404157, 1673227, 3383594, 3308010, 2136777, 102236, 1717990, 2094761, 102236, 1959075, 171934, 2136777, 1386261, 2136777, 2449164, 171934, 3308010, 1220886, 2136777, 1959075, 2136777, 171934, 936852, 3308010, 2470674, 871281, 2721963, 102236, 61355, 3125735, 3308010, 1386261, 1717990, 293169, 61355, 1386261, 2721963, 2136777, 1888628, 264710, 1564093, 2136777, 1730767, 2849370, 2721963, 293169, 264710, 2721963, 3125735, 1959075, 404157, 171934, 61355, 1959075, 871281, 61355, 1183255, 1673227, 2849370, 1477139, 1730767, 903110, 844733, 3308010, 1673227, 61355, 171934, 2926893, 2926893, 1959075, 2479011, 3347453, 2721963, 2625444, 171934, 813364, 102236, 61355, 844733, 2721963, 1302315, 813364, 61355, 2926893, 1968313, 1968313, 264710, 1717990, 1730767, 2136777, 2721963, 2136777, 2721963, 171934, 171934, 2979697, 1730767, 1888628, 1625713, 2136777, 1800005, 2094761, 1961723, 1564093, 1959075, 1916118, 61355, 2997021, 293169, 3308010, 1529171, 61355, 2256933, 1959075, 2449164, 1673227, 2479011, 1888628, 1800005, 2470674, 1386261, 3125735, 2721963, 2926893, 1800005, 1386261, 2136777, 61355, 171934, 3308010, 61355, 936852, 61355, 936852, 293169, 1386261, 171934, 1800005, 871281, 3125735, 61355, 1959075, 1968313, 1717990, 3308010, 844733, 129627, 844733, 264710, 165801, 1386261, 2136777, 2721963, 1730767, 3125735, 2136777, 1183255, 171934, 936852, 854647, 1386261, 2926893, 1961723, 61355, 1730767, 1633337, 61355, 1959075, 102236, 404157, 1968313, 1386261, 2136777, 2999801, 1529171, 2721963, 61355, 3383594, 1730767, 936852, 2926893, 102236, 1959075, 102236, 1713430, 3383594, 102236, 1959075, 678116, 2449164, 844733, 61355, 3308010, 61355, 2136777, 264710, 171934, 813364, 3308010, 1730767, 61355, 102236, 61355, 1717990, 3308010, 1968313, 129627, 936852, 61355, 61355, 165801, 2409109, 2926893, 61355, 1961723, 1832957, 1961723, 1183255, 61355, 2999801, 1220886, 3125735, 171934, 388234, 102236, 102236, 61355, 2721963, 1800005, 1968313, 2136777, 61355, 1220886, 61355, 936852, 1673227, 936852, 1673227, 1625713, 171934, 2136777, 1800005, 1730767, 264710, 102236, 61355, 903110, 2136777, 1959075, 3125735, 171934, 1169835, 3308010, 61355, 1959075, 2721963, 813364, 1477139, 1888628, 1730767, 1959075, 2479011, 3308010, 2721963, 1717990, 2409109, 171934, 171934, 1183255, 1800005, 171934, 2136777, 388234, 264710, 61355, 1730767, 1717990, 1916118, 264710, 3125735, 1959075, 813364, 3347453, 293169, 171934, 1386261, 1183255, 1717990, 1308785, 2625444, 171934, 102236, 1386261, 1968313, 1386261, 404157, 1959075, 1832957, 1961723, 936852, 1386261, 2449164, 171934, 1959075, 2449164, 180546, 1183255, 1386261, 1968313, 2136777, 3308010, 2479011, 2979697, 1888628, 1832957, 1961723, 1800005, 1633337, 404157, 1673227, 1832957]\n"
     ]
    }
   ],
   "source": [
    "# Save all order IDs with at least one missing value in 'add_to_cart_order'\n",
    "missing_add_to_cart_order_IDs = df_order_products[df_order_products['add_to_cart_order'].isna()]['order_id'].to_list()\n",
    "print(missing_add_to_cart_order_IDs)"
   ]
  },
  {
   "cell_type": "markdown",
   "id": "dc6e524b",
   "metadata": {},
   "source": [
    "<div class=\"alert alert-success\"; style=\"border-left: 7px solid green\">\n",
    "<b>✅ Reviewer's comment, v. 2</b> \n",
    "    \n",
    "Great job!    \n",
    "<div class=\"alert alert-danger\"; style=\"border-left: 7px solid red\">\n",
    "<b>⛔️ Reviewer's comment, v. 1</b> \n",
    "\n",
    "\n",
    "What is the `df_order_products['order_id'] >= 1` condition for? You are checking that the order ID is more than 1. You don't need the condition. To select orders with missing values in `add_to_cart_order` it is sufficient to do the following:\n",
    "    \n",
    "`df_order_products[df_order_products['add_to_cart_order'].isna()]['order_id'].to_list()`"
   ]
  },
  {
   "cell_type": "markdown",
   "id": "97b8a183",
   "metadata": {},
   "source": [
    "<div class=\"alert alert-info\"; style=\"border-left: 7px solid blue\">\n",
    "<b>Student’s Comment</b>\n",
    "\n",
    "Yea, looking back I'm not sure why I added that.  I think I may have been thinking about how the value of items added had to be >1, but but finding the minimum is 1 there wouldn't be any less than that. I updated with your suggested code as that is MUCH simpler."
   ]
  },
  {
   "cell_type": "code",
   "execution_count": 34,
   "id": "54c31695",
   "metadata": {
    "trusted": false
   },
   "outputs": [
    {
     "name": "stdout",
     "output_type": "stream",
     "text": [
      "65\n"
     ]
    }
   ],
   "source": [
    "# Do all orders with missing values have more than 64 products?\n",
    "missing_add_to_cart_df = df_order_products[df_order_products['order_id'].isin(missing_add_to_cart_order_IDs)]\n",
    "number_products_missing = missing_add_to_cart_df.groupby('order_id').size().min()\n",
    "print(number_products_missing)\n",
    "#minimum number of products missing is 65"
   ]
  },
  {
   "cell_type": "markdown",
   "id": "9109fb16",
   "metadata": {},
   "source": [
    "<div class=\"alert alert-success\" style=\"border-left: 7px solid green\">\n",
    "<b>✅ Reviewer's Comment, v. 2</b> \n",
    "\n",
    "✔️ Excellent execution!\n",
    "\n",
    "As we previously checked, the maximum add-to-cart order number was 64. \n",
    "\n",
    "It seems there might be a technical issue with assigning add-to-cart order numbers when items are added beyond the 64th position. This could explain the missing values.\n",
    "    \n",
    "<div class=\"alert alert-danger\" style=\"border-left: 7px solid red\">\n",
    "<b>⛔️ Reviewer's Comment, v. 1</b>  \n",
    "\n",
    "To answer the question, follow these steps:  \n",
    "\n",
    "1. Save the IDs of orders with missing `add_to_cart_order` values to a list (I showed above how to do that).  \n",
    "2. Select all the entries corresponding to these order IDs into a separate dataframe.  \n",
    "3. Group this new dataframe by order ID and check the sizes of these groups to find the minimum size.\n",
    "\n",
    "Could you please try implementing this?\n",
    "\n",
    "</div>\n"
   ]
  },
  {
   "cell_type": "code",
   "execution_count": 35,
   "id": "a2738c6d",
   "metadata": {
    "trusted": false
   },
   "outputs": [
    {
     "name": "stdout",
     "output_type": "stream",
     "text": [
      "order_id             0\n",
      "product_id           0\n",
      "add_to_cart_order    0\n",
      "reordered            0\n",
      "dtype: int64\n"
     ]
    }
   ],
   "source": [
    "# Replace missing values with 999 and convert column to integer type\n",
    "df_order_products[\"add_to_cart_order\"] = df_order_products[\"add_to_cart_order\"].fillna(value=999)\n",
    "df_order_products[\"add_to_cart_order\"] = df_order_products[\"add_to_cart_order\"].astype('int')\n",
    "print(df_order_products.isna().sum()) #run again to check that there are no more missing values and that dtype changed"
   ]
  },
  {
   "cell_type": "code",
   "execution_count": 36,
   "id": "68e12a83",
   "metadata": {
    "trusted": false
   },
   "outputs": [
    {
     "name": "stdout",
     "output_type": "stream",
     "text": [
      "<class 'pandas.core.frame.DataFrame'>\n",
      "RangeIndex: 4545007 entries, 0 to 4545006\n",
      "Data columns (total 4 columns):\n",
      " #   Column             Dtype\n",
      "---  ------             -----\n",
      " 0   order_id           int64\n",
      " 1   product_id         int64\n",
      " 2   add_to_cart_order  int64\n",
      " 3   reordered          int64\n",
      "dtypes: int64(4)\n",
      "memory usage: 138.7 MB\n"
     ]
    }
   ],
   "source": [
    "df_order_products.info()"
   ]
  },
  {
   "cell_type": "markdown",
   "id": "97fed8a2",
   "metadata": {},
   "source": [
    "<div class=\"alert alert-success\"; style=\"border-left: 7px solid green\">\n",
    "<b>✅ Reviewer's comment, v. 2</b> \n",
    "    \n",
    "All correct now.    \n",
    "<div class=\"alert alert-danger\"; style=\"border-left: 7px solid red\">\n",
    "<b>⛔️ Reviewer's comment, v. 1</b> \n",
    "\n",
    "Please note that it's not recommended to mix the data types in one column. When filling in with `'999'` instead of `999` you are adding text to a numeric column. And the data type won't be changes to integer. Could you please correct this?\n",
    "    \n",
    "---\n",
    "    \n",
    "    \n",
    "You are filling in the missing values in `df_order_products`, however, run the check afterward for `df_products`. Coudl you please update the code to correct the inconsistency?"
   ]
  },
  {
   "cell_type": "markdown",
   "id": "fea4bcc7",
   "metadata": {},
   "source": [
    "Analyzing the missing values in add_to_cart_order basically tells us that once there are over 64 items they stop tracking the order in which they are added to the cart."
   ]
  },
  {
   "cell_type": "markdown",
   "id": "turkish-kidney",
   "metadata": {},
   "source": [
    "# [A] Easy (must complete all to pass)"
   ]
  },
  {
   "cell_type": "markdown",
   "id": "short-capability",
   "metadata": {},
   "source": [
    "### [A1] Verify that the `'order_hour_of_day'` and `'order_dow'` values in the `orders` tables are sensible (i.e. `'order_hour_of_day'` ranges from 0 to 23 and `'order_dow'` ranges from 0 to 6)"
   ]
  },
  {
   "cell_type": "code",
   "execution_count": 37,
   "id": "growing-fruit",
   "metadata": {
    "trusted": false
   },
   "outputs": [
    {
     "name": "stdout",
     "output_type": "stream",
     "text": [
      "[13 12 19 20 11  8 18 15 16  9 22 10  0 14 17  1  7  6  2 21  3 23  5  4]\n"
     ]
    }
   ],
   "source": [
    "print(df_instacart['order_hour_of_day'].unique())\n",
    "# all values in this column fall between 0 and 23"
   ]
  },
  {
   "cell_type": "code",
   "execution_count": 38,
   "id": "accessory-malaysia",
   "metadata": {
    "trusted": false
   },
   "outputs": [
    {
     "name": "stdout",
     "output_type": "stream",
     "text": [
      "[6 5 0 4 3 1 2]\n"
     ]
    }
   ],
   "source": [
    "print(df_instacart['order_dow'].unique())\n",
    "# all values in this column fall between 0 and 6"
   ]
  },
  {
   "cell_type": "markdown",
   "id": "a6743a70",
   "metadata": {},
   "source": [
    "### [A2] What time of day do people shop for groceries?"
   ]
  },
  {
   "cell_type": "code",
   "execution_count": 39,
   "id": "a36cca27",
   "metadata": {
    "trusted": false
   },
   "outputs": [
    {
     "data": {
      "image/png": "[encoded data removed]",
      "text/plain": [
       "<Figure size 640x480 with 1 Axes>"
      ]
     },
     "metadata": {},
     "output_type": "display_data"
    }
   ],
   "source": [
    "from matplotlib import pyplot as plt\n",
    "\n",
    "df_instacart['order_hour_of_day'].plot(kind='hist', x='order_hour_of_day',\n",
    "                                       title= 'Time of Day People Shop For Groceries',\n",
    "                                       bins= 24\n",
    "                                       )\n",
    "plt.xlabel('Time of Day (in military time)')\n",
    "plt.ylabel('Frequency of People')\n",
    "plt.xticks([0,2,4,6,8,10,12,14,16,18,20,22])\n",
    "\n",
    "plt.show()"
   ]
  },
  {
   "cell_type": "markdown",
   "id": "c8013f4b",
   "metadata": {},
   "source": [
    "<div class=\"alert alert-success\"; style=\"border-left: 7px solid green\">\n",
    "<b>✅ Reviewer's comment, v. 2</b> <div class=\"alert alert-warning\"; style=\"border-left: 7px solid gold\">\n",
    "<b>⚠️ Reviewer's comment, v. 1</b> \n",
    "\n",
    "\n",
    "\n",
    "To better understand the time periods, it would be helpful to split the data into the same number of bins as there are unique values in the series (i.e., 24). "
   ]
  },
  {
   "cell_type": "markdown",
   "id": "11270eed",
   "metadata": {},
   "source": [
    "People shop all day but the highest frequency times for people to shop are between 0800 and 1700."
   ]
  },
  {
   "cell_type": "markdown",
   "id": "ff22775a",
   "metadata": {},
   "source": [
    "<div class=\"alert alert-success\"; style=\"border-left: 7px solid green\">\n",
    "<b>✅ Reviewer's comment, v. 2</b> \n",
    "    \n",
    "Exactly.\n",
    "    \n",
    "<div class=\"alert alert-danger\"; style=\"border-left: 7px solid red\">\n",
    "<b>⛔️ Reviewer's comment, v. 1</b> \n",
    "\n",
    "Please answer the question in the section header based on the chart."
   ]
  },
  {
   "cell_type": "markdown",
   "id": "documented-command",
   "metadata": {},
   "source": [
    "### [A3] What day of the week do people shop for groceries?"
   ]
  },
  {
   "cell_type": "code",
   "execution_count": 40,
   "id": "chief-digit",
   "metadata": {
    "trusted": false
   },
   "outputs": [
    {
     "data": {
      "image/png": "[encoded data removed]",
      "text/plain": [
       "<Figure size 640x480 with 1 Axes>"
      ]
     },
     "metadata": {},
     "output_type": "display_data"
    }
   ],
   "source": [
    "df_instacart['order_dow'].plot(kind='hist', x='order_dow',\n",
    "                               title= 'Days People Shop For Groceries',\n",
    "                               bins=6)\n",
    "plt.xlabel('Days of the Week(where 0 is Sunday)')\n",
    "plt.ylabel('Frequency of People')\n",
    "plt.show()"
   ]
  },
  {
   "cell_type": "markdown",
   "id": "dominant-lightning",
   "metadata": {},
   "source": [
    "<div class=\"alert alert-success\"; style=\"border-left: 7px solid green\">\n",
    "<b>✅ Reviewer's comment, v. 2</b> \n",
    "    \n",
    "✔️ \n",
    "    \n",
    "\n",
    "\n",
    "<div class=\"alert alert-danger\"; style=\"border-left: 7px solid red\">\n",
    "<b>⛔️ Reviewer's comment, v. 1</b> \n",
    "\n",
    "Please answer the question in the section header."
   ]
  },
  {
   "cell_type": "markdown",
   "id": "557b9306",
   "metadata": {},
   "source": [
    "Based on this plot we can see that poeple shop everyday of the week, but Saturday is the day that a majority of customers do their shopping."
   ]
  },
  {
   "cell_type": "markdown",
   "id": "cutting-concert",
   "metadata": {},
   "source": [
    "### [A4] How long do people wait until placing another order?"
   ]
  },
  {
   "cell_type": "code",
   "execution_count": 41,
   "id": "c231f523",
   "metadata": {
    "trusted": false
   },
   "outputs": [
    {
     "data": {
      "image/png": "[encoded data removed]",
      "text/plain": [
       "<Figure size 640x480 with 1 Axes>"
      ]
     },
     "metadata": {},
     "output_type": "display_data"
    }
   ],
   "source": [
    "df_instacart['days_since_prior_order'].plot(kind='hist', title= 'Days Until Next Order',\n",
    "                               bins=10)\n",
    "plt.xlabel('Number of Days Between Orders')\n",
    "plt.ylabel('Frequency of People')\n",
    "plt.show()"
   ]
  },
  {
   "cell_type": "markdown",
   "id": "discrete-vertex",
   "metadata": {},
   "source": []
  },
  {
   "cell_type": "code",
   "execution_count": 42,
   "id": "exciting-fantasy",
   "metadata": {
    "trusted": false
   },
   "outputs": [
    {
     "name": "stdout",
     "output_type": "stream",
     "text": [
      "The maximum number of days people wait to buy groceries again is: 30.0\n",
      "The minimum number of days people wait to buy groceries again is: 0.0\n",
      "Based on the frequency of when the next order is made, it seems most people place their next order within about a week, but a large amount of people wait the maxium time of a month\n"
     ]
    }
   ],
   "source": [
    "max= df_instacart['days_since_prior_order'].max()\n",
    "min = df_instacart['days_since_prior_order'].min()\n",
    "\n",
    "print('The maximum number of days people wait to buy groceries again is:', max)\n",
    "print('The minimum number of days people wait to buy groceries again is:', min)\n",
    "print('Based on the frequency of when the next order is made, it seems most people place their next order within about a week, but a large amount of people wait the maxium time of a month')"
   ]
  },
  {
   "cell_type": "markdown",
   "id": "8d926614",
   "metadata": {},
   "source": [
    "<div class=\"alert alert-success\"; style=\"border-left: 7px solid green\">\n",
    "<b>✅ Reviewer's comment, v. 1</b> \n",
    "    \n",
    "Well done."
   ]
  },
  {
   "cell_type": "markdown",
   "id": "tight-staff",
   "metadata": {},
   "source": [
    "# [B] Medium (must complete all to pass)"
   ]
  },
  {
   "cell_type": "markdown",
   "id": "packed-classic",
   "metadata": {},
   "source": [
    "### [B1] Is there a difference in `'order_hour_of_day'` distributions on Wednesdays and Saturdays? Plot the histograms for both days and describe the differences that you see."
   ]
  },
  {
   "cell_type": "code",
   "execution_count": 43,
   "id": "d89b8403",
   "metadata": {
    "trusted": false
   },
   "outputs": [
    {
     "name": "stdout",
     "output_type": "stream",
     "text": [
      "15    5163\n",
      "10    5026\n",
      "11    5004\n",
      "16    4976\n",
      "14    4774\n",
      "12    4688\n",
      "13    4674\n",
      "9     4490\n",
      "17    4175\n",
      "18    3463\n",
      "8     3125\n",
      "19    2652\n",
      "20    1917\n",
      "7     1732\n",
      "21    1450\n",
      "22    1154\n",
      "23     718\n",
      "6      643\n",
      "0      373\n",
      "1      215\n",
      "5      170\n",
      "4      108\n",
      "2      106\n",
      "3      101\n",
      "Name: order_hour_of_day, dtype: int64\n"
     ]
    }
   ],
   "source": [
    "wed_shop_times = df_instacart[df_instacart['order_dow'] == 3]['order_hour_of_day']\n",
    "print(wed_shop_times.value_counts())"
   ]
  },
  {
   "cell_type": "code",
   "execution_count": 44,
   "id": "94e54e8a",
   "metadata": {
    "trusted": false
   },
   "outputs": [
    {
     "name": "stdout",
     "output_type": "stream",
     "text": [
      "14    5375\n",
      "13    5323\n",
      "15    5188\n",
      "12    5132\n",
      "11    5116\n",
      "16    5029\n",
      "10    4919\n",
      "9     4311\n",
      "17    4295\n",
      "18    3338\n",
      "8     3246\n",
      "19    2610\n",
      "20    1847\n",
      "7     1619\n",
      "21    1473\n",
      "22    1185\n",
      "23     893\n",
      "0      464\n",
      "6      451\n",
      "1      254\n",
      "2      177\n",
      "5      161\n",
      "3      125\n",
      "4      118\n",
      "Name: order_hour_of_day, dtype: int64\n"
     ]
    }
   ],
   "source": [
    "sat_shop_times = df_instacart[df_instacart['order_dow'] == 6]['order_hour_of_day']\n",
    "print(sat_shop_times.value_counts())"
   ]
  },
  {
   "cell_type": "code",
   "execution_count": 45,
   "id": "797c90a8",
   "metadata": {
    "trusted": false
   },
   "outputs": [
    {
     "data": {
      "image/png": "[encoded data removed]",
      "text/plain": [
       "<Figure size 640x480 with 1 Axes>"
      ]
     },
     "metadata": {},
     "output_type": "display_data"
    }
   ],
   "source": [
    "wed_shop_times.plot(kind='hist',title= 'Comparison of Wed Vs Sun Grocery Shopping Patterns',bins= 24, alpha = 1)\n",
    "sat_shop_times.plot(kind='hist', bins=24, alpha = 0.3)\n",
    "\n",
    "plt.xlabel('Time of Day (in military time)')\n",
    "plt.ylabel('Frequency of People')\n",
    "plt.legend(['Wed','Sat'])\n",
    "\n",
    "plt.show()"
   ]
  },
  {
   "cell_type": "markdown",
   "id": "ee3741fd",
   "metadata": {},
   "source": [
    "Based on this histogram data, we can conclude a few things.\n",
    "1- there is a higher frequency of people doing their grocery shopping on Sat vs Wed\n",
    "2- It appears on a Saturday, people seem to do most of their shopping in the late morning to early afternoon (1000-1700).\n",
    "3- It appears on Wednesdays, there are higher frequencies of people shopping earlier in the morning (before 1000) and later in the day (after 1500)\n",
    "A possible hypothesis for this is that people do their grocery shopping around work hours.  Saturday is a very common day off, so more people do their grocery shopping on these days than a weekday and can go in the middle of the day as they aren't at work, while on Wednesdays many people have to go before their workday or after they get out."
   ]
  },
  {
   "cell_type": "markdown",
   "id": "charitable-congo",
   "metadata": {},
   "source": []
  },
  {
   "cell_type": "markdown",
   "id": "e3891143",
   "metadata": {},
   "source": [
    "### [B2] What's the distribution for the number of orders per customer?"
   ]
  },
  {
   "cell_type": "code",
   "execution_count": 46,
   "id": "d8c26c23",
   "metadata": {
    "trusted": false
   },
   "outputs": [
    {
     "data": {
      "text/plain": [
       "<function matplotlib.pyplot.show(close=None, block=None)>"
      ]
     },
     "execution_count": 46,
     "metadata": {},
     "output_type": "execute_result"
    },
    {
     "data": {
      "image/png": "[encoded data removed]",
      "text/plain": [
       "<Figure size 640x480 with 1 Axes>"
      ]
     },
     "metadata": {},
     "output_type": "display_data"
    }
   ],
   "source": [
    "df_instacart['order_number'].plot(kind='hist', bins= 20, title= 'Orders per Costumer')\n",
    "\n",
    "plt.xlabel('Number of Orders')\n",
    "plt.xticks([1,10,20,30,40,50,60,70,80,90,100])\n",
    "plt.ylabel('Number of Costumers')\n",
    "plt.show"
   ]
  },
  {
   "cell_type": "markdown",
   "id": "a85ffc03",
   "metadata": {},
   "source": [
    "Based on the distribution of this histogram we can see that a very high percentage of users have only used instacart to order their groceries one time.  Most costumers have used it less than 10 times."
   ]
  },
  {
   "cell_type": "markdown",
   "id": "d2eff7d5",
   "metadata": {},
   "source": []
  },
  {
   "cell_type": "markdown",
   "id": "54a0319c",
   "metadata": {},
   "source": [
    "### [B3] What are the top 20 popular products (display their id and name)?"
   ]
  },
  {
   "cell_type": "code",
   "execution_count": 47,
   "id": "exterior-arizona",
   "metadata": {
    "scrolled": false,
    "trusted": false
   },
   "outputs": [
    {
     "name": "stdout",
     "output_type": "stream",
     "text": [
      "product_id  product_name            \n",
      "24852       Banana                      66050\n",
      "13176       Bag of Organic Bananas      53297\n",
      "21137       Organic Strawberries        37039\n",
      "21903       Organic Baby Spinach        33971\n",
      "47209       Organic Hass Avocado        29773\n",
      "47766       Organic Avocado             24689\n",
      "47626       Large Lemon                 21495\n",
      "16797       Strawberries                20018\n",
      "26209       Limes                       19690\n",
      "27845       Organic Whole Milk          19600\n",
      "27966       Organic Raspberries         19197\n",
      "22935       Organic Yellow Onion        15898\n",
      "24964       Organic Garlic              15292\n",
      "45007       Organic Zucchini            14584\n",
      "39275       Organic Blueberries         13879\n",
      "49683       Cucumber Kirby              13675\n",
      "28204       Organic Fuji Apple          12544\n",
      "5876        Organic Lemon               12232\n",
      "8277        Apple Honeycrisp Organic    11993\n",
      "40706       Organic Grape Tomatoes      11781\n",
      "dtype: int64\n",
      "20\n"
     ]
    }
   ],
   "source": [
    "order_products_merge= df_order_products.merge(df_products, on='product_id')\n",
    "product_counts = order_products_merge.groupby(['product_id', 'product_name']).size()\n",
    "top_20_products=product_counts.sort_values(ascending=False).head(20)\n",
    "print(top_20_products)\n",
    "print(top_20_products.count())"
   ]
  },
  {
   "cell_type": "markdown",
   "id": "846205c3",
   "metadata": {},
   "source": [
    "You have to merge the df_order_products and the df_products because df_products does not have as many product_ids as df_order_products does. Once merged you can group by the product_id and name to get the counts for occurrences of each project. Then sort the values so you get the top 20.  I just verified that the list produced 20 after, because on previous trials it looked correct, but I would only get 16 or 18 values."
   ]
  },
  {
   "cell_type": "markdown",
   "id": "45515f73",
   "metadata": {},
   "source": [
    "<div class=\"alert alert-success\"; style=\"border-left: 7px solid green\">  \n",
    "<b>✅ Reviewer's Comment, v. 1</b>  \n",
    "\n",
    "Excellent execution — all the charts and conclusions in Section B are accurate. It's impressive that you go beyond merely writing observations and actively develop assumptions about why the data appears as it does.  \n",
    "\n",
    "For the last task, I confirm that all 20 products are included.  \n",
    "\n"
   ]
  },
  {
   "cell_type": "markdown",
   "id": "7df00f47",
   "metadata": {},
   "source": []
  },
  {
   "cell_type": "markdown",
   "id": "gross-theme",
   "metadata": {},
   "source": [
    "# [C] Hard (must complete at least two to pass)"
   ]
  },
  {
   "cell_type": "markdown",
   "id": "romantic-deposit",
   "metadata": {},
   "source": [
    "### [C1] How many items do people typically buy in one order? What does the distribution look like?"
   ]
  },
  {
   "cell_type": "code",
   "execution_count": 48,
   "id": "e021a559",
   "metadata": {
    "trusted": false
   },
   "outputs": [
    {
     "name": "stdout",
     "output_type": "stream",
     "text": [
      "The average number of items people buy per order is: 10.098983215049127\n"
     ]
    }
   ],
   "source": [
    "items_per_order = df_order_products.groupby('order_id').size()\n",
    "av_items_per_order= items_per_order.mean()\n",
    "print('The average number of items people buy per order is:', av_items_per_order)"
   ]
  },
  {
   "cell_type": "code",
   "execution_count": 49,
   "id": "sensitive-breathing",
   "metadata": {
    "trusted": false
   },
   "outputs": [
    {
     "data": {
      "image/png": "[encoded data removed]",
      "text/plain": [
       "<Figure size 640x480 with 1 Axes>"
      ]
     },
     "metadata": {},
     "output_type": "display_data"
    }
   ],
   "source": [
    "#plot the distribution\n",
    "items_per_order.plot(kind='hist', bins=25, title='Items per Order')\n",
    "\n",
    "plt.xlabel('Number of Items')\n",
    "plt.xticks([10,20,30,40,50,60])\n",
    "plt.xlim(0,60)\n",
    "plt.ylabel('Frequency')\n",
    "plt.show()"
   ]
  },
  {
   "cell_type": "markdown",
   "id": "1e24178c",
   "metadata": {},
   "source": [
    "The average number of items per order is about 10 items.  Based on the distribution, you can see that the frequency of larger orders progressively declines and seems to take a steep drop off after 10 items.  This is why even with some large outliers like orders of over 50 or 60, the average is still 10."
   ]
  },
  {
   "cell_type": "markdown",
   "id": "designed-mortality",
   "metadata": {},
   "source": []
  },
  {
   "cell_type": "markdown",
   "id": "d4b39ae1",
   "metadata": {},
   "source": [
    "<div class=\"alert alert-success\"; style=\"border-left: 7px solid green\">\n",
    "<b>✅ Reviewer's comment, v. 1</b> \n",
    "    \n",
    "Great job."
   ]
  },
  {
   "cell_type": "markdown",
   "id": "5e6b5537",
   "metadata": {},
   "source": [
    "### [C2] What are the top 20 items that are reordered most frequently (display their names and product IDs)?"
   ]
  },
  {
   "cell_type": "code",
   "execution_count": 50,
   "id": "9374e55a",
   "metadata": {
    "trusted": false
   },
   "outputs": [
    {
     "name": "stdout",
     "output_type": "stream",
     "text": [
      "         product_id                                      product_name  \\\n",
      "1             11440                    Chicken Breast Tenders Breaded   \n",
      "2             11440                    Chicken Breast Tenders Breaded   \n",
      "3             11440                    Chicken Breast Tenders Breaded   \n",
      "7             11440                    Chicken Breast Tenders Breaded   \n",
      "8             11440                    Chicken Breast Tenders Breaded   \n",
      "...             ...                                               ...   \n",
      "4544981       10661                                Plastic Party Cups   \n",
      "4544983       14192            Golden Echinacea Liquid Herbal Extract   \n",
      "4544993       16672                    Caramel Galette French Cookies   \n",
      "4544994       22264                100% White Grape Juice Concentrate   \n",
      "4545000       18946  Very Clear Moisturizer With Anti-Blemish Complex   \n",
      "\n",
      "         reordered  \n",
      "1                1  \n",
      "2                1  \n",
      "3                1  \n",
      "7                1  \n",
      "8                1  \n",
      "...            ...  \n",
      "4544981          1  \n",
      "4544983          1  \n",
      "4544993          1  \n",
      "4544994          1  \n",
      "4545000          1  \n",
      "\n",
      "[2683838 rows x 3 columns]\n"
     ]
    }
   ],
   "source": [
    "order_products_merge= df_order_products.merge(df_products, on='product_id')\n",
    "reordered_products = order_products_merge.query('reordered == 1')[['product_id', 'product_name', 'reordered']]\n",
    "print(reordered_products)\n",
    "#Just like the previous top 20 example we need to work with this merged DF, but now we need to filter further to just look at reordered products"
   ]
  },
  {
   "cell_type": "code",
   "execution_count": 51,
   "id": "possible-change",
   "metadata": {
    "scrolled": false,
    "trusted": false
   },
   "outputs": [
    {
     "name": "stdout",
     "output_type": "stream",
     "text": [
      "product_id  product_name              reordered\n",
      "24852       Banana                    1            55763\n",
      "13176       Bag of Organic Bananas    1            44450\n",
      "21137       Organic Strawberries      1            28639\n",
      "21903       Organic Baby Spinach      1            26233\n",
      "47209       Organic Hass Avocado      1            23629\n",
      "47766       Organic Avocado           1            18743\n",
      "27845       Organic Whole Milk        1            16251\n",
      "47626       Large Lemon               1            15044\n",
      "27966       Organic Raspberries       1            14748\n",
      "16797       Strawberries              1            13945\n",
      "26209       Limes                     1            13327\n",
      "22935       Organic Yellow Onion      1            11145\n",
      "24964       Organic Garlic            1            10411\n",
      "45007       Organic Zucchini          1            10076\n",
      "49683       Cucumber Kirby            1             9538\n",
      "28204       Organic Fuji Apple        1             8989\n",
      "8277        Apple Honeycrisp Organic  1             8836\n",
      "39275       Organic Blueberries       1             8799\n",
      "5876        Organic Lemon             1             8412\n",
      "49235       Organic Half & Half       1             8389\n",
      "dtype: int64\n",
      "20\n"
     ]
    }
   ],
   "source": [
    "reordered_product_counts = reordered_products.groupby(['product_id', 'product_name','reordered']).size()\n",
    "top_20_reordered_products=reordered_product_counts.sort_values(ascending=False).head(20)\n",
    "print(top_20_reordered_products)\n",
    "print(top_20_reordered_products.count())\n",
    "#then just like the previous top 20 we can sort the most reordered products and select the top 20.  Again, to double check we got the right amount, I checked the count of the list as well"
   ]
  },
  {
   "cell_type": "markdown",
   "id": "15a1818e",
   "metadata": {
    "scrolled": true
   },
   "source": [
    "Based on this data we can see that the most frequently reordered items are fresh produce like fruits or other perishable items like milk or half/half. We can hypothesize that these items need to be ordered more frequently as they do not last as long."
   ]
  },
  {
   "cell_type": "markdown",
   "id": "8f9e77a0",
   "metadata": {},
   "source": [
    "<div class=\"alert alert-success\"; style=\"border-left: 7px solid green\">\n",
    "<b>✅ Reviewer's comment, v. 1</b> \n",
    "    \n",
    "Yes, you are right."
   ]
  },
  {
   "cell_type": "markdown",
   "id": "80e70c74",
   "metadata": {},
   "source": []
  },
  {
   "cell_type": "markdown",
   "id": "9d312b14",
   "metadata": {},
   "source": [
    "### [C3] For each product, what proportion of its orders are reorders?"
   ]
  },
  {
   "cell_type": "markdown",
   "id": "2d67fbb0",
   "metadata": {},
   "source": [
    "For this we will need to get the total number or orders for each product. Then we will have to divide the reordered_products by the total number of each product to get the proportions. It will benefit to add a new column"
   ]
  },
  {
   "cell_type": "code",
   "execution_count": 52,
   "id": "103e7fe1",
   "metadata": {
    "trusted": false
   },
   "outputs": [
    {
     "name": "stdout",
     "output_type": "stream",
     "text": [
      "1        280\n",
      "2         11\n",
      "3         42\n",
      "4         49\n",
      "7          2\n",
      "        ... \n",
      "49690      5\n",
      "49691     72\n",
      "49692     12\n",
      "49693     25\n",
      "49694      9\n",
      "Name: product_id, Length: 45573, dtype: int64\n",
      "\n",
      "1        158\n",
      "3         31\n",
      "4         25\n",
      "7          1\n",
      "8          6\n",
      "        ... \n",
      "49690      4\n",
      "49691     31\n",
      "49692      5\n",
      "49693     11\n",
      "49694      3\n",
      "Name: product_id, Length: 36228, dtype: int64\n"
     ]
    }
   ],
   "source": [
    "total_orders = df_order_products['product_id'].value_counts().sort_index()\n",
    "print(total_orders)\n",
    "print()\n",
    "total_reorders = df_order_products[df_order_products['reordered'] == 1]['product_id'].value_counts().sort_index()\n",
    "print(total_reorders)\n",
    "#in this cell we now have the total orders for each product and the total reorders"
   ]
  },
  {
   "cell_type": "code",
   "execution_count": 53,
   "id": "social-individual",
   "metadata": {
    "trusted": false
   },
   "outputs": [
    {
     "name": "stdout",
     "output_type": "stream",
     "text": [
      "   product_id                                       product_name  \\\n",
      "0           1                         Chocolate Sandwich Cookies   \n",
      "1           2                                   All-Seasons Salt   \n",
      "2           3               Robust Golden Unsweetened Oolong Tea   \n",
      "3           4  Smart Ones Classic Favorites Mini Rigatoni Wit...   \n",
      "4           7                     Pure Coconut Water With Orange   \n",
      "\n",
      "   reorder_proportion  \n",
      "0            0.564286  \n",
      "1            0.000000  \n",
      "2            0.738095  \n",
      "3            0.510204  \n",
      "4            0.500000  \n"
     ]
    }
   ],
   "source": [
    "# Convert Series to DataFrame\n",
    "total_orders_df = total_orders.reset_index().rename(columns={'index': 'product_id', 'product_id': 'total_orders'})\n",
    "total_reorders_df = total_reorders.reset_index().rename(columns={'index': 'product_id', 'product_id': 'reorders'})\n",
    "\n",
    "# Merge the total orders and reorders DataFrames\n",
    "merged_df = pd.merge(total_orders_df, total_reorders_df, on='product_id', how='left').fillna(0)\n",
    "\n",
    "# Calculate reorder proportion\n",
    "merged_df['reorder_proportion'] = merged_df['reorders'] / merged_df['total_orders']\n",
    "\n",
    "# Merge with product names\n",
    "final_df = pd.merge(merged_df, df_products, on='product_id', how='left')\n",
    "\n",
    "# Select and reorder the required columns\n",
    "final_df_with_reorder_proportion = final_df[['product_id', 'product_name', 'reorder_proportion']]\n",
    "\n",
    "print(final_df_with_reorder_proportion.head())"
   ]
  },
  {
   "cell_type": "markdown",
   "id": "ba2b3f57",
   "metadata": {},
   "source": [
    "<div class=\"alert alert-success\"; style=\"border-left: 7px solid green\">  \n",
    "<b>✅ Reviewer's Comment, v. 1</b>  \n",
    "\n",
    "Yes, this approach works! However, an alternative and simpler way to complete the task is to group the merged dataframe by `product_id` and `product_name`, then calculate the mean of the `reordered` column. This will give you the proportion of reorders for each product (see the example below).  \n"
   ]
  },
  {
   "cell_type": "code",
   "execution_count": 54,
   "id": "c3d72034",
   "metadata": {
    "trusted": false
   },
   "outputs": [
    {
     "data": {
      "text/html": [
       "<style  type=\"text/css\" >\n",
       "</style><table id=\"T_570e1_\" ><thead>    <tr>        <th class=\"blank\" ></th>        <th class=\"blank level0\" ></th>        <th class=\"col_heading level0 col0\" >reordered</th>    </tr>    <tr>        <th class=\"index_name level0\" >product_id</th>        <th class=\"index_name level1\" >product_name</th>        <th class=\"blank\" ></th>    </tr></thead><tbody>\n",
       "                <tr>\n",
       "                        <th id=\"T_570e1_level0_row0\" class=\"row_heading level0 row0\" >1</th>\n",
       "                        <th id=\"T_570e1_level1_row0\" class=\"row_heading level1 row0\" >Chocolate Sandwich Cookies</th>\n",
       "                        <td id=\"T_570e1_row0_col0\" class=\"data row0 col0\" >56.4%</td>\n",
       "            </tr>\n",
       "            <tr>\n",
       "                        <th id=\"T_570e1_level0_row1\" class=\"row_heading level0 row1\" >2</th>\n",
       "                        <th id=\"T_570e1_level1_row1\" class=\"row_heading level1 row1\" >All-Seasons Salt</th>\n",
       "                        <td id=\"T_570e1_row1_col0\" class=\"data row1 col0\" >0.0%</td>\n",
       "            </tr>\n",
       "            <tr>\n",
       "                        <th id=\"T_570e1_level0_row2\" class=\"row_heading level0 row2\" >3</th>\n",
       "                        <th id=\"T_570e1_level1_row2\" class=\"row_heading level1 row2\" >Robust Golden Unsweetened Oolong Tea</th>\n",
       "                        <td id=\"T_570e1_row2_col0\" class=\"data row2 col0\" >73.8%</td>\n",
       "            </tr>\n",
       "            <tr>\n",
       "                        <th id=\"T_570e1_level0_row3\" class=\"row_heading level0 row3\" >4</th>\n",
       "                        <th id=\"T_570e1_level1_row3\" class=\"row_heading level1 row3\" >Smart Ones Classic Favorites Mini Rigatoni With Vodka Cream Sauce</th>\n",
       "                        <td id=\"T_570e1_row3_col0\" class=\"data row3 col0\" >51.0%</td>\n",
       "            </tr>\n",
       "            <tr>\n",
       "                        <th id=\"T_570e1_level0_row4\" class=\"row_heading level0 row4\" >7</th>\n",
       "                        <th id=\"T_570e1_level1_row4\" class=\"row_heading level1 row4\" >Pure Coconut Water With Orange</th>\n",
       "                        <td id=\"T_570e1_row4_col0\" class=\"data row4 col0\" >50.0%</td>\n",
       "            </tr>\n",
       "            <tr>\n",
       "                        <th id=\"T_570e1_level0_row5\" class=\"row_heading level0 row5\" >8</th>\n",
       "                        <th id=\"T_570e1_level1_row5\" class=\"row_heading level1 row5\" >Cut Russet Potatoes Steam N' Mash</th>\n",
       "                        <td id=\"T_570e1_row5_col0\" class=\"data row5 col0\" >31.6%</td>\n",
       "            </tr>\n",
       "            <tr>\n",
       "                        <th id=\"T_570e1_level0_row6\" class=\"row_heading level0 row6\" >9</th>\n",
       "                        <th id=\"T_570e1_level1_row6\" class=\"row_heading level1 row6\" >Light Strawberry Blueberry Yogurt</th>\n",
       "                        <td id=\"T_570e1_row6_col0\" class=\"data row6 col0\" >76.2%</td>\n",
       "            </tr>\n",
       "            <tr>\n",
       "                        <th id=\"T_570e1_level0_row7\" class=\"row_heading level0 row7\" >10</th>\n",
       "                        <th id=\"T_570e1_level1_row7\" class=\"row_heading level1 row7\" >Sparkling Orange Juice & Prickly Pear Beverage</th>\n",
       "                        <td id=\"T_570e1_row7_col0\" class=\"data row7 col0\" >44.8%</td>\n",
       "            </tr>\n",
       "            <tr>\n",
       "                        <th id=\"T_570e1_level0_row8\" class=\"row_heading level0 row8\" >11</th>\n",
       "                        <th id=\"T_570e1_level1_row8\" class=\"row_heading level1 row8\" >Peach Mango Juice</th>\n",
       "                        <td id=\"T_570e1_row8_col0\" class=\"data row8 col0\" >62.5%</td>\n",
       "            </tr>\n",
       "            <tr>\n",
       "                        <th id=\"T_570e1_level0_row9\" class=\"row_heading level0 row9\" >12</th>\n",
       "                        <th id=\"T_570e1_level1_row9\" class=\"row_heading level1 row9\" >Chocolate Fudge Layer Cake</th>\n",
       "                        <td id=\"T_570e1_row9_col0\" class=\"data row9 col0\" >39.0%</td>\n",
       "            </tr>\n",
       "            <tr>\n",
       "                        <th id=\"T_570e1_level0_row10\" class=\"row_heading level0 row10\" >13</th>\n",
       "                        <th id=\"T_570e1_level1_row10\" class=\"row_heading level1 row10\" >Saline Nasal Mist</th>\n",
       "                        <td id=\"T_570e1_row10_col0\" class=\"data row10 col0\" >50.0%</td>\n",
       "            </tr>\n",
       "            <tr>\n",
       "                        <th id=\"T_570e1_level0_row11\" class=\"row_heading level0 row11\" >14</th>\n",
       "                        <th id=\"T_570e1_level1_row11\" class=\"row_heading level1 row11\" >Fresh Scent Dishwasher Cleaner</th>\n",
       "                        <td id=\"T_570e1_row11_col0\" class=\"data row11 col0\" >0.0%</td>\n",
       "            </tr>\n",
       "            <tr>\n",
       "                        <th id=\"T_570e1_level0_row12\" class=\"row_heading level0 row12\" >17</th>\n",
       "                        <th id=\"T_570e1_level1_row12\" class=\"row_heading level1 row12\" >Rendered Duck Fat</th>\n",
       "                        <td id=\"T_570e1_row12_col0\" class=\"data row12 col0\" >0.0%</td>\n",
       "            </tr>\n",
       "            <tr>\n",
       "                        <th id=\"T_570e1_level0_row13\" class=\"row_heading level0 row13\" >18</th>\n",
       "                        <th id=\"T_570e1_level1_row13\" class=\"row_heading level1 row13\" >Pizza for One Suprema  Frozen Pizza</th>\n",
       "                        <td id=\"T_570e1_row13_col0\" class=\"data row13 col0\" >53.3%</td>\n",
       "            </tr>\n",
       "            <tr>\n",
       "                        <th id=\"T_570e1_level0_row14\" class=\"row_heading level0 row14\" >19</th>\n",
       "                        <th id=\"T_570e1_level1_row14\" class=\"row_heading level1 row14\" >Gluten Free Quinoa Three Cheese & Mushroom Blend</th>\n",
       "                        <td id=\"T_570e1_row14_col0\" class=\"data row14 col0\" >0.0%</td>\n",
       "            </tr>\n",
       "            <tr>\n",
       "                        <th id=\"T_570e1_level0_row15\" class=\"row_heading level0 row15\" >21</th>\n",
       "                        <th id=\"T_570e1_level1_row15\" class=\"row_heading level1 row15\" >Small & Medium Dental Dog Treats</th>\n",
       "                        <td id=\"T_570e1_row15_col0\" class=\"data row15 col0\" >0.0%</td>\n",
       "            </tr>\n",
       "            <tr>\n",
       "                        <th id=\"T_570e1_level0_row16\" class=\"row_heading level0 row16\" >22</th>\n",
       "                        <th id=\"T_570e1_level1_row16\" class=\"row_heading level1 row16\" >Fresh Breath Oral Rinse Mild Mint</th>\n",
       "                        <td id=\"T_570e1_row16_col0\" class=\"data row16 col0\" >50.0%</td>\n",
       "            </tr>\n",
       "            <tr>\n",
       "                        <th id=\"T_570e1_level0_row17\" class=\"row_heading level0 row17\" >23</th>\n",
       "                        <th id=\"T_570e1_level1_row17\" class=\"row_heading level1 row17\" >Organic Turkey Burgers</th>\n",
       "                        <td id=\"T_570e1_row17_col0\" class=\"data row17 col0\" >38.1%</td>\n",
       "            </tr>\n",
       "            <tr>\n",
       "                        <th id=\"T_570e1_level0_row18\" class=\"row_heading level0 row18\" >24</th>\n",
       "                        <th id=\"T_570e1_level1_row18\" class=\"row_heading level1 row18\" >Tri-Vi-Sol® Vitamins A-C-and D Supplement Drops for Infants</th>\n",
       "                        <td id=\"T_570e1_row18_col0\" class=\"data row18 col0\" >0.0%</td>\n",
       "            </tr>\n",
       "            <tr>\n",
       "                        <th id=\"T_570e1_level0_row19\" class=\"row_heading level0 row19\" >25</th>\n",
       "                        <th id=\"T_570e1_level1_row19\" class=\"row_heading level1 row19\" >Salted Caramel Lean Protein & Fiber Bar</th>\n",
       "                        <td id=\"T_570e1_row19_col0\" class=\"data row19 col0\" >67.5%</td>\n",
       "            </tr>\n",
       "    </tbody></table>"
      ],
      "text/plain": [
       "<pandas.io.formats.style.Styler at 0x7f02dab5b460>"
      ]
     },
     "execution_count": 54,
     "metadata": {},
     "output_type": "execute_result"
    }
   ],
   "source": [
    "#ADDED BY REVIEWER\n",
    "\n",
    "#Upload the dataframes. You can skip that step and use your own dataframes\n",
    "df_order_products = pd.read_csv('/datasets/order_products.csv', sep=';')\n",
    "df_products = pd.read_csv('/datasets/products.csv', sep=';')\n",
    "\n",
    "#Merge sales and products\n",
    "reorder_pct = df_order_products.merge(df_products)\n",
    "\n",
    "#Get the reorder ratio\n",
    "reorder_pct = reorder_pct.groupby(['product_id', 'product_name'])['reordered'].mean().to_frame()\n",
    "\n",
    "#Format the output\n",
    "reorder_pct.head(20).style.format({'reordered': '{:.1%}'}) #format to percentage with 1 decimal"
   ]
  },
  {
   "cell_type": "markdown",
   "id": "subject-boxing",
   "metadata": {},
   "source": [
    "### [C4] For each customer, what proportion of their products ordered are reorders?"
   ]
  },
  {
   "cell_type": "code",
   "execution_count": 55,
   "id": "medical-couple",
   "metadata": {
    "scrolled": true,
    "trusted": false
   },
   "outputs": [
    {
     "data": {
      "text/plain": [
       "user_id\n",
       "2    0.038462\n",
       "4    0.000000\n",
       "5    0.666667\n",
       "6    0.000000\n",
       "7    0.928571\n",
       "dtype: float64"
      ]
     },
     "execution_count": 55,
     "metadata": {},
     "output_type": "execute_result"
    }
   ],
   "source": [
    "#need to merge df_instacart and df_order_products so that there is a user_id column in df_order_products\n",
    "df_insta_orders_merged= df_order_products.merge(df_instacart[['order_id', 'user_id']], on='order_id')\n",
    "\n",
    "# Total products per customer\n",
    "total_products = df_insta_orders_merged.groupby('user_id').size()\n",
    "\n",
    "# Reordered products per customer\n",
    "reordered_products = df_insta_orders_merged[df_insta_orders_merged['reordered'] == 1].groupby('user_id').size()\n",
    "\n",
    "# Calculate proportions\n",
    "proportion_reordered = (reordered_products / total_products).fillna(0)\n",
    "\n",
    "# Display a sample\n",
    "proportion_reordered.head()"
   ]
  },
  {
   "cell_type": "markdown",
   "id": "02d84d9c",
   "metadata": {},
   "source": [
    "<div class=\"alert alert-success\"; style=\"border-left: 7px solid green\">\n",
    "<b>✅ Reviewer's comment, v. 1</b> \n",
    "    \n",
    "Well done."
   ]
  },
  {
   "cell_type": "markdown",
   "id": "92d35137",
   "metadata": {},
   "source": [
    "### [C5] What are the top 20 items that people put in their carts first? "
   ]
  },
  {
   "cell_type": "code",
   "execution_count": 56,
   "id": "0ae57274",
   "metadata": {
    "scrolled": false,
    "trusted": false
   },
   "outputs": [
    {
     "name": "stdout",
     "output_type": "stream",
     "text": [
      "         product_id                              product_name  \\\n",
      "6             11440            Chicken Breast Tenders Breaded   \n",
      "17            11440            Chicken Breast Tenders Breaded   \n",
      "21            11440            Chicken Breast Tenders Breaded   \n",
      "50            11440            Chicken Breast Tenders Breaded   \n",
      "62            11440            Chicken Breast Tenders Breaded   \n",
      "...             ...                                       ...   \n",
      "4544972       16952                     Sensitive Night Cream   \n",
      "4544977       21507  Gluten Free All-Purpose Rice Flour Blend   \n",
      "4544995       25467                   Madagascar Pure Vanilla   \n",
      "4545005        8182          Total Mint Stripe Gel Toothpaste   \n",
      "4545006       40024                       Egg Replacer Powder   \n",
      "\n",
      "         add_to_cart_order  \n",
      "6                      1.0  \n",
      "17                     1.0  \n",
      "21                     1.0  \n",
      "50                     1.0  \n",
      "62                     1.0  \n",
      "...                    ...  \n",
      "4544972                1.0  \n",
      "4544977                1.0  \n",
      "4544995                1.0  \n",
      "4545005                1.0  \n",
      "4545006                1.0  \n",
      "\n",
      "[450046 rows x 3 columns]\n"
     ]
    }
   ],
   "source": [
    "order_products_merge= df_order_products.merge(df_products, on='product_id')\n",
    "first_item_products = order_products_merge.query('add_to_cart_order == 1')[['product_id', 'product_name', 'add_to_cart_order']]\n",
    "print(first_item_products)"
   ]
  },
  {
   "cell_type": "code",
   "execution_count": 57,
   "id": "forty-netherlands",
   "metadata": {
    "scrolled": false,
    "trusted": false
   },
   "outputs": [
    {
     "name": "stdout",
     "output_type": "stream",
     "text": [
      "product_id  product_name                 add_to_cart_order\n",
      "24852       Banana                       1.0                  15562\n",
      "13176       Bag of Organic Bananas       1.0                  11026\n",
      "27845       Organic Whole Milk           1.0                   4363\n",
      "21137       Organic Strawberries         1.0                   3946\n",
      "47209       Organic Hass Avocado         1.0                   3390\n",
      "21903       Organic Baby Spinach         1.0                   3336\n",
      "47766       Organic Avocado              1.0                   3044\n",
      "19660       Spring Water                 1.0                   2336\n",
      "16797       Strawberries                 1.0                   2308\n",
      "27966       Organic Raspberries          1.0                   2024\n",
      "44632       Sparkling Water Grapefruit   1.0                   1914\n",
      "49235       Organic Half & Half          1.0                   1797\n",
      "47626       Large Lemon                  1.0                   1737\n",
      "196         Soda                         1.0                   1733\n",
      "38689       Organic Reduced Fat Milk     1.0                   1397\n",
      "26209       Limes                        1.0                   1370\n",
      "12341       Hass Avocados                1.0                   1340\n",
      "5785        Organic Reduced Fat 2% Milk  1.0                   1310\n",
      "27086       Half & Half                  1.0                   1309\n",
      "22935       Organic Yellow Onion         1.0                   1246\n",
      "dtype: int64\n",
      "20\n"
     ]
    }
   ],
   "source": [
    "first_item_products_counts = first_item_products.groupby(['product_id', 'product_name','add_to_cart_order']).size()\n",
    "first_20_items=first_item_products_counts.sort_values(ascending=False).head(20)\n",
    "print(first_20_items)\n",
    "print(first_20_items.count())"
   ]
  },
  {
   "cell_type": "markdown",
   "id": "fbe9c5b2",
   "metadata": {},
   "source": [
    "In this problem we followed the same template as we did for the top 20 reordered items, but switched the grouping to filter by the first item in the cart.  Based on the data there is a lot of fresh fruit and produce that is added first.  This may be skewed as these are items that we already hypothesized are ordered/re-ordered more frequently, so they have more opportunities to be added first. "
   ]
  },
  {
   "cell_type": "markdown",
   "id": "79f31fee",
   "metadata": {},
   "source": [
    "<div class=\"alert alert-success\"; style=\"border-left: 7px solid green\">  \n",
    "<b>✅ Reviewer's Comment, v. 1</b>  \n",
    "\n",
    "No, this is not an issue — the solution is correct. It’s possible that customers are revisiting their previous orders and making slight updates, or perhaps the store’s recommendation system suggests frequently purchased or popular items for the cart. Another possibility is that customers naturally prioritize items they consistently buy.  \n",
    "\n"
   ]
  },
  {
   "cell_type": "markdown",
   "id": "28ce9872",
   "metadata": {},
   "source": [
    "In conclusion, we gathered a lot of valuable information from this data. We learned that weekends, especially Saturdays and around regular 9-5 working hours during weekdays is when most people do their shopping.  Knowing this information we can optimize different marketing strategies to reach the most customers and increase sales. We also learned what products are most popular and which ones are most frequently re-ordered.  We can use this information to better select recommended items for customers, so we know they are more likely to get picked. We also leanred that a large portion of this data has placed only one order, and most customers are less than 10 orders. Knowing this allows us to know that we still need to work on strategies for increasing repeat customers. All of these insights can help drive instacart to provide a better service to it's customers while improving it's overall income and footprint."
   ]
  },
  {
   "cell_type": "markdown",
   "id": "e5a2bf1e",
   "metadata": {},
   "source": [
    "<div class=\"alert alert-success\"; style=\"border-left: 7px solid green\">\n",
    "<b>✅ Reviewer's comment, v. 2</b> \n",
    "    \n",
    "✔️ Great job!\n",
    "\n",
    "A bit of formatting would enhance the readability of your conclusion. I’m sharing a link to a Markdown syntax guide where you can learn how to create numbered and bulleted lists, make text bold, and more.\n",
    "\n",
    "[Markdown Guide](https://www.markdownguide.org/basic-syntax/)\n",
    "    \n",
    "<div class=\"alert alert-danger\"; style=\"border-left: 7px solid red\">\n",
    "<b>⛔️ Reviewer's comment, v. 1</b> \n",
    "\n",
    "Could you please add an overall conclusion summarizing the main findings from your analysis?\n",
    "\n",
    "Including a conclusion is a critical part of your project, as it effectively ties together all of the key insights and demonstrates the business impact of your work. It gives readers a clear and concise understanding of the data’s story, how the findings can be applied, and what decisions or actions might follow. "
   ]
  }
 ],
 "metadata": {
  "ExecuteTimeLog": [
   {
    "duration": 186,
    "start_time": "2024-12-10T02:21:20.220Z"
   },
   {
    "duration": 344,
    "start_time": "2024-12-10T02:21:29.127Z"
   },
   {
    "duration": 440,
    "start_time": "2024-12-10T02:21:31.611Z"
   },
   {
    "duration": 281,
    "start_time": "2024-12-10T02:21:55.212Z"
   },
   {
    "duration": 536,
    "start_time": "2024-12-10T02:21:55.496Z"
   },
   {
    "duration": 0,
    "start_time": "2024-12-10T02:21:56.035Z"
   },
   {
    "duration": 0,
    "start_time": "2024-12-10T02:21:56.037Z"
   },
   {
    "duration": 0,
    "start_time": "2024-12-10T02:21:56.038Z"
   },
   {
    "duration": 0,
    "start_time": "2024-12-10T02:21:56.040Z"
   },
   {
    "duration": 0,
    "start_time": "2024-12-10T02:21:56.042Z"
   },
   {
    "duration": 0,
    "start_time": "2024-12-10T02:21:56.043Z"
   },
   {
    "duration": 0,
    "start_time": "2024-12-10T02:21:56.044Z"
   },
   {
    "duration": 0,
    "start_time": "2024-12-10T02:21:56.045Z"
   },
   {
    "duration": 0,
    "start_time": "2024-12-10T02:21:56.047Z"
   },
   {
    "duration": 0,
    "start_time": "2024-12-10T02:21:56.048Z"
   },
   {
    "duration": 0,
    "start_time": "2024-12-10T02:21:56.049Z"
   },
   {
    "duration": 0,
    "start_time": "2024-12-10T02:21:56.050Z"
   },
   {
    "duration": 0,
    "start_time": "2024-12-10T02:21:56.051Z"
   },
   {
    "duration": 0,
    "start_time": "2024-12-10T02:21:56.052Z"
   },
   {
    "duration": 0,
    "start_time": "2024-12-10T02:21:56.054Z"
   },
   {
    "duration": 0,
    "start_time": "2024-12-10T02:21:56.055Z"
   },
   {
    "duration": 0,
    "start_time": "2024-12-10T02:21:56.057Z"
   },
   {
    "duration": 0,
    "start_time": "2024-12-10T02:21:56.058Z"
   },
   {
    "duration": 0,
    "start_time": "2024-12-10T02:21:56.059Z"
   },
   {
    "duration": 0,
    "start_time": "2024-12-10T02:21:56.061Z"
   },
   {
    "duration": 0,
    "start_time": "2024-12-10T02:21:56.062Z"
   },
   {
    "duration": 2,
    "start_time": "2024-12-10T02:23:01.036Z"
   },
   {
    "duration": 298,
    "start_time": "2024-12-10T02:23:01.997Z"
   },
   {
    "duration": 317,
    "start_time": "2024-12-10T02:23:21.967Z"
   },
   {
    "duration": 274,
    "start_time": "2024-12-10T02:23:22.286Z"
   },
   {
    "duration": 53,
    "start_time": "2024-12-10T02:23:22.562Z"
   },
   {
    "duration": 3,
    "start_time": "2024-12-10T02:23:22.617Z"
   },
   {
    "duration": 2,
    "start_time": "2024-12-10T02:23:22.623Z"
   },
   {
    "duration": 2,
    "start_time": "2024-12-10T02:23:22.627Z"
   },
   {
    "duration": 2,
    "start_time": "2024-12-10T02:23:22.631Z"
   },
   {
    "duration": 2,
    "start_time": "2024-12-10T02:23:22.635Z"
   },
   {
    "duration": 2,
    "start_time": "2024-12-10T02:23:22.639Z"
   },
   {
    "duration": 3,
    "start_time": "2024-12-10T02:23:22.642Z"
   },
   {
    "duration": 2,
    "start_time": "2024-12-10T02:23:22.646Z"
   },
   {
    "duration": 2,
    "start_time": "2024-12-10T02:23:22.650Z"
   },
   {
    "duration": 3,
    "start_time": "2024-12-10T02:23:22.653Z"
   },
   {
    "duration": 3,
    "start_time": "2024-12-10T02:23:22.658Z"
   },
   {
    "duration": 2,
    "start_time": "2024-12-10T02:23:22.662Z"
   },
   {
    "duration": 1,
    "start_time": "2024-12-10T02:23:22.667Z"
   },
   {
    "duration": 2,
    "start_time": "2024-12-10T02:23:22.670Z"
   },
   {
    "duration": 2,
    "start_time": "2024-12-10T02:23:22.674Z"
   },
   {
    "duration": 3,
    "start_time": "2024-12-10T02:23:22.731Z"
   },
   {
    "duration": 2,
    "start_time": "2024-12-10T02:23:22.737Z"
   },
   {
    "duration": 2,
    "start_time": "2024-12-10T02:23:22.741Z"
   },
   {
    "duration": 3,
    "start_time": "2024-12-10T02:23:22.744Z"
   },
   {
    "duration": 2,
    "start_time": "2024-12-10T02:23:22.749Z"
   },
   {
    "duration": 7,
    "start_time": "2024-12-10T02:23:53.166Z"
   },
   {
    "duration": 323,
    "start_time": "2024-12-10T02:25:17.738Z"
   },
   {
    "duration": 289,
    "start_time": "2024-12-10T02:25:18.064Z"
   },
   {
    "duration": 36,
    "start_time": "2024-12-10T02:25:18.355Z"
   },
   {
    "duration": 6,
    "start_time": "2024-12-10T02:25:18.393Z"
   },
   {
    "duration": 6,
    "start_time": "2024-12-10T02:25:18.402Z"
   },
   {
    "duration": 2227,
    "start_time": "2024-12-10T02:25:18.410Z"
   },
   {
    "duration": 4,
    "start_time": "2024-12-10T02:25:20.639Z"
   },
   {
    "duration": 2,
    "start_time": "2024-12-10T02:25:20.646Z"
   },
   {
    "duration": 3,
    "start_time": "2024-12-10T02:25:20.651Z"
   },
   {
    "duration": 3,
    "start_time": "2024-12-10T02:25:20.656Z"
   },
   {
    "duration": 2,
    "start_time": "2024-12-10T02:25:20.661Z"
   },
   {
    "duration": 3,
    "start_time": "2024-12-10T02:25:20.667Z"
   },
   {
    "duration": 2,
    "start_time": "2024-12-10T02:25:20.672Z"
   },
   {
    "duration": 2,
    "start_time": "2024-12-10T02:25:20.679Z"
   },
   {
    "duration": 3,
    "start_time": "2024-12-10T02:25:20.683Z"
   },
   {
    "duration": 2,
    "start_time": "2024-12-10T02:25:20.688Z"
   },
   {
    "duration": 41,
    "start_time": "2024-12-10T02:25:20.692Z"
   },
   {
    "duration": 2,
    "start_time": "2024-12-10T02:25:20.735Z"
   },
   {
    "duration": 2,
    "start_time": "2024-12-10T02:25:20.739Z"
   },
   {
    "duration": 3,
    "start_time": "2024-12-10T02:25:20.743Z"
   },
   {
    "duration": 2,
    "start_time": "2024-12-10T02:25:20.748Z"
   },
   {
    "duration": 3,
    "start_time": "2024-12-10T02:25:20.752Z"
   },
   {
    "duration": 2,
    "start_time": "2024-12-10T02:25:20.757Z"
   },
   {
    "duration": 3,
    "start_time": "2024-12-10T02:25:20.760Z"
   },
   {
    "duration": 3,
    "start_time": "2024-12-10T02:25:20.764Z"
   },
   {
    "duration": 2,
    "start_time": "2024-12-10T02:25:20.769Z"
   },
   {
    "duration": 407,
    "start_time": "2024-12-10T02:26:37.805Z"
   },
   {
    "duration": 193,
    "start_time": "2024-12-10T02:27:43.847Z"
   },
   {
    "duration": 38,
    "start_time": "2024-12-10T02:29:16.882Z"
   },
   {
    "duration": 51,
    "start_time": "2024-12-10T02:29:30.370Z"
   },
   {
    "duration": 11,
    "start_time": "2024-12-10T02:30:25.488Z"
   },
   {
    "duration": 13,
    "start_time": "2024-12-10T02:30:41.813Z"
   },
   {
    "duration": 12,
    "start_time": "2024-12-10T02:30:59.360Z"
   },
   {
    "duration": 12,
    "start_time": "2024-12-10T02:31:08.811Z"
   },
   {
    "duration": 1993,
    "start_time": "2024-12-10T02:31:28.071Z"
   },
   {
    "duration": 794,
    "start_time": "2024-12-10T02:31:42.095Z"
   },
   {
    "duration": 356,
    "start_time": "2024-12-10T02:32:00.395Z"
   },
   {
    "duration": 172,
    "start_time": "2024-12-10T02:32:00.754Z"
   },
   {
    "duration": 44,
    "start_time": "2024-12-10T02:32:00.928Z"
   },
   {
    "duration": 14,
    "start_time": "2024-12-10T02:32:00.975Z"
   },
   {
    "duration": 14,
    "start_time": "2024-12-10T02:32:00.990Z"
   },
   {
    "duration": 770,
    "start_time": "2024-12-10T02:32:01.006Z"
   },
   {
    "duration": 2,
    "start_time": "2024-12-10T02:32:01.779Z"
   },
   {
    "duration": 3,
    "start_time": "2024-12-10T02:32:01.783Z"
   },
   {
    "duration": 2,
    "start_time": "2024-12-10T02:32:01.788Z"
   },
   {
    "duration": 3,
    "start_time": "2024-12-10T02:32:01.794Z"
   },
   {
    "duration": 2,
    "start_time": "2024-12-10T02:32:01.801Z"
   },
   {
    "duration": 27,
    "start_time": "2024-12-10T02:32:01.805Z"
   },
   {
    "duration": 3,
    "start_time": "2024-12-10T02:32:01.833Z"
   },
   {
    "duration": 2,
    "start_time": "2024-12-10T02:32:01.838Z"
   },
   {
    "duration": 2,
    "start_time": "2024-12-10T02:32:01.842Z"
   },
   {
    "duration": 2,
    "start_time": "2024-12-10T02:32:01.846Z"
   },
   {
    "duration": 2,
    "start_time": "2024-12-10T02:32:01.850Z"
   },
   {
    "duration": 2,
    "start_time": "2024-12-10T02:32:01.854Z"
   },
   {
    "duration": 4,
    "start_time": "2024-12-10T02:32:01.857Z"
   },
   {
    "duration": 2,
    "start_time": "2024-12-10T02:32:01.862Z"
   },
   {
    "duration": 2,
    "start_time": "2024-12-10T02:32:01.866Z"
   },
   {
    "duration": 2,
    "start_time": "2024-12-10T02:32:01.870Z"
   },
   {
    "duration": 3,
    "start_time": "2024-12-10T02:32:01.873Z"
   },
   {
    "duration": 2,
    "start_time": "2024-12-10T02:32:01.877Z"
   },
   {
    "duration": 53,
    "start_time": "2024-12-10T02:32:01.881Z"
   },
   {
    "duration": 2,
    "start_time": "2024-12-10T02:32:01.936Z"
   },
   {
    "duration": 758,
    "start_time": "2024-12-10T02:34:22.586Z"
   },
   {
    "duration": 143,
    "start_time": "2024-12-10T02:52:39.491Z"
   },
   {
    "duration": 154,
    "start_time": "2024-12-10T02:58:02.275Z"
   },
   {
    "duration": 126,
    "start_time": "2024-12-10T02:59:39.294Z"
   },
   {
    "duration": 123,
    "start_time": "2024-12-10T03:00:48.582Z"
   },
   {
    "duration": 123,
    "start_time": "2024-12-10T03:03:36.653Z"
   },
   {
    "duration": 44,
    "start_time": "2024-12-10T03:13:57.560Z"
   },
   {
    "duration": 219,
    "start_time": "2024-12-10T03:14:52.326Z"
   },
   {
    "duration": 54,
    "start_time": "2024-12-10T03:15:41.840Z"
   },
   {
    "duration": 50,
    "start_time": "2024-12-10T03:16:25.882Z"
   },
   {
    "duration": 44,
    "start_time": "2024-12-10T03:16:44.424Z"
   },
   {
    "duration": 60,
    "start_time": "2024-12-10T03:17:25.458Z"
   },
   {
    "duration": 61,
    "start_time": "2024-12-10T03:17:52.338Z"
   },
   {
    "duration": 71,
    "start_time": "2024-12-10T03:26:08.854Z"
   },
   {
    "duration": 60,
    "start_time": "2024-12-10T03:26:22.763Z"
   },
   {
    "duration": 61,
    "start_time": "2024-12-10T03:29:15.659Z"
   },
   {
    "duration": 13,
    "start_time": "2024-12-10T03:30:54.199Z"
   },
   {
    "duration": 12,
    "start_time": "2024-12-10T03:31:45.947Z"
   },
   {
    "duration": 888,
    "start_time": "2024-12-10T03:32:19.011Z"
   },
   {
    "duration": 916,
    "start_time": "2024-12-10T03:34:47.063Z"
   },
   {
    "duration": 887,
    "start_time": "2024-12-10T03:35:26.164Z"
   },
   {
    "duration": 904,
    "start_time": "2024-12-10T03:36:41.414Z"
   },
   {
    "duration": 884,
    "start_time": "2024-12-10T03:37:01.040Z"
   },
   {
    "duration": 884,
    "start_time": "2024-12-10T03:40:23.811Z"
   },
   {
    "duration": 876,
    "start_time": "2024-12-10T03:42:09.618Z"
   },
   {
    "duration": 8,
    "start_time": "2024-12-10T03:43:39.247Z"
   },
   {
    "duration": 859,
    "start_time": "2024-12-10T03:43:44.986Z"
   },
   {
    "duration": 876,
    "start_time": "2024-12-10T03:44:18.090Z"
   },
   {
    "duration": 897,
    "start_time": "2024-12-10T03:45:16.855Z"
   },
   {
    "duration": 863,
    "start_time": "2024-12-10T03:45:31.255Z"
   },
   {
    "duration": 315,
    "start_time": "2024-12-10T03:46:29.860Z"
   },
   {
    "duration": 156,
    "start_time": "2024-12-10T03:46:30.178Z"
   },
   {
    "duration": 67,
    "start_time": "2024-12-10T03:46:30.336Z"
   },
   {
    "duration": 26,
    "start_time": "2024-12-10T03:46:30.405Z"
   },
   {
    "duration": 12,
    "start_time": "2024-12-10T03:46:30.434Z"
   },
   {
    "duration": 866,
    "start_time": "2024-12-10T03:46:30.448Z"
   },
   {
    "duration": 2,
    "start_time": "2024-12-10T03:46:31.316Z"
   },
   {
    "duration": 2,
    "start_time": "2024-12-10T03:46:31.320Z"
   },
   {
    "duration": 2,
    "start_time": "2024-12-10T03:46:31.332Z"
   },
   {
    "duration": 2,
    "start_time": "2024-12-10T03:46:31.336Z"
   },
   {
    "duration": 3,
    "start_time": "2024-12-10T03:46:31.339Z"
   },
   {
    "duration": 2,
    "start_time": "2024-12-10T03:46:31.344Z"
   },
   {
    "duration": 3,
    "start_time": "2024-12-10T03:46:31.347Z"
   },
   {
    "duration": 2,
    "start_time": "2024-12-10T03:46:31.353Z"
   },
   {
    "duration": 3,
    "start_time": "2024-12-10T03:46:31.356Z"
   },
   {
    "duration": 3,
    "start_time": "2024-12-10T03:46:31.361Z"
   },
   {
    "duration": 3,
    "start_time": "2024-12-10T03:46:31.365Z"
   },
   {
    "duration": 2,
    "start_time": "2024-12-10T03:46:31.370Z"
   },
   {
    "duration": 3,
    "start_time": "2024-12-10T03:46:31.374Z"
   },
   {
    "duration": 52,
    "start_time": "2024-12-10T03:46:31.379Z"
   },
   {
    "duration": 3,
    "start_time": "2024-12-10T03:46:31.433Z"
   },
   {
    "duration": 2,
    "start_time": "2024-12-10T03:46:31.438Z"
   },
   {
    "duration": 3,
    "start_time": "2024-12-10T03:46:31.442Z"
   },
   {
    "duration": 3,
    "start_time": "2024-12-10T03:46:31.446Z"
   },
   {
    "duration": 3,
    "start_time": "2024-12-10T03:46:31.451Z"
   },
   {
    "duration": 2,
    "start_time": "2024-12-10T03:46:31.456Z"
   },
   {
    "duration": 81,
    "start_time": "2024-12-10T03:51:06.874Z"
   },
   {
    "duration": 542,
    "start_time": "2024-12-10T03:59:35.299Z"
   },
   {
    "duration": 100,
    "start_time": "2024-12-10T04:25:44.189Z"
   },
   {
    "duration": 106,
    "start_time": "2024-12-10T04:26:10.317Z"
   },
   {
    "duration": 3,
    "start_time": "2024-12-10T04:26:39.857Z"
   },
   {
    "duration": 89,
    "start_time": "2024-12-10T04:26:42.302Z"
   },
   {
    "duration": 103,
    "start_time": "2024-12-10T04:26:58.150Z"
   },
   {
    "duration": 98,
    "start_time": "2024-12-10T04:27:03.778Z"
   },
   {
    "duration": 108,
    "start_time": "2024-12-10T04:27:27.680Z"
   },
   {
    "duration": 114,
    "start_time": "2024-12-10T04:27:44.038Z"
   },
   {
    "duration": 36,
    "start_time": "2024-12-10T04:31:20.074Z"
   },
   {
    "duration": 140,
    "start_time": "2024-12-10T04:35:46.498Z"
   },
   {
    "duration": 5,
    "start_time": "2024-12-10T04:39:10.701Z"
   },
   {
    "duration": 14,
    "start_time": "2024-12-10T04:39:32.727Z"
   },
   {
    "duration": 294,
    "start_time": "2024-12-10T04:40:24.382Z"
   },
   {
    "duration": 157,
    "start_time": "2024-12-10T04:40:24.678Z"
   },
   {
    "duration": 67,
    "start_time": "2024-12-10T04:40:24.837Z"
   },
   {
    "duration": 13,
    "start_time": "2024-12-10T04:40:24.906Z"
   },
   {
    "duration": 19,
    "start_time": "2024-12-10T04:40:24.921Z"
   },
   {
    "duration": 895,
    "start_time": "2024-12-10T04:40:24.942Z"
   },
   {
    "duration": 83,
    "start_time": "2024-12-10T04:40:25.839Z"
   },
   {
    "duration": 10,
    "start_time": "2024-12-10T04:40:25.931Z"
   },
   {
    "duration": 104,
    "start_time": "2024-12-10T04:40:25.944Z"
   },
   {
    "duration": 96,
    "start_time": "2024-12-10T04:40:26.050Z"
   },
   {
    "duration": 27,
    "start_time": "2024-12-10T04:40:26.148Z"
   },
   {
    "duration": 3,
    "start_time": "2024-12-10T04:40:26.177Z"
   },
   {
    "duration": 3,
    "start_time": "2024-12-10T04:40:26.181Z"
   },
   {
    "duration": 2,
    "start_time": "2024-12-10T04:40:26.188Z"
   },
   {
    "duration": 2,
    "start_time": "2024-12-10T04:40:26.191Z"
   },
   {
    "duration": 3,
    "start_time": "2024-12-10T04:40:26.195Z"
   },
   {
    "duration": 2,
    "start_time": "2024-12-10T04:40:26.199Z"
   },
   {
    "duration": 3,
    "start_time": "2024-12-10T04:40:26.232Z"
   },
   {
    "duration": 3,
    "start_time": "2024-12-10T04:40:26.236Z"
   },
   {
    "duration": 2,
    "start_time": "2024-12-10T04:40:26.240Z"
   },
   {
    "duration": 2,
    "start_time": "2024-12-10T04:40:26.244Z"
   },
   {
    "duration": 2,
    "start_time": "2024-12-10T04:40:26.248Z"
   },
   {
    "duration": 3,
    "start_time": "2024-12-10T04:40:26.251Z"
   },
   {
    "duration": 3,
    "start_time": "2024-12-10T04:40:26.256Z"
   },
   {
    "duration": 2,
    "start_time": "2024-12-10T04:40:26.261Z"
   },
   {
    "duration": 2,
    "start_time": "2024-12-10T04:40:26.265Z"
   },
   {
    "duration": 13,
    "start_time": "2024-12-10T04:43:43.941Z"
   },
   {
    "duration": 4,
    "start_time": "2024-12-10T04:44:24.406Z"
   },
   {
    "duration": 17,
    "start_time": "2024-12-10T04:46:26.772Z"
   },
   {
    "duration": 5,
    "start_time": "2024-12-10T04:53:26.963Z"
   },
   {
    "duration": 4,
    "start_time": "2024-12-10T04:54:05.519Z"
   },
   {
    "duration": 11,
    "start_time": "2024-12-10T04:54:21.914Z"
   },
   {
    "duration": 10,
    "start_time": "2024-12-10T04:54:35.517Z"
   },
   {
    "duration": 9,
    "start_time": "2024-12-10T04:54:41.264Z"
   },
   {
    "duration": 10,
    "start_time": "2024-12-10T04:56:20.847Z"
   },
   {
    "duration": 8,
    "start_time": "2024-12-10T04:57:13.528Z"
   },
   {
    "duration": 4,
    "start_time": "2024-12-10T04:58:06.556Z"
   },
   {
    "duration": 4,
    "start_time": "2024-12-10T04:58:28.349Z"
   },
   {
    "duration": 5,
    "start_time": "2024-12-10T04:58:37.547Z"
   },
   {
    "duration": 790,
    "start_time": "2024-12-10T04:59:19.381Z"
   },
   {
    "duration": 288,
    "start_time": "2024-12-10T23:22:27.259Z"
   },
   {
    "duration": 213,
    "start_time": "2024-12-10T23:22:27.549Z"
   },
   {
    "duration": 85,
    "start_time": "2024-12-10T23:22:27.764Z"
   },
   {
    "duration": 13,
    "start_time": "2024-12-10T23:22:27.852Z"
   },
   {
    "duration": 13,
    "start_time": "2024-12-10T23:22:27.869Z"
   },
   {
    "duration": 1017,
    "start_time": "2024-12-10T23:22:27.883Z"
   },
   {
    "duration": 85,
    "start_time": "2024-12-10T23:22:28.902Z"
   },
   {
    "duration": 21,
    "start_time": "2024-12-10T23:22:28.989Z"
   },
   {
    "duration": 119,
    "start_time": "2024-12-10T23:22:29.012Z"
   },
   {
    "duration": 105,
    "start_time": "2024-12-10T23:22:29.133Z"
   },
   {
    "duration": 25,
    "start_time": "2024-12-10T23:22:29.240Z"
   },
   {
    "duration": 16,
    "start_time": "2024-12-10T23:22:29.267Z"
   },
   {
    "duration": 21,
    "start_time": "2024-12-10T23:22:29.285Z"
   },
   {
    "duration": 19,
    "start_time": "2024-12-10T23:22:29.310Z"
   },
   {
    "duration": 9,
    "start_time": "2024-12-10T23:22:29.330Z"
   },
   {
    "duration": 3,
    "start_time": "2024-12-10T23:22:29.341Z"
   },
   {
    "duration": 3,
    "start_time": "2024-12-10T23:22:29.346Z"
   },
   {
    "duration": 774,
    "start_time": "2024-12-10T23:22:29.351Z"
   },
   {
    "duration": 2,
    "start_time": "2024-12-10T23:22:30.126Z"
   },
   {
    "duration": 2,
    "start_time": "2024-12-10T23:22:30.130Z"
   },
   {
    "duration": 3,
    "start_time": "2024-12-10T23:22:30.134Z"
   },
   {
    "duration": 3,
    "start_time": "2024-12-10T23:22:30.138Z"
   },
   {
    "duration": 2,
    "start_time": "2024-12-10T23:22:30.143Z"
   },
   {
    "duration": 3,
    "start_time": "2024-12-10T23:22:30.147Z"
   },
   {
    "duration": 3,
    "start_time": "2024-12-10T23:22:30.151Z"
   },
   {
    "duration": 2,
    "start_time": "2024-12-10T23:22:30.156Z"
   },
   {
    "duration": 2,
    "start_time": "2024-12-10T23:22:30.160Z"
   },
   {
    "duration": 43,
    "start_time": "2024-12-10T23:22:30.164Z"
   },
   {
    "duration": 6,
    "start_time": "2024-12-10T23:24:06.283Z"
   },
   {
    "duration": 329,
    "start_time": "2024-12-10T23:24:50.842Z"
   },
   {
    "duration": 215,
    "start_time": "2024-12-10T23:24:51.173Z"
   },
   {
    "duration": 47,
    "start_time": "2024-12-10T23:24:51.389Z"
   },
   {
    "duration": 13,
    "start_time": "2024-12-10T23:24:51.438Z"
   },
   {
    "duration": 12,
    "start_time": "2024-12-10T23:24:51.454Z"
   },
   {
    "duration": 932,
    "start_time": "2024-12-10T23:24:51.467Z"
   },
   {
    "duration": 110,
    "start_time": "2024-12-10T23:24:52.401Z"
   },
   {
    "duration": 11,
    "start_time": "2024-12-10T23:24:52.513Z"
   },
   {
    "duration": 116,
    "start_time": "2024-12-10T23:24:52.526Z"
   },
   {
    "duration": 93,
    "start_time": "2024-12-10T23:24:52.643Z"
   },
   {
    "duration": 27,
    "start_time": "2024-12-10T23:24:52.738Z"
   },
   {
    "duration": 21,
    "start_time": "2024-12-10T23:24:52.766Z"
   },
   {
    "duration": 3,
    "start_time": "2024-12-10T23:24:52.788Z"
   },
   {
    "duration": 22,
    "start_time": "2024-12-10T23:24:52.806Z"
   },
   {
    "duration": 9,
    "start_time": "2024-12-10T23:24:52.830Z"
   },
   {
    "duration": 3,
    "start_time": "2024-12-10T23:24:52.841Z"
   },
   {
    "duration": 3,
    "start_time": "2024-12-10T23:24:52.846Z"
   },
   {
    "duration": 811,
    "start_time": "2024-12-10T23:24:52.851Z"
   },
   {
    "duration": 3,
    "start_time": "2024-12-10T23:24:53.664Z"
   },
   {
    "duration": 7,
    "start_time": "2024-12-10T23:24:53.668Z"
   },
   {
    "duration": 3,
    "start_time": "2024-12-10T23:24:53.676Z"
   },
   {
    "duration": 2,
    "start_time": "2024-12-10T23:24:53.681Z"
   },
   {
    "duration": 20,
    "start_time": "2024-12-10T23:24:53.685Z"
   },
   {
    "duration": 3,
    "start_time": "2024-12-10T23:24:53.707Z"
   },
   {
    "duration": 4,
    "start_time": "2024-12-10T23:24:53.712Z"
   },
   {
    "duration": 3,
    "start_time": "2024-12-10T23:24:53.718Z"
   },
   {
    "duration": 2,
    "start_time": "2024-12-10T23:24:53.723Z"
   },
   {
    "duration": 2,
    "start_time": "2024-12-10T23:24:53.727Z"
   },
   {
    "duration": 2,
    "start_time": "2024-12-10T23:24:53.731Z"
   },
   {
    "duration": 24,
    "start_time": "2024-12-10T23:27:23.598Z"
   },
   {
    "duration": 4,
    "start_time": "2024-12-10T23:52:36.128Z"
   },
   {
    "duration": 3,
    "start_time": "2024-12-10T23:52:45.348Z"
   },
   {
    "duration": 4,
    "start_time": "2024-12-10T23:52:58.296Z"
   },
   {
    "duration": 533,
    "start_time": "2024-12-10T23:53:20.856Z"
   },
   {
    "duration": 4,
    "start_time": "2024-12-10T23:53:33.012Z"
   },
   {
    "duration": 4,
    "start_time": "2024-12-10T23:53:39.613Z"
   },
   {
    "duration": 13,
    "start_time": "2024-12-11T00:02:55.235Z"
   },
   {
    "duration": 9,
    "start_time": "2024-12-11T00:03:08.018Z"
   },
   {
    "duration": 10,
    "start_time": "2024-12-11T00:16:19.126Z"
   },
   {
    "duration": 10,
    "start_time": "2024-12-11T00:20:32.030Z"
   },
   {
    "duration": 5,
    "start_time": "2024-12-11T00:29:07.766Z"
   },
   {
    "duration": 5,
    "start_time": "2024-12-11T00:29:13.449Z"
   },
   {
    "duration": 379,
    "start_time": "2024-12-11T00:32:51.159Z"
   },
   {
    "duration": 127,
    "start_time": "2024-12-11T00:34:15.154Z"
   },
   {
    "duration": 117,
    "start_time": "2024-12-11T00:41:41.243Z"
   },
   {
    "duration": 119,
    "start_time": "2024-12-11T00:43:04.532Z"
   },
   {
    "duration": 37,
    "start_time": "2024-12-11T00:46:26.281Z"
   },
   {
    "duration": 5,
    "start_time": "2024-12-11T00:46:31.524Z"
   },
   {
    "duration": 37,
    "start_time": "2024-12-11T00:46:53.979Z"
   },
   {
    "duration": 6,
    "start_time": "2024-12-11T00:53:46.001Z"
   },
   {
    "duration": 6,
    "start_time": "2024-12-11T00:54:22.962Z"
   },
   {
    "duration": 10,
    "start_time": "2024-12-11T00:55:30.944Z"
   },
   {
    "duration": 14,
    "start_time": "2024-12-11T00:58:43.273Z"
   },
   {
    "duration": 11,
    "start_time": "2024-12-11T00:59:28.237Z"
   },
   {
    "duration": 31,
    "start_time": "2024-12-11T02:00:50.109Z"
   },
   {
    "duration": 33,
    "start_time": "2024-12-11T02:01:36.514Z"
   },
   {
    "duration": 33,
    "start_time": "2024-12-11T02:01:47.355Z"
   },
   {
    "duration": 37,
    "start_time": "2024-12-11T02:03:05.766Z"
   },
   {
    "duration": 5,
    "start_time": "2024-12-11T02:04:30.324Z"
   },
   {
    "duration": 33,
    "start_time": "2024-12-11T02:04:36.962Z"
   },
   {
    "duration": 87,
    "start_time": "2024-12-11T02:05:49.914Z"
   },
   {
    "duration": 806,
    "start_time": "2024-12-11T02:07:28.286Z"
   },
   {
    "duration": 778,
    "start_time": "2024-12-11T02:09:04.793Z"
   },
   {
    "duration": 322,
    "start_time": "2024-12-11T02:15:26.323Z"
   },
   {
    "duration": 143,
    "start_time": "2024-12-11T02:15:26.647Z"
   },
   {
    "duration": 54,
    "start_time": "2024-12-11T02:15:26.791Z"
   },
   {
    "duration": 13,
    "start_time": "2024-12-11T02:15:26.847Z"
   },
   {
    "duration": 12,
    "start_time": "2024-12-11T02:15:26.863Z"
   },
   {
    "duration": 854,
    "start_time": "2024-12-11T02:15:26.876Z"
   },
   {
    "duration": 90,
    "start_time": "2024-12-11T02:15:27.731Z"
   },
   {
    "duration": 10,
    "start_time": "2024-12-11T02:15:27.823Z"
   },
   {
    "duration": 105,
    "start_time": "2024-12-11T02:15:27.835Z"
   },
   {
    "duration": 92,
    "start_time": "2024-12-11T02:15:27.942Z"
   },
   {
    "duration": 25,
    "start_time": "2024-12-11T02:15:28.036Z"
   },
   {
    "duration": 11,
    "start_time": "2024-12-11T02:15:28.063Z"
   },
   {
    "duration": 3,
    "start_time": "2024-12-11T02:15:28.076Z"
   },
   {
    "duration": 19,
    "start_time": "2024-12-11T02:15:28.104Z"
   },
   {
    "duration": 10,
    "start_time": "2024-12-11T02:15:28.125Z"
   },
   {
    "duration": 3,
    "start_time": "2024-12-11T02:15:28.136Z"
   },
   {
    "duration": 4,
    "start_time": "2024-12-11T02:15:28.141Z"
   },
   {
    "duration": 787,
    "start_time": "2024-12-11T02:15:28.146Z"
   },
   {
    "duration": 798,
    "start_time": "2024-12-11T02:15:28.935Z"
   },
   {
    "duration": 21,
    "start_time": "2024-12-11T02:15:29.735Z"
   },
   {
    "duration": 8,
    "start_time": "2024-12-11T02:15:29.757Z"
   },
   {
    "duration": 7,
    "start_time": "2024-12-11T02:15:29.767Z"
   },
   {
    "duration": 32,
    "start_time": "2024-12-11T02:15:29.776Z"
   },
   {
    "duration": 11,
    "start_time": "2024-12-11T02:15:29.810Z"
   },
   {
    "duration": 3,
    "start_time": "2024-12-11T02:15:29.823Z"
   },
   {
    "duration": 2,
    "start_time": "2024-12-11T02:15:29.827Z"
   },
   {
    "duration": 2,
    "start_time": "2024-12-11T02:15:29.831Z"
   },
   {
    "duration": 2,
    "start_time": "2024-12-11T02:15:29.835Z"
   },
   {
    "duration": 2,
    "start_time": "2024-12-11T02:15:29.839Z"
   },
   {
    "duration": 12,
    "start_time": "2024-12-11T02:16:09.541Z"
   },
   {
    "duration": 680,
    "start_time": "2024-12-11T02:21:11.041Z"
   },
   {
    "duration": 115,
    "start_time": "2024-12-11T02:21:30.013Z"
   },
   {
    "duration": 5,
    "start_time": "2024-12-11T02:30:05.750Z"
   },
   {
    "duration": 13,
    "start_time": "2024-12-11T02:30:19.068Z"
   },
   {
    "duration": 5,
    "start_time": "2024-12-11T02:30:35.813Z"
   },
   {
    "duration": 13,
    "start_time": "2024-12-11T02:31:33.138Z"
   },
   {
    "duration": 10,
    "start_time": "2024-12-11T02:32:07.876Z"
   },
   {
    "duration": 309,
    "start_time": "2024-12-11T02:37:11.735Z"
   },
   {
    "duration": 146,
    "start_time": "2024-12-11T02:37:12.047Z"
   },
   {
    "duration": 49,
    "start_time": "2024-12-11T02:37:12.194Z"
   },
   {
    "duration": 12,
    "start_time": "2024-12-11T02:37:12.246Z"
   },
   {
    "duration": 13,
    "start_time": "2024-12-11T02:37:12.259Z"
   },
   {
    "duration": 887,
    "start_time": "2024-12-11T02:37:12.273Z"
   },
   {
    "duration": 96,
    "start_time": "2024-12-11T02:37:13.162Z"
   },
   {
    "duration": 10,
    "start_time": "2024-12-11T02:37:13.259Z"
   },
   {
    "duration": 106,
    "start_time": "2024-12-11T02:37:13.271Z"
   },
   {
    "duration": 91,
    "start_time": "2024-12-11T02:37:13.381Z"
   },
   {
    "duration": 31,
    "start_time": "2024-12-11T02:37:13.474Z"
   },
   {
    "duration": 12,
    "start_time": "2024-12-11T02:37:13.507Z"
   },
   {
    "duration": 3,
    "start_time": "2024-12-11T02:37:13.520Z"
   },
   {
    "duration": 18,
    "start_time": "2024-12-11T02:37:13.525Z"
   },
   {
    "duration": 8,
    "start_time": "2024-12-11T02:37:13.544Z"
   },
   {
    "duration": 3,
    "start_time": "2024-12-11T02:37:13.554Z"
   },
   {
    "duration": 5,
    "start_time": "2024-12-11T02:37:13.559Z"
   },
   {
    "duration": 816,
    "start_time": "2024-12-11T02:37:13.565Z"
   },
   {
    "duration": 808,
    "start_time": "2024-12-11T02:37:14.383Z"
   },
   {
    "duration": 27,
    "start_time": "2024-12-11T02:37:15.193Z"
   },
   {
    "duration": 8,
    "start_time": "2024-12-11T02:37:15.222Z"
   },
   {
    "duration": 8,
    "start_time": "2024-12-11T02:37:15.233Z"
   },
   {
    "duration": 7,
    "start_time": "2024-12-11T02:37:15.242Z"
   },
   {
    "duration": 7,
    "start_time": "2024-12-11T02:37:15.251Z"
   },
   {
    "duration": 10,
    "start_time": "2024-12-11T02:37:15.260Z"
   },
   {
    "duration": 41,
    "start_time": "2024-12-11T02:37:15.272Z"
   },
   {
    "duration": 4,
    "start_time": "2024-12-11T02:37:15.315Z"
   },
   {
    "duration": 2,
    "start_time": "2024-12-11T02:37:15.322Z"
   },
   {
    "duration": 3,
    "start_time": "2024-12-11T02:37:15.326Z"
   },
   {
    "duration": 2,
    "start_time": "2024-12-11T02:37:15.331Z"
   },
   {
    "duration": 22,
    "start_time": "2024-12-11T02:37:28.536Z"
   },
   {
    "duration": 31,
    "start_time": "2024-12-11T02:38:30.890Z"
   },
   {
    "duration": 4,
    "start_time": "2024-12-11T02:39:23.618Z"
   },
   {
    "duration": 31,
    "start_time": "2024-12-11T02:39:41.103Z"
   },
   {
    "duration": 35,
    "start_time": "2024-12-11T02:40:15.132Z"
   },
   {
    "duration": 12,
    "start_time": "2024-12-11T02:57:46.990Z"
   },
   {
    "duration": 567,
    "start_time": "2024-12-11T03:12:02.327Z"
   },
   {
    "duration": 15,
    "start_time": "2024-12-11T03:12:18.044Z"
   },
   {
    "duration": 20,
    "start_time": "2024-12-11T03:14:15.079Z"
   },
   {
    "duration": 21,
    "start_time": "2024-12-11T03:15:18.367Z"
   },
   {
    "duration": 245,
    "start_time": "2024-12-11T03:15:51.281Z"
   },
   {
    "duration": 263,
    "start_time": "2024-12-11T03:20:10.498Z"
   },
   {
    "duration": 257,
    "start_time": "2024-12-11T03:20:50.535Z"
   },
   {
    "duration": 245,
    "start_time": "2024-12-11T03:21:47.219Z"
   },
   {
    "duration": 523,
    "start_time": "2024-12-11T03:30:17.479Z"
   },
   {
    "duration": 33,
    "start_time": "2024-12-11T03:30:26.297Z"
   },
   {
    "duration": 294,
    "start_time": "2024-12-11T03:30:43.458Z"
   },
   {
    "duration": 144,
    "start_time": "2024-12-11T03:30:43.755Z"
   },
   {
    "duration": 45,
    "start_time": "2024-12-11T03:30:43.904Z"
   },
   {
    "duration": 12,
    "start_time": "2024-12-11T03:30:43.952Z"
   },
   {
    "duration": 13,
    "start_time": "2024-12-11T03:30:43.965Z"
   },
   {
    "duration": 854,
    "start_time": "2024-12-11T03:30:43.979Z"
   },
   {
    "duration": 99,
    "start_time": "2024-12-11T03:30:44.835Z"
   },
   {
    "duration": 10,
    "start_time": "2024-12-11T03:30:44.936Z"
   },
   {
    "duration": 108,
    "start_time": "2024-12-11T03:30:44.948Z"
   },
   {
    "duration": 97,
    "start_time": "2024-12-11T03:30:45.059Z"
   },
   {
    "duration": 31,
    "start_time": "2024-12-11T03:30:45.158Z"
   },
   {
    "duration": 25,
    "start_time": "2024-12-11T03:30:45.191Z"
   },
   {
    "duration": 3,
    "start_time": "2024-12-11T03:30:45.218Z"
   },
   {
    "duration": 17,
    "start_time": "2024-12-11T03:30:45.223Z"
   },
   {
    "duration": 8,
    "start_time": "2024-12-11T03:30:45.241Z"
   },
   {
    "duration": 3,
    "start_time": "2024-12-11T03:30:45.251Z"
   },
   {
    "duration": 4,
    "start_time": "2024-12-11T03:30:45.255Z"
   },
   {
    "duration": 808,
    "start_time": "2024-12-11T03:30:45.260Z"
   },
   {
    "duration": 786,
    "start_time": "2024-12-11T03:30:46.069Z"
   },
   {
    "duration": 19,
    "start_time": "2024-12-11T03:30:46.857Z"
   },
   {
    "duration": 8,
    "start_time": "2024-12-11T03:30:46.877Z"
   },
   {
    "duration": 24,
    "start_time": "2024-12-11T03:30:46.886Z"
   },
   {
    "duration": 6,
    "start_time": "2024-12-11T03:30:46.912Z"
   },
   {
    "duration": 8,
    "start_time": "2024-12-11T03:30:46.920Z"
   },
   {
    "duration": 12,
    "start_time": "2024-12-11T03:30:46.930Z"
   },
   {
    "duration": 9,
    "start_time": "2024-12-11T03:30:46.943Z"
   },
   {
    "duration": 16,
    "start_time": "2024-12-11T03:30:46.954Z"
   },
   {
    "duration": 32,
    "start_time": "2024-12-11T03:30:47.004Z"
   },
   {
    "duration": 12,
    "start_time": "2024-12-11T03:30:47.037Z"
   },
   {
    "duration": 15,
    "start_time": "2024-12-11T03:30:47.051Z"
   },
   {
    "duration": 559,
    "start_time": "2024-12-11T03:30:47.067Z"
   },
   {
    "duration": 95,
    "start_time": "2024-12-11T03:35:32.416Z"
   },
   {
    "duration": 12,
    "start_time": "2024-12-11T03:38:10.167Z"
   },
   {
    "duration": 6,
    "start_time": "2024-12-11T03:39:11.094Z"
   },
   {
    "duration": 4,
    "start_time": "2024-12-11T03:39:51.395Z"
   },
   {
    "duration": 4,
    "start_time": "2024-12-11T03:40:05.155Z"
   },
   {
    "duration": 5,
    "start_time": "2024-12-11T03:40:16.522Z"
   },
   {
    "duration": 104,
    "start_time": "2024-12-11T03:41:01.110Z"
   },
   {
    "duration": 6,
    "start_time": "2024-12-11T03:41:30.203Z"
   },
   {
    "duration": 4,
    "start_time": "2024-12-11T03:42:18.606Z"
   },
   {
    "duration": 6,
    "start_time": "2024-12-11T03:42:21.658Z"
   },
   {
    "duration": 2570,
    "start_time": "2024-12-11T03:45:33.541Z"
   },
   {
    "duration": 663,
    "start_time": "2024-12-11T03:52:50.654Z"
   },
   {
    "duration": 28,
    "start_time": "2024-12-11T03:58:48.827Z"
   },
   {
    "duration": 18,
    "start_time": "2024-12-11T03:59:06.316Z"
   },
   {
    "duration": 119,
    "start_time": "2024-12-11T03:59:24.871Z"
   },
   {
    "duration": 139,
    "start_time": "2024-12-11T04:02:17.796Z"
   },
   {
    "duration": 4,
    "start_time": "2024-12-11T04:03:03.995Z"
   },
   {
    "duration": 3,
    "start_time": "2024-12-11T04:03:12.581Z"
   },
   {
    "duration": 112,
    "start_time": "2024-12-11T04:03:18.305Z"
   },
   {
    "duration": 780,
    "start_time": "2024-12-11T04:04:00.787Z"
   },
   {
    "duration": 15,
    "start_time": "2024-12-11T04:05:10.186Z"
   },
   {
    "duration": 707,
    "start_time": "2024-12-11T04:05:34.219Z"
   },
   {
    "duration": 6710,
    "start_time": "2024-12-11T04:05:45.575Z"
   },
   {
    "duration": 9156,
    "start_time": "2024-12-11T04:06:19.793Z"
   },
   {
    "duration": 118,
    "start_time": "2024-12-11T04:08:07.071Z"
   },
   {
    "duration": 139,
    "start_time": "2024-12-11T04:09:04.580Z"
   },
   {
    "duration": 526,
    "start_time": "2024-12-11T04:11:22.220Z"
   },
   {
    "duration": 303,
    "start_time": "2024-12-11T04:11:49.751Z"
   },
   {
    "duration": 172,
    "start_time": "2024-12-11T04:11:50.056Z"
   },
   {
    "duration": 65,
    "start_time": "2024-12-11T04:11:50.229Z"
   },
   {
    "duration": 13,
    "start_time": "2024-12-11T04:11:50.295Z"
   },
   {
    "duration": 12,
    "start_time": "2024-12-11T04:11:50.310Z"
   },
   {
    "duration": 934,
    "start_time": "2024-12-11T04:11:50.324Z"
   },
   {
    "duration": 95,
    "start_time": "2024-12-11T04:11:51.260Z"
   },
   {
    "duration": 9,
    "start_time": "2024-12-11T04:11:51.357Z"
   },
   {
    "duration": 117,
    "start_time": "2024-12-11T04:11:51.368Z"
   },
   {
    "duration": 90,
    "start_time": "2024-12-11T04:11:51.487Z"
   },
   {
    "duration": 33,
    "start_time": "2024-12-11T04:11:51.579Z"
   },
   {
    "duration": 13,
    "start_time": "2024-12-11T04:11:51.614Z"
   },
   {
    "duration": 3,
    "start_time": "2024-12-11T04:11:51.629Z"
   },
   {
    "duration": 16,
    "start_time": "2024-12-11T04:11:51.636Z"
   },
   {
    "duration": 8,
    "start_time": "2024-12-11T04:11:51.655Z"
   },
   {
    "duration": 3,
    "start_time": "2024-12-11T04:11:51.665Z"
   },
   {
    "duration": 4,
    "start_time": "2024-12-11T04:11:51.669Z"
   },
   {
    "duration": 776,
    "start_time": "2024-12-11T04:11:51.706Z"
   },
   {
    "duration": 808,
    "start_time": "2024-12-11T04:11:52.484Z"
   },
   {
    "duration": 26,
    "start_time": "2024-12-11T04:11:53.294Z"
   },
   {
    "duration": 8,
    "start_time": "2024-12-11T04:11:53.322Z"
   },
   {
    "duration": 8,
    "start_time": "2024-12-11T04:11:53.331Z"
   },
   {
    "duration": 7,
    "start_time": "2024-12-11T04:11:53.340Z"
   },
   {
    "duration": 8,
    "start_time": "2024-12-11T04:11:53.348Z"
   },
   {
    "duration": 11,
    "start_time": "2024-12-11T04:11:53.358Z"
   },
   {
    "duration": 43,
    "start_time": "2024-12-11T04:11:53.370Z"
   },
   {
    "duration": 16,
    "start_time": "2024-12-11T04:11:53.414Z"
   },
   {
    "duration": 33,
    "start_time": "2024-12-11T04:11:53.432Z"
   },
   {
    "duration": 38,
    "start_time": "2024-12-11T04:11:53.467Z"
   },
   {
    "duration": 17,
    "start_time": "2024-12-11T04:11:53.506Z"
   },
   {
    "duration": 537,
    "start_time": "2024-12-11T04:11:53.525Z"
   },
   {
    "duration": 5,
    "start_time": "2024-12-11T04:11:54.064Z"
   },
   {
    "duration": 4,
    "start_time": "2024-12-11T04:11:54.071Z"
   },
   {
    "duration": 904,
    "start_time": "2024-12-11T04:11:54.077Z"
   },
   {
    "duration": 184,
    "start_time": "2024-12-11T04:12:25.301Z"
   },
   {
    "duration": 689,
    "start_time": "2024-12-11T04:12:32.577Z"
   },
   {
    "duration": 127,
    "start_time": "2024-12-11T04:16:35.072Z"
   },
   {
    "duration": 127,
    "start_time": "2024-12-11T04:17:19.110Z"
   },
   {
    "duration": 123,
    "start_time": "2024-12-11T04:20:39.421Z"
   },
   {
    "duration": 130,
    "start_time": "2024-12-11T04:21:12.465Z"
   },
   {
    "duration": 129,
    "start_time": "2024-12-11T04:21:35.176Z"
   },
   {
    "duration": 179,
    "start_time": "2024-12-11T04:23:28.628Z"
   },
   {
    "duration": 127,
    "start_time": "2024-12-11T04:26:04.445Z"
   },
   {
    "duration": 132,
    "start_time": "2024-12-11T04:28:50.716Z"
   },
   {
    "duration": 106,
    "start_time": "2024-12-11T04:30:26.985Z"
   },
   {
    "duration": 137,
    "start_time": "2024-12-11T04:33:25.009Z"
   },
   {
    "duration": 122,
    "start_time": "2024-12-11T04:33:46.925Z"
   },
   {
    "duration": 124,
    "start_time": "2024-12-11T04:33:53.717Z"
   },
   {
    "duration": 120,
    "start_time": "2024-12-11T04:34:09.671Z"
   },
   {
    "duration": 128,
    "start_time": "2024-12-11T04:34:16.398Z"
   },
   {
    "duration": 132,
    "start_time": "2024-12-11T04:34:24.149Z"
   },
   {
    "duration": 127,
    "start_time": "2024-12-11T04:34:35.557Z"
   },
   {
    "duration": 133,
    "start_time": "2024-12-11T04:34:50.478Z"
   },
   {
    "duration": 188,
    "start_time": "2024-12-11T04:35:32.042Z"
   },
   {
    "duration": 138,
    "start_time": "2024-12-11T04:35:46.789Z"
   },
   {
    "duration": 125,
    "start_time": "2024-12-11T04:36:06.653Z"
   },
   {
    "duration": 140,
    "start_time": "2024-12-11T04:36:31.266Z"
   },
   {
    "duration": 125,
    "start_time": "2024-12-11T04:36:45.902Z"
   },
   {
    "duration": 124,
    "start_time": "2024-12-11T04:38:58.195Z"
   },
   {
    "duration": 136,
    "start_time": "2024-12-11T04:39:25.477Z"
   },
   {
    "duration": 131,
    "start_time": "2024-12-11T04:39:54.137Z"
   },
   {
    "duration": 134,
    "start_time": "2024-12-11T04:40:22.329Z"
   },
   {
    "duration": 132,
    "start_time": "2024-12-11T04:40:47.495Z"
   },
   {
    "duration": 122,
    "start_time": "2024-12-11T04:41:15.286Z"
   },
   {
    "duration": 150,
    "start_time": "2024-12-11T04:41:27.021Z"
   },
   {
    "duration": 183,
    "start_time": "2024-12-11T04:41:37.422Z"
   },
   {
    "duration": 146,
    "start_time": "2024-12-11T04:45:23.545Z"
   },
   {
    "duration": 493,
    "start_time": "2024-12-11T04:51:49.005Z"
   },
   {
    "duration": 39,
    "start_time": "2024-12-11T04:52:01.449Z"
   },
   {
    "duration": 1677,
    "start_time": "2024-12-11T04:53:13.528Z"
   },
   {
    "duration": 166,
    "start_time": "2024-12-11T04:54:24.108Z"
   },
   {
    "duration": 159,
    "start_time": "2024-12-11T04:57:11.669Z"
   },
   {
    "duration": 135,
    "start_time": "2024-12-11T04:57:35.781Z"
   },
   {
    "duration": 137,
    "start_time": "2024-12-11T05:01:51.752Z"
   },
   {
    "duration": 141,
    "start_time": "2024-12-11T05:02:42.698Z"
   },
   {
    "duration": 133,
    "start_time": "2024-12-11T05:03:51.757Z"
   },
   {
    "duration": 135,
    "start_time": "2024-12-11T05:04:03.161Z"
   },
   {
    "duration": 131,
    "start_time": "2024-12-11T05:04:25.285Z"
   },
   {
    "duration": 5,
    "start_time": "2024-12-11T05:06:11.973Z"
   },
   {
    "duration": 4,
    "start_time": "2024-12-11T05:06:27.099Z"
   },
   {
    "duration": 142,
    "start_time": "2024-12-11T05:06:36.550Z"
   },
   {
    "duration": 144,
    "start_time": "2024-12-11T05:06:51.639Z"
   },
   {
    "duration": 6,
    "start_time": "2024-12-11T05:09:48.849Z"
   },
   {
    "duration": 8,
    "start_time": "2024-12-11T05:11:53.906Z"
   },
   {
    "duration": 3,
    "start_time": "2024-12-11T05:25:20.615Z"
   },
   {
    "duration": 8,
    "start_time": "2024-12-11T05:25:32.130Z"
   },
   {
    "duration": 18,
    "start_time": "2024-12-11T05:27:42.821Z"
   },
   {
    "duration": 9,
    "start_time": "2024-12-11T05:27:52.581Z"
   },
   {
    "duration": 9,
    "start_time": "2024-12-11T05:28:40.104Z"
   },
   {
    "duration": 7,
    "start_time": "2024-12-11T05:29:08.810Z"
   },
   {
    "duration": 161,
    "start_time": "2024-12-11T05:34:26.513Z"
   },
   {
    "duration": 148,
    "start_time": "2024-12-11T05:34:56.858Z"
   },
   {
    "duration": 170,
    "start_time": "2024-12-11T05:36:11.281Z"
   },
   {
    "duration": 343,
    "start_time": "2024-12-11T05:37:05.049Z"
   },
   {
    "duration": 189,
    "start_time": "2024-12-11T05:37:48.917Z"
   },
   {
    "duration": 254,
    "start_time": "2024-12-11T05:38:59.767Z"
   },
   {
    "duration": 173,
    "start_time": "2024-12-11T05:39:11.455Z"
   },
   {
    "duration": 175,
    "start_time": "2024-12-11T05:39:30.025Z"
   },
   {
    "duration": 336,
    "start_time": "2024-12-11T05:40:11.032Z"
   },
   {
    "duration": 149,
    "start_time": "2024-12-11T05:40:11.370Z"
   },
   {
    "duration": 45,
    "start_time": "2024-12-11T05:40:11.521Z"
   },
   {
    "duration": 12,
    "start_time": "2024-12-11T05:40:11.569Z"
   },
   {
    "duration": 24,
    "start_time": "2024-12-11T05:40:11.583Z"
   },
   {
    "duration": 909,
    "start_time": "2024-12-11T05:40:11.609Z"
   },
   {
    "duration": 114,
    "start_time": "2024-12-11T05:40:12.520Z"
   },
   {
    "duration": 11,
    "start_time": "2024-12-11T05:40:12.636Z"
   },
   {
    "duration": 121,
    "start_time": "2024-12-11T05:40:12.648Z"
   },
   {
    "duration": 103,
    "start_time": "2024-12-11T05:40:12.772Z"
   },
   {
    "duration": 37,
    "start_time": "2024-12-11T05:40:12.877Z"
   },
   {
    "duration": 12,
    "start_time": "2024-12-11T05:40:12.916Z"
   },
   {
    "duration": 4,
    "start_time": "2024-12-11T05:40:12.930Z"
   },
   {
    "duration": 18,
    "start_time": "2024-12-11T05:40:12.936Z"
   },
   {
    "duration": 9,
    "start_time": "2024-12-11T05:40:12.957Z"
   },
   {
    "duration": 4,
    "start_time": "2024-12-11T05:40:12.968Z"
   },
   {
    "duration": 8,
    "start_time": "2024-12-11T05:40:13.005Z"
   },
   {
    "duration": 836,
    "start_time": "2024-12-11T05:40:13.015Z"
   },
   {
    "duration": 832,
    "start_time": "2024-12-11T05:40:13.853Z"
   },
   {
    "duration": 29,
    "start_time": "2024-12-11T05:40:14.687Z"
   },
   {
    "duration": 11,
    "start_time": "2024-12-11T05:40:14.718Z"
   },
   {
    "duration": 9,
    "start_time": "2024-12-11T05:40:14.730Z"
   },
   {
    "duration": 6,
    "start_time": "2024-12-11T05:40:14.741Z"
   },
   {
    "duration": 10,
    "start_time": "2024-12-11T05:40:14.749Z"
   },
   {
    "duration": 12,
    "start_time": "2024-12-11T05:40:14.761Z"
   },
   {
    "duration": 9,
    "start_time": "2024-12-11T05:40:14.805Z"
   },
   {
    "duration": 16,
    "start_time": "2024-12-11T05:40:14.816Z"
   },
   {
    "duration": 32,
    "start_time": "2024-12-11T05:40:14.836Z"
   },
   {
    "duration": 42,
    "start_time": "2024-12-11T05:40:14.870Z"
   },
   {
    "duration": 24,
    "start_time": "2024-12-11T05:40:14.914Z"
   },
   {
    "duration": 542,
    "start_time": "2024-12-11T05:40:14.940Z"
   },
   {
    "duration": 5,
    "start_time": "2024-12-11T05:40:15.484Z"
   },
   {
    "duration": 19,
    "start_time": "2024-12-11T05:40:15.491Z"
   },
   {
    "duration": 495,
    "start_time": "2024-12-11T05:40:15.512Z"
   },
   {
    "duration": 0,
    "start_time": "2024-12-11T05:40:16.009Z"
   },
   {
    "duration": 0,
    "start_time": "2024-12-11T05:40:16.010Z"
   },
   {
    "duration": 0,
    "start_time": "2024-12-11T05:40:16.012Z"
   },
   {
    "duration": 0,
    "start_time": "2024-12-11T05:40:16.013Z"
   },
   {
    "duration": 0,
    "start_time": "2024-12-11T05:40:16.014Z"
   },
   {
    "duration": 0,
    "start_time": "2024-12-11T05:40:16.016Z"
   },
   {
    "duration": 9,
    "start_time": "2024-12-11T05:40:23.511Z"
   },
   {
    "duration": 9,
    "start_time": "2024-12-11T05:40:37.288Z"
   },
   {
    "duration": 180,
    "start_time": "2024-12-11T05:40:59.039Z"
   },
   {
    "duration": 166,
    "start_time": "2024-12-11T05:41:32.675Z"
   },
   {
    "duration": 142,
    "start_time": "2024-12-11T05:42:22.439Z"
   },
   {
    "duration": 134,
    "start_time": "2024-12-11T05:42:40.751Z"
   },
   {
    "duration": 136,
    "start_time": "2024-12-11T05:42:48.302Z"
   },
   {
    "duration": 6,
    "start_time": "2024-12-11T05:42:55.195Z"
   },
   {
    "duration": 179,
    "start_time": "2024-12-11T05:43:02.657Z"
   },
   {
    "duration": 56,
    "start_time": "2024-12-11T05:54:37.882Z"
   },
   {
    "duration": 43,
    "start_time": "2024-12-11T05:54:48.754Z"
   },
   {
    "duration": 643,
    "start_time": "2024-12-11T05:56:20.721Z"
   },
   {
    "duration": 24,
    "start_time": "2024-12-11T05:56:59.863Z"
   },
   {
    "duration": 134,
    "start_time": "2024-12-11T05:57:51.666Z"
   },
   {
    "duration": 125,
    "start_time": "2024-12-11T05:58:23.985Z"
   },
   {
    "duration": 628,
    "start_time": "2024-12-11T05:58:43.317Z"
   },
   {
    "duration": 135,
    "start_time": "2024-12-11T05:59:24.655Z"
   },
   {
    "duration": 123,
    "start_time": "2024-12-11T05:59:35.746Z"
   },
   {
    "duration": 134,
    "start_time": "2024-12-11T05:59:42.809Z"
   },
   {
    "duration": 144,
    "start_time": "2024-12-11T06:06:46.290Z"
   },
   {
    "duration": 238,
    "start_time": "2024-12-11T06:07:19.714Z"
   },
   {
    "duration": 143,
    "start_time": "2024-12-11T06:07:29.299Z"
   },
   {
    "duration": 141,
    "start_time": "2024-12-11T06:07:40.782Z"
   },
   {
    "duration": 134,
    "start_time": "2024-12-11T06:07:48.190Z"
   },
   {
    "duration": 125,
    "start_time": "2024-12-11T06:07:58.981Z"
   },
   {
    "duration": 123,
    "start_time": "2024-12-11T06:08:11.167Z"
   },
   {
    "duration": 123,
    "start_time": "2024-12-11T06:08:49.334Z"
   },
   {
    "duration": 190,
    "start_time": "2024-12-11T06:09:47.773Z"
   },
   {
    "duration": 134,
    "start_time": "2024-12-11T06:10:22.546Z"
   },
   {
    "duration": 127,
    "start_time": "2024-12-11T06:10:51.157Z"
   },
   {
    "duration": 555,
    "start_time": "2024-12-11T06:14:15.804Z"
   },
   {
    "duration": 135,
    "start_time": "2024-12-11T06:15:13.171Z"
   },
   {
    "duration": 138,
    "start_time": "2024-12-11T06:15:20.627Z"
   },
   {
    "duration": 148,
    "start_time": "2024-12-11T06:15:53.445Z"
   },
   {
    "duration": 166,
    "start_time": "2024-12-11T06:16:03.558Z"
   },
   {
    "duration": 257,
    "start_time": "2024-12-11T06:16:17.410Z"
   },
   {
    "duration": 157,
    "start_time": "2024-12-11T06:16:34.449Z"
   },
   {
    "duration": 154,
    "start_time": "2024-12-11T06:16:44.169Z"
   },
   {
    "duration": 155,
    "start_time": "2024-12-11T06:16:52.029Z"
   },
   {
    "duration": 73,
    "start_time": "2024-12-11T06:23:05.410Z"
   },
   {
    "duration": 401,
    "start_time": "2024-12-11T06:26:03.094Z"
   },
   {
    "duration": 8,
    "start_time": "2024-12-11T06:28:26.414Z"
   },
   {
    "duration": 8,
    "start_time": "2024-12-11T06:28:40.901Z"
   },
   {
    "duration": 7,
    "start_time": "2024-12-11T06:29:09.612Z"
   },
   {
    "duration": 8,
    "start_time": "2024-12-11T06:30:49.758Z"
   },
   {
    "duration": 8,
    "start_time": "2024-12-11T06:31:04.781Z"
   },
   {
    "duration": 74,
    "start_time": "2024-12-11T06:31:41.011Z"
   },
   {
    "duration": 18,
    "start_time": "2024-12-11T06:40:31.575Z"
   },
   {
    "duration": 16,
    "start_time": "2024-12-11T06:40:42.817Z"
   },
   {
    "duration": 8,
    "start_time": "2024-12-11T06:49:51.741Z"
   },
   {
    "duration": 8,
    "start_time": "2024-12-11T06:53:55.763Z"
   },
   {
    "duration": 16,
    "start_time": "2024-12-11T06:57:30.464Z"
   },
   {
    "duration": 22,
    "start_time": "2024-12-11T06:59:20.689Z"
   },
   {
    "duration": 15,
    "start_time": "2024-12-11T06:59:34.994Z"
   },
   {
    "duration": 3,
    "start_time": "2024-12-11T07:19:10.130Z"
   },
   {
    "duration": 5,
    "start_time": "2024-12-11T07:20:03.901Z"
   },
   {
    "duration": 105,
    "start_time": "2024-12-11T07:20:18.971Z"
   },
   {
    "duration": 252,
    "start_time": "2024-12-11T07:21:02.162Z"
   },
   {
    "duration": 53,
    "start_time": "2024-12-11T07:21:31.413Z"
   },
   {
    "duration": 61,
    "start_time": "2024-12-11T07:22:24.055Z"
   },
   {
    "duration": 53,
    "start_time": "2024-12-11T07:22:48.363Z"
   },
   {
    "duration": 53,
    "start_time": "2024-12-11T07:23:59.645Z"
   },
   {
    "duration": 13,
    "start_time": "2024-12-11T07:45:31.318Z"
   },
   {
    "duration": 14,
    "start_time": "2024-12-11T07:46:53.555Z"
   },
   {
    "duration": 858,
    "start_time": "2024-12-11T07:47:14.138Z"
   },
   {
    "duration": 889,
    "start_time": "2024-12-11T07:47:40.181Z"
   },
   {
    "duration": 220,
    "start_time": "2024-12-11T07:55:18.545Z"
   },
   {
    "duration": 217,
    "start_time": "2024-12-11T07:55:55.874Z"
   },
   {
    "duration": 212,
    "start_time": "2024-12-11T07:58:04.611Z"
   },
   {
    "duration": 228,
    "start_time": "2024-12-11T07:58:55.221Z"
   },
   {
    "duration": 243,
    "start_time": "2024-12-11T07:59:20.145Z"
   },
   {
    "duration": 219,
    "start_time": "2024-12-11T07:59:27.971Z"
   },
   {
    "duration": 144,
    "start_time": "2024-12-11T08:00:20.490Z"
   },
   {
    "duration": 142,
    "start_time": "2024-12-11T08:01:37.946Z"
   },
   {
    "duration": 144,
    "start_time": "2024-12-11T08:02:06.174Z"
   },
   {
    "duration": 131,
    "start_time": "2024-12-11T08:02:15.427Z"
   },
   {
    "duration": 146,
    "start_time": "2024-12-11T08:02:47.266Z"
   },
   {
    "duration": 4,
    "start_time": "2024-12-11T08:03:16.429Z"
   },
   {
    "duration": 115,
    "start_time": "2024-12-11T08:03:31.774Z"
   },
   {
    "duration": 129,
    "start_time": "2024-12-11T08:03:46.266Z"
   },
   {
    "duration": 134,
    "start_time": "2024-12-11T08:04:41.674Z"
   },
   {
    "duration": 147,
    "start_time": "2024-12-11T08:04:49.654Z"
   },
   {
    "duration": 140,
    "start_time": "2024-12-11T08:04:59.937Z"
   },
   {
    "duration": 142,
    "start_time": "2024-12-11T08:05:13.682Z"
   },
   {
    "duration": 912,
    "start_time": "2024-12-11T08:12:37.902Z"
   },
   {
    "duration": 616,
    "start_time": "2024-12-11T08:18:26.085Z"
   },
   {
    "duration": 490,
    "start_time": "2024-12-11T08:19:57.169Z"
   },
   {
    "duration": 493,
    "start_time": "2024-12-11T08:21:45.213Z"
   },
   {
    "duration": 299,
    "start_time": "2024-12-11T08:25:26.570Z"
   },
   {
    "duration": 7,
    "start_time": "2024-12-11T08:30:07.258Z"
   },
   {
    "duration": 12,
    "start_time": "2024-12-11T08:37:48.665Z"
   },
   {
    "duration": 228,
    "start_time": "2024-12-11T08:38:03.222Z"
   },
   {
    "duration": 90,
    "start_time": "2024-12-11T09:03:27.057Z"
   },
   {
    "duration": 310,
    "start_time": "2024-12-11T09:04:11.608Z"
   },
   {
    "duration": 149,
    "start_time": "2024-12-11T09:04:11.920Z"
   },
   {
    "duration": 48,
    "start_time": "2024-12-11T09:04:12.071Z"
   },
   {
    "duration": 14,
    "start_time": "2024-12-11T09:04:12.121Z"
   },
   {
    "duration": 12,
    "start_time": "2024-12-11T09:04:12.136Z"
   },
   {
    "duration": 855,
    "start_time": "2024-12-11T09:04:12.150Z"
   },
   {
    "duration": 88,
    "start_time": "2024-12-11T09:04:13.008Z"
   },
   {
    "duration": 11,
    "start_time": "2024-12-11T09:04:13.105Z"
   },
   {
    "duration": 107,
    "start_time": "2024-12-11T09:04:13.118Z"
   },
   {
    "duration": 87,
    "start_time": "2024-12-11T09:04:13.227Z"
   },
   {
    "duration": 28,
    "start_time": "2024-12-11T09:04:13.315Z"
   },
   {
    "duration": 11,
    "start_time": "2024-12-11T09:04:13.345Z"
   },
   {
    "duration": 3,
    "start_time": "2024-12-11T09:04:13.357Z"
   },
   {
    "duration": 16,
    "start_time": "2024-12-11T09:04:13.362Z"
   },
   {
    "duration": 10,
    "start_time": "2024-12-11T09:04:13.406Z"
   },
   {
    "duration": 3,
    "start_time": "2024-12-11T09:04:13.418Z"
   },
   {
    "duration": 5,
    "start_time": "2024-12-11T09:04:13.423Z"
   },
   {
    "duration": 757,
    "start_time": "2024-12-11T09:04:13.430Z"
   },
   {
    "duration": 785,
    "start_time": "2024-12-11T09:04:14.189Z"
   },
   {
    "duration": 29,
    "start_time": "2024-12-11T09:04:14.976Z"
   },
   {
    "duration": 9,
    "start_time": "2024-12-11T09:04:15.009Z"
   },
   {
    "duration": 8,
    "start_time": "2024-12-11T09:04:15.020Z"
   },
   {
    "duration": 7,
    "start_time": "2024-12-11T09:04:15.029Z"
   },
   {
    "duration": 9,
    "start_time": "2024-12-11T09:04:15.037Z"
   },
   {
    "duration": 12,
    "start_time": "2024-12-11T09:04:15.047Z"
   },
   {
    "duration": 45,
    "start_time": "2024-12-11T09:04:15.062Z"
   },
   {
    "duration": 15,
    "start_time": "2024-12-11T09:04:15.109Z"
   },
   {
    "duration": 31,
    "start_time": "2024-12-11T09:04:15.128Z"
   },
   {
    "duration": 13,
    "start_time": "2024-12-11T09:04:15.161Z"
   },
   {
    "duration": 42,
    "start_time": "2024-12-11T09:04:15.176Z"
   },
   {
    "duration": 532,
    "start_time": "2024-12-11T09:04:15.220Z"
   },
   {
    "duration": 5,
    "start_time": "2024-12-11T09:04:15.754Z"
   },
   {
    "duration": 4,
    "start_time": "2024-12-11T09:04:15.762Z"
   },
   {
    "duration": 326,
    "start_time": "2024-12-11T09:04:15.767Z"
   },
   {
    "duration": 141,
    "start_time": "2024-12-11T09:04:16.095Z"
   },
   {
    "duration": 145,
    "start_time": "2024-12-11T09:04:16.237Z"
   },
   {
    "duration": 7,
    "start_time": "2024-12-11T09:04:16.384Z"
   },
   {
    "duration": 18,
    "start_time": "2024-12-11T09:04:16.392Z"
   },
   {
    "duration": 8,
    "start_time": "2024-12-11T09:04:16.412Z"
   },
   {
    "duration": 182,
    "start_time": "2024-12-11T09:04:16.423Z"
   },
   {
    "duration": 168,
    "start_time": "2024-12-11T09:04:16.607Z"
   },
   {
    "duration": 1112,
    "start_time": "2024-12-11T09:04:16.777Z"
   },
   {
    "duration": 251,
    "start_time": "2024-12-11T09:04:17.891Z"
   },
   {
    "duration": 157,
    "start_time": "2024-12-11T09:04:18.144Z"
   },
   {
    "duration": 883,
    "start_time": "2024-12-11T09:04:18.302Z"
   },
   {
    "duration": 318,
    "start_time": "2024-12-11T09:04:19.187Z"
   },
   {
    "duration": 183,
    "start_time": "2024-12-11T09:04:19.507Z"
   },
   {
    "duration": 1,
    "start_time": "2024-12-11T09:04:19.691Z"
   },
   {
    "duration": 94,
    "start_time": "2024-12-11T09:04:30.688Z"
   },
   {
    "duration": 316,
    "start_time": "2024-12-11T09:07:22.314Z"
   },
   {
    "duration": 152,
    "start_time": "2024-12-11T09:07:22.632Z"
   },
   {
    "duration": 50,
    "start_time": "2024-12-11T09:07:22.786Z"
   },
   {
    "duration": 12,
    "start_time": "2024-12-11T09:07:22.839Z"
   },
   {
    "duration": 12,
    "start_time": "2024-12-11T09:07:22.853Z"
   },
   {
    "duration": 848,
    "start_time": "2024-12-11T09:07:22.867Z"
   },
   {
    "duration": 95,
    "start_time": "2024-12-11T09:07:23.717Z"
   },
   {
    "duration": 9,
    "start_time": "2024-12-11T09:07:23.814Z"
   },
   {
    "duration": 102,
    "start_time": "2024-12-11T09:07:23.825Z"
   },
   {
    "duration": 86,
    "start_time": "2024-12-11T09:07:23.931Z"
   },
   {
    "duration": 29,
    "start_time": "2024-12-11T09:07:24.019Z"
   },
   {
    "duration": 13,
    "start_time": "2024-12-11T09:07:24.049Z"
   },
   {
    "duration": 4,
    "start_time": "2024-12-11T09:07:24.063Z"
   },
   {
    "duration": 46,
    "start_time": "2024-12-11T09:07:24.069Z"
   },
   {
    "duration": 9,
    "start_time": "2024-12-11T09:07:24.117Z"
   },
   {
    "duration": 4,
    "start_time": "2024-12-11T09:07:24.127Z"
   },
   {
    "duration": 4,
    "start_time": "2024-12-11T09:07:24.132Z"
   },
   {
    "duration": 767,
    "start_time": "2024-12-11T09:07:24.139Z"
   },
   {
    "duration": 799,
    "start_time": "2024-12-11T09:07:24.908Z"
   },
   {
    "duration": 19,
    "start_time": "2024-12-11T09:07:25.708Z"
   },
   {
    "duration": 8,
    "start_time": "2024-12-11T09:07:25.729Z"
   },
   {
    "duration": 8,
    "start_time": "2024-12-11T09:07:25.738Z"
   },
   {
    "duration": 7,
    "start_time": "2024-12-11T09:07:25.747Z"
   },
   {
    "duration": 7,
    "start_time": "2024-12-11T09:07:25.756Z"
   },
   {
    "duration": 47,
    "start_time": "2024-12-11T09:07:25.765Z"
   },
   {
    "duration": 10,
    "start_time": "2024-12-11T09:07:25.814Z"
   },
   {
    "duration": 15,
    "start_time": "2024-12-11T09:07:25.825Z"
   },
   {
    "duration": 31,
    "start_time": "2024-12-11T09:07:25.843Z"
   },
   {
    "duration": 38,
    "start_time": "2024-12-11T09:07:25.876Z"
   },
   {
    "duration": 15,
    "start_time": "2024-12-11T09:07:25.915Z"
   },
   {
    "duration": 532,
    "start_time": "2024-12-11T09:07:25.932Z"
   },
   {
    "duration": 7,
    "start_time": "2024-12-11T09:07:26.466Z"
   },
   {
    "duration": 6,
    "start_time": "2024-12-11T09:07:26.476Z"
   },
   {
    "duration": 314,
    "start_time": "2024-12-11T09:07:26.484Z"
   },
   {
    "duration": 141,
    "start_time": "2024-12-11T09:07:26.800Z"
   },
   {
    "duration": 145,
    "start_time": "2024-12-11T09:07:26.942Z"
   },
   {
    "duration": 7,
    "start_time": "2024-12-11T09:07:27.088Z"
   },
   {
    "duration": 8,
    "start_time": "2024-12-11T09:07:27.104Z"
   },
   {
    "duration": 7,
    "start_time": "2024-12-11T09:07:27.113Z"
   },
   {
    "duration": 192,
    "start_time": "2024-12-11T09:07:27.123Z"
   },
   {
    "duration": 169,
    "start_time": "2024-12-11T09:07:27.316Z"
   },
   {
    "duration": 1093,
    "start_time": "2024-12-11T09:07:27.487Z"
   },
   {
    "duration": 283,
    "start_time": "2024-12-11T09:07:28.582Z"
   },
   {
    "duration": 156,
    "start_time": "2024-12-11T09:07:28.867Z"
   },
   {
    "duration": 885,
    "start_time": "2024-12-11T09:07:29.025Z"
   },
   {
    "duration": 320,
    "start_time": "2024-12-11T09:07:29.912Z"
   },
   {
    "duration": 88,
    "start_time": "2024-12-11T09:08:31.825Z"
   },
   {
    "duration": 273,
    "start_time": "2024-12-11T09:10:46.353Z"
   },
   {
    "duration": 98,
    "start_time": "2024-12-11T09:10:56.526Z"
   },
   {
    "duration": 242,
    "start_time": "2024-12-11T09:11:05.017Z"
   },
   {
    "duration": 12,
    "start_time": "2024-12-11T09:14:43.358Z"
   },
   {
    "duration": 25,
    "start_time": "2024-12-11T09:16:57.490Z"
   },
   {
    "duration": 74,
    "start_time": "2024-12-11T09:17:39.142Z"
   },
   {
    "duration": 23,
    "start_time": "2024-12-11T09:17:50.182Z"
   },
   {
    "duration": 292,
    "start_time": "2024-12-11T09:23:55.641Z"
   },
   {
    "duration": 299,
    "start_time": "2024-12-11T09:26:46.793Z"
   },
   {
    "duration": 633,
    "start_time": "2024-12-11T09:43:19.434Z"
   },
   {
    "duration": 585,
    "start_time": "2024-12-11T09:45:34.553Z"
   },
   {
    "duration": 849,
    "start_time": "2024-12-11T09:45:59.382Z"
   },
   {
    "duration": 609,
    "start_time": "2024-12-11T09:50:42.535Z"
   },
   {
    "duration": 76,
    "start_time": "2024-12-11T09:52:32.670Z"
   },
   {
    "duration": 284,
    "start_time": "2024-12-11T09:55:10.497Z"
   },
   {
    "duration": 147,
    "start_time": "2024-12-11T09:55:10.784Z"
   },
   {
    "duration": 43,
    "start_time": "2024-12-11T09:55:10.933Z"
   },
   {
    "duration": 12,
    "start_time": "2024-12-11T09:55:10.978Z"
   },
   {
    "duration": 12,
    "start_time": "2024-12-11T09:55:11.004Z"
   },
   {
    "duration": 837,
    "start_time": "2024-12-11T09:55:11.018Z"
   },
   {
    "duration": 88,
    "start_time": "2024-12-11T09:55:11.857Z"
   },
   {
    "duration": 9,
    "start_time": "2024-12-11T09:55:11.947Z"
   },
   {
    "duration": 103,
    "start_time": "2024-12-11T09:55:11.957Z"
   },
   {
    "duration": 92,
    "start_time": "2024-12-11T09:55:12.061Z"
   },
   {
    "duration": 27,
    "start_time": "2024-12-11T09:55:12.155Z"
   },
   {
    "duration": 27,
    "start_time": "2024-12-11T09:55:12.184Z"
   },
   {
    "duration": 4,
    "start_time": "2024-12-11T09:55:12.213Z"
   },
   {
    "duration": 17,
    "start_time": "2024-12-11T09:55:12.221Z"
   },
   {
    "duration": 9,
    "start_time": "2024-12-11T09:55:12.239Z"
   },
   {
    "duration": 3,
    "start_time": "2024-12-11T09:55:12.250Z"
   },
   {
    "duration": 3,
    "start_time": "2024-12-11T09:55:12.255Z"
   },
   {
    "duration": 810,
    "start_time": "2024-12-11T09:55:12.259Z"
   },
   {
    "duration": 788,
    "start_time": "2024-12-11T09:55:13.071Z"
   },
   {
    "duration": 19,
    "start_time": "2024-12-11T09:55:13.861Z"
   },
   {
    "duration": 8,
    "start_time": "2024-12-11T09:55:13.881Z"
   },
   {
    "duration": 8,
    "start_time": "2024-12-11T09:55:13.904Z"
   },
   {
    "duration": 7,
    "start_time": "2024-12-11T09:55:13.914Z"
   },
   {
    "duration": 8,
    "start_time": "2024-12-11T09:55:13.922Z"
   },
   {
    "duration": 10,
    "start_time": "2024-12-11T09:55:13.932Z"
   },
   {
    "duration": 11,
    "start_time": "2024-12-11T09:55:13.943Z"
   },
   {
    "duration": 15,
    "start_time": "2024-12-11T09:55:13.955Z"
   },
   {
    "duration": 63,
    "start_time": "2024-12-11T09:55:13.971Z"
   },
   {
    "duration": 13,
    "start_time": "2024-12-11T09:55:14.036Z"
   },
   {
    "duration": 17,
    "start_time": "2024-12-11T09:55:14.050Z"
   },
   {
    "duration": 561,
    "start_time": "2024-12-11T09:55:14.068Z"
   },
   {
    "duration": 5,
    "start_time": "2024-12-11T09:55:14.631Z"
   },
   {
    "duration": 5,
    "start_time": "2024-12-11T09:55:14.638Z"
   },
   {
    "duration": 319,
    "start_time": "2024-12-11T09:55:14.645Z"
   },
   {
    "duration": 147,
    "start_time": "2024-12-11T09:55:14.966Z"
   },
   {
    "duration": 146,
    "start_time": "2024-12-11T09:55:15.114Z"
   },
   {
    "duration": 5,
    "start_time": "2024-12-11T09:55:15.262Z"
   },
   {
    "duration": 7,
    "start_time": "2024-12-11T09:55:15.269Z"
   },
   {
    "duration": 27,
    "start_time": "2024-12-11T09:55:15.278Z"
   },
   {
    "duration": 183,
    "start_time": "2024-12-11T09:55:15.306Z"
   },
   {
    "duration": 171,
    "start_time": "2024-12-11T09:55:15.494Z"
   },
   {
    "duration": 1094,
    "start_time": "2024-12-11T09:55:15.667Z"
   },
   {
    "duration": 255,
    "start_time": "2024-12-11T09:55:16.764Z"
   },
   {
    "duration": 146,
    "start_time": "2024-12-11T09:55:17.021Z"
   },
   {
    "duration": 880,
    "start_time": "2024-12-11T09:55:17.168Z"
   },
   {
    "duration": 318,
    "start_time": "2024-12-11T09:55:18.050Z"
   },
   {
    "duration": 244,
    "start_time": "2024-12-11T09:55:18.370Z"
   },
   {
    "duration": 26,
    "start_time": "2024-12-11T09:55:18.616Z"
   },
   {
    "duration": 894,
    "start_time": "2024-12-11T09:55:18.644Z"
   },
   {
    "duration": 576,
    "start_time": "2024-12-11T09:55:19.540Z"
   },
   {
    "duration": 71,
    "start_time": "2024-12-11T09:55:20.117Z"
   },
   {
    "duration": 416,
    "start_time": "2024-12-11T10:56:04.152Z"
   },
   {
    "duration": 172,
    "start_time": "2024-12-11T10:56:04.570Z"
   },
   {
    "duration": 64,
    "start_time": "2024-12-11T10:56:04.745Z"
   },
   {
    "duration": 14,
    "start_time": "2024-12-11T10:56:04.811Z"
   },
   {
    "duration": 14,
    "start_time": "2024-12-11T10:56:04.828Z"
   },
   {
    "duration": 912,
    "start_time": "2024-12-11T10:56:04.843Z"
   },
   {
    "duration": 96,
    "start_time": "2024-12-11T10:56:05.757Z"
   },
   {
    "duration": 11,
    "start_time": "2024-12-11T10:56:05.854Z"
   },
   {
    "duration": 113,
    "start_time": "2024-12-11T10:56:05.866Z"
   },
   {
    "duration": 92,
    "start_time": "2024-12-11T10:56:05.980Z"
   },
   {
    "duration": 27,
    "start_time": "2024-12-11T10:56:06.073Z"
   },
   {
    "duration": 11,
    "start_time": "2024-12-11T10:56:06.102Z"
   },
   {
    "duration": 4,
    "start_time": "2024-12-11T10:56:06.131Z"
   },
   {
    "duration": 18,
    "start_time": "2024-12-11T10:56:06.141Z"
   },
   {
    "duration": 11,
    "start_time": "2024-12-11T10:56:06.161Z"
   },
   {
    "duration": 4,
    "start_time": "2024-12-11T10:56:06.174Z"
   },
   {
    "duration": 4,
    "start_time": "2024-12-11T10:56:06.180Z"
   },
   {
    "duration": 837,
    "start_time": "2024-12-11T10:56:06.186Z"
   },
   {
    "duration": 809,
    "start_time": "2024-12-11T10:56:07.025Z"
   },
   {
    "duration": 21,
    "start_time": "2024-12-11T10:56:07.835Z"
   },
   {
    "duration": 8,
    "start_time": "2024-12-11T10:56:07.858Z"
   },
   {
    "duration": 8,
    "start_time": "2024-12-11T10:56:07.868Z"
   },
   {
    "duration": 6,
    "start_time": "2024-12-11T10:56:07.878Z"
   },
   {
    "duration": 9,
    "start_time": "2024-12-11T10:56:07.886Z"
   },
   {
    "duration": 16,
    "start_time": "2024-12-11T10:56:07.931Z"
   },
   {
    "duration": 10,
    "start_time": "2024-12-11T10:56:07.948Z"
   },
   {
    "duration": 14,
    "start_time": "2024-12-11T10:56:07.960Z"
   },
   {
    "duration": 55,
    "start_time": "2024-12-11T10:56:07.976Z"
   },
   {
    "duration": 14,
    "start_time": "2024-12-11T10:56:08.033Z"
   },
   {
    "duration": 16,
    "start_time": "2024-12-11T10:56:08.049Z"
   },
   {
    "duration": 554,
    "start_time": "2024-12-11T10:56:08.067Z"
   },
   {
    "duration": 10,
    "start_time": "2024-12-11T10:56:08.622Z"
   },
   {
    "duration": 5,
    "start_time": "2024-12-11T10:56:08.633Z"
   },
   {
    "duration": 1995,
    "start_time": "2024-12-11T10:56:08.639Z"
   },
   {
    "duration": 144,
    "start_time": "2024-12-11T10:56:10.636Z"
   },
   {
    "duration": 149,
    "start_time": "2024-12-11T10:56:10.782Z"
   },
   {
    "duration": 7,
    "start_time": "2024-12-11T10:56:10.933Z"
   },
   {
    "duration": 8,
    "start_time": "2024-12-11T10:56:10.941Z"
   },
   {
    "duration": 8,
    "start_time": "2024-12-11T10:56:10.951Z"
   },
   {
    "duration": 202,
    "start_time": "2024-12-11T10:56:10.960Z"
   },
   {
    "duration": 221,
    "start_time": "2024-12-11T10:56:11.166Z"
   },
   {
    "duration": 1135,
    "start_time": "2024-12-11T10:56:11.389Z"
   },
   {
    "duration": 278,
    "start_time": "2024-12-11T10:56:12.531Z"
   },
   {
    "duration": 153,
    "start_time": "2024-12-11T10:56:12.811Z"
   },
   {
    "duration": 915,
    "start_time": "2024-12-11T10:56:12.966Z"
   },
   {
    "duration": 312,
    "start_time": "2024-12-11T10:56:13.883Z"
   },
   {
    "duration": 254,
    "start_time": "2024-12-11T10:56:14.196Z"
   },
   {
    "duration": 26,
    "start_time": "2024-12-11T10:56:14.451Z"
   },
   {
    "duration": 905,
    "start_time": "2024-12-11T10:56:14.479Z"
   },
   {
    "duration": 607,
    "start_time": "2024-12-11T10:56:15.386Z"
   },
   {
    "duration": 85,
    "start_time": "2024-12-11T10:56:15.995Z"
   },
   {
    "duration": 1948,
    "start_time": "2024-12-11T11:33:07.522Z"
   },
   {
    "duration": 1819,
    "start_time": "2024-12-11T11:33:20.584Z"
   },
   {
    "duration": 823,
    "start_time": "2024-12-11T12:12:16.780Z"
   },
   {
    "duration": 13,
    "start_time": "2024-12-11T12:20:05.558Z"
   },
   {
    "duration": 16,
    "start_time": "2024-12-11T12:20:50.692Z"
   },
   {
    "duration": 17,
    "start_time": "2024-12-11T12:24:08.134Z"
   },
   {
    "duration": 515,
    "start_time": "2024-12-11T12:24:45.217Z"
   },
   {
    "duration": 54,
    "start_time": "2024-12-11T12:25:10.799Z"
   },
   {
    "duration": 9,
    "start_time": "2024-12-11T12:26:10.845Z"
   },
   {
    "duration": 331,
    "start_time": "2024-12-11T12:26:19.246Z"
   },
   {
    "duration": 150,
    "start_time": "2024-12-11T12:26:19.579Z"
   },
   {
    "duration": 55,
    "start_time": "2024-12-11T12:26:19.731Z"
   },
   {
    "duration": 12,
    "start_time": "2024-12-11T12:26:19.788Z"
   },
   {
    "duration": 12,
    "start_time": "2024-12-11T12:26:19.803Z"
   },
   {
    "duration": 868,
    "start_time": "2024-12-11T12:26:19.817Z"
   },
   {
    "duration": 91,
    "start_time": "2024-12-11T12:26:20.687Z"
   },
   {
    "duration": 10,
    "start_time": "2024-12-11T12:26:20.780Z"
   },
   {
    "duration": 113,
    "start_time": "2024-12-11T12:26:20.792Z"
   },
   {
    "duration": 90,
    "start_time": "2024-12-11T12:26:20.906Z"
   },
   {
    "duration": 36,
    "start_time": "2024-12-11T12:26:20.997Z"
   },
   {
    "duration": 12,
    "start_time": "2024-12-11T12:26:21.035Z"
   },
   {
    "duration": 4,
    "start_time": "2024-12-11T12:26:21.048Z"
   },
   {
    "duration": 18,
    "start_time": "2024-12-11T12:26:21.056Z"
   },
   {
    "duration": 10,
    "start_time": "2024-12-11T12:26:21.075Z"
   },
   {
    "duration": 4,
    "start_time": "2024-12-11T12:26:21.086Z"
   },
   {
    "duration": 38,
    "start_time": "2024-12-11T12:26:21.092Z"
   },
   {
    "duration": 800,
    "start_time": "2024-12-11T12:26:21.132Z"
   },
   {
    "duration": 802,
    "start_time": "2024-12-11T12:26:21.934Z"
   },
   {
    "duration": 25,
    "start_time": "2024-12-11T12:26:22.738Z"
   },
   {
    "duration": 8,
    "start_time": "2024-12-11T12:26:22.765Z"
   },
   {
    "duration": 9,
    "start_time": "2024-12-11T12:26:22.775Z"
   },
   {
    "duration": 8,
    "start_time": "2024-12-11T12:26:22.785Z"
   },
   {
    "duration": 42,
    "start_time": "2024-12-11T12:26:22.795Z"
   },
   {
    "duration": 13,
    "start_time": "2024-12-11T12:26:22.838Z"
   },
   {
    "duration": 10,
    "start_time": "2024-12-11T12:26:22.853Z"
   },
   {
    "duration": 15,
    "start_time": "2024-12-11T12:26:22.865Z"
   },
   {
    "duration": 56,
    "start_time": "2024-12-11T12:26:22.882Z"
   },
   {
    "duration": 12,
    "start_time": "2024-12-11T12:26:22.940Z"
   },
   {
    "duration": 15,
    "start_time": "2024-12-11T12:26:22.954Z"
   },
   {
    "duration": 17,
    "start_time": "2024-12-11T12:26:22.970Z"
   },
   {
    "duration": 557,
    "start_time": "2024-12-11T12:26:22.989Z"
   },
   {
    "duration": 5,
    "start_time": "2024-12-11T12:26:23.548Z"
   },
   {
    "duration": 4,
    "start_time": "2024-12-11T12:26:23.554Z"
   },
   {
    "duration": 318,
    "start_time": "2024-12-11T12:26:23.560Z"
   },
   {
    "duration": 141,
    "start_time": "2024-12-11T12:26:23.880Z"
   },
   {
    "duration": 146,
    "start_time": "2024-12-11T12:26:24.023Z"
   },
   {
    "duration": 7,
    "start_time": "2024-12-11T12:26:24.171Z"
   },
   {
    "duration": 7,
    "start_time": "2024-12-11T12:26:24.179Z"
   },
   {
    "duration": 7,
    "start_time": "2024-12-11T12:26:24.188Z"
   },
   {
    "duration": 197,
    "start_time": "2024-12-11T12:26:24.199Z"
   },
   {
    "duration": 175,
    "start_time": "2024-12-11T12:26:24.398Z"
   },
   {
    "duration": 1120,
    "start_time": "2024-12-11T12:26:24.575Z"
   },
   {
    "duration": 271,
    "start_time": "2024-12-11T12:26:25.697Z"
   },
   {
    "duration": 158,
    "start_time": "2024-12-11T12:26:25.970Z"
   },
   {
    "duration": 878,
    "start_time": "2024-12-11T12:26:26.131Z"
   },
   {
    "duration": 324,
    "start_time": "2024-12-11T12:26:27.010Z"
   },
   {
    "duration": 249,
    "start_time": "2024-12-11T12:26:27.337Z"
   },
   {
    "duration": 27,
    "start_time": "2024-12-11T12:26:27.588Z"
   },
   {
    "duration": 1820,
    "start_time": "2024-12-11T12:26:27.616Z"
   },
   {
    "duration": 1075,
    "start_time": "2024-12-11T12:26:29.437Z"
   },
   {
    "duration": 776,
    "start_time": "2024-12-11T12:26:30.514Z"
   },
   {
    "duration": 74,
    "start_time": "2024-12-11T12:26:31.292Z"
   },
   {
    "duration": 10,
    "start_time": "2024-12-11T12:28:26.560Z"
   },
   {
    "duration": 7,
    "start_time": "2024-12-11T12:28:31.088Z"
   },
   {
    "duration": 322,
    "start_time": "2024-12-11T12:29:06.558Z"
   },
   {
    "duration": 147,
    "start_time": "2024-12-11T12:29:06.882Z"
   },
   {
    "duration": 44,
    "start_time": "2024-12-11T12:29:07.030Z"
   },
   {
    "duration": 13,
    "start_time": "2024-12-11T12:29:07.077Z"
   },
   {
    "duration": 12,
    "start_time": "2024-12-11T12:29:07.092Z"
   },
   {
    "duration": 906,
    "start_time": "2024-12-11T12:29:07.105Z"
   },
   {
    "duration": 100,
    "start_time": "2024-12-11T12:29:08.013Z"
   },
   {
    "duration": 16,
    "start_time": "2024-12-11T12:29:08.115Z"
   },
   {
    "duration": 105,
    "start_time": "2024-12-11T12:29:08.133Z"
   },
   {
    "duration": 102,
    "start_time": "2024-12-11T12:29:08.241Z"
   },
   {
    "duration": 27,
    "start_time": "2024-12-11T12:29:08.345Z"
   },
   {
    "duration": 12,
    "start_time": "2024-12-11T12:29:08.374Z"
   },
   {
    "duration": 6,
    "start_time": "2024-12-11T12:29:08.387Z"
   },
   {
    "duration": 37,
    "start_time": "2024-12-11T12:29:08.395Z"
   },
   {
    "duration": 11,
    "start_time": "2024-12-11T12:29:08.434Z"
   },
   {
    "duration": 4,
    "start_time": "2024-12-11T12:29:08.447Z"
   },
   {
    "duration": 4,
    "start_time": "2024-12-11T12:29:08.452Z"
   },
   {
    "duration": 803,
    "start_time": "2024-12-11T12:29:08.457Z"
   },
   {
    "duration": 795,
    "start_time": "2024-12-11T12:29:09.262Z"
   },
   {
    "duration": 20,
    "start_time": "2024-12-11T12:29:10.059Z"
   },
   {
    "duration": 8,
    "start_time": "2024-12-11T12:29:10.081Z"
   },
   {
    "duration": 7,
    "start_time": "2024-12-11T12:29:10.091Z"
   },
   {
    "duration": 6,
    "start_time": "2024-12-11T12:29:10.100Z"
   },
   {
    "duration": 8,
    "start_time": "2024-12-11T12:29:10.132Z"
   },
   {
    "duration": 11,
    "start_time": "2024-12-11T12:29:10.142Z"
   },
   {
    "duration": 10,
    "start_time": "2024-12-11T12:29:10.155Z"
   },
   {
    "duration": 16,
    "start_time": "2024-12-11T12:29:10.167Z"
   },
   {
    "duration": 65,
    "start_time": "2024-12-11T12:29:10.187Z"
   },
   {
    "duration": 12,
    "start_time": "2024-12-11T12:29:10.253Z"
   },
   {
    "duration": 14,
    "start_time": "2024-12-11T12:29:10.267Z"
   },
   {
    "duration": 19,
    "start_time": "2024-12-11T12:29:10.283Z"
   },
   {
    "duration": 65,
    "start_time": "2024-12-11T12:29:10.305Z"
   },
   {
    "duration": 38,
    "start_time": "2024-12-11T12:29:10.372Z"
   },
   {
    "duration": 21,
    "start_time": "2024-12-11T12:29:10.413Z"
   },
   {
    "duration": 5,
    "start_time": "2024-12-11T12:29:10.436Z"
   },
   {
    "duration": 4,
    "start_time": "2024-12-11T12:29:10.442Z"
   },
   {
    "duration": 336,
    "start_time": "2024-12-11T12:29:10.448Z"
   },
   {
    "duration": 145,
    "start_time": "2024-12-11T12:29:10.786Z"
   },
   {
    "duration": 144,
    "start_time": "2024-12-11T12:29:10.933Z"
   },
   {
    "duration": 6,
    "start_time": "2024-12-11T12:29:11.079Z"
   },
   {
    "duration": 8,
    "start_time": "2024-12-11T12:29:11.087Z"
   },
   {
    "duration": 8,
    "start_time": "2024-12-11T12:29:11.097Z"
   },
   {
    "duration": 178,
    "start_time": "2024-12-11T12:29:11.131Z"
   },
   {
    "duration": 174,
    "start_time": "2024-12-11T12:29:11.311Z"
   },
   {
    "duration": 1131,
    "start_time": "2024-12-11T12:29:11.487Z"
   },
   {
    "duration": 268,
    "start_time": "2024-12-11T12:29:12.621Z"
   },
   {
    "duration": 153,
    "start_time": "2024-12-11T12:29:12.891Z"
   },
   {
    "duration": 896,
    "start_time": "2024-12-11T12:29:13.046Z"
   },
   {
    "duration": 328,
    "start_time": "2024-12-11T12:29:13.944Z"
   },
   {
    "duration": 261,
    "start_time": "2024-12-11T12:29:14.274Z"
   },
   {
    "duration": 28,
    "start_time": "2024-12-11T12:29:14.537Z"
   },
   {
    "duration": 1798,
    "start_time": "2024-12-11T12:29:14.566Z"
   },
   {
    "duration": 1072,
    "start_time": "2024-12-11T12:29:16.366Z"
   },
   {
    "duration": 806,
    "start_time": "2024-12-11T12:29:17.440Z"
   },
   {
    "duration": 63,
    "start_time": "2024-12-11T12:29:18.248Z"
   },
   {
    "duration": 15,
    "start_time": "2024-12-11T12:30:12.426Z"
   },
   {
    "duration": 157,
    "start_time": "2024-12-12T01:20:08.108Z"
   },
   {
    "duration": 304,
    "start_time": "2024-12-12T01:20:40.101Z"
   },
   {
    "duration": 175,
    "start_time": "2024-12-12T01:20:40.407Z"
   },
   {
    "duration": 63,
    "start_time": "2024-12-12T01:20:40.584Z"
   },
   {
    "duration": 14,
    "start_time": "2024-12-12T01:20:40.649Z"
   },
   {
    "duration": 12,
    "start_time": "2024-12-12T01:20:40.665Z"
   },
   {
    "duration": 948,
    "start_time": "2024-12-12T01:20:40.679Z"
   },
   {
    "duration": 97,
    "start_time": "2024-12-12T01:20:41.629Z"
   },
   {
    "duration": 10,
    "start_time": "2024-12-12T01:20:41.728Z"
   },
   {
    "duration": 107,
    "start_time": "2024-12-12T01:20:41.740Z"
   },
   {
    "duration": 94,
    "start_time": "2024-12-12T01:20:41.849Z"
   },
   {
    "duration": 25,
    "start_time": "2024-12-12T01:20:41.945Z"
   },
   {
    "duration": 13,
    "start_time": "2024-12-12T01:20:41.972Z"
   },
   {
    "duration": 4,
    "start_time": "2024-12-12T01:20:41.986Z"
   },
   {
    "duration": 17,
    "start_time": "2024-12-12T01:20:42.013Z"
   },
   {
    "duration": 10,
    "start_time": "2024-12-12T01:20:42.032Z"
   },
   {
    "duration": 3,
    "start_time": "2024-12-12T01:20:42.044Z"
   },
   {
    "duration": 4,
    "start_time": "2024-12-12T01:20:42.048Z"
   },
   {
    "duration": 806,
    "start_time": "2024-12-12T01:20:42.053Z"
   },
   {
    "duration": 837,
    "start_time": "2024-12-12T01:20:42.861Z"
   },
   {
    "duration": 29,
    "start_time": "2024-12-12T01:20:43.699Z"
   },
   {
    "duration": 8,
    "start_time": "2024-12-12T01:20:43.730Z"
   },
   {
    "duration": 9,
    "start_time": "2024-12-12T01:20:43.740Z"
   },
   {
    "duration": 7,
    "start_time": "2024-12-12T01:20:43.750Z"
   },
   {
    "duration": 8,
    "start_time": "2024-12-12T01:20:43.759Z"
   },
   {
    "duration": 44,
    "start_time": "2024-12-12T01:20:43.768Z"
   },
   {
    "duration": 11,
    "start_time": "2024-12-12T01:20:43.813Z"
   },
   {
    "duration": 16,
    "start_time": "2024-12-12T01:20:43.826Z"
   },
   {
    "duration": 33,
    "start_time": "2024-12-12T01:20:43.845Z"
   },
   {
    "duration": 38,
    "start_time": "2024-12-12T01:20:43.880Z"
   },
   {
    "duration": 16,
    "start_time": "2024-12-12T01:20:43.920Z"
   },
   {
    "duration": 540,
    "start_time": "2024-12-12T01:20:43.938Z"
   },
   {
    "duration": 7,
    "start_time": "2024-12-12T01:20:44.481Z"
   },
   {
    "duration": 4,
    "start_time": "2024-12-12T01:20:44.491Z"
   },
   {
    "duration": 17,
    "start_time": "2024-12-12T01:20:44.496Z"
   },
   {
    "duration": 2010,
    "start_time": "2024-12-12T01:20:44.515Z"
   },
   {
    "duration": 142,
    "start_time": "2024-12-12T01:20:46.527Z"
   },
   {
    "duration": 146,
    "start_time": "2024-12-12T01:20:46.671Z"
   },
   {
    "duration": 6,
    "start_time": "2024-12-12T01:20:46.819Z"
   },
   {
    "duration": 8,
    "start_time": "2024-12-12T01:20:46.826Z"
   },
   {
    "duration": 7,
    "start_time": "2024-12-12T01:20:46.836Z"
   },
   {
    "duration": 199,
    "start_time": "2024-12-12T01:20:46.848Z"
   },
   {
    "duration": 212,
    "start_time": "2024-12-12T01:20:47.048Z"
   },
   {
    "duration": 1141,
    "start_time": "2024-12-12T01:20:47.262Z"
   },
   {
    "duration": 269,
    "start_time": "2024-12-12T01:20:48.405Z"
   },
   {
    "duration": 150,
    "start_time": "2024-12-12T01:20:48.677Z"
   },
   {
    "duration": 914,
    "start_time": "2024-12-12T01:20:48.830Z"
   },
   {
    "duration": 322,
    "start_time": "2024-12-12T01:20:49.745Z"
   },
   {
    "duration": 258,
    "start_time": "2024-12-12T01:20:50.068Z"
   },
   {
    "duration": 24,
    "start_time": "2024-12-12T01:20:50.329Z"
   },
   {
    "duration": 1784,
    "start_time": "2024-12-12T01:20:50.355Z"
   },
   {
    "duration": 1049,
    "start_time": "2024-12-12T01:20:52.141Z"
   },
   {
    "duration": 805,
    "start_time": "2024-12-12T01:20:53.191Z"
   },
   {
    "duration": 68,
    "start_time": "2024-12-12T01:20:53.998Z"
   },
   {
    "duration": 9,
    "start_time": "2024-12-12T01:22:05.137Z"
   },
   {
    "duration": 209,
    "start_time": "2024-12-12T01:30:45.321Z"
   },
   {
    "duration": 4,
    "start_time": "2024-12-12T01:32:19.006Z"
   },
   {
    "duration": 4,
    "start_time": "2024-12-12T01:33:22.846Z"
   },
   {
    "duration": 12,
    "start_time": "2024-12-12T01:43:08.623Z"
   },
   {
    "duration": 78,
    "start_time": "2024-12-12T01:43:20.382Z"
   },
   {
    "duration": 179,
    "start_time": "2024-12-12T01:43:45.790Z"
   },
   {
    "duration": 142,
    "start_time": "2024-12-12T01:44:10.066Z"
   },
   {
    "duration": 626,
    "start_time": "2024-12-12T01:45:59.817Z"
   },
   {
    "duration": 637,
    "start_time": "2024-12-12T01:46:10.458Z"
   },
   {
    "duration": 343,
    "start_time": "2024-12-12T01:47:53.242Z"
   },
   {
    "duration": 148,
    "start_time": "2024-12-12T01:47:53.587Z"
   },
   {
    "duration": 45,
    "start_time": "2024-12-12T01:47:53.736Z"
   },
   {
    "duration": 12,
    "start_time": "2024-12-12T01:47:53.783Z"
   },
   {
    "duration": 23,
    "start_time": "2024-12-12T01:47:53.797Z"
   },
   {
    "duration": 837,
    "start_time": "2024-12-12T01:47:53.822Z"
   },
   {
    "duration": 109,
    "start_time": "2024-12-12T01:47:54.661Z"
   },
   {
    "duration": 10,
    "start_time": "2024-12-12T01:47:54.771Z"
   },
   {
    "duration": 108,
    "start_time": "2024-12-12T01:47:54.782Z"
   },
   {
    "duration": 97,
    "start_time": "2024-12-12T01:47:54.893Z"
   },
   {
    "duration": 35,
    "start_time": "2024-12-12T01:47:54.992Z"
   },
   {
    "duration": 11,
    "start_time": "2024-12-12T01:47:55.029Z"
   },
   {
    "duration": 3,
    "start_time": "2024-12-12T01:47:55.042Z"
   },
   {
    "duration": 18,
    "start_time": "2024-12-12T01:47:55.046Z"
   },
   {
    "duration": 7,
    "start_time": "2024-12-12T01:47:55.066Z"
   },
   {
    "duration": 4,
    "start_time": "2024-12-12T01:47:55.075Z"
   },
   {
    "duration": 33,
    "start_time": "2024-12-12T01:47:55.081Z"
   },
   {
    "duration": 5,
    "start_time": "2024-12-12T01:47:55.116Z"
   },
   {
    "duration": 4,
    "start_time": "2024-12-12T01:47:55.122Z"
   },
   {
    "duration": 805,
    "start_time": "2024-12-12T01:47:55.127Z"
   },
   {
    "duration": 816,
    "start_time": "2024-12-12T01:47:55.934Z"
   },
   {
    "duration": 705,
    "start_time": "2024-12-12T01:47:56.752Z"
   },
   {
    "duration": 20,
    "start_time": "2024-12-12T01:47:57.459Z"
   },
   {
    "duration": 8,
    "start_time": "2024-12-12T01:47:57.482Z"
   },
   {
    "duration": 23,
    "start_time": "2024-12-12T01:47:57.493Z"
   },
   {
    "duration": 6,
    "start_time": "2024-12-12T01:47:57.518Z"
   },
   {
    "duration": 8,
    "start_time": "2024-12-12T01:47:57.525Z"
   },
   {
    "duration": 10,
    "start_time": "2024-12-12T01:47:57.538Z"
   },
   {
    "duration": 9,
    "start_time": "2024-12-12T01:47:57.550Z"
   },
   {
    "duration": 15,
    "start_time": "2024-12-12T01:47:57.561Z"
   },
   {
    "duration": 64,
    "start_time": "2024-12-12T01:47:57.577Z"
   },
   {
    "duration": 13,
    "start_time": "2024-12-12T01:47:57.643Z"
   },
   {
    "duration": 16,
    "start_time": "2024-12-12T01:47:57.658Z"
   },
   {
    "duration": 545,
    "start_time": "2024-12-12T01:47:57.676Z"
   },
   {
    "duration": 6,
    "start_time": "2024-12-12T01:47:58.223Z"
   },
   {
    "duration": 6,
    "start_time": "2024-12-12T01:47:58.230Z"
   },
   {
    "duration": 4,
    "start_time": "2024-12-12T01:47:58.238Z"
   },
   {
    "duration": 323,
    "start_time": "2024-12-12T01:47:58.244Z"
   },
   {
    "duration": 145,
    "start_time": "2024-12-12T01:47:58.569Z"
   },
   {
    "duration": 151,
    "start_time": "2024-12-12T01:47:58.716Z"
   },
   {
    "duration": 6,
    "start_time": "2024-12-12T01:47:58.869Z"
   },
   {
    "duration": 7,
    "start_time": "2024-12-12T01:47:58.877Z"
   },
   {
    "duration": 28,
    "start_time": "2024-12-12T01:47:58.886Z"
   },
   {
    "duration": 181,
    "start_time": "2024-12-12T01:47:58.915Z"
   },
   {
    "duration": 172,
    "start_time": "2024-12-12T01:47:59.098Z"
   },
   {
    "duration": 1142,
    "start_time": "2024-12-12T01:47:59.272Z"
   },
   {
    "duration": 282,
    "start_time": "2024-12-12T01:48:00.416Z"
   },
   {
    "duration": 150,
    "start_time": "2024-12-12T01:48:00.700Z"
   },
   {
    "duration": 900,
    "start_time": "2024-12-12T01:48:00.852Z"
   },
   {
    "duration": 310,
    "start_time": "2024-12-12T01:48:01.755Z"
   },
   {
    "duration": 257,
    "start_time": "2024-12-12T01:48:02.068Z"
   },
   {
    "duration": 29,
    "start_time": "2024-12-12T01:48:02.327Z"
   },
   {
    "duration": 1877,
    "start_time": "2024-12-12T01:48:02.360Z"
   },
   {
    "duration": 1101,
    "start_time": "2024-12-12T01:48:04.239Z"
   },
   {
    "duration": 820,
    "start_time": "2024-12-12T01:48:05.342Z"
   },
   {
    "duration": 74,
    "start_time": "2024-12-12T01:48:06.164Z"
   },
   {
    "duration": 12,
    "start_time": "2024-12-12T01:55:48.366Z"
   },
   {
    "duration": 4,
    "start_time": "2024-12-12T01:56:10.131Z"
   },
   {
    "duration": 8,
    "start_time": "2024-12-12T01:56:28.827Z"
   },
   {
    "duration": 240,
    "start_time": "2024-12-12T01:57:01.798Z"
   },
   {
    "duration": 7,
    "start_time": "2024-12-12T01:57:22.599Z"
   },
   {
    "duration": 334,
    "start_time": "2024-12-12T02:31:23.505Z"
   },
   {
    "duration": 2,
    "start_time": "2024-12-12T02:40:32.636Z"
   },
   {
    "duration": 28,
    "start_time": "2024-12-12T02:42:57.947Z"
   },
   {
    "duration": 32,
    "start_time": "2024-12-12T02:43:28.836Z"
   },
   {
    "duration": 8,
    "start_time": "2024-12-12T02:43:33.202Z"
   },
   {
    "duration": 50,
    "start_time": "2024-12-12T02:44:11.198Z"
   },
   {
    "duration": 7,
    "start_time": "2024-12-12T02:44:15.991Z"
   },
   {
    "duration": 71,
    "start_time": "2024-12-12T02:56:32.025Z"
   },
   {
    "duration": 20,
    "start_time": "2024-12-12T02:56:46.326Z"
   },
   {
    "duration": 149,
    "start_time": "2024-12-12T03:00:43.806Z"
   },
   {
    "duration": 279,
    "start_time": "2024-12-12T03:01:57.198Z"
   },
   {
    "duration": 164,
    "start_time": "2024-12-12T03:02:30.834Z"
   },
   {
    "duration": 320,
    "start_time": "2024-12-12T03:13:47.066Z"
   },
   {
    "duration": 182,
    "start_time": "2024-12-12T03:13:47.389Z"
   },
   {
    "duration": 51,
    "start_time": "2024-12-12T03:13:47.573Z"
   },
   {
    "duration": 16,
    "start_time": "2024-12-12T03:13:47.626Z"
   },
   {
    "duration": 15,
    "start_time": "2024-12-12T03:13:47.644Z"
   },
   {
    "duration": 870,
    "start_time": "2024-12-12T03:13:47.663Z"
   },
   {
    "duration": 115,
    "start_time": "2024-12-12T03:13:48.535Z"
   },
   {
    "duration": 12,
    "start_time": "2024-12-12T03:13:48.653Z"
   },
   {
    "duration": 125,
    "start_time": "2024-12-12T03:13:48.666Z"
   },
   {
    "duration": 91,
    "start_time": "2024-12-12T03:13:48.794Z"
   },
   {
    "duration": 31,
    "start_time": "2024-12-12T03:13:48.887Z"
   },
   {
    "duration": 12,
    "start_time": "2024-12-12T03:13:48.920Z"
   },
   {
    "duration": 4,
    "start_time": "2024-12-12T03:13:48.934Z"
   },
   {
    "duration": 18,
    "start_time": "2024-12-12T03:13:48.939Z"
   },
   {
    "duration": 8,
    "start_time": "2024-12-12T03:13:48.959Z"
   },
   {
    "duration": 4,
    "start_time": "2024-12-12T03:13:48.968Z"
   },
   {
    "duration": 38,
    "start_time": "2024-12-12T03:13:48.974Z"
   },
   {
    "duration": 3,
    "start_time": "2024-12-12T03:13:49.013Z"
   },
   {
    "duration": 3,
    "start_time": "2024-12-12T03:13:49.018Z"
   },
   {
    "duration": 788,
    "start_time": "2024-12-12T03:13:49.023Z"
   },
   {
    "duration": 793,
    "start_time": "2024-12-12T03:13:49.813Z"
   },
   {
    "duration": 670,
    "start_time": "2024-12-12T03:13:50.607Z"
   },
   {
    "duration": 19,
    "start_time": "2024-12-12T03:13:51.279Z"
   },
   {
    "duration": 17,
    "start_time": "2024-12-12T03:13:51.300Z"
   },
   {
    "duration": 8,
    "start_time": "2024-12-12T03:13:51.319Z"
   },
   {
    "duration": 7,
    "start_time": "2024-12-12T03:13:51.328Z"
   },
   {
    "duration": 9,
    "start_time": "2024-12-12T03:13:51.337Z"
   },
   {
    "duration": 14,
    "start_time": "2024-12-12T03:13:51.352Z"
   },
   {
    "duration": 48,
    "start_time": "2024-12-12T03:13:51.368Z"
   },
   {
    "duration": 15,
    "start_time": "2024-12-12T03:13:51.418Z"
   },
   {
    "duration": 31,
    "start_time": "2024-12-12T03:13:51.435Z"
   },
   {
    "duration": 6,
    "start_time": "2024-12-12T03:13:51.469Z"
   },
   {
    "duration": 41,
    "start_time": "2024-12-12T03:13:51.478Z"
   },
   {
    "duration": 48,
    "start_time": "2024-12-12T03:13:51.521Z"
   },
   {
    "duration": 6,
    "start_time": "2024-12-12T03:13:51.571Z"
   },
   {
    "duration": 5,
    "start_time": "2024-12-12T03:13:51.579Z"
   },
   {
    "duration": 29,
    "start_time": "2024-12-12T03:13:51.585Z"
   },
   {
    "duration": 339,
    "start_time": "2024-12-12T03:13:51.615Z"
   },
   {
    "duration": 140,
    "start_time": "2024-12-12T03:13:51.956Z"
   },
   {
    "duration": 145,
    "start_time": "2024-12-12T03:13:52.098Z"
   },
   {
    "duration": 6,
    "start_time": "2024-12-12T03:13:52.244Z"
   },
   {
    "duration": 8,
    "start_time": "2024-12-12T03:13:52.252Z"
   },
   {
    "duration": 7,
    "start_time": "2024-12-12T03:13:52.261Z"
   },
   {
    "duration": 208,
    "start_time": "2024-12-12T03:13:52.270Z"
   },
   {
    "duration": 173,
    "start_time": "2024-12-12T03:13:52.480Z"
   },
   {
    "duration": 1148,
    "start_time": "2024-12-12T03:13:52.655Z"
   },
   {
    "duration": 158,
    "start_time": "2024-12-12T04:52:21.307Z"
   },
   {
    "duration": 292,
    "start_time": "2024-12-12T04:52:27.710Z"
   },
   {
    "duration": 176,
    "start_time": "2024-12-12T04:52:28.004Z"
   },
   {
    "duration": 70,
    "start_time": "2024-12-12T04:52:28.182Z"
   },
   {
    "duration": 13,
    "start_time": "2024-12-12T04:52:28.254Z"
   },
   {
    "duration": 13,
    "start_time": "2024-12-12T04:52:28.269Z"
   },
   {
    "duration": 919,
    "start_time": "2024-12-12T04:52:28.283Z"
   },
   {
    "duration": 96,
    "start_time": "2024-12-12T04:52:29.204Z"
   },
   {
    "duration": 9,
    "start_time": "2024-12-12T04:52:29.302Z"
   },
   {
    "duration": 102,
    "start_time": "2024-12-12T04:52:29.313Z"
   },
   {
    "duration": 85,
    "start_time": "2024-12-12T04:52:29.426Z"
   },
   {
    "duration": 35,
    "start_time": "2024-12-12T04:52:29.512Z"
   },
   {
    "duration": 12,
    "start_time": "2024-12-12T04:52:29.549Z"
   },
   {
    "duration": 4,
    "start_time": "2024-12-12T04:52:29.562Z"
   },
   {
    "duration": 17,
    "start_time": "2024-12-12T04:52:29.569Z"
   },
   {
    "duration": 7,
    "start_time": "2024-12-12T04:52:29.588Z"
   },
   {
    "duration": 467,
    "start_time": "2024-12-12T04:52:29.623Z"
   },
   {
    "duration": 0,
    "start_time": "2024-12-12T04:52:30.093Z"
   },
   {
    "duration": 0,
    "start_time": "2024-12-12T04:52:30.094Z"
   },
   {
    "duration": 0,
    "start_time": "2024-12-12T04:52:30.095Z"
   },
   {
    "duration": 0,
    "start_time": "2024-12-12T04:52:30.097Z"
   },
   {
    "duration": 0,
    "start_time": "2024-12-12T04:52:30.098Z"
   },
   {
    "duration": 0,
    "start_time": "2024-12-12T04:52:30.099Z"
   },
   {
    "duration": 0,
    "start_time": "2024-12-12T04:52:30.100Z"
   },
   {
    "duration": 0,
    "start_time": "2024-12-12T04:52:30.101Z"
   },
   {
    "duration": 0,
    "start_time": "2024-12-12T04:52:30.102Z"
   },
   {
    "duration": 0,
    "start_time": "2024-12-12T04:52:30.104Z"
   },
   {
    "duration": 0,
    "start_time": "2024-12-12T04:52:30.124Z"
   },
   {
    "duration": 0,
    "start_time": "2024-12-12T04:52:30.125Z"
   },
   {
    "duration": 0,
    "start_time": "2024-12-12T04:52:30.128Z"
   },
   {
    "duration": 0,
    "start_time": "2024-12-12T04:52:30.129Z"
   },
   {
    "duration": 0,
    "start_time": "2024-12-12T04:52:30.131Z"
   },
   {
    "duration": 0,
    "start_time": "2024-12-12T04:52:30.132Z"
   },
   {
    "duration": 0,
    "start_time": "2024-12-12T04:52:30.133Z"
   },
   {
    "duration": 0,
    "start_time": "2024-12-12T04:52:30.135Z"
   },
   {
    "duration": 0,
    "start_time": "2024-12-12T04:52:30.137Z"
   },
   {
    "duration": 0,
    "start_time": "2024-12-12T04:52:30.138Z"
   },
   {
    "duration": 0,
    "start_time": "2024-12-12T04:52:30.140Z"
   },
   {
    "duration": 0,
    "start_time": "2024-12-12T04:52:30.141Z"
   },
   {
    "duration": 0,
    "start_time": "2024-12-12T04:52:30.143Z"
   },
   {
    "duration": 0,
    "start_time": "2024-12-12T04:52:30.144Z"
   },
   {
    "duration": 0,
    "start_time": "2024-12-12T04:52:30.146Z"
   },
   {
    "duration": 0,
    "start_time": "2024-12-12T04:52:30.147Z"
   },
   {
    "duration": 0,
    "start_time": "2024-12-12T04:52:30.149Z"
   },
   {
    "duration": 0,
    "start_time": "2024-12-12T04:52:30.150Z"
   },
   {
    "duration": 0,
    "start_time": "2024-12-12T04:52:30.151Z"
   },
   {
    "duration": 0,
    "start_time": "2024-12-12T04:52:30.153Z"
   },
   {
    "duration": 0,
    "start_time": "2024-12-12T04:52:30.154Z"
   },
   {
    "duration": 0,
    "start_time": "2024-12-12T04:52:30.156Z"
   },
   {
    "duration": 0,
    "start_time": "2024-12-12T04:52:30.158Z"
   },
   {
    "duration": 0,
    "start_time": "2024-12-12T04:52:30.159Z"
   },
   {
    "duration": 0,
    "start_time": "2024-12-12T04:52:30.160Z"
   },
   {
    "duration": 0,
    "start_time": "2024-12-12T04:52:30.162Z"
   },
   {
    "duration": 0,
    "start_time": "2024-12-12T04:52:30.223Z"
   },
   {
    "duration": 0,
    "start_time": "2024-12-12T04:52:30.225Z"
   },
   {
    "duration": 0,
    "start_time": "2024-12-12T04:52:30.226Z"
   },
   {
    "duration": 0,
    "start_time": "2024-12-12T04:52:30.227Z"
   },
   {
    "duration": 0,
    "start_time": "2024-12-12T04:52:30.228Z"
   },
   {
    "duration": 26,
    "start_time": "2024-12-12T04:53:02.853Z"
   },
   {
    "duration": 279,
    "start_time": "2024-12-12T04:58:06.571Z"
   },
   {
    "duration": 145,
    "start_time": "2024-12-12T04:58:06.852Z"
   },
   {
    "duration": 48,
    "start_time": "2024-12-12T04:58:06.999Z"
   },
   {
    "duration": 12,
    "start_time": "2024-12-12T04:58:07.049Z"
   },
   {
    "duration": 12,
    "start_time": "2024-12-12T04:58:07.063Z"
   },
   {
    "duration": 878,
    "start_time": "2024-12-12T04:58:07.076Z"
   },
   {
    "duration": 96,
    "start_time": "2024-12-12T04:58:07.956Z"
   },
   {
    "duration": 10,
    "start_time": "2024-12-12T04:58:08.053Z"
   },
   {
    "duration": 106,
    "start_time": "2024-12-12T04:58:08.065Z"
   },
   {
    "duration": 92,
    "start_time": "2024-12-12T04:58:08.174Z"
   },
   {
    "duration": 26,
    "start_time": "2024-12-12T04:58:08.268Z"
   },
   {
    "duration": 12,
    "start_time": "2024-12-12T04:58:08.295Z"
   },
   {
    "duration": 18,
    "start_time": "2024-12-12T04:58:08.308Z"
   },
   {
    "duration": 18,
    "start_time": "2024-12-12T04:58:08.328Z"
   },
   {
    "duration": 10,
    "start_time": "2024-12-12T04:58:08.347Z"
   },
   {
    "duration": 23,
    "start_time": "2024-12-12T04:58:08.359Z"
   },
   {
    "duration": 6,
    "start_time": "2024-12-12T04:58:08.386Z"
   },
   {
    "duration": 31,
    "start_time": "2024-12-12T04:58:08.395Z"
   },
   {
    "duration": 4,
    "start_time": "2024-12-12T04:58:08.428Z"
   },
   {
    "duration": 4,
    "start_time": "2024-12-12T04:58:08.433Z"
   },
   {
    "duration": 778,
    "start_time": "2024-12-12T04:58:08.439Z"
   },
   {
    "duration": 792,
    "start_time": "2024-12-12T04:58:09.224Z"
   },
   {
    "duration": 666,
    "start_time": "2024-12-12T04:58:10.024Z"
   },
   {
    "duration": 20,
    "start_time": "2024-12-12T04:58:10.691Z"
   },
   {
    "duration": 10,
    "start_time": "2024-12-12T04:58:10.724Z"
   },
   {
    "duration": 8,
    "start_time": "2024-12-12T04:58:10.735Z"
   },
   {
    "duration": 6,
    "start_time": "2024-12-12T04:58:10.745Z"
   },
   {
    "duration": 7,
    "start_time": "2024-12-12T04:58:10.757Z"
   },
   {
    "duration": 11,
    "start_time": "2024-12-12T04:58:10.766Z"
   },
   {
    "duration": 47,
    "start_time": "2024-12-12T04:58:10.778Z"
   },
   {
    "duration": 15,
    "start_time": "2024-12-12T04:58:10.826Z"
   },
   {
    "duration": 30,
    "start_time": "2024-12-12T04:58:10.843Z"
   },
   {
    "duration": 7,
    "start_time": "2024-12-12T04:58:10.875Z"
   },
   {
    "duration": 44,
    "start_time": "2024-12-12T04:58:10.884Z"
   },
   {
    "duration": 48,
    "start_time": "2024-12-12T04:58:10.930Z"
   },
   {
    "duration": 6,
    "start_time": "2024-12-12T04:58:10.980Z"
   },
   {
    "duration": 4,
    "start_time": "2024-12-12T04:58:10.988Z"
   },
   {
    "duration": 31,
    "start_time": "2024-12-12T04:58:10.994Z"
   },
   {
    "duration": 2010,
    "start_time": "2024-12-12T04:58:11.026Z"
   },
   {
    "duration": 176,
    "start_time": "2024-12-12T04:58:13.038Z"
   },
   {
    "duration": 139,
    "start_time": "2024-12-12T04:58:13.224Z"
   },
   {
    "duration": 6,
    "start_time": "2024-12-12T04:58:13.365Z"
   },
   {
    "duration": 7,
    "start_time": "2024-12-12T04:58:13.373Z"
   },
   {
    "duration": 7,
    "start_time": "2024-12-12T04:58:13.382Z"
   },
   {
    "duration": 199,
    "start_time": "2024-12-12T04:58:13.392Z"
   },
   {
    "duration": 193,
    "start_time": "2024-12-12T04:58:13.593Z"
   },
   {
    "duration": 1099,
    "start_time": "2024-12-12T04:58:13.787Z"
   },
   {
    "duration": 254,
    "start_time": "2024-12-12T04:58:14.888Z"
   },
   {
    "duration": 156,
    "start_time": "2024-12-12T04:58:15.144Z"
   },
   {
    "duration": 868,
    "start_time": "2024-12-12T04:58:15.302Z"
   },
   {
    "duration": 310,
    "start_time": "2024-12-12T04:58:16.171Z"
   },
   {
    "duration": 256,
    "start_time": "2024-12-12T04:58:16.483Z"
   },
   {
    "duration": 26,
    "start_time": "2024-12-12T04:58:16.740Z"
   },
   {
    "duration": 1794,
    "start_time": "2024-12-12T04:58:16.768Z"
   },
   {
    "duration": 1028,
    "start_time": "2024-12-12T04:58:18.564Z"
   },
   {
    "duration": 760,
    "start_time": "2024-12-12T04:58:19.594Z"
   },
   {
    "duration": 71,
    "start_time": "2024-12-12T04:58:20.355Z"
   }
  ],
  "kernelspec": {
   "display_name": "Python 3 (ipykernel)",
   "language": "python",
   "name": "python3"
  },
  "language_info": {
   "codemirror_mode": {
    "name": "ipython",
    "version": 3
   },
   "file_extension": ".py",
   "mimetype": "text/x-python",
   "name": "python",
   "nbconvert_exporter": "python",
   "pygments_lexer": "ipython3",
   "version": "3.9.19"
  },
  "toc": {
   "base_numbering": 1,
   "nav_menu": {},
   "number_sections": true,
   "sideBar": true,
   "skip_h1_title": true,
   "title_cell": "Table of Contents",
   "title_sidebar": "Contents",
   "toc_cell": false,
   "toc_position": {},
   "toc_section_display": true,
   "toc_window_display": false
  },
  "vscode": {
   "interpreter": {
    "hash": "01a7be9ec63e704a62cefc5fe7a4756944464ee731be31632bdf42a4cb4688cf"
   }
  }
 },
 "nbformat": 4,
 "nbformat_minor": 5
}
