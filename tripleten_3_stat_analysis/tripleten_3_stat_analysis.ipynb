{
 "cells": [
  {
   "cell_type": "markdown",
   "metadata": {},
   "source": [
    "<div style=\"border:solid green 2px; padding: 20px\"> <h1 style=\"color:green; margin-bottom:20px\">Reviewer's comment v1</h1>\n",
    "\n",
    "Hello Elizabeth!\n",
    "\n",
    "I'm happy to review your project today.  🙌\n",
    "\n",
    "You can find my comments under the heading **«Review»**. I will categorize my comments in green, blue or red boxes like this:\n",
    "\n",
    "<div class=\"alert alert-success\">\n",
    "    <b>Success:</b> if everything is done successfully\n",
    "</div>\n",
    "<div class=\"alert alert-warning\">\n",
    "    <b>Remarks:</b> if I can give some recommendations or ways to improve the project\n",
    "</div>\n",
    "<div class=\"alert alert-danger\">\n",
    "    <b>Needs fixing:</b> if the block requires some corrections. Work can't be accepted with the red comments\n",
    "</div>\n",
    "\n",
    "Please don't remove my comments :) If you have any questions don't hesitate to respond to my comments in a different section. \n",
    "<div class=\"alert alert-info\"> <b>Student comments: </div>    \n"
   ]
  },
  {
   "cell_type": "markdown",
   "metadata": {},
   "source": [
    "<div style=\"border:solid green 2px; padding: 20px\">\n",
    "<b>Reviewer's comment v1</b>\n",
    "    \n",
    "<b>Overall Feedback</b> \n",
    "    \n",
    "    \n",
    "Hello Elizabeth,\n",
    "\n",
    "You’ve submitted another project—great work! Your commitment to pushing through the challenges of this program is admirable.\n",
    "\n",
    "After reviewing your submission, I’ve returned it with some feedback to help you make the necessary improvements. \n",
    "    \n",
    "You’ll find specific feedback in the notebook in the ‘Comments’ (`Reviewer's comment v1`) sections.\n",
    "    \n",
    "**What Was Great:**\n",
    "\n",
    "- You demonstrated a thorough approach to data loading, preparation, and cleaning, ensuring the data was in optimal shape for analysis.\n",
    "    \n",
    "**Areas to Improve:**\n",
    "\n",
    "- Add data rounding for calls and internet data. \n",
    "   \n",
    "Keep in mind that revisions are a normal and valuable part of the learning process. Use this feedback to refine your work and resubmit when you’re ready. I know you’re capable of great things, and I’m here to support you every step of the way. Keep going—you’re doing a great job! 🏄\n",
    "    \n",
    "And of course, if you have any questions along the way, remember that you can always reach out to your tutor for clarification.\n",
    "</div>"
   ]
  },
  {
   "cell_type": "markdown",
   "metadata": {},
   "source": [
    "<div style=\"border:solid green 2px; padding: 20px\">\n",
    "<b>Reviewer's comment v2:</b>\n",
    "    \n",
    "<b>Overall Feedback</b> \n",
    "    \n",
    "I appreciate the effort you have put into revising your project.  There are no issues left, so your project has been accepted. I wish you engaging projects in the upcoming sprints! ☘️\n",
    "    \n",
    "PS: As a final note, I can recommend cool lectures on stat analysis here: https://www.youtube.com/playlist?list=PL2SOU6wwxB0uwwH80KTQ6ht66KWxbzTIo  \n",
    "    \n",
    "Another great self-paced course that covers basic concepts in probability and statistics - Probability and Statistics by Stanford Online or you could check this one [An Introduction to Statistical Learning with Applications in R](https://www.r-bloggers.com/2014/09/in-depth-introduction-to-machine-learning-in-15-hours-of-expert-videos/) 🙌\n",
    "\n",
    "</div>"
   ]
  },
  {
   "cell_type": "markdown",
   "metadata": {},
   "source": [
    "# Which one is a better plan?\n",
    "\n",
    "You work as an analyst for the telecom operator Megaline. The company offers its clients two prepaid plans, Surf and Ultimate. The commercial department wants to know which of the plans brings in more revenue in order to adjust the advertising budget.\n",
    "\n",
    "You are going to carry out a preliminary analysis of the plans based on a relatively small client selection. You'll have the data on 500 Megaline clients: who the clients are, where they're from, which plan they use, and the number of calls they made and text messages they sent in 2018. Your job is to analyze the clients' behavior and determine which prepaid plan brings in more revenue."
   ]
  },
  {
   "cell_type": "markdown",
   "metadata": {},
   "source": [
    "\n",
    "The purpose of this project is to analyze how clients utilize Megaline on each plan, and which adds more value to the company.  We are going to do this by first bringing the sample of data into the library.  We will review it and clean it up to ensure that it is in the best shape for analysis.  Then we will use this data to analyze the customers' patterns including text, minutes and data volume and determine their mean and distributions.  Then we will test the hypotheses that the revenue of the Surf and Ultimate plans are different and that location, specificially NY/NJ area, differs from other regions.  With this analysis we can determine which plan offers the greater opportunity for higher revenue for Megaline."
   ]
  },
  {
   "cell_type": "markdown",
   "metadata": {},
   "source": [
    "<div class=\"alert alert-block alert-success\">\n",
    "<b>Reviewer's comment v1</b>\n",
    " \n",
    "Great job keeping the additional information about the project goal! Additionally, you could add a short description of the tasks you plan to perform and the available data. This information could be helpful for the notebook reader.\n",
    "\n"
   ]
  },
  {
   "cell_type": "markdown",
   "metadata": {},
   "source": [
    "## Initialization"
   ]
  },
  {
   "cell_type": "markdown",
   "metadata": {},
   "source": [
    "First we will load all the libraries that we will use throughout our analysis, so we don't have to do it later on."
   ]
  },
  {
   "cell_type": "code",
   "execution_count": 1,
   "metadata": {
    "trusted": true
   },
   "outputs": [],
   "source": [
    "# Loading all the libraries\n",
    "import pandas as pd\n",
    "import numpy as np\n",
    "import matplotlib.pyplot as plt\n",
    "\n",
    "from scipy import stats as st"
   ]
  },
  {
   "cell_type": "markdown",
   "metadata": {},
   "source": [
    "## Load data"
   ]
  },
  {
   "cell_type": "raw",
   "metadata": {},
   "source": [
    "Here we will load all the data files into different dataframes so we have access to all of our data."
   ]
  },
  {
   "cell_type": "code",
   "execution_count": 2,
   "metadata": {
    "trusted": true
   },
   "outputs": [],
   "source": [
    "# Load the data files into different DataFrames\n",
    "calls_df = pd.read_csv('/datasets/megaline_calls.csv')\n",
    "internet_df = pd.read_csv('/datasets/megaline_internet.csv')\n",
    "messages_df = pd.read_csv('/datasets/megaline_messages.csv')\n",
    "plans_df = pd.read_csv('/datasets/megaline_plans.csv')\n",
    "users_df = pd.read_csv('/datasets/megaline_users.csv')\n"
   ]
  },
  {
   "cell_type": "markdown",
   "metadata": {},
   "source": [
    "## Prepare the data"
   ]
  },
  {
   "cell_type": "markdown",
   "metadata": {},
   "source": [
    "In the following sections we will review the data in each library, fix any obvious issues, and update to aid in our analysis"
   ]
  },
  {
   "cell_type": "markdown",
   "metadata": {},
   "source": [
    "## Plans"
   ]
  },
  {
   "cell_type": "code",
   "execution_count": 3,
   "metadata": {
    "trusted": true
   },
   "outputs": [
    {
     "name": "stdout",
     "output_type": "stream",
     "text": [
      "<class 'pandas.core.frame.DataFrame'>\n",
      "RangeIndex: 2 entries, 0 to 1\n",
      "Data columns (total 8 columns):\n",
      " #   Column                 Non-Null Count  Dtype  \n",
      "---  ------                 --------------  -----  \n",
      " 0   messages_included      2 non-null      int64  \n",
      " 1   mb_per_month_included  2 non-null      int64  \n",
      " 2   minutes_included       2 non-null      int64  \n",
      " 3   usd_monthly_pay        2 non-null      int64  \n",
      " 4   usd_per_gb             2 non-null      int64  \n",
      " 5   usd_per_message        2 non-null      float64\n",
      " 6   usd_per_minute         2 non-null      float64\n",
      " 7   plan_name              2 non-null      object \n",
      "dtypes: float64(2), int64(5), object(1)\n",
      "memory usage: 256.0+ bytes\n"
     ]
    }
   ],
   "source": [
    "# Print the general/summary information about the plans' DataFrame\n",
    "plans_df.info()\n"
   ]
  },
  {
   "cell_type": "code",
   "execution_count": 4,
   "metadata": {
    "trusted": true
   },
   "outputs": [
    {
     "name": "stdout",
     "output_type": "stream",
     "text": [
      "   messages_included  mb_per_month_included  minutes_included  \\\n",
      "1               1000                  30720              3000   \n",
      "0                 50                  15360               500   \n",
      "\n",
      "   usd_monthly_pay  usd_per_gb  usd_per_message  usd_per_minute plan_name  \n",
      "1               70           7             0.01            0.01  ultimate  \n",
      "0               20          10             0.03            0.03      surf  \n"
     ]
    }
   ],
   "source": [
    "# Print a sample of data for plans\n",
    "print(plans_df.sample(2))\n"
   ]
  },
  {
   "cell_type": "markdown",
   "metadata": {},
   "source": [
    "\n",
    "In the plans data set there are only 2 rows, which makes sense as there are only 2 plans that we are comparing. There doesn't seem to be any issues in this dataframe.  All of the data types make sense and there are no missing values."
   ]
  },
  {
   "cell_type": "markdown",
   "metadata": {},
   "source": [
    " "
   ]
  },
  {
   "cell_type": "markdown",
   "metadata": {},
   "source": [
    "## Fix data"
   ]
  },
  {
   "cell_type": "markdown",
   "metadata": {},
   "source": [
    "\n",
    "There are no obvious issues to fix with this data set"
   ]
  },
  {
   "cell_type": "code",
   "execution_count": null,
   "metadata": {
    "trusted": true
   },
   "outputs": [],
   "source": []
  },
  {
   "cell_type": "markdown",
   "metadata": {},
   "source": [
    "## Enrich data"
   ]
  },
  {
   "cell_type": "markdown",
   "metadata": {},
   "source": [
    "\n",
    "Nothing that needs to be added to this data set at this time"
   ]
  },
  {
   "cell_type": "code",
   "execution_count": null,
   "metadata": {
    "trusted": true
   },
   "outputs": [],
   "source": []
  },
  {
   "cell_type": "markdown",
   "metadata": {},
   "source": [
    "## Users"
   ]
  },
  {
   "cell_type": "code",
   "execution_count": 5,
   "metadata": {
    "trusted": true
   },
   "outputs": [
    {
     "name": "stdout",
     "output_type": "stream",
     "text": [
      "<class 'pandas.core.frame.DataFrame'>\n",
      "RangeIndex: 500 entries, 0 to 499\n",
      "Data columns (total 8 columns):\n",
      " #   Column      Non-Null Count  Dtype \n",
      "---  ------      --------------  ----- \n",
      " 0   user_id     500 non-null    int64 \n",
      " 1   first_name  500 non-null    object\n",
      " 2   last_name   500 non-null    object\n",
      " 3   age         500 non-null    int64 \n",
      " 4   city        500 non-null    object\n",
      " 5   reg_date    500 non-null    object\n",
      " 6   plan        500 non-null    object\n",
      " 7   churn_date  34 non-null     object\n",
      "dtypes: int64(2), object(6)\n",
      "memory usage: 31.4+ KB\n"
     ]
    }
   ],
   "source": [
    "# Print the general/summary information about the users' DataFrame\n",
    "\n",
    "users_df.info()"
   ]
  },
  {
   "cell_type": "code",
   "execution_count": 6,
   "metadata": {
    "trusted": true
   },
   "outputs": [
    {
     "name": "stdout",
     "output_type": "stream",
     "text": [
      "     user_id first_name last_name  age  \\\n",
      "54      1054      Denis     Frost   50   \n",
      "85      1085    Ignacio   Bennett   48   \n",
      "403     1403        Jae   Gardner   27   \n",
      "418     1418        Hal    Barnes   40   \n",
      "293     1293      Lanny     Nolan   23   \n",
      "\n",
      "                                                 city    reg_date      plan  \\\n",
      "54                      Phoenix-Mesa-Chandler, AZ MSA  2018-04-21      surf   \n",
      "85              Atlanta-Sandy Springs-Roswell, GA MSA  2018-07-19  ultimate   \n",
      "403  Washington-Arlington-Alexandria, DC-VA-MD-WV MSA  2018-02-06  ultimate   \n",
      "418         New York-Newark-Jersey City, NY-NJ-PA MSA  2018-01-19      surf   \n",
      "293   Philadelphia-Camden-Wilmington, PA-NJ-DE-MD MSA  2018-08-13      surf   \n",
      "\n",
      "     churn_date  \n",
      "54   2018-12-31  \n",
      "85          NaN  \n",
      "403         NaN  \n",
      "418         NaN  \n",
      "293         NaN  \n"
     ]
    }
   ],
   "source": [
    "# Print a sample of data for users\n",
    "\n",
    "print(users_df.sample(5))"
   ]
  },
  {
   "cell_type": "markdown",
   "metadata": {},
   "source": [
    "In this data set we can likely change the registration date and termination dates into datetime data types so that we can extract by month, day or year later in our analysis.  Also there are a great deal of missing values for termination dates.  This indicates that these users were still in use when the data was collected. We definetly don't want to lose their data. So we will likely want to fill these values with 'current user' or 'not terminated' and keep the data type as object"
   ]
  },
  {
   "cell_type": "markdown",
   "metadata": {},
   "source": [
    " "
   ]
  },
  {
   "cell_type": "markdown",
   "metadata": {},
   "source": [
    "### Fix Data"
   ]
  },
  {
   "cell_type": "markdown",
   "metadata": {},
   "source": [
    "  First we will change the data type of the registration date column into datetime.  Then we will replace the missing values in churn_date with 'current user'. "
   ]
  },
  {
   "cell_type": "code",
   "execution_count": 7,
   "metadata": {
    "trusted": true
   },
   "outputs": [
    {
     "name": "stdout",
     "output_type": "stream",
     "text": [
      "datetime64[ns]\n"
     ]
    }
   ],
   "source": [
    "users_df['reg_date']= pd.to_datetime(users_df['reg_date'], format= '%Y-%m-%d')\n",
    "print(users_df['reg_date'].dtype) #confirms we changed the datatype"
   ]
  },
  {
   "cell_type": "code",
   "execution_count": 8,
   "metadata": {
    "trusted": true
   },
   "outputs": [
    {
     "name": "stdout",
     "output_type": "stream",
     "text": [
      "<class 'pandas.core.frame.DataFrame'>\n",
      "RangeIndex: 500 entries, 0 to 499\n",
      "Data columns (total 8 columns):\n",
      " #   Column      Non-Null Count  Dtype         \n",
      "---  ------      --------------  -----         \n",
      " 0   user_id     500 non-null    int64         \n",
      " 1   first_name  500 non-null    object        \n",
      " 2   last_name   500 non-null    object        \n",
      " 3   age         500 non-null    int64         \n",
      " 4   city        500 non-null    object        \n",
      " 5   reg_date    500 non-null    datetime64[ns]\n",
      " 6   plan        500 non-null    object        \n",
      " 7   churn_date  500 non-null    object        \n",
      "dtypes: datetime64[ns](1), int64(2), object(5)\n",
      "memory usage: 31.4+ KB\n",
      "     user_id   first_name  last_name  age  \\\n",
      "128     1128       Lucius  Fernandez   41   \n",
      "442     1442      Terrell   Caldwell   66   \n",
      "142     1142  Charlesetta    Dillard   18   \n",
      "342     1342       Eugene     Patton   65   \n",
      "225     1225    Margarito     Barker   41   \n",
      "\n",
      "                                          city   reg_date      plan  \\\n",
      "128                          Knoxville, TN MSA 2018-01-25  ultimate   \n",
      "442  New York-Newark-Jersey City, NY-NJ-PA MSA 2018-05-25  ultimate   \n",
      "142               New Orleans-Metairie, LA MSA 2018-08-23      surf   \n",
      "342       Indianapolis-Carmel-Anderson, IN MSA 2018-10-21      surf   \n",
      "225                           Columbia, SC MSA 2018-06-07      surf   \n",
      "\n",
      "       churn_date  \n",
      "128  current user  \n",
      "442  current user  \n",
      "142  current user  \n",
      "342  current user  \n",
      "225  current user  \n"
     ]
    }
   ],
   "source": [
    "users_df['churn_date'] = users_df['churn_date'].fillna(value= 'current user')\n",
    "users_df.info()\n",
    "print(users_df.sample(5))"
   ]
  },
  {
   "cell_type": "markdown",
   "metadata": {},
   "source": [
    "### Enrich Data"
   ]
  },
  {
   "cell_type": "markdown",
   "metadata": {},
   "source": [
    "Later on we will need to know what cities are in NY and NJ to separate them out. If we do that now it will be easier to know what list we will need to separate these rows."
   ]
  },
  {
   "cell_type": "code",
   "execution_count": 9,
   "metadata": {
    "trusted": true
   },
   "outputs": [
    {
     "name": "stdout",
     "output_type": "stream",
     "text": [
      "['Atlanta-Sandy Springs-Roswell, GA MSA' 'Seattle-Tacoma-Bellevue, WA MSA'\n",
      " 'Las Vegas-Henderson-Paradise, NV MSA' 'Tulsa, OK MSA'\n",
      " 'Dallas-Fort Worth-Arlington, TX MSA'\n",
      " 'San Francisco-Oakland-Berkeley, CA MSA' 'Grand Rapids-Kentwood, MI MSA'\n",
      " 'Orlando-Kissimmee-Sanford, FL MSA'\n",
      " 'San Jose-Sunnyvale-Santa Clara, CA MSA' 'Cleveland-Elyria, OH MSA'\n",
      " 'Chicago-Naperville-Elgin, IL-IN-WI MSA' 'Knoxville, TN MSA'\n",
      " 'New York-Newark-Jersey City, NY-NJ-PA MSA' 'Pittsburgh, PA MSA'\n",
      " 'Fresno, CA MSA' 'Washington-Arlington-Alexandria, DC-VA-MD-WV MSA'\n",
      " 'Indianapolis-Carmel-Anderson, IN MSA' 'Jacksonville, FL MSA'\n",
      " 'Los Angeles-Long Beach-Anaheim, CA MSA'\n",
      " 'Omaha-Council Bluffs, NE-IA MSA'\n",
      " 'Houston-The Woodlands-Sugar Land, TX MSA'\n",
      " 'Philadelphia-Camden-Wilmington, PA-NJ-DE-MD MSA'\n",
      " 'Tampa-St. Petersburg-Clearwater, FL MSA' 'Birmingham-Hoover, AL MSA'\n",
      " 'Oklahoma City, OK MSA' 'Charlotte-Concord-Gastonia, NC-SC MSA'\n",
      " 'Denver-Aurora-Lakewood, CO MSA'\n",
      " 'Nashville-Davidson–Murfreesboro–Franklin, TN MSA' 'Columbus, OH MSA'\n",
      " 'Albuquerque, NM MSA' 'Boston-Cambridge-Newton, MA-NH MSA'\n",
      " 'Miami-Fort Lauderdale-West Palm Beach, FL MSA'\n",
      " 'San Diego-Chula Vista-Carlsbad, CA MSA' 'Phoenix-Mesa-Chandler, AZ MSA'\n",
      " 'Portland-Vancouver-Hillsboro, OR-WA MSA' 'Cincinnati, OH-KY-IN MSA'\n",
      " 'Columbia, SC MSA' 'San Antonio-New Braunfels, TX MSA'\n",
      " 'Buffalo-Cheektowaga, NY MSA' 'Memphis, TN-MS-AR MSA'\n",
      " 'Riverside-San Bernardino-Ontario, CA MSA'\n",
      " 'Louisville/Jefferson County, KY-IN MSA'\n",
      " 'Albany-Schenectady-Troy, NY MSA' 'Providence-Warwick, RI-MA MSA'\n",
      " 'Salt Lake City, UT MSA' 'Urban Honolulu, HI MSA' 'El Paso, TX MSA'\n",
      " 'New Haven-Milford, CT MSA' 'North Port-Sarasota-Bradenton, FL MSA'\n",
      " 'Baton Rouge, LA MSA' 'New Orleans-Metairie, LA MSA'\n",
      " 'Bridgeport-Stamford-Norwalk, CT MSA'\n",
      " 'Virginia Beach-Norfolk-Newport News, VA-NC MSA'\n",
      " 'Baltimore-Columbia-Towson, MD MSA' 'Milwaukee-Waukesha, WI MSA'\n",
      " 'Oxnard-Thousand Oaks-Ventura, CA MSA'\n",
      " 'Sacramento–Roseville–Folsom, CA MSA'\n",
      " 'Austin-Round Rock-Georgetown, TX MSA' 'Richmond, VA MSA'\n",
      " 'St. Louis, MO-IL MSA' 'Minneapolis-St. Paul-Bloomington, MN-WI MSA'\n",
      " 'Dayton-Kettering, OH MSA' 'Bakersfield, CA MSA'\n",
      " 'Detroit-Warren-Dearborn, MI MSA' 'Kansas City, MO-KS MSA'\n",
      " 'Charleston-North Charleston, SC MSA' 'Rochester, NY MSA'\n",
      " 'Raleigh-Cary, NC MSA' 'Colorado Springs, CO MSA'\n",
      " 'Greensboro-High Point, NC MSA' 'Tucson, AZ MSA' 'Stockton, CA MSA'\n",
      " 'Cape Coral-Fort Myers, FL MSA']\n"
     ]
    }
   ],
   "source": [
    "print(users_df['city'].unique())"
   ]
  },
  {
   "cell_type": "markdown",
   "metadata": {},
   "source": [
    "Based on this list we produced we can see that the cities in NY-NJ are New York-Newark-Jersey City"
   ]
  },
  {
   "cell_type": "markdown",
   "metadata": {},
   "source": [
    "## Calls"
   ]
  },
  {
   "cell_type": "code",
   "execution_count": 10,
   "metadata": {
    "trusted": true
   },
   "outputs": [
    {
     "name": "stdout",
     "output_type": "stream",
     "text": [
      "<class 'pandas.core.frame.DataFrame'>\n",
      "RangeIndex: 137735 entries, 0 to 137734\n",
      "Data columns (total 4 columns):\n",
      " #   Column     Non-Null Count   Dtype  \n",
      "---  ------     --------------   -----  \n",
      " 0   id         137735 non-null  object \n",
      " 1   user_id    137735 non-null  int64  \n",
      " 2   call_date  137735 non-null  object \n",
      " 3   duration   137735 non-null  float64\n",
      "dtypes: float64(1), int64(1), object(2)\n",
      "memory usage: 4.2+ MB\n"
     ]
    }
   ],
   "source": [
    "# Print the general/summary information about the calls' DataFrame\n",
    "\n",
    "calls_df.info()"
   ]
  },
  {
   "cell_type": "code",
   "execution_count": 11,
   "metadata": {
    "trusted": true
   },
   "outputs": [
    {
     "name": "stdout",
     "output_type": "stream",
     "text": [
      "              id  user_id   call_date  duration\n",
      "12568   1054_298     1054  2018-05-27      0.52\n",
      "32544   1122_382     1122  2018-06-15     12.05\n",
      "42316   1155_284     1155  2018-03-04     14.09\n",
      "81602   1293_867     1293  2018-09-15     10.28\n",
      "130439  1468_249     1468  2018-12-07      0.00\n"
     ]
    }
   ],
   "source": [
    "# Print a sample of data for calls\n",
    "\n",
    "print(calls_df.sample(5))"
   ]
  },
  {
   "cell_type": "markdown",
   "metadata": {},
   "source": [
    "we can change the data type of call_date from object to datetime. "
   ]
  },
  {
   "cell_type": "markdown",
   "metadata": {},
   "source": [
    " "
   ]
  },
  {
   "cell_type": "markdown",
   "metadata": {},
   "source": [
    "### Fix data"
   ]
  },
  {
   "cell_type": "markdown",
   "metadata": {},
   "source": []
  },
  {
   "cell_type": "code",
   "execution_count": 12,
   "metadata": {
    "trusted": true
   },
   "outputs": [
    {
     "name": "stdout",
     "output_type": "stream",
     "text": [
      "datetime64[ns]\n"
     ]
    }
   ],
   "source": [
    "calls_df['call_date']= pd.to_datetime(calls_df['call_date'], format= '%Y-%m-%d')\n",
    "print(calls_df['call_date'].dtype) #confirms we changed the datatype"
   ]
  },
  {
   "cell_type": "markdown",
   "metadata": {},
   "source": [
    "### Enrich data"
   ]
  },
  {
   "cell_type": "markdown",
   "metadata": {},
   "source": [
    "Here we will round up the call times to the nearest minute as Megaline rounds seconds up to minutes when charging at the end of the month. This will ensure our calculations are correct later on"
   ]
  },
  {
   "cell_type": "code",
   "execution_count": 13,
   "metadata": {
    "trusted": true
   },
   "outputs": [
    {
     "data": {
      "text/html": [
       "<div>\n",
       "<style scoped>\n",
       "    .dataframe tbody tr th:only-of-type {\n",
       "        vertical-align: middle;\n",
       "    }\n",
       "\n",
       "    .dataframe tbody tr th {\n",
       "        vertical-align: top;\n",
       "    }\n",
       "\n",
       "    .dataframe thead th {\n",
       "        text-align: right;\n",
       "    }\n",
       "</style>\n",
       "<table border=\"1\" class=\"dataframe\">\n",
       "  <thead>\n",
       "    <tr style=\"text-align: right;\">\n",
       "      <th></th>\n",
       "      <th>id</th>\n",
       "      <th>user_id</th>\n",
       "      <th>call_date</th>\n",
       "      <th>duration</th>\n",
       "    </tr>\n",
       "  </thead>\n",
       "  <tbody>\n",
       "    <tr>\n",
       "      <th>136830</th>\n",
       "      <td>1495_288</td>\n",
       "      <td>1495</td>\n",
       "      <td>2018-10-28</td>\n",
       "      <td>17.0</td>\n",
       "    </tr>\n",
       "    <tr>\n",
       "      <th>129991</th>\n",
       "      <td>1467_227</td>\n",
       "      <td>1467</td>\n",
       "      <td>2018-05-02</td>\n",
       "      <td>6.0</td>\n",
       "    </tr>\n",
       "    <tr>\n",
       "      <th>33873</th>\n",
       "      <td>1126_763</td>\n",
       "      <td>1126</td>\n",
       "      <td>2018-11-12</td>\n",
       "      <td>0.0</td>\n",
       "    </tr>\n",
       "    <tr>\n",
       "      <th>75651</th>\n",
       "      <td>1268_155</td>\n",
       "      <td>1268</td>\n",
       "      <td>2018-06-02</td>\n",
       "      <td>0.0</td>\n",
       "    </tr>\n",
       "    <tr>\n",
       "      <th>96626</th>\n",
       "      <td>1345_36</td>\n",
       "      <td>1345</td>\n",
       "      <td>2018-12-17</td>\n",
       "      <td>2.0</td>\n",
       "    </tr>\n",
       "  </tbody>\n",
       "</table>\n",
       "</div>"
      ],
      "text/plain": [
       "              id  user_id  call_date  duration\n",
       "136830  1495_288     1495 2018-10-28      17.0\n",
       "129991  1467_227     1467 2018-05-02       6.0\n",
       "33873   1126_763     1126 2018-11-12       0.0\n",
       "75651   1268_155     1268 2018-06-02       0.0\n",
       "96626    1345_36     1345 2018-12-17       2.0"
      ]
     },
     "execution_count": 13,
     "metadata": {},
     "output_type": "execute_result"
    }
   ],
   "source": [
    "calls_df['duration']= np.ceil(calls_df['duration'])\n",
    "calls_df.sample(5)"
   ]
  },
  {
   "cell_type": "markdown",
   "metadata": {},
   "source": [
    "<div class=\"alert alert-block alert-danger\">\n",
    "<b>Reviewer's comment v1</b>\n",
    "\n",
    "Please note that the telecom operator rounds up all minutes. \n",
    "\n",
    "`Note: Megaline rounds seconds up to minutes, and megabytes to gigabytes. For calls, each individual call is rounded up: even if the call lasted just one second, it will be counted as one minute. For web traffic, individual web sessions are not rounded up. Instead, the total for the month is rounded up. If someone uses 1025 megabytes this month, they will be charged for 2 gigabytes.`\n",
    "\n",
    "Can you please add data rounding for calls before the data aggregation."
   ]
  },
  {
   "cell_type": "markdown",
   "metadata": {},
   "source": [
    "<div class=\"alert alert-success\">\n",
    "<b>Reviewer's comment v2:</b>\n",
    "    \n",
    "Thank you for updating it.  "
   ]
  },
  {
   "cell_type": "markdown",
   "metadata": {},
   "source": [
    "As you can see above I enriched the data to reflect the data rounding.  I added a line of code when calculating the GB used per month to account for the round up there. "
   ]
  },
  {
   "cell_type": "markdown",
   "metadata": {},
   "source": [
    "## Messages"
   ]
  },
  {
   "cell_type": "code",
   "execution_count": 14,
   "metadata": {
    "trusted": true
   },
   "outputs": [
    {
     "name": "stdout",
     "output_type": "stream",
     "text": [
      "<class 'pandas.core.frame.DataFrame'>\n",
      "RangeIndex: 76051 entries, 0 to 76050\n",
      "Data columns (total 3 columns):\n",
      " #   Column        Non-Null Count  Dtype \n",
      "---  ------        --------------  ----- \n",
      " 0   id            76051 non-null  object\n",
      " 1   user_id       76051 non-null  int64 \n",
      " 2   message_date  76051 non-null  object\n",
      "dtypes: int64(1), object(2)\n",
      "memory usage: 1.7+ MB\n"
     ]
    }
   ],
   "source": [
    "# Print the general/summary information about the messages' DataFrame\n",
    "\n",
    "messages_df.info()"
   ]
  },
  {
   "cell_type": "code",
   "execution_count": 15,
   "metadata": {
    "trusted": true
   },
   "outputs": [
    {
     "name": "stdout",
     "output_type": "stream",
     "text": [
      "             id  user_id message_date\n",
      "2726   1028_653     1028   2018-04-16\n",
      "11160  1077_431     1077   2018-08-09\n",
      "22824   1137_59     1137   2018-12-31\n",
      "55131  1347_168     1347   2018-08-07\n",
      "18119  1119_819     1119   2018-11-08\n"
     ]
    }
   ],
   "source": [
    "# Print a sample of data for messages\n",
    "\n",
    "print(messages_df.sample(5))"
   ]
  },
  {
   "cell_type": "markdown",
   "metadata": {},
   "source": [
    "\n",
    "There are no missing values. We can change the data type of message_date to datetime"
   ]
  },
  {
   "cell_type": "markdown",
   "metadata": {},
   "source": [
    " "
   ]
  },
  {
   "cell_type": "markdown",
   "metadata": {},
   "source": [
    "### Fix data"
   ]
  },
  {
   "cell_type": "markdown",
   "metadata": {},
   "source": []
  },
  {
   "cell_type": "code",
   "execution_count": 16,
   "metadata": {
    "trusted": true
   },
   "outputs": [
    {
     "name": "stdout",
     "output_type": "stream",
     "text": [
      "datetime64[ns]\n"
     ]
    }
   ],
   "source": [
    "messages_df['message_date']= pd.to_datetime(messages_df['message_date'], format= '%Y-%m-%d')\n",
    "print(messages_df['message_date'].dtype) #confirms we changed the datatype"
   ]
  },
  {
   "cell_type": "markdown",
   "metadata": {},
   "source": [
    "### Enrich data"
   ]
  },
  {
   "cell_type": "markdown",
   "metadata": {},
   "source": []
  },
  {
   "cell_type": "code",
   "execution_count": null,
   "metadata": {
    "trusted": true
   },
   "outputs": [],
   "source": []
  },
  {
   "cell_type": "markdown",
   "metadata": {},
   "source": [
    "## Internet"
   ]
  },
  {
   "cell_type": "code",
   "execution_count": 17,
   "metadata": {
    "trusted": true
   },
   "outputs": [
    {
     "name": "stdout",
     "output_type": "stream",
     "text": [
      "<class 'pandas.core.frame.DataFrame'>\n",
      "RangeIndex: 104825 entries, 0 to 104824\n",
      "Data columns (total 4 columns):\n",
      " #   Column        Non-Null Count   Dtype  \n",
      "---  ------        --------------   -----  \n",
      " 0   id            104825 non-null  object \n",
      " 1   user_id       104825 non-null  int64  \n",
      " 2   session_date  104825 non-null  object \n",
      " 3   mb_used       104825 non-null  float64\n",
      "dtypes: float64(1), int64(1), object(2)\n",
      "memory usage: 3.2+ MB\n"
     ]
    }
   ],
   "source": [
    "# Print the general/summary information about the internet DataFrame\n",
    "\n",
    "internet_df.info()"
   ]
  },
  {
   "cell_type": "code",
   "execution_count": 18,
   "metadata": {
    "trusted": true
   },
   "outputs": [
    {
     "name": "stdout",
     "output_type": "stream",
     "text": [
      "             id  user_id session_date  mb_used\n",
      "47922  1214_296     1214   2018-07-30     0.00\n",
      "13397  1062_367     1062   2018-10-02   267.13\n",
      "74500   1350_74     1350   2018-12-13   618.82\n",
      "5424    1030_23     1030   2018-11-21   282.35\n",
      "14187   1066_76     1066   2018-10-10   678.50\n"
     ]
    }
   ],
   "source": [
    "# Print a sample of data for the internet traffic\n",
    "\n",
    "print(internet_df.sample(5))"
   ]
  },
  {
   "cell_type": "markdown",
   "metadata": {},
   "source": [
    "The session_date data type can be changed from object to datetime.  Additionally, it may benefit us to change mb_used to gb_used as this is how the overcharged is billed."
   ]
  },
  {
   "cell_type": "markdown",
   "metadata": {},
   "source": [
    " "
   ]
  },
  {
   "cell_type": "markdown",
   "metadata": {},
   "source": [
    "### Fix data"
   ]
  },
  {
   "cell_type": "markdown",
   "metadata": {},
   "source": [
    "Fixed session_date data type to datetime."
   ]
  },
  {
   "cell_type": "code",
   "execution_count": 19,
   "metadata": {
    "trusted": true
   },
   "outputs": [
    {
     "name": "stdout",
     "output_type": "stream",
     "text": [
      "datetime64[ns]\n"
     ]
    }
   ],
   "source": [
    "internet_df['session_date']= pd.to_datetime(internet_df['session_date'], format= '%Y-%m-%d')\n",
    "print(internet_df['session_date'].dtype) #confirms we changed the datatype"
   ]
  },
  {
   "cell_type": "markdown",
   "metadata": {},
   "source": [
    "### Enrich data"
   ]
  },
  {
   "cell_type": "markdown",
   "metadata": {},
   "source": [
    "here we convert mb to gb"
   ]
  },
  {
   "cell_type": "code",
   "execution_count": 20,
   "metadata": {
    "trusted": true
   },
   "outputs": [
    {
     "data": {
      "text/html": [
       "<div>\n",
       "<style scoped>\n",
       "    .dataframe tbody tr th:only-of-type {\n",
       "        vertical-align: middle;\n",
       "    }\n",
       "\n",
       "    .dataframe tbody tr th {\n",
       "        vertical-align: top;\n",
       "    }\n",
       "\n",
       "    .dataframe thead th {\n",
       "        text-align: right;\n",
       "    }\n",
       "</style>\n",
       "<table border=\"1\" class=\"dataframe\">\n",
       "  <thead>\n",
       "    <tr style=\"text-align: right;\">\n",
       "      <th></th>\n",
       "      <th>id</th>\n",
       "      <th>user_id</th>\n",
       "      <th>session_date</th>\n",
       "      <th>gb_used</th>\n",
       "    </tr>\n",
       "  </thead>\n",
       "  <tbody>\n",
       "    <tr>\n",
       "      <th>3413</th>\n",
       "      <td>1019_38</td>\n",
       "      <td>1019</td>\n",
       "      <td>2018-12-21</td>\n",
       "      <td>0.165479</td>\n",
       "    </tr>\n",
       "    <tr>\n",
       "      <th>57551</th>\n",
       "      <td>1260_241</td>\n",
       "      <td>1260</td>\n",
       "      <td>2018-12-03</td>\n",
       "      <td>0.534707</td>\n",
       "    </tr>\n",
       "    <tr>\n",
       "      <th>53021</th>\n",
       "      <td>1239_130</td>\n",
       "      <td>1239</td>\n",
       "      <td>2018-11-29</td>\n",
       "      <td>0.097656</td>\n",
       "    </tr>\n",
       "    <tr>\n",
       "      <th>69409</th>\n",
       "      <td>1324_125</td>\n",
       "      <td>1324</td>\n",
       "      <td>2018-04-24</td>\n",
       "      <td>0.368906</td>\n",
       "    </tr>\n",
       "    <tr>\n",
       "      <th>85630</th>\n",
       "      <td>1399_241</td>\n",
       "      <td>1399</td>\n",
       "      <td>2018-12-09</td>\n",
       "      <td>0.308154</td>\n",
       "    </tr>\n",
       "  </tbody>\n",
       "</table>\n",
       "</div>"
      ],
      "text/plain": [
       "             id  user_id session_date   gb_used\n",
       "3413    1019_38     1019   2018-12-21  0.165479\n",
       "57551  1260_241     1260   2018-12-03  0.534707\n",
       "53021  1239_130     1239   2018-11-29  0.097656\n",
       "69409  1324_125     1324   2018-04-24  0.368906\n",
       "85630  1399_241     1399   2018-12-09  0.308154"
      ]
     },
     "execution_count": 20,
     "metadata": {},
     "output_type": "execute_result"
    }
   ],
   "source": [
    "internet_df['gb_used']= internet_df['mb_used']/1024\n",
    "internet_df.drop(columns= ['mb_used'], inplace=True)\n",
    "internet_df.sample(5)"
   ]
  },
  {
   "cell_type": "markdown",
   "metadata": {},
   "source": [
    "Now we have a gigabyte used column instead of megabytes. This will make it easier to do calculations later."
   ]
  },
  {
   "cell_type": "markdown",
   "metadata": {},
   "source": [
    "## Study plan conditions"
   ]
  },
  {
   "cell_type": "markdown",
   "metadata": {},
   "source": []
  },
  {
   "cell_type": "code",
   "execution_count": 21,
   "metadata": {
    "trusted": true
   },
   "outputs": [
    {
     "name": "stdout",
     "output_type": "stream",
     "text": [
      "<class 'pandas.core.frame.DataFrame'>\n",
      "RangeIndex: 2 entries, 0 to 1\n",
      "Data columns (total 8 columns):\n",
      " #   Column                 Non-Null Count  Dtype  \n",
      "---  ------                 --------------  -----  \n",
      " 0   messages_included      2 non-null      int64  \n",
      " 1   mb_per_month_included  2 non-null      int64  \n",
      " 2   minutes_included       2 non-null      int64  \n",
      " 3   usd_monthly_pay        2 non-null      int64  \n",
      " 4   usd_per_gb             2 non-null      int64  \n",
      " 5   usd_per_message        2 non-null      float64\n",
      " 6   usd_per_minute         2 non-null      float64\n",
      " 7   plan_name              2 non-null      object \n",
      "dtypes: float64(2), int64(5), object(1)\n",
      "memory usage: 256.0+ bytes\n"
     ]
    }
   ],
   "source": [
    "# Print out the plan conditions and make sure they are clear for you\n",
    "\n",
    "plans_df.info()"
   ]
  },
  {
   "cell_type": "markdown",
   "metadata": {},
   "source": [
    "Columns Explained:\n",
    "\n",
    "1- plan_name — calling plan name (either surf or ultimate)\n",
    "\n",
    "2- usd_monthly_fee — monthly charge in US dollars\n",
    "\n",
    "3- minutes_included — monthly minute allowance\n",
    "\n",
    "4- messages_included — monthly text allowance\n",
    "\n",
    "5- mb_per_month_included — data volume allowance (in megabytes)\n",
    "\n",
    "6- usd_per_minute — price per minute after exceeding the package limits (e.g., if the package includes 100 minutes, the 101st minute will be charged)\n",
    "\n",
    "7- usd_per_message — price per text after exceeding the package limits\n",
    "\n",
    "8- usd_per_gb — price per extra gigabyte of data after exceeding the package limits (1 GB = 1024 megabytes)"
   ]
  },
  {
   "cell_type": "markdown",
   "metadata": {},
   "source": [
    "<div class=\"alert alert-success\">\n",
    "<b>Reviewer's comment v1:</b>\n",
    "    \n",
    "Everything is correct here. "
   ]
  },
  {
   "cell_type": "markdown",
   "metadata": {},
   "source": [
    "## Aggregate data per user\n",
    "\n",
    "In the next few steps, we are going to calculate the monthly number of calls, total duration, number of messages, and total volume of internet traffic for each user per month."
   ]
  },
  {
   "cell_type": "code",
   "execution_count": 22,
   "metadata": {
    "trusted": true
   },
   "outputs": [
    {
     "name": "stdout",
     "output_type": "stream",
     "text": [
      "      user_id  month  calls_per_month\n",
      "0        1000     12               16\n",
      "1        1001      8               27\n",
      "2        1001      9               49\n",
      "3        1001     10               65\n",
      "4        1001     11               64\n",
      "...       ...    ...              ...\n",
      "2253     1498     12               39\n",
      "2254     1499      9               41\n",
      "2255     1499     10               53\n",
      "2256     1499     11               45\n",
      "2257     1499     12               65\n",
      "\n",
      "[2258 rows x 3 columns]\n"
     ]
    }
   ],
   "source": [
    "# Calculate the number of calls made by each user per month. Save the result.\n",
    "\n",
    "calls_df['month'] = calls_df['call_date'].dt.month #extract year and month to create a new column\n",
    "calls_per_month = calls_df.groupby(['user_id','month']).size().reset_index() #groupby user_id and year_month and count the number of calls\n",
    "calls_per_month.rename(columns = {0 :'calls_per_month'}, inplace= True)\n",
    "print(calls_per_month)"
   ]
  },
  {
   "cell_type": "code",
   "execution_count": 23,
   "metadata": {
    "trusted": true
   },
   "outputs": [
    {
     "name": "stdout",
     "output_type": "stream",
     "text": [
      "      user_id  month  minutes_per_month\n",
      "0        1000     12              124.0\n",
      "1        1001      8              182.0\n",
      "2        1001      9              315.0\n",
      "3        1001     10              393.0\n",
      "4        1001     11              426.0\n",
      "...       ...    ...                ...\n",
      "2253     1498     12              339.0\n",
      "2254     1499      9              346.0\n",
      "2255     1499     10              385.0\n",
      "2256     1499     11              308.0\n",
      "2257     1499     12              496.0\n",
      "\n",
      "[2258 rows x 3 columns]\n"
     ]
    }
   ],
   "source": [
    "# Calculate the amount of minutes spent by each user per month. Save the result.\n",
    "\n",
    "calls_df['month'] = calls_df['call_date'].dt.month #extract year and month to create a new column\n",
    "minutes_per_month = calls_df.groupby(['user_id', 'month'])['duration'].sum().reset_index()#groupby user_id and year_month and sum the duration\n",
    "minutes_per_month.rename(columns = {'duration' :'minutes_per_month'}, inplace= True)\n",
    "print(minutes_per_month)"
   ]
  },
  {
   "cell_type": "markdown",
   "metadata": {},
   "source": [
    "<div class=\"alert alert-warning\" role=\"alert\">\n",
    "<b>Reviewer's comment v1:</b>\n",
    "    \n",
    "In pivot_table or groupby it is possible to pass multiple arguments, so here, you can create an aggregated table in one go like this:\n",
    "\n",
    "\n",
    "```\n",
    "# Group by and aggregate\n",
    "result = calls_df.groupby(['user_id', 'month']).agg({'duration': ['count', 'sum']}).reset_index()\n",
    "\n",
    "# Flatten the MultiIndex in columns\n",
    "result.columns = ['_'.join(col).strip() if type(col) is tuple else col for col in result.columns.values]\n",
    "result\n",
    "```"
   ]
  },
  {
   "cell_type": "code",
   "execution_count": 24,
   "metadata": {
    "trusted": true
   },
   "outputs": [
    {
     "name": "stdout",
     "output_type": "stream",
     "text": [
      "      user_id  month  messages_per_month\n",
      "0        1000     12                  11\n",
      "1        1001      8                  30\n",
      "2        1001      9                  44\n",
      "3        1001     10                  53\n",
      "4        1001     11                  36\n",
      "...       ...    ...                 ...\n",
      "1801     1496      9                  21\n",
      "1802     1496     10                  18\n",
      "1803     1496     11                  13\n",
      "1804     1496     12                  11\n",
      "1805     1497     12                  50\n",
      "\n",
      "[1806 rows x 3 columns]\n"
     ]
    }
   ],
   "source": [
    "# Calculate the number of messages sent by each user per month. Save the result.\n",
    "\n",
    "messages_df['month'] = messages_df['message_date'].dt.month #extract year and month to create a new column\n",
    "messages_per_month = messages_df.groupby(['user_id','month']).size().reset_index()#groupby user_id and year_month and count the number of messages\n",
    "messages_per_month.rename(columns = {0 :'messages_per_month'}, inplace= True)\n",
    "print(messages_per_month)"
   ]
  },
  {
   "cell_type": "markdown",
   "metadata": {},
   "source": [
    "<div class=\"alert alert-block alert-warning\">\n",
    "<b>Reviewer's comment v1</b>\n",
    " \n",
    "Everything is correct here, but it is always helpful to double-check whether we indeed have data within one year/time period. If not, then selecting and aggregating data by the month number will cause an issue. It is safer to use datetime64[M], which provides a complete date.\n",
    "\n",
    "Additionally, you could achieve the same using the following code: \n",
    "    \n",
    "```    \n",
    "calls['call_date'].dt.to_period('M')\n",
    "```"
   ]
  },
  {
   "cell_type": "code",
   "execution_count": 25,
   "metadata": {
    "trusted": true
   },
   "outputs": [
    {
     "name": "stdout",
     "output_type": "stream",
     "text": [
      "      user_id  month  gb_used_per_month\n",
      "0        1000     12                2.0\n",
      "1        1001      8                7.0\n",
      "2        1001      9               14.0\n",
      "3        1001     10               22.0\n",
      "4        1001     11               19.0\n",
      "...       ...    ...                ...\n",
      "2272     1498     12               23.0\n",
      "2273     1499      9               13.0\n",
      "2274     1499     10               20.0\n",
      "2275     1499     11               17.0\n",
      "2276     1499     12               22.0\n",
      "\n",
      "[2277 rows x 3 columns]\n"
     ]
    }
   ],
   "source": [
    "# Calculate the volume of internet traffic used by each user per month. Save the result.\n",
    "\n",
    "internet_df['month'] = internet_df['session_date'].dt.month #extract year and month to create a new column\n",
    "volume_internet_traffic_per_month = internet_df.groupby(['user_id','month'])['gb_used'].sum().reset_index() #groupby user_id and year_month and sum the volume used\n",
    "volume_internet_traffic_per_month.rename(columns = {'gb_used' :'gb_used_per_month'}, inplace= True)\n",
    "volume_internet_traffic_per_month['gb_used_per_month'] = np.ceil(volume_internet_traffic_per_month['gb_used_per_month']) #round monthly GB up per Megaline's billing policies\n",
    "print(volume_internet_traffic_per_month)"
   ]
  },
  {
   "cell_type": "markdown",
   "metadata": {},
   "source": [
    "<div class=\"alert alert-success\">\n",
    "<b>Reviewer's comment v1:</b>\n",
    "    \n",
    "Everything is correct now. Indeed, we need to use an `outer` join here."
   ]
  },
  {
   "cell_type": "markdown",
   "metadata": {},
   "source": [
    "Next, we put the aggregate data together into one DataFrame so that one record in it would represent what an unique user consumed in a given month."
   ]
  },
  {
   "cell_type": "code",
   "execution_count": 26,
   "metadata": {
    "trusted": true
   },
   "outputs": [
    {
     "name": "stdout",
     "output_type": "stream",
     "text": [
      "<class 'pandas.core.frame.DataFrame'>\n",
      "Int64Index: 2293 entries, 0 to 2292\n",
      "Data columns (total 6 columns):\n",
      " #   Column              Non-Null Count  Dtype  \n",
      "---  ------              --------------  -----  \n",
      " 0   user_id             2293 non-null   int64  \n",
      " 1   month               2293 non-null   int64  \n",
      " 2   calls_per_month     2258 non-null   float64\n",
      " 3   minutes_per_month   2258 non-null   float64\n",
      " 4   messages_per_month  1806 non-null   float64\n",
      " 5   gb_used_per_month   2277 non-null   float64\n",
      "dtypes: float64(4), int64(2)\n",
      "memory usage: 125.4 KB\n"
     ]
    },
    {
     "data": {
      "text/html": [
       "<div>\n",
       "<style scoped>\n",
       "    .dataframe tbody tr th:only-of-type {\n",
       "        vertical-align: middle;\n",
       "    }\n",
       "\n",
       "    .dataframe tbody tr th {\n",
       "        vertical-align: top;\n",
       "    }\n",
       "\n",
       "    .dataframe thead th {\n",
       "        text-align: right;\n",
       "    }\n",
       "</style>\n",
       "<table border=\"1\" class=\"dataframe\">\n",
       "  <thead>\n",
       "    <tr style=\"text-align: right;\">\n",
       "      <th></th>\n",
       "      <th>user_id</th>\n",
       "      <th>month</th>\n",
       "      <th>calls_per_month</th>\n",
       "      <th>minutes_per_month</th>\n",
       "      <th>messages_per_month</th>\n",
       "      <th>gb_used_per_month</th>\n",
       "    </tr>\n",
       "  </thead>\n",
       "  <tbody>\n",
       "    <tr>\n",
       "      <th>1881</th>\n",
       "      <td>1408</td>\n",
       "      <td>8</td>\n",
       "      <td>63.0</td>\n",
       "      <td>386.0</td>\n",
       "      <td>49.0</td>\n",
       "      <td>18.0</td>\n",
       "    </tr>\n",
       "    <tr>\n",
       "      <th>100</th>\n",
       "      <td>1028</td>\n",
       "      <td>9</td>\n",
       "      <td>6.0</td>\n",
       "      <td>37.0</td>\n",
       "      <td>68.0</td>\n",
       "      <td>26.0</td>\n",
       "    </tr>\n",
       "    <tr>\n",
       "      <th>1469</th>\n",
       "      <td>1327</td>\n",
       "      <td>8</td>\n",
       "      <td>22.0</td>\n",
       "      <td>160.0</td>\n",
       "      <td>1.0</td>\n",
       "      <td>4.0</td>\n",
       "    </tr>\n",
       "    <tr>\n",
       "      <th>2112</th>\n",
       "      <td>1466</td>\n",
       "      <td>11</td>\n",
       "      <td>28.0</td>\n",
       "      <td>202.0</td>\n",
       "      <td>38.0</td>\n",
       "      <td>13.0</td>\n",
       "    </tr>\n",
       "    <tr>\n",
       "      <th>960</th>\n",
       "      <td>1206</td>\n",
       "      <td>7</td>\n",
       "      <td>44.0</td>\n",
       "      <td>336.0</td>\n",
       "      <td>22.0</td>\n",
       "      <td>19.0</td>\n",
       "    </tr>\n",
       "  </tbody>\n",
       "</table>\n",
       "</div>"
      ],
      "text/plain": [
       "      user_id  month  calls_per_month  minutes_per_month  messages_per_month  \\\n",
       "1881     1408      8             63.0              386.0                49.0   \n",
       "100      1028      9              6.0               37.0                68.0   \n",
       "1469     1327      8             22.0              160.0                 1.0   \n",
       "2112     1466     11             28.0              202.0                38.0   \n",
       "960      1206      7             44.0              336.0                22.0   \n",
       "\n",
       "      gb_used_per_month  \n",
       "1881               18.0  \n",
       "100                26.0  \n",
       "1469                4.0  \n",
       "2112               13.0  \n",
       "960                19.0  "
      ]
     },
     "execution_count": 26,
     "metadata": {},
     "output_type": "execute_result"
    }
   ],
   "source": [
    "# Merge the data for calls, minutes, messages, internet based on user_id and month\n",
    "monthly_merged_df= calls_per_month.merge(minutes_per_month, on= ['user_id', 'month'], how= 'outer')\n",
    "monthly_merged_df= monthly_merged_df.merge(messages_per_month, on= ['user_id', 'month'], how= 'outer')\n",
    "monthly_merged_df= monthly_merged_df.merge(volume_internet_traffic_per_month, on= ['user_id', 'month'], how= 'outer')\n",
    "monthly_merged_df.info()\n",
    "monthly_merged_df.sample(5)"
   ]
  },
  {
   "cell_type": "code",
   "execution_count": 27,
   "metadata": {
    "trusted": true
   },
   "outputs": [
    {
     "name": "stdout",
     "output_type": "stream",
     "text": [
      "<class 'pandas.core.frame.DataFrame'>\n",
      "Int64Index: 2293 entries, 0 to 2292\n",
      "Data columns (total 7 columns):\n",
      " #   Column              Non-Null Count  Dtype  \n",
      "---  ------              --------------  -----  \n",
      " 0   user_id             2293 non-null   int64  \n",
      " 1   month               2293 non-null   int64  \n",
      " 2   calls_per_month     2258 non-null   float64\n",
      " 3   minutes_per_month   2258 non-null   float64\n",
      " 4   messages_per_month  1806 non-null   float64\n",
      " 5   gb_used_per_month   2277 non-null   float64\n",
      " 6   plan                2293 non-null   object \n",
      "dtypes: float64(4), int64(2), object(1)\n",
      "memory usage: 143.3+ KB\n"
     ]
    },
    {
     "data": {
      "text/html": [
       "<div>\n",
       "<style scoped>\n",
       "    .dataframe tbody tr th:only-of-type {\n",
       "        vertical-align: middle;\n",
       "    }\n",
       "\n",
       "    .dataframe tbody tr th {\n",
       "        vertical-align: top;\n",
       "    }\n",
       "\n",
       "    .dataframe thead th {\n",
       "        text-align: right;\n",
       "    }\n",
       "</style>\n",
       "<table border=\"1\" class=\"dataframe\">\n",
       "  <thead>\n",
       "    <tr style=\"text-align: right;\">\n",
       "      <th></th>\n",
       "      <th>user_id</th>\n",
       "      <th>month</th>\n",
       "      <th>calls_per_month</th>\n",
       "      <th>minutes_per_month</th>\n",
       "      <th>messages_per_month</th>\n",
       "      <th>gb_used_per_month</th>\n",
       "      <th>plan</th>\n",
       "    </tr>\n",
       "  </thead>\n",
       "  <tbody>\n",
       "    <tr>\n",
       "      <th>1452</th>\n",
       "      <td>1324</td>\n",
       "      <td>4</td>\n",
       "      <td>129.0</td>\n",
       "      <td>1043.0</td>\n",
       "      <td>120.0</td>\n",
       "      <td>14.0</td>\n",
       "      <td>surf</td>\n",
       "    </tr>\n",
       "    <tr>\n",
       "      <th>1488</th>\n",
       "      <td>1330</td>\n",
       "      <td>11</td>\n",
       "      <td>55.0</td>\n",
       "      <td>466.0</td>\n",
       "      <td>55.0</td>\n",
       "      <td>10.0</td>\n",
       "      <td>ultimate</td>\n",
       "    </tr>\n",
       "    <tr>\n",
       "      <th>1679</th>\n",
       "      <td>1367</td>\n",
       "      <td>11</td>\n",
       "      <td>20.0</td>\n",
       "      <td>105.0</td>\n",
       "      <td>NaN</td>\n",
       "      <td>17.0</td>\n",
       "      <td>surf</td>\n",
       "    </tr>\n",
       "    <tr>\n",
       "      <th>1149</th>\n",
       "      <td>1251</td>\n",
       "      <td>5</td>\n",
       "      <td>70.0</td>\n",
       "      <td>567.0</td>\n",
       "      <td>39.0</td>\n",
       "      <td>21.0</td>\n",
       "      <td>surf</td>\n",
       "    </tr>\n",
       "    <tr>\n",
       "      <th>1676</th>\n",
       "      <td>1367</td>\n",
       "      <td>8</td>\n",
       "      <td>23.0</td>\n",
       "      <td>158.0</td>\n",
       "      <td>NaN</td>\n",
       "      <td>19.0</td>\n",
       "      <td>surf</td>\n",
       "    </tr>\n",
       "  </tbody>\n",
       "</table>\n",
       "</div>"
      ],
      "text/plain": [
       "      user_id  month  calls_per_month  minutes_per_month  messages_per_month  \\\n",
       "1452     1324      4            129.0             1043.0               120.0   \n",
       "1488     1330     11             55.0              466.0                55.0   \n",
       "1679     1367     11             20.0              105.0                 NaN   \n",
       "1149     1251      5             70.0              567.0                39.0   \n",
       "1676     1367      8             23.0              158.0                 NaN   \n",
       "\n",
       "      gb_used_per_month      plan  \n",
       "1452               14.0      surf  \n",
       "1488               10.0  ultimate  \n",
       "1679               17.0      surf  \n",
       "1149               21.0      surf  \n",
       "1676               19.0      surf  "
      ]
     },
     "execution_count": 27,
     "metadata": {},
     "output_type": "execute_result"
    }
   ],
   "source": [
    "# Add the plan information\n",
    "monthly_merged_df= monthly_merged_df.merge(users_df[['user_id', 'plan']], on='user_id', how='left')\n",
    "monthly_merged_df.info()\n",
    "monthly_merged_df.sample(5)"
   ]
  },
  {
   "cell_type": "markdown",
   "metadata": {},
   "source": [
    "Below we created a definition that will calculate the revenue generated from each individual based on their plan. First if they have the surf plan it will add the monthly charge, then add on extra cost based on if they go over their allowed minutes, messages, or data.  Then it will do the same thing for those with the ultimate plan.  Finally, we will add a column to our dataset for monthly data to see how much revenue each customer brings in per month."
   ]
  },
  {
   "cell_type": "code",
   "execution_count": 28,
   "metadata": {
    "trusted": true
   },
   "outputs": [
    {
     "data": {
      "text/html": [
       "<div>\n",
       "<style scoped>\n",
       "    .dataframe tbody tr th:only-of-type {\n",
       "        vertical-align: middle;\n",
       "    }\n",
       "\n",
       "    .dataframe tbody tr th {\n",
       "        vertical-align: top;\n",
       "    }\n",
       "\n",
       "    .dataframe thead th {\n",
       "        text-align: right;\n",
       "    }\n",
       "</style>\n",
       "<table border=\"1\" class=\"dataframe\">\n",
       "  <thead>\n",
       "    <tr style=\"text-align: right;\">\n",
       "      <th></th>\n",
       "      <th>user_id</th>\n",
       "      <th>month</th>\n",
       "      <th>calls_per_month</th>\n",
       "      <th>minutes_per_month</th>\n",
       "      <th>messages_per_month</th>\n",
       "      <th>gb_used_per_month</th>\n",
       "      <th>plan</th>\n",
       "      <th>monthly_revenue</th>\n",
       "    </tr>\n",
       "  </thead>\n",
       "  <tbody>\n",
       "    <tr>\n",
       "      <th>0</th>\n",
       "      <td>1000</td>\n",
       "      <td>12</td>\n",
       "      <td>16.0</td>\n",
       "      <td>124.0</td>\n",
       "      <td>11.0</td>\n",
       "      <td>2.0</td>\n",
       "      <td>ultimate</td>\n",
       "      <td>70.00</td>\n",
       "    </tr>\n",
       "    <tr>\n",
       "      <th>1</th>\n",
       "      <td>1001</td>\n",
       "      <td>8</td>\n",
       "      <td>27.0</td>\n",
       "      <td>182.0</td>\n",
       "      <td>30.0</td>\n",
       "      <td>7.0</td>\n",
       "      <td>surf</td>\n",
       "      <td>20.00</td>\n",
       "    </tr>\n",
       "    <tr>\n",
       "      <th>2</th>\n",
       "      <td>1001</td>\n",
       "      <td>9</td>\n",
       "      <td>49.0</td>\n",
       "      <td>315.0</td>\n",
       "      <td>44.0</td>\n",
       "      <td>14.0</td>\n",
       "      <td>surf</td>\n",
       "      <td>20.00</td>\n",
       "    </tr>\n",
       "    <tr>\n",
       "      <th>3</th>\n",
       "      <td>1001</td>\n",
       "      <td>10</td>\n",
       "      <td>65.0</td>\n",
       "      <td>393.0</td>\n",
       "      <td>53.0</td>\n",
       "      <td>22.0</td>\n",
       "      <td>surf</td>\n",
       "      <td>90.09</td>\n",
       "    </tr>\n",
       "    <tr>\n",
       "      <th>4</th>\n",
       "      <td>1001</td>\n",
       "      <td>11</td>\n",
       "      <td>64.0</td>\n",
       "      <td>426.0</td>\n",
       "      <td>36.0</td>\n",
       "      <td>19.0</td>\n",
       "      <td>surf</td>\n",
       "      <td>60.00</td>\n",
       "    </tr>\n",
       "  </tbody>\n",
       "</table>\n",
       "</div>"
      ],
      "text/plain": [
       "   user_id  month  calls_per_month  minutes_per_month  messages_per_month  \\\n",
       "0     1000     12             16.0              124.0                11.0   \n",
       "1     1001      8             27.0              182.0                30.0   \n",
       "2     1001      9             49.0              315.0                44.0   \n",
       "3     1001     10             65.0              393.0                53.0   \n",
       "4     1001     11             64.0              426.0                36.0   \n",
       "\n",
       "   gb_used_per_month      plan  monthly_revenue  \n",
       "0                2.0  ultimate            70.00  \n",
       "1                7.0      surf            20.00  \n",
       "2               14.0      surf            20.00  \n",
       "3               22.0      surf            90.09  \n",
       "4               19.0      surf            60.00  "
      ]
     },
     "execution_count": 28,
     "metadata": {},
     "output_type": "execute_result"
    }
   ],
   "source": [
    "# Calculate the monthly revenue for each user\n",
    "def calculate_monthly_revenue(row):\n",
    "    extra_minutes = extra_messages = extra_data = 0\n",
    "    monthly_charge = 0\n",
    "    \n",
    "    # Surf plan\n",
    "    if row['plan'] == 'surf':\n",
    "        monthly_charge = 20\n",
    "        if row['minutes_per_month'] > 500:\n",
    "            extra_minutes = (row['minutes_per_month'] - 500) * 0.03\n",
    "        if row['messages_per_month'] > 50:\n",
    "            extra_messages = (row['messages_per_month'] - 50) * 0.03\n",
    "        if row['gb_used_per_month'] > 15:  \n",
    "            extra_data = (row['gb_used_per_month'] - 15) * 10\n",
    "    \n",
    "    # Ultimate plan\n",
    "    elif row['plan'] == 'ultimate':\n",
    "        monthly_charge = 70\n",
    "        if row['minutes_per_month'] > 3000:\n",
    "            extra_minutes = (row['minutes_per_month'] - 3000) * 0.01\n",
    "        if row['messages_per_month'] > 1000:\n",
    "            extra_messages = (row['messages_per_month'] - 1000) * 0.01\n",
    "        if row['gb_used_per_month'] > 30:  \n",
    "            extra_data = (row['gb_used_per_month'] - 30) * 7\n",
    "    \n",
    "    total_monthly_revenue = monthly_charge + extra_minutes + extra_messages + extra_data\n",
    "    return total_monthly_revenue\n",
    "\n",
    "# apply the function to the DataFrame\n",
    "monthly_merged_df['monthly_revenue'] = monthly_merged_df.apply(calculate_monthly_revenue, axis=1)\n",
    "\n",
    "monthly_merged_df.head()"
   ]
  },
  {
   "cell_type": "markdown",
   "metadata": {},
   "source": [
    "<div class=\"alert alert-warning\" role=\"alert\">\n",
    "<b>Reviewer's comment v1:</b>\n",
    "\n",
    "Everything is correct here, but results will be a bit different after adding data rounding. "
   ]
  },
  {
   "cell_type": "markdown",
   "metadata": {},
   "source": [
    "<div class=\"alert alert-success\" role=\"alert\">\n",
    "<b>Reviewer's comment v2:</b>\n",
    "\n",
    "\n",
    "Btw it is also possible to make the calculation of revenue a bit different `np.where` - https://numpy.org/doc/stable/reference/generated/numpy.where.html\n",
    "    \n",
    "```\n",
    "np.where ('condition: if exceeding the package limit', 'multiply the difference by the price of additional services', '0')\n",
    "```\n",
    "\n",
    "    \n",
    "Great thing about python is that there are so many libraries and ready-to-use functions. For example, this task can also be solved using `.clip()` (a useful method in many tasks). You can read it here: https://www.pythonpool.com/numpy-clip/\n",
    " \n",
    "Also, it is better to avoid hard-coding in your functions of all values from the data plans. These values could be frequently updated and it will be annoyingly inconvenient to update them once again in the function. I would recommend using an actual table with values or create a separate data dictionary - https://towardsdatascience.com/12-examples-to-master-python-dictionaries-5a8bcd688c6d"
   ]
  },
  {
   "cell_type": "markdown",
   "metadata": {},
   "source": [
    "## Study user behaviour"
   ]
  },
  {
   "cell_type": "markdown",
   "metadata": {},
   "source": [
    "Below we will calculate some useful descriptive statistics for the aggregated and merged data, which typically reveal an overall picture captured by the data. Draw useful plots to help the understanding. Given that the main task is to compare the plans and decide on which one is more profitable, the statistics and the plots will be calculated on a per-plan basis."
   ]
  },
  {
   "cell_type": "markdown",
   "metadata": {},
   "source": [
    "### Calls"
   ]
  },
  {
   "cell_type": "code",
   "execution_count": 29,
   "metadata": {
    "trusted": true
   },
   "outputs": [
    {
     "data": {
      "text/plain": [
       "<function matplotlib.pyplot.show(close=None, block=None)>"
      ]
     },
     "execution_count": 29,
     "metadata": {},
     "output_type": "execute_result"
    },
    {
     "data": {
      "image/png": "[encoded data removed]",
      "text/plain": [
       "<Figure size 640x480 with 1 Axes>"
      ]
     },
     "metadata": {},
     "output_type": "display_data"
    }
   ],
   "source": [
    "# Compare average duration of calls per each plan per each distinct month. Plot a bar plat to visualize it.\n",
    "\n",
    "average_duration_by_plan_per_month = monthly_merged_df.groupby(['month','plan'])['minutes_per_month'].mean().unstack()\n",
    "\n",
    "average_duration_by_plan_per_month.plot(kind='bar', stacked= False)\n",
    "plt.title('Average Call Duration Per Plan')\n",
    "plt.xlabel('Month')\n",
    "plt.ylabel('Average Duration in Minutes')\n",
    "plt.legend(title = 'Plan')\n",
    "plt.xticks(rotation=45)\n",
    "plt.show"
   ]
  },
  {
   "cell_type": "code",
   "execution_count": 30,
   "metadata": {
    "trusted": true
   },
   "outputs": [
    {
     "data": {
      "image/png": "[encoded data removed]",
      "text/plain": [
       "<Figure size 640x480 with 1 Axes>"
      ]
     },
     "metadata": {},
     "output_type": "display_data"
    }
   ],
   "source": [
    "# Compare the number of minutes users of each plan require each month. Plot a histogram.\n",
    "\n",
    "# Separate the data by plan\n",
    "surf_minutes = monthly_merged_df[monthly_merged_df['plan'] == 'surf']['minutes_per_month']\n",
    "ultimate_minutes = monthly_merged_df[monthly_merged_df['plan'] == 'ultimate']['minutes_per_month']\n",
    "\n",
    "# Plot histograms for each plan\n",
    "plt.hist(surf_minutes, bins=15, alpha=0.5, label='Surf')\n",
    "plt.hist(ultimate_minutes, bins=15, alpha=0.5, label='Ultimate')\n",
    "\n",
    "plt.title('Total Call Duration Per Plan')\n",
    "plt.xlabel('Minutes')\n",
    "plt.ylabel('Frequency')\n",
    "plt.legend(title='Plan')\n",
    "plt.show()"
   ]
  },
  {
   "cell_type": "markdown",
   "metadata": {},
   "source": []
  },
  {
   "cell_type": "code",
   "execution_count": 31,
   "metadata": {
    "trusted": true
   },
   "outputs": [
    {
     "name": "stdout",
     "output_type": "stream",
     "text": [
      "Mean call duration of surf plan users is: 436.51974110032364 And the variance is: 52537.03666530514\n",
      "Mean call duration of ultimate plan users is: 434.67601683029454 And the variance is: 56494.286339253566\n"
     ]
    }
   ],
   "source": [
    "# Calculate the mean and the variance of the monthly call duration\n",
    "surf_mean_minutes = surf_minutes.mean()\n",
    "ultimate_mean_minutes = ultimate_minutes.mean()\n",
    "\n",
    "surf_minutes_variance = np.var(surf_minutes)\n",
    "ultimate_minutes_variance = np.var(ultimate_minutes)\n",
    "print('Mean call duration of surf plan users is:', surf_mean_minutes, 'And the variance is:', surf_minutes_variance)\n",
    "print('Mean call duration of ultimate plan users is:', ultimate_mean_minutes, 'And the variance is:', ultimate_minutes_variance)"
   ]
  },
  {
   "cell_type": "markdown",
   "metadata": {},
   "source": [
    "<div class=\"alert alert-warning\">\n",
    "<b>Reviewer's comment v1:</b>\n",
    "    \n",
    "To avoid repetitive code you could utilize functions. "
   ]
  },
  {
   "cell_type": "code",
   "execution_count": 32,
   "metadata": {
    "trusted": true
   },
   "outputs": [
    {
     "data": {
      "image/png": "[encoded data removed]",
      "text/plain": [
       "<Figure size 640x480 with 1 Axes>"
      ]
     },
     "metadata": {},
     "output_type": "display_data"
    }
   ],
   "source": [
    "# Plot a boxplot to visualize the distribution of the monthly call duration\n",
    "surf_minutes_clean = surf_minutes.dropna()\n",
    "ultimate_minutes_clean = ultimate_minutes.dropna()\n",
    "\n",
    "# Create a Box Plot\n",
    "plt.boxplot([surf_minutes_clean, ultimate_minutes_clean], labels=['Surf', 'Ultimate'])\n",
    "plt.title('Call Duration Distribution by Plan')\n",
    "plt.xlabel('Plan')\n",
    "plt.ylabel('Minutes')\n",
    "plt.show()"
   ]
  },
  {
   "cell_type": "markdown",
   "metadata": {},
   "source": [
    "Based on the calculations above it seems like there isn't a huge difference in the duration of minutes users of either plan use.  The difference however is that ultimate plan users seemingly never go over their allotted minutes of 3000, where as for the surf plan the average user does not go over their 500 minutes as the mean is about 412 minutes, but there are a good amount of people who do go over their allotted minutes."
   ]
  },
  {
   "cell_type": "markdown",
   "metadata": {},
   "source": [
    " "
   ]
  },
  {
   "cell_type": "markdown",
   "metadata": {},
   "source": [
    "### Messages"
   ]
  },
  {
   "cell_type": "code",
   "execution_count": 33,
   "metadata": {
    "trusted": true
   },
   "outputs": [
    {
     "data": {
      "image/png": "[encoded data removed]",
      "text/plain": [
       "<Figure size 640x480 with 1 Axes>"
      ]
     },
     "metadata": {},
     "output_type": "display_data"
    }
   ],
   "source": [
    "# Compare the number of messages users of each plan tend to send each month\n",
    "\n",
    "# Separate the data by plan\n",
    "surf_messages = monthly_merged_df[monthly_merged_df['plan'] == 'surf']['messages_per_month']\n",
    "ultimate_messages = monthly_merged_df[monthly_merged_df['plan'] == 'ultimate']['messages_per_month']\n",
    "\n",
    "# Plot histograms for each plan\n",
    "plt.hist(surf_messages, bins=10, alpha=0.5, label='Surf')\n",
    "plt.hist(ultimate_messages, bins=10, alpha=0.5, label='Ultimate')\n",
    "\n",
    "plt.title('Total Number of Messages Per Plan')\n",
    "plt.xlabel('Messages')\n",
    "plt.ylabel('Frequency')\n",
    "plt.legend(title='Plan')\n",
    "plt.show()"
   ]
  },
  {
   "cell_type": "code",
   "execution_count": 34,
   "metadata": {
    "trusted": true
   },
   "outputs": [
    {
     "name": "stdout",
     "output_type": "stream",
     "text": [
      "Mean number of messages surf plan users send is: 40.10965630114566 And the variance is: 1090.4511506183685\n",
      "Mean number of messages ultimate plan users send is: 46.29623287671233 And the variance is: 1083.3249173156314\n"
     ]
    }
   ],
   "source": [
    "# Calculate the mean and the variance of the monthly messages sent\n",
    "surf_mean_messages = surf_messages.mean()\n",
    "ultimate_mean_messages = ultimate_messages.mean()\n",
    "\n",
    "surf_messages_variance = np.var(surf_messages)\n",
    "ultimate_messages_variance = np.var(ultimate_messages)\n",
    "print('Mean number of messages surf plan users send is:', surf_mean_messages, 'And the variance is:', surf_messages_variance)\n",
    "print('Mean number of messages ultimate plan users send is:', ultimate_mean_messages, 'And the variance is:', ultimate_messages_variance)"
   ]
  },
  {
   "cell_type": "code",
   "execution_count": 35,
   "metadata": {
    "trusted": true
   },
   "outputs": [
    {
     "data": {
      "image/png": "[encoded data removed]",
      "text/plain": [
       "<Figure size 640x480 with 1 Axes>"
      ]
     },
     "metadata": {},
     "output_type": "display_data"
    }
   ],
   "source": [
    "# Plot a boxplot to visualize the distribution of the monthly call duration\n",
    "surf_messages_clean = surf_messages.dropna()\n",
    "ultimate_messages_clean = ultimate_messages.dropna()\n",
    "\n",
    "# Create a Box Plot\n",
    "plt.boxplot([surf_messages_clean, ultimate_messages_clean], labels=['Surf', 'Ultimate'])\n",
    "plt.title('Total Message Distribution by Plan')\n",
    "plt.xlabel('Plan')\n",
    "plt.ylabel('Number of Messages')\n",
    "plt.show()"
   ]
  },
  {
   "cell_type": "code",
   "execution_count": null,
   "metadata": {
    "trusted": true
   },
   "outputs": [],
   "source": [
    "\n",
    "\n"
   ]
  },
  {
   "cell_type": "markdown",
   "metadata": {},
   "source": [
    "Based on the calculations above it appears that the average ultimate user sends more text messages than the average surf user, but there are many more outliers of large quantities of messages with the surf plan.  Based on this data it appears that there are almost no ultimate users that go over their limit of 1000 messages per month, while there are many surf users who go over their alotted 50 and therefore will get extra charges."
   ]
  },
  {
   "cell_type": "markdown",
   "metadata": {},
   "source": []
  },
  {
   "cell_type": "markdown",
   "metadata": {},
   "source": [
    " "
   ]
  },
  {
   "cell_type": "markdown",
   "metadata": {},
   "source": [
    "### Internet"
   ]
  },
  {
   "cell_type": "code",
   "execution_count": 36,
   "metadata": {
    "trusted": true
   },
   "outputs": [
    {
     "data": {
      "image/png": "[encoded data removed]",
      "text/plain": [
       "<Figure size 640x480 with 1 Axes>"
      ]
     },
     "metadata": {},
     "output_type": "display_data"
    }
   ],
   "source": [
    "# Compare the amount of internet traffic consumed by users per plan\n",
    "\n",
    "# Separate the data by plan\n",
    "surf_data_used = monthly_merged_df[monthly_merged_df['plan'] == 'surf']['gb_used_per_month']\n",
    "ultimate_data_used = monthly_merged_df[monthly_merged_df['plan'] == 'ultimate']['gb_used_per_month']\n",
    "\n",
    "# Plot histograms for each plan\n",
    "plt.hist(surf_data_used, bins=10, alpha=0.5, label='Surf')\n",
    "plt.hist(ultimate_data_used, bins=10, alpha=0.5, label='Ultimate')\n",
    "\n",
    "plt.title('Total Amount of Internet Traffic Consumed Per Plan')\n",
    "plt.xlabel('Data Used in GB')\n",
    "plt.ylabel('Frequency')\n",
    "plt.legend(title='Plan')\n",
    "plt.show()"
   ]
  },
  {
   "cell_type": "code",
   "execution_count": 37,
   "metadata": {
    "trusted": true
   },
   "outputs": [
    {
     "name": "stdout",
     "output_type": "stream",
     "text": [
      "Mean data surf plan users consumed is: 16.831193838254173 And the variance is: 59.435560962426734\n",
      "Mean data ultimate plan users consumed is: 17.331015299026426 And the variance is: 58.413377411448835\n"
     ]
    }
   ],
   "source": [
    "# Calculate the mean and the variance of the monthly data use\n",
    "surf_mean_data_used = surf_data_used.mean()\n",
    "ultimate_mean_data_used = ultimate_data_used.mean()\n",
    "\n",
    "surf_data_used_variance = np.var(surf_data_used)\n",
    "ultimate_data_used_variance = np.var(ultimate_data_used)\n",
    "print('Mean data surf plan users consumed is:', surf_mean_data_used, 'And the variance is:', surf_data_used_variance)\n",
    "print('Mean data ultimate plan users consumed is:', ultimate_mean_data_used, 'And the variance is:', ultimate_data_used_variance)"
   ]
  },
  {
   "cell_type": "code",
   "execution_count": 38,
   "metadata": {
    "trusted": true
   },
   "outputs": [
    {
     "data": {
      "image/png": "[encoded data removed]",
      "text/plain": [
       "<Figure size 640x480 with 1 Axes>"
      ]
     },
     "metadata": {},
     "output_type": "display_data"
    }
   ],
   "source": [
    "# Plot a boxplot to visualize the distribution of the monthly data use\n",
    "surf_data_used_clean = surf_data_used.dropna()\n",
    "ultimate_data_used_clean = ultimate_data_used.dropna()\n",
    "\n",
    "# Create a Box Plot\n",
    "plt.boxplot([surf_data_used_clean, ultimate_data_used_clean], labels=['Surf', 'Ultimate'])\n",
    "plt.title('Total Data Used Distribution by Plan')\n",
    "plt.xlabel('Plan')\n",
    "plt.ylabel('GBs of Data')\n",
    "plt.show()"
   ]
  },
  {
   "cell_type": "markdown",
   "metadata": {},
   "source": [
    "Based on the calculations above it appears that the average ultimate and surf users consume the same amount of data from the internet.  However, there are more outliers for high data use in surf customers, but there are some outliers in ultimate customers as well. However, there are many more surf customers that go over their alotted amount of 15 GB than ultimate customers going over their alotted 30.  The fee for surf users going over is also higher, than ultimate users, so this could potenitally increase revenue more quickly."
   ]
  },
  {
   "cell_type": "markdown",
   "metadata": {},
   "source": [
    " "
   ]
  },
  {
   "cell_type": "markdown",
   "metadata": {},
   "source": [
    "## Revenue"
   ]
  },
  {
   "cell_type": "markdown",
   "metadata": {},
   "source": [
    "Here we will statistically describe the revenue between the plans"
   ]
  },
  {
   "cell_type": "code",
   "execution_count": 39,
   "metadata": {
    "trusted": true
   },
   "outputs": [
    {
     "data": {
      "text/plain": [
       "<function matplotlib.pyplot.show(close=None, block=None)>"
      ]
     },
     "execution_count": 39,
     "metadata": {},
     "output_type": "execute_result"
    },
    {
     "data": {
      "image/png": "[encoded data removed]",
      "text/plain": [
       "<Figure size 640x480 with 1 Axes>"
      ]
     },
     "metadata": {},
     "output_type": "display_data"
    }
   ],
   "source": [
    "# Compare average revenue per each plan per each distinct month. Plot a bar plat to visualize it.\n",
    "\n",
    "average_duration_by_plan_per_month = monthly_merged_df.groupby(['month','plan'])['monthly_revenue'].mean().unstack()\n",
    "\n",
    "average_duration_by_plan_per_month.plot(kind='bar', stacked= False)\n",
    "plt.title('Average Monthly Revenue Per Plan')\n",
    "plt.xlabel('Month')\n",
    "plt.ylabel('Average Revenue in USD')\n",
    "plt.legend(title = 'Plan')\n",
    "plt.xticks(rotation=45)\n",
    "plt.show"
   ]
  },
  {
   "cell_type": "code",
   "execution_count": 40,
   "metadata": {
    "trusted": true
   },
   "outputs": [
    {
     "data": {
      "image/png": "[encoded data removed]",
      "text/plain": [
       "<Figure size 640x480 with 1 Axes>"
      ]
     },
     "metadata": {},
     "output_type": "display_data"
    }
   ],
   "source": [
    "# Compare the revenue of each plan each month\n",
    "\n",
    "# Separate the data by plan\n",
    "surf_revenue = monthly_merged_df[monthly_merged_df['plan'] == 'surf']['monthly_revenue']\n",
    "ultimate_revenue = monthly_merged_df[monthly_merged_df['plan'] == 'ultimate']['monthly_revenue']\n",
    "\n",
    "# Plot histograms for each plan\n",
    "plt.hist(surf_revenue, bins=15, alpha=0.5, label='Surf')\n",
    "plt.hist(ultimate_revenue, bins=15, alpha=0.5, label='Ultimate')\n",
    "\n",
    "plt.title('Revenue Per Plan')\n",
    "plt.xlabel('US Dollars')\n",
    "plt.ylabel('Frequency')\n",
    "plt.legend(title='Plan')\n",
    "plt.show()"
   ]
  },
  {
   "cell_type": "code",
   "execution_count": 41,
   "metadata": {
    "trusted": true
   },
   "outputs": [
    {
     "name": "stdout",
     "output_type": "stream",
     "text": [
      "Mean revenue surf plan users generated is: 60.706408137317226 And the variance is: 3065.8848438690247\n",
      "Mean data ultimate plan users generated is: 72.31388888888888 And the variance is: 129.66814043209877\n"
     ]
    }
   ],
   "source": [
    "# Calculate the mean and the variance of the monthly revenue\n",
    "surf_mean_revenue = surf_revenue.mean()\n",
    "ultimate_mean_revenue = ultimate_revenue.mean()\n",
    "\n",
    "surf_revenue_variance = np.var(surf_revenue)\n",
    "ultimate_revenue_variance = np.var(ultimate_revenue)\n",
    "print('Mean revenue surf plan users generated is:', surf_mean_revenue, 'And the variance is:', surf_revenue_variance)\n",
    "print('Mean data ultimate plan users generated is:', ultimate_mean_revenue, 'And the variance is:', ultimate_revenue_variance)"
   ]
  },
  {
   "cell_type": "code",
   "execution_count": 42,
   "metadata": {
    "trusted": true
   },
   "outputs": [
    {
     "data": {
      "image/png": "[encoded data removed]",
      "text/plain": [
       "<Figure size 640x480 with 1 Axes>"
      ]
     },
     "metadata": {},
     "output_type": "display_data"
    }
   ],
   "source": [
    "# Plot a boxplot to visualize the distribution of the monthly call duration\n",
    "surf_revenue_clean = surf_revenue.dropna()\n",
    "ultimate_revenue_clean = ultimate_revenue.dropna()\n",
    "\n",
    "# Create a Box Plot\n",
    "plt.boxplot([surf_revenue_clean, ultimate_revenue_clean], labels=['Surf', 'Ultimate'])\n",
    "plt.title('Total Revenue Distribution by Plan')\n",
    "plt.xlabel('Plan')\n",
    "plt.ylabel('US Dollars')\n",
    "plt.show()"
   ]
  },
  {
   "cell_type": "markdown",
   "metadata": {},
   "source": [
    "Based on this data we can see that on average the Ultimate plan brings in higher revenue per user, but as there seems to be a lot more surf plan customers with a larger variance, overall this plan seems to bring in more money for the company per month."
   ]
  },
  {
   "cell_type": "markdown",
   "metadata": {},
   "source": [
    "<div class=\"alert alert-success\">\n",
    "<b>Reviewer's comment v1:</b>\n",
    "    \n",
    "I will write overall thoughts about the data analysis section:\n",
    "- Very nice visualization of the data. It's great that you combined both plans in one graph for comparison and also used different graph types to check the available data.\n",
    "- If you have time and are willing to practice, you can display two charts (a histogram and a boxplot) using a two-column subplot.\n",
    "\n",
    "```\n",
    "    # Create one row with 2 columns\n",
    "\t  fig, axes = plt.subplots(1, 2, figsize=(16, 5))\n",
    "\n",
    "\t  # Create a histogram for the surf plan\n",
    "\t  sns.distplot(... ax=axes[0])\n",
    "\t  # Create a histogram for the second plan\n",
    "\t  sns.distplot(... ax=axes[0])\n",
    "\t\n",
    "\t  # Create a boxplot for both plans\n",
    "\t  sns.boxplot(... ax=axes[1])\n",
    "```"
   ]
  },
  {
   "cell_type": "markdown",
   "metadata": {},
   "source": [
    " "
   ]
  },
  {
   "cell_type": "markdown",
   "metadata": {},
   "source": [
    "## Test statistical hypotheses"
   ]
  },
  {
   "cell_type": "markdown",
   "metadata": {},
   "source": [
    "Test the hypothesis that the average revenue from users of the Ultimate and Surf calling plans differs."
   ]
  },
  {
   "cell_type": "markdown",
   "metadata": {},
   "source": [
    "In this scenarior our null hypothesis is that there is no difference between the average revenue from users of the Ultimate and Surf Calling Plans.\n",
    "The Alternative hypothesis is that there is a difference between the average revenue of the 2 plans.\n",
    "\n",
    "To test this we will run the test on the equality of 2 population means with a significance value of 0.05"
   ]
  },
  {
   "cell_type": "code",
   "execution_count": 43,
   "metadata": {
    "trusted": true
   },
   "outputs": [
    {
     "name": "stdout",
     "output_type": "stream",
     "text": [
      "p-value: 3.1703905481135734e-15\n",
      "We reject the null hypothesis\n"
     ]
    }
   ],
   "source": [
    "# Test the hypotheses\n",
    "alpha = 0.05\n",
    "\n",
    "results = st.ttest_ind(ultimate_revenue, surf_revenue, equal_var= False)\n",
    "\n",
    "print('p-value:', results.pvalue)\n",
    "\n",
    "if results.pvalue < alpha:\n",
    "    print(\"We reject the null hypothesis\")\n",
    "else:\n",
    "    print(\"We can't reject the null hypothesis\")\n"
   ]
  },
  {
   "cell_type": "markdown",
   "metadata": {},
   "source": [
    "Next we will test the hypothesis that the average revenue from users in the NY-NJ area is different from that of the users from the other regions."
   ]
  },
  {
   "cell_type": "markdown",
   "metadata": {},
   "source": [
    "In this scenario our null hypothesis is that the average revenue from users in the NY-NJ area is no different than that of users from all other regions.\n",
    "Our alternative hypothesis is that the average revenue from users in the NY-NJ area is different than users in other regions.\n",
    "To test this we will run the test of equality of 2 population means.  To do this we will have to create new arrays.  The first sample will contain the revenue from users in the NY-NJ area.  The second will be the revenue from all other users.  We will use a signifcance value of 0.05."
   ]
  },
  {
   "cell_type": "code",
   "execution_count": 44,
   "metadata": {
    "trusted": true
   },
   "outputs": [
    {
     "name": "stdout",
     "output_type": "stream",
     "text": [
      "<class 'pandas.core.frame.DataFrame'>\n",
      "Int64Index: 2293 entries, 0 to 2292\n",
      "Data columns (total 9 columns):\n",
      " #   Column              Non-Null Count  Dtype  \n",
      "---  ------              --------------  -----  \n",
      " 0   user_id             2293 non-null   int64  \n",
      " 1   month               2293 non-null   int64  \n",
      " 2   calls_per_month     2258 non-null   float64\n",
      " 3   minutes_per_month   2258 non-null   float64\n",
      " 4   messages_per_month  1806 non-null   float64\n",
      " 5   gb_used_per_month   2277 non-null   float64\n",
      " 6   plan                2293 non-null   object \n",
      " 7   monthly_revenue     2293 non-null   float64\n",
      " 8   city                2293 non-null   object \n",
      "dtypes: float64(5), int64(2), object(2)\n",
      "memory usage: 179.1+ KB\n"
     ]
    },
    {
     "data": {
      "text/html": [
       "<div>\n",
       "<style scoped>\n",
       "    .dataframe tbody tr th:only-of-type {\n",
       "        vertical-align: middle;\n",
       "    }\n",
       "\n",
       "    .dataframe tbody tr th {\n",
       "        vertical-align: top;\n",
       "    }\n",
       "\n",
       "    .dataframe thead th {\n",
       "        text-align: right;\n",
       "    }\n",
       "</style>\n",
       "<table border=\"1\" class=\"dataframe\">\n",
       "  <thead>\n",
       "    <tr style=\"text-align: right;\">\n",
       "      <th></th>\n",
       "      <th>user_id</th>\n",
       "      <th>month</th>\n",
       "      <th>calls_per_month</th>\n",
       "      <th>minutes_per_month</th>\n",
       "      <th>messages_per_month</th>\n",
       "      <th>gb_used_per_month</th>\n",
       "      <th>plan</th>\n",
       "      <th>monthly_revenue</th>\n",
       "      <th>city</th>\n",
       "    </tr>\n",
       "  </thead>\n",
       "  <tbody>\n",
       "    <tr>\n",
       "      <th>708</th>\n",
       "      <td>1153</td>\n",
       "      <td>11</td>\n",
       "      <td>87.0</td>\n",
       "      <td>659.0</td>\n",
       "      <td>NaN</td>\n",
       "      <td>17.0</td>\n",
       "      <td>surf</td>\n",
       "      <td>44.77</td>\n",
       "      <td>Bridgeport-Stamford-Norwalk, CT MSA</td>\n",
       "    </tr>\n",
       "    <tr>\n",
       "      <th>809</th>\n",
       "      <td>1172</td>\n",
       "      <td>12</td>\n",
       "      <td>90.0</td>\n",
       "      <td>711.0</td>\n",
       "      <td>117.0</td>\n",
       "      <td>24.0</td>\n",
       "      <td>surf</td>\n",
       "      <td>118.34</td>\n",
       "      <td>Boston-Cambridge-Newton, MA-NH MSA</td>\n",
       "    </tr>\n",
       "    <tr>\n",
       "      <th>2274</th>\n",
       "      <td>1131</td>\n",
       "      <td>12</td>\n",
       "      <td>NaN</td>\n",
       "      <td>NaN</td>\n",
       "      <td>33.0</td>\n",
       "      <td>15.0</td>\n",
       "      <td>surf</td>\n",
       "      <td>20.00</td>\n",
       "      <td>Los Angeles-Long Beach-Anaheim, CA MSA</td>\n",
       "    </tr>\n",
       "    <tr>\n",
       "      <th>963</th>\n",
       "      <td>1206</td>\n",
       "      <td>10</td>\n",
       "      <td>30.0</td>\n",
       "      <td>192.0</td>\n",
       "      <td>16.0</td>\n",
       "      <td>26.0</td>\n",
       "      <td>surf</td>\n",
       "      <td>130.00</td>\n",
       "      <td>Providence-Warwick, RI-MA MSA</td>\n",
       "    </tr>\n",
       "    <tr>\n",
       "      <th>1214</th>\n",
       "      <td>1261</td>\n",
       "      <td>8</td>\n",
       "      <td>67.0</td>\n",
       "      <td>479.0</td>\n",
       "      <td>49.0</td>\n",
       "      <td>18.0</td>\n",
       "      <td>surf</td>\n",
       "      <td>50.00</td>\n",
       "      <td>Kansas City, MO-KS MSA</td>\n",
       "    </tr>\n",
       "  </tbody>\n",
       "</table>\n",
       "</div>"
      ],
      "text/plain": [
       "      user_id  month  calls_per_month  minutes_per_month  messages_per_month  \\\n",
       "708      1153     11             87.0              659.0                 NaN   \n",
       "809      1172     12             90.0              711.0               117.0   \n",
       "2274     1131     12              NaN                NaN                33.0   \n",
       "963      1206     10             30.0              192.0                16.0   \n",
       "1214     1261      8             67.0              479.0                49.0   \n",
       "\n",
       "      gb_used_per_month  plan  monthly_revenue  \\\n",
       "708                17.0  surf            44.77   \n",
       "809                24.0  surf           118.34   \n",
       "2274               15.0  surf            20.00   \n",
       "963                26.0  surf           130.00   \n",
       "1214               18.0  surf            50.00   \n",
       "\n",
       "                                        city  \n",
       "708      Bridgeport-Stamford-Norwalk, CT MSA  \n",
       "809       Boston-Cambridge-Newton, MA-NH MSA  \n",
       "2274  Los Angeles-Long Beach-Anaheim, CA MSA  \n",
       "963            Providence-Warwick, RI-MA MSA  \n",
       "1214                  Kansas City, MO-KS MSA  "
      ]
     },
     "execution_count": 44,
     "metadata": {},
     "output_type": "execute_result"
    }
   ],
   "source": [
    "# Test the hypotheses\n",
    "monthly_merged_df= monthly_merged_df.merge(users_df[['user_id', 'city']], on='user_id', how='left')\n",
    "monthly_merged_df.info()\n",
    "monthly_merged_df.sample(5)"
   ]
  },
  {
   "cell_type": "code",
   "execution_count": 45,
   "metadata": {
    "trusted": true
   },
   "outputs": [
    {
     "name": "stdout",
     "output_type": "stream",
     "text": [
      "p-value: 0.043557431621342436\n",
      "We reject the null hypothesis\n"
     ]
    }
   ],
   "source": [
    "# List of cities in NY-NJ area\n",
    "ny_nj_cities = ['New York-Newark-Jersey City, NY-NJ-PA MSA']\n",
    "\n",
    "# Filter users in NY-NJ area\n",
    "ny_nj_users = monthly_merged_df[monthly_merged_df['city'].isin(ny_nj_cities)]\n",
    "\n",
    "# Filter users from other regions\n",
    "other_users = monthly_merged_df[~monthly_merged_df['city'].isin(ny_nj_cities)]\n",
    "\n",
    "# Calculate revenue for each group\n",
    "# Ensure revenue data is available or calculated prior\n",
    "ny_nj_revenue = ny_nj_users['monthly_revenue'].dropna()\n",
    "other_revenue = other_users['monthly_revenue'].dropna()\n",
    "\n",
    "alpha = 0.5\n",
    "\n",
    "results = st.ttest_ind(ny_nj_revenue, other_revenue)\n",
    "\n",
    "print('p-value:', results.pvalue)\n",
    "\n",
    "if results.pvalue < alpha:\n",
    "    print(\"We reject the null hypothesis\")\n",
    "else:\n",
    "    print(\"We can't reject the null hypothesis\")\n"
   ]
  },
  {
   "cell_type": "markdown",
   "metadata": {},
   "source": [
    "<div class=\"alert alert-success\">\n",
    "<b>Reviewer's comment v1:</b>\n",
    "    \n",
    "- Everything is correct here. Hypotheses have been formulated correctly. \n",
    "- Second one should be still updated based on the new filtering logic i've shared. \n",
    "- Your conclusions based on the results are also correct.\n",
    "- You can also additionally compare the variances of the samples before testing hypotheses in order to understand with which equal_var parameter to use the ttest_ind test method (by default, True). Here you can manually calculate variances, or use Levene's statistic test (https://docs.scipy.org/doc/scipy/reference/generated/scipy.stats.levene.html) or Barlett's test (https: //docs.scipy .org / doc / scipy / reference / generated / scipy.stats.bartlett.html # scipy.stats.bartlett)\n",
    "    "
   ]
  },
  {
   "cell_type": "markdown",
   "metadata": {},
   "source": [
    "## General conclusion\n",
    "\n",
    "In conclusion, we have learned a lot from this data. The most important for Megaline as a company is that it appears on average the Surf plan tends to bring in more total revenue per month, but the Ultimate plan seems to bring in more money per user. This assumption is supported by our our ability to reject the hypothesis that there is no difference between the 2 plans. Additionally, it seems likely that there is a difference in revenue between NY-NJ and other regions. This could possibly be contributed to the high density population in these areas. "
   ]
  },
  {
   "cell_type": "markdown",
   "metadata": {},
   "source": [
    "<div class=\"alert alert-success\" role=\"alert\">\n",
    "<b>Reviewer's comment v1:</b>\n",
    "    \n",
    "- Overall you conducted great research with correct interim findings, clean code and nice visualisation.\n",
    "- I also like your overall conclusions. It is very structured and provides insights about what you accomplished and recommendations to the business.\n",
    "    "
   ]
  }
 ],
 "metadata": {
  "ExecuteTimeLog": [
   {
    "duration": 828,
    "start_time": "2021-11-16T09:21:11.304Z"
   },
   {
    "duration": 893,
    "start_time": "2021-11-16T09:21:17.728Z"
   },
   {
    "duration": 1150,
    "start_time": "2021-11-16T09:21:29.568Z"
   },
   {
    "duration": 3,
    "start_time": "2021-11-16T09:24:14.495Z"
   },
   {
    "duration": 120,
    "start_time": "2021-11-16T09:24:46.630Z"
   },
   {
    "duration": 3,
    "start_time": "2021-11-16T09:28:27.882Z"
   },
   {
    "duration": 4,
    "start_time": "2021-11-16T09:29:54.281Z"
   },
   {
    "duration": 3,
    "start_time": "2021-11-16T09:30:45.936Z"
   },
   {
    "duration": 4,
    "start_time": "2021-11-16T09:31:06.300Z"
   },
   {
    "duration": 113,
    "start_time": "2021-11-16T09:31:37.208Z"
   },
   {
    "duration": 143,
    "start_time": "2021-11-16T09:31:48.656Z"
   },
   {
    "duration": 98,
    "start_time": "2021-11-16T09:31:55.678Z"
   },
   {
    "duration": 3,
    "start_time": "2021-11-16T09:32:08.535Z"
   },
   {
    "duration": 111,
    "start_time": "2021-11-16T09:32:10.120Z"
   },
   {
    "duration": 3,
    "start_time": "2021-11-16T09:32:15.732Z"
   },
   {
    "duration": 4,
    "start_time": "2021-11-16T09:32:29.423Z"
   },
   {
    "duration": 3,
    "start_time": "2021-11-16T10:03:03.074Z"
   },
   {
    "duration": 3,
    "start_time": "2021-11-16T10:10:01.288Z"
   },
   {
    "duration": 3,
    "start_time": "2021-11-16T10:10:46.923Z"
   },
   {
    "duration": 121,
    "start_time": "2021-11-16T10:37:46.494Z"
   },
   {
    "duration": 125,
    "start_time": "2021-11-16T10:38:20.632Z"
   },
   {
    "duration": 112,
    "start_time": "2021-11-16T10:46:53.001Z"
   },
   {
    "duration": 110,
    "start_time": "2021-11-16T10:48:25.775Z"
   },
   {
    "duration": 3,
    "start_time": "2021-11-16T10:50:18.720Z"
   },
   {
    "duration": 4,
    "start_time": "2021-11-16T10:50:37.649Z"
   },
   {
    "duration": 2,
    "start_time": "2021-11-16T10:50:51.884Z"
   },
   {
    "duration": 3,
    "start_time": "2021-11-16T10:51:56.237Z"
   },
   {
    "duration": 101,
    "start_time": "2021-11-16T10:53:13.791Z"
   },
   {
    "duration": 3,
    "start_time": "2021-11-16T10:55:59.186Z"
   },
   {
    "duration": 3,
    "start_time": "2021-11-16T10:56:10.751Z"
   },
   {
    "duration": 3,
    "start_time": "2021-11-16T10:56:49.038Z"
   },
   {
    "duration": 3,
    "start_time": "2021-11-16T10:56:49.174Z"
   },
   {
    "duration": 4,
    "start_time": "2021-11-16T10:56:49.414Z"
   },
   {
    "duration": 3,
    "start_time": "2021-11-16T10:56:49.680Z"
   },
   {
    "duration": 3,
    "start_time": "2021-11-16T10:56:50.370Z"
   },
   {
    "duration": 114,
    "start_time": "2021-11-16T10:59:34.518Z"
   },
   {
    "duration": 3,
    "start_time": "2021-11-16T11:01:41.201Z"
   },
   {
    "duration": 116,
    "start_time": "2021-11-16T11:01:48.754Z"
   },
   {
    "duration": 3,
    "start_time": "2021-11-16T11:02:16.685Z"
   },
   {
    "duration": 3,
    "start_time": "2021-11-16T11:02:19.479Z"
   },
   {
    "duration": 3,
    "start_time": "2021-11-16T11:02:47.067Z"
   },
   {
    "duration": 3,
    "start_time": "2021-11-16T11:02:49.353Z"
   },
   {
    "duration": 3,
    "start_time": "2021-11-16T11:03:07.835Z"
   },
   {
    "duration": 3,
    "start_time": "2021-11-16T11:03:07.953Z"
   },
   {
    "duration": 112,
    "start_time": "2021-11-16T11:07:52.072Z"
   },
   {
    "duration": 187,
    "start_time": "2021-11-16T11:09:23.468Z"
   },
   {
    "duration": 4,
    "start_time": "2021-11-16T11:10:01.455Z"
   },
   {
    "duration": 3,
    "start_time": "2021-11-16T11:10:05.069Z"
   },
   {
    "duration": 4,
    "start_time": "2021-11-16T11:10:13.376Z"
   },
   {
    "duration": 3,
    "start_time": "2021-11-16T11:10:14.434Z"
   },
   {
    "duration": 3,
    "start_time": "2021-11-16T11:10:22.853Z"
   },
   {
    "duration": 4,
    "start_time": "2021-11-16T11:27:29.279Z"
   },
   {
    "duration": 4,
    "start_time": "2021-11-16T11:29:08.919Z"
   },
   {
    "duration": 118,
    "start_time": "2021-11-16T11:29:46.703Z"
   },
   {
    "duration": 437,
    "start_time": "2021-11-16T11:36:02.181Z"
   },
   {
    "duration": 157,
    "start_time": "2021-11-16T11:36:14.388Z"
   },
   {
    "duration": 207,
    "start_time": "2021-11-16T11:47:15.898Z"
   },
   {
    "duration": 3,
    "start_time": "2021-11-16T11:53:52.092Z"
   },
   {
    "duration": 3,
    "start_time": "2021-11-16T11:53:52.236Z"
   },
   {
    "duration": 3,
    "start_time": "2021-11-16T11:59:12.005Z"
   },
   {
    "duration": 112,
    "start_time": "2021-11-16T12:00:33.446Z"
   },
   {
    "duration": 3,
    "start_time": "2021-11-16T12:02:14.453Z"
   },
   {
    "duration": 3,
    "start_time": "2021-11-16T12:02:39.512Z"
   },
   {
    "duration": 106,
    "start_time": "2021-11-16T12:03:03.460Z"
   },
   {
    "duration": 3,
    "start_time": "2021-11-17T20:37:21.139Z"
   },
   {
    "duration": 3,
    "start_time": "2021-11-17T20:37:22.229Z"
   },
   {
    "duration": 3,
    "start_time": "2021-11-17T20:38:38.806Z"
   },
   {
    "duration": 3,
    "start_time": "2021-11-17T20:38:41.958Z"
   },
   {
    "duration": 3,
    "start_time": "2021-11-17T20:43:46.551Z"
   },
   {
    "duration": 4,
    "start_time": "2021-11-17T20:58:21.835Z"
   },
   {
    "duration": 3,
    "start_time": "2021-11-17T20:59:21.872Z"
   },
   {
    "duration": 4,
    "start_time": "2021-11-17T20:59:45.352Z"
   },
   {
    "duration": 4,
    "start_time": "2021-11-17T20:59:49.646Z"
   },
   {
    "duration": 159,
    "start_time": "2021-11-17T21:02:26.949Z"
   },
   {
    "duration": 3,
    "start_time": "2021-11-17T21:03:53.461Z"
   },
   {
    "duration": 3,
    "start_time": "2021-11-17T21:03:53.694Z"
   },
   {
    "duration": 3,
    "start_time": "2021-11-17T21:05:28.145Z"
   },
   {
    "duration": 116,
    "start_time": "2021-11-17T21:05:57.787Z"
   },
   {
    "duration": 3,
    "start_time": "2021-11-17T21:06:37.993Z"
   },
   {
    "duration": 3,
    "start_time": "2021-11-17T21:06:38.261Z"
   },
   {
    "duration": 3,
    "start_time": "2021-11-17T21:11:54.358Z"
   },
   {
    "duration": 3,
    "start_time": "2021-11-17T21:12:43.846Z"
   },
   {
    "duration": 4,
    "start_time": "2021-11-17T21:13:08.773Z"
   },
   {
    "duration": 3,
    "start_time": "2021-11-17T21:14:44.441Z"
   },
   {
    "duration": 3,
    "start_time": "2021-11-17T21:15:42.059Z"
   },
   {
    "duration": 4,
    "start_time": "2021-11-17T21:15:51.995Z"
   },
   {
    "duration": 3,
    "start_time": "2021-11-17T21:15:53.923Z"
   },
   {
    "duration": 3,
    "start_time": "2021-11-17T21:15:55.282Z"
   },
   {
    "duration": 3,
    "start_time": "2021-11-17T21:16:28.492Z"
   },
   {
    "duration": 3,
    "start_time": "2021-11-17T21:16:32.603Z"
   },
   {
    "duration": 3,
    "start_time": "2021-11-17T21:17:06.941Z"
   },
   {
    "duration": 98,
    "start_time": "2021-11-17T21:18:05.733Z"
   },
   {
    "duration": 4,
    "start_time": "2021-11-17T21:21:35.255Z"
   },
   {
    "duration": 3,
    "start_time": "2021-11-17T21:21:37.804Z"
   },
   {
    "duration": 4,
    "start_time": "2021-11-17T21:23:06.071Z"
   },
   {
    "duration": 3,
    "start_time": "2021-11-17T21:23:24.799Z"
   },
   {
    "duration": 3,
    "start_time": "2021-11-17T21:23:32.591Z"
   },
   {
    "duration": 98,
    "start_time": "2021-11-17T21:28:31.559Z"
   },
   {
    "duration": 3,
    "start_time": "2021-11-17T21:28:45.448Z"
   },
   {
    "duration": 3,
    "start_time": "2021-11-17T21:29:17.303Z"
   },
   {
    "duration": 3,
    "start_time": "2021-11-17T21:29:29.617Z"
   },
   {
    "duration": 3,
    "start_time": "2021-11-17T21:29:32.681Z"
   },
   {
    "duration": 3,
    "start_time": "2021-11-17T21:36:11.474Z"
   },
   {
    "duration": 3,
    "start_time": "2021-11-17T21:36:14.791Z"
   },
   {
    "duration": 3,
    "start_time": "2021-11-17T21:36:53.943Z"
   },
   {
    "duration": 3,
    "start_time": "2021-11-17T21:36:56.165Z"
   },
   {
    "duration": 4,
    "start_time": "2021-11-17T21:37:16.590Z"
   },
   {
    "duration": 3,
    "start_time": "2021-11-17T21:37:22.702Z"
   },
   {
    "duration": 4,
    "start_time": "2021-11-17T21:38:03.479Z"
   },
   {
    "duration": 3,
    "start_time": "2021-11-17T21:38:08.601Z"
   },
   {
    "duration": 3,
    "start_time": "2021-11-17T21:38:12.928Z"
   },
   {
    "duration": 3,
    "start_time": "2021-11-17T21:38:48.896Z"
   },
   {
    "duration": 2,
    "start_time": "2021-11-17T21:38:49.171Z"
   },
   {
    "duration": 4,
    "start_time": "2021-11-17T21:39:57.889Z"
   },
   {
    "duration": 3,
    "start_time": "2021-11-17T21:39:58.057Z"
   },
   {
    "duration": 3,
    "start_time": "2021-11-17T21:41:20.108Z"
   },
   {
    "duration": 3,
    "start_time": "2021-11-17T21:41:20.629Z"
   },
   {
    "duration": 3,
    "start_time": "2021-11-17T21:42:49.136Z"
   },
   {
    "duration": 3,
    "start_time": "2021-11-17T21:43:15.137Z"
   },
   {
    "duration": 4,
    "start_time": "2021-11-17T21:43:16.766Z"
   },
   {
    "duration": 4,
    "start_time": "2021-11-17T21:43:31.711Z"
   },
   {
    "duration": 3,
    "start_time": "2021-11-17T21:43:36.312Z"
   },
   {
    "duration": 4,
    "start_time": "2021-11-17T21:45:08.825Z"
   },
   {
    "duration": 4,
    "start_time": "2021-11-17T21:45:10.119Z"
   },
   {
    "duration": 4,
    "start_time": "2021-11-17T21:45:13.748Z"
   },
   {
    "duration": 3,
    "start_time": "2021-11-17T21:45:22.219Z"
   },
   {
    "duration": 3,
    "start_time": "2021-11-17T21:45:33.412Z"
   },
   {
    "duration": 2,
    "start_time": "2021-11-17T21:46:01.885Z"
   },
   {
    "duration": 3,
    "start_time": "2021-11-17T21:46:03.628Z"
   },
   {
    "duration": 107,
    "start_time": "2021-11-17T21:47:32.512Z"
   },
   {
    "duration": 103,
    "start_time": "2021-11-17T21:50:36.243Z"
   },
   {
    "duration": 3,
    "start_time": "2021-11-18T06:28:31.440Z"
   },
   {
    "duration": 3,
    "start_time": "2021-11-18T06:29:00.168Z"
   },
   {
    "duration": 3,
    "start_time": "2021-11-18T06:31:27.008Z"
   },
   {
    "duration": 2,
    "start_time": "2021-11-18T06:35:34.288Z"
   },
   {
    "duration": 2,
    "start_time": "2021-11-18T06:38:04.527Z"
   },
   {
    "duration": 2445,
    "start_time": "2024-12-31T01:19:04.606Z"
   },
   {
    "duration": 222,
    "start_time": "2024-12-31T01:19:09.134Z"
   },
   {
    "duration": 224,
    "start_time": "2024-12-31T01:20:14.431Z"
   },
   {
    "duration": 10,
    "start_time": "2024-12-31T01:21:36.942Z"
   },
   {
    "duration": 275,
    "start_time": "2024-12-31T01:22:57.307Z"
   },
   {
    "duration": 6,
    "start_time": "2024-12-31T01:23:21.649Z"
   },
   {
    "duration": 5,
    "start_time": "2024-12-31T01:25:41.438Z"
   },
   {
    "duration": 9,
    "start_time": "2024-12-31T01:34:27.073Z"
   },
   {
    "duration": 6,
    "start_time": "2024-12-31T01:34:57.581Z"
   },
   {
    "duration": 16,
    "start_time": "2024-12-31T03:07:31.494Z"
   },
   {
    "duration": 4,
    "start_time": "2024-12-31T03:08:14.944Z"
   },
   {
    "duration": 10,
    "start_time": "2024-12-31T03:11:01.513Z"
   },
   {
    "duration": 11,
    "start_time": "2024-12-31T03:11:11.657Z"
   },
   {
    "duration": 12,
    "start_time": "2024-12-31T03:11:41.360Z"
   },
   {
    "duration": 15,
    "start_time": "2024-12-31T03:12:06.006Z"
   },
   {
    "duration": 7,
    "start_time": "2024-12-31T03:12:31.364Z"
   },
   {
    "duration": 409,
    "start_time": "2024-12-31T03:14:39.329Z"
   },
   {
    "duration": 42,
    "start_time": "2024-12-31T03:14:57.303Z"
   },
   {
    "duration": 18,
    "start_time": "2024-12-31T03:15:11.535Z"
   },
   {
    "duration": 12,
    "start_time": "2024-12-31T03:15:38.066Z"
   },
   {
    "duration": 5,
    "start_time": "2024-12-31T03:16:07.094Z"
   },
   {
    "duration": 12,
    "start_time": "2024-12-31T03:18:09.600Z"
   },
   {
    "duration": 13,
    "start_time": "2024-12-31T03:18:26.752Z"
   },
   {
    "duration": 7,
    "start_time": "2024-12-31T03:18:49.526Z"
   },
   {
    "duration": 14,
    "start_time": "2024-12-31T03:25:28.299Z"
   },
   {
    "duration": 9,
    "start_time": "2024-12-31T03:28:18.858Z"
   },
   {
    "duration": 5,
    "start_time": "2024-12-31T03:30:11.521Z"
   },
   {
    "duration": 10,
    "start_time": "2024-12-31T03:32:53.861Z"
   },
   {
    "duration": 9,
    "start_time": "2024-12-31T03:33:24.509Z"
   },
   {
    "duration": 14,
    "start_time": "2024-12-31T03:34:38.095Z"
   },
   {
    "duration": 8,
    "start_time": "2024-12-31T03:34:47.469Z"
   },
   {
    "duration": 698,
    "start_time": "2024-12-31T03:35:57.212Z"
   },
   {
    "duration": 150,
    "start_time": "2024-12-31T03:35:57.912Z"
   },
   {
    "duration": 9,
    "start_time": "2024-12-31T03:35:58.064Z"
   },
   {
    "duration": 5,
    "start_time": "2024-12-31T03:35:58.076Z"
   },
   {
    "duration": 7,
    "start_time": "2024-12-31T03:35:58.083Z"
   },
   {
    "duration": 5,
    "start_time": "2024-12-31T03:35:58.092Z"
   },
   {
    "duration": 5,
    "start_time": "2024-12-31T03:35:58.098Z"
   },
   {
    "duration": 41,
    "start_time": "2024-12-31T03:35:58.104Z"
   },
   {
    "duration": 15,
    "start_time": "2024-12-31T03:35:58.146Z"
   },
   {
    "duration": 6,
    "start_time": "2024-12-31T03:35:58.164Z"
   },
   {
    "duration": 18,
    "start_time": "2024-12-31T03:35:58.171Z"
   },
   {
    "duration": 13,
    "start_time": "2024-12-31T03:35:58.190Z"
   },
   {
    "duration": 5,
    "start_time": "2024-12-31T03:35:58.204Z"
   },
   {
    "duration": 10,
    "start_time": "2024-12-31T03:35:58.242Z"
   },
   {
    "duration": 14,
    "start_time": "2024-12-31T03:35:58.253Z"
   },
   {
    "duration": 5,
    "start_time": "2024-12-31T03:35:58.269Z"
   },
   {
    "duration": 14,
    "start_time": "2024-12-31T03:35:58.276Z"
   },
   {
    "duration": 9,
    "start_time": "2024-12-31T03:35:58.291Z"
   },
   {
    "duration": 44,
    "start_time": "2024-12-31T03:35:58.301Z"
   },
   {
    "duration": 4,
    "start_time": "2024-12-31T03:35:58.346Z"
   },
   {
    "duration": 3,
    "start_time": "2024-12-31T03:35:58.351Z"
   },
   {
    "duration": 3,
    "start_time": "2024-12-31T03:35:58.355Z"
   },
   {
    "duration": 2,
    "start_time": "2024-12-31T03:35:58.361Z"
   },
   {
    "duration": 3,
    "start_time": "2024-12-31T03:35:58.365Z"
   },
   {
    "duration": 3,
    "start_time": "2024-12-31T03:35:58.369Z"
   },
   {
    "duration": 3,
    "start_time": "2024-12-31T03:35:58.373Z"
   },
   {
    "duration": 2,
    "start_time": "2024-12-31T03:35:58.378Z"
   },
   {
    "duration": 2,
    "start_time": "2024-12-31T03:35:58.383Z"
   },
   {
    "duration": 2,
    "start_time": "2024-12-31T03:35:58.387Z"
   },
   {
    "duration": 3,
    "start_time": "2024-12-31T03:35:58.391Z"
   },
   {
    "duration": 3,
    "start_time": "2024-12-31T03:35:58.395Z"
   },
   {
    "duration": 2,
    "start_time": "2024-12-31T03:35:58.443Z"
   },
   {
    "duration": 2,
    "start_time": "2024-12-31T03:35:58.447Z"
   },
   {
    "duration": 3,
    "start_time": "2024-12-31T03:35:58.451Z"
   },
   {
    "duration": 19,
    "start_time": "2024-12-31T03:54:50.607Z"
   },
   {
    "duration": 29,
    "start_time": "2024-12-31T03:58:39.273Z"
   },
   {
    "duration": 18,
    "start_time": "2024-12-31T04:01:20.864Z"
   },
   {
    "duration": 1105,
    "start_time": "2024-12-31T04:02:30.652Z"
   },
   {
    "duration": 20,
    "start_time": "2024-12-31T04:02:40.496Z"
   },
   {
    "duration": 16,
    "start_time": "2024-12-31T04:04:00.604Z"
   },
   {
    "duration": 16,
    "start_time": "2024-12-31T04:04:19.316Z"
   },
   {
    "duration": 13,
    "start_time": "2024-12-31T04:05:02.285Z"
   },
   {
    "duration": 4,
    "start_time": "2024-12-31T04:08:20.539Z"
   },
   {
    "duration": 16,
    "start_time": "2024-12-31T04:08:30.824Z"
   },
   {
    "duration": 20,
    "start_time": "2024-12-31T04:24:54.650Z"
   },
   {
    "duration": 18,
    "start_time": "2024-12-31T04:25:14.820Z"
   },
   {
    "duration": 18,
    "start_time": "2024-12-31T04:25:34.408Z"
   },
   {
    "duration": 19,
    "start_time": "2024-12-31T04:27:33.519Z"
   },
   {
    "duration": 16,
    "start_time": "2024-12-31T04:28:48.170Z"
   },
   {
    "duration": 18,
    "start_time": "2024-12-31T04:29:52.108Z"
   },
   {
    "duration": 18,
    "start_time": "2024-12-31T04:35:41.932Z"
   },
   {
    "duration": 18,
    "start_time": "2024-12-31T04:36:11.096Z"
   },
   {
    "duration": 18,
    "start_time": "2024-12-31T04:37:47.684Z"
   },
   {
    "duration": 18,
    "start_time": "2024-12-31T04:38:50.157Z"
   },
   {
    "duration": 19,
    "start_time": "2024-12-31T04:39:32.761Z"
   },
   {
    "duration": 14,
    "start_time": "2024-12-31T04:40:19.581Z"
   },
   {
    "duration": 13,
    "start_time": "2024-12-31T04:40:54.772Z"
   },
   {
    "duration": 15,
    "start_time": "2024-12-31T04:41:52.068Z"
   },
   {
    "duration": 15,
    "start_time": "2024-12-31T04:43:16.648Z"
   },
   {
    "duration": 16,
    "start_time": "2024-12-31T04:43:26.061Z"
   },
   {
    "duration": 14,
    "start_time": "2024-12-31T04:43:40.997Z"
   },
   {
    "duration": 715,
    "start_time": "2024-12-31T04:43:53.908Z"
   },
   {
    "duration": 157,
    "start_time": "2024-12-31T04:43:54.625Z"
   },
   {
    "duration": 13,
    "start_time": "2024-12-31T04:43:54.784Z"
   },
   {
    "duration": 8,
    "start_time": "2024-12-31T04:43:54.800Z"
   },
   {
    "duration": 8,
    "start_time": "2024-12-31T04:43:54.810Z"
   },
   {
    "duration": 22,
    "start_time": "2024-12-31T04:43:54.820Z"
   },
   {
    "duration": 3,
    "start_time": "2024-12-31T04:43:54.844Z"
   },
   {
    "duration": 12,
    "start_time": "2024-12-31T04:43:54.849Z"
   },
   {
    "duration": 15,
    "start_time": "2024-12-31T04:43:54.863Z"
   },
   {
    "duration": 7,
    "start_time": "2024-12-31T04:43:54.880Z"
   },
   {
    "duration": 17,
    "start_time": "2024-12-31T04:43:54.888Z"
   },
   {
    "duration": 44,
    "start_time": "2024-12-31T04:43:54.906Z"
   },
   {
    "duration": 5,
    "start_time": "2024-12-31T04:43:54.951Z"
   },
   {
    "duration": 11,
    "start_time": "2024-12-31T04:43:54.958Z"
   },
   {
    "duration": 13,
    "start_time": "2024-12-31T04:43:54.970Z"
   },
   {
    "duration": 6,
    "start_time": "2024-12-31T04:43:54.985Z"
   },
   {
    "duration": 13,
    "start_time": "2024-12-31T04:43:54.993Z"
   },
   {
    "duration": 41,
    "start_time": "2024-12-31T04:43:55.007Z"
   },
   {
    "duration": 8,
    "start_time": "2024-12-31T04:43:55.050Z"
   },
   {
    "duration": 21,
    "start_time": "2024-12-31T04:43:55.060Z"
   },
   {
    "duration": 18,
    "start_time": "2024-12-31T04:43:55.083Z"
   },
   {
    "duration": 41,
    "start_time": "2024-12-31T04:43:55.102Z"
   },
   {
    "duration": 15,
    "start_time": "2024-12-31T04:43:55.145Z"
   },
   {
    "duration": 3,
    "start_time": "2024-12-31T04:43:55.161Z"
   },
   {
    "duration": 2,
    "start_time": "2024-12-31T04:43:55.165Z"
   },
   {
    "duration": 5,
    "start_time": "2024-12-31T04:43:55.169Z"
   },
   {
    "duration": 4,
    "start_time": "2024-12-31T04:43:55.176Z"
   },
   {
    "duration": 7,
    "start_time": "2024-12-31T04:43:55.183Z"
   },
   {
    "duration": 3,
    "start_time": "2024-12-31T04:43:55.191Z"
   },
   {
    "duration": 2,
    "start_time": "2024-12-31T04:43:55.196Z"
   },
   {
    "duration": 2,
    "start_time": "2024-12-31T04:43:55.200Z"
   },
   {
    "duration": 2,
    "start_time": "2024-12-31T04:43:55.204Z"
   },
   {
    "duration": 3,
    "start_time": "2024-12-31T04:43:55.243Z"
   },
   {
    "duration": 3,
    "start_time": "2024-12-31T04:43:55.247Z"
   },
   {
    "duration": 219,
    "start_time": "2024-12-31T05:06:27.276Z"
   },
   {
    "duration": 17,
    "start_time": "2024-12-31T05:07:39.624Z"
   },
   {
    "duration": 23,
    "start_time": "2024-12-31T05:08:40.429Z"
   },
   {
    "duration": 14,
    "start_time": "2024-12-31T05:09:34.917Z"
   },
   {
    "duration": 17,
    "start_time": "2024-12-31T05:10:44.777Z"
   },
   {
    "duration": 53,
    "start_time": "2024-12-31T05:41:42.841Z"
   },
   {
    "duration": 11,
    "start_time": "2024-12-31T05:54:32.385Z"
   },
   {
    "duration": 392,
    "start_time": "2024-12-31T05:54:56.420Z"
   },
   {
    "duration": 41,
    "start_time": "2024-12-31T05:55:40.137Z"
   },
   {
    "duration": 4,
    "start_time": "2024-12-31T05:57:03.813Z"
   },
   {
    "duration": 104,
    "start_time": "2024-12-31T05:57:09.547Z"
   },
   {
    "duration": 41,
    "start_time": "2024-12-31T05:59:14.669Z"
   },
   {
    "duration": 42,
    "start_time": "2024-12-31T05:59:40.072Z"
   },
   {
    "duration": 745,
    "start_time": "2024-12-31T05:59:50.242Z"
   },
   {
    "duration": 173,
    "start_time": "2024-12-31T05:59:50.989Z"
   },
   {
    "duration": 10,
    "start_time": "2024-12-31T05:59:51.163Z"
   },
   {
    "duration": 6,
    "start_time": "2024-12-31T05:59:51.176Z"
   },
   {
    "duration": 7,
    "start_time": "2024-12-31T05:59:51.184Z"
   },
   {
    "duration": 5,
    "start_time": "2024-12-31T05:59:51.194Z"
   },
   {
    "duration": 4,
    "start_time": "2024-12-31T05:59:51.200Z"
   },
   {
    "duration": 38,
    "start_time": "2024-12-31T05:59:51.206Z"
   },
   {
    "duration": 18,
    "start_time": "2024-12-31T05:59:51.246Z"
   },
   {
    "duration": 7,
    "start_time": "2024-12-31T05:59:51.267Z"
   },
   {
    "duration": 17,
    "start_time": "2024-12-31T05:59:51.275Z"
   },
   {
    "duration": 12,
    "start_time": "2024-12-31T05:59:51.293Z"
   },
   {
    "duration": 5,
    "start_time": "2024-12-31T05:59:51.308Z"
   },
   {
    "duration": 13,
    "start_time": "2024-12-31T05:59:51.342Z"
   },
   {
    "duration": 14,
    "start_time": "2024-12-31T05:59:51.356Z"
   },
   {
    "duration": 6,
    "start_time": "2024-12-31T05:59:51.372Z"
   },
   {
    "duration": 14,
    "start_time": "2024-12-31T05:59:51.379Z"
   },
   {
    "duration": 4,
    "start_time": "2024-12-31T05:59:51.395Z"
   },
   {
    "duration": 45,
    "start_time": "2024-12-31T05:59:51.400Z"
   },
   {
    "duration": 21,
    "start_time": "2024-12-31T05:59:51.447Z"
   },
   {
    "duration": 19,
    "start_time": "2024-12-31T05:59:51.470Z"
   },
   {
    "duration": 13,
    "start_time": "2024-12-31T05:59:51.491Z"
   },
   {
    "duration": 39,
    "start_time": "2024-12-31T05:59:51.505Z"
   },
   {
    "duration": 24,
    "start_time": "2024-12-31T05:59:51.546Z"
   },
   {
    "duration": 15,
    "start_time": "2024-12-31T05:59:51.572Z"
   },
   {
    "duration": 67,
    "start_time": "2024-12-31T05:59:51.589Z"
   },
   {
    "duration": 4,
    "start_time": "2024-12-31T05:59:51.658Z"
   },
   {
    "duration": 2,
    "start_time": "2024-12-31T05:59:51.666Z"
   },
   {
    "duration": 2,
    "start_time": "2024-12-31T05:59:51.670Z"
   },
   {
    "duration": 2,
    "start_time": "2024-12-31T05:59:51.674Z"
   },
   {
    "duration": 3,
    "start_time": "2024-12-31T05:59:51.677Z"
   },
   {
    "duration": 3,
    "start_time": "2024-12-31T05:59:51.681Z"
   },
   {
    "duration": 2,
    "start_time": "2024-12-31T05:59:51.685Z"
   },
   {
    "duration": 2,
    "start_time": "2024-12-31T05:59:51.689Z"
   },
   {
    "duration": 3,
    "start_time": "2024-12-31T06:00:05.962Z"
   },
   {
    "duration": 14,
    "start_time": "2024-12-31T06:01:00.164Z"
   },
   {
    "duration": 20,
    "start_time": "2024-12-31T06:01:54.882Z"
   },
   {
    "duration": 17,
    "start_time": "2024-12-31T06:02:23.090Z"
   },
   {
    "duration": 22,
    "start_time": "2024-12-31T06:02:37.709Z"
   },
   {
    "duration": 17,
    "start_time": "2024-12-31T06:02:45.770Z"
   },
   {
    "duration": 726,
    "start_time": "2024-12-31T06:02:51.825Z"
   },
   {
    "duration": 156,
    "start_time": "2024-12-31T06:02:52.554Z"
   },
   {
    "duration": 8,
    "start_time": "2024-12-31T06:02:52.712Z"
   },
   {
    "duration": 6,
    "start_time": "2024-12-31T06:02:52.723Z"
   },
   {
    "duration": 16,
    "start_time": "2024-12-31T06:02:52.731Z"
   },
   {
    "duration": 5,
    "start_time": "2024-12-31T06:02:52.748Z"
   },
   {
    "duration": 4,
    "start_time": "2024-12-31T06:02:52.754Z"
   },
   {
    "duration": 10,
    "start_time": "2024-12-31T06:02:52.760Z"
   },
   {
    "duration": 13,
    "start_time": "2024-12-31T06:02:52.772Z"
   },
   {
    "duration": 6,
    "start_time": "2024-12-31T06:02:52.789Z"
   },
   {
    "duration": 54,
    "start_time": "2024-12-31T06:02:52.796Z"
   },
   {
    "duration": 12,
    "start_time": "2024-12-31T06:02:52.851Z"
   },
   {
    "duration": 5,
    "start_time": "2024-12-31T06:02:52.865Z"
   },
   {
    "duration": 11,
    "start_time": "2024-12-31T06:02:52.871Z"
   },
   {
    "duration": 13,
    "start_time": "2024-12-31T06:02:52.883Z"
   },
   {
    "duration": 6,
    "start_time": "2024-12-31T06:02:52.897Z"
   },
   {
    "duration": 50,
    "start_time": "2024-12-31T06:02:52.905Z"
   },
   {
    "duration": 19,
    "start_time": "2024-12-31T06:02:52.957Z"
   },
   {
    "duration": 8,
    "start_time": "2024-12-31T06:02:52.978Z"
   },
   {
    "duration": 19,
    "start_time": "2024-12-31T06:02:52.987Z"
   },
   {
    "duration": 44,
    "start_time": "2024-12-31T06:02:53.008Z"
   },
   {
    "duration": 14,
    "start_time": "2024-12-31T06:02:53.053Z"
   },
   {
    "duration": 14,
    "start_time": "2024-12-31T06:02:53.069Z"
   },
   {
    "duration": 22,
    "start_time": "2024-12-31T06:02:53.085Z"
   },
   {
    "duration": 44,
    "start_time": "2024-12-31T06:02:53.108Z"
   },
   {
    "duration": 805,
    "start_time": "2024-12-31T06:02:53.154Z"
   },
   {
    "duration": 0,
    "start_time": "2024-12-31T06:02:53.960Z"
   },
   {
    "duration": 0,
    "start_time": "2024-12-31T06:02:53.962Z"
   },
   {
    "duration": 0,
    "start_time": "2024-12-31T06:02:53.964Z"
   },
   {
    "duration": 0,
    "start_time": "2024-12-31T06:02:53.965Z"
   },
   {
    "duration": 0,
    "start_time": "2024-12-31T06:02:53.966Z"
   },
   {
    "duration": 0,
    "start_time": "2024-12-31T06:02:53.967Z"
   },
   {
    "duration": 0,
    "start_time": "2024-12-31T06:02:53.968Z"
   },
   {
    "duration": 0,
    "start_time": "2024-12-31T06:02:53.970Z"
   },
   {
    "duration": 41,
    "start_time": "2024-12-31T06:04:17.914Z"
   },
   {
    "duration": 42,
    "start_time": "2024-12-31T06:09:02.855Z"
   },
   {
    "duration": 5,
    "start_time": "2024-12-31T06:23:11.457Z"
   },
   {
    "duration": 215,
    "start_time": "2024-12-31T06:23:28.463Z"
   },
   {
    "duration": 206,
    "start_time": "2024-12-31T06:23:50.163Z"
   },
   {
    "duration": 213,
    "start_time": "2024-12-31T06:26:45.221Z"
   },
   {
    "duration": 18,
    "start_time": "2024-12-31T06:32:40.678Z"
   },
   {
    "duration": 207,
    "start_time": "2024-12-31T06:32:54.046Z"
   },
   {
    "duration": 176,
    "start_time": "2024-12-31T06:34:14.347Z"
   },
   {
    "duration": 45,
    "start_time": "2024-12-31T06:43:01.433Z"
   },
   {
    "duration": 156,
    "start_time": "2024-12-31T06:44:00.369Z"
   },
   {
    "duration": 140,
    "start_time": "2024-12-31T06:45:17.942Z"
   },
   {
    "duration": 147,
    "start_time": "2024-12-31T06:45:34.305Z"
   },
   {
    "duration": 161,
    "start_time": "2024-12-31T06:46:07.823Z"
   },
   {
    "duration": 5,
    "start_time": "2024-12-31T06:50:23.508Z"
   },
   {
    "duration": 376,
    "start_time": "2024-12-31T06:51:54.957Z"
   },
   {
    "duration": 160,
    "start_time": "2024-12-31T06:52:12.725Z"
   },
   {
    "duration": 171,
    "start_time": "2024-12-31T06:52:40.655Z"
   },
   {
    "duration": 149,
    "start_time": "2024-12-31T06:53:14.339Z"
   },
   {
    "duration": 825,
    "start_time": "2024-12-31T06:55:48.949Z"
   },
   {
    "duration": 156,
    "start_time": "2024-12-31T06:55:49.777Z"
   },
   {
    "duration": 11,
    "start_time": "2024-12-31T06:55:49.934Z"
   },
   {
    "duration": 6,
    "start_time": "2024-12-31T06:55:49.948Z"
   },
   {
    "duration": 8,
    "start_time": "2024-12-31T06:55:49.956Z"
   },
   {
    "duration": 6,
    "start_time": "2024-12-31T06:55:49.965Z"
   },
   {
    "duration": 4,
    "start_time": "2024-12-31T06:55:49.972Z"
   },
   {
    "duration": 11,
    "start_time": "2024-12-31T06:55:49.977Z"
   },
   {
    "duration": 14,
    "start_time": "2024-12-31T06:55:49.990Z"
   },
   {
    "duration": 7,
    "start_time": "2024-12-31T06:55:50.044Z"
   },
   {
    "duration": 17,
    "start_time": "2024-12-31T06:55:50.052Z"
   },
   {
    "duration": 11,
    "start_time": "2024-12-31T06:55:50.071Z"
   },
   {
    "duration": 5,
    "start_time": "2024-12-31T06:55:50.084Z"
   },
   {
    "duration": 10,
    "start_time": "2024-12-31T06:55:50.090Z"
   },
   {
    "duration": 46,
    "start_time": "2024-12-31T06:55:50.102Z"
   },
   {
    "duration": 6,
    "start_time": "2024-12-31T06:55:50.150Z"
   },
   {
    "duration": 15,
    "start_time": "2024-12-31T06:55:50.157Z"
   },
   {
    "duration": 16,
    "start_time": "2024-12-31T06:55:50.173Z"
   },
   {
    "duration": 8,
    "start_time": "2024-12-31T06:55:50.190Z"
   },
   {
    "duration": 46,
    "start_time": "2024-12-31T06:55:50.200Z"
   },
   {
    "duration": 18,
    "start_time": "2024-12-31T06:55:50.248Z"
   },
   {
    "duration": 13,
    "start_time": "2024-12-31T06:55:50.268Z"
   },
   {
    "duration": 15,
    "start_time": "2024-12-31T06:55:50.282Z"
   },
   {
    "duration": 46,
    "start_time": "2024-12-31T06:55:50.298Z"
   },
   {
    "duration": 17,
    "start_time": "2024-12-31T06:55:50.346Z"
   },
   {
    "duration": 44,
    "start_time": "2024-12-31T06:55:50.365Z"
   },
   {
    "duration": 211,
    "start_time": "2024-12-31T06:55:50.411Z"
   },
   {
    "duration": 164,
    "start_time": "2024-12-31T06:55:50.626Z"
   },
   {
    "duration": 3,
    "start_time": "2024-12-31T06:55:50.791Z"
   },
   {
    "duration": 2,
    "start_time": "2024-12-31T06:55:50.796Z"
   },
   {
    "duration": 2,
    "start_time": "2024-12-31T06:55:50.800Z"
   },
   {
    "duration": 3,
    "start_time": "2024-12-31T06:55:50.803Z"
   },
   {
    "duration": 3,
    "start_time": "2024-12-31T06:55:50.807Z"
   },
   {
    "duration": 3,
    "start_time": "2024-12-31T06:55:50.811Z"
   },
   {
    "duration": 178,
    "start_time": "2024-12-31T06:56:39.030Z"
   },
   {
    "duration": 131,
    "start_time": "2024-12-31T07:02:43.758Z"
   },
   {
    "duration": 180,
    "start_time": "2024-12-31T07:03:09.383Z"
   },
   {
    "duration": 535,
    "start_time": "2024-12-31T07:03:36.351Z"
   },
   {
    "duration": 131,
    "start_time": "2024-12-31T07:04:34.267Z"
   },
   {
    "duration": 152,
    "start_time": "2024-12-31T07:10:58.550Z"
   },
   {
    "duration": 149,
    "start_time": "2024-12-31T07:11:42.626Z"
   },
   {
    "duration": 209,
    "start_time": "2024-12-31T07:11:50.755Z"
   },
   {
    "duration": 147,
    "start_time": "2024-12-31T07:11:56.404Z"
   },
   {
    "duration": 154,
    "start_time": "2024-12-31T07:12:23.738Z"
   },
   {
    "duration": 5,
    "start_time": "2024-12-31T07:23:35.297Z"
   },
   {
    "duration": 4,
    "start_time": "2024-12-31T07:23:57.150Z"
   },
   {
    "duration": 15,
    "start_time": "2024-12-31T07:27:46.594Z"
   },
   {
    "duration": 13,
    "start_time": "2024-12-31T07:28:03.545Z"
   },
   {
    "duration": 93,
    "start_time": "2024-12-31T07:32:42.902Z"
   },
   {
    "duration": 705,
    "start_time": "2024-12-31T07:34:25.788Z"
   },
   {
    "duration": 154,
    "start_time": "2024-12-31T07:34:26.496Z"
   },
   {
    "duration": 10,
    "start_time": "2024-12-31T07:34:26.652Z"
   },
   {
    "duration": 5,
    "start_time": "2024-12-31T07:34:26.665Z"
   },
   {
    "duration": 8,
    "start_time": "2024-12-31T07:34:26.672Z"
   },
   {
    "duration": 5,
    "start_time": "2024-12-31T07:34:26.682Z"
   },
   {
    "duration": 4,
    "start_time": "2024-12-31T07:34:26.688Z"
   },
   {
    "duration": 10,
    "start_time": "2024-12-31T07:34:26.694Z"
   },
   {
    "duration": 46,
    "start_time": "2024-12-31T07:34:26.706Z"
   },
   {
    "duration": 7,
    "start_time": "2024-12-31T07:34:26.755Z"
   },
   {
    "duration": 17,
    "start_time": "2024-12-31T07:34:26.764Z"
   },
   {
    "duration": 11,
    "start_time": "2024-12-31T07:34:26.782Z"
   },
   {
    "duration": 5,
    "start_time": "2024-12-31T07:34:26.795Z"
   },
   {
    "duration": 10,
    "start_time": "2024-12-31T07:34:26.802Z"
   },
   {
    "duration": 12,
    "start_time": "2024-12-31T07:34:26.844Z"
   },
   {
    "duration": 5,
    "start_time": "2024-12-31T07:34:26.858Z"
   },
   {
    "duration": 13,
    "start_time": "2024-12-31T07:34:26.865Z"
   },
   {
    "duration": 14,
    "start_time": "2024-12-31T07:34:26.880Z"
   },
   {
    "duration": 9,
    "start_time": "2024-12-31T07:34:26.896Z"
   },
   {
    "duration": 51,
    "start_time": "2024-12-31T07:34:26.907Z"
   },
   {
    "duration": 18,
    "start_time": "2024-12-31T07:34:26.960Z"
   },
   {
    "duration": 13,
    "start_time": "2024-12-31T07:34:26.979Z"
   },
   {
    "duration": 14,
    "start_time": "2024-12-31T07:34:26.993Z"
   },
   {
    "duration": 46,
    "start_time": "2024-12-31T07:34:27.009Z"
   },
   {
    "duration": 16,
    "start_time": "2024-12-31T07:34:27.057Z"
   },
   {
    "duration": 41,
    "start_time": "2024-12-31T07:34:27.074Z"
   },
   {
    "duration": 198,
    "start_time": "2024-12-31T07:34:27.116Z"
   },
   {
    "duration": 162,
    "start_time": "2024-12-31T07:34:27.318Z"
   },
   {
    "duration": 4,
    "start_time": "2024-12-31T07:34:27.482Z"
   },
   {
    "duration": 103,
    "start_time": "2024-12-31T07:34:27.488Z"
   },
   {
    "duration": 2,
    "start_time": "2024-12-31T07:34:27.593Z"
   },
   {
    "duration": 2,
    "start_time": "2024-12-31T07:34:27.597Z"
   },
   {
    "duration": 2,
    "start_time": "2024-12-31T07:34:27.601Z"
   },
   {
    "duration": 2,
    "start_time": "2024-12-31T07:34:27.605Z"
   },
   {
    "duration": 85,
    "start_time": "2024-12-31T07:35:35.022Z"
   },
   {
    "duration": 148,
    "start_time": "2024-12-31T07:38:39.034Z"
   },
   {
    "duration": 149,
    "start_time": "2024-12-31T07:48:46.630Z"
   },
   {
    "duration": 138,
    "start_time": "2024-12-31T07:49:02.850Z"
   },
   {
    "duration": 154,
    "start_time": "2024-12-31T07:49:28.566Z"
   },
   {
    "duration": 215,
    "start_time": "2024-12-31T07:50:33.598Z"
   },
   {
    "duration": 86,
    "start_time": "2024-12-31T07:50:38.707Z"
   },
   {
    "duration": 151,
    "start_time": "2024-12-31T07:55:49.702Z"
   },
   {
    "duration": 135,
    "start_time": "2024-12-31T07:56:03.809Z"
   },
   {
    "duration": 193,
    "start_time": "2024-12-31T07:56:12.594Z"
   },
   {
    "duration": 4,
    "start_time": "2024-12-31T07:59:13.543Z"
   },
   {
    "duration": 94,
    "start_time": "2024-12-31T08:00:40.919Z"
   },
   {
    "duration": 146,
    "start_time": "2024-12-31T08:08:49.232Z"
   },
   {
    "duration": 4,
    "start_time": "2024-12-31T08:10:29.997Z"
   },
   {
    "duration": 99,
    "start_time": "2024-12-31T08:11:30.607Z"
   },
   {
    "duration": 755,
    "start_time": "2024-12-31T08:18:34.849Z"
   },
   {
    "duration": 152,
    "start_time": "2024-12-31T08:18:35.607Z"
   },
   {
    "duration": 9,
    "start_time": "2024-12-31T08:18:35.761Z"
   },
   {
    "duration": 6,
    "start_time": "2024-12-31T08:18:35.772Z"
   },
   {
    "duration": 8,
    "start_time": "2024-12-31T08:18:35.780Z"
   },
   {
    "duration": 4,
    "start_time": "2024-12-31T08:18:35.790Z"
   },
   {
    "duration": 4,
    "start_time": "2024-12-31T08:18:35.796Z"
   },
   {
    "duration": 44,
    "start_time": "2024-12-31T08:18:35.801Z"
   },
   {
    "duration": 14,
    "start_time": "2024-12-31T08:18:35.848Z"
   },
   {
    "duration": 6,
    "start_time": "2024-12-31T08:18:35.865Z"
   },
   {
    "duration": 16,
    "start_time": "2024-12-31T08:18:35.873Z"
   },
   {
    "duration": 10,
    "start_time": "2024-12-31T08:18:35.891Z"
   },
   {
    "duration": 5,
    "start_time": "2024-12-31T08:18:35.903Z"
   },
   {
    "duration": 42,
    "start_time": "2024-12-31T08:18:35.910Z"
   },
   {
    "duration": 14,
    "start_time": "2024-12-31T08:18:35.953Z"
   },
   {
    "duration": 6,
    "start_time": "2024-12-31T08:18:35.968Z"
   },
   {
    "duration": 14,
    "start_time": "2024-12-31T08:18:35.976Z"
   },
   {
    "duration": 15,
    "start_time": "2024-12-31T08:18:35.991Z"
   },
   {
    "duration": 42,
    "start_time": "2024-12-31T08:18:36.007Z"
   },
   {
    "duration": 20,
    "start_time": "2024-12-31T08:18:36.051Z"
   },
   {
    "duration": 21,
    "start_time": "2024-12-31T08:18:36.073Z"
   },
   {
    "duration": 12,
    "start_time": "2024-12-31T08:18:36.096Z"
   },
   {
    "duration": 39,
    "start_time": "2024-12-31T08:18:36.110Z"
   },
   {
    "duration": 22,
    "start_time": "2024-12-31T08:18:36.151Z"
   },
   {
    "duration": 16,
    "start_time": "2024-12-31T08:18:36.174Z"
   },
   {
    "duration": 66,
    "start_time": "2024-12-31T08:18:36.191Z"
   },
   {
    "duration": 179,
    "start_time": "2024-12-31T08:18:36.258Z"
   },
   {
    "duration": 156,
    "start_time": "2024-12-31T08:18:36.444Z"
   },
   {
    "duration": 4,
    "start_time": "2024-12-31T08:18:36.602Z"
   },
   {
    "duration": 111,
    "start_time": "2024-12-31T08:18:36.608Z"
   },
   {
    "duration": 142,
    "start_time": "2024-12-31T08:18:36.721Z"
   },
   {
    "duration": 5,
    "start_time": "2024-12-31T08:18:36.865Z"
   },
   {
    "duration": 152,
    "start_time": "2024-12-31T08:18:36.872Z"
   },
   {
    "duration": 155,
    "start_time": "2024-12-31T08:18:37.025Z"
   },
   {
    "duration": 4,
    "start_time": "2024-12-31T08:18:37.181Z"
   },
   {
    "duration": 108,
    "start_time": "2024-12-31T08:18:37.187Z"
   },
   {
    "duration": 165,
    "start_time": "2024-12-31T08:18:37.297Z"
   },
   {
    "duration": 2,
    "start_time": "2024-12-31T08:18:37.463Z"
   },
   {
    "duration": 2,
    "start_time": "2024-12-31T08:18:37.467Z"
   },
   {
    "duration": 169,
    "start_time": "2024-12-31T08:21:20.725Z"
   },
   {
    "duration": 144,
    "start_time": "2024-12-31T08:23:33.943Z"
   },
   {
    "duration": 153,
    "start_time": "2024-12-31T08:23:47.433Z"
   },
   {
    "duration": 190,
    "start_time": "2024-12-31T08:24:22.805Z"
   },
   {
    "duration": 143,
    "start_time": "2024-12-31T08:24:34.660Z"
   },
   {
    "duration": 5,
    "start_time": "2024-12-31T08:26:30.973Z"
   },
   {
    "duration": 92,
    "start_time": "2024-12-31T08:27:27.861Z"
   },
   {
    "duration": 5,
    "start_time": "2024-12-31T08:37:50.202Z"
   },
   {
    "duration": 266,
    "start_time": "2024-12-31T08:51:44.057Z"
   },
   {
    "duration": 3,
    "start_time": "2024-12-31T08:51:52.191Z"
   },
   {
    "duration": 14,
    "start_time": "2024-12-31T08:52:36.070Z"
   },
   {
    "duration": 3,
    "start_time": "2024-12-31T08:52:52.510Z"
   },
   {
    "duration": 3,
    "start_time": "2024-12-31T08:52:56.998Z"
   },
   {
    "duration": 393,
    "start_time": "2024-12-31T08:56:14.150Z"
   },
   {
    "duration": 18,
    "start_time": "2024-12-31T09:20:28.014Z"
   },
   {
    "duration": 53,
    "start_time": "2024-12-31T09:21:29.395Z"
   },
   {
    "duration": 19,
    "start_time": "2024-12-31T09:22:07.125Z"
   },
   {
    "duration": 53,
    "start_time": "2024-12-31T09:24:11.331Z"
   },
   {
    "duration": 21,
    "start_time": "2024-12-31T09:25:09.633Z"
   },
   {
    "duration": 745,
    "start_time": "2024-12-31T09:25:28.425Z"
   },
   {
    "duration": 170,
    "start_time": "2024-12-31T09:25:29.173Z"
   },
   {
    "duration": 9,
    "start_time": "2024-12-31T09:25:29.345Z"
   },
   {
    "duration": 6,
    "start_time": "2024-12-31T09:25:29.356Z"
   },
   {
    "duration": 8,
    "start_time": "2024-12-31T09:25:29.363Z"
   },
   {
    "duration": 4,
    "start_time": "2024-12-31T09:25:29.374Z"
   },
   {
    "duration": 5,
    "start_time": "2024-12-31T09:25:29.380Z"
   },
   {
    "duration": 11,
    "start_time": "2024-12-31T09:25:29.387Z"
   },
   {
    "duration": 3,
    "start_time": "2024-12-31T09:25:29.400Z"
   },
   {
    "duration": 14,
    "start_time": "2024-12-31T09:25:29.442Z"
   },
   {
    "duration": 7,
    "start_time": "2024-12-31T09:25:29.458Z"
   },
   {
    "duration": 17,
    "start_time": "2024-12-31T09:25:29.468Z"
   },
   {
    "duration": 12,
    "start_time": "2024-12-31T09:25:29.487Z"
   },
   {
    "duration": 5,
    "start_time": "2024-12-31T09:25:29.500Z"
   },
   {
    "duration": 43,
    "start_time": "2024-12-31T09:25:29.507Z"
   },
   {
    "duration": 13,
    "start_time": "2024-12-31T09:25:29.552Z"
   },
   {
    "duration": 7,
    "start_time": "2024-12-31T09:25:29.566Z"
   },
   {
    "duration": 14,
    "start_time": "2024-12-31T09:25:29.574Z"
   },
   {
    "duration": 15,
    "start_time": "2024-12-31T09:25:29.589Z"
   },
   {
    "duration": 43,
    "start_time": "2024-12-31T09:25:29.606Z"
   },
   {
    "duration": 20,
    "start_time": "2024-12-31T09:25:29.650Z"
   },
   {
    "duration": 19,
    "start_time": "2024-12-31T09:25:29.671Z"
   },
   {
    "duration": 13,
    "start_time": "2024-12-31T09:25:29.692Z"
   },
   {
    "duration": 42,
    "start_time": "2024-12-31T09:25:29.706Z"
   },
   {
    "duration": 22,
    "start_time": "2024-12-31T09:25:29.750Z"
   },
   {
    "duration": 15,
    "start_time": "2024-12-31T09:25:29.773Z"
   },
   {
    "duration": 60,
    "start_time": "2024-12-31T09:25:29.790Z"
   },
   {
    "duration": 174,
    "start_time": "2024-12-31T09:25:29.855Z"
   },
   {
    "duration": 161,
    "start_time": "2024-12-31T09:25:30.031Z"
   },
   {
    "duration": 5,
    "start_time": "2024-12-31T09:25:30.193Z"
   },
   {
    "duration": 107,
    "start_time": "2024-12-31T09:25:30.199Z"
   },
   {
    "duration": 141,
    "start_time": "2024-12-31T09:25:30.308Z"
   },
   {
    "duration": 4,
    "start_time": "2024-12-31T09:25:30.451Z"
   },
   {
    "duration": 171,
    "start_time": "2024-12-31T09:25:30.457Z"
   },
   {
    "duration": 170,
    "start_time": "2024-12-31T09:25:30.630Z"
   },
   {
    "duration": 4,
    "start_time": "2024-12-31T09:25:30.802Z"
   },
   {
    "duration": 113,
    "start_time": "2024-12-31T09:25:30.808Z"
   },
   {
    "duration": 174,
    "start_time": "2024-12-31T09:25:30.923Z"
   },
   {
    "duration": 155,
    "start_time": "2024-12-31T09:25:31.100Z"
   },
   {
    "duration": 7,
    "start_time": "2024-12-31T09:25:31.256Z"
   },
   {
    "duration": 103,
    "start_time": "2024-12-31T09:25:31.264Z"
   },
   {
    "duration": 4,
    "start_time": "2024-12-31T09:25:31.369Z"
   },
   {
    "duration": 18,
    "start_time": "2024-12-31T09:25:31.375Z"
   },
   {
    "duration": 626,
    "start_time": "2024-12-31T09:25:31.394Z"
   },
   {
    "duration": 18,
    "start_time": "2024-12-31T09:30:15.154Z"
   },
   {
    "duration": 6,
    "start_time": "2024-12-31T09:30:37.716Z"
   },
   {
    "duration": 9,
    "start_time": "2024-12-31T09:31:13.610Z"
   },
   {
    "duration": 8,
    "start_time": "2024-12-31T09:33:13.572Z"
   },
   {
    "duration": 6,
    "start_time": "2024-12-31T09:33:20.958Z"
   },
   {
    "duration": 738,
    "start_time": "2024-12-31T09:33:52.133Z"
   },
   {
    "duration": 156,
    "start_time": "2024-12-31T09:33:52.874Z"
   },
   {
    "duration": 9,
    "start_time": "2024-12-31T09:33:53.032Z"
   },
   {
    "duration": 6,
    "start_time": "2024-12-31T09:33:53.043Z"
   },
   {
    "duration": 9,
    "start_time": "2024-12-31T09:33:53.050Z"
   },
   {
    "duration": 5,
    "start_time": "2024-12-31T09:33:53.060Z"
   },
   {
    "duration": 5,
    "start_time": "2024-12-31T09:33:53.067Z"
   },
   {
    "duration": 10,
    "start_time": "2024-12-31T09:33:53.073Z"
   },
   {
    "duration": 3,
    "start_time": "2024-12-31T09:33:53.086Z"
   },
   {
    "duration": 51,
    "start_time": "2024-12-31T09:33:53.093Z"
   },
   {
    "duration": 6,
    "start_time": "2024-12-31T09:33:53.146Z"
   },
   {
    "duration": 17,
    "start_time": "2024-12-31T09:33:53.154Z"
   },
   {
    "duration": 11,
    "start_time": "2024-12-31T09:33:53.172Z"
   },
   {
    "duration": 5,
    "start_time": "2024-12-31T09:33:53.185Z"
   },
   {
    "duration": 10,
    "start_time": "2024-12-31T09:33:53.192Z"
   },
   {
    "duration": 46,
    "start_time": "2024-12-31T09:33:53.203Z"
   },
   {
    "duration": 5,
    "start_time": "2024-12-31T09:33:53.252Z"
   },
   {
    "duration": 12,
    "start_time": "2024-12-31T09:33:53.260Z"
   },
   {
    "duration": 14,
    "start_time": "2024-12-31T09:33:53.274Z"
   },
   {
    "duration": 7,
    "start_time": "2024-12-31T09:33:53.290Z"
   },
   {
    "duration": 51,
    "start_time": "2024-12-31T09:33:53.301Z"
   },
   {
    "duration": 19,
    "start_time": "2024-12-31T09:33:53.353Z"
   },
   {
    "duration": 13,
    "start_time": "2024-12-31T09:33:53.373Z"
   },
   {
    "duration": 14,
    "start_time": "2024-12-31T09:33:53.388Z"
   },
   {
    "duration": 44,
    "start_time": "2024-12-31T09:33:53.404Z"
   },
   {
    "duration": 16,
    "start_time": "2024-12-31T09:33:53.450Z"
   },
   {
    "duration": 40,
    "start_time": "2024-12-31T09:33:53.468Z"
   },
   {
    "duration": 190,
    "start_time": "2024-12-31T09:33:53.512Z"
   },
   {
    "duration": 159,
    "start_time": "2024-12-31T09:33:53.703Z"
   },
   {
    "duration": 4,
    "start_time": "2024-12-31T09:33:53.864Z"
   },
   {
    "duration": 110,
    "start_time": "2024-12-31T09:33:53.870Z"
   },
   {
    "duration": 136,
    "start_time": "2024-12-31T09:33:53.982Z"
   },
   {
    "duration": 5,
    "start_time": "2024-12-31T09:33:54.120Z"
   },
   {
    "duration": 153,
    "start_time": "2024-12-31T09:33:54.126Z"
   },
   {
    "duration": 155,
    "start_time": "2024-12-31T09:33:54.281Z"
   },
   {
    "duration": 10,
    "start_time": "2024-12-31T09:33:54.438Z"
   },
   {
    "duration": 105,
    "start_time": "2024-12-31T09:33:54.449Z"
   },
   {
    "duration": 175,
    "start_time": "2024-12-31T09:33:54.556Z"
   },
   {
    "duration": 159,
    "start_time": "2024-12-31T09:33:54.733Z"
   },
   {
    "duration": 4,
    "start_time": "2024-12-31T09:33:54.894Z"
   },
   {
    "duration": 104,
    "start_time": "2024-12-31T09:33:54.900Z"
   },
   {
    "duration": 5,
    "start_time": "2024-12-31T09:33:55.006Z"
   },
   {
    "duration": 32,
    "start_time": "2024-12-31T09:33:55.012Z"
   },
   {
    "duration": 5,
    "start_time": "2024-12-31T09:33:55.046Z"
   },
   {
    "duration": 6,
    "start_time": "2024-12-31T09:37:03.558Z"
   },
   {
    "duration": 6,
    "start_time": "2024-12-31T09:37:19.339Z"
   },
   {
    "duration": 6,
    "start_time": "2024-12-31T09:37:26.671Z"
   },
   {
    "duration": 10,
    "start_time": "2024-12-31T09:37:34.039Z"
   },
   {
    "duration": 7,
    "start_time": "2024-12-31T09:38:23.773Z"
   },
   {
    "duration": 721,
    "start_time": "2024-12-31T09:52:08.388Z"
   },
   {
    "duration": 159,
    "start_time": "2024-12-31T09:52:09.112Z"
   },
   {
    "duration": 11,
    "start_time": "2024-12-31T09:52:09.273Z"
   },
   {
    "duration": 6,
    "start_time": "2024-12-31T09:52:09.288Z"
   },
   {
    "duration": 8,
    "start_time": "2024-12-31T09:52:09.296Z"
   },
   {
    "duration": 6,
    "start_time": "2024-12-31T09:52:09.306Z"
   },
   {
    "duration": 4,
    "start_time": "2024-12-31T09:52:09.313Z"
   },
   {
    "duration": 34,
    "start_time": "2024-12-31T09:52:09.318Z"
   },
   {
    "duration": 4,
    "start_time": "2024-12-31T09:52:09.353Z"
   },
   {
    "duration": 14,
    "start_time": "2024-12-31T09:52:09.360Z"
   },
   {
    "duration": 7,
    "start_time": "2024-12-31T09:52:09.376Z"
   },
   {
    "duration": 17,
    "start_time": "2024-12-31T09:52:09.384Z"
   },
   {
    "duration": 41,
    "start_time": "2024-12-31T09:52:09.402Z"
   },
   {
    "duration": 5,
    "start_time": "2024-12-31T09:52:09.445Z"
   },
   {
    "duration": 11,
    "start_time": "2024-12-31T09:52:09.451Z"
   },
   {
    "duration": 12,
    "start_time": "2024-12-31T09:52:09.464Z"
   },
   {
    "duration": 6,
    "start_time": "2024-12-31T09:52:09.478Z"
   },
   {
    "duration": 13,
    "start_time": "2024-12-31T09:52:09.485Z"
   },
   {
    "duration": 53,
    "start_time": "2024-12-31T09:52:09.500Z"
   },
   {
    "duration": 8,
    "start_time": "2024-12-31T09:52:09.555Z"
   },
   {
    "duration": 18,
    "start_time": "2024-12-31T09:52:09.564Z"
   },
   {
    "duration": 18,
    "start_time": "2024-12-31T09:52:09.583Z"
   },
   {
    "duration": 40,
    "start_time": "2024-12-31T09:52:09.603Z"
   },
   {
    "duration": 16,
    "start_time": "2024-12-31T09:52:09.644Z"
   },
   {
    "duration": 23,
    "start_time": "2024-12-31T09:52:09.661Z"
   },
   {
    "duration": 14,
    "start_time": "2024-12-31T09:52:09.686Z"
   },
   {
    "duration": 65,
    "start_time": "2024-12-31T09:52:09.702Z"
   },
   {
    "duration": 180,
    "start_time": "2024-12-31T09:52:09.771Z"
   },
   {
    "duration": 161,
    "start_time": "2024-12-31T09:52:09.952Z"
   },
   {
    "duration": 4,
    "start_time": "2024-12-31T09:52:10.115Z"
   },
   {
    "duration": 105,
    "start_time": "2024-12-31T09:52:10.121Z"
   },
   {
    "duration": 152,
    "start_time": "2024-12-31T09:52:10.228Z"
   },
   {
    "duration": 5,
    "start_time": "2024-12-31T09:52:10.381Z"
   },
   {
    "duration": 161,
    "start_time": "2024-12-31T09:52:10.388Z"
   },
   {
    "duration": 161,
    "start_time": "2024-12-31T09:52:10.551Z"
   },
   {
    "duration": 5,
    "start_time": "2024-12-31T09:52:10.713Z"
   },
   {
    "duration": 108,
    "start_time": "2024-12-31T09:52:10.720Z"
   },
   {
    "duration": 180,
    "start_time": "2024-12-31T09:52:10.830Z"
   },
   {
    "duration": 157,
    "start_time": "2024-12-31T09:52:11.011Z"
   },
   {
    "duration": 4,
    "start_time": "2024-12-31T09:52:11.170Z"
   },
   {
    "duration": 111,
    "start_time": "2024-12-31T09:52:11.176Z"
   },
   {
    "duration": 3,
    "start_time": "2024-12-31T09:52:11.289Z"
   },
   {
    "duration": 17,
    "start_time": "2024-12-31T09:52:11.294Z"
   },
   {
    "duration": 7,
    "start_time": "2024-12-31T09:52:11.314Z"
   },
   {
    "duration": 2431,
    "start_time": "2024-12-31T09:53:25.483Z"
   },
   {
    "duration": 216,
    "start_time": "2024-12-31T09:53:27.916Z"
   },
   {
    "duration": 9,
    "start_time": "2024-12-31T09:53:28.134Z"
   },
   {
    "duration": 6,
    "start_time": "2024-12-31T09:53:28.146Z"
   },
   {
    "duration": 8,
    "start_time": "2024-12-31T09:53:28.153Z"
   },
   {
    "duration": 5,
    "start_time": "2024-12-31T09:53:28.162Z"
   },
   {
    "duration": 4,
    "start_time": "2024-12-31T09:53:28.169Z"
   },
   {
    "duration": 12,
    "start_time": "2024-12-31T09:53:28.174Z"
   },
   {
    "duration": 36,
    "start_time": "2024-12-31T09:53:28.188Z"
   },
   {
    "duration": 16,
    "start_time": "2024-12-31T09:53:28.227Z"
   },
   {
    "duration": 8,
    "start_time": "2024-12-31T09:53:28.245Z"
   },
   {
    "duration": 18,
    "start_time": "2024-12-31T09:53:28.254Z"
   },
   {
    "duration": 11,
    "start_time": "2024-12-31T09:53:28.273Z"
   },
   {
    "duration": 5,
    "start_time": "2024-12-31T09:53:28.286Z"
   },
   {
    "duration": 11,
    "start_time": "2024-12-31T09:53:28.325Z"
   },
   {
    "duration": 13,
    "start_time": "2024-12-31T09:53:28.338Z"
   },
   {
    "duration": 6,
    "start_time": "2024-12-31T09:53:28.353Z"
   },
   {
    "duration": 13,
    "start_time": "2024-12-31T09:53:28.360Z"
   },
   {
    "duration": 14,
    "start_time": "2024-12-31T09:53:28.375Z"
   },
   {
    "duration": 40,
    "start_time": "2024-12-31T09:53:28.391Z"
   },
   {
    "duration": 18,
    "start_time": "2024-12-31T09:53:28.432Z"
   },
   {
    "duration": 19,
    "start_time": "2024-12-31T09:53:28.452Z"
   },
   {
    "duration": 12,
    "start_time": "2024-12-31T09:53:28.473Z"
   },
   {
    "duration": 44,
    "start_time": "2024-12-31T09:53:28.487Z"
   },
   {
    "duration": 23,
    "start_time": "2024-12-31T09:53:28.532Z"
   },
   {
    "duration": 17,
    "start_time": "2024-12-31T09:53:28.557Z"
   },
   {
    "duration": 63,
    "start_time": "2024-12-31T09:53:28.575Z"
   },
   {
    "duration": 184,
    "start_time": "2024-12-31T09:53:28.642Z"
   },
   {
    "duration": 159,
    "start_time": "2024-12-31T09:53:28.828Z"
   },
   {
    "duration": 6,
    "start_time": "2024-12-31T09:53:28.988Z"
   },
   {
    "duration": 112,
    "start_time": "2024-12-31T09:53:28.995Z"
   },
   {
    "duration": 138,
    "start_time": "2024-12-31T09:53:29.109Z"
   },
   {
    "duration": 4,
    "start_time": "2024-12-31T09:53:29.249Z"
   },
   {
    "duration": 105,
    "start_time": "2024-12-31T09:53:29.255Z"
   },
   {
    "duration": 160,
    "start_time": "2024-12-31T09:53:29.361Z"
   },
   {
    "duration": 4,
    "start_time": "2024-12-31T09:53:29.524Z"
   },
   {
    "duration": 103,
    "start_time": "2024-12-31T09:53:29.530Z"
   },
   {
    "duration": 233,
    "start_time": "2024-12-31T09:53:29.635Z"
   },
   {
    "duration": 155,
    "start_time": "2024-12-31T09:53:29.870Z"
   },
   {
    "duration": 5,
    "start_time": "2024-12-31T09:53:30.027Z"
   },
   {
    "duration": 105,
    "start_time": "2024-12-31T09:53:30.034Z"
   },
   {
    "duration": 5,
    "start_time": "2024-12-31T09:53:30.141Z"
   },
   {
    "duration": 19,
    "start_time": "2024-12-31T09:53:30.147Z"
   },
   {
    "duration": 6,
    "start_time": "2024-12-31T09:53:30.168Z"
   },
   {
    "duration": 804,
    "start_time": "2024-12-31T12:09:20.750Z"
   },
   {
    "duration": 161,
    "start_time": "2024-12-31T12:09:21.557Z"
   },
   {
    "duration": 10,
    "start_time": "2024-12-31T12:09:21.720Z"
   },
   {
    "duration": 6,
    "start_time": "2024-12-31T12:09:21.732Z"
   },
   {
    "duration": 8,
    "start_time": "2024-12-31T12:09:21.739Z"
   },
   {
    "duration": 5,
    "start_time": "2024-12-31T12:09:21.749Z"
   },
   {
    "duration": 4,
    "start_time": "2024-12-31T12:09:21.756Z"
   },
   {
    "duration": 11,
    "start_time": "2024-12-31T12:09:21.762Z"
   },
   {
    "duration": 50,
    "start_time": "2024-12-31T12:09:21.774Z"
   },
   {
    "duration": 16,
    "start_time": "2024-12-31T12:09:21.829Z"
   },
   {
    "duration": 7,
    "start_time": "2024-12-31T12:09:21.847Z"
   },
   {
    "duration": 17,
    "start_time": "2024-12-31T12:09:21.856Z"
   },
   {
    "duration": 47,
    "start_time": "2024-12-31T12:09:21.877Z"
   },
   {
    "duration": 5,
    "start_time": "2024-12-31T12:09:21.926Z"
   },
   {
    "duration": 11,
    "start_time": "2024-12-31T12:09:21.933Z"
   },
   {
    "duration": 14,
    "start_time": "2024-12-31T12:09:21.945Z"
   },
   {
    "duration": 6,
    "start_time": "2024-12-31T12:09:21.961Z"
   },
   {
    "duration": 14,
    "start_time": "2024-12-31T12:09:21.969Z"
   },
   {
    "duration": 15,
    "start_time": "2024-12-31T12:09:22.024Z"
   },
   {
    "duration": 8,
    "start_time": "2024-12-31T12:09:22.041Z"
   },
   {
    "duration": 18,
    "start_time": "2024-12-31T12:09:22.052Z"
   },
   {
    "duration": 18,
    "start_time": "2024-12-31T12:09:22.072Z"
   },
   {
    "duration": 42,
    "start_time": "2024-12-31T12:09:22.092Z"
   },
   {
    "duration": 15,
    "start_time": "2024-12-31T12:09:22.136Z"
   },
   {
    "duration": 23,
    "start_time": "2024-12-31T12:09:22.153Z"
   },
   {
    "duration": 49,
    "start_time": "2024-12-31T12:09:22.178Z"
   },
   {
    "duration": 50,
    "start_time": "2024-12-31T12:09:22.228Z"
   },
   {
    "duration": 195,
    "start_time": "2024-12-31T12:09:22.283Z"
   },
   {
    "duration": 170,
    "start_time": "2024-12-31T12:09:22.480Z"
   },
   {
    "duration": 5,
    "start_time": "2024-12-31T12:09:22.652Z"
   },
   {
    "duration": 111,
    "start_time": "2024-12-31T12:09:22.659Z"
   },
   {
    "duration": 152,
    "start_time": "2024-12-31T12:09:22.772Z"
   },
   {
    "duration": 5,
    "start_time": "2024-12-31T12:09:22.926Z"
   },
   {
    "duration": 162,
    "start_time": "2024-12-31T12:09:22.933Z"
   },
   {
    "duration": 160,
    "start_time": "2024-12-31T12:09:23.097Z"
   },
   {
    "duration": 5,
    "start_time": "2024-12-31T12:09:23.259Z"
   },
   {
    "duration": 117,
    "start_time": "2024-12-31T12:09:23.266Z"
   },
   {
    "duration": 177,
    "start_time": "2024-12-31T12:09:23.385Z"
   },
   {
    "duration": 162,
    "start_time": "2024-12-31T12:09:23.564Z"
   },
   {
    "duration": 5,
    "start_time": "2024-12-31T12:09:23.728Z"
   },
   {
    "duration": 116,
    "start_time": "2024-12-31T12:09:23.735Z"
   },
   {
    "duration": 5,
    "start_time": "2024-12-31T12:09:23.853Z"
   },
   {
    "duration": 25,
    "start_time": "2024-12-31T12:09:23.859Z"
   },
   {
    "duration": 7,
    "start_time": "2024-12-31T12:09:23.886Z"
   },
   {
    "duration": 14,
    "start_time": "2024-12-31T12:14:08.847Z"
   },
   {
    "duration": 182,
    "start_time": "2025-01-02T01:30:42.629Z"
   },
   {
    "duration": 2936,
    "start_time": "2025-01-02T01:31:05.666Z"
   },
   {
    "duration": 253,
    "start_time": "2025-01-02T01:31:08.604Z"
   },
   {
    "duration": 10,
    "start_time": "2025-01-02T01:31:08.858Z"
   },
   {
    "duration": 6,
    "start_time": "2025-01-02T01:31:08.870Z"
   },
   {
    "duration": 9,
    "start_time": "2025-01-02T01:31:08.877Z"
   },
   {
    "duration": 5,
    "start_time": "2025-01-02T01:31:08.887Z"
   },
   {
    "duration": 10,
    "start_time": "2025-01-02T01:31:08.909Z"
   },
   {
    "duration": 22,
    "start_time": "2025-01-02T01:31:08.929Z"
   },
   {
    "duration": 4,
    "start_time": "2025-01-02T01:31:08.952Z"
   },
   {
    "duration": 16,
    "start_time": "2025-01-02T01:31:08.959Z"
   },
   {
    "duration": 7,
    "start_time": "2025-01-02T01:31:08.977Z"
   },
   {
    "duration": 32,
    "start_time": "2025-01-02T01:31:08.986Z"
   },
   {
    "duration": 13,
    "start_time": "2025-01-02T01:31:09.020Z"
   },
   {
    "duration": 12,
    "start_time": "2025-01-02T01:31:09.035Z"
   },
   {
    "duration": 6,
    "start_time": "2025-01-02T01:31:09.049Z"
   },
   {
    "duration": 12,
    "start_time": "2025-01-02T01:31:09.057Z"
   },
   {
    "duration": 45,
    "start_time": "2025-01-02T01:31:09.070Z"
   },
   {
    "duration": 7,
    "start_time": "2025-01-02T01:31:09.117Z"
   },
   {
    "duration": 14,
    "start_time": "2025-01-02T01:31:09.126Z"
   },
   {
    "duration": 14,
    "start_time": "2025-01-02T01:31:09.142Z"
   },
   {
    "duration": 11,
    "start_time": "2025-01-02T01:31:09.158Z"
   },
   {
    "duration": 62,
    "start_time": "2025-01-02T01:31:09.172Z"
   },
   {
    "duration": 21,
    "start_time": "2025-01-02T01:31:09.245Z"
   },
   {
    "duration": 14,
    "start_time": "2025-01-02T01:31:09.268Z"
   },
   {
    "duration": 15,
    "start_time": "2025-01-02T01:31:09.284Z"
   },
   {
    "duration": 43,
    "start_time": "2025-01-02T01:31:09.301Z"
   },
   {
    "duration": 16,
    "start_time": "2025-01-02T01:31:09.346Z"
   },
   {
    "duration": 49,
    "start_time": "2025-01-02T01:31:09.367Z"
   },
   {
    "duration": 219,
    "start_time": "2025-01-02T01:31:09.418Z"
   },
   {
    "duration": 194,
    "start_time": "2025-01-02T01:31:09.639Z"
   },
   {
    "duration": 4,
    "start_time": "2025-01-02T01:31:09.842Z"
   },
   {
    "duration": 110,
    "start_time": "2025-01-02T01:31:09.848Z"
   },
   {
    "duration": 157,
    "start_time": "2025-01-02T01:31:09.959Z"
   },
   {
    "duration": 4,
    "start_time": "2025-01-02T01:31:10.123Z"
   },
   {
    "duration": 112,
    "start_time": "2025-01-02T01:31:10.129Z"
   },
   {
    "duration": 170,
    "start_time": "2025-01-02T01:31:10.243Z"
   },
   {
    "duration": 13,
    "start_time": "2025-01-02T01:31:10.415Z"
   },
   {
    "duration": 116,
    "start_time": "2025-01-02T01:31:10.430Z"
   },
   {
    "duration": 257,
    "start_time": "2025-01-02T01:31:10.548Z"
   },
   {
    "duration": 168,
    "start_time": "2025-01-02T01:31:10.806Z"
   },
   {
    "duration": 5,
    "start_time": "2025-01-02T01:31:10.976Z"
   },
   {
    "duration": 145,
    "start_time": "2025-01-02T01:31:10.983Z"
   },
   {
    "duration": 5,
    "start_time": "2025-01-02T01:31:11.130Z"
   },
   {
    "duration": 26,
    "start_time": "2025-01-02T01:31:11.137Z"
   },
   {
    "duration": 10,
    "start_time": "2025-01-02T01:31:11.165Z"
   },
   {
    "duration": 19,
    "start_time": "2025-01-02T01:37:17.557Z"
   },
   {
    "duration": 738,
    "start_time": "2025-01-02T01:37:25.402Z"
   },
   {
    "duration": 155,
    "start_time": "2025-01-02T01:37:26.143Z"
   },
   {
    "duration": 11,
    "start_time": "2025-01-02T01:37:26.299Z"
   },
   {
    "duration": 6,
    "start_time": "2025-01-02T01:37:26.313Z"
   },
   {
    "duration": 8,
    "start_time": "2025-01-02T01:37:26.321Z"
   },
   {
    "duration": 5,
    "start_time": "2025-01-02T01:37:26.331Z"
   },
   {
    "duration": 5,
    "start_time": "2025-01-02T01:37:26.338Z"
   },
   {
    "duration": 12,
    "start_time": "2025-01-02T01:37:26.344Z"
   },
   {
    "duration": 3,
    "start_time": "2025-01-02T01:37:26.358Z"
   },
   {
    "duration": 54,
    "start_time": "2025-01-02T01:37:26.365Z"
   },
   {
    "duration": 7,
    "start_time": "2025-01-02T01:37:26.421Z"
   },
   {
    "duration": 17,
    "start_time": "2025-01-02T01:37:26.430Z"
   },
   {
    "duration": 11,
    "start_time": "2025-01-02T01:37:26.448Z"
   },
   {
    "duration": 11,
    "start_time": "2025-01-02T01:37:26.461Z"
   },
   {
    "duration": 40,
    "start_time": "2025-01-02T01:37:26.473Z"
   },
   {
    "duration": 10,
    "start_time": "2025-01-02T01:37:26.515Z"
   },
   {
    "duration": 13,
    "start_time": "2025-01-02T01:37:26.526Z"
   },
   {
    "duration": 6,
    "start_time": "2025-01-02T01:37:26.541Z"
   },
   {
    "duration": 14,
    "start_time": "2025-01-02T01:37:26.549Z"
   },
   {
    "duration": 45,
    "start_time": "2025-01-02T01:37:26.565Z"
   },
   {
    "duration": 8,
    "start_time": "2025-01-02T01:37:26.612Z"
   },
   {
    "duration": 18,
    "start_time": "2025-01-02T01:37:26.622Z"
   },
   {
    "duration": 18,
    "start_time": "2025-01-02T01:37:26.642Z"
   },
   {
    "duration": 13,
    "start_time": "2025-01-02T01:37:26.661Z"
   },
   {
    "duration": 44,
    "start_time": "2025-01-02T01:37:26.675Z"
   },
   {
    "duration": 23,
    "start_time": "2025-01-02T01:37:26.720Z"
   },
   {
    "duration": 16,
    "start_time": "2025-01-02T01:37:26.744Z"
   },
   {
    "duration": 66,
    "start_time": "2025-01-02T01:37:26.765Z"
   },
   {
    "duration": 181,
    "start_time": "2025-01-02T01:37:26.832Z"
   },
   {
    "duration": 172,
    "start_time": "2025-01-02T01:37:27.015Z"
   },
   {
    "duration": 13,
    "start_time": "2025-01-02T01:37:27.192Z"
   },
   {
    "duration": 108,
    "start_time": "2025-01-02T01:37:27.207Z"
   },
   {
    "duration": 155,
    "start_time": "2025-01-02T01:37:27.316Z"
   },
   {
    "duration": 4,
    "start_time": "2025-01-02T01:37:27.473Z"
   },
   {
    "duration": 161,
    "start_time": "2025-01-02T01:37:27.479Z"
   },
   {
    "duration": 162,
    "start_time": "2025-01-02T01:37:27.642Z"
   },
   {
    "duration": 4,
    "start_time": "2025-01-02T01:37:27.806Z"
   },
   {
    "duration": 112,
    "start_time": "2025-01-02T01:37:27.811Z"
   },
   {
    "duration": 189,
    "start_time": "2025-01-02T01:37:27.925Z"
   },
   {
    "duration": 154,
    "start_time": "2025-01-02T01:37:28.117Z"
   },
   {
    "duration": 5,
    "start_time": "2025-01-02T01:37:28.273Z"
   },
   {
    "duration": 109,
    "start_time": "2025-01-02T01:37:28.279Z"
   },
   {
    "duration": 4,
    "start_time": "2025-01-02T01:37:28.389Z"
   },
   {
    "duration": 28,
    "start_time": "2025-01-02T01:37:28.395Z"
   },
   {
    "duration": 7,
    "start_time": "2025-01-02T01:37:28.424Z"
   },
   {
    "duration": 2477,
    "start_time": "2025-01-02T08:10:36.617Z"
   },
   {
    "duration": 210,
    "start_time": "2025-01-02T08:10:39.097Z"
   },
   {
    "duration": 9,
    "start_time": "2025-01-02T08:10:39.309Z"
   },
   {
    "duration": 6,
    "start_time": "2025-01-02T08:10:39.321Z"
   },
   {
    "duration": 8,
    "start_time": "2025-01-02T08:10:39.328Z"
   },
   {
    "duration": 5,
    "start_time": "2025-01-02T08:10:39.338Z"
   },
   {
    "duration": 27,
    "start_time": "2025-01-02T08:10:39.344Z"
   },
   {
    "duration": 11,
    "start_time": "2025-01-02T08:10:39.372Z"
   },
   {
    "duration": 3,
    "start_time": "2025-01-02T08:10:39.385Z"
   },
   {
    "duration": 15,
    "start_time": "2025-01-02T08:10:39.392Z"
   },
   {
    "duration": 7,
    "start_time": "2025-01-02T08:10:39.409Z"
   },
   {
    "duration": 18,
    "start_time": "2025-01-02T08:10:39.417Z"
   },
   {
    "duration": 44,
    "start_time": "2025-01-02T08:10:39.436Z"
   },
   {
    "duration": 12,
    "start_time": "2025-01-02T08:10:39.481Z"
   },
   {
    "duration": 5,
    "start_time": "2025-01-02T08:10:39.494Z"
   },
   {
    "duration": 12,
    "start_time": "2025-01-02T08:10:39.501Z"
   },
   {
    "duration": 13,
    "start_time": "2025-01-02T08:10:39.514Z"
   },
   {
    "duration": 40,
    "start_time": "2025-01-02T08:10:39.530Z"
   },
   {
    "duration": 13,
    "start_time": "2025-01-02T08:10:39.572Z"
   },
   {
    "duration": 13,
    "start_time": "2025-01-02T08:10:39.587Z"
   },
   {
    "duration": 9,
    "start_time": "2025-01-02T08:10:39.601Z"
   },
   {
    "duration": 17,
    "start_time": "2025-01-02T08:10:39.611Z"
   },
   {
    "duration": 48,
    "start_time": "2025-01-02T08:10:39.630Z"
   },
   {
    "duration": 13,
    "start_time": "2025-01-02T08:10:39.680Z"
   },
   {
    "duration": 17,
    "start_time": "2025-01-02T08:10:39.694Z"
   },
   {
    "duration": 23,
    "start_time": "2025-01-02T08:10:39.713Z"
   },
   {
    "duration": 41,
    "start_time": "2025-01-02T08:10:39.737Z"
   },
   {
    "duration": 40,
    "start_time": "2025-01-02T08:10:39.783Z"
   },
   {
    "duration": 193,
    "start_time": "2025-01-02T08:10:39.825Z"
   },
   {
    "duration": 162,
    "start_time": "2025-01-02T08:10:40.021Z"
   },
   {
    "duration": 4,
    "start_time": "2025-01-02T08:10:40.185Z"
   },
   {
    "duration": 112,
    "start_time": "2025-01-02T08:10:40.191Z"
   },
   {
    "duration": 144,
    "start_time": "2025-01-02T08:10:40.305Z"
   },
   {
    "duration": 5,
    "start_time": "2025-01-02T08:10:40.451Z"
   },
   {
    "duration": 102,
    "start_time": "2025-01-02T08:10:40.457Z"
   },
   {
    "duration": 154,
    "start_time": "2025-01-02T08:10:40.571Z"
   },
   {
    "duration": 4,
    "start_time": "2025-01-02T08:10:40.727Z"
   },
   {
    "duration": 106,
    "start_time": "2025-01-02T08:10:40.733Z"
   },
   {
    "duration": 172,
    "start_time": "2025-01-02T08:10:40.841Z"
   },
   {
    "duration": 219,
    "start_time": "2025-01-02T08:10:41.015Z"
   },
   {
    "duration": 5,
    "start_time": "2025-01-02T08:10:41.236Z"
   },
   {
    "duration": 106,
    "start_time": "2025-01-02T08:10:41.243Z"
   },
   {
    "duration": 5,
    "start_time": "2025-01-02T08:10:41.350Z"
   },
   {
    "duration": 31,
    "start_time": "2025-01-02T08:10:41.356Z"
   },
   {
    "duration": 6,
    "start_time": "2025-01-02T08:10:41.389Z"
   },
   {
    "duration": 12,
    "start_time": "2025-01-02T08:10:57.263Z"
   }
  ],
  "kernelspec": {
   "display_name": "Python 3 (ipykernel)",
   "language": "python",
   "name": "python3"
  },
  "language_info": {
   "codemirror_mode": {
    "name": "ipython",
    "version": 3
   },
   "file_extension": ".py",
   "mimetype": "text/x-python",
   "name": "python",
   "nbconvert_exporter": "python",
   "pygments_lexer": "ipython3",
   "version": "3.9.19"
  },
  "toc": {
   "base_numbering": 1,
   "nav_menu": {},
   "number_sections": true,
   "sideBar": true,
   "skip_h1_title": false,
   "title_cell": "Table of Contents",
   "title_sidebar": "Contents",
   "toc_cell": false,
   "toc_position": {
    "height": "calc(100% - 180px)",
    "left": "10px",
    "top": "150px",
    "width": "203.25px"
   },
   "toc_section_display": true,
   "toc_window_display": false
  }
 },
 "nbformat": 4,
 "nbformat_minor": 2
}
