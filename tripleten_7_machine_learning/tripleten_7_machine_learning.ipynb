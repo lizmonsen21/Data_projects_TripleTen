{
 "cells": [
  {
   "cell_type": "markdown",
   "metadata": {},
   "source": [
    "<div style=\"border-radius: 15px; border: 3px solid indigo; padding: 15px;\">\n",
    "<b> Reviewer's comment</b>\n",
    "    \n",
    "Hi Elizabeth, I am a reviewer on this project. Congratulations on submitting your first machine learning project! 🎉\n",
    "    \n",
    "\n",
    "Before we start, I want to pay your attention to the color marking:\n",
    "    \n",
    "\n",
    "   \n",
    "    \n",
    "<div class=\"alert alert-success\" style=\"border-radius: 15px; box-shadow: 4px 4px 4px; border: 1px solid \">\n",
    "\n",
    "Great solutions and ideas that can and should be used in the future are in green comments. Some of them are: \n",
    "    \n",
    "    \n",
    "    \n",
    "- You have added a good introduction that describes the project, well done! \n",
    "    \n",
    "    \n",
    "    \n",
    "- You have successfully prepared the subsets. It is important to split the data correctly in order to ensure there's no intersection;    \n",
    "    \n",
    "    \n",
    "    \n",
    "- Trained several models; \n",
    "\n",
    "\n",
    "    \n",
    "- Compared the results; \n",
    "\n",
    "    \n",
    "\n",
    "- Tuned hyperparameters. We tune them to identify the hyperparameters that will yield the desired metric value;\n",
    "\n",
    "\n",
    "- Analyzed accuracy values. It is not enough to just fit the model and print the result. Instead, we have to analyze the results as it helps us identify what can be improved;\n",
    "\n",
    "   \n",
    "    \n",
    "- Wrote an excellent conclusion! A well-written conclusion shows how the project met its objectives and provides a concise and understandable summary for those who may not have been involved in the details of the project. Good job! \n",
    "\n",
    "</div>\n",
    "    \n",
    "<div class=\"alert alert-warning\" style=\"border-radius: 15px; box-shadow: 4px 4px 4px; border: 1px solid \">\n",
    "<b> Reviewer's comment </b>\n",
    "\n",
    "Yellow color indicates what should be optimized. This is not necessary, but it will be great if you make changes to this project. There're only two such recommendations: it will be perfect if you add titles that describe the core goals of your projects, and you can can also create a variable with the best model in the hyperparameter tuning loop, which will save you some time, since you will not need to fit the model again to conduct the final test. \n",
    " \n",
    "</div>\n",
    "<div class=\"alert alert-danger\" style=\"border-radius: 15px; box-shadow: 4px 4px 4px; border: 1px solid \">\n",
    "<b> Reviewer's comment </b>\n",
    "\n",
    "Issues that must be corrected to achieve accurate results are indicated in red comments. However, there are no issues that need to be fixed, well done!  \n",
    "</div>        \n",
    "<hr>\n",
    "    \n",
    "<font color='dodgerblue'>**To sum up:**</font>  thank you very much for submitting the project! You did a fantastic job here. You have correctly splitted the data, successfully trained several models, implemented hyperparameter tuning and conducted the final test, which is great! I do not have any questions, so the project can be accepted. The next sprints will cover more advanced machine learning methods, I hope you will like it. Good luck! \n",
    "    \n",
    "\n",
    "<hr>\n",
    "    \n",
    "Please use some color other than those listed to highlight answers to my comments.\n",
    "I would also ask you **not to change, move or delete my comments** to make it easier for me to navigate during the next review.\n",
    "    \n",
    "In addition, my comments are defined as headings. \n",
    "They can mess up the content; however, they are convenient, since you can immediately go to them. I will remove the headings from my comments in the next review if you ask me to. \n",
    "\n",
    "\n",
    "<hr>\n",
    "    \n",
    "    \n",
    "✍️ Here's a nice article about [5 hyperparameter tuning techniques](https://www.run.ai/guides/hyperparameter-tuning) that you may find interesting.  \n",
    "    \n",
    "<hr>\n",
    "    \n",
    "📌 Please feel free to schedule a 1:1 with our tutors or TAs, join daily coworking sessions, or ask questions in the sprint channels on Discord if you need assistance. \n",
    "</div>"
   ]
  },
  {
   "cell_type": "markdown",
   "metadata": {},
   "source": [
    "# Machine Learning Project\n",
    "\n",
    "Our goal for this project is to help customers by recommending one of Megaline's newer plans, Smart or Ultra, based on their behavior (how they use their phone). To do this we can use the data of customers who have already switched to new plans (from our previous project with Megaline). Using this data we can create a model that will help us pick the right plan for future subscribers who want to switch.\n",
    "\n",
    "The users_behavior dataset contains monthly behavior information about one user. The features of this dataset are as follows:\n",
    "1. сalls — number of calls,\n",
    "2. minutes — total call duration in minutes,\n",
    "3. messages — number of text messages,\n",
    "4. mb_used — Internet traffic used in MB,\n",
    "5. is_ultra — plan for the current month (Ultra - 1, Smart - 0)."
   ]
  },
  {
   "cell_type": "markdown",
   "metadata": {},
   "source": [
    "<div class=\"alert alert-success\" style=\"border-radius: 15px; box-shadow: 4px 4px 4px; border: 1px solid \">\n",
    "<h2>   Reviewer's comment </h2>\n",
    "    \n",
    "There's an introduction, which is good. It is important to write an introductory part, because it gives an idea about the content of the project.\n",
    "</div>\n",
    "<div class=\"alert alert-warning\" style=\"border-radius: 15px; box-shadow: 4px 4px 4px; border: 1px solid \">\n",
    "<h2>   Reviewer's comment </h2>\n",
    "    \n",
    "Please don't forget about project title :) A title should reflect the core goals.\n",
    "    \n",
    "</div>"
   ]
  },
  {
   "cell_type": "markdown",
   "metadata": {},
   "source": [
    "## Importing the Libraries and DataSet"
   ]
  },
  {
   "cell_type": "code",
   "execution_count": 1,
   "metadata": {
    "trusted": false
   },
   "outputs": [],
   "source": [
    "#import necessary libraries\n",
    "\n",
    "import pandas as pd\n",
    "from sklearn.ensemble import RandomForestClassifier\n",
    "from sklearn.linear_model import LogisticRegression\n",
    "from sklearn.tree import DecisionTreeClassifier\n",
    "from sklearn.metrics import accuracy_score\n",
    "from sklearn.model_selection import train_test_split"
   ]
  },
  {
   "cell_type": "code",
   "execution_count": 2,
   "metadata": {
    "trusted": false
   },
   "outputs": [],
   "source": [
    "#import data set\n",
    "\n",
    "df = pd.read_csv('/datasets/users_behavior.csv')"
   ]
  },
  {
   "cell_type": "code",
   "execution_count": 3,
   "metadata": {
    "trusted": false
   },
   "outputs": [
    {
     "name": "stdout",
     "output_type": "stream",
     "text": [
      "<class 'pandas.core.frame.DataFrame'>\n",
      "RangeIndex: 3214 entries, 0 to 3213\n",
      "Data columns (total 5 columns):\n",
      " #   Column    Non-Null Count  Dtype  \n",
      "---  ------    --------------  -----  \n",
      " 0   calls     3214 non-null   float64\n",
      " 1   minutes   3214 non-null   float64\n",
      " 2   messages  3214 non-null   float64\n",
      " 3   mb_used   3214 non-null   float64\n",
      " 4   is_ultra  3214 non-null   int64  \n",
      "dtypes: float64(4), int64(1)\n",
      "memory usage: 125.7 KB\n"
     ]
    },
    {
     "data": {
      "text/html": [
       "<div>\n",
       "<style scoped>\n",
       "    .dataframe tbody tr th:only-of-type {\n",
       "        vertical-align: middle;\n",
       "    }\n",
       "\n",
       "    .dataframe tbody tr th {\n",
       "        vertical-align: top;\n",
       "    }\n",
       "\n",
       "    .dataframe thead th {\n",
       "        text-align: right;\n",
       "    }\n",
       "</style>\n",
       "<table border=\"1\" class=\"dataframe\">\n",
       "  <thead>\n",
       "    <tr style=\"text-align: right;\">\n",
       "      <th></th>\n",
       "      <th>calls</th>\n",
       "      <th>minutes</th>\n",
       "      <th>messages</th>\n",
       "      <th>mb_used</th>\n",
       "      <th>is_ultra</th>\n",
       "    </tr>\n",
       "  </thead>\n",
       "  <tbody>\n",
       "    <tr>\n",
       "      <th>552</th>\n",
       "      <td>16.0</td>\n",
       "      <td>132.80</td>\n",
       "      <td>107.0</td>\n",
       "      <td>21893.35</td>\n",
       "      <td>1</td>\n",
       "    </tr>\n",
       "    <tr>\n",
       "      <th>2855</th>\n",
       "      <td>79.0</td>\n",
       "      <td>528.20</td>\n",
       "      <td>56.0</td>\n",
       "      <td>11925.48</td>\n",
       "      <td>0</td>\n",
       "    </tr>\n",
       "    <tr>\n",
       "      <th>2950</th>\n",
       "      <td>97.0</td>\n",
       "      <td>705.23</td>\n",
       "      <td>30.0</td>\n",
       "      <td>14103.81</td>\n",
       "      <td>0</td>\n",
       "    </tr>\n",
       "    <tr>\n",
       "      <th>728</th>\n",
       "      <td>43.0</td>\n",
       "      <td>298.42</td>\n",
       "      <td>12.0</td>\n",
       "      <td>18311.24</td>\n",
       "      <td>0</td>\n",
       "    </tr>\n",
       "    <tr>\n",
       "      <th>886</th>\n",
       "      <td>83.0</td>\n",
       "      <td>558.94</td>\n",
       "      <td>62.0</td>\n",
       "      <td>24179.89</td>\n",
       "      <td>0</td>\n",
       "    </tr>\n",
       "  </tbody>\n",
       "</table>\n",
       "</div>"
      ],
      "text/plain": [
       "      calls  minutes  messages   mb_used  is_ultra\n",
       "552    16.0   132.80     107.0  21893.35         1\n",
       "2855   79.0   528.20      56.0  11925.48         0\n",
       "2950   97.0   705.23      30.0  14103.81         0\n",
       "728    43.0   298.42      12.0  18311.24         0\n",
       "886    83.0   558.94      62.0  24179.89         0"
      ]
     },
     "execution_count": 3,
     "metadata": {},
     "output_type": "execute_result"
    }
   ],
   "source": [
    "#We don't have preprocess the data as that was done previously, but it is still good to see what data we have.\n",
    "df.info()\n",
    "df.sample(5)"
   ]
  },
  {
   "cell_type": "markdown",
   "metadata": {},
   "source": [
    "In looking into our code we can determine down the line what our target will be vs the features we will use to predict our target. As the goal is to predict what plan a user will/should pick the column is_ultra will be our best target.  We can dive into this a little more when we are creating the features and targets for each of our sets."
   ]
  },
  {
   "cell_type": "markdown",
   "metadata": {},
   "source": [
    "## Splitting the Data into Multiple Sets\n",
    "\n",
    "In the next steps we will split the data into a training set, a validation set and a test set.  When splitting the data into these 3 sets the preferable ratio is 3:1:1.  So our training set will be the largest at 60%, then our validation and test set will each be 20%."
   ]
  },
  {
   "cell_type": "code",
   "execution_count": 4,
   "metadata": {
    "trusted": false
   },
   "outputs": [],
   "source": [
    "#splitting the data into a training set, a validation set and a test set (this will take 2 steps)\n",
    "\n",
    "# 1- split into training (60%) and a temp set (40%)\n",
    "df_train, df_temp = train_test_split(df, test_size=0.40, random_state=12345)\n",
    "\n",
    "# 2- split the temp set into validation (20%) and test (20%)\n",
    "df_valid, df_test = train_test_split(df_temp, test_size=0.50, random_state=12345)"
   ]
  },
  {
   "cell_type": "markdown",
   "metadata": {},
   "source": [
    "<div class=\"alert alert-success\" style=\"border-radius: 15px; box-shadow: 4px 4px 4px; border: 1px solid \">\n",
    "<h2>   Reviewer's comment </h2>\n",
    "    \n",
    "Correct! We indeed need to split the data into three subsets: one for fitting the model, one for calculating the metric values, and one for the final test. \n",
    "    \n",
    "</div>"
   ]
  },
  {
   "cell_type": "code",
   "execution_count": 5,
   "metadata": {
    "trusted": false
   },
   "outputs": [
    {
     "name": "stdout",
     "output_type": "stream",
     "text": [
      "<class 'pandas.core.frame.DataFrame'>\n",
      "Int64Index: 1928 entries, 3027 to 482\n",
      "Data columns (total 5 columns):\n",
      " #   Column    Non-Null Count  Dtype  \n",
      "---  ------    --------------  -----  \n",
      " 0   calls     1928 non-null   float64\n",
      " 1   minutes   1928 non-null   float64\n",
      " 2   messages  1928 non-null   float64\n",
      " 3   mb_used   1928 non-null   float64\n",
      " 4   is_ultra  1928 non-null   int64  \n",
      "dtypes: float64(4), int64(1)\n",
      "memory usage: 90.4 KB\n",
      "<class 'pandas.core.frame.DataFrame'>\n",
      "Int64Index: 643 entries, 1386 to 3197\n",
      "Data columns (total 5 columns):\n",
      " #   Column    Non-Null Count  Dtype  \n",
      "---  ------    --------------  -----  \n",
      " 0   calls     643 non-null    float64\n",
      " 1   minutes   643 non-null    float64\n",
      " 2   messages  643 non-null    float64\n",
      " 3   mb_used   643 non-null    float64\n",
      " 4   is_ultra  643 non-null    int64  \n",
      "dtypes: float64(4), int64(1)\n",
      "memory usage: 30.1 KB\n",
      "<class 'pandas.core.frame.DataFrame'>\n",
      "Int64Index: 643 entries, 160 to 2313\n",
      "Data columns (total 5 columns):\n",
      " #   Column    Non-Null Count  Dtype  \n",
      "---  ------    --------------  -----  \n",
      " 0   calls     643 non-null    float64\n",
      " 1   minutes   643 non-null    float64\n",
      " 2   messages  643 non-null    float64\n",
      " 3   mb_used   643 non-null    float64\n",
      " 4   is_ultra  643 non-null    int64  \n",
      "dtypes: float64(4), int64(1)\n",
      "memory usage: 30.1 KB\n"
     ]
    }
   ],
   "source": [
    "#verify that these have been split appropriately\n",
    "df_train.info()\n",
    "df_valid.info()\n",
    "df_test.info()"
   ]
  },
  {
   "cell_type": "markdown",
   "metadata": {},
   "source": [
    "## Identifying our Target\n",
    "\n",
    "As stated above when we downloaded our data, our goal is to utilize user behaviors to determine or predict what plan people should pick, ultra(1) or Smart(2), based on their phone usage. Here we will separate the features and target for each of our split datasets."
   ]
  },
  {
   "cell_type": "code",
   "execution_count": 6,
   "metadata": {
    "trusted": false
   },
   "outputs": [],
   "source": [
    "#Training set features and target\n",
    "\n",
    "features_train= df_train.drop(['is_ultra'], axis = 1)\n",
    "target_train = df_train['is_ultra']\n",
    "\n",
    "features_valid= df_valid.drop(['is_ultra'], axis = 1)\n",
    "target_valid = df_valid['is_ultra']\n",
    "\n",
    "features_test= df_test.drop(['is_ultra'], axis = 1)\n",
    "target_test = df_test['is_ultra']"
   ]
  },
  {
   "cell_type": "markdown",
   "metadata": {},
   "source": [
    "<div class=\"alert alert-success\" style=\"border-radius: 15px; box-shadow: 4px 4px 4px; border: 1px solid \">\n",
    "<h2>   Reviewer's comment </h2>\n",
    "    \n",
    "Good! \n",
    "    \n",
    "</div>"
   ]
  },
  {
   "cell_type": "markdown",
   "metadata": {},
   "source": [
    "## Testing Different Models"
   ]
  },
  {
   "cell_type": "markdown",
   "metadata": {},
   "source": [
    "The first model type we will investigate is the Decision Tree. First we are going to run through different tree depths to determine which model version of the Decision tree would fit our needs best. "
   ]
  },
  {
   "cell_type": "code",
   "execution_count": 7,
   "metadata": {
    "trusted": false
   },
   "outputs": [
    {
     "name": "stdout",
     "output_type": "stream",
     "text": [
      "max_depth = 1 : 0.7542768273716952\n",
      "max_depth = 2 : 0.7822706065318819\n",
      "max_depth = 3 : 0.7853810264385692\n",
      "max_depth = 4 : 0.7791601866251944\n",
      "max_depth = 5 : 0.7791601866251944\n",
      "max_depth = 6 : 0.7838258164852255\n",
      "max_depth = 7 : 0.7822706065318819\n",
      "max_depth = 8 : 0.7791601866251944\n",
      "max_depth = 9 : 0.7822706065318819\n"
     ]
    }
   ],
   "source": [
    "for depth in range(1, 10):\n",
    "    dt_model = DecisionTreeClassifier(random_state=12345, max_depth= depth) # create a model with the given depth\n",
    "    dt_model.fit(features_train , target_train) # train the model\n",
    "    predictions_valid = dt_model.predict(features_valid)# < find the predictions using validation set >\n",
    "\n",
    "    print(\"max_depth =\", depth, \": \", end='')\n",
    "    print(accuracy_score(target_valid, predictions_valid))"
   ]
  },
  {
   "cell_type": "markdown",
   "metadata": {},
   "source": [
    "<div class=\"alert alert-success\" style=\"border-radius: 15px; box-shadow: 4px 4px 4px; border: 1px solid \">\n",
    "<h2> Reviewer's comment</h2>\n",
    "    \n",
    "You have successfully implemented hyperparameters tuning, well done! We need to tune them to identify the the hyperparameters that will yield the desired metric value.\n",
    "</div>"
   ]
  },
  {
   "cell_type": "markdown",
   "metadata": {},
   "source": [
    "Based on these results we can determine that a max_depth of 3 is the best decision tree model as it has the highest accuracy of 0.785 (rounded).  Therefore we will create our final decision tree model with a max_depth of 3.  It is also worth noting that all iterations of our model hit our accuracy threshold of 0.75."
   ]
  },
  {
   "cell_type": "code",
   "execution_count": 8,
   "metadata": {
    "trusted": false
   },
   "outputs": [
    {
     "data": {
      "text/plain": [
       "DecisionTreeClassifier(max_depth=3, random_state=12345)"
      ]
     },
     "execution_count": 8,
     "metadata": {},
     "output_type": "execute_result"
    }
   ],
   "source": [
    "# final decision tree model\n",
    "\n",
    "dt_final_model = DecisionTreeClassifier(random_state=12345, max_depth = 3) # change max_depth to get best model\n",
    "dt_final_model.fit(features_train, target_train)"
   ]
  },
  {
   "cell_type": "markdown",
   "metadata": {},
   "source": [
    "<div class=\"alert alert-warning\" style=\"border-radius: 15px; box-shadow: 4px 4px 4px; border: 1px solid \">\n",
    "<h2> Reviewer's comment</h2>\n",
    "    \n",
    "A piece of advice: instead of fitting the model again, you can create a variable with the best model found after tuning in the loop above. \n",
    "</div>"
   ]
  },
  {
   "cell_type": "markdown",
   "metadata": {},
   "source": [
    "Next we will look into Random Forest Models.  Like the Decision Tree we want to find the best version of this model so we will run it through different numbers of trees in the forest with the n_estimators hyperparameter."
   ]
  },
  {
   "cell_type": "code",
   "execution_count": 9,
   "metadata": {
    "trusted": false
   },
   "outputs": [
    {
     "name": "stdout",
     "output_type": "stream",
     "text": [
      "Accuracy of the best model on the validation set (n_estimators = 23): 0.7947122861586314\n"
     ]
    }
   ],
   "source": [
    "best_score = 0\n",
    "best_est = 0\n",
    "for est in range(1, 30): # choose hyperparameter range\n",
    "    rf_model = RandomForestClassifier(random_state=12345, n_estimators= est) # set number of trees\n",
    "    rf_model.fit(features_train , target_train) # train model on training set\n",
    "    score = rf_model.score(features_valid, target_valid) # calculate accuracy score on validation set\n",
    "    if score > best_score:\n",
    "        best_score = score# save best accuracy score on validation set\n",
    "        best_est = est# save number of estimators corresponding to best accuracy score\n",
    "\n",
    "print(\"Accuracy of the best model on the validation set (n_estimators = {}): {}\".format(best_est, best_score))"
   ]
  },
  {
   "cell_type": "markdown",
   "metadata": {},
   "source": [
    "We ran through this code in a range of 10, 20, 30, 40 and 50.  Once we got to 23, there was no more increased accuracy with more trees, so I decided to leave the loop at 30 so that it can run through more quickly, as the more trees there are the longer it takes to run through. As we can see there is increased accuracy using Random Forest over Decision Tree models with the most accurate Rain Forest Model having an accuracy of 0.795 (rounded) compared to the most accurate Decision Tree model at 0.785 (rounded)"
   ]
  },
  {
   "cell_type": "code",
   "execution_count": 10,
   "metadata": {
    "trusted": false
   },
   "outputs": [
    {
     "data": {
      "text/plain": [
       "RandomForestClassifier(n_estimators=23, random_state=12345)"
      ]
     },
     "execution_count": 10,
     "metadata": {},
     "output_type": "execute_result"
    }
   ],
   "source": [
    "rf_final_model = RandomForestClassifier(random_state=12345, n_estimators=23) # change n_estimators to get best model\n",
    "rf_final_model.fit(features_train, target_train)"
   ]
  },
  {
   "cell_type": "markdown",
   "metadata": {},
   "source": [
    "Finally, we will look a Logistic Regression Models."
   ]
  },
  {
   "cell_type": "code",
   "execution_count": 11,
   "metadata": {
    "trusted": false
   },
   "outputs": [
    {
     "name": "stdout",
     "output_type": "stream",
     "text": [
      "Accuracy of the logistic regression model on the training set: 0.7505186721991701\n",
      "Accuracy of the logistic regression model on the validation set: 0.7589424572317263\n"
     ]
    }
   ],
   "source": [
    "lr_model =  LogisticRegression(random_state=12345, solver='liblinear')# initialize logistic regression constructor with parameters random_state=54321 and solver='liblinear'\n",
    "lr_model.fit(features_train , target_train)  # train model on training set\n",
    "score_train = lr_model.score(features_train, target_train)  \n",
    "score_valid = lr_model.score(features_valid , target_valid)  \n",
    "\n",
    "print(\n",
    "    \"Accuracy of the logistic regression model on the training set:\",\n",
    "    score_train,\n",
    ")\n",
    "print(\n",
    "    \"Accuracy of the logistic regression model on the validation set:\",\n",
    "    score_valid,)"
   ]
  },
  {
   "cell_type": "markdown",
   "metadata": {},
   "source": [
    "Here we can see with a logistic regression model our training set had an accuracy of 0.751 (rounded) and our validation set had slightly better at 0.759(rounded). Based on all these models we can see that our best random forest model (23), has the greatest accuracy of 0.795 (rounded), then our best decision tree model (3) with an accuracy of 0.785 (rounded), and finally our logistic regression model with about 0.751 (rounded).  All our models reach our threshold accuracy of 0.75. "
   ]
  },
  {
   "cell_type": "markdown",
   "metadata": {},
   "source": [
    "<div class=\"alert alert-success\" style=\"border-radius: 15px; box-shadow: 4px 4px 4px; border: 1px solid \">\n",
    "<h2> Reviewer's comment</h2>\n",
    "    \n",
    "Good, you compared three models with different hyperparameters!\n",
    "\n",
    "\n",
    "</div>"
   ]
  },
  {
   "cell_type": "markdown",
   "metadata": {},
   "source": [
    "## Checking the Quality of our Best Model Using the Test Set\n",
    "\n",
    "In this step we will use our trained random forest model and run our test data set through it and test it's accuracy."
   ]
  },
  {
   "cell_type": "code",
   "execution_count": 12,
   "metadata": {
    "trusted": false
   },
   "outputs": [
    {
     "name": "stdout",
     "output_type": "stream",
     "text": [
      "Test Set Accuracy: 0.7807\n"
     ]
    }
   ],
   "source": [
    "# Predict on the test set\n",
    "test_predictions = rf_final_model.predict(features_test)\n",
    "\n",
    "# Calculate accuracy\n",
    "test_accuracy = accuracy_score(target_test, test_predictions)\n",
    "\n",
    "print(f\"Test Set Accuracy: {test_accuracy:.4f}\")"
   ]
  },
  {
   "cell_type": "markdown",
   "metadata": {},
   "source": [
    "Here we can see that our model, when tested, continues to exceed our accuracy threshold of 0.75 with a score of 0.78."
   ]
  },
  {
   "cell_type": "markdown",
   "metadata": {},
   "source": [
    "<div class=\"alert alert-success\" style=\"border-radius: 15px; box-shadow: 4px 4px 4px; border: 1px solid \">\n",
    "<h2> Reviewer's comment</h2>\n",
    "    \n",
    "Correct. Here we indeed use the best model (it's one model usually) among all models we trained and tuned to run the final test using the test subset. It helps us evaluate the model's generalization ability. \n",
    "\n",
    "</div>"
   ]
  },
  {
   "cell_type": "markdown",
   "metadata": {},
   "source": [
    "## Sanity Check\n",
    "Finally, we will sanity check the model. To do this we will create a baseline model that predicts if people will choose Ultra or Smart plans essentially by chance. Then we can compare the accuracy of our \"chance\" model to our best fit model for our test set."
   ]
  },
  {
   "cell_type": "code",
   "execution_count": 13,
   "metadata": {
    "trusted": false
   },
   "outputs": [
    {
     "name": "stdout",
     "output_type": "stream",
     "text": [
      "Baseline Model Test Set Accuracy: 0.68\n",
      "Your Model Test Set Accuracy: 0.78\n"
     ]
    }
   ],
   "source": [
    "from sklearn.dummy import DummyClassifier\n",
    "\n",
    "# Create a baseline classifier\n",
    "baseline_model = DummyClassifier(strategy=\"most_frequent\")\n",
    "\n",
    "# Fit the model on the training data\n",
    "baseline_model.fit(features_train, target_train)\n",
    "\n",
    "# Predict on the test data\n",
    "baseline_predictions = baseline_model.predict(features_test)\n",
    "\n",
    "# Calculate accuracy\n",
    "baseline_accuracy = accuracy_score(target_test, baseline_predictions)\n",
    "\n",
    "print(f\"Baseline Model Test Set Accuracy: {baseline_accuracy:.2f}\")\n",
    "\n",
    "# Compare with your model's accuracy\n",
    "print(f\"Your Model Test Set Accuracy: {test_accuracy:.2f}\")"
   ]
  },
  {
   "cell_type": "markdown",
   "metadata": {},
   "source": [
    "Here we can see that our model, when tested demonstrates a greater accuracy than our baseline model based on chance. "
   ]
  },
  {
   "cell_type": "markdown",
   "metadata": {},
   "source": [
    "<div class=\"alert alert-success\" style=\"border-radius: 15px; box-shadow: 4px 4px 4px; border: 1px solid \">\n",
    "<h2> Reviewer's comment</h2>\n",
    "    \n",
    "Good idea to check it!    \n",
    "</div>"
   ]
  },
  {
   "cell_type": "markdown",
   "metadata": {},
   "source": [
    "# Conclusion\n",
    "\n",
    "In conclusion we can use our selected model (random forest with est = 23), to predict which plan costumers will chose based on how they use their phone.  We can also use this model, to help direct customers for the best plan for them with fairly reliable accuracy."
   ]
  },
  {
   "cell_type": "markdown",
   "metadata": {},
   "source": [
    "<div class=\"alert alert-success\" style=\"border-radius: 15px; box-shadow: 4px 4px 4px; border: 1px solid \">\n",
    "<h2> Reviewer's comment</h2>\n",
    "    \n",
    "Excellent job! \n",
    "    \n",
    "</div>"
   ]
  }
 ],
 "metadata": {
  "ExecuteTimeLog": [
   {
    "duration": 751,
    "start_time": "2025-03-11T01:39:49.295Z"
   },
   {
    "duration": 15,
    "start_time": "2025-03-11T01:41:02.220Z"
   },
   {
    "duration": 17,
    "start_time": "2025-03-11T01:41:23.405Z"
   },
   {
    "duration": 218,
    "start_time": "2025-03-11T01:55:25.538Z"
   },
   {
    "duration": 6,
    "start_time": "2025-03-11T02:02:34.644Z"
   },
   {
    "duration": 17,
    "start_time": "2025-03-11T02:03:56.435Z"
   },
   {
    "duration": 796,
    "start_time": "2025-03-11T02:15:48.620Z"
   },
   {
    "duration": 9,
    "start_time": "2025-03-11T02:15:49.418Z"
   },
   {
    "duration": 16,
    "start_time": "2025-03-11T02:15:49.428Z"
   },
   {
    "duration": 4,
    "start_time": "2025-03-11T02:15:49.446Z"
   },
   {
    "duration": 15,
    "start_time": "2025-03-11T02:15:49.453Z"
   },
   {
    "duration": 170,
    "start_time": "2025-03-11T03:08:29.001Z"
   },
   {
    "duration": 760,
    "start_time": "2025-03-11T03:08:59.251Z"
   },
   {
    "duration": 14,
    "start_time": "2025-03-11T03:09:00.013Z"
   },
   {
    "duration": 18,
    "start_time": "2025-03-11T03:09:00.029Z"
   },
   {
    "duration": 5,
    "start_time": "2025-03-11T03:09:00.049Z"
   },
   {
    "duration": 29,
    "start_time": "2025-03-11T03:09:00.056Z"
   },
   {
    "duration": 4,
    "start_time": "2025-03-11T03:09:00.087Z"
   },
   {
    "duration": 25,
    "start_time": "2025-03-11T03:12:26.175Z"
   },
   {
    "duration": 50,
    "start_time": "2025-03-11T03:12:48.172Z"
   },
   {
    "duration": 8,
    "start_time": "2025-03-11T03:18:36.616Z"
   },
   {
    "duration": 156,
    "start_time": "2025-03-11T23:29:17.400Z"
   },
   {
    "duration": 822,
    "start_time": "2025-03-11T23:29:27.821Z"
   },
   {
    "duration": 14,
    "start_time": "2025-03-11T23:29:28.645Z"
   },
   {
    "duration": 20,
    "start_time": "2025-03-11T23:29:28.663Z"
   },
   {
    "duration": 6,
    "start_time": "2025-03-11T23:29:28.684Z"
   },
   {
    "duration": 31,
    "start_time": "2025-03-11T23:29:28.692Z"
   },
   {
    "duration": 6,
    "start_time": "2025-03-11T23:29:28.725Z"
   },
   {
    "duration": 48,
    "start_time": "2025-03-11T23:29:28.732Z"
   },
   {
    "duration": 7,
    "start_time": "2025-03-11T23:29:28.782Z"
   },
   {
    "duration": 812,
    "start_time": "2025-03-11T23:35:07.022Z"
   },
   {
    "duration": 9,
    "start_time": "2025-03-11T23:35:07.836Z"
   },
   {
    "duration": 17,
    "start_time": "2025-03-11T23:35:07.846Z"
   },
   {
    "duration": 5,
    "start_time": "2025-03-11T23:35:07.864Z"
   },
   {
    "duration": 40,
    "start_time": "2025-03-11T23:35:07.872Z"
   },
   {
    "duration": 5,
    "start_time": "2025-03-11T23:35:07.914Z"
   },
   {
    "duration": 48,
    "start_time": "2025-03-11T23:35:07.921Z"
   },
   {
    "duration": 7,
    "start_time": "2025-03-11T23:35:07.971Z"
   },
   {
    "duration": 225,
    "start_time": "2025-03-11T23:35:07.980Z"
   },
   {
    "duration": 196,
    "start_time": "2025-03-11T23:35:51.907Z"
   },
   {
    "duration": 651,
    "start_time": "2025-03-11T23:39:26.071Z"
   },
   {
    "duration": 1403,
    "start_time": "2025-03-11T23:39:35.217Z"
   },
   {
    "duration": 2532,
    "start_time": "2025-03-11T23:39:53.194Z"
   },
   {
    "duration": 3861,
    "start_time": "2025-03-11T23:40:06.495Z"
   },
   {
    "duration": 1427,
    "start_time": "2025-03-11T23:40:21.060Z"
   },
   {
    "duration": 76,
    "start_time": "2025-03-11T23:40:29.256Z"
   },
   {
    "duration": 8,
    "start_time": "2025-03-11T23:49:58.774Z"
   },
   {
    "duration": 11,
    "start_time": "2025-03-11T23:50:34.841Z"
   },
   {
    "duration": 223,
    "start_time": "2025-03-12T00:14:25.066Z"
   },
   {
    "duration": 9,
    "start_time": "2025-03-12T00:22:29.076Z"
   },
   {
    "duration": 5,
    "start_time": "2025-03-12T00:22:48.754Z"
   },
   {
    "duration": 825,
    "start_time": "2025-03-12T00:52:45.430Z"
   },
   {
    "duration": 9,
    "start_time": "2025-03-12T00:52:46.258Z"
   },
   {
    "duration": 17,
    "start_time": "2025-03-12T00:52:46.268Z"
   },
   {
    "duration": 5,
    "start_time": "2025-03-12T00:52:46.287Z"
   },
   {
    "duration": 32,
    "start_time": "2025-03-12T00:52:46.294Z"
   },
   {
    "duration": 4,
    "start_time": "2025-03-12T00:52:46.327Z"
   },
   {
    "duration": 48,
    "start_time": "2025-03-12T00:52:46.333Z"
   },
   {
    "duration": 9,
    "start_time": "2025-03-12T00:52:46.382Z"
   },
   {
    "duration": 1407,
    "start_time": "2025-03-12T00:52:46.412Z"
   },
   {
    "duration": 76,
    "start_time": "2025-03-12T00:52:47.820Z"
   },
   {
    "duration": 24,
    "start_time": "2025-03-12T00:52:47.898Z"
   },
   {
    "duration": 8,
    "start_time": "2025-03-12T00:52:47.924Z"
   },
   {
    "duration": 4,
    "start_time": "2025-03-12T00:52:47.934Z"
   }
  ],
  "kernelspec": {
   "display_name": "Python 3 (ipykernel)",
   "language": "python",
   "name": "python3"
  },
  "language_info": {
   "codemirror_mode": {
    "name": "ipython",
    "version": 3
   },
   "file_extension": ".py",
   "mimetype": "text/x-python",
   "name": "python",
   "nbconvert_exporter": "python",
   "pygments_lexer": "ipython3",
   "version": "3.9.19"
  },
  "toc": {
   "base_numbering": 1,
   "nav_menu": {},
   "number_sections": true,
   "sideBar": true,
   "skip_h1_title": true,
   "title_cell": "Table of Contents",
   "title_sidebar": "Contents",
   "toc_cell": false,
   "toc_position": {},
   "toc_section_display": true,
   "toc_window_display": false
  }
 },
 "nbformat": 4,
 "nbformat_minor": 2
}
