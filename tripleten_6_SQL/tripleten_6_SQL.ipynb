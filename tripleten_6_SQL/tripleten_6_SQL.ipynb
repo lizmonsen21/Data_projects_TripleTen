{
 "cells": [
  {
   "cell_type": "markdown",
   "metadata": {},
   "source": [
    "<div style=\"border: solid blue 2px; padding: 20px\">\n",
    "\n",
    "Hello Elizabeth,\n",
    "\n",
    "Congratulations on successfully submitting your project! 🎉\n",
    "\n",
    "Another project completed — fantastic work! Every step you take brings you closer to mastering the skills needed to excel in Data Science. Your dedication is evident, and you should be proud of your efforts.\n",
    "\n",
    "Keep up the great momentum! As we review this project together, you’ll find **specific notes** inside the project file, highlighted in green or yellow for easy reference.\n",
    "\n",
    "<div class=\"alert alert-success\" style=\"border-left: 7px solid green\">\n",
    "<b>✅ Reviewer's Comment</b> \n",
    "    \n",
    "Comments marked in green highlight efficient solutions and good ideas that can be applied in future projects. \n",
    "</div>\n",
    "\n",
    "<div class=\"alert alert-warning\" style=\"border-left: 7px solid gold\">\n",
    "<b>⚠️ Reviewer's Comment</b> \n",
    "    \n",
    "Comments marked in yellow indicate areas where there is room for optimization. While corrections aren't mandatory, implementing these suggestions would be beneficial.\n",
    "</div>\n",
    "\n",
    "Congratulations once again on your journey and first hands-on experience. There are **no critical issues**, and your project has been **approved** — excellent job!\n",
    "\n",
    "Keep up the amazing work! 🪄\n"
   ]
  },
  {
   "cell_type": "markdown",
   "metadata": {},
   "source": [
    "# Zuber Cab History Analysis\n",
    "\n",
    "In this project we will be analyzing some hystorical data from taxi rides in the Chicago area to get a better understanding of passenger preferences and external factors like weather can affect our rides and eventually our profits. \n",
    "\n",
    "Data description from previous part of the project:\n",
    "\n",
    "1. neighborhoods table: data on city neighborhoods\n",
    "- name: name of the neighborhood\n",
    "- neighborhood_id: neighborhood code\n",
    "\n",
    "2. cabs table: data on taxis\n",
    "- cab_id: vehicle code\n",
    "- vehicle_id: the vehicle's technical ID\n",
    "- company_name: the company that owns the vehicle\n",
    "\n",
    "3. trips table: data on rides\n",
    "- trip_id: ride code\n",
    "- cab_id: code of the vehicle operating the ride\n",
    "- start_ts: date and time of the beginning of the ride (time rounded to the hour)\n",
    "- end_ts: date and time of the end of the ride (time rounded to the hour)\n",
    "- duration_seconds: ride duration in seconds\n",
    "- distance_miles: ride distance in miles\n",
    "- pickup_location_id: pickup neighborhood code\n",
    "- dropoff_location_id: dropoff neighborhood code\n",
    "\n",
    "4. weather_records table: data on weather\n",
    "- record_id: weather record code\n",
    "- ts: record date and time (time rounded to the hour)\n",
    "- temperature: temperature when the record was taken\n",
    "- description: brief description of weather conditions, e.g. \"light rain\" or \"scattered clouds\"\n",
    "\n",
    "Data Description for this Portion of the Project\n",
    "\n",
    "1. project_sql_result_01.csv. It contains the following data:\n",
    "- company_name: taxi company name\n",
    "- trips_amount: the number of rides for each taxi company on November 15-16, 2017.\n",
    "\n",
    "2. project_sql_result_04.csv. It contains the following data:\n",
    "- dropoff_location_name: Chicago neighborhoods where rides ended\n",
    "- average_trips: the average number of rides that ended in each neighborhood in November 2017.\n",
    "\n",
    "3. project_sql_result_07.csv — the result of the last query from our previous analysis prior to this part of the project. It contains data on rides from the Loop to O'Hare International Airport.\n",
    "- start_ts — pickup date and time\n",
    "- weather_conditions — weather conditions at the moment the ride started\n",
    "- duration_seconds — ride duration in seconds"
   ]
  },
  {
   "cell_type": "markdown",
   "metadata": {},
   "source": [
    "<div class=\"alert alert-success\"; style=\"border-left: 7px solid green\">\n",
    "<b>✅ Reviewer's comment, v. 1</b> \n",
    "    \n",
    "Good start!\n",
    "    \n",
    "<strike>\n",
    "\n"
   ]
  },
  {
   "cell_type": "code",
   "execution_count": 1,
   "metadata": {
    "trusted": false
   },
   "outputs": [],
   "source": [
    "# Import needed Libraries\n",
    "\n",
    "import pandas as pd\n",
    "import numpy as np\n",
    "import matplotlib.pyplot as plt\n",
    "import seaborn as sns\n",
    "\n",
    "from scipy import stats as st"
   ]
  },
  {
   "cell_type": "code",
   "execution_count": 2,
   "metadata": {
    "trusted": false
   },
   "outputs": [],
   "source": [
    "# Import datasets\n",
    "taxi_company_df = pd.read_csv('/datasets/project_sql_result_01.csv')\n",
    "taxi_dropoff_df = pd.read_csv('/datasets/project_sql_result_04.csv')"
   ]
  },
  {
   "cell_type": "code",
   "execution_count": 3,
   "metadata": {
    "trusted": false
   },
   "outputs": [
    {
     "name": "stdout",
     "output_type": "stream",
     "text": [
      "<class 'pandas.core.frame.DataFrame'>\n",
      "RangeIndex: 64 entries, 0 to 63\n",
      "Data columns (total 2 columns):\n",
      " #   Column        Non-Null Count  Dtype \n",
      "---  ------        --------------  ----- \n",
      " 0   company_name  64 non-null     object\n",
      " 1   trips_amount  64 non-null     int64 \n",
      "dtypes: int64(1), object(1)\n",
      "memory usage: 1.1+ KB\n",
      "\n"
     ]
    }
   ],
   "source": [
    "#review the datasets\n",
    "taxi_company_df.info()\n",
    "print()"
   ]
  },
  {
   "cell_type": "code",
   "execution_count": 4,
   "metadata": {
    "trusted": false
   },
   "outputs": [
    {
     "name": "stdout",
     "output_type": "stream",
     "text": [
      "0\n"
     ]
    }
   ],
   "source": [
    "print(taxi_company_df.duplicated().sum())"
   ]
  },
  {
   "cell_type": "code",
   "execution_count": 5,
   "metadata": {
    "trusted": false
   },
   "outputs": [
    {
     "data": {
      "text/html": [
       "<div>\n",
       "<style scoped>\n",
       "    .dataframe tbody tr th:only-of-type {\n",
       "        vertical-align: middle;\n",
       "    }\n",
       "\n",
       "    .dataframe tbody tr th {\n",
       "        vertical-align: top;\n",
       "    }\n",
       "\n",
       "    .dataframe thead th {\n",
       "        text-align: right;\n",
       "    }\n",
       "</style>\n",
       "<table border=\"1\" class=\"dataframe\">\n",
       "  <thead>\n",
       "    <tr style=\"text-align: right;\">\n",
       "      <th></th>\n",
       "      <th>company_name</th>\n",
       "      <th>trips_amount</th>\n",
       "    </tr>\n",
       "  </thead>\n",
       "  <tbody>\n",
       "    <tr>\n",
       "      <th>26</th>\n",
       "      <td>Gold Coast Taxi</td>\n",
       "      <td>428</td>\n",
       "    </tr>\n",
       "    <tr>\n",
       "      <th>58</th>\n",
       "      <td>5062 - 34841 Sam Mestas</td>\n",
       "      <td>8</td>\n",
       "    </tr>\n",
       "    <tr>\n",
       "      <th>15</th>\n",
       "      <td>Checker Taxi Affiliation</td>\n",
       "      <td>2216</td>\n",
       "    </tr>\n",
       "    <tr>\n",
       "      <th>11</th>\n",
       "      <td>Globe Taxi</td>\n",
       "      <td>4383</td>\n",
       "    </tr>\n",
       "    <tr>\n",
       "      <th>12</th>\n",
       "      <td>Dispatch Taxi Affiliation</td>\n",
       "      <td>3355</td>\n",
       "    </tr>\n",
       "    <tr>\n",
       "      <th>2</th>\n",
       "      <td>Medallion Leasing</td>\n",
       "      <td>10367</td>\n",
       "    </tr>\n",
       "    <tr>\n",
       "      <th>18</th>\n",
       "      <td>24 Seven Taxi</td>\n",
       "      <td>1775</td>\n",
       "    </tr>\n",
       "    <tr>\n",
       "      <th>56</th>\n",
       "      <td>5997 - 65283 AW Services Inc.</td>\n",
       "      <td>12</td>\n",
       "    </tr>\n",
       "    <tr>\n",
       "      <th>10</th>\n",
       "      <td>Choice Taxi Association</td>\n",
       "      <td>5015</td>\n",
       "    </tr>\n",
       "    <tr>\n",
       "      <th>63</th>\n",
       "      <td>3556 - 36214 RC Andrews Cab</td>\n",
       "      <td>2</td>\n",
       "    </tr>\n",
       "  </tbody>\n",
       "</table>\n",
       "</div>"
      ],
      "text/plain": [
       "                     company_name  trips_amount\n",
       "26                Gold Coast Taxi           428\n",
       "58        5062 - 34841 Sam Mestas             8\n",
       "15       Checker Taxi Affiliation          2216\n",
       "11                     Globe Taxi          4383\n",
       "12      Dispatch Taxi Affiliation          3355\n",
       "2               Medallion Leasing         10367\n",
       "18                  24 Seven Taxi          1775\n",
       "56  5997 - 65283 AW Services Inc.            12\n",
       "10        Choice Taxi Association          5015\n",
       "63    3556 - 36214 RC Andrews Cab             2"
      ]
     },
     "execution_count": 5,
     "metadata": {},
     "output_type": "execute_result"
    }
   ],
   "source": [
    "taxi_company_df.sample(10)"
   ]
  },
  {
   "cell_type": "code",
   "execution_count": 6,
   "metadata": {
    "trusted": false
   },
   "outputs": [
    {
     "name": "stdout",
     "output_type": "stream",
     "text": [
      "<class 'pandas.core.frame.DataFrame'>\n",
      "RangeIndex: 94 entries, 0 to 93\n",
      "Data columns (total 2 columns):\n",
      " #   Column                 Non-Null Count  Dtype  \n",
      "---  ------                 --------------  -----  \n",
      " 0   dropoff_location_name  94 non-null     object \n",
      " 1   average_trips          94 non-null     float64\n",
      "dtypes: float64(1), object(1)\n",
      "memory usage: 1.6+ KB\n"
     ]
    }
   ],
   "source": [
    "taxi_dropoff_df.info()"
   ]
  },
  {
   "cell_type": "code",
   "execution_count": 7,
   "metadata": {
    "trusted": false
   },
   "outputs": [
    {
     "name": "stdout",
     "output_type": "stream",
     "text": [
      "0\n"
     ]
    }
   ],
   "source": [
    "print(taxi_dropoff_df.duplicated().sum())"
   ]
  },
  {
   "cell_type": "code",
   "execution_count": 8,
   "metadata": {
    "trusted": false
   },
   "outputs": [
    {
     "data": {
      "text/html": [
       "<div>\n",
       "<style scoped>\n",
       "    .dataframe tbody tr th:only-of-type {\n",
       "        vertical-align: middle;\n",
       "    }\n",
       "\n",
       "    .dataframe tbody tr th {\n",
       "        vertical-align: top;\n",
       "    }\n",
       "\n",
       "    .dataframe thead th {\n",
       "        text-align: right;\n",
       "    }\n",
       "</style>\n",
       "<table border=\"1\" class=\"dataframe\">\n",
       "  <thead>\n",
       "    <tr style=\"text-align: right;\">\n",
       "      <th></th>\n",
       "      <th>dropoff_location_name</th>\n",
       "      <th>average_trips</th>\n",
       "    </tr>\n",
       "  </thead>\n",
       "  <tbody>\n",
       "    <tr>\n",
       "      <th>11</th>\n",
       "      <td>East Village</td>\n",
       "      <td>1212.066667</td>\n",
       "    </tr>\n",
       "    <tr>\n",
       "      <th>43</th>\n",
       "      <td>Mckinley Park</td>\n",
       "      <td>64.033333</td>\n",
       "    </tr>\n",
       "    <tr>\n",
       "      <th>59</th>\n",
       "      <td>Chatham</td>\n",
       "      <td>23.200000</td>\n",
       "    </tr>\n",
       "    <tr>\n",
       "      <th>35</th>\n",
       "      <td>Norwood Park</td>\n",
       "      <td>95.233333</td>\n",
       "    </tr>\n",
       "    <tr>\n",
       "      <th>48</th>\n",
       "      <td>Austin</td>\n",
       "      <td>44.433333</td>\n",
       "    </tr>\n",
       "    <tr>\n",
       "      <th>58</th>\n",
       "      <td>Englewood</td>\n",
       "      <td>25.433333</td>\n",
       "    </tr>\n",
       "    <tr>\n",
       "      <th>81</th>\n",
       "      <td>Morgan Park</td>\n",
       "      <td>7.700000</td>\n",
       "    </tr>\n",
       "    <tr>\n",
       "      <th>87</th>\n",
       "      <td>Pullman</td>\n",
       "      <td>3.896552</td>\n",
       "    </tr>\n",
       "    <tr>\n",
       "      <th>15</th>\n",
       "      <td>Garfield Ridge</td>\n",
       "      <td>745.400000</td>\n",
       "    </tr>\n",
       "    <tr>\n",
       "      <th>32</th>\n",
       "      <td>Douglas</td>\n",
       "      <td>142.900000</td>\n",
       "    </tr>\n",
       "  </tbody>\n",
       "</table>\n",
       "</div>"
      ],
      "text/plain": [
       "   dropoff_location_name  average_trips\n",
       "11          East Village    1212.066667\n",
       "43         Mckinley Park      64.033333\n",
       "59               Chatham      23.200000\n",
       "35          Norwood Park      95.233333\n",
       "48                Austin      44.433333\n",
       "58             Englewood      25.433333\n",
       "81           Morgan Park       7.700000\n",
       "87               Pullman       3.896552\n",
       "15        Garfield Ridge     745.400000\n",
       "32               Douglas     142.900000"
      ]
     },
     "execution_count": 8,
     "metadata": {},
     "output_type": "execute_result"
    }
   ],
   "source": [
    "taxi_dropoff_df.sample(10)"
   ]
  },
  {
   "cell_type": "markdown",
   "metadata": {},
   "source": [
    "For these datasets we can see that there are no missing values, no duplicate rows, and that the data types make sense."
   ]
  },
  {
   "cell_type": "code",
   "execution_count": 9,
   "metadata": {
    "trusted": false
   },
   "outputs": [
    {
     "name": "stdout",
     "output_type": "stream",
     "text": [
      "  dropoff_location_name  average_trips\n",
      "0                  Loop   10727.466667\n",
      "1           River North    9523.666667\n",
      "2         Streeterville    6664.666667\n",
      "3             West Loop    5163.666667\n",
      "4                O'Hare    2546.900000\n",
      "5             Lake View    2420.966667\n",
      "6            Grant Park    2068.533333\n",
      "7         Museum Campus    1510.000000\n",
      "8            Gold Coast    1364.233333\n",
      "9    Sheffield & DePaul    1259.766667\n"
     ]
    }
   ],
   "source": [
    "#identify the top 10 neighborhoods in terms of drop-offs\n",
    "\n",
    "top_10_neighborhoods = taxi_dropoff_df.sort_values(by='average_trips', ascending=False).head(10)\n",
    "print(top_10_neighborhoods)"
   ]
  },
  {
   "cell_type": "code",
   "execution_count": 10,
   "metadata": {
    "trusted": false
   },
   "outputs": [
    {
     "data": {
      "text/plain": [
       "<function matplotlib.pyplot.show(close=None, block=None)>"
      ]
     },
     "execution_count": 10,
     "metadata": {},
     "output_type": "execute_result"
    },
    {
     "data": {
      "image/png": "[encoded data removed]",
      "text/plain": [
       "<Figure size 640x480 with 1 Axes>"
      ]
     },
     "metadata": {},
     "output_type": "display_data"
    }
   ],
   "source": [
    "#make graphs: top 10 neighborhoods by number of dropoffs\n",
    "\n",
    "top_10_neighborhoods.set_index('dropoff_location_name')['average_trips'].plot(kind='bar', stacked= False)\n",
    "plt.title('Top 10 Neighborhoods by Dropoffs')\n",
    "plt.xlabel('Neighborhood')\n",
    "plt.ylabel('Average Number of Trips')\n",
    "plt.xticks(rotation=45)\n",
    "plt.show"
   ]
  },
  {
   "cell_type": "markdown",
   "metadata": {},
   "source": [
    "<div class=\"alert alert-warning\"; style=\"border-left: 7px solid gold\">  \n",
    "<b>⚠️ Reviewer's comment, v. 1</b>  \n",
    "\n",
    "Please add `()` after `plt.show` to ensure it executes correctly.  \n",
    "\n",
    "</div>  \n"
   ]
  },
  {
   "cell_type": "code",
   "execution_count": 11,
   "metadata": {
    "trusted": false
   },
   "outputs": [
    {
     "data": {
      "image/png": "[encoded data removed]",
      "text/plain": [
       "<Figure size 640x480 with 1 Axes>"
      ]
     },
     "metadata": {},
     "output_type": "display_data"
    }
   ],
   "source": [
    "#make graphs: taxi companies and number of rides\n",
    "\n",
    "top_companies = taxi_company_df.nlargest(10, 'trips_amount')  # Get top 10 companies by trip count\n",
    "top_companies.set_index('company_name')['trips_amount'].plot(kind='barh', stacked=False)\n",
    "\n",
    "plt.title('Top 10 Taxi Companies by Number of Rides')\n",
    "plt.xlabel('Number of Rides')\n",
    "plt.ylabel('Taxi Company')\n",
    "plt.xticks(rotation=45)\n",
    "plt.show()"
   ]
  },
  {
   "cell_type": "markdown",
   "metadata": {},
   "source": [
    "To better visualize the top companies we also narrowed it down to the top 10 as having 64 different companies made it very challenging to see a good represenation of the data."
   ]
  },
  {
   "cell_type": "markdown",
   "metadata": {},
   "source": [
    "Based on these graphs we can see that the 2 most popular neighborhoods for dropoffs in Nov 2017 was Loop and River North and then a very steep drop of about 3,000 trips before the next most popular neighborhood. We can also see that Flash Cab is by far the most used taxi service by having over 7,000 more trips than the next most used company. "
   ]
  },
  {
   "cell_type": "markdown",
   "metadata": {},
   "source": [
    "<div class=\"alert alert-success\"; style=\"border-left: 7px solid green\">\n",
    "<b>✅ Reviewer's comment, v. 1</b> \n",
    "    \n",
    "Well done, you studied the data thoroughly.\n",
    "    \n",
    "You alse created an excellent chart with all the required elements, including a clear title, labeled axesand also drawn accurate conclusions from it.\n",
    "    \n",
    "\n",
    "\n"
   ]
  },
  {
   "cell_type": "markdown",
   "metadata": {},
   "source": [
    "# Step 5 Hypotheses Testing"
   ]
  },
  {
   "cell_type": "code",
   "execution_count": 12,
   "metadata": {
    "trusted": false
   },
   "outputs": [
    {
     "name": "stdout",
     "output_type": "stream",
     "text": [
      "<class 'pandas.core.frame.DataFrame'>\n",
      "RangeIndex: 1068 entries, 0 to 1067\n",
      "Data columns (total 3 columns):\n",
      " #   Column              Non-Null Count  Dtype  \n",
      "---  ------              --------------  -----  \n",
      " 0   start_ts            1068 non-null   object \n",
      " 1   weather_conditions  1068 non-null   object \n",
      " 2   duration_seconds    1068 non-null   float64\n",
      "dtypes: float64(1), object(2)\n",
      "memory usage: 25.2+ KB\n"
     ]
    },
    {
     "data": {
      "text/html": [
       "<div>\n",
       "<style scoped>\n",
       "    .dataframe tbody tr th:only-of-type {\n",
       "        vertical-align: middle;\n",
       "    }\n",
       "\n",
       "    .dataframe tbody tr th {\n",
       "        vertical-align: top;\n",
       "    }\n",
       "\n",
       "    .dataframe thead th {\n",
       "        text-align: right;\n",
       "    }\n",
       "</style>\n",
       "<table border=\"1\" class=\"dataframe\">\n",
       "  <thead>\n",
       "    <tr style=\"text-align: right;\">\n",
       "      <th></th>\n",
       "      <th>start_ts</th>\n",
       "      <th>weather_conditions</th>\n",
       "      <th>duration_seconds</th>\n",
       "    </tr>\n",
       "  </thead>\n",
       "  <tbody>\n",
       "    <tr>\n",
       "      <th>871</th>\n",
       "      <td>2017-11-11 05:00:00</td>\n",
       "      <td>Good</td>\n",
       "      <td>1860.0</td>\n",
       "    </tr>\n",
       "  </tbody>\n",
       "</table>\n",
       "</div>"
      ],
      "text/plain": [
       "                start_ts weather_conditions  duration_seconds\n",
       "871  2017-11-11 05:00:00               Good            1860.0"
      ]
     },
     "execution_count": 12,
     "metadata": {},
     "output_type": "execute_result"
    }
   ],
   "source": [
    "#load dataset from the last query of Step 3\n",
    "loop_ohare_df = pd.read_csv('/datasets/project_sql_result_07.csv')\n",
    "loop_ohare_df.info()\n",
    "loop_ohare_df.sample()"
   ]
  },
  {
   "cell_type": "code",
   "execution_count": 13,
   "metadata": {
    "trusted": false
   },
   "outputs": [
    {
     "name": "stdout",
     "output_type": "stream",
     "text": [
      "<class 'pandas.core.frame.DataFrame'>\n",
      "RangeIndex: 1068 entries, 0 to 1067\n",
      "Data columns (total 3 columns):\n",
      " #   Column              Non-Null Count  Dtype         \n",
      "---  ------              --------------  -----         \n",
      " 0   start_ts            1068 non-null   datetime64[ns]\n",
      " 1   weather_conditions  1068 non-null   object        \n",
      " 2   duration_seconds    1068 non-null   float64       \n",
      "dtypes: datetime64[ns](1), float64(1), object(1)\n",
      "memory usage: 25.2+ KB\n"
     ]
    }
   ],
   "source": [
    "#change data type of start_ts to datetime \n",
    "loop_ohare_df['start_ts'] = pd.to_datetime(loop_ohare_df['start_ts'])\n",
    "loop_ohare_df.info()"
   ]
  },
  {
   "cell_type": "markdown",
   "metadata": {},
   "source": [
    "Test the hypothesis:\n",
    "\"The average duration of rides from the Loop to O'Hare International Airport changes on rainy Saturdays.\"\n",
    "\n",
    "To do this we will first have to separate the weather conditions into rainy and not rainy groups."
   ]
  },
  {
   "cell_type": "code",
   "execution_count": 14,
   "metadata": {
    "trusted": false
   },
   "outputs": [],
   "source": [
    "# Separate rides into rainy and non-rainy Saturdays\n",
    "rainy_saturdays = loop_ohare_df[loop_ohare_df['weather_conditions'] == 'Bad']['duration_seconds']\n",
    "non_rainy_saturdays = loop_ohare_df[loop_ohare_df['weather_conditions'] == 'Good']['duration_seconds']"
   ]
  },
  {
   "cell_type": "markdown",
   "metadata": {},
   "source": [
    "In this scenario our null hypothesis is that there is no difference between the average duration of rides on rainy Saturdays and Saturdays when it isn't raining. The Alternative hypothesis is that there is a difference between the average ride duration on rainy Saturdays.\n",
    "\n",
    "To test this we will run the test on the equality of 2 population means with a significance value of 0.05.  To ensure equal variance we will run the Levene's test first."
   ]
  },
  {
   "cell_type": "markdown",
   "metadata": {},
   "source": [
    "<div class=\"alert alert-success\"; style=\"border-left: 7px solid green\">\n",
    "<b>✅ Reviewer's comment, v. 1</b> \n",
    "    \n",
    "You formulated the hypothesis correctly."
   ]
  },
  {
   "cell_type": "code",
   "execution_count": 15,
   "metadata": {
    "trusted": false
   },
   "outputs": [
    {
     "name": "stdout",
     "output_type": "stream",
     "text": [
      "Levene’s test for equal variances: p-value = 0.5332038671974493\n"
     ]
    }
   ],
   "source": [
    "# Check variance equality (Levene’s test)\n",
    "levene_test = st.levene(rainy_saturdays, non_rainy_saturdays)\n",
    "print(f'Levene’s test for equal variances: p-value = {levene_test.pvalue}')"
   ]
  },
  {
   "cell_type": "markdown",
   "metadata": {},
   "source": [
    "Because the p-value for Levene's test is >0.05 we can assume equal variance"
   ]
  },
  {
   "cell_type": "code",
   "execution_count": 16,
   "metadata": {
    "trusted": false
   },
   "outputs": [
    {
     "name": "stdout",
     "output_type": "stream",
     "text": [
      "p-value: 6.738994326108734e-12\n",
      "We reject the null hypothesis\n"
     ]
    }
   ],
   "source": [
    "# Test the hypotheses\n",
    "alpha = 0.05\n",
    "\n",
    "results = st.ttest_ind(rainy_saturdays, non_rainy_saturdays, equal_var= False)\n",
    "\n",
    "print('p-value:', results.pvalue)\n",
    "\n",
    "if results.pvalue < alpha:\n",
    "    print(\"We reject the null hypothesis\")\n",
    "else:\n",
    "    print(\"We can't reject the null hypothesis\")"
   ]
  },
  {
   "cell_type": "markdown",
   "metadata": {},
   "source": [
    "Since the p-value is SO small, we can very confidently reject the null hypothesis that there is no difference between the average duration of rides on rainy vs not rainy Saturdays.  Therefore, we can say that the rain can be a factor in drive times and one should plan accordingly to make sure they do not miss their flight. "
   ]
  },
  {
   "cell_type": "markdown",
   "metadata": {},
   "source": [
    "<div class=\"alert alert-success\"; style=\"border-left: 7px solid green\">\n",
    "<b>✅ Reviewer's comment, v. 1</b> \n",
    "    \n",
    "You used correct type of the test and made accurate conclusions."
   ]
  }
 ],
 "metadata": {
  "ExecuteTimeLog": [
   {
    "duration": 2784,
    "start_time": "2025-02-26T06:03:55.221Z"
   },
   {
    "duration": 646,
    "start_time": "2025-02-26T06:08:29.969Z"
   },
   {
    "duration": 13,
    "start_time": "2025-02-26T06:11:43.978Z"
   },
   {
    "duration": 16,
    "start_time": "2025-02-26T06:12:57.504Z"
   },
   {
    "duration": 22,
    "start_time": "2025-02-26T06:15:50.621Z"
   },
   {
    "duration": 11,
    "start_time": "2025-02-26T06:17:01.437Z"
   },
   {
    "duration": 11,
    "start_time": "2025-02-26T06:17:46.828Z"
   },
   {
    "duration": 9,
    "start_time": "2025-02-26T06:18:18.313Z"
   },
   {
    "duration": 9,
    "start_time": "2025-02-26T06:18:33.908Z"
   },
   {
    "duration": 822,
    "start_time": "2025-02-26T06:18:50.350Z"
   },
   {
    "duration": 9,
    "start_time": "2025-02-26T06:18:51.175Z"
   },
   {
    "duration": 20,
    "start_time": "2025-02-26T06:18:51.186Z"
   },
   {
    "duration": 9,
    "start_time": "2025-02-26T06:19:07.515Z"
   },
   {
    "duration": 3,
    "start_time": "2025-02-26T06:19:35.903Z"
   },
   {
    "duration": 10,
    "start_time": "2025-02-26T06:19:55.155Z"
   },
   {
    "duration": 8,
    "start_time": "2025-02-26T06:20:33.036Z"
   },
   {
    "duration": 3,
    "start_time": "2025-02-26T06:21:20.453Z"
   },
   {
    "duration": 9,
    "start_time": "2025-02-26T06:21:36.742Z"
   },
   {
    "duration": 158,
    "start_time": "2025-02-26T06:26:24.499Z"
   },
   {
    "duration": 16,
    "start_time": "2025-02-26T06:27:07.452Z"
   },
   {
    "duration": 14,
    "start_time": "2025-02-26T06:27:14.993Z"
   },
   {
    "duration": 5,
    "start_time": "2025-02-26T06:28:43.522Z"
   },
   {
    "duration": 150,
    "start_time": "2025-02-26T06:32:19.203Z"
   },
   {
    "duration": 130,
    "start_time": "2025-02-26T06:34:34.911Z"
   },
   {
    "duration": 2,
    "start_time": "2025-02-26T06:36:03.524Z"
   },
   {
    "duration": 1099,
    "start_time": "2025-02-26T06:38:32.227Z"
   },
   {
    "duration": 175,
    "start_time": "2025-02-26T06:43:01.784Z"
   },
   {
    "duration": 150,
    "start_time": "2025-02-26T06:44:55.493Z"
   },
   {
    "duration": 5,
    "start_time": "2025-02-26T06:46:48.412Z"
   },
   {
    "duration": 3,
    "start_time": "2025-02-26T06:46:56.866Z"
   },
   {
    "duration": 528,
    "start_time": "2025-02-26T06:48:49.992Z"
   },
   {
    "duration": 5,
    "start_time": "2025-02-26T06:50:13.988Z"
   },
   {
    "duration": 17,
    "start_time": "2025-02-26T06:51:44.428Z"
   },
   {
    "duration": 5,
    "start_time": "2025-02-26T06:52:05.880Z"
   },
   {
    "duration": 4,
    "start_time": "2025-02-26T06:53:17.967Z"
   },
   {
    "duration": 15,
    "start_time": "2025-02-26T06:53:37.832Z"
   },
   {
    "duration": 8,
    "start_time": "2025-02-26T06:54:59.543Z"
   },
   {
    "duration": 3,
    "start_time": "2025-02-26T06:55:06.468Z"
   },
   {
    "duration": 164,
    "start_time": "2025-02-26T06:58:24.863Z"
   },
   {
    "duration": 164,
    "start_time": "2025-02-26T06:59:01.939Z"
   },
   {
    "duration": 149,
    "start_time": "2025-02-26T06:59:33.521Z"
   },
   {
    "duration": 15,
    "start_time": "2025-02-26T07:06:52.952Z"
   },
   {
    "duration": 17,
    "start_time": "2025-02-26T07:15:31.476Z"
   },
   {
    "duration": 14,
    "start_time": "2025-02-26T07:18:24.827Z"
   },
   {
    "duration": 10,
    "start_time": "2025-02-26T07:18:36.224Z"
   },
   {
    "duration": 4,
    "start_time": "2025-02-26T07:23:21.132Z"
   },
   {
    "duration": 19,
    "start_time": "2025-02-26T07:25:01.992Z"
   },
   {
    "duration": 842,
    "start_time": "2025-02-26T07:25:13.488Z"
   },
   {
    "duration": 14,
    "start_time": "2025-02-26T07:25:14.332Z"
   },
   {
    "duration": 10,
    "start_time": "2025-02-26T07:25:14.348Z"
   },
   {
    "duration": 4,
    "start_time": "2025-02-26T07:25:14.360Z"
   },
   {
    "duration": 9,
    "start_time": "2025-02-26T07:25:14.367Z"
   },
   {
    "duration": 27,
    "start_time": "2025-02-26T07:25:14.379Z"
   },
   {
    "duration": 3,
    "start_time": "2025-02-26T07:25:14.408Z"
   },
   {
    "duration": 7,
    "start_time": "2025-02-26T07:25:14.413Z"
   },
   {
    "duration": 4,
    "start_time": "2025-02-26T07:25:14.422Z"
   },
   {
    "duration": 161,
    "start_time": "2025-02-26T07:25:14.428Z"
   },
   {
    "duration": 159,
    "start_time": "2025-02-26T07:25:14.591Z"
   },
   {
    "duration": 17,
    "start_time": "2025-02-26T07:25:14.752Z"
   },
   {
    "duration": 11,
    "start_time": "2025-02-26T07:25:14.771Z"
   },
   {
    "duration": 21,
    "start_time": "2025-02-26T07:25:14.785Z"
   },
   {
    "duration": 294,
    "start_time": "2025-02-26T07:25:14.808Z"
   },
   {
    "duration": 0,
    "start_time": "2025-02-26T07:25:15.105Z"
   },
   {
    "duration": 5,
    "start_time": "2025-02-26T07:25:58.558Z"
   },
   {
    "duration": 4,
    "start_time": "2025-02-26T07:32:53.493Z"
   },
   {
    "duration": 795,
    "start_time": "2025-02-26T07:44:02.101Z"
   },
   {
    "duration": 14,
    "start_time": "2025-02-26T07:44:02.898Z"
   },
   {
    "duration": 9,
    "start_time": "2025-02-26T07:44:02.914Z"
   },
   {
    "duration": 4,
    "start_time": "2025-02-26T07:44:02.924Z"
   },
   {
    "duration": 7,
    "start_time": "2025-02-26T07:44:02.931Z"
   },
   {
    "duration": 7,
    "start_time": "2025-02-26T07:44:02.940Z"
   },
   {
    "duration": 4,
    "start_time": "2025-02-26T07:44:02.948Z"
   },
   {
    "duration": 8,
    "start_time": "2025-02-26T07:44:02.954Z"
   },
   {
    "duration": 8,
    "start_time": "2025-02-26T07:44:02.963Z"
   },
   {
    "duration": 183,
    "start_time": "2025-02-26T07:44:02.974Z"
   },
   {
    "duration": 153,
    "start_time": "2025-02-26T07:44:03.159Z"
   },
   {
    "duration": 16,
    "start_time": "2025-02-26T07:44:03.314Z"
   },
   {
    "duration": 10,
    "start_time": "2025-02-26T07:44:03.331Z"
   },
   {
    "duration": 6,
    "start_time": "2025-02-26T07:44:03.344Z"
   },
   {
    "duration": 4,
    "start_time": "2025-02-26T07:44:03.353Z"
   },
   {
    "duration": 4,
    "start_time": "2025-02-26T07:45:51.677Z"
   },
   {
    "duration": 752,
    "start_time": "2025-02-26T07:47:06.976Z"
   },
   {
    "duration": 9,
    "start_time": "2025-02-26T07:47:07.730Z"
   },
   {
    "duration": 8,
    "start_time": "2025-02-26T07:47:07.740Z"
   },
   {
    "duration": 3,
    "start_time": "2025-02-26T07:47:07.750Z"
   },
   {
    "duration": 8,
    "start_time": "2025-02-26T07:47:07.755Z"
   },
   {
    "duration": 7,
    "start_time": "2025-02-26T07:47:07.765Z"
   },
   {
    "duration": 32,
    "start_time": "2025-02-26T07:47:07.774Z"
   },
   {
    "duration": 6,
    "start_time": "2025-02-26T07:47:07.808Z"
   },
   {
    "duration": 5,
    "start_time": "2025-02-26T07:47:07.816Z"
   },
   {
    "duration": 159,
    "start_time": "2025-02-26T07:47:07.823Z"
   },
   {
    "duration": 153,
    "start_time": "2025-02-26T07:47:07.984Z"
   },
   {
    "duration": 14,
    "start_time": "2025-02-26T07:47:08.139Z"
   },
   {
    "duration": 10,
    "start_time": "2025-02-26T07:47:08.154Z"
   },
   {
    "duration": 4,
    "start_time": "2025-02-26T07:47:08.166Z"
   },
   {
    "duration": 5,
    "start_time": "2025-02-26T07:47:08.171Z"
   },
   {
    "duration": 4,
    "start_time": "2025-02-26T07:47:08.206Z"
   },
   {
    "duration": 2575,
    "start_time": "2025-02-26T11:12:49.215Z"
   },
   {
    "duration": 19,
    "start_time": "2025-02-26T11:12:51.793Z"
   },
   {
    "duration": 9,
    "start_time": "2025-02-26T11:12:51.813Z"
   },
   {
    "duration": 3,
    "start_time": "2025-02-26T11:12:51.824Z"
   },
   {
    "duration": 7,
    "start_time": "2025-02-26T11:12:51.829Z"
   },
   {
    "duration": 8,
    "start_time": "2025-02-26T11:12:51.837Z"
   },
   {
    "duration": 4,
    "start_time": "2025-02-26T11:12:51.846Z"
   },
   {
    "duration": 7,
    "start_time": "2025-02-26T11:12:51.853Z"
   },
   {
    "duration": 5,
    "start_time": "2025-02-26T11:12:51.861Z"
   },
   {
    "duration": 180,
    "start_time": "2025-02-26T11:12:51.869Z"
   },
   {
    "duration": 161,
    "start_time": "2025-02-26T11:12:52.051Z"
   },
   {
    "duration": 18,
    "start_time": "2025-02-26T11:12:52.214Z"
   },
   {
    "duration": 10,
    "start_time": "2025-02-26T11:12:52.233Z"
   },
   {
    "duration": 5,
    "start_time": "2025-02-26T11:12:52.244Z"
   },
   {
    "duration": 4,
    "start_time": "2025-02-26T11:12:52.251Z"
   },
   {
    "duration": 4,
    "start_time": "2025-02-26T11:12:52.256Z"
   }
  ],
  "kernelspec": {
   "display_name": "Python 3 (ipykernel)",
   "language": "python",
   "name": "python3"
  },
  "language_info": {
   "codemirror_mode": {
    "name": "ipython",
    "version": 3
   },
   "file_extension": ".py",
   "mimetype": "text/x-python",
   "name": "python",
   "nbconvert_exporter": "python",
   "pygments_lexer": "ipython3",
   "version": "3.9.19"
  },
  "toc": {
   "base_numbering": 1,
   "nav_menu": {},
   "number_sections": true,
   "sideBar": true,
   "skip_h1_title": true,
   "title_cell": "Table of Contents",
   "title_sidebar": "Contents",
   "toc_cell": false,
   "toc_position": {},
   "toc_section_display": true,
   "toc_window_display": false
  }
 },
 "nbformat": 4,
 "nbformat_minor": 2
}
