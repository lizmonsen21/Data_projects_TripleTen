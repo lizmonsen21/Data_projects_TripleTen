{
 "cells": [
  {
   "cell_type": "markdown",
   "id": "fe4a7f48",
   "metadata": {},
   "source": [
    "<div style=\"border:solid blue 2px; padding: 20px\">\n",
    "  \n",
    "**Hello Elizabeth**\n",
    "\n",
    "I am happy to review your project today!\n",
    "\n",
    "You will find my comments in coloured cells marked as 'Reviewer's comment'. The cell colour will vary based on the contents - I am explaining it further below. \n",
    "\n",
    "**Note:** Please do not remove or change my comments - they will help me in my future reviews and will make the process smoother for both of us. \n",
    "\n",
    "<div class=\"alert alert-success\"; style=\"border-left: 7px solid green\">\n",
    "<b>✅ Reviewer's comment</b> \n",
    "    \n",
    "Such comment will mark efficient solutions and good ideas that can be used in other projects.\n",
    "</div>\n",
    "\n",
    "<div class=\"alert alert-warning\"; style=\"border-left: 7px solid gold\">\n",
    "<b>⚠️ Reviewer's comment</b> \n",
    "    \n",
    "The parts marked with yellow comments indicate that there is room for optimisation. Though the correction is not necessary it is good if you implement it.\n",
    "</div>\n",
    "\n",
    "<div class=\"alert alert-danger\"; style=\"border-left: 7px solid red\">\n",
    "<b>⛔️ Reviewer's comment</b> \n",
    "    \n",
    "If you see such a comment, it means that there is a problem that needs to be fixed. Please note that I won't be able to accept your project until the issue is resolved.\n",
    "</div>\n",
    "\n",
    "You are also very welcome to leave your comments / describe the corrections you've done / ask me questions, marking them with a different colour. You can use the example below: \n",
    "\n",
    "<div class=\"alert alert-info\"; style=\"border-left: 7px solid blue\">\n",
    "<b>Student's comment</b>"
   ]
  },
  {
   "cell_type": "markdown",
   "id": "f85a80d2",
   "metadata": {},
   "source": [
    "## Basic Python - Project <a id='intro'></a>"
   ]
  },
  {
   "cell_type": "markdown",
   "id": "91b0615b",
   "metadata": {},
   "source": [
    "<div style=\"border:solid green 2px; padding: 20px\">\n",
    "    \n",
    "<div class=\"alert alert-success\">\n",
    "<b>Review summary</b> \n",
    "    \n",
    "Elizabeth, thanks for submitting the project. You've done a very good job and I enjoyed reviewing it.\n",
    "    \n",
    "- You completed all the tasks.\n",
    "- Your code was optimal and easy to read. \n",
    "- You wrote your own functions.\n",
    "    \n",
    "There are no issues that need to be fixed, so I can accept the project now. Awesome job!\n",
    "\n",
    "Thank you for your work and I wish you success in your next projects!) 😊"
   ]
  },
  {
   "cell_type": "markdown",
   "id": "a1262df4",
   "metadata": {},
   "source": [
    "## Introduction <a id='intro'></a>\n",
    "In this project, you will work with data from the entertainment industry. You will study a dataset with records on movies and shows. The research will focus on the \"Golden Age\" of television, which began in 1999 with the release of *The Sopranos* and is still ongoing.\n",
    "\n",
    "The aim of this project is to investigate how the number of votes a title receives impacts its ratings. The assumption is that highly-rated shows (we will focus on TV shows, ignoring movies) released during the \"Golden Age\" of television also have the most votes.\n",
    "\n",
    "### Stages \n",
    "Data on movies and shows is stored in the `/datasets/movies_and_shows.csv` file. There is no information about the quality of the data, so you will need to explore it before doing the analysis.\n",
    "\n",
    "First, you'll evaluate the quality of the data and see whether its issues are significant. Then, during data preprocessing, you will try to account for the most critical problems.\n",
    " \n",
    "Your project will consist of three stages:\n",
    " 1. Data overview\n",
    " 2. Data preprocessing\n",
    " 3. Data analysis"
   ]
  },
  {
   "cell_type": "markdown",
   "id": "73e802a5",
   "metadata": {},
   "source": [
    "<div class=\"alert alert-success\"; style=\"border-left: 7px solid green\">\n",
    "<b>✅ Reviewer's comment, v. 1</b> \n",
    "    \n",
    "Title and introduction are essential parts of the project. Make sure you do not forget to include it in your further projects. \n",
    "    \n",
    "It is optimal if introduction consists of:\n",
    "    \n",
    "- brief description of the situation;\n",
    "- goal of the project;\n",
    "- description of the data we are going to use.\n",
    "</div>"
   ]
  },
  {
   "cell_type": "markdown",
   "id": "ac0593ac",
   "metadata": {},
   "source": [
    "## Stage 1. Data overview <a id='data_review'></a>\n",
    "\n",
    "Open and explore the data."
   ]
  },
  {
   "cell_type": "markdown",
   "id": "e86ed00e",
   "metadata": {},
   "source": [
    "You'll need `pandas`, so import it."
   ]
  },
  {
   "cell_type": "code",
   "execution_count": 112,
   "id": "1727d3f8",
   "metadata": {
    "trusted": false
   },
   "outputs": [],
   "source": [
    "import pandas as pd\n",
    "# importing pandas\n"
   ]
  },
  {
   "cell_type": "markdown",
   "id": "71a61474",
   "metadata": {},
   "source": [
    "<div class=\"alert alert-success\"; style=\"border-left: 7px solid green\">\n",
    "<b>✅ Reviewer's comment, v. 1</b> Needed library has been added </div>"
   ]
  },
  {
   "cell_type": "markdown",
   "id": "9821beeb",
   "metadata": {},
   "source": [
    "Read the `movies_and_shows.csv` file from the `datasets` folder and save it in the `df` variable:"
   ]
  },
  {
   "cell_type": "code",
   "execution_count": 113,
   "id": "fc5a1402",
   "metadata": {
    "trusted": false
   },
   "outputs": [],
   "source": [
    "df = pd.read_csv('/datasets/movies_and_shows.csv')\n",
    "    # reading the files and storing them to df\n"
   ]
  },
  {
   "cell_type": "markdown",
   "id": "ce601e97",
   "metadata": {},
   "source": [
    "<div class=\"alert alert-success\"; style=\"border-left: 7px solid green\">\n",
    "<b>✅ Reviewer's comment, v. 1</b> The correct path to the file is specified: the slash at the beginning of the path is very important, as it indicates that you need to search for the file in the root folder. </div>"
   ]
  },
  {
   "cell_type": "markdown",
   "id": "1cd0a96d",
   "metadata": {},
   "source": [
    "Print the first 10 table rows:"
   ]
  },
  {
   "cell_type": "code",
   "execution_count": 114,
   "id": "acd92001",
   "metadata": {
    "trusted": false
   },
   "outputs": [
    {
     "data": {
      "text/html": [
       "<div>\n",
       "<style scoped>\n",
       "    .dataframe tbody tr th:only-of-type {\n",
       "        vertical-align: middle;\n",
       "    }\n",
       "\n",
       "    .dataframe tbody tr th {\n",
       "        vertical-align: top;\n",
       "    }\n",
       "\n",
       "    .dataframe thead th {\n",
       "        text-align: right;\n",
       "    }\n",
       "</style>\n",
       "<table border=\"1\" class=\"dataframe\">\n",
       "  <thead>\n",
       "    <tr style=\"text-align: right;\">\n",
       "      <th></th>\n",
       "      <th>name</th>\n",
       "      <th>Character</th>\n",
       "      <th>r0le</th>\n",
       "      <th>TITLE</th>\n",
       "      <th>Type</th>\n",
       "      <th>release Year</th>\n",
       "      <th>genres</th>\n",
       "      <th>imdb sc0re</th>\n",
       "      <th>imdb v0tes</th>\n",
       "    </tr>\n",
       "  </thead>\n",
       "  <tbody>\n",
       "    <tr>\n",
       "      <th>0</th>\n",
       "      <td>Robert De Niro</td>\n",
       "      <td>Travis Bickle</td>\n",
       "      <td>ACTOR</td>\n",
       "      <td>Taxi Driver</td>\n",
       "      <td>MOVIE</td>\n",
       "      <td>1976</td>\n",
       "      <td>['drama', 'crime']</td>\n",
       "      <td>8.2</td>\n",
       "      <td>808582.0</td>\n",
       "    </tr>\n",
       "    <tr>\n",
       "      <th>1</th>\n",
       "      <td>Jodie Foster</td>\n",
       "      <td>Iris Steensma</td>\n",
       "      <td>ACTOR</td>\n",
       "      <td>Taxi Driver</td>\n",
       "      <td>MOVIE</td>\n",
       "      <td>1976</td>\n",
       "      <td>['drama', 'crime']</td>\n",
       "      <td>8.2</td>\n",
       "      <td>808582.0</td>\n",
       "    </tr>\n",
       "    <tr>\n",
       "      <th>2</th>\n",
       "      <td>Albert Brooks</td>\n",
       "      <td>Tom</td>\n",
       "      <td>ACTOR</td>\n",
       "      <td>Taxi Driver</td>\n",
       "      <td>MOVIE</td>\n",
       "      <td>1976</td>\n",
       "      <td>['drama', 'crime']</td>\n",
       "      <td>8.2</td>\n",
       "      <td>808582.0</td>\n",
       "    </tr>\n",
       "    <tr>\n",
       "      <th>3</th>\n",
       "      <td>Harvey Keitel</td>\n",
       "      <td>Matthew 'Sport' Higgins</td>\n",
       "      <td>ACTOR</td>\n",
       "      <td>Taxi Driver</td>\n",
       "      <td>MOVIE</td>\n",
       "      <td>1976</td>\n",
       "      <td>['drama', 'crime']</td>\n",
       "      <td>8.2</td>\n",
       "      <td>808582.0</td>\n",
       "    </tr>\n",
       "    <tr>\n",
       "      <th>4</th>\n",
       "      <td>Cybill Shepherd</td>\n",
       "      <td>Betsy</td>\n",
       "      <td>ACTOR</td>\n",
       "      <td>Taxi Driver</td>\n",
       "      <td>MOVIE</td>\n",
       "      <td>1976</td>\n",
       "      <td>['drama', 'crime']</td>\n",
       "      <td>8.2</td>\n",
       "      <td>808582.0</td>\n",
       "    </tr>\n",
       "    <tr>\n",
       "      <th>5</th>\n",
       "      <td>Peter Boyle</td>\n",
       "      <td>Wizard</td>\n",
       "      <td>ACTOR</td>\n",
       "      <td>Taxi Driver</td>\n",
       "      <td>MOVIE</td>\n",
       "      <td>1976</td>\n",
       "      <td>['drama', 'crime']</td>\n",
       "      <td>8.2</td>\n",
       "      <td>808582.0</td>\n",
       "    </tr>\n",
       "    <tr>\n",
       "      <th>6</th>\n",
       "      <td>Leonard Harris</td>\n",
       "      <td>Senator Charles Palantine</td>\n",
       "      <td>ACTOR</td>\n",
       "      <td>Taxi Driver</td>\n",
       "      <td>MOVIE</td>\n",
       "      <td>1976</td>\n",
       "      <td>['drama', 'crime']</td>\n",
       "      <td>8.2</td>\n",
       "      <td>808582.0</td>\n",
       "    </tr>\n",
       "    <tr>\n",
       "      <th>7</th>\n",
       "      <td>Diahnne Abbott</td>\n",
       "      <td>Concession Girl</td>\n",
       "      <td>ACTOR</td>\n",
       "      <td>Taxi Driver</td>\n",
       "      <td>MOVIE</td>\n",
       "      <td>1976</td>\n",
       "      <td>['drama', 'crime']</td>\n",
       "      <td>8.2</td>\n",
       "      <td>808582.0</td>\n",
       "    </tr>\n",
       "    <tr>\n",
       "      <th>8</th>\n",
       "      <td>Gino Ardito</td>\n",
       "      <td>Policeman at Rally</td>\n",
       "      <td>ACTOR</td>\n",
       "      <td>Taxi Driver</td>\n",
       "      <td>MOVIE</td>\n",
       "      <td>1976</td>\n",
       "      <td>['drama', 'crime']</td>\n",
       "      <td>8.2</td>\n",
       "      <td>808582.0</td>\n",
       "    </tr>\n",
       "    <tr>\n",
       "      <th>9</th>\n",
       "      <td>Martin Scorsese</td>\n",
       "      <td>Passenger Watching Silhouette</td>\n",
       "      <td>ACTOR</td>\n",
       "      <td>Taxi Driver</td>\n",
       "      <td>MOVIE</td>\n",
       "      <td>1976</td>\n",
       "      <td>['drama', 'crime']</td>\n",
       "      <td>8.2</td>\n",
       "      <td>808582.0</td>\n",
       "    </tr>\n",
       "  </tbody>\n",
       "</table>\n",
       "</div>"
      ],
      "text/plain": [
       "              name                      Character   r0le        TITLE   Type  \\\n",
       "0   Robert De Niro                  Travis Bickle  ACTOR  Taxi Driver  MOVIE   \n",
       "1     Jodie Foster                  Iris Steensma  ACTOR  Taxi Driver  MOVIE   \n",
       "2    Albert Brooks                            Tom  ACTOR  Taxi Driver  MOVIE   \n",
       "3    Harvey Keitel        Matthew 'Sport' Higgins  ACTOR  Taxi Driver  MOVIE   \n",
       "4  Cybill Shepherd                          Betsy  ACTOR  Taxi Driver  MOVIE   \n",
       "5      Peter Boyle                         Wizard  ACTOR  Taxi Driver  MOVIE   \n",
       "6   Leonard Harris      Senator Charles Palantine  ACTOR  Taxi Driver  MOVIE   \n",
       "7   Diahnne Abbott                Concession Girl  ACTOR  Taxi Driver  MOVIE   \n",
       "8      Gino Ardito             Policeman at Rally  ACTOR  Taxi Driver  MOVIE   \n",
       "9  Martin Scorsese  Passenger Watching Silhouette  ACTOR  Taxi Driver  MOVIE   \n",
       "\n",
       "   release Year              genres  imdb sc0re  imdb v0tes  \n",
       "0          1976  ['drama', 'crime']         8.2    808582.0  \n",
       "1          1976  ['drama', 'crime']         8.2    808582.0  \n",
       "2          1976  ['drama', 'crime']         8.2    808582.0  \n",
       "3          1976  ['drama', 'crime']         8.2    808582.0  \n",
       "4          1976  ['drama', 'crime']         8.2    808582.0  \n",
       "5          1976  ['drama', 'crime']         8.2    808582.0  \n",
       "6          1976  ['drama', 'crime']         8.2    808582.0  \n",
       "7          1976  ['drama', 'crime']         8.2    808582.0  \n",
       "8          1976  ['drama', 'crime']         8.2    808582.0  \n",
       "9          1976  ['drama', 'crime']         8.2    808582.0  "
      ]
     },
     "execution_count": 114,
     "metadata": {},
     "output_type": "execute_result"
    }
   ],
   "source": [
    "df.head(10)\n",
    "# obtaining the first 10 rows from the df table\n",
    "# hint: you can use head() and tail() in Jupyter Notebook without wrapping them into print()\n"
   ]
  },
  {
   "cell_type": "markdown",
   "id": "e579aa91",
   "metadata": {},
   "source": [
    "Obtain the general information about the table with one command:"
   ]
  },
  {
   "cell_type": "code",
   "execution_count": 115,
   "id": "7bf66d2a",
   "metadata": {
    "trusted": false
   },
   "outputs": [
    {
     "name": "stdout",
     "output_type": "stream",
     "text": [
      "<class 'pandas.core.frame.DataFrame'>\n",
      "RangeIndex: 85579 entries, 0 to 85578\n",
      "Data columns (total 9 columns):\n",
      " #   Column        Non-Null Count  Dtype  \n",
      "---  ------        --------------  -----  \n",
      " 0      name       85579 non-null  object \n",
      " 1   Character     85579 non-null  object \n",
      " 2   r0le          85579 non-null  object \n",
      " 3   TITLE         85578 non-null  object \n",
      " 4     Type        85579 non-null  object \n",
      " 5   release Year  85579 non-null  int64  \n",
      " 6   genres        85579 non-null  object \n",
      " 7   imdb sc0re    80970 non-null  float64\n",
      " 8   imdb v0tes    80853 non-null  float64\n",
      "dtypes: float64(2), int64(1), object(6)\n",
      "memory usage: 5.9+ MB\n"
     ]
    }
   ],
   "source": [
    "df.info()\n",
    "# obtaining general information about the data in df\n"
   ]
  },
  {
   "cell_type": "markdown",
   "id": "4da89e2a",
   "metadata": {},
   "source": [
    "<div class=\"alert alert-success\"; style=\"border-left: 7px solid green\">\n",
    "<b>✅ Reviewer's comment, v. 1</b> \n",
    "    \n",
    "Great - you've used a comprehensive set of methods to have a first look at the data.\n",
    "    "
   ]
  },
  {
   "cell_type": "markdown",
   "id": "e91f62a7",
   "metadata": {},
   "source": [
    "The table contains nine columns. The majority store the same data type: object. The only exceptions are `'release Year'` (int64 type), `'imdb sc0re'` (float64 type) and `'imdb v0tes'` (float64 type). Scores and votes will be used in our analysis, so it's important to verify that they are present in the dataframe in the appropriate numeric format. Three columns (`'TITLE'`, `'imdb sc0re'` and `'imdb v0tes'`) have missing values.\n",
    "\n",
    "According to the documentation:\n",
    "- `'name'` — actor/director's name and last name\n",
    "- `'Character'` — character played (for actors)\n",
    "- `'r0le '` — the person's contribution to the title (it can be in the capacity of either actor or director)\n",
    "- `'TITLE '` — title of the movie (show)\n",
    "- `'  Type'` — show or movie\n",
    "- `'release Year'` — year when movie (show) was released\n",
    "- `'genres'` — list of genres under which the movie (show) falls\n",
    "- `'imdb sc0re'` — score on IMDb\n",
    "- `'imdb v0tes'` — votes on IMDb\n",
    "\n",
    "We can see three issues with the column names:\n",
    "1. Some names are uppercase, while others are lowercase.\n",
    "2. There are names containing whitespace.\n",
    "3. A few column names have digit '0' instead of letter 'o'. \n"
   ]
  },
  {
   "cell_type": "markdown",
   "id": "4355de7b",
   "metadata": {},
   "source": [
    "### Conclusions <a id='data_review_conclusions'></a> \n",
    "\n",
    "Each row in the table stores data about a movie or show. The columns can be divided into two categories: the first is about the roles held by different people who worked on the movie or show (role, name of the actor or director, and character if the row is about an actor); the second category is information about the movie or show itself (title, release year, genre, imdb figures).\n",
    "\n",
    "It's clear that there is sufficient data to do the analysis and evaluate our assumption. However, to move forward, we need to preprocess the data."
   ]
  },
  {
   "cell_type": "markdown",
   "id": "616acfbd",
   "metadata": {},
   "source": [
    "<div class=\"alert alert-success\"; style=\"border-left: 7px solid green\">\n",
    "<b>✅ Reviewer's comment, v. 1</b> \n",
    "    \n",
    "Please note that it is highly recommended to add a conclusion / summary after each section and describe briefly your observations and / or major outcomes of the analysis."
   ]
  },
  {
   "cell_type": "markdown",
   "id": "c5dc9111",
   "metadata": {},
   "source": [
    "## Stage 2. Data preprocessing <a id='data_preprocessing'></a>\n",
    "Correct the formatting in the column headers and deal with the missing values. Then, check whether there are duplicates in the data."
   ]
  },
  {
   "cell_type": "code",
   "execution_count": 116,
   "id": "9c850d13",
   "metadata": {
    "trusted": false
   },
   "outputs": [
    {
     "data": {
      "text/plain": [
       "Index(['   name', 'Character', 'r0le', 'TITLE', '  Type', 'release Year',\n",
       "       'genres', 'imdb sc0re', 'imdb v0tes'],\n",
       "      dtype='object')"
      ]
     },
     "execution_count": 116,
     "metadata": {},
     "output_type": "execute_result"
    }
   ],
   "source": [
    "df.columns\n",
    "# the list of column names in the df table\n"
   ]
  },
  {
   "cell_type": "markdown",
   "id": "5f966df9",
   "metadata": {},
   "source": [
    "Change the column names according to the rules of good style:\n",
    "* If the name has several words, use snake_case\n",
    "* All characters must be lowercase\n",
    "* Remove whitespace\n",
    "* Replace zero with letter 'o'"
   ]
  },
  {
   "cell_type": "code",
   "execution_count": 117,
   "id": "23a1dc11",
   "metadata": {
    "trusted": false
   },
   "outputs": [],
   "source": [
    "df = df.rename(columns={\n",
    "    '   name': 'name',\n",
    "    'Character': 'character',\n",
    "    'r0le': 'role',\n",
    "    'TITLE': 'title',\n",
    "    '  Type': 'type',\n",
    "    'release Year': 'release_year',\n",
    "    'imdb sc0re': 'imdb_score',\n",
    "    'imdb v0tes': 'imdb_votes'\n",
    "})\n",
    "# renaming columns\n"
   ]
  },
  {
   "cell_type": "markdown",
   "id": "e24a1003",
   "metadata": {},
   "source": [
    "<div class=\"alert alert-success\"; style=\"border-left: 7px solid green\">\n",
    "<b>✅ Reviewer's comment, v. 1</b> \n",
    "    \n",
    "This is a good way to rename the columns."
   ]
  },
  {
   "cell_type": "markdown",
   "id": "464fbd04",
   "metadata": {},
   "source": [
    "Check the result. Print the names of the columns once more:"
   ]
  },
  {
   "cell_type": "code",
   "execution_count": 118,
   "id": "0eb6527f",
   "metadata": {
    "trusted": false
   },
   "outputs": [
    {
     "name": "stdout",
     "output_type": "stream",
     "text": [
      "Index(['name', 'character', 'role', 'title', 'type', 'release_year', 'genres',\n",
      "       'imdb_score', 'imdb_votes'],\n",
      "      dtype='object')\n"
     ]
    }
   ],
   "source": [
    "print(df.columns)\n",
    "# checking result: the list of column names\n"
   ]
  },
  {
   "cell_type": "markdown",
   "id": "14d9c319",
   "metadata": {},
   "source": [
    "### Missing values <a id='missing_values'></a>\n",
    "First, find the number of missing values in the table. To do so, combine two `pandas` methods:"
   ]
  },
  {
   "cell_type": "code",
   "execution_count": 119,
   "id": "21c427f2",
   "metadata": {
    "trusted": false
   },
   "outputs": [
    {
     "name": "stdout",
     "output_type": "stream",
     "text": [
      "name               0\n",
      "character          0\n",
      "role               0\n",
      "title              1\n",
      "type               0\n",
      "release_year       0\n",
      "genres             0\n",
      "imdb_score      4609\n",
      "imdb_votes      4726\n",
      "dtype: int64\n"
     ]
    }
   ],
   "source": [
    "print(df.isna().sum())\n",
    "# calculating missing values\n"
   ]
  },
  {
   "cell_type": "markdown",
   "id": "6639b6d7",
   "metadata": {},
   "source": [
    "<div class=\"alert alert-success\"; style=\"border-left: 7px solid green\">\n",
    "<b>✅ Reviewer's comment, v. 1</b> \n",
    "    \n",
    "The isna() method is selected to find the missing values, it's great!"
   ]
  },
  {
   "cell_type": "markdown",
   "id": "c8272df3",
   "metadata": {},
   "source": [
    "We identified missing values in several columns. While the missing value in `'title'` isn't critical, missing values in `'imdb_score'` and `'imdb_votes'` affect around 6% of the data, which could impact our analysis. To ensure data integrity, we'll drop all rows with missing values."
   ]
  },
  {
   "cell_type": "code",
   "execution_count": 120,
   "id": "599d5550",
   "metadata": {
    "trusted": false
   },
   "outputs": [],
   "source": [
    "df = df.dropna(subset=['imdb_score', 'imdb_votes'])\n",
    "# dropping rows where columns with scores, and votes have missing values\n"
   ]
  },
  {
   "cell_type": "markdown",
   "id": "2156887f",
   "metadata": {},
   "source": [
    "Make sure the table doesn't contain any more missing values. Count the missing values again."
   ]
  },
  {
   "cell_type": "code",
   "execution_count": 121,
   "id": "55c0b0ce",
   "metadata": {
    "trusted": false
   },
   "outputs": [
    {
     "name": "stdout",
     "output_type": "stream",
     "text": [
      "name            0\n",
      "character       0\n",
      "role            0\n",
      "title           0\n",
      "type            0\n",
      "release_year    0\n",
      "genres          0\n",
      "imdb_score      0\n",
      "imdb_votes      0\n",
      "dtype: int64\n"
     ]
    }
   ],
   "source": [
    "print(df.isna().sum())\n",
    "# counting missing values\n"
   ]
  },
  {
   "cell_type": "markdown",
   "id": "049270cd",
   "metadata": {},
   "source": [
    "<div class=\"alert alert-success\"; style=\"border-left: 7px solid green\">\n",
    "<b>✅ Reviewer's comment, v. 1</b> \n",
    "    \n",
    "Perfect!"
   ]
  },
  {
   "cell_type": "markdown",
   "id": "a7dc7aa0",
   "metadata": {},
   "source": [
    "### Duplicates <a id='duplicates'></a>\n",
    "Find the number of duplicate rows in the table using one command:"
   ]
  },
  {
   "cell_type": "code",
   "execution_count": 122,
   "id": "9227df01",
   "metadata": {
    "trusted": false
   },
   "outputs": [
    {
     "name": "stdout",
     "output_type": "stream",
     "text": [
      "6994\n"
     ]
    }
   ],
   "source": [
    "print(df.duplicated().sum())# counting duplicate rows\n"
   ]
  },
  {
   "cell_type": "markdown",
   "id": "5f6eb0fc",
   "metadata": {},
   "source": [
    "Review the duplicate rows to determine if removing them would distort our dataset."
   ]
  },
  {
   "cell_type": "code",
   "execution_count": 123,
   "id": "bcf32fcb",
   "metadata": {
    "trusted": false
   },
   "outputs": [
    {
     "name": "stdout",
     "output_type": "stream",
     "text": [
      "85574    False\n",
      "85575    False\n",
      "85576    False\n",
      "85577     True\n",
      "85578    False\n",
      "dtype: bool\n",
      "                      name                 character   role    title   type  \\\n",
      "85569       Jessica Cediel           Liliana Navarro  ACTOR  Lokillo  MOVIE   \n",
      "85570  Javier Gardeaz?­bal  Agust??n \"Peluca\" Ort??z  ACTOR  Lokillo  MOVIE   \n",
      "85571        Carla Giraldo            Valery Reinoso  ACTOR  Lokillo  MOVIE   \n",
      "85572  Ana Mar??a S?­nchez                   Lourdes  ACTOR  Lokillo  MOVIE   \n",
      "85577         Isabel Gaona                    Cacica  ACTOR  Lokillo  MOVIE   \n",
      "\n",
      "       release_year      genres  imdb_score  imdb_votes  \n",
      "85569          2021  ['comedy']         3.8        68.0  \n",
      "85570          2021  ['comedy']         3.8        68.0  \n",
      "85571          2021  ['comedy']         3.8        68.0  \n",
      "85572          2021  ['comedy']         3.8        68.0  \n",
      "85577          2021  ['comedy']         3.8        68.0  \n"
     ]
    }
   ],
   "source": [
    "print(df.duplicated().tail())\n",
    "\n",
    "duplicates = df[df.duplicated()]\n",
    "print(duplicates.tail())\n",
    "\n",
    "# Produce table with duplicates (with original rows included) and review last 5 rows\n"
   ]
  },
  {
   "cell_type": "markdown",
   "id": "a1ed6640",
   "metadata": {},
   "source": [
    "There are two clear duplicates in the printed rows. We can safely remove them.\n",
    "Call the `pandas` method for getting rid of duplicate rows:"
   ]
  },
  {
   "cell_type": "code",
   "execution_count": 124,
   "id": "724d5bc8",
   "metadata": {
    "trusted": false
   },
   "outputs": [],
   "source": [
    "df_no_duplicates = df.drop_duplicates()\n",
    "# removing duplicate rows\n",
    "\n"
   ]
  },
  {
   "cell_type": "markdown",
   "id": "fc8c77ba",
   "metadata": {},
   "source": [
    "Check for duplicate rows once more to make sure you have removed all of them:"
   ]
  },
  {
   "cell_type": "code",
   "execution_count": 125,
   "id": "8091a9bc",
   "metadata": {
    "trusted": false
   },
   "outputs": [
    {
     "name": "stdout",
     "output_type": "stream",
     "text": [
      "0\n"
     ]
    }
   ],
   "source": [
    "print(df_no_duplicates.duplicated().sum())\n",
    "\n",
    "\n",
    "# checking for duplicates\n"
   ]
  },
  {
   "cell_type": "markdown",
   "id": "5e8bb6de",
   "metadata": {},
   "source": [
    "<div class=\"alert alert-success\"; style=\"border-left: 7px solid green\">\n",
    "<b>✅ Reviewer's comment, v. 1</b> \n",
    "    \n",
    "Great, you found and removed the duplicates. And did very thorough checks to make sure the duplicates are gone."
   ]
  },
  {
   "cell_type": "markdown",
   "id": "1d802b07",
   "metadata": {},
   "source": [
    "Now get rid of implicit duplicates in the `'type'` column. For example, the string `'SHOW'` can be written in different ways. These kinds of errors will also affect the result."
   ]
  },
  {
   "cell_type": "markdown",
   "id": "d5f987ed",
   "metadata": {},
   "source": [
    "Print a list of unique `'type'` names, sorted in alphabetical order. To do so:\n",
    "* Retrieve the intended dataframe column \n",
    "* Apply a sorting method to it\n",
    "* For the sorted column, call the method that will return all unique column values"
   ]
  },
  {
   "cell_type": "code",
   "execution_count": 126,
   "id": "3d7b0ac5",
   "metadata": {
    "trusted": false
   },
   "outputs": [
    {
     "name": "stdout",
     "output_type": "stream",
     "text": [
      "['MOVIE', 'movies', 'SHOW', 'shows', 'the movie', 'tv', 'tv series', 'tv show', 'tv shows']\n"
     ]
    }
   ],
   "source": [
    "unique_types = sorted(df_no_duplicates['type'].unique(), key=str.lower)\n",
    "print(unique_types)# viewing unique type names\n"
   ]
  },
  {
   "cell_type": "markdown",
   "id": "f1d87f9d",
   "metadata": {},
   "source": [
    "<div class=\"alert alert-success\"; style=\"border-left: 7px solid green\">\n",
    "<b>✅ Reviewer's comment, v. 1</b> \n",
    "    \n",
    "This is good. "
   ]
  },
  {
   "cell_type": "markdown",
   "id": "ac6e8b18",
   "metadata": {},
   "source": [
    "Look through the list to find implicit duplicates of `'show'` (`'movie'` duplicates will be ignored since the assumption is about shows). These could be names written incorrectly or alternative names of the same genre.\n",
    "\n",
    "You will see the following implicit duplicates:\n",
    "* `'shows'`\n",
    "* `'SHOW'`\n",
    "* `'tv show'`\n",
    "* `'tv shows'`\n",
    "* `'tv series'`\n",
    "* `'tv'`\n",
    "\n",
    "To get rid of them, declare the function `replace_wrong_show()` with two parameters: \n",
    "* `wrong_shows_list=` — the list of duplicates\n",
    "* `correct_show=` — the string with the correct value\n",
    "\n",
    "The function should correct the names in the `'type'` column from the `df` table (i.e., replace each value from the `wrong_shows_list` list with the value in `correct_show`)."
   ]
  },
  {
   "cell_type": "code",
   "execution_count": 135,
   "id": "bff944f9",
   "metadata": {
    "trusted": false
   },
   "outputs": [],
   "source": [
    "def replace_wrong_show(wrong_shows_list, correct_show, df_no_duplicates):\n",
    "    \n",
    "    df_no_duplicates_correct_type= df_no_duplicates.copy()\n",
    "    \n",
    "    df_no_duplicates_correct_type['type'] = df_no_duplicates_correct_type['type'].replace(wrong_shows_list , correct_show)\n",
    "    \n",
    "    return df_no_duplicates_correct_type\n",
    " \n",
    "\n",
    "# removing implicit duplicates    \n",
    "# function for replacing implicit duplicates\n"
   ]
  },
  {
   "cell_type": "markdown",
   "id": "d02d13a6",
   "metadata": {},
   "source": [
    "Call `replace_wrong_show()` and pass it arguments so that it clears implicit duplicates and replaces them with `SHOW`:"
   ]
  },
  {
   "cell_type": "code",
   "execution_count": 136,
   "id": "a2217e53",
   "metadata": {
    "trusted": false
   },
   "outputs": [],
   "source": [
    "wrong_shows_list = ['shows','SHOW', 'tv show', 'tv shows', 'tv series', 'tv']\n",
    "correct_show = 'show'# removing implicit duplicates\n",
    "\n",
    "df_no_duplicates_correct_type = replace_wrong_show(wrong_shows_list, correct_show, df_no_duplicates)"
   ]
  },
  {
   "cell_type": "markdown",
   "id": "5ea9b93c",
   "metadata": {},
   "source": [
    "<div class=\"alert alert-success\"; style=\"border-left: 7px solid green\">\n",
    "<b>✅ Reviewer's comment, v. 1</b> \n",
    "    \n",
    "Yes, this is what was needed!"
   ]
  },
  {
   "cell_type": "markdown",
   "id": "318b09f7",
   "metadata": {},
   "source": [
    "Make sure the duplicate names are removed. Print the list of unique values from the `'type'` column:"
   ]
  },
  {
   "cell_type": "code",
   "execution_count": 137,
   "id": "25d49d73",
   "metadata": {
    "trusted": false
   },
   "outputs": [
    {
     "name": "stdout",
     "output_type": "stream",
     "text": [
      "['MOVIE' 'the movie' 'show' 'movies']\n"
     ]
    }
   ],
   "source": [
    "print (df_no_duplicates_correct_type['type'].unique())# viewing unique genre names\n"
   ]
  },
  {
   "cell_type": "markdown",
   "id": "18b2049e",
   "metadata": {},
   "source": [
    "### Conclusions <a id='data_preprocessing_conclusions'></a>\n",
    "We detected three issues with the data:\n",
    "\n",
    "- Incorrect header styles\n",
    "- Missing values\n",
    "- Duplicate rows and implicit duplicates\n",
    "\n",
    "The headers have been cleaned up to make processing the table simpler.\n",
    "\n",
    "All rows with missing values have been removed. \n",
    "\n",
    "The absence of duplicates will make the results more precise and easier to understand.\n",
    "\n",
    "Now we can move on to our analysis of the prepared data."
   ]
  },
  {
   "cell_type": "markdown",
   "id": "1aa0f1b1",
   "metadata": {},
   "source": [
    "## Stage 3. Data analysis <a id='hypotheses'></a>"
   ]
  },
  {
   "cell_type": "markdown",
   "id": "f8fb6a0e",
   "metadata": {},
   "source": [
    "Based on the previous project stages, you can now define how the assumption will be checked. Calculate the average amount of votes for each score (this data is available in the `imdb_score` and `imdb_votes` columns), and then check how these averages relate to each other. If the averages for shows with the highest scores are bigger than those for shows with lower scores, the assumption appears to be true.\n",
    "\n",
    "Based on this, complete the following steps:\n",
    "\n",
    "- Filter the dataframe to only include shows released in 1999 or later.\n",
    "- Group scores into buckets by rounding the values of the appropriate column (a set of 1-10 integers will help us make the outcome of our calculations more evident without damaging the quality of our research).\n",
    "- Identify outliers among scores based on their number of votes, and exclude scores with few votes.\n",
    "- Calculate the average votes for each score and check whether the assumption matches the results."
   ]
  },
  {
   "cell_type": "markdown",
   "id": "0ea2cb51",
   "metadata": {},
   "source": [
    "To filter the dataframe and only include shows released in 1999 or later, you will take two steps. First, keep only titles published in 1999 or later in our dataframe. Then, filter the table to only contain shows (movies will be removed)."
   ]
  },
  {
   "cell_type": "code",
   "execution_count": 153,
   "id": "6a704aa1",
   "metadata": {
    "trusted": false
   },
   "outputs": [
    {
     "name": "stdout",
     "output_type": "stream",
     "text": [
      "[2000 1999 2008 2002 2010 2005 2007 2004 2006 2009 2003 2001 2011 2012\n",
      " 2013 2014 2015 2016 2018 2017 2019 2020 2022 2021]\n"
     ]
    }
   ],
   "source": [
    "df_shows_after_1999 = df_no_duplicates_correct_type[df_no_duplicates_correct_type['release_year'] >= 1999]\n",
    "\n",
    "\n",
    "print(df_shows_after_1999['release_year'].unique())\n",
    "\n",
    "# using conditional indexing modify df so it has only titles released after 1999 (with 1999 included)\n",
    "# give the slice of dataframe new name\n"
   ]
  },
  {
   "cell_type": "code",
   "execution_count": 154,
   "id": "128dc6a9",
   "metadata": {
    "scrolled": true,
    "trusted": false
   },
   "outputs": [
    {
     "name": "stdout",
     "output_type": "stream",
     "text": [
      "['show']\n",
      "[2000 1999 2008 2002 2010 2005 2006 2009 2003 2007 2004 2001 2011 2012\n",
      " 2013 2014 2015 2016 2018 2017 2019 2020 2022 2021]\n"
     ]
    }
   ],
   "source": [
    "df_shows_after_1999 = df_shows_after_1999[df_shows_after_1999['type'] == 'show']\n",
    "\n",
    "print(df_shows_after_1999['type'].unique())\n",
    "print(df_shows_after_1999['release_year'].unique())\n",
    "# repeat conditional indexing so df has only shows (movies are removed as result)\n"
   ]
  },
  {
   "cell_type": "markdown",
   "id": "9648040c",
   "metadata": {},
   "source": [
    "The scores that are to be grouped should be rounded. For instance, titles with scores like 7.8, 8.1, and 8.3 will all be placed in the same bucket with a score of 8."
   ]
  },
  {
   "cell_type": "code",
   "execution_count": 170,
   "id": "54bbd5c0",
   "metadata": {
    "trusted": false
   },
   "outputs": [
    {
     "name": "stdout",
     "output_type": "stream",
     "text": [
      "85433    8.0\n",
      "85434    8.0\n",
      "85435    8.0\n",
      "85436    8.0\n",
      "85437    8.0\n",
      "Name: rounded_score, dtype: float64\n"
     ]
    }
   ],
   "source": [
    "df_shows_after_1999['rounded_score'] = df_shows_after_1999['imdb_score'].round()\n",
    "# rounding column with scores\n",
    "\n",
    "print(df_shows_after_1999['rounded_score'].tail())\n",
    "#checking the outcome with tail()\n"
   ]
  },
  {
   "cell_type": "markdown",
   "id": "4a06c32f",
   "metadata": {},
   "source": [
    "<div class=\"alert alert-success\"; style=\"border-left: 7px solid green\">\n",
    "<b>✅ Reviewer's comment, v. 1</b> \n",
    "    \n",
    "All the transformations were performed absolutely correctly"
   ]
  },
  {
   "cell_type": "markdown",
   "id": "36dbd00a",
   "metadata": {},
   "source": [
    "It is now time to identify outliers based on the number of votes."
   ]
  },
  {
   "cell_type": "code",
   "execution_count": 173,
   "id": "b8b55e95",
   "metadata": {
    "trusted": false
   },
   "outputs": [
    {
     "name": "stdout",
     "output_type": "stream",
     "text": [
      "rounded_score\n",
      "2.0       24\n",
      "3.0       27\n",
      "4.0      180\n",
      "5.0      592\n",
      "6.0     2494\n",
      "7.0     4706\n",
      "8.0     4842\n",
      "9.0      557\n",
      "10.0       8\n",
      "Name: imdb_votes, dtype: int64\n"
     ]
    }
   ],
   "source": [
    "print(df_shows_after_1999.groupby('rounded_score')['imdb_votes'].count())\n",
    "# Use groupby() for scores and count all unique values in each group, print the result\n"
   ]
  },
  {
   "cell_type": "markdown",
   "id": "59ceb994",
   "metadata": {},
   "source": [
    "<div class=\"alert alert-success\"; style=\"border-left: 7px solid green\">\n",
    "<b>✅ Reviewer's comment, v. 1</b> \n",
    "    \n",
    "The dataframe was filtered and grouped flawlessly"
   ]
  },
  {
   "cell_type": "markdown",
   "id": "1ba6daae",
   "metadata": {},
   "source": [
    "Based on the aggregation performed, it is evident that scores 2 (24 voted shows), 3 (27 voted shows), and 10 (only 8 voted shows) are outliers. There isn't enough data for these scores for the average number of votes to be meaningful."
   ]
  },
  {
   "cell_type": "markdown",
   "id": "bd468c46",
   "metadata": {},
   "source": [
    "To obtain the mean numbers of votes for the selected scores (we identified a range of 4-9 as acceptable), use conditional filtering and grouping."
   ]
  },
  {
   "cell_type": "code",
   "execution_count": 188,
   "id": "d1867e0e",
   "metadata": {
    "trusted": false
   },
   "outputs": [
    {
     "name": "stdout",
     "output_type": "stream",
     "text": [
      "   rounded_score     imdb_votes\n",
      "0            4.0    5277.583333\n",
      "1            5.0    3143.942568\n",
      "2            6.0    3481.717322\n",
      "3            7.0    8727.068211\n",
      "4            8.0   30299.460967\n",
      "5            9.0  126904.109515\n"
     ]
    }
   ],
   "source": [
    "df_shows_after_1999_meaningful_scores = df_shows_after_1999 [df_shows_after_1999['rounded_score'] >= 4]\n",
    "df_shows_after_1999_meaningful_scores = df_shows_after_1999_meaningful_scores[df_shows_after_1999_meaningful_scores['rounded_score'] <= 9]\n",
    "# filter dataframe using two conditions (scores to be in the range 4-9)\n",
    "\n",
    "average_votes_per_score = df_shows_after_1999_meaningful_scores.groupby('rounded_score')['imdb_votes'].mean()\n",
    "average_votes_per_score = average_votes_per_score.reset_index()\n",
    "print(average_votes_per_score)\n",
    "# group scores and corresponding average number of votes, reset index and print the result\n"
   ]
  },
  {
   "cell_type": "markdown",
   "id": "96a66d14",
   "metadata": {},
   "source": [
    "Now for the final step! Round the column with the averages, rename both columns, and print the dataframe in descending order."
   ]
  },
  {
   "cell_type": "code",
   "execution_count": 190,
   "id": "5999051b",
   "metadata": {
    "trusted": false
   },
   "outputs": [
    {
     "name": "stdout",
     "output_type": "stream",
     "text": [
      "   scores  average_votes\n",
      "5     9.0       126904.0\n",
      "4     8.0        30299.0\n",
      "3     7.0         8727.0\n",
      "0     4.0         5278.0\n",
      "2     6.0         3482.0\n",
      "1     5.0         3144.0\n"
     ]
    }
   ],
   "source": [
    "final_df = average_votes_per_score.round()\n",
    "# round column with averages\n",
    "\n",
    "final_df.columns = ['scores', 'average_votes']\n",
    "# rename columns\n",
    "\n",
    "final_df_sorted = final_df.sort_values(by='average_votes', ascending=False)\n",
    "print(final_df_sorted)# print dataframe in descending order\n"
   ]
  },
  {
   "cell_type": "markdown",
   "id": "0e84776c",
   "metadata": {},
   "source": [
    "<div class=\"alert alert-success\"; style=\"border-left: 7px solid green\">\n",
    "<b>✅ Reviewer's comment, v. 1</b> \n",
    "    \n",
    "Great! Also correct rounding and grouping in this section"
   ]
  },
  {
   "cell_type": "markdown",
   "id": "af07386d",
   "metadata": {},
   "source": [
    "The assumption macthes the analysis: the shows with the top 3 scores have the most amounts of votes."
   ]
  },
  {
   "cell_type": "markdown",
   "id": "84e29a37",
   "metadata": {},
   "source": [
    "## Conclusion <a id='hypotheses'></a>"
   ]
  },
  {
   "cell_type": "markdown",
   "id": "984766a3",
   "metadata": {},
   "source": [
    "The research done confirms that highly-rated shows released during the \"Golden Age\" of television also have the most votes. While shows with score 4 have more votes than ones with scores 5 and 6, the top three (scores 7-9) have the largest number. The data studied represents around 94% of the original set, so we can be confident in our findings."
   ]
  },
  {
   "cell_type": "markdown",
   "id": "31dba1f5",
   "metadata": {},
   "source": [
    "<div class=\"alert alert-success\"; style=\"border-left: 7px solid green\">\n",
    "<b>✅ Reviewer's comment, v. 1</b> \n",
    "    \n",
    "Overall conclusion is an important part, where we should include the summary of the outcomes of the project."
   ]
  }
 ],
 "metadata": {
  "ExecuteTimeLog": [
   {
    "duration": 163,
    "start_time": "2024-11-27T00:19:12.561Z"
   },
   {
    "duration": 367,
    "start_time": "2024-11-27T00:19:21.441Z"
   },
   {
    "duration": 403,
    "start_time": "2024-11-27T00:19:29.437Z"
   },
   {
    "duration": 138,
    "start_time": "2024-11-27T00:20:31.036Z"
   },
   {
    "duration": 16,
    "start_time": "2024-11-27T00:22:02.997Z"
   },
   {
    "duration": 24,
    "start_time": "2024-11-27T00:22:38.626Z"
   },
   {
    "duration": 12,
    "start_time": "2024-11-27T00:38:50.365Z"
   },
   {
    "duration": 3,
    "start_time": "2024-11-27T00:41:05.614Z"
   },
   {
    "duration": 6,
    "start_time": "2024-11-27T00:45:19.278Z"
   },
   {
    "duration": 9,
    "start_time": "2024-11-27T00:45:33.149Z"
   },
   {
    "duration": 6,
    "start_time": "2024-11-27T00:46:07.440Z"
   },
   {
    "duration": 7,
    "start_time": "2024-11-27T00:46:19.465Z"
   },
   {
    "duration": 4,
    "start_time": "2024-11-27T00:46:45.040Z"
   },
   {
    "duration": 9,
    "start_time": "2024-11-27T00:46:56.437Z"
   },
   {
    "duration": 18,
    "start_time": "2024-11-27T00:48:00.029Z"
   },
   {
    "duration": 12,
    "start_time": "2024-11-27T00:56:00.172Z"
   },
   {
    "duration": 16,
    "start_time": "2024-11-27T00:58:43.997Z"
   },
   {
    "duration": 17,
    "start_time": "2024-11-27T00:59:19.054Z"
   },
   {
    "duration": 44,
    "start_time": "2024-11-27T01:01:29.686Z"
   },
   {
    "duration": 43,
    "start_time": "2024-11-27T01:10:49.694Z"
   },
   {
    "duration": 44,
    "start_time": "2024-11-27T01:12:44.910Z"
   },
   {
    "duration": 184,
    "start_time": "2024-11-27T01:46:30.482Z"
   },
   {
    "duration": 12,
    "start_time": "2024-11-27T01:47:15.089Z"
   },
   {
    "duration": 11,
    "start_time": "2024-11-27T01:51:54.110Z"
   },
   {
    "duration": 13,
    "start_time": "2024-11-27T01:52:25.281Z"
   },
   {
    "duration": 13,
    "start_time": "2024-11-27T01:53:17.937Z"
   },
   {
    "duration": 12,
    "start_time": "2024-11-27T01:53:58.194Z"
   },
   {
    "duration": 12,
    "start_time": "2024-11-27T01:54:16.610Z"
   },
   {
    "duration": 49,
    "start_time": "2024-11-27T01:54:32.266Z"
   },
   {
    "duration": 17,
    "start_time": "2024-11-27T01:54:46.059Z"
   },
   {
    "duration": 284,
    "start_time": "2024-11-27T01:54:55.589Z"
   },
   {
    "duration": 152,
    "start_time": "2024-11-27T01:55:00.606Z"
   },
   {
    "duration": 16,
    "start_time": "2024-11-27T01:55:04.926Z"
   },
   {
    "duration": 24,
    "start_time": "2024-11-27T01:55:08.462Z"
   },
   {
    "duration": 3,
    "start_time": "2024-11-27T01:55:13.968Z"
   },
   {
    "duration": 6,
    "start_time": "2024-11-27T01:55:18.059Z"
   },
   {
    "duration": 3,
    "start_time": "2024-11-27T01:55:21.462Z"
   },
   {
    "duration": 20,
    "start_time": "2024-11-27T01:55:26.630Z"
   },
   {
    "duration": 16,
    "start_time": "2024-11-27T01:55:29.909Z"
   },
   {
    "duration": 17,
    "start_time": "2024-11-27T01:55:32.278Z"
   },
   {
    "duration": 46,
    "start_time": "2024-11-27T01:55:36.510Z"
   },
   {
    "duration": 5,
    "start_time": "2024-11-27T01:57:00.518Z"
   },
   {
    "duration": 6,
    "start_time": "2024-11-27T01:59:10.446Z"
   },
   {
    "duration": 39,
    "start_time": "2024-11-27T02:00:15.785Z"
   },
   {
    "duration": 43,
    "start_time": "2024-11-27T02:02:01.213Z"
   },
   {
    "duration": 46,
    "start_time": "2024-11-27T02:02:51.953Z"
   },
   {
    "duration": 43,
    "start_time": "2024-11-27T02:04:08.104Z"
   },
   {
    "duration": 46,
    "start_time": "2024-11-27T02:06:37.520Z"
   },
   {
    "duration": 43,
    "start_time": "2024-11-27T02:12:21.396Z"
   },
   {
    "duration": 43,
    "start_time": "2024-11-27T02:13:09.807Z"
   },
   {
    "duration": 44,
    "start_time": "2024-11-27T02:19:05.780Z"
   },
   {
    "duration": 2,
    "start_time": "2024-11-27T02:36:06.646Z"
   },
   {
    "duration": 117,
    "start_time": "2024-11-27T02:36:06.995Z"
   },
   {
    "duration": 10,
    "start_time": "2024-11-27T02:36:07.451Z"
   },
   {
    "duration": 24,
    "start_time": "2024-11-27T02:36:07.877Z"
   },
   {
    "duration": 4,
    "start_time": "2024-11-27T02:36:08.681Z"
   },
   {
    "duration": 7,
    "start_time": "2024-11-27T02:36:09.063Z"
   },
   {
    "duration": 2,
    "start_time": "2024-11-27T02:36:09.486Z"
   },
   {
    "duration": 19,
    "start_time": "2024-11-27T02:36:10.215Z"
   },
   {
    "duration": 11,
    "start_time": "2024-11-27T02:36:11.077Z"
   },
   {
    "duration": 18,
    "start_time": "2024-11-27T02:36:11.739Z"
   },
   {
    "duration": 42,
    "start_time": "2024-11-27T02:36:12.269Z"
   },
   {
    "duration": 45,
    "start_time": "2024-11-27T02:36:13.459Z"
   },
   {
    "duration": 90,
    "start_time": "2024-11-27T02:36:46.833Z"
   },
   {
    "duration": 47,
    "start_time": "2024-11-27T02:37:36.584Z"
   },
   {
    "duration": 47,
    "start_time": "2024-11-27T02:38:05.388Z"
   },
   {
    "duration": 55,
    "start_time": "2024-11-27T02:38:55.510Z"
   },
   {
    "duration": 38,
    "start_time": "2024-11-27T02:44:37.266Z"
   },
   {
    "duration": 79,
    "start_time": "2024-11-27T02:44:51.693Z"
   },
   {
    "duration": 85,
    "start_time": "2024-11-27T02:46:10.110Z"
   },
   {
    "duration": 40,
    "start_time": "2024-11-27T02:52:27.524Z"
   },
   {
    "duration": 39,
    "start_time": "2024-11-27T02:52:59.057Z"
   },
   {
    "duration": 40,
    "start_time": "2024-11-27T02:53:33.234Z"
   },
   {
    "duration": 81,
    "start_time": "2024-11-27T02:54:15.087Z"
   },
   {
    "duration": 79,
    "start_time": "2024-11-27T02:55:28.314Z"
   },
   {
    "duration": 81,
    "start_time": "2024-11-27T02:56:41.797Z"
   },
   {
    "duration": 40,
    "start_time": "2024-11-27T02:57:47.962Z"
   },
   {
    "duration": 2,
    "start_time": "2024-11-27T02:58:04.594Z"
   },
   {
    "duration": 2,
    "start_time": "2024-11-27T02:58:09.078Z"
   },
   {
    "duration": 40,
    "start_time": "2024-11-27T02:58:14.086Z"
   },
   {
    "duration": 17,
    "start_time": "2024-11-27T02:58:54.603Z"
   },
   {
    "duration": 3,
    "start_time": "2024-11-27T02:59:40.543Z"
   },
   {
    "duration": 123,
    "start_time": "2024-11-27T02:59:46.697Z"
   },
   {
    "duration": 10,
    "start_time": "2024-11-27T02:59:52.546Z"
   },
   {
    "duration": 23,
    "start_time": "2024-11-27T03:00:04.122Z"
   },
   {
    "duration": 4,
    "start_time": "2024-11-27T03:00:18.362Z"
   },
   {
    "duration": 8,
    "start_time": "2024-11-27T03:00:22.571Z"
   },
   {
    "duration": 3,
    "start_time": "2024-11-27T03:00:25.420Z"
   },
   {
    "duration": 19,
    "start_time": "2024-11-27T03:00:29.150Z"
   },
   {
    "duration": 11,
    "start_time": "2024-11-27T03:00:33.118Z"
   },
   {
    "duration": 19,
    "start_time": "2024-11-27T03:00:35.558Z"
   },
   {
    "duration": 43,
    "start_time": "2024-11-27T03:00:51.621Z"
   },
   {
    "duration": 83,
    "start_time": "2024-11-27T03:00:55.218Z"
   },
   {
    "duration": 41,
    "start_time": "2024-11-27T03:04:41.065Z"
   },
   {
    "duration": 10627,
    "start_time": "2024-11-27T03:05:41.843Z"
   },
   {
    "duration": 43,
    "start_time": "2024-11-27T03:06:37.890Z"
   },
   {
    "duration": 10811,
    "start_time": "2024-11-27T03:06:41.320Z"
   },
   {
    "duration": 11,
    "start_time": "2024-11-27T03:06:54.918Z"
   },
   {
    "duration": 8,
    "start_time": "2024-11-27T03:08:40.885Z"
   },
   {
    "duration": 79,
    "start_time": "2024-11-27T03:10:03.801Z"
   },
   {
    "duration": 43,
    "start_time": "2024-11-27T03:10:17.498Z"
   },
   {
    "duration": 79,
    "start_time": "2024-11-27T03:10:57.974Z"
   },
   {
    "duration": 44,
    "start_time": "2024-11-27T03:11:12.316Z"
   },
   {
    "duration": 43,
    "start_time": "2024-11-27T03:12:20.846Z"
   },
   {
    "duration": 6,
    "start_time": "2024-11-27T03:14:49.051Z"
   },
   {
    "duration": 7,
    "start_time": "2024-11-27T03:20:12.835Z"
   },
   {
    "duration": 13,
    "start_time": "2024-11-27T03:23:17.202Z"
   },
   {
    "duration": 47,
    "start_time": "2024-11-27T03:23:44.330Z"
   },
   {
    "duration": 45,
    "start_time": "2024-11-27T03:23:58.310Z"
   },
   {
    "duration": 49,
    "start_time": "2024-11-27T03:26:20.647Z"
   },
   {
    "duration": 44,
    "start_time": "2024-11-27T03:27:02.762Z"
   },
   {
    "duration": 4,
    "start_time": "2024-11-27T03:30:49.731Z"
   },
   {
    "duration": 12,
    "start_time": "2024-11-27T03:31:48.963Z"
   },
   {
    "duration": 13,
    "start_time": "2024-11-27T03:32:26.879Z"
   },
   {
    "duration": 13,
    "start_time": "2024-11-27T03:32:39.045Z"
   },
   {
    "duration": 33,
    "start_time": "2024-11-27T03:41:50.098Z"
   },
   {
    "duration": 38,
    "start_time": "2024-11-27T03:42:56.563Z"
   },
   {
    "duration": 54,
    "start_time": "2024-11-27T03:45:24.164Z"
   },
   {
    "duration": 55,
    "start_time": "2024-11-27T03:45:47.440Z"
   },
   {
    "duration": 35,
    "start_time": "2024-11-27T03:49:32.047Z"
   },
   {
    "duration": 49,
    "start_time": "2024-11-27T03:58:08.746Z"
   },
   {
    "duration": 46,
    "start_time": "2024-11-27T03:58:24.098Z"
   },
   {
    "duration": 54,
    "start_time": "2024-11-27T04:46:15.706Z"
   },
   {
    "duration": 21,
    "start_time": "2024-11-27T04:46:30.954Z"
   },
   {
    "duration": 11,
    "start_time": "2024-11-27T04:46:53.665Z"
   },
   {
    "duration": 35,
    "start_time": "2024-11-27T04:47:16.933Z"
   },
   {
    "duration": 180,
    "start_time": "2024-11-27T04:51:53.575Z"
   },
   {
    "duration": 36,
    "start_time": "2024-11-27T04:52:12.679Z"
   },
   {
    "duration": 6,
    "start_time": "2024-11-27T04:53:21.420Z"
   },
   {
    "duration": 7,
    "start_time": "2024-11-27T05:07:51.498Z"
   },
   {
    "duration": 2,
    "start_time": "2024-11-27T05:10:58.067Z"
   },
   {
    "duration": 121,
    "start_time": "2024-11-27T05:10:58.403Z"
   },
   {
    "duration": 10,
    "start_time": "2024-11-27T05:10:58.706Z"
   },
   {
    "duration": 25,
    "start_time": "2024-11-27T05:10:59.050Z"
   },
   {
    "duration": 4,
    "start_time": "2024-11-27T05:10:59.851Z"
   },
   {
    "duration": 5,
    "start_time": "2024-11-27T05:11:00.355Z"
   },
   {
    "duration": 2,
    "start_time": "2024-11-27T05:11:01.032Z"
   },
   {
    "duration": 19,
    "start_time": "2024-11-27T05:11:01.389Z"
   },
   {
    "duration": 11,
    "start_time": "2024-11-27T05:11:02.732Z"
   },
   {
    "duration": 18,
    "start_time": "2024-11-27T05:11:18.336Z"
   },
   {
    "duration": 40,
    "start_time": "2024-11-27T05:11:21.784Z"
   },
   {
    "duration": 83,
    "start_time": "2024-11-27T05:11:26.251Z"
   },
   {
    "duration": 43,
    "start_time": "2024-11-27T05:11:33.370Z"
   },
   {
    "duration": 36,
    "start_time": "2024-11-27T05:11:37.064Z"
   },
   {
    "duration": 6,
    "start_time": "2024-11-27T05:11:42.255Z"
   },
   {
    "duration": 559,
    "start_time": "2024-11-27T05:17:09.604Z"
   },
   {
    "duration": 65,
    "start_time": "2024-11-27T05:18:49.961Z"
   },
   {
    "duration": 6,
    "start_time": "2024-11-27T05:27:52.067Z"
   },
   {
    "duration": 5,
    "start_time": "2024-11-27T05:28:48.011Z"
   },
   {
    "duration": 4,
    "start_time": "2024-11-27T05:33:45.451Z"
   },
   {
    "duration": 33,
    "start_time": "2024-11-27T05:34:15.353Z"
   },
   {
    "duration": 20,
    "start_time": "2024-11-27T05:42:39.500Z"
   },
   {
    "duration": 23,
    "start_time": "2024-11-27T05:45:07.315Z"
   },
   {
    "duration": 3,
    "start_time": "2024-11-27T05:46:25.996Z"
   },
   {
    "duration": 15,
    "start_time": "2024-11-27T05:46:37.630Z"
   },
   {
    "duration": 5,
    "start_time": "2024-11-27T05:47:57.975Z"
   },
   {
    "duration": 12,
    "start_time": "2024-11-27T05:54:29.234Z"
   },
   {
    "duration": 3,
    "start_time": "2024-11-27T05:54:53.932Z"
   },
   {
    "duration": 9,
    "start_time": "2024-11-27T05:55:01.815Z"
   },
   {
    "duration": 3,
    "start_time": "2024-11-27T05:55:19.132Z"
   },
   {
    "duration": 12,
    "start_time": "2024-11-27T05:55:26.612Z"
   },
   {
    "duration": 16,
    "start_time": "2024-11-27T05:56:06.382Z"
   },
   {
    "duration": 14,
    "start_time": "2024-11-27T05:56:32.290Z"
   },
   {
    "duration": 13,
    "start_time": "2024-11-27T05:56:39.286Z"
   },
   {
    "duration": 9,
    "start_time": "2024-11-27T05:57:10.207Z"
   },
   {
    "duration": 11,
    "start_time": "2024-11-27T05:57:23.760Z"
   },
   {
    "duration": 19,
    "start_time": "2024-11-27T06:00:00.567Z"
   },
   {
    "duration": 447,
    "start_time": "2024-11-27T06:00:37.584Z"
   },
   {
    "duration": 15,
    "start_time": "2024-11-27T06:00:46.792Z"
   },
   {
    "duration": 14,
    "start_time": "2024-11-27T06:01:03.549Z"
   },
   {
    "duration": 14,
    "start_time": "2024-11-27T06:02:20.376Z"
   },
   {
    "duration": 9,
    "start_time": "2024-11-27T06:03:07.404Z"
   },
   {
    "duration": 11,
    "start_time": "2024-11-27T06:03:10.610Z"
   },
   {
    "duration": 78,
    "start_time": "2024-11-27T06:18:09.789Z"
   },
   {
    "duration": 17,
    "start_time": "2024-11-27T06:23:28.494Z"
   },
   {
    "duration": 4,
    "start_time": "2024-11-27T06:30:27.696Z"
   },
   {
    "duration": 4,
    "start_time": "2024-11-27T06:30:51.353Z"
   },
   {
    "duration": 18,
    "start_time": "2024-11-27T06:31:18.153Z"
   },
   {
    "duration": 15,
    "start_time": "2024-11-27T06:32:51.376Z"
   },
   {
    "duration": 5,
    "start_time": "2024-11-27T06:33:06.128Z"
   },
   {
    "duration": 5,
    "start_time": "2024-11-27T06:33:36.295Z"
   },
   {
    "duration": 5,
    "start_time": "2024-11-27T06:33:55.284Z"
   },
   {
    "duration": 4,
    "start_time": "2024-11-27T06:34:13.433Z"
   },
   {
    "duration": 3,
    "start_time": "2024-11-27T06:34:29.765Z"
   },
   {
    "duration": 5,
    "start_time": "2024-11-27T06:34:34.145Z"
   },
   {
    "duration": 15,
    "start_time": "2024-11-27T06:35:09.727Z"
   },
   {
    "duration": 4,
    "start_time": "2024-11-27T06:36:57.668Z"
   },
   {
    "duration": 5,
    "start_time": "2024-11-27T06:37:02.384Z"
   },
   {
    "duration": 5,
    "start_time": "2024-11-27T06:37:19.115Z"
   },
   {
    "duration": 5,
    "start_time": "2024-11-27T06:40:53.080Z"
   },
   {
    "duration": 6,
    "start_time": "2024-11-27T06:41:50.407Z"
   },
   {
    "duration": 4,
    "start_time": "2024-11-27T06:42:26.693Z"
   },
   {
    "duration": 11,
    "start_time": "2024-11-27T06:55:49.467Z"
   },
   {
    "duration": 3,
    "start_time": "2024-11-27T06:57:35.034Z"
   },
   {
    "duration": 2,
    "start_time": "2024-11-27T07:09:10.663Z"
   },
   {
    "duration": 4,
    "start_time": "2024-11-27T07:09:22.253Z"
   },
   {
    "duration": 5,
    "start_time": "2024-11-27T07:11:02.477Z"
   },
   {
    "duration": 4,
    "start_time": "2024-11-27T07:11:28.093Z"
   },
   {
    "duration": 5,
    "start_time": "2024-11-27T07:11:48.748Z"
   },
   {
    "duration": 16,
    "start_time": "2024-11-27T07:13:40.410Z"
   },
   {
    "duration": 17,
    "start_time": "2024-11-27T07:15:03.877Z"
   },
   {
    "duration": 15,
    "start_time": "2024-11-27T07:18:32.057Z"
   },
   {
    "duration": 132,
    "start_time": "2024-11-27T07:20:12.414Z"
   },
   {
    "duration": 43,
    "start_time": "2024-11-27T07:21:42.824Z"
   },
   {
    "duration": 16,
    "start_time": "2024-11-27T07:23:06.480Z"
   },
   {
    "duration": 10,
    "start_time": "2024-11-27T07:23:38.589Z"
   },
   {
    "duration": 10,
    "start_time": "2024-11-27T07:32:56.817Z"
   },
   {
    "duration": 9,
    "start_time": "2024-11-27T07:33:08.109Z"
   },
   {
    "duration": 6,
    "start_time": "2024-11-27T07:34:02.175Z"
   }
  ],
  "kernelspec": {
   "display_name": "Python 3 (ipykernel)",
   "language": "python",
   "name": "python3"
  },
  "language_info": {
   "codemirror_mode": {
    "name": "ipython",
    "version": 3
   },
   "file_extension": ".py",
   "mimetype": "text/x-python",
   "name": "python",
   "nbconvert_exporter": "python",
   "pygments_lexer": "ipython3",
   "version": "3.9.19"
  },
  "toc": {
   "base_numbering": 1,
   "nav_menu": {},
   "number_sections": true,
   "sideBar": true,
   "skip_h1_title": true,
   "title_cell": "Table of Contents",
   "title_sidebar": "Contents",
   "toc_cell": false,
   "toc_position": {},
   "toc_section_display": true,
   "toc_window_display": false
  }
 },
 "nbformat": 4,
 "nbformat_minor": 5
}
