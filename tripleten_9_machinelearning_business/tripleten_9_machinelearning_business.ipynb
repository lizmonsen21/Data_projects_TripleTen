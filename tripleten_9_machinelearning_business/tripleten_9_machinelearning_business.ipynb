{
 "cells": [
  {
   "cell_type": "markdown",
   "metadata": {},
   "source": [
    "<div style=\"border-radius: 15px; border: 3px solid indigo; padding: 15px;\">\n",
    "<b> Reviewer's comment 2 </b>\n",
    "    \n",
    "Thank you for your diligence! I've left a couple of new comments with digit 2, but there's nothing that needs to be fixed.\n",
    "    \n",
    "    \n",
    "You did a fantastic job here. You have correctly splitted the data, explored the distributions, trained several models, and applied the bootstrapping technique. You have successfully estimated profit and conducted risk analysis. You have also compared regions based on risk-adjusted return to make recommendations for further development. Excellent job! \n",
    "    \n",
    "    \n",
    "I do not have any questions, so the project can be accepted. The next sprints will cover more advanced machine learning methods, I hope you will like it. Good luck! \n",
    "    \n",
    "    \n",
    "\n",
    "</div>"
   ]
  },
  {
   "cell_type": "markdown",
   "metadata": {},
   "source": [
    "<div style=\"border-radius: 15px; border: 3px solid indigo; padding: 15px;\">\n",
    "<b> Reviewer's comment</b>\n",
    "    \n",
    "Hi Elizabeth, I am a reviewer on this project. Congratulations on submitting another project! 🎉\n",
    "    \n",
    "\n",
    "Before we start, I want to pay your attention to the color marking:\n",
    "    \n",
    "\n",
    "   \n",
    "    \n",
    "<div class=\"alert alert-success\" style=\"border-radius: 15px; box-shadow: 4px 4px 4px; border: 1px solid \">\n",
    "\n",
    "Great solutions and ideas that can and should be used in the future are in green comments. Some of them are: \n",
    "    \n",
    "    \n",
    "- You have successfully prepared the subsets. It is important to split the data correctly in order to ensure there's no intersection;    \n",
    "    \n",
    "    \n",
    "- You have successfully explored the regions;\n",
    "    \n",
    "        \n",
    "    \n",
    "- Used linear regression to make predictions;\n",
    "    \n",
    "    \n",
    "- Calculated profit and estimated risk values; \n",
    "    \n",
    "    \n",
    "- Wrote an excellent conclusion that shows how the project met its objectives. Good job! \n",
    "\n",
    "</div>\n",
    "    \n",
    "<div class=\"alert alert-warning\" style=\"border-radius: 15px; box-shadow: 4px 4px 4px; border: 1px solid \">\n",
    "<b> Reviewer's comment </b>\n",
    "\n",
    "Yellow color indicates what should be optimized. This is not necessary, but it will be great if you make changes to this project. I've left several recommendations throughout the project. \n",
    "    \n",
    "</div>\n",
    "<div class=\"alert alert-danger\" style=\"border-radius: 15px; box-shadow: 4px 4px 4px; border: 1px solid \">\n",
    "<b> Reviewer's comment </b>\n",
    "\n",
    "Issues that must be corrected to achieve accurate results are indicated in red comments. Please note that the project cannot be accepted until these issues are resolved. For instance,\n",
    "\n",
    "\n",
    "\n",
    "- Please try to explore the distributions and add conclusions. In real-world problems, the data is rarely clean. Displaying distributions help us evaluate the data, find outliers, identify the required preprocessing steps and understand feature relationships, which informs feature engineering. Feature engineering in some cases is a clue; \n",
    "\n",
    "\n",
    "    \n",
    "- When comparing the break-even value with the average reserves, please make sure you use the same units :) \n",
    "    \n",
    "    \n",
    "- According to the task, we need to implement profit function. Would you try to implement it and call it in th bootstrapping loop? \n",
    "    \n",
    "    \n",
    "- Consider specifying the `random_state` parameter inside the `sample` method to ensure reproducibility. Otherwise, the results may differ with each run.\n",
    "    \n",
    "\n",
    "There may be other issues that need your attention. I described everything in my comments.  \n",
    "</div>        \n",
    "<hr>\n",
    "    \n",
    "<font color='dodgerblue'>**To sum up:**</font> you did a great job here, thank you so much for submitting the project! Actually the project is almost perfect, and the updates should not take much time. If you have any questions, please feel free to ask. I will wait the project for the second review 😊 \n",
    "    \n",
    "\n",
    "<hr>\n",
    "    \n",
    "Please use some color other than those listed to highlight answers to my comments.\n",
    "I would also ask you **not to change, move or delete my comments** to make it easier for me to navigate during the next review.\n",
    "    \n",
    "<hr> \n",
    "    \n",
    "✍️ Here's a nice [article](https://machinelearningmastery.com/a-gentle-introduction-to-the-bootstrap-method/) about the bootstrap method. [This](https://www.youtube.com/watch?v=O_Fj4q8lgmc&list=LL&index=6) is a good video about resampling in bootstrapping.\n",
    "    \n",
    "<hr>\n",
    "    \n",
    "    \n",
    "📌 Please feel free to schedule a 1:1 sessions with our tutors or TAs Feel free to book 1-1 session [here](https://calendly.com/tripleten-ds-experts-team), join daily coworking sessions, or ask questions in the sprint channels on Discord if you need assistance 😉 \n",
    "</div>"
   ]
  },
  {
   "cell_type": "markdown",
   "metadata": {},
   "source": [
    "# Regional Models for New Oil Wells\n",
    "The purpose of this project is to develop models based on goeographical data from 3 different regions to help determine the best place for a new well. The budget for development of 200 oil wells is 100 USD million and the revenue from one unit of product (volume of reserves in thousand barrels) is 4,500 USD.\n",
    "\n",
    "The data that we will be using in this analysis is geological exploration data for the three regionsas follows:\n",
    "- geo_data_0\n",
    "- geo_data_1\n",
    "- geo_data_2\n",
    "\n",
    "Each data set has 5 columns including:\n",
    "- id — unique oil well identifier\n",
    "- f0, f1, f2 — three features of points (their specific meaning is unimportant, but the features themselves are significant)\n",
    "- product — volume of reserves in the oil well (thousand barrels)."
   ]
  },
  {
   "cell_type": "markdown",
   "metadata": {},
   "source": [
    "<div class=\"alert alert-success\" style=\"border-radius: 15px; box-shadow: 4px 4px 4px; border: 1px solid \">\n",
    "<h2>   Reviewer's comment </h2>\n",
    "    \n",
    "Good introduction! The title reflects the main goal of the project, well done!     \n",
    "</div>"
   ]
  },
  {
   "cell_type": "markdown",
   "metadata": {},
   "source": [
    "## Importing and Preparing the Data\n",
    "\n",
    "First we will import our data, review it and prepare it so that it is useable for our analysis and to build our model."
   ]
  },
  {
   "cell_type": "code",
   "execution_count": 1,
   "metadata": {
    "trusted": true
   },
   "outputs": [],
   "source": [
    "#Import Libraries that will be Needed\n",
    "import pandas as pd\n",
    "import matplotlib.pyplot as plt\n",
    "from sklearn.preprocessing import OrdinalEncoder\n",
    "from sklearn.preprocessing import StandardScaler\n",
    "from sklearn.model_selection import train_test_split\n",
    "from sklearn.metrics import accuracy_score\n",
    "from sklearn.metrics import confusion_matrix\n",
    "from sklearn.metrics import recall_score\n",
    "from sklearn.metrics import precision_score\n",
    "from sklearn.metrics import f1_score\n",
    "from sklearn.linear_model import LinearRegression\n",
    "from sklearn.utils import shuffle\n",
    "from sklearn.metrics import precision_recall_curve\n",
    "from sklearn.metrics import roc_curve\n",
    "from sklearn.metrics import roc_auc_score\n",
    "from sklearn.metrics import mean_squared_error\n",
    "import numpy as np"
   ]
  },
  {
   "cell_type": "code",
   "execution_count": 2,
   "metadata": {
    "trusted": true
   },
   "outputs": [],
   "source": [
    "#Download Dataset\n",
    "\n",
    "geo_data_0 = pd.read_csv('/datasets/geo_data_0.csv')\n",
    "geo_data_1 = pd.read_csv('/datasets/geo_data_1.csv')\n",
    "geo_data_2 = pd.read_csv('/datasets/geo_data_2.csv')"
   ]
  },
  {
   "cell_type": "code",
   "execution_count": 3,
   "metadata": {
    "scrolled": true,
    "trusted": true
   },
   "outputs": [
    {
     "name": "stdout",
     "output_type": "stream",
     "text": [
      "<class 'pandas.core.frame.DataFrame'>\n",
      "RangeIndex: 100000 entries, 0 to 99999\n",
      "Data columns (total 5 columns):\n",
      " #   Column   Non-Null Count   Dtype  \n",
      "---  ------   --------------   -----  \n",
      " 0   id       100000 non-null  object \n",
      " 1   f0       100000 non-null  float64\n",
      " 2   f1       100000 non-null  float64\n",
      " 3   f2       100000 non-null  float64\n",
      " 4   product  100000 non-null  float64\n",
      "dtypes: float64(4), object(1)\n",
      "memory usage: 3.8+ MB\n",
      "\n",
      "          id        f0        f1        f2     product\n",
      "63991  I2KKw  0.059653  0.474235  2.298949   73.118161\n",
      "11378  OkBpE  1.273862 -0.486130  0.610755   44.250711\n",
      "54293  jHUZm -1.012260  0.332169  3.842668   16.370693\n",
      "76661  5DWDh -0.297826  1.059153  1.510959  112.435500\n",
      "96434  byPno -0.412783  0.696757  4.196602   93.477819\n",
      "\n",
      "<class 'pandas.core.frame.DataFrame'>\n",
      "RangeIndex: 100000 entries, 0 to 99999\n",
      "Data columns (total 5 columns):\n",
      " #   Column   Non-Null Count   Dtype  \n",
      "---  ------   --------------   -----  \n",
      " 0   id       100000 non-null  object \n",
      " 1   f0       100000 non-null  float64\n",
      " 2   f1       100000 non-null  float64\n",
      " 3   f2       100000 non-null  float64\n",
      " 4   product  100000 non-null  float64\n",
      "dtypes: float64(4), object(1)\n",
      "memory usage: 3.8+ MB\n",
      "\n",
      "          id         f0        f1        f2     product\n",
      "93734  jWxhh   6.575147 -7.233036  0.012276    0.000000\n",
      "91735  J2JxV   3.291273 -7.194456  1.993381   57.085625\n",
      "52803  uIUMg -12.324125 -6.415921  2.999353   84.038886\n",
      "14693  ZgneS   8.202239 -6.165970  4.007469  107.813044\n",
      "32956  cLlV7 -10.481681 -5.858692  3.999928  110.992147\n",
      "\n",
      "<class 'pandas.core.frame.DataFrame'>\n",
      "RangeIndex: 100000 entries, 0 to 99999\n",
      "Data columns (total 5 columns):\n",
      " #   Column   Non-Null Count   Dtype  \n",
      "---  ------   --------------   -----  \n",
      " 0   id       100000 non-null  object \n",
      " 1   f0       100000 non-null  float64\n",
      " 2   f1       100000 non-null  float64\n",
      " 3   f2       100000 non-null  float64\n",
      " 4   product  100000 non-null  float64\n",
      "dtypes: float64(4), object(1)\n",
      "memory usage: 3.8+ MB\n",
      "\n",
      "          id        f0        f1        f2     product\n",
      "76740  oUa4E  0.487916 -1.716081  3.680848  128.526214\n",
      "32662  JvJiC -3.630210 -0.236955 -0.319718  160.281933\n",
      "50887  iefkF -0.346745  0.978678  1.674711   43.430449\n",
      "78178  Jnn34 -0.583368  0.970271  6.812732  104.521411\n",
      "5872   HKirH  0.614524  1.725331  3.984870   24.828076\n",
      "0\n",
      "\n",
      "0\n",
      "\n",
      "0\n",
      "\n"
     ]
    }
   ],
   "source": [
    "#Briefly Review the Data\n",
    "\n",
    "geo_data_0.info()\n",
    "print()\n",
    "print(geo_data_0.sample(5))\n",
    "print()\n",
    "geo_data_1.info()\n",
    "print()\n",
    "print(geo_data_1.sample(5))\n",
    "print()\n",
    "geo_data_2.info()\n",
    "print()\n",
    "print(geo_data_2.sample(5))\n",
    "\n",
    "#check for duplicates\n",
    "print(geo_data_0.duplicated().sum())\n",
    "print()\n",
    "print(geo_data_1.duplicated().sum())\n",
    "print()\n",
    "print(geo_data_2.duplicated().sum())\n",
    "print()"
   ]
  },
  {
   "cell_type": "markdown",
   "metadata": {},
   "source": [
    "<div class=\"alert alert-success\" style=\"border-radius: 15px; box-shadow: 4px 4px 4px; border: 1px solid \">\n",
    "<h2>   Reviewer's comment </h2>\n",
    "    \n",
    "The data was successfully read, good! \n",
    "    \n",
    "    \n",
    "    \n",
    "Agreed, it is indeed important to check data for the duplicates, since we are going to split the data. You can also check for the duplicates in the `id` columns. However, we do not need to delete them if they exist, since these columns will not be considered, and we can interpret these points as different objects.     \n",
    "\n",
    "</div>\n",
    "<div class=\"alert alert-warning\" style=\"border-radius: 15px; box-shadow: 4px 4px 4px; border: 1px solid \">\n",
    "<h2>   Reviewer's comment </h2>\n",
    "    \n",
    "With dataframes, `display` produces better outputs. Display is a great thing. However, jupyter notebook is an interactive environment that already includes display. When we call a dataframe (see the code below), jupyter prints this dataframe like we do with the display method:\n",
    "\n",
    "    \n",
    "</div>"
   ]
  },
  {
   "cell_type": "code",
   "execution_count": 4,
   "metadata": {
    "trusted": true
   },
   "outputs": [
    {
     "data": {
      "text/html": [
       "<div>\n",
       "<style scoped>\n",
       "    .dataframe tbody tr th:only-of-type {\n",
       "        vertical-align: middle;\n",
       "    }\n",
       "\n",
       "    .dataframe tbody tr th {\n",
       "        vertical-align: top;\n",
       "    }\n",
       "\n",
       "    .dataframe thead th {\n",
       "        text-align: right;\n",
       "    }\n",
       "</style>\n",
       "<table border=\"1\" class=\"dataframe\">\n",
       "  <thead>\n",
       "    <tr style=\"text-align: right;\">\n",
       "      <th></th>\n",
       "      <th>id</th>\n",
       "      <th>f0</th>\n",
       "      <th>f1</th>\n",
       "      <th>f2</th>\n",
       "      <th>product</th>\n",
       "    </tr>\n",
       "  </thead>\n",
       "  <tbody>\n",
       "    <tr>\n",
       "      <th>0</th>\n",
       "      <td>txEyH</td>\n",
       "      <td>0.705745</td>\n",
       "      <td>-0.497823</td>\n",
       "      <td>1.221170</td>\n",
       "      <td>105.280062</td>\n",
       "    </tr>\n",
       "    <tr>\n",
       "      <th>1</th>\n",
       "      <td>2acmU</td>\n",
       "      <td>1.334711</td>\n",
       "      <td>-0.340164</td>\n",
       "      <td>4.365080</td>\n",
       "      <td>73.037750</td>\n",
       "    </tr>\n",
       "    <tr>\n",
       "      <th>2</th>\n",
       "      <td>409Wp</td>\n",
       "      <td>1.022732</td>\n",
       "      <td>0.151990</td>\n",
       "      <td>1.419926</td>\n",
       "      <td>85.265647</td>\n",
       "    </tr>\n",
       "  </tbody>\n",
       "</table>\n",
       "</div>"
      ],
      "text/plain": [
       "      id        f0        f1        f2     product\n",
       "0  txEyH  0.705745 -0.497823  1.221170  105.280062\n",
       "1  2acmU  1.334711 -0.340164  4.365080   73.037750\n",
       "2  409Wp  1.022732  0.151990  1.419926   85.265647"
      ]
     },
     "metadata": {},
     "output_type": "display_data"
    },
    {
     "data": {
      "text/html": [
       "<div>\n",
       "<style scoped>\n",
       "    .dataframe tbody tr th:only-of-type {\n",
       "        vertical-align: middle;\n",
       "    }\n",
       "\n",
       "    .dataframe tbody tr th {\n",
       "        vertical-align: top;\n",
       "    }\n",
       "\n",
       "    .dataframe thead th {\n",
       "        text-align: right;\n",
       "    }\n",
       "</style>\n",
       "<table border=\"1\" class=\"dataframe\">\n",
       "  <thead>\n",
       "    <tr style=\"text-align: right;\">\n",
       "      <th></th>\n",
       "      <th>id</th>\n",
       "      <th>f0</th>\n",
       "      <th>f1</th>\n",
       "      <th>f2</th>\n",
       "      <th>product</th>\n",
       "    </tr>\n",
       "  </thead>\n",
       "  <tbody>\n",
       "    <tr>\n",
       "      <th>99997</th>\n",
       "      <td>3rnvd</td>\n",
       "      <td>1.029585</td>\n",
       "      <td>0.018787</td>\n",
       "      <td>-1.348308</td>\n",
       "      <td>64.375443</td>\n",
       "    </tr>\n",
       "    <tr>\n",
       "      <th>99998</th>\n",
       "      <td>7kl59</td>\n",
       "      <td>0.998163</td>\n",
       "      <td>-0.528582</td>\n",
       "      <td>1.583869</td>\n",
       "      <td>74.040764</td>\n",
       "    </tr>\n",
       "    <tr>\n",
       "      <th>99999</th>\n",
       "      <td>1CWhH</td>\n",
       "      <td>1.764754</td>\n",
       "      <td>-0.266417</td>\n",
       "      <td>5.722849</td>\n",
       "      <td>149.633246</td>\n",
       "    </tr>\n",
       "  </tbody>\n",
       "</table>\n",
       "</div>"
      ],
      "text/plain": [
       "          id        f0        f1        f2     product\n",
       "99997  3rnvd  1.029585  0.018787 -1.348308   64.375443\n",
       "99998  7kl59  0.998163 -0.528582  1.583869   74.040764\n",
       "99999  1CWhH  1.764754 -0.266417  5.722849  149.633246"
      ]
     },
     "execution_count": 4,
     "metadata": {},
     "output_type": "execute_result"
    }
   ],
   "source": [
    "# Reviewer's code\n",
    "\n",
    "display(geo_data_0.head(3))\n",
    "\n",
    "geo_data_0.tail(3)"
   ]
  },
  {
   "cell_type": "markdown",
   "metadata": {},
   "source": [
    "Based on this it seems that there are no missing values or duplicate rows.  All our features and our target (product) are float types so we don't have use OHE to add any columns or rows. Next we will get ideas of the distribution of our features and product for each region. And we can start creating our models for each region. "
   ]
  },
  {
   "cell_type": "code",
   "execution_count": 5,
   "metadata": {
    "trusted": true
   },
   "outputs": [
    {
     "name": "stdout",
     "output_type": "stream",
     "text": [
      "count    100000.000000\n",
      "mean          0.500419\n",
      "std           0.871832\n",
      "min          -1.408605\n",
      "25%          -0.072580\n",
      "50%           0.502360\n",
      "75%           1.073581\n",
      "max           2.362331\n",
      "Name: f0, dtype: float64\n"
     ]
    },
    {
     "data": {
      "image/png": "[encoded data removed]",
      "text/plain": [
       "<Figure size 640x480 with 1 Axes>"
      ]
     },
     "metadata": {},
     "output_type": "display_data"
    },
    {
     "name": "stdout",
     "output_type": "stream",
     "text": [
      "\n",
      "count    100000.000000\n",
      "mean          1.141296\n",
      "std           8.965932\n",
      "min         -31.609576\n",
      "25%          -6.298551\n",
      "50%           1.153055\n",
      "75%           8.621015\n",
      "max          29.421755\n",
      "Name: f0, dtype: float64\n"
     ]
    },
    {
     "data": {
      "image/png": "[encoded data removed]",
      "text/plain": [
       "<Figure size 640x480 with 1 Axes>"
      ]
     },
     "metadata": {},
     "output_type": "display_data"
    },
    {
     "name": "stdout",
     "output_type": "stream",
     "text": [
      "\n",
      "count    100000.000000\n",
      "mean          0.002023\n",
      "std           1.732045\n",
      "min          -8.760004\n",
      "25%          -1.162288\n",
      "50%           0.009424\n",
      "75%           1.158535\n",
      "max           7.238262\n",
      "Name: f0, dtype: float64\n"
     ]
    },
    {
     "data": {
      "image/png": "[encoded data removed]",
      "text/plain": [
       "<Figure size 640x480 with 1 Axes>"
      ]
     },
     "metadata": {},
     "output_type": "display_data"
    }
   ],
   "source": [
    "#f0 distribtuion\n",
    "\n",
    "print(geo_data_0['f0'].describe())\n",
    "plt.figure()\n",
    "plt.boxplot(geo_data_0['f0'])\n",
    "plt.title('Region 0 Feature 0 Distribution')\n",
    "plt.show()\n",
    "print()\n",
    "print(geo_data_1['f0'].describe())\n",
    "plt.figure()\n",
    "plt.boxplot(geo_data_1['f0'])\n",
    "plt.title('Region 1 Feature 0 Distribution')\n",
    "plt.show()\n",
    "print()\n",
    "print(geo_data_2['f0'].describe())\n",
    "plt.figure()\n",
    "plt.boxplot(geo_data_2['f0'])\n",
    "plt.title('Region 2 Feature 0 Distribution')\n",
    "plt.show()"
   ]
  },
  {
   "cell_type": "markdown",
   "metadata": {},
   "source": [
    "For feature 0, it seems that region 0 has the most normal distribution, with narrow limits, region 1 has a very wide range and region 2 has a lot of outliers that can skew the data. "
   ]
  },
  {
   "cell_type": "code",
   "execution_count": 6,
   "metadata": {
    "trusted": true
   },
   "outputs": [
    {
     "name": "stdout",
     "output_type": "stream",
     "text": [
      "count    100000.000000\n",
      "mean          0.250143\n",
      "std           0.504433\n",
      "min          -0.848218\n",
      "25%          -0.200881\n",
      "50%           0.250252\n",
      "75%           0.700646\n",
      "max           1.343769\n",
      "Name: f1, dtype: float64\n"
     ]
    },
    {
     "data": {
      "image/png": "[encoded data removed]",
      "text/plain": [
       "<Figure size 640x480 with 1 Axes>"
      ]
     },
     "metadata": {},
     "output_type": "display_data"
    },
    {
     "name": "stdout",
     "output_type": "stream",
     "text": [
      "\n",
      "count    100000.000000\n",
      "mean         -4.796579\n",
      "std           5.119872\n",
      "min         -26.358598\n",
      "25%          -8.267985\n",
      "50%          -4.813172\n",
      "75%          -1.332816\n",
      "max          18.734063\n",
      "Name: f1, dtype: float64\n"
     ]
    },
    {
     "data": {
      "image/png": "[encoded data removed]",
      "text/plain": [
       "<Figure size 640x480 with 1 Axes>"
      ]
     },
     "metadata": {},
     "output_type": "display_data"
    },
    {
     "name": "stdout",
     "output_type": "stream",
     "text": [
      "\n",
      "count    100000.000000\n",
      "mean         -0.002081\n",
      "std           1.730417\n",
      "min          -7.084020\n",
      "25%          -1.174820\n",
      "50%          -0.009482\n",
      "75%           1.163678\n",
      "max           7.844801\n",
      "Name: f1, dtype: float64\n"
     ]
    },
    {
     "data": {
      "image/png": "[encoded data removed]",
      "text/plain": [
       "<Figure size 640x480 with 1 Axes>"
      ]
     },
     "metadata": {},
     "output_type": "display_data"
    }
   ],
   "source": [
    "#f1 distribtuion\n",
    "\n",
    "print(geo_data_0['f1'].describe())\n",
    "plt.figure()\n",
    "plt.boxplot(geo_data_0['f1'])\n",
    "plt.title('Region 0 Feature 1 Distribution')\n",
    "plt.show()\n",
    "print()\n",
    "print(geo_data_1['f1'].describe())\n",
    "plt.figure()\n",
    "plt.boxplot(geo_data_1['f1'])\n",
    "plt.title('Region 1 Feature 1 Distribution')\n",
    "plt.show()\n",
    "print()\n",
    "print(geo_data_2['f1'].describe())\n",
    "plt.figure()\n",
    "plt.boxplot(geo_data_2['f1'])\n",
    "plt.title('Region 2 Feature 1 Distribution')\n",
    "plt.show()"
   ]
  },
  {
   "cell_type": "markdown",
   "metadata": {},
   "source": [
    "For feature 2, region 0 again seems the most normally distributed without many outliers, while region 1 has a very wide distribution and many outliers, and region 2 has many outliers as well that likely skews the data."
   ]
  },
  {
   "cell_type": "code",
   "execution_count": 7,
   "metadata": {
    "trusted": true
   },
   "outputs": [
    {
     "name": "stdout",
     "output_type": "stream",
     "text": [
      "count    100000.000000\n",
      "mean          2.502647\n",
      "std           3.248248\n",
      "min         -12.088328\n",
      "25%           0.287748\n",
      "50%           2.515969\n",
      "75%           4.715088\n",
      "max          16.003790\n",
      "Name: f2, dtype: float64\n"
     ]
    },
    {
     "data": {
      "image/png": "[encoded data removed]",
      "text/plain": [
       "<Figure size 640x480 with 1 Axes>"
      ]
     },
     "metadata": {},
     "output_type": "display_data"
    },
    {
     "name": "stdout",
     "output_type": "stream",
     "text": [
      "\n",
      "count    100000.000000\n",
      "mean          2.494541\n",
      "std           1.703572\n",
      "min          -0.018144\n",
      "25%           1.000021\n",
      "50%           2.011479\n",
      "75%           3.999904\n",
      "max           5.019721\n",
      "Name: f2, dtype: float64\n"
     ]
    },
    {
     "data": {
      "image/png": "[encoded data removed]",
      "text/plain": [
       "<Figure size 640x480 with 1 Axes>"
      ]
     },
     "metadata": {},
     "output_type": "display_data"
    },
    {
     "name": "stdout",
     "output_type": "stream",
     "text": [
      "\n",
      "count    100000.000000\n",
      "mean          2.495128\n",
      "std           3.473445\n",
      "min         -11.970335\n",
      "25%           0.130359\n",
      "50%           2.484236\n",
      "75%           4.858794\n",
      "max          16.739402\n",
      "Name: f2, dtype: float64\n"
     ]
    },
    {
     "data": {
      "image/png": "[encoded data removed]",
      "text/plain": [
       "<Figure size 640x480 with 1 Axes>"
      ]
     },
     "metadata": {},
     "output_type": "display_data"
    }
   ],
   "source": [
    "#f2 distribtuion\n",
    "\n",
    "print(geo_data_0['f2'].describe())\n",
    "plt.figure()\n",
    "plt.boxplot(geo_data_0['f2'])\n",
    "plt.title('Region 0 Feature 2 Distribution')\n",
    "plt.show()\n",
    "print()\n",
    "print(geo_data_1['f2'].describe())\n",
    "plt.figure()\n",
    "plt.boxplot(geo_data_1['f2'])\n",
    "plt.title('Region 1 Feature 2 Distribution')\n",
    "plt.show()\n",
    "print()\n",
    "print(geo_data_2['f2'].describe())\n",
    "plt.figure()\n",
    "plt.boxplot(geo_data_2['f2'])\n",
    "plt.title('Region 2 Feature 2 Distribution')\n",
    "plt.show()"
   ]
  },
  {
   "cell_type": "markdown",
   "metadata": {},
   "source": [
    "For feature 2, region 0 and region 2 have many outliers that likely skew the data, while region 1 is skewed to the left, but doesn't have as many outliers that can affect the mean. "
   ]
  },
  {
   "cell_type": "code",
   "execution_count": 8,
   "metadata": {
    "trusted": true
   },
   "outputs": [
    {
     "name": "stdout",
     "output_type": "stream",
     "text": [
      "count    100000.000000\n",
      "mean         92.500000\n",
      "std          44.288691\n",
      "min           0.000000\n",
      "25%          56.497507\n",
      "50%          91.849972\n",
      "75%         128.564089\n",
      "max         185.364347\n",
      "Name: product, dtype: float64\n"
     ]
    },
    {
     "data": {
      "image/png": "[encoded data removed]",
      "text/plain": [
       "<Figure size 640x480 with 1 Axes>"
      ]
     },
     "metadata": {},
     "output_type": "display_data"
    },
    {
     "name": "stdout",
     "output_type": "stream",
     "text": [
      "\n",
      "count    100000.000000\n",
      "mean         68.825000\n",
      "std          45.944423\n",
      "min           0.000000\n",
      "25%          26.953261\n",
      "50%          57.085625\n",
      "75%         107.813044\n",
      "max         137.945408\n",
      "Name: product, dtype: float64\n"
     ]
    },
    {
     "data": {
      "image/png": "[encoded data removed]",
      "text/plain": [
       "<Figure size 640x480 with 1 Axes>"
      ]
     },
     "metadata": {},
     "output_type": "display_data"
    },
    {
     "name": "stdout",
     "output_type": "stream",
     "text": [
      "\n",
      "count    100000.000000\n",
      "mean         95.000000\n",
      "std          44.749921\n",
      "min           0.000000\n",
      "25%          59.450441\n",
      "50%          94.925613\n",
      "75%         130.595027\n",
      "max         190.029838\n",
      "Name: product, dtype: float64\n"
     ]
    },
    {
     "data": {
      "image/png": "[encoded data removed]",
      "text/plain": [
       "<Figure size 640x480 with 1 Axes>"
      ]
     },
     "metadata": {},
     "output_type": "display_data"
    }
   ],
   "source": [
    "#product distribtuion (target values)\n",
    "\n",
    "print(geo_data_0['product'].describe())\n",
    "plt.figure()\n",
    "plt.boxplot(geo_data_0['product'])\n",
    "plt.title('Region 0 Product Distribution')\n",
    "plt.show()\n",
    "print()\n",
    "print(geo_data_1['product'].describe())\n",
    "plt.figure()\n",
    "plt.boxplot(geo_data_1['product'])\n",
    "plt.title('Region 1 Product Distribution')\n",
    "plt.show()\n",
    "print()\n",
    "print(geo_data_2['product'].describe())\n",
    "plt.figure()\n",
    "plt.boxplot(geo_data_2['product'])\n",
    "plt.title('Region 2 Product Distribution')\n",
    "plt.show()"
   ]
  },
  {
   "cell_type": "markdown",
   "metadata": {},
   "source": [
    "Looking at our target's distribution can give us an idea of what to expect from our models. Region 0 appears to be fairly normally distributed making it equally as likely to choose wells with greater volume of reserves than the mean as less. Region 1 is skewed slightly to the left and has a lower mean indicating that there tend to be more concentration of wells with lower volume reserves. Region 2 also appears to be fairly normally distributed, but with a greater distribution between the 1st quartile and the minimum value and the thrid quartile and the max value."
   ]
  },
  {
   "cell_type": "markdown",
   "metadata": {},
   "source": [
    "<div class=\"alert alert-success\" style=\"border-radius: 15px; box-shadow: 4px 4px 4px; border: 1px solid \">\n",
    "<h2>   Reviewer's comment 2 </h2>\n",
    "    \n",
    "Great job in this section! \n",
    "\n",
    "</div>"
   ]
  },
  {
   "cell_type": "markdown",
   "metadata": {},
   "source": [
    "<div class=\"alert alert-danger\" style=\"border-radius: 15px; box-shadow: 4px 4px 4px; border: 1px solid \">\n",
    "<b>   Reviewer's comment </b>\n",
    "    \n",
    "\n",
    "\n",
    "- Let's analyze features and targets distributions in each dataframe. Would you add charts? Try to use histograms and boxplots.  Please don't forget to add titles and axes labels.\n",
    "\n",
    "\n",
    "- We will also need to add conclusions. \n",
    "</div>\n",
    "<div class=\"alert alert-warning\" style=\"border-radius: 15px; box-shadow: 4px 4px 4px; border: 1px solid \">\n",
    "<b> Reviewer's comment</b>\n",
    "    \n",
    "    \n",
    "Since we are using a linear model, it may be useful to conduct correlation analysis.\n",
    "\n",
    "</div>"
   ]
  },
  {
   "cell_type": "markdown",
   "metadata": {},
   "source": [
    "## Train and Test the Models for Each Region\n",
    "\n",
    "We will go through the process or training and testing our model for region 0 first (geo_data_0), then 1 (geo_data_1) and finally 2 (geo_data_2). "
   ]
  },
  {
   "cell_type": "code",
   "execution_count": 9,
   "metadata": {
    "trusted": true
   },
   "outputs": [],
   "source": [
    "#2.1 Split the data into a training set and validation set at a ratio of 75:25\n",
    "geo_data_0_train, geo_data_0_valid = train_test_split(geo_data_0, test_size=0.25, random_state=12345)\n",
    "\n",
    "#create Training set features and target\n",
    "\n",
    "features_0_train= geo_data_0_train.drop(['product','id'], axis = 1)#remove product as it is the target and remove id as that will not provide more information for our model\n",
    "target_0_train = geo_data_0_train['product']\n",
    "\n",
    "features_0_valid= geo_data_0_valid.drop(['product','id' ], axis = 1)#remove product as it is the target and remove id as that will not provide more information for our model\n",
    "target_0_valid = geo_data_0_valid['product']\n",
    "\n",
    "#identify numeric features\n",
    "numeric= ['f0', 'f1', 'f2']"
   ]
  },
  {
   "cell_type": "code",
   "execution_count": 10,
   "metadata": {
    "trusted": true
   },
   "outputs": [
    {
     "name": "stdout",
     "output_type": "stream",
     "text": [
      "(75000, 3)\n"
     ]
    }
   ],
   "source": [
    "#Standardized Numeric Features\n",
    "scaler = StandardScaler()\n",
    "scaler.fit(features_0_train[numeric])\n",
    "\n",
    "features_0_train[numeric] = scaler.transform(features_0_train[numeric])\n",
    "features_0_valid[numeric] = scaler.transform(features_0_valid[numeric])\n",
    "\n",
    "print(features_0_train.shape)"
   ]
  },
  {
   "cell_type": "markdown",
   "metadata": {},
   "source": [
    "<div class=\"alert alert-success\" style=\"border-radius: 15px; box-shadow: 4px 4px 4px; border: 1px solid \">\n",
    "<h2> Reviewer's comment </h2>\n",
    "    \n",
    "\n",
    "It's great that you scale the data, since it may be crucial for linear models. However, in this case it will not change the RMSE. It's also good that you do that after you split the data, which is very important because we don't want the data to leak.\n",
    "\n",
    "    \n",
    "</div>"
   ]
  },
  {
   "cell_type": "code",
   "execution_count": 11,
   "metadata": {
    "trusted": true
   },
   "outputs": [
    {
     "name": "stdout",
     "output_type": "stream",
     "text": [
      "0.000000      1\n",
      "30.141653     1\n",
      "56.573577     1\n",
      "50.182301     1\n",
      "88.989990     1\n",
      "             ..\n",
      "146.560758    1\n",
      "155.729658    1\n",
      "27.829511     1\n",
      "85.382946     1\n",
      "154.424007    1\n",
      "Name: product, Length: 100000, dtype: int64\n"
     ]
    }
   ],
   "source": [
    "#print value counts for our target to get an idea of the distribution of our classes for our target (product)\n",
    "\n",
    "print(geo_data_0['product'].value_counts())"
   ]
  },
  {
   "cell_type": "markdown",
   "metadata": {},
   "source": [
    "Here we can see that every signle class is represented equally as there is no product value that is exactly the same.  This makes sense as it would be very unlikely for any unique oild well to have the exact same volume of reserves as another. We can train our model without having to balance our classes. "
   ]
  },
  {
   "cell_type": "code",
   "execution_count": 12,
   "metadata": {
    "trusted": true
   },
   "outputs": [
    {
     "name": "stdout",
     "output_type": "stream",
     "text": [
      "RMSE of the linear regression model for region 0 on the validation set is: 37.5794217150813\n"
     ]
    }
   ],
   "source": [
    "#train our model\n",
    "geo_0_model = LinearRegression()\n",
    "geo_0_model.fit(features_0_train, target_0_train)\n",
    "predicted_0_valid = geo_0_model.predict(features_0_valid)\n",
    "\n",
    "result_0 = mean_squared_error(target_0_valid, predicted_0_valid)**0.5\n",
    "print('RMSE of the linear regression model for region 0 on the validation set is:', result_0)"
   ]
  },
  {
   "cell_type": "markdown",
   "metadata": {},
   "source": [
    "As you can see our model for region 0 has a fairly high RMSE, so we can likely conclude that it will not be a reliable model in this region to predict wells with more volume of reserves. Now we will create our model for region 1."
   ]
  },
  {
   "cell_type": "code",
   "execution_count": 13,
   "metadata": {
    "trusted": true
   },
   "outputs": [],
   "source": [
    "#2.1 Split the data into a training set and validation set at a ratio of 75:25\n",
    "geo_data_1_train, geo_data_1_valid = train_test_split(geo_data_1, test_size=0.25, random_state=12345)\n",
    "\n",
    "#create Training set features and target\n",
    "\n",
    "features_1_train= geo_data_1_train.drop(['product','id'], axis = 1) #remove product as it is the target and remove id as that will not provide more information for our model\n",
    "target_1_train = geo_data_1_train['product']\n",
    "\n",
    "features_1_valid= geo_data_1_valid.drop(['product','id' ], axis = 1)#remove product as it is the target and remove id as that will not provide more information for our model\n",
    "target_1_valid = geo_data_1_valid['product']\n",
    "\n",
    "#identify numeric features\n",
    "numeric= ['f0', 'f1', 'f2']"
   ]
  },
  {
   "cell_type": "markdown",
   "metadata": {},
   "source": [
    "<div class=\"alert alert-warning\" style=\"border-radius: 15px; box-shadow: 4px 4px 4px; border: 1px solid \">\n",
    "<h2> Reviewer's comment</h2>\n",
    "    \n",
    "You can use a loop or a function, since the code is the same for all three regions. Not only will it make the code  shorter and easier to read, it will help you avoid typos.\n",
    " \n",
    "\n",
    "</div>"
   ]
  },
  {
   "cell_type": "code",
   "execution_count": 14,
   "metadata": {
    "trusted": true
   },
   "outputs": [
    {
     "name": "stdout",
     "output_type": "stream",
     "text": [
      "(75000, 3)\n"
     ]
    }
   ],
   "source": [
    "#Standardized Numeric Features\n",
    "scaler = StandardScaler()\n",
    "scaler.fit(features_1_train[numeric])\n",
    "\n",
    "features_1_train[numeric] = scaler.transform(features_1_train[numeric])\n",
    "features_1_valid[numeric] = scaler.transform(features_1_valid[numeric])\n",
    "\n",
    "print(features_1_train.shape)"
   ]
  },
  {
   "cell_type": "code",
   "execution_count": 15,
   "metadata": {
    "trusted": true
   },
   "outputs": [
    {
     "name": "stdout",
     "output_type": "stream",
     "text": [
      "RMSE of the linear regression model for region 1 on the validation set is: 0.893099286775617\n"
     ]
    }
   ],
   "source": [
    "#train our model - skipping class balance review as doing it in the first region helped me realize it is not necessary in regression tasks\n",
    "geo_1_model = LinearRegression()\n",
    "geo_1_model.fit(features_1_train, target_1_train)\n",
    "predicted_1_valid = geo_1_model.predict(features_1_valid)\n",
    "\n",
    "result_1 = mean_squared_error(target_1_valid, predicted_1_valid)**0.5\n",
    "print('RMSE of the linear regression model for region 1 on the validation set is:', result_1)"
   ]
  },
  {
   "cell_type": "markdown",
   "metadata": {},
   "source": [
    "As we can see our model for region 1 has an RMSE VERY close to 0 compared to region 0, meaning this model is much better at predicting volume of oil wells.  Now we will move on to creating our model for region 2."
   ]
  },
  {
   "cell_type": "code",
   "execution_count": 16,
   "metadata": {
    "trusted": true
   },
   "outputs": [],
   "source": [
    "#2.1 Split the data into a training set and validation set at a ratio of 75:25\n",
    "geo_data_2_train, geo_data_2_valid = train_test_split(geo_data_2, test_size=0.25, random_state=12345)\n",
    "\n",
    "#create Training set features and target\n",
    "\n",
    "features_2_train= geo_data_2_train.drop(['product','id'], axis = 1) #remove product as it is the target and remove id as that will not provide more information for our model\n",
    "target_2_train = geo_data_2_train['product']\n",
    "\n",
    "features_2_valid= geo_data_2_valid.drop(['product','id' ], axis = 1)#remove product as it is the target and remove id as that will not provide more information for our model\n",
    "target_2_valid = geo_data_2_valid['product']\n",
    "\n",
    "#identify numeric features\n",
    "numeric= ['f0', 'f1', 'f2']"
   ]
  },
  {
   "cell_type": "code",
   "execution_count": 17,
   "metadata": {
    "trusted": true
   },
   "outputs": [
    {
     "name": "stdout",
     "output_type": "stream",
     "text": [
      "(75000, 3)\n"
     ]
    }
   ],
   "source": [
    "#Standardized Numeric Features\n",
    "scaler = StandardScaler()\n",
    "scaler.fit(features_2_train[numeric])\n",
    "\n",
    "features_2_train[numeric] = scaler.transform(features_2_train[numeric])\n",
    "features_2_valid[numeric] = scaler.transform(features_2_valid[numeric])\n",
    "\n",
    "print(features_2_train.shape)"
   ]
  },
  {
   "cell_type": "code",
   "execution_count": 18,
   "metadata": {
    "trusted": true
   },
   "outputs": [
    {
     "name": "stdout",
     "output_type": "stream",
     "text": [
      "RMSE of the linear regression model for region 2 on the validation set is: 40.02970873393434\n"
     ]
    }
   ],
   "source": [
    "#train our model - skipping class balance review as doing it in the first region helped me realize it is not necessary in regression tasks\n",
    "geo_2_model = LinearRegression()\n",
    "geo_2_model.fit(features_2_train, target_2_train)\n",
    "predicted_2_valid = geo_2_model.predict(features_2_valid)\n",
    "\n",
    "result_2 = mean_squared_error(target_2_valid, predicted_2_valid)**0.5\n",
    "print('RMSE of the linear regression model for region 2 on the validation set is:', result_2)"
   ]
  },
  {
   "cell_type": "markdown",
   "metadata": {},
   "source": [
    "Our model for region 2 has the largest of all 3 regions, so will be the least reliable in predict oil volume reserves in wells.  Based on this the model for region 1 will best predict this, then region 0's model and finally region 2's. Therefore, we will "
   ]
  },
  {
   "cell_type": "markdown",
   "metadata": {},
   "source": [
    "<div class=\"alert alert-success\" style=\"border-radius: 15px; box-shadow: 4px 4px 4px; border: 1px solid \">\n",
    "<h2>   Reviewer's comment </h2>\n",
    "    \n",
    "Correct! Region 2 is the most profitable, but it has the highest model error at the same time. \n",
    "\n",
    "</div>"
   ]
  },
  {
   "cell_type": "markdown",
   "metadata": {},
   "source": [
    "## Prepare for Profit Calculation"
   ]
  },
  {
   "cell_type": "code",
   "execution_count": 19,
   "metadata": {
    "trusted": true
   },
   "outputs": [],
   "source": [
    "#3.1 Store all key values for calculations in separate variables.\n",
    "\n",
    "#revenue\n",
    "revenue_per_unit_of_product = 4500\n",
    "\n",
    "#Cost is our budget of $100 million USD. We are not given anything about operating expenses etc. so we can assume this budget is all encompassing\n",
    "cost = 100000000"
   ]
  },
  {
   "cell_type": "code",
   "execution_count": 20,
   "metadata": {
    "trusted": true
   },
   "outputs": [
    {
     "name": "stdout",
     "output_type": "stream",
     "text": [
      "The total volume of reserves we will need to that is sufficient for developing a new well without losses is: 22222.222222222223\n",
      "The break even point per well if we select 200 wells would be: 111.11111111111111\n"
     ]
    }
   ],
   "source": [
    "# 3.2. Calculate the volume of reserves sufficient for developing a new well without losses.\n",
    "\n",
    "total_break_even_point = (cost/revenue_per_unit_of_product)\n",
    "break_even_point_per_unit = (total_break_even_point)/ 200\n",
    "print('The total volume of reserves we will need to that is sufficient for developing a new well without losses is:', total_break_even_point)\n",
    "print('The break even point per well if we select 200 wells would be:', break_even_point_per_unit)"
   ]
  },
  {
   "cell_type": "markdown",
   "metadata": {},
   "source": [
    "This shows that for us to break even, the 200 wells that we select must have a total product (volume of reserves in thousand barrels) of just over 22,222 or just over 111 per well. "
   ]
  },
  {
   "cell_type": "code",
   "execution_count": 21,
   "metadata": {
    "trusted": true
   },
   "outputs": [
    {
     "name": "stdout",
     "output_type": "stream",
     "text": [
      "The average volume of reserves in region 0 is: 92.50000000000001\n",
      "\n",
      "The average volume of reserves in region 1 is: 68.82500000000002\n",
      "\n",
      "The average volume of reserves in region 2 is: 95.00000000000004\n"
     ]
    }
   ],
   "source": [
    "#3.2 Compare the break-even value with the average volume of reserves in each region.\n",
    "\n",
    "av_product_0 = geo_data_0['product'].mean()\n",
    "print('The average volume of reserves in region 0 is:', av_product_0)\n",
    "print()\n",
    "av_product_1 = geo_data_1['product'].mean()\n",
    "print('The average volume of reserves in region 1 is:', av_product_1)\n",
    "print()\n",
    "av_product_2 = geo_data_2['product'].mean()\n",
    "print('The average volume of reserves in region 2 is:', av_product_2)"
   ]
  },
  {
   "cell_type": "markdown",
   "metadata": {},
   "source": [
    "<div class=\"alert alert-success\" style=\"border-radius: 15px; box-shadow: 4px 4px 4px; border: 1px solid \">\n",
    "<h2> Reviewer's comment 2 </h2>\n",
    "    \n",
    "\n",
    "So the average volumes in these three regions are less than the required value. If we are to select the wells randomly, we are probably going to lose money. That's why we need machine learning and bootstrapping to estimate profit distributions. \n",
    "    \n",
    "    \n",
    "</div><div class=\"alert alert-danger\" style=\"border-radius: 15px; box-shadow: 4px 4px 4px; border: 1px solid \">\n",
    "<b> Reviewer's comment </b>\n",
    "    \n",
    "If you are using  `product`, which is in thousands, to compare it with the break-even value, you need to calculate the break-even value in thousands as well. If revenue per unit is \\$4,500, our budget is 1e8 and we have 200 points, then the required volume for break-even is budget / 4500 / 200. \n",
    "    \n",
    "</div>"
   ]
  },
  {
   "cell_type": "markdown",
   "metadata": {},
   "source": [
    "The break even value per well is substantially higher than the average product in any one given well, but we can see that the average product in regions 2 and 0 is higher than in region 1. Therefore, if we only used our average volume of reserves for each region we would not breakeven. This shows us that we must pick the wells we drill very carefully to maximize the volume of reserves that we can obtain. "
   ]
  },
  {
   "cell_type": "markdown",
   "metadata": {},
   "source": [
    "## Calculate profit from a set of selected oil wells and model predictions"
   ]
  },
  {
   "cell_type": "code",
   "execution_count": 22,
   "metadata": {
    "trusted": true
   },
   "outputs": [
    {
     "name": "stdout",
     "output_type": "stream",
     "text": [
      "9317     180.180713\n",
      "219      176.252213\n",
      "10015    175.850623\n",
      "11584    175.658429\n",
      "23388    173.299686\n",
      "            ...    \n",
      "7888     148.507064\n",
      "7890     148.481767\n",
      "24051    148.476498\n",
      "24160    148.436761\n",
      "20340    148.365941\n",
      "Length: 200, dtype: float64\n",
      "Total volume of top reserves in region 0 is: 31102.330838811402\n",
      "\n",
      "20430    139.818970\n",
      "7777     139.773423\n",
      "8755     139.703330\n",
      "1178     139.560938\n",
      "4285     139.516754\n",
      "            ...    \n",
      "12774    138.421423\n",
      "8040     138.416960\n",
      "2257     138.413881\n",
      "17108    138.412834\n",
      "9693     138.410697\n",
      "Length: 200, dtype: float64\n",
      "Total volume of top reserves in region 1 is: 27746.02678216343\n",
      "\n",
      "22636    165.856833\n",
      "24690    165.679685\n",
      "7811     163.439962\n",
      "1581     162.062589\n",
      "6751     161.797476\n",
      "            ...    \n",
      "5541     142.490763\n",
      "18126    142.485922\n",
      "11122    142.465777\n",
      "22669    142.454763\n",
      "23447    142.408851\n",
      "Length: 200, dtype: float64\n",
      "Total volume of top reserves in region 2 is: 29603.89865831835\n",
      "\n"
     ]
    }
   ],
   "source": [
    "#4.1 Pick the wells with the highest values of predictions\n",
    "def select_top_wells(predictions, n):\n",
    "    \"\"\"Select the top n wells based on predictions.\"\"\"\n",
    "    predictions_series = pd.Series(predictions)\n",
    "    return predictions_series.nlargest(n)\n",
    "\n",
    "top_wells_0 = select_top_wells(predicted_0_valid, 200)\n",
    "top_wells_1 = select_top_wells(predicted_1_valid, 200)\n",
    "top_wells_2 = select_top_wells(predicted_2_valid, 200)\n",
    "\n",
    "print(top_wells_0)\n",
    "print('Total volume of top reserves in region 0 is:', top_wells_0.sum())\n",
    "print()\n",
    "print(top_wells_1)\n",
    "print('Total volume of top reserves in region 1 is:', top_wells_1.sum())\n",
    "print()\n",
    "print(top_wells_2)\n",
    "print('Total volume of top reserves in region 2 is:', top_wells_2.sum())\n",
    "print()"
   ]
  },
  {
   "cell_type": "markdown",
   "metadata": {},
   "source": [
    "When looking at the top 200 oil reserves in each region we are able to exceed our \"breakeven\" point of 222,222.22 in each region.  Based on our models alone region 0 has the highest potential of exceeding as it's total volume of reserves is the greatest, while region 1 is the lowest. That being said, there is likely to be more risk of inaccurate predictions in regions 0 and 3 as their RMSE values were both very large, while region 1 had an RMSE very close to 0, meaning that our predictions are likely much more accurate and likely decreases our risk of \"over-predicting\" how much volume these reserves have.  Therefore, I would recommend region 1, as you can be more confident in getting close to these predicted values and you will still have a positive gross profit as we will calculate below."
   ]
  },
  {
   "cell_type": "code",
   "execution_count": 23,
   "metadata": {
    "trusted": true
   },
   "outputs": [
    {
     "name": "stdout",
     "output_type": "stream",
     "text": [
      "24857120.51973544\n"
     ]
    }
   ],
   "source": [
    "#4.3 calculate the profit for selected region (region 1)\n",
    "\n",
    "region_1_revenue = (top_wells_1.sum()* revenue_per_unit_of_product)\n",
    "region_1_profit = region_1_revenue - cost\n",
    "print(region_1_profit)"
   ]
  },
  {
   "cell_type": "code",
   "execution_count": 24,
   "metadata": {
    "trusted": true
   },
   "outputs": [
    {
     "name": "stdout",
     "output_type": "stream",
     "text": [
      "24857120.51973544\n"
     ]
    }
   ],
   "source": [
    "def profit(sample):\n",
    "    revenue = sample.sum() * 4500  # Revenue per 1000 barrels\n",
    "    costs = 100 * 1e6  # Costs in dollars\n",
    "    return revenue - costs\n",
    "    \n",
    "print(profit(top_wells_1))   "
   ]
  },
  {
   "cell_type": "markdown",
   "metadata": {},
   "source": [
    "Based on these calculations, if you utilize the top 200 wells based on our model in region 1, the estimated profit would equal $24,857,120.52."
   ]
  },
  {
   "cell_type": "markdown",
   "metadata": {},
   "source": [
    "<div class=\"alert alert-success\" style=\"border-radius: 15px; box-shadow: 4px 4px 4px; border: 1px solid \">\n",
    "<h2> Reviewer's comment 2 </h2>\n",
    "    \n",
    "\n",
    "Good!    \n",
    "    \n",
    "</div>\n",
    "<div class=\"alert alert-warning\" style=\"border-radius: 15px; box-shadow: 4px 4px 4px; border: 1px solid \">\n",
    "<h2> Reviewer's comment 2 </h2>\n",
    "    \n",
    "\n",
    "I still recommend that you sort predictions and take targets inside this function, not in the loop below before you call the function.    \n",
    "    \n",
    "</div>\n",
    "<div class=\"alert alert-danger\" style=\"border-radius: 15px; box-shadow: 4px 4px 4px; border: 1px solid \">\n",
    "<b> Reviewer's comment </b>\n",
    "    \n",
    "According to the task, we need to define the profit function that we will call in the bootstrapping loop later. Would yoou please try to implement it? \n",
    "    \n",
    "    \n",
    "You have corretly implemented its logic in the loop below: we indeed select the best 200 wells by predictions, but then we need to use target values to actually calculate profit because predictions may not be accurate. Would you please wrap the calculation into a function and call it there?      \n",
    "</div>"
   ]
  },
  {
   "cell_type": "markdown",
   "metadata": {},
   "source": [
    "## Calculate Risks and Profit for Each Region"
   ]
  },
  {
   "cell_type": "code",
   "execution_count": 25,
   "metadata": {
    "trusted": true
   },
   "outputs": [
    {
     "name": "stdout",
     "output_type": "stream",
     "text": [
      "Region 1 - Mean Profit: 4560451.057866608\n",
      "Region 1 - 95% Confidence Interval: [ 338205.09398985 8522894.53866035]\n",
      "Region 1 - Risk of Loss: 1.5%\n"
     ]
    }
   ],
   "source": [
    "#5.1 Use the bootstrapping technique with 1000 samples to find the distribution of profit for region 1\n",
    "def bootstrap_profit(predictions, target, n_samples=1000, n_wells=500, random_state=None):\n",
    "    rng = np.random.RandomState(seed=random_state)  # Set random state\n",
    "    profits = []\n",
    "\n",
    "    for i in range(n_samples):\n",
    "        # Sample indices with replacement\n",
    "        sample_indices = rng.choice(len(predictions), n_wells, replace=True) #np.random.choice(len(predictions), n_wells, replace=True)\n",
    "        sample_predictions = pd.Series(predictions[sample_indices]).sort_values(ascending = False).head(200)\n",
    "        sample_top_200 = target[sample_predictions.index]\n",
    "    \n",
    "\n",
    "        # Calculate profit\n",
    "        #revenue = sample_top_200.sum() * 4500  # Revenue per 1000 barrels\n",
    "        #costs = 100 * 1e6  # Costs in dollars\n",
    "        #profit = revenue - costs\n",
    "\n",
    "        profits.append(profit(sample_top_200.sum()))\n",
    "    \n",
    "    # Convert to numpy array for easier calculations\n",
    "    profits = np.array(profits)\n",
    "\n",
    "    # Calculate required statistics\n",
    "    mean_profit = np.mean(profits)\n",
    "    confidence_interval = np.percentile(profits, [2.5, 97.5])\n",
    "    negative_profit_probability = np.mean(profits < 0)\n",
    "\n",
    "    return mean_profit, confidence_interval, negative_profit_probability\n",
    "\n",
    "# Region 1\n",
    "top_predictions_1 = pd.Series(predicted_1_valid)\n",
    "top_target_1 = target_1_valid.reset_index(drop = True)\n",
    "\n",
    "# Call the bootstrapping function using the predictions only\n",
    "mean_profit_1, confidence_interval_1, negative_profit_probability_1 = bootstrap_profit(top_predictions_1, top_target_1, random_state= 12345)\n",
    "\n",
    "\n",
    "print(f\"Region 1 - Mean Profit: {mean_profit_1}\")\n",
    "print(f\"Region 1 - 95% Confidence Interval: {confidence_interval_1}\")\n",
    "print(f\"Region 1 - Risk of Loss: {negative_profit_probability_1 * 100}%\")"
   ]
  },
  {
   "cell_type": "markdown",
   "metadata": {},
   "source": [
    "<div class=\"alert alert-success\" style=\"border-radius: 15px; box-shadow: 4px 4px 4px; border: 1px solid \">\n",
    "<h2> Reviewer's comment 2</h2>\n",
    "    \n",
    "\n",
    "Good!     \n",
    "</div><div class=\"alert alert-success\" style=\"border-radius: 15px; box-shadow: 4px 4px 4px; border: 1px solid \">\n",
    "<h2> Reviewer's comment </h2>\n",
    "    \n",
    "\n",
    "There's a replacement, well done! We indeed need to sample 500 rows with replacement. The point is that if we remove the replacement, our subsample (or rather, all subsamples) will simply resemble the original sample.\n",
    "    \n",
    "</div><div class=\"alert alert-danger\" style=\"border-radius: 15px; box-shadow: 4px 4px 4px; border: 1px solid \">\n",
    "<b> Reviewer's comment </b>\n",
    "    \n",
    "\n",
    "I recommend explicitly specifying the `random_state` parameter inside the `sample` method to ensure reproducibility. Otherwise, the results may differ with each run.\n",
    "\n",
    "</div>"
   ]
  },
  {
   "cell_type": "code",
   "execution_count": 26,
   "metadata": {
    "trusted": true
   },
   "outputs": [
    {
     "name": "stdout",
     "output_type": "stream",
     "text": [
      "Region 0 - Mean Profit: 3961649.8480237117\n",
      "Region 0 - 95% Confidence Interval: [-1112155.45890496  9097669.41553423]\n",
      "Region 0 - Risk of Loss: 6.9%\n"
     ]
    }
   ],
   "source": [
    "# Region 0\n",
    "top_predictions_0 = pd.Series(predicted_0_valid)\n",
    "top_target_0 = target_0_valid.reset_index(drop = True)\n",
    "\n",
    "# Call the bootstrapping function\n",
    "mean_profit_0, confidence_interval_0, negative_profit_probability_0 = bootstrap_profit(top_predictions_0, top_target_0, random_state= 12345)\n",
    "\n",
    "\n",
    "print(f\"Region 0 - Mean Profit: {mean_profit_0}\")\n",
    "print(f\"Region 0 - 95% Confidence Interval: {confidence_interval_0}\")\n",
    "print(f\"Region 0 - Risk of Loss: {negative_profit_probability_0 * 100}%\")"
   ]
  },
  {
   "cell_type": "code",
   "execution_count": 27,
   "metadata": {
    "trusted": true
   },
   "outputs": [
    {
     "name": "stdout",
     "output_type": "stream",
     "text": [
      "Region 2 - Mean Profit: 4044038.665683568\n",
      "Region 2 - 95% Confidence Interval: [-1633504.133956  9503595.749238]\n",
      "Region 2 - Risk of Loss: 7.6%\n"
     ]
    }
   ],
   "source": [
    "# Region 2\n",
    "top_predictions_2 = pd.Series(predicted_2_valid)\n",
    "top_target_2 = target_2_valid.reset_index(drop = True)\n",
    "\n",
    "# Call the bootstrapping\n",
    "mean_profit_2, confidence_interval_2, negative_profit_probability_2 = bootstrap_profit(top_predictions_2, top_target_2, random_state= 12345)\n",
    "\n",
    "\n",
    "print(f\"Region 2 - Mean Profit: {mean_profit_2}\")\n",
    "print(f\"Region 2 - 95% Confidence Interval: {confidence_interval_2}\")\n",
    "print(f\"Region 2 - Risk of Loss: {negative_profit_probability_2 * 100}%\")"
   ]
  },
  {
   "cell_type": "markdown",
   "metadata": {},
   "source": [
    "<div class=\"alert alert-success\" style=\"border-radius: 15px; box-shadow: 4px 4px 4px; border: 1px solid \">\n",
    "<h2> Reviewer's comment </h2>\n",
    "    \n",
    "\n",
    "Good! </div>\n",
    "<div class=\"alert alert-warning\" style=\"border-radius: 15px; box-shadow: 4px 4px 4px; border: 1px solid \">\n",
    "<h2> Reviewer's comment </h2>\n",
    "    \n",
    "\n",
    "You can also create a function that will calculate the statistics for any region. \n",
    "\n",
    "</div>"
   ]
  },
  {
   "cell_type": "markdown",
   "metadata": {},
   "source": [
    "In conclusion, the repeated sampling and testing provided from bootstrapping reinforced the conlcusion we had made in part 4 that region 1 is likely the safest bet for positive net profit in developing new wells.  As that model had a much smaler and more accurate RMSE, it is better at predicting reserve volume, so our confidence interval is more narrow and our risk of loss is much lower at 1.5%.  Whereas our other 2 regions had very large RMSE, therefore being worse at accurately predicting reserve volume, so our confidence intervals are much wider and our risk of loss is much higher at around 7% or more for each. "
   ]
  },
  {
   "cell_type": "markdown",
   "metadata": {},
   "source": [
    "<div class=\"alert alert-success\" style=\"border-radius: 15px; box-shadow: 4px 4px 4px; border: 1px solid \">\n",
    "<h2>   Reviewer's comment 2 </h2>\n",
    "    \n",
    "Excellent job, thank you so much! \n",
    "    \n",
    "</div><div class=\"alert alert-success\" style=\"border-radius: 15px; box-shadow: 4px 4px 4px; border: 1px solid \">\n",
    "<h2> Reviewer's comment </h2>\n",
    "    \n",
    "\n",
    "Good conclusion! \n",
    "\n",
    "</div>\n",
    "<div class=\"alert alert-danger\" style=\"border-radius: 15px; box-shadow: 4px 4px 4px; border: 1px solid \">\n",
    "<b> Reviewer's comment </b>\n",
    "    \n",
    "\n",
    "Please don't forget to update it, since the results change after each run because `random_state` parameter was not defined :)     \n",
    "</div>"
   ]
  },
  {
   "cell_type": "code",
   "execution_count": null,
   "metadata": {
    "trusted": true
   },
   "outputs": [],
   "source": []
  }
 ],
 "metadata": {
  "ExecuteTimeLog": [
   {
    "duration": 2799,
    "start_time": "2025-04-12T16:19:00.972Z"
   },
   {
    "duration": 641,
    "start_time": "2025-04-12T16:19:24.963Z"
   },
   {
    "duration": 15,
    "start_time": "2025-04-12T16:19:41.158Z"
   },
   {
    "duration": 17,
    "start_time": "2025-04-12T16:22:59.594Z"
   },
   {
    "duration": 977,
    "start_time": "2025-04-12T16:23:13.645Z"
   },
   {
    "duration": 5,
    "start_time": "2025-04-12T16:23:14.624Z"
   },
   {
    "duration": 0,
    "start_time": "2025-04-12T16:23:14.631Z"
   },
   {
    "duration": 293,
    "start_time": "2025-04-12T16:23:43.509Z"
   },
   {
    "duration": 943,
    "start_time": "2025-04-12T16:23:52.073Z"
   },
   {
    "duration": 226,
    "start_time": "2025-04-12T16:23:53.018Z"
   },
   {
    "duration": 38,
    "start_time": "2025-04-12T16:23:53.246Z"
   },
   {
    "duration": 157,
    "start_time": "2025-04-12T17:41:32.359Z"
   },
   {
    "duration": 2584,
    "start_time": "2025-04-12T17:41:44.436Z"
   },
   {
    "duration": 305,
    "start_time": "2025-04-12T17:41:47.023Z"
   },
   {
    "duration": 169,
    "start_time": "2025-04-12T17:41:47.330Z"
   },
   {
    "duration": 191,
    "start_time": "2025-04-12T17:43:43.436Z"
   },
   {
    "duration": 121,
    "start_time": "2025-04-12T17:45:23.440Z"
   },
   {
    "duration": 124,
    "start_time": "2025-04-12T17:46:04.080Z"
   },
   {
    "duration": 136,
    "start_time": "2025-04-12T17:46:19.181Z"
   },
   {
    "duration": 81,
    "start_time": "2025-04-12T17:47:25.108Z"
   },
   {
    "duration": 899,
    "start_time": "2025-04-12T17:48:21.730Z"
   },
   {
    "duration": 218,
    "start_time": "2025-04-12T17:48:22.631Z"
   },
   {
    "duration": 183,
    "start_time": "2025-04-12T17:48:22.851Z"
   },
   {
    "duration": 22,
    "start_time": "2025-04-12T17:50:13.434Z"
   },
   {
    "duration": 39,
    "start_time": "2025-04-12T17:50:50.397Z"
   },
   {
    "duration": 99,
    "start_time": "2025-04-12T17:52:59.053Z"
   },
   {
    "duration": 126,
    "start_time": "2025-04-12T17:59:30.145Z"
   },
   {
    "duration": 162,
    "start_time": "2025-04-13T19:48:45.940Z"
   },
   {
    "duration": 2732,
    "start_time": "2025-04-13T19:49:04.827Z"
   },
   {
    "duration": 289,
    "start_time": "2025-04-13T19:49:07.561Z"
   },
   {
    "duration": 129,
    "start_time": "2025-04-13T19:49:07.852Z"
   },
   {
    "duration": 252,
    "start_time": "2025-04-13T19:49:07.983Z"
   },
   {
    "duration": 27,
    "start_time": "2025-04-13T19:49:43.795Z"
   },
   {
    "duration": 34,
    "start_time": "2025-04-13T19:49:48.790Z"
   },
   {
    "duration": 966,
    "start_time": "2025-04-13T19:50:02.593Z"
   },
   {
    "duration": 268,
    "start_time": "2025-04-13T19:50:03.562Z"
   },
   {
    "duration": 206,
    "start_time": "2025-04-13T19:50:03.832Z"
   },
   {
    "duration": 23,
    "start_time": "2025-04-13T19:50:04.040Z"
   },
   {
    "duration": 163,
    "start_time": "2025-04-13T22:08:16.238Z"
   },
   {
    "duration": 2742,
    "start_time": "2025-04-13T22:08:24.029Z"
   },
   {
    "duration": 287,
    "start_time": "2025-04-13T22:08:26.774Z"
   },
   {
    "duration": 129,
    "start_time": "2025-04-13T22:08:27.063Z"
   },
   {
    "duration": 22,
    "start_time": "2025-04-13T22:08:27.194Z"
   },
   {
    "duration": 320,
    "start_time": "2025-04-13T22:09:40.998Z"
   },
   {
    "duration": 65,
    "start_time": "2025-04-13T22:09:51.902Z"
   },
   {
    "duration": 11,
    "start_time": "2025-04-13T22:12:06.858Z"
   },
   {
    "duration": 885,
    "start_time": "2025-04-13T22:15:25.561Z"
   },
   {
    "duration": 216,
    "start_time": "2025-04-13T22:15:26.449Z"
   },
   {
    "duration": 132,
    "start_time": "2025-04-13T22:15:26.666Z"
   },
   {
    "duration": 24,
    "start_time": "2025-04-13T22:15:26.800Z"
   },
   {
    "duration": 42,
    "start_time": "2025-04-13T22:15:26.826Z"
   },
   {
    "duration": 9,
    "start_time": "2025-04-13T22:15:26.869Z"
   },
   {
    "duration": 309,
    "start_time": "2025-04-13T22:19:14.809Z"
   },
   {
    "duration": 5,
    "start_time": "2025-04-13T22:21:47.612Z"
   },
   {
    "duration": 13,
    "start_time": "2025-04-13T22:21:57.419Z"
   },
   {
    "duration": 44,
    "start_time": "2025-04-13T22:22:07.387Z"
   },
   {
    "duration": 891,
    "start_time": "2025-04-13T22:24:56.852Z"
   },
   {
    "duration": 217,
    "start_time": "2025-04-13T22:24:57.745Z"
   },
   {
    "duration": 132,
    "start_time": "2025-04-13T22:24:57.964Z"
   },
   {
    "duration": 17,
    "start_time": "2025-04-13T22:24:58.097Z"
   },
   {
    "duration": 18,
    "start_time": "2025-04-13T22:24:58.116Z"
   },
   {
    "duration": 10,
    "start_time": "2025-04-13T22:24:58.135Z"
   },
   {
    "duration": 14,
    "start_time": "2025-04-13T22:24:58.146Z"
   },
   {
    "duration": 24,
    "start_time": "2025-04-13T22:31:55.217Z"
   },
   {
    "duration": 15,
    "start_time": "2025-04-13T22:40:12.125Z"
   },
   {
    "duration": 12,
    "start_time": "2025-04-13T22:41:56.213Z"
   },
   {
    "duration": 18,
    "start_time": "2025-04-13T22:44:04.291Z"
   },
   {
    "duration": 15,
    "start_time": "2025-04-13T22:44:28.724Z"
   },
   {
    "duration": 12,
    "start_time": "2025-04-13T22:45:15.365Z"
   },
   {
    "duration": 3,
    "start_time": "2025-04-13T23:34:01.263Z"
   },
   {
    "duration": 3,
    "start_time": "2025-04-13T23:45:09.419Z"
   },
   {
    "duration": 4,
    "start_time": "2025-04-13T23:46:28.649Z"
   },
   {
    "duration": 4,
    "start_time": "2025-04-13T23:47:49.927Z"
   },
   {
    "duration": 3,
    "start_time": "2025-04-13T23:51:56.672Z"
   },
   {
    "duration": 5,
    "start_time": "2025-04-13T23:55:02.196Z"
   },
   {
    "duration": 6,
    "start_time": "2025-04-14T00:01:07.972Z"
   },
   {
    "duration": 6,
    "start_time": "2025-04-14T00:03:30.340Z"
   },
   {
    "duration": 9,
    "start_time": "2025-04-14T00:40:13.548Z"
   },
   {
    "duration": 9,
    "start_time": "2025-04-14T00:40:38.735Z"
   },
   {
    "duration": 8,
    "start_time": "2025-04-14T00:41:24.888Z"
   },
   {
    "duration": 839,
    "start_time": "2025-04-14T00:41:32.369Z"
   },
   {
    "duration": 230,
    "start_time": "2025-04-14T00:41:33.211Z"
   },
   {
    "duration": 122,
    "start_time": "2025-04-14T00:41:33.444Z"
   },
   {
    "duration": 17,
    "start_time": "2025-04-14T00:41:33.568Z"
   },
   {
    "duration": 14,
    "start_time": "2025-04-14T00:41:33.587Z"
   },
   {
    "duration": 23,
    "start_time": "2025-04-14T00:41:33.602Z"
   },
   {
    "duration": 14,
    "start_time": "2025-04-14T00:41:33.626Z"
   },
   {
    "duration": 89,
    "start_time": "2025-04-14T00:41:33.642Z"
   },
   {
    "duration": 14,
    "start_time": "2025-04-14T00:41:33.733Z"
   },
   {
    "duration": 76,
    "start_time": "2025-04-14T00:41:33.748Z"
   },
   {
    "duration": 20,
    "start_time": "2025-04-14T00:41:33.825Z"
   },
   {
    "duration": 14,
    "start_time": "2025-04-14T00:41:33.924Z"
   },
   {
    "duration": 10,
    "start_time": "2025-04-14T00:41:33.940Z"
   },
   {
    "duration": 4,
    "start_time": "2025-04-14T00:41:33.955Z"
   },
   {
    "duration": 63,
    "start_time": "2025-04-14T00:41:33.962Z"
   },
   {
    "duration": 6,
    "start_time": "2025-04-14T00:41:34.028Z"
   },
   {
    "duration": 10,
    "start_time": "2025-04-14T00:41:34.036Z"
   },
   {
    "duration": 9,
    "start_time": "2025-04-14T00:43:23.453Z"
   },
   {
    "duration": 9,
    "start_time": "2025-04-14T00:44:40.911Z"
   },
   {
    "duration": 3,
    "start_time": "2025-04-14T00:52:49.568Z"
   },
   {
    "duration": 3,
    "start_time": "2025-04-14T00:54:03.788Z"
   },
   {
    "duration": 3,
    "start_time": "2025-04-14T00:54:33.348Z"
   },
   {
    "duration": 4,
    "start_time": "2025-04-14T00:55:02.556Z"
   },
   {
    "duration": 973,
    "start_time": "2025-04-14T00:55:37.741Z"
   },
   {
    "duration": 245,
    "start_time": "2025-04-14T00:55:38.716Z"
   },
   {
    "duration": 141,
    "start_time": "2025-04-14T00:55:38.963Z"
   },
   {
    "duration": 23,
    "start_time": "2025-04-14T00:55:39.107Z"
   },
   {
    "duration": 15,
    "start_time": "2025-04-14T00:55:39.132Z"
   },
   {
    "duration": 12,
    "start_time": "2025-04-14T00:55:39.149Z"
   },
   {
    "duration": 14,
    "start_time": "2025-04-14T00:55:39.163Z"
   },
   {
    "duration": 62,
    "start_time": "2025-04-14T00:55:39.178Z"
   },
   {
    "duration": 92,
    "start_time": "2025-04-14T00:55:39.242Z"
   },
   {
    "duration": 11,
    "start_time": "2025-04-14T00:55:39.337Z"
   },
   {
    "duration": 84,
    "start_time": "2025-04-14T00:55:39.350Z"
   },
   {
    "duration": 89,
    "start_time": "2025-04-14T00:55:39.435Z"
   },
   {
    "duration": 15,
    "start_time": "2025-04-14T00:55:39.526Z"
   },
   {
    "duration": 3,
    "start_time": "2025-04-14T00:55:39.543Z"
   },
   {
    "duration": 3,
    "start_time": "2025-04-14T00:55:39.548Z"
   },
   {
    "duration": 77,
    "start_time": "2025-04-14T00:55:39.553Z"
   },
   {
    "duration": 12,
    "start_time": "2025-04-14T00:55:39.632Z"
   },
   {
    "duration": 4,
    "start_time": "2025-04-14T00:55:39.645Z"
   },
   {
    "duration": 3,
    "start_time": "2025-04-14T00:56:25.528Z"
   },
   {
    "duration": 4,
    "start_time": "2025-04-14T00:56:49.656Z"
   },
   {
    "duration": 4,
    "start_time": "2025-04-14T00:58:11.950Z"
   },
   {
    "duration": 907,
    "start_time": "2025-04-14T00:59:14.784Z"
   },
   {
    "duration": 224,
    "start_time": "2025-04-14T00:59:15.693Z"
   },
   {
    "duration": 123,
    "start_time": "2025-04-14T00:59:15.919Z"
   },
   {
    "duration": 16,
    "start_time": "2025-04-14T00:59:16.044Z"
   },
   {
    "duration": 13,
    "start_time": "2025-04-14T00:59:16.063Z"
   },
   {
    "duration": 9,
    "start_time": "2025-04-14T00:59:16.078Z"
   },
   {
    "duration": 39,
    "start_time": "2025-04-14T00:59:16.089Z"
   },
   {
    "duration": 95,
    "start_time": "2025-04-14T00:59:16.129Z"
   },
   {
    "duration": 14,
    "start_time": "2025-04-14T00:59:16.227Z"
   },
   {
    "duration": 10,
    "start_time": "2025-04-14T00:59:16.242Z"
   },
   {
    "duration": 83,
    "start_time": "2025-04-14T00:59:16.253Z"
   },
   {
    "duration": 89,
    "start_time": "2025-04-14T00:59:16.338Z"
   },
   {
    "duration": 11,
    "start_time": "2025-04-14T00:59:16.430Z"
   },
   {
    "duration": 4,
    "start_time": "2025-04-14T00:59:16.445Z"
   },
   {
    "duration": 5,
    "start_time": "2025-04-14T00:59:16.453Z"
   },
   {
    "duration": 8,
    "start_time": "2025-04-14T00:59:16.526Z"
   },
   {
    "duration": 9,
    "start_time": "2025-04-14T00:59:16.539Z"
   },
   {
    "duration": 3,
    "start_time": "2025-04-14T00:59:16.550Z"
   },
   {
    "duration": 4,
    "start_time": "2025-04-14T01:01:27.175Z"
   },
   {
    "duration": 337,
    "start_time": "2025-04-14T02:20:55.574Z"
   },
   {
    "duration": 2540,
    "start_time": "2025-04-14T02:21:12.485Z"
   },
   {
    "duration": 301,
    "start_time": "2025-04-14T02:21:15.027Z"
   },
   {
    "duration": 135,
    "start_time": "2025-04-14T02:21:15.330Z"
   },
   {
    "duration": 17,
    "start_time": "2025-04-14T02:21:15.467Z"
   },
   {
    "duration": 29,
    "start_time": "2025-04-14T02:21:15.487Z"
   },
   {
    "duration": 9,
    "start_time": "2025-04-14T02:21:15.518Z"
   },
   {
    "duration": 13,
    "start_time": "2025-04-14T02:21:15.529Z"
   },
   {
    "duration": 77,
    "start_time": "2025-04-14T02:21:15.543Z"
   },
   {
    "duration": 87,
    "start_time": "2025-04-14T02:21:15.622Z"
   },
   {
    "duration": 10,
    "start_time": "2025-04-14T02:21:15.711Z"
   },
   {
    "duration": 89,
    "start_time": "2025-04-14T02:21:15.723Z"
   },
   {
    "duration": 14,
    "start_time": "2025-04-14T02:21:15.814Z"
   },
   {
    "duration": 11,
    "start_time": "2025-04-14T02:21:15.830Z"
   },
   {
    "duration": 65,
    "start_time": "2025-04-14T02:21:15.845Z"
   },
   {
    "duration": 4,
    "start_time": "2025-04-14T02:21:15.911Z"
   },
   {
    "duration": 5,
    "start_time": "2025-04-14T02:21:15.918Z"
   },
   {
    "duration": 84,
    "start_time": "2025-04-14T02:21:15.927Z"
   },
   {
    "duration": 3,
    "start_time": "2025-04-14T02:21:16.012Z"
   },
   {
    "duration": 39,
    "start_time": "2025-04-14T02:21:16.017Z"
   },
   {
    "duration": 31,
    "start_time": "2025-04-14T02:34:24.130Z"
   },
   {
    "duration": 26,
    "start_time": "2025-04-14T02:35:52.990Z"
   },
   {
    "duration": 35,
    "start_time": "2025-04-14T02:48:38.814Z"
   },
   {
    "duration": 29,
    "start_time": "2025-04-14T02:50:33.115Z"
   },
   {
    "duration": 32,
    "start_time": "2025-04-14T02:58:40.161Z"
   },
   {
    "duration": 295,
    "start_time": "2025-04-14T02:59:55.534Z"
   },
   {
    "duration": 40,
    "start_time": "2025-04-14T03:00:11.723Z"
   },
   {
    "duration": 34,
    "start_time": "2025-04-14T03:00:57.011Z"
   },
   {
    "duration": 27,
    "start_time": "2025-04-14T03:02:04.373Z"
   },
   {
    "duration": 37,
    "start_time": "2025-04-14T03:04:56.527Z"
   },
   {
    "duration": 22,
    "start_time": "2025-04-14T03:21:42.610Z"
   },
   {
    "duration": 33,
    "start_time": "2025-04-14T03:38:34.676Z"
   },
   {
    "duration": 26,
    "start_time": "2025-04-14T03:39:14.427Z"
   },
   {
    "duration": 890,
    "start_time": "2025-04-14T03:39:59.060Z"
   },
   {
    "duration": 219,
    "start_time": "2025-04-14T03:39:59.952Z"
   },
   {
    "duration": 130,
    "start_time": "2025-04-14T03:40:00.172Z"
   },
   {
    "duration": 18,
    "start_time": "2025-04-14T03:40:00.305Z"
   },
   {
    "duration": 13,
    "start_time": "2025-04-14T03:40:00.325Z"
   },
   {
    "duration": 10,
    "start_time": "2025-04-14T03:40:00.340Z"
   },
   {
    "duration": 14,
    "start_time": "2025-04-14T03:40:00.351Z"
   },
   {
    "duration": 57,
    "start_time": "2025-04-14T03:40:00.366Z"
   },
   {
    "duration": 91,
    "start_time": "2025-04-14T03:40:00.425Z"
   },
   {
    "duration": 10,
    "start_time": "2025-04-14T03:40:00.519Z"
   },
   {
    "duration": 79,
    "start_time": "2025-04-14T03:40:00.530Z"
   },
   {
    "duration": 16,
    "start_time": "2025-04-14T03:40:00.611Z"
   },
   {
    "duration": 80,
    "start_time": "2025-04-14T03:40:00.629Z"
   },
   {
    "duration": 5,
    "start_time": "2025-04-14T03:40:00.711Z"
   },
   {
    "duration": 5,
    "start_time": "2025-04-14T03:40:00.717Z"
   },
   {
    "duration": 4,
    "start_time": "2025-04-14T03:40:00.724Z"
   },
   {
    "duration": 82,
    "start_time": "2025-04-14T03:40:00.730Z"
   },
   {
    "duration": 3,
    "start_time": "2025-04-14T03:40:00.814Z"
   },
   {
    "duration": 30,
    "start_time": "2025-04-14T03:40:00.819Z"
   },
   {
    "duration": 61,
    "start_time": "2025-04-14T03:40:00.851Z"
   },
   {
    "duration": 24,
    "start_time": "2025-04-14T03:40:00.913Z"
   },
   {
    "duration": 19,
    "start_time": "2025-04-14T03:54:22.772Z"
   },
   {
    "duration": 864,
    "start_time": "2025-04-14T03:55:06.563Z"
   },
   {
    "duration": 221,
    "start_time": "2025-04-14T03:55:07.429Z"
   },
   {
    "duration": 132,
    "start_time": "2025-04-14T03:55:07.652Z"
   },
   {
    "duration": 21,
    "start_time": "2025-04-14T03:55:07.788Z"
   },
   {
    "duration": 14,
    "start_time": "2025-04-14T03:55:07.811Z"
   },
   {
    "duration": 9,
    "start_time": "2025-04-14T03:55:07.827Z"
   },
   {
    "duration": 15,
    "start_time": "2025-04-14T03:55:07.838Z"
   },
   {
    "duration": 70,
    "start_time": "2025-04-14T03:55:07.855Z"
   },
   {
    "duration": 88,
    "start_time": "2025-04-14T03:55:07.927Z"
   },
   {
    "duration": 11,
    "start_time": "2025-04-14T03:55:08.019Z"
   },
   {
    "duration": 85,
    "start_time": "2025-04-14T03:55:08.032Z"
   },
   {
    "duration": 18,
    "start_time": "2025-04-14T03:55:08.119Z"
   },
   {
    "duration": 80,
    "start_time": "2025-04-14T03:55:08.138Z"
   },
   {
    "duration": 3,
    "start_time": "2025-04-14T03:55:08.220Z"
   },
   {
    "duration": 3,
    "start_time": "2025-04-14T03:55:08.225Z"
   },
   {
    "duration": 5,
    "start_time": "2025-04-14T03:55:08.230Z"
   },
   {
    "duration": 80,
    "start_time": "2025-04-14T03:55:08.236Z"
   },
   {
    "duration": 3,
    "start_time": "2025-04-14T03:55:08.318Z"
   },
   {
    "duration": 24,
    "start_time": "2025-04-14T03:55:08.322Z"
   },
   {
    "duration": 68,
    "start_time": "2025-04-14T03:55:08.348Z"
   },
   {
    "duration": 16,
    "start_time": "2025-04-14T03:55:08.417Z"
   },
   {
    "duration": 14,
    "start_time": "2025-04-14T04:08:30.523Z"
   },
   {
    "duration": 279,
    "start_time": "2025-04-14T04:34:28.174Z"
   },
   {
    "duration": 37,
    "start_time": "2025-04-14T04:35:24.958Z"
   },
   {
    "duration": 273,
    "start_time": "2025-04-14T04:35:30.666Z"
   },
   {
    "duration": 231,
    "start_time": "2025-04-14T04:38:00.512Z"
   },
   {
    "duration": 4,
    "start_time": "2025-04-14T04:40:02.698Z"
   },
   {
    "duration": 64,
    "start_time": "2025-04-14T04:40:39.562Z"
   },
   {
    "duration": 265,
    "start_time": "2025-04-14T04:42:27.739Z"
   },
   {
    "duration": 47,
    "start_time": "2025-04-14T04:43:56.977Z"
   },
   {
    "duration": 51,
    "start_time": "2025-04-14T04:45:02.273Z"
   },
   {
    "duration": 9,
    "start_time": "2025-04-14T04:45:52.777Z"
   },
   {
    "duration": 1680,
    "start_time": "2025-04-14T04:45:59.689Z"
   },
   {
    "duration": 579,
    "start_time": "2025-04-14T04:46:15.389Z"
   },
   {
    "duration": 588,
    "start_time": "2025-04-14T04:51:00.664Z"
   },
   {
    "duration": 262,
    "start_time": "2025-04-14T04:53:24.061Z"
   },
   {
    "duration": 270,
    "start_time": "2025-04-14T04:53:45.104Z"
   },
   {
    "duration": 888,
    "start_time": "2025-04-14T04:54:05.846Z"
   },
   {
    "duration": 223,
    "start_time": "2025-04-14T04:54:06.736Z"
   },
   {
    "duration": 124,
    "start_time": "2025-04-14T04:54:06.961Z"
   },
   {
    "duration": 22,
    "start_time": "2025-04-14T04:54:07.087Z"
   },
   {
    "duration": 13,
    "start_time": "2025-04-14T04:54:07.111Z"
   },
   {
    "duration": 10,
    "start_time": "2025-04-14T04:54:07.126Z"
   },
   {
    "duration": 13,
    "start_time": "2025-04-14T04:54:07.138Z"
   },
   {
    "duration": 68,
    "start_time": "2025-04-14T04:54:07.154Z"
   },
   {
    "duration": 88,
    "start_time": "2025-04-14T04:54:07.224Z"
   },
   {
    "duration": 11,
    "start_time": "2025-04-14T04:54:07.314Z"
   },
   {
    "duration": 85,
    "start_time": "2025-04-14T04:54:07.326Z"
   },
   {
    "duration": 16,
    "start_time": "2025-04-14T04:54:07.412Z"
   },
   {
    "duration": 80,
    "start_time": "2025-04-14T04:54:07.429Z"
   },
   {
    "duration": 4,
    "start_time": "2025-04-14T04:54:07.514Z"
   },
   {
    "duration": 6,
    "start_time": "2025-04-14T04:54:07.522Z"
   },
   {
    "duration": 81,
    "start_time": "2025-04-14T04:54:07.531Z"
   },
   {
    "duration": 10,
    "start_time": "2025-04-14T04:54:07.614Z"
   },
   {
    "duration": 3,
    "start_time": "2025-04-14T04:54:07.626Z"
   },
   {
    "duration": 4,
    "start_time": "2025-04-14T04:54:07.630Z"
   },
   {
    "duration": 295,
    "start_time": "2025-04-14T04:54:07.636Z"
   },
   {
    "duration": 276,
    "start_time": "2025-04-14T04:54:07.933Z"
   },
   {
    "duration": 275,
    "start_time": "2025-04-14T04:54:08.210Z"
   },
   {
    "duration": 887,
    "start_time": "2025-04-14T04:58:22.398Z"
   },
   {
    "duration": 217,
    "start_time": "2025-04-14T04:58:23.288Z"
   },
   {
    "duration": 125,
    "start_time": "2025-04-14T04:58:23.507Z"
   },
   {
    "duration": 18,
    "start_time": "2025-04-14T04:58:23.634Z"
   },
   {
    "duration": 14,
    "start_time": "2025-04-14T04:58:23.655Z"
   },
   {
    "duration": 11,
    "start_time": "2025-04-14T04:58:23.670Z"
   },
   {
    "duration": 38,
    "start_time": "2025-04-14T04:58:23.682Z"
   },
   {
    "duration": 87,
    "start_time": "2025-04-14T04:58:23.722Z"
   },
   {
    "duration": 17,
    "start_time": "2025-04-14T04:58:23.811Z"
   },
   {
    "duration": 10,
    "start_time": "2025-04-14T04:58:23.830Z"
   },
   {
    "duration": 84,
    "start_time": "2025-04-14T04:58:23.842Z"
   },
   {
    "duration": 83,
    "start_time": "2025-04-14T04:58:23.928Z"
   },
   {
    "duration": 12,
    "start_time": "2025-04-14T04:58:24.013Z"
   },
   {
    "duration": 2,
    "start_time": "2025-04-14T04:58:24.029Z"
   },
   {
    "duration": 3,
    "start_time": "2025-04-14T04:58:24.033Z"
   },
   {
    "duration": 74,
    "start_time": "2025-04-14T04:58:24.038Z"
   },
   {
    "duration": 10,
    "start_time": "2025-04-14T04:58:24.114Z"
   },
   {
    "duration": 3,
    "start_time": "2025-04-14T04:58:24.126Z"
   },
   {
    "duration": 4,
    "start_time": "2025-04-14T04:58:24.130Z"
   },
   {
    "duration": 366,
    "start_time": "2025-04-14T04:58:24.135Z"
   },
   {
    "duration": 275,
    "start_time": "2025-04-14T04:58:24.504Z"
   },
   {
    "duration": 271,
    "start_time": "2025-04-14T04:58:24.781Z"
   },
   {
    "duration": 870,
    "start_time": "2025-04-14T05:02:39.308Z"
   },
   {
    "duration": 226,
    "start_time": "2025-04-14T05:02:40.180Z"
   },
   {
    "duration": 140,
    "start_time": "2025-04-14T05:02:40.409Z"
   },
   {
    "duration": 16,
    "start_time": "2025-04-14T05:02:40.550Z"
   },
   {
    "duration": 14,
    "start_time": "2025-04-14T05:02:40.568Z"
   },
   {
    "duration": 26,
    "start_time": "2025-04-14T05:02:40.583Z"
   },
   {
    "duration": 12,
    "start_time": "2025-04-14T05:02:40.610Z"
   },
   {
    "duration": 84,
    "start_time": "2025-04-14T05:02:40.625Z"
   },
   {
    "duration": 15,
    "start_time": "2025-04-14T05:02:40.711Z"
   },
   {
    "duration": 11,
    "start_time": "2025-04-14T05:02:40.728Z"
   },
   {
    "duration": 85,
    "start_time": "2025-04-14T05:02:40.741Z"
   },
   {
    "duration": 92,
    "start_time": "2025-04-14T05:02:40.827Z"
   },
   {
    "duration": 10,
    "start_time": "2025-04-14T05:02:40.920Z"
   },
   {
    "duration": 3,
    "start_time": "2025-04-14T05:02:40.934Z"
   },
   {
    "duration": 3,
    "start_time": "2025-04-14T05:02:40.939Z"
   },
   {
    "duration": 64,
    "start_time": "2025-04-14T05:02:40.945Z"
   },
   {
    "duration": 13,
    "start_time": "2025-04-14T05:02:41.012Z"
   },
   {
    "duration": 2,
    "start_time": "2025-04-14T05:02:41.030Z"
   },
   {
    "duration": 77,
    "start_time": "2025-04-14T05:02:41.034Z"
   },
   {
    "duration": 280,
    "start_time": "2025-04-14T05:02:41.113Z"
   },
   {
    "duration": 292,
    "start_time": "2025-04-14T05:02:41.396Z"
   },
   {
    "duration": 280,
    "start_time": "2025-04-14T05:02:41.690Z"
   },
   {
    "duration": 281,
    "start_time": "2025-04-14T05:09:00.169Z"
   },
   {
    "duration": 47,
    "start_time": "2025-04-14T05:11:05.679Z"
   },
   {
    "duration": 862,
    "start_time": "2025-04-14T05:12:03.604Z"
   },
   {
    "duration": 212,
    "start_time": "2025-04-14T05:12:04.468Z"
   },
   {
    "duration": 130,
    "start_time": "2025-04-14T05:12:04.682Z"
   },
   {
    "duration": 16,
    "start_time": "2025-04-14T05:12:04.813Z"
   },
   {
    "duration": 13,
    "start_time": "2025-04-14T05:12:04.831Z"
   },
   {
    "duration": 9,
    "start_time": "2025-04-14T05:12:04.846Z"
   },
   {
    "duration": 12,
    "start_time": "2025-04-14T05:12:04.857Z"
   },
   {
    "duration": 59,
    "start_time": "2025-04-14T05:12:04.871Z"
   },
   {
    "duration": 88,
    "start_time": "2025-04-14T05:12:04.933Z"
   },
   {
    "duration": 10,
    "start_time": "2025-04-14T05:12:05.023Z"
   },
   {
    "duration": 75,
    "start_time": "2025-04-14T05:12:05.034Z"
   },
   {
    "duration": 22,
    "start_time": "2025-04-14T05:12:05.112Z"
   },
   {
    "duration": 73,
    "start_time": "2025-04-14T05:12:05.136Z"
   },
   {
    "duration": 3,
    "start_time": "2025-04-14T05:12:05.212Z"
   },
   {
    "duration": 4,
    "start_time": "2025-04-14T05:12:05.216Z"
   },
   {
    "duration": 4,
    "start_time": "2025-04-14T05:12:05.222Z"
   },
   {
    "duration": 82,
    "start_time": "2025-04-14T05:12:05.227Z"
   },
   {
    "duration": 3,
    "start_time": "2025-04-14T05:12:05.311Z"
   },
   {
    "duration": 4,
    "start_time": "2025-04-14T05:12:05.316Z"
   },
   {
    "duration": 618,
    "start_time": "2025-04-14T05:12:05.322Z"
   },
   {
    "duration": 563,
    "start_time": "2025-04-14T05:12:05.942Z"
   },
   {
    "duration": 0,
    "start_time": "2025-04-14T05:12:06.507Z"
   },
   {
    "duration": 600,
    "start_time": "2025-04-14T05:12:54.651Z"
   },
   {
    "duration": 30,
    "start_time": "2025-04-14T05:14:38.831Z"
   },
   {
    "duration": 601,
    "start_time": "2025-04-14T05:15:02.720Z"
   },
   {
    "duration": 603,
    "start_time": "2025-04-14T05:15:12.552Z"
   },
   {
    "duration": 607,
    "start_time": "2025-04-14T05:15:46.369Z"
   },
   {
    "duration": 606,
    "start_time": "2025-04-14T05:15:50.026Z"
   },
   {
    "duration": 602,
    "start_time": "2025-04-14T05:16:45.225Z"
   },
   {
    "duration": 919,
    "start_time": "2025-04-14T05:16:59.341Z"
   },
   {
    "duration": 220,
    "start_time": "2025-04-14T05:17:00.262Z"
   },
   {
    "duration": 140,
    "start_time": "2025-04-14T05:17:00.483Z"
   },
   {
    "duration": 17,
    "start_time": "2025-04-14T05:17:00.624Z"
   },
   {
    "duration": 13,
    "start_time": "2025-04-14T05:17:00.644Z"
   },
   {
    "duration": 10,
    "start_time": "2025-04-14T05:17:00.659Z"
   },
   {
    "duration": 40,
    "start_time": "2025-04-14T05:17:00.670Z"
   },
   {
    "duration": 19,
    "start_time": "2025-04-14T05:17:00.711Z"
   },
   {
    "duration": 86,
    "start_time": "2025-04-14T05:17:00.732Z"
   },
   {
    "duration": 12,
    "start_time": "2025-04-14T05:17:00.819Z"
   },
   {
    "duration": 79,
    "start_time": "2025-04-14T05:17:00.833Z"
   },
   {
    "duration": 15,
    "start_time": "2025-04-14T05:17:00.914Z"
   },
   {
    "duration": 83,
    "start_time": "2025-04-14T05:17:00.931Z"
   },
   {
    "duration": 3,
    "start_time": "2025-04-14T05:17:01.017Z"
   },
   {
    "duration": 4,
    "start_time": "2025-04-14T05:17:01.021Z"
   },
   {
    "duration": 5,
    "start_time": "2025-04-14T05:17:01.027Z"
   },
   {
    "duration": 85,
    "start_time": "2025-04-14T05:17:01.034Z"
   },
   {
    "duration": 3,
    "start_time": "2025-04-14T05:17:01.121Z"
   },
   {
    "duration": 4,
    "start_time": "2025-04-14T05:17:01.126Z"
   },
   {
    "duration": 654,
    "start_time": "2025-04-14T05:17:01.131Z"
   },
   {
    "duration": 595,
    "start_time": "2025-04-14T05:17:01.786Z"
   },
   {
    "duration": 596,
    "start_time": "2025-04-14T05:17:02.383Z"
   },
   {
    "duration": 892,
    "start_time": "2025-04-14T05:18:49.240Z"
   },
   {
    "duration": 225,
    "start_time": "2025-04-14T05:18:50.134Z"
   },
   {
    "duration": 154,
    "start_time": "2025-04-14T05:18:50.361Z"
   },
   {
    "duration": 16,
    "start_time": "2025-04-14T05:18:50.517Z"
   },
   {
    "duration": 13,
    "start_time": "2025-04-14T05:18:50.537Z"
   },
   {
    "duration": 12,
    "start_time": "2025-04-14T05:18:50.552Z"
   },
   {
    "duration": 44,
    "start_time": "2025-04-14T05:18:50.566Z"
   },
   {
    "duration": 97,
    "start_time": "2025-04-14T05:18:50.612Z"
   },
   {
    "duration": 15,
    "start_time": "2025-04-14T05:18:50.710Z"
   },
   {
    "duration": 11,
    "start_time": "2025-04-14T05:18:50.727Z"
   },
   {
    "duration": 79,
    "start_time": "2025-04-14T05:18:50.741Z"
   },
   {
    "duration": 88,
    "start_time": "2025-04-14T05:18:50.822Z"
   },
   {
    "duration": 15,
    "start_time": "2025-04-14T05:18:50.912Z"
   },
   {
    "duration": 4,
    "start_time": "2025-04-14T05:18:50.932Z"
   },
   {
    "duration": 69,
    "start_time": "2025-04-14T05:18:50.941Z"
   },
   {
    "duration": 5,
    "start_time": "2025-04-14T05:18:51.012Z"
   },
   {
    "duration": 11,
    "start_time": "2025-04-14T05:18:51.018Z"
   },
   {
    "duration": 3,
    "start_time": "2025-04-14T05:18:51.030Z"
   },
   {
    "duration": 4,
    "start_time": "2025-04-14T05:18:51.035Z"
   },
   {
    "duration": 653,
    "start_time": "2025-04-14T05:18:51.041Z"
   },
   {
    "duration": 589,
    "start_time": "2025-04-14T05:18:51.696Z"
   },
   {
    "duration": 584,
    "start_time": "2025-04-14T05:18:52.288Z"
   },
   {
    "duration": 874,
    "start_time": "2025-04-14T05:25:32.656Z"
   },
   {
    "duration": 224,
    "start_time": "2025-04-14T05:25:33.533Z"
   },
   {
    "duration": 126,
    "start_time": "2025-04-14T05:25:33.759Z"
   },
   {
    "duration": 25,
    "start_time": "2025-04-14T05:25:33.888Z"
   },
   {
    "duration": 14,
    "start_time": "2025-04-14T05:25:33.915Z"
   },
   {
    "duration": 10,
    "start_time": "2025-04-14T05:25:33.931Z"
   },
   {
    "duration": 11,
    "start_time": "2025-04-14T05:25:33.942Z"
   },
   {
    "duration": 65,
    "start_time": "2025-04-14T05:25:33.955Z"
   },
   {
    "duration": 89,
    "start_time": "2025-04-14T05:25:34.022Z"
   },
   {
    "duration": 11,
    "start_time": "2025-04-14T05:25:34.112Z"
   },
   {
    "duration": 85,
    "start_time": "2025-04-14T05:25:34.125Z"
   },
   {
    "duration": 15,
    "start_time": "2025-04-14T05:25:34.212Z"
   },
   {
    "duration": 9,
    "start_time": "2025-04-14T05:25:34.229Z"
   },
   {
    "duration": 69,
    "start_time": "2025-04-14T05:25:34.241Z"
   },
   {
    "duration": 3,
    "start_time": "2025-04-14T05:25:34.312Z"
   },
   {
    "duration": 5,
    "start_time": "2025-04-14T05:25:34.316Z"
   },
   {
    "duration": 86,
    "start_time": "2025-04-14T05:25:34.323Z"
   },
   {
    "duration": 3,
    "start_time": "2025-04-14T05:25:34.411Z"
   },
   {
    "duration": 3,
    "start_time": "2025-04-14T05:25:34.416Z"
   },
   {
    "duration": 611,
    "start_time": "2025-04-14T05:25:34.421Z"
   },
   {
    "duration": 608,
    "start_time": "2025-04-14T05:25:35.034Z"
   },
   {
    "duration": 607,
    "start_time": "2025-04-14T05:25:35.644Z"
   },
   {
    "duration": 570,
    "start_time": "2025-04-14T05:26:56.448Z"
   },
   {
    "duration": 593,
    "start_time": "2025-04-14T05:27:05.473Z"
   },
   {
    "duration": 863,
    "start_time": "2025-04-14T05:27:14.101Z"
   },
   {
    "duration": 209,
    "start_time": "2025-04-14T05:27:14.966Z"
   },
   {
    "duration": 132,
    "start_time": "2025-04-14T05:27:15.177Z"
   },
   {
    "duration": 16,
    "start_time": "2025-04-14T05:27:15.311Z"
   },
   {
    "duration": 13,
    "start_time": "2025-04-14T05:27:15.330Z"
   },
   {
    "duration": 10,
    "start_time": "2025-04-14T05:27:15.345Z"
   },
   {
    "duration": 13,
    "start_time": "2025-04-14T05:27:15.356Z"
   },
   {
    "duration": 18,
    "start_time": "2025-04-14T05:27:15.408Z"
   },
   {
    "duration": 83,
    "start_time": "2025-04-14T05:27:15.428Z"
   },
   {
    "duration": 10,
    "start_time": "2025-04-14T05:27:15.513Z"
   },
   {
    "duration": 84,
    "start_time": "2025-04-14T05:27:15.525Z"
   },
   {
    "duration": 15,
    "start_time": "2025-04-14T05:27:15.611Z"
   },
   {
    "duration": 10,
    "start_time": "2025-04-14T05:27:15.628Z"
   },
   {
    "duration": 2,
    "start_time": "2025-04-14T05:27:15.709Z"
   },
   {
    "duration": 4,
    "start_time": "2025-04-14T05:27:15.713Z"
   },
   {
    "duration": 5,
    "start_time": "2025-04-14T05:27:15.718Z"
   },
   {
    "duration": 83,
    "start_time": "2025-04-14T05:27:15.725Z"
   },
   {
    "duration": 3,
    "start_time": "2025-04-14T05:27:15.810Z"
   },
   {
    "duration": 5,
    "start_time": "2025-04-14T05:27:15.815Z"
   },
   {
    "duration": 628,
    "start_time": "2025-04-14T05:27:15.821Z"
   },
   {
    "duration": 602,
    "start_time": "2025-04-14T05:27:16.451Z"
   },
   {
    "duration": 612,
    "start_time": "2025-04-14T05:27:17.054Z"
   },
   {
    "duration": 867,
    "start_time": "2025-04-14T05:36:15.342Z"
   },
   {
    "duration": 221,
    "start_time": "2025-04-14T05:36:16.212Z"
   },
   {
    "duration": 144,
    "start_time": "2025-04-14T05:36:16.435Z"
   },
   {
    "duration": 16,
    "start_time": "2025-04-14T05:36:16.582Z"
   },
   {
    "duration": 13,
    "start_time": "2025-04-14T05:36:16.609Z"
   },
   {
    "duration": 9,
    "start_time": "2025-04-14T05:36:16.624Z"
   },
   {
    "duration": 14,
    "start_time": "2025-04-14T05:36:16.635Z"
   },
   {
    "duration": 75,
    "start_time": "2025-04-14T05:36:16.651Z"
   },
   {
    "duration": 91,
    "start_time": "2025-04-14T05:36:16.730Z"
   },
   {
    "duration": 11,
    "start_time": "2025-04-14T05:36:16.825Z"
   },
   {
    "duration": 78,
    "start_time": "2025-04-14T05:36:16.840Z"
   },
   {
    "duration": 93,
    "start_time": "2025-04-14T05:36:16.922Z"
   },
   {
    "duration": 11,
    "start_time": "2025-04-14T05:36:17.017Z"
   },
   {
    "duration": 3,
    "start_time": "2025-04-14T05:36:17.032Z"
   },
   {
    "duration": 71,
    "start_time": "2025-04-14T05:36:17.038Z"
   },
   {
    "duration": 7,
    "start_time": "2025-04-14T05:36:17.112Z"
   },
   {
    "duration": 11,
    "start_time": "2025-04-14T05:36:17.122Z"
   },
   {
    "duration": 3,
    "start_time": "2025-04-14T05:36:17.134Z"
   },
   {
    "duration": 71,
    "start_time": "2025-04-14T05:36:17.139Z"
   },
   {
    "duration": 625,
    "start_time": "2025-04-14T05:36:17.212Z"
   },
   {
    "duration": 570,
    "start_time": "2025-04-14T05:36:17.839Z"
   },
   {
    "duration": 592,
    "start_time": "2025-04-14T05:36:18.411Z"
   },
   {
    "duration": 894,
    "start_time": "2025-04-14T05:41:38.624Z"
   },
   {
    "duration": 216,
    "start_time": "2025-04-14T05:41:39.520Z"
   },
   {
    "duration": 135,
    "start_time": "2025-04-14T05:41:39.738Z"
   },
   {
    "duration": 16,
    "start_time": "2025-04-14T05:41:39.875Z"
   },
   {
    "duration": 22,
    "start_time": "2025-04-14T05:41:39.893Z"
   },
   {
    "duration": 9,
    "start_time": "2025-04-14T05:41:39.917Z"
   },
   {
    "duration": 11,
    "start_time": "2025-04-14T05:41:39.927Z"
   },
   {
    "duration": 78,
    "start_time": "2025-04-14T05:41:39.939Z"
   },
   {
    "duration": 93,
    "start_time": "2025-04-14T05:41:40.019Z"
   },
   {
    "duration": 11,
    "start_time": "2025-04-14T05:41:40.114Z"
   },
   {
    "duration": 88,
    "start_time": "2025-04-14T05:41:40.126Z"
   },
   {
    "duration": 16,
    "start_time": "2025-04-14T05:41:40.216Z"
   },
   {
    "duration": 77,
    "start_time": "2025-04-14T05:41:40.233Z"
   },
   {
    "duration": 3,
    "start_time": "2025-04-14T05:41:40.313Z"
   },
   {
    "duration": 2,
    "start_time": "2025-04-14T05:41:40.318Z"
   },
   {
    "duration": 6,
    "start_time": "2025-04-14T05:41:40.322Z"
   },
   {
    "duration": 82,
    "start_time": "2025-04-14T05:41:40.330Z"
   },
   {
    "duration": 3,
    "start_time": "2025-04-14T05:41:40.413Z"
   },
   {
    "duration": 4,
    "start_time": "2025-04-14T05:41:40.418Z"
   },
   {
    "duration": 597,
    "start_time": "2025-04-14T05:41:40.423Z"
   },
   {
    "duration": 587,
    "start_time": "2025-04-14T05:41:41.022Z"
   },
   {
    "duration": 563,
    "start_time": "2025-04-14T05:41:41.611Z"
   },
   {
    "duration": 2665,
    "start_time": "2025-04-14T08:01:16.248Z"
   },
   {
    "duration": 297,
    "start_time": "2025-04-14T08:01:18.915Z"
   },
   {
    "duration": 137,
    "start_time": "2025-04-14T08:01:19.214Z"
   },
   {
    "duration": 13,
    "start_time": "2025-04-14T08:01:19.353Z"
   },
   {
    "duration": 25,
    "start_time": "2025-04-14T08:01:19.369Z"
   },
   {
    "duration": 15,
    "start_time": "2025-04-14T08:01:19.396Z"
   },
   {
    "duration": 10,
    "start_time": "2025-04-14T08:01:19.413Z"
   },
   {
    "duration": 11,
    "start_time": "2025-04-14T08:01:19.424Z"
   },
   {
    "duration": 65,
    "start_time": "2025-04-14T08:01:19.437Z"
   },
   {
    "duration": 92,
    "start_time": "2025-04-14T08:01:19.504Z"
   },
   {
    "duration": 9,
    "start_time": "2025-04-14T08:01:19.598Z"
   },
   {
    "duration": 81,
    "start_time": "2025-04-14T08:01:19.609Z"
   },
   {
    "duration": 16,
    "start_time": "2025-04-14T08:01:19.692Z"
   },
   {
    "duration": 79,
    "start_time": "2025-04-14T08:01:19.712Z"
   },
   {
    "duration": 3,
    "start_time": "2025-04-14T08:01:19.795Z"
   },
   {
    "duration": 6,
    "start_time": "2025-04-14T08:01:19.801Z"
   },
   {
    "duration": 81,
    "start_time": "2025-04-14T08:01:19.810Z"
   },
   {
    "duration": 9,
    "start_time": "2025-04-14T08:01:19.893Z"
   },
   {
    "duration": 4,
    "start_time": "2025-04-14T08:01:19.903Z"
   },
   {
    "duration": 5,
    "start_time": "2025-04-14T08:01:19.908Z"
   },
   {
    "duration": 637,
    "start_time": "2025-04-14T08:01:19.914Z"
   },
   {
    "duration": 575,
    "start_time": "2025-04-14T08:01:20.554Z"
   },
   {
    "duration": 565,
    "start_time": "2025-04-14T08:01:21.131Z"
   },
   {
    "duration": 377,
    "start_time": "2025-04-14T10:58:49.730Z"
   },
   {
    "duration": 2775,
    "start_time": "2025-04-14T10:59:06.328Z"
   },
   {
    "duration": 935,
    "start_time": "2025-04-14T10:59:09.108Z"
   },
   {
    "duration": 158,
    "start_time": "2025-04-14T10:59:10.047Z"
   },
   {
    "duration": 17,
    "start_time": "2025-04-14T10:59:10.207Z"
   },
   {
    "duration": 19,
    "start_time": "2025-04-14T10:59:10.227Z"
   },
   {
    "duration": 15,
    "start_time": "2025-04-14T10:59:10.248Z"
   },
   {
    "duration": 11,
    "start_time": "2025-04-14T10:59:10.265Z"
   },
   {
    "duration": 36,
    "start_time": "2025-04-14T10:59:10.278Z"
   },
   {
    "duration": 91,
    "start_time": "2025-04-14T10:59:10.316Z"
   },
   {
    "duration": 16,
    "start_time": "2025-04-14T10:59:10.408Z"
   },
   {
    "duration": 11,
    "start_time": "2025-04-14T10:59:10.427Z"
   },
   {
    "duration": 84,
    "start_time": "2025-04-14T10:59:10.440Z"
   },
   {
    "duration": 92,
    "start_time": "2025-04-14T10:59:10.528Z"
   },
   {
    "duration": 13,
    "start_time": "2025-04-14T10:59:10.623Z"
   },
   {
    "duration": 4,
    "start_time": "2025-04-14T10:59:10.639Z"
   },
   {
    "duration": 60,
    "start_time": "2025-04-14T10:59:10.647Z"
   },
   {
    "duration": 8,
    "start_time": "2025-04-14T10:59:10.710Z"
   },
   {
    "duration": 24,
    "start_time": "2025-04-14T10:59:10.721Z"
   },
   {
    "duration": 9,
    "start_time": "2025-04-14T10:59:10.748Z"
   },
   {
    "duration": 307,
    "start_time": "2025-04-14T10:59:10.759Z"
   },
   {
    "duration": 0,
    "start_time": "2025-04-14T10:59:11.068Z"
   },
   {
    "duration": 0,
    "start_time": "2025-04-14T10:59:11.069Z"
   },
   {
    "duration": 1018,
    "start_time": "2025-04-14T11:03:14.540Z"
   },
   {
    "duration": 346,
    "start_time": "2025-04-14T11:03:15.560Z"
   },
   {
    "duration": 124,
    "start_time": "2025-04-14T11:03:15.909Z"
   },
   {
    "duration": 14,
    "start_time": "2025-04-14T11:03:16.036Z"
   },
   {
    "duration": 16,
    "start_time": "2025-04-14T11:03:16.052Z"
   },
   {
    "duration": 14,
    "start_time": "2025-04-14T11:03:16.069Z"
   },
   {
    "duration": 13,
    "start_time": "2025-04-14T11:03:16.105Z"
   },
   {
    "duration": 10,
    "start_time": "2025-04-14T11:03:16.120Z"
   },
   {
    "duration": 82,
    "start_time": "2025-04-14T11:03:16.131Z"
   },
   {
    "duration": 20,
    "start_time": "2025-04-14T11:03:16.216Z"
   },
   {
    "duration": 77,
    "start_time": "2025-04-14T11:03:16.238Z"
   },
   {
    "duration": 90,
    "start_time": "2025-04-14T11:03:16.316Z"
   },
   {
    "duration": 16,
    "start_time": "2025-04-14T11:03:16.409Z"
   },
   {
    "duration": 14,
    "start_time": "2025-04-14T11:03:16.428Z"
   },
   {
    "duration": 2,
    "start_time": "2025-04-14T11:03:16.444Z"
   },
   {
    "duration": 15,
    "start_time": "2025-04-14T11:03:16.504Z"
   },
   {
    "duration": 5,
    "start_time": "2025-04-14T11:03:16.520Z"
   },
   {
    "duration": 80,
    "start_time": "2025-04-14T11:03:16.526Z"
   },
   {
    "duration": 4,
    "start_time": "2025-04-14T11:03:16.608Z"
   },
   {
    "duration": 601,
    "start_time": "2025-04-14T11:03:16.614Z"
   },
   {
    "duration": 577,
    "start_time": "2025-04-14T11:03:17.217Z"
   },
   {
    "duration": 683,
    "start_time": "2025-04-14T11:03:17.796Z"
   },
   {
    "duration": 3576,
    "start_time": "2025-04-15T00:39:36.741Z"
   },
   {
    "duration": 563,
    "start_time": "2025-04-15T00:39:40.320Z"
   },
   {
    "duration": 144,
    "start_time": "2025-04-15T00:39:40.885Z"
   },
   {
    "duration": 19,
    "start_time": "2025-04-15T00:39:41.032Z"
   },
   {
    "duration": 156,
    "start_time": "2025-04-15T00:39:41.054Z"
   },
   {
    "duration": 31,
    "start_time": "2025-04-15T00:39:41.212Z"
   },
   {
    "duration": 23,
    "start_time": "2025-04-15T00:39:41.247Z"
   },
   {
    "duration": 14,
    "start_time": "2025-04-15T00:39:41.272Z"
   },
   {
    "duration": 26,
    "start_time": "2025-04-15T00:39:41.288Z"
   },
   {
    "duration": 33,
    "start_time": "2025-04-15T00:39:41.345Z"
   },
   {
    "duration": 95,
    "start_time": "2025-04-15T00:39:41.380Z"
   },
   {
    "duration": 18,
    "start_time": "2025-04-15T00:39:41.478Z"
   },
   {
    "duration": 52,
    "start_time": "2025-04-15T00:39:41.498Z"
   },
   {
    "duration": 36,
    "start_time": "2025-04-15T00:39:41.554Z"
   },
   {
    "duration": 35,
    "start_time": "2025-04-15T00:39:41.646Z"
   },
   {
    "duration": 4,
    "start_time": "2025-04-15T00:39:41.684Z"
   },
   {
    "duration": 5,
    "start_time": "2025-04-15T00:39:41.690Z"
   },
   {
    "duration": 9,
    "start_time": "2025-04-15T00:39:41.697Z"
   },
   {
    "duration": 28,
    "start_time": "2025-04-15T00:39:41.746Z"
   },
   {
    "duration": 13,
    "start_time": "2025-04-15T00:39:41.776Z"
   },
   {
    "duration": 735,
    "start_time": "2025-04-15T00:39:41.792Z"
   },
   {
    "duration": 735,
    "start_time": "2025-04-15T00:39:42.529Z"
   },
   {
    "duration": 715,
    "start_time": "2025-04-15T00:39:43.266Z"
   },
   {
    "duration": 480,
    "start_time": "2025-04-15T00:45:11.513Z"
   },
   {
    "duration": 292,
    "start_time": "2025-04-15T00:50:31.215Z"
   },
   {
    "duration": 284,
    "start_time": "2025-04-15T00:55:30.339Z"
   },
   {
    "duration": 320,
    "start_time": "2025-04-15T00:58:49.151Z"
   },
   {
    "duration": 1048,
    "start_time": "2025-04-15T01:17:35.393Z"
   },
   {
    "duration": 270,
    "start_time": "2025-04-15T01:17:36.446Z"
   },
   {
    "duration": 191,
    "start_time": "2025-04-15T01:17:36.718Z"
   },
   {
    "duration": 16,
    "start_time": "2025-04-15T01:17:36.913Z"
   },
   {
    "duration": 512,
    "start_time": "2025-04-15T01:17:36.930Z"
   },
   {
    "duration": 389,
    "start_time": "2025-04-15T01:17:37.445Z"
   },
   {
    "duration": 406,
    "start_time": "2025-04-15T01:17:37.836Z"
   },
   {
    "duration": 417,
    "start_time": "2025-04-15T01:17:38.244Z"
   },
   {
    "duration": 21,
    "start_time": "2025-04-15T01:17:38.664Z"
   },
   {
    "duration": 18,
    "start_time": "2025-04-15T01:17:38.690Z"
   },
   {
    "duration": 13,
    "start_time": "2025-04-15T01:17:38.710Z"
   },
   {
    "duration": 60,
    "start_time": "2025-04-15T01:17:38.726Z"
   },
   {
    "duration": 101,
    "start_time": "2025-04-15T01:17:38.793Z"
   },
   {
    "duration": 16,
    "start_time": "2025-04-15T01:17:38.896Z"
   },
   {
    "duration": 49,
    "start_time": "2025-04-15T01:17:38.914Z"
   },
   {
    "duration": 67,
    "start_time": "2025-04-15T01:17:38.971Z"
   },
   {
    "duration": 64,
    "start_time": "2025-04-15T01:17:39.042Z"
   },
   {
    "duration": 27,
    "start_time": "2025-04-15T01:17:39.108Z"
   },
   {
    "duration": 19,
    "start_time": "2025-04-15T01:17:39.139Z"
   },
   {
    "duration": 11,
    "start_time": "2025-04-15T01:17:39.160Z"
   },
   {
    "duration": 17,
    "start_time": "2025-04-15T01:17:39.173Z"
   },
   {
    "duration": 29,
    "start_time": "2025-04-15T01:17:39.193Z"
   },
   {
    "duration": 7,
    "start_time": "2025-04-15T01:17:39.224Z"
   },
   {
    "duration": 711,
    "start_time": "2025-04-15T01:17:39.244Z"
   },
   {
    "duration": 954,
    "start_time": "2025-04-15T01:17:39.960Z"
   },
   {
    "duration": 759,
    "start_time": "2025-04-15T01:17:40.916Z"
   },
   {
    "duration": 6,
    "start_time": "2025-04-15T01:28:33.135Z"
   },
   {
    "duration": 381,
    "start_time": "2025-04-15T01:28:42.449Z"
   },
   {
    "duration": 15,
    "start_time": "2025-04-15T01:28:57.975Z"
   },
   {
    "duration": 14,
    "start_time": "2025-04-15T01:29:35.267Z"
   },
   {
    "duration": 4,
    "start_time": "2025-04-15T01:30:13.866Z"
   },
   {
    "duration": 20,
    "start_time": "2025-04-15T01:30:35.579Z"
   },
   {
    "duration": 18,
    "start_time": "2025-04-15T01:31:00.133Z"
   },
   {
    "duration": 4,
    "start_time": "2025-04-15T01:31:15.060Z"
   },
   {
    "duration": 32,
    "start_time": "2025-04-15T01:31:35.943Z"
   },
   {
    "duration": 6,
    "start_time": "2025-04-15T01:31:45.231Z"
   },
   {
    "duration": 16,
    "start_time": "2025-04-15T01:32:01.371Z"
   },
   {
    "duration": 17,
    "start_time": "2025-04-15T01:32:56.202Z"
   },
   {
    "duration": 16,
    "start_time": "2025-04-15T01:33:02.254Z"
   },
   {
    "duration": 5,
    "start_time": "2025-04-15T01:37:16.544Z"
   },
   {
    "duration": 3,
    "start_time": "2025-04-15T01:37:24.422Z"
   },
   {
    "duration": 3,
    "start_time": "2025-04-15T02:11:32.722Z"
   },
   {
    "duration": 5,
    "start_time": "2025-04-15T02:12:34.512Z"
   },
   {
    "duration": 1050,
    "start_time": "2025-04-15T02:13:04.779Z"
   },
   {
    "duration": 240,
    "start_time": "2025-04-15T02:13:05.834Z"
   },
   {
    "duration": 142,
    "start_time": "2025-04-15T02:13:06.076Z"
   },
   {
    "duration": 26,
    "start_time": "2025-04-15T02:13:06.220Z"
   },
   {
    "duration": 382,
    "start_time": "2025-04-15T02:13:06.256Z"
   },
   {
    "duration": 270,
    "start_time": "2025-04-15T02:13:06.643Z"
   },
   {
    "duration": 263,
    "start_time": "2025-04-15T02:13:06.915Z"
   },
   {
    "duration": 290,
    "start_time": "2025-04-15T02:13:07.180Z"
   },
   {
    "duration": 19,
    "start_time": "2025-04-15T02:13:07.482Z"
   },
   {
    "duration": 13,
    "start_time": "2025-04-15T02:13:07.502Z"
   },
   {
    "duration": 9,
    "start_time": "2025-04-15T02:13:07.517Z"
   },
   {
    "duration": 38,
    "start_time": "2025-04-15T02:13:07.528Z"
   },
   {
    "duration": 82,
    "start_time": "2025-04-15T02:13:07.573Z"
   },
   {
    "duration": 22,
    "start_time": "2025-04-15T02:13:07.659Z"
   },
   {
    "duration": 13,
    "start_time": "2025-04-15T02:13:07.684Z"
   },
   {
    "duration": 60,
    "start_time": "2025-04-15T02:13:07.699Z"
   },
   {
    "duration": 80,
    "start_time": "2025-04-15T02:13:07.763Z"
   },
   {
    "duration": 19,
    "start_time": "2025-04-15T02:13:07.845Z"
   },
   {
    "duration": 4,
    "start_time": "2025-04-15T02:13:07.866Z"
   },
   {
    "duration": 5,
    "start_time": "2025-04-15T02:13:07.871Z"
   },
   {
    "duration": 65,
    "start_time": "2025-04-15T02:13:07.878Z"
   },
   {
    "duration": 18,
    "start_time": "2025-04-15T02:13:07.945Z"
   },
   {
    "duration": 4,
    "start_time": "2025-04-15T02:13:07.965Z"
   },
   {
    "duration": 3,
    "start_time": "2025-04-15T02:13:07.971Z"
   },
   {
    "duration": 637,
    "start_time": "2025-04-15T02:13:07.977Z"
   },
   {
    "duration": 674,
    "start_time": "2025-04-15T02:13:08.615Z"
   },
   {
    "duration": 622,
    "start_time": "2025-04-15T02:13:09.291Z"
   },
   {
    "duration": 335,
    "start_time": "2025-04-15T02:16:10.996Z"
   },
   {
    "duration": 600,
    "start_time": "2025-04-15T02:16:36.782Z"
   },
   {
    "duration": 6,
    "start_time": "2025-04-15T02:26:16.522Z"
   },
   {
    "duration": 606,
    "start_time": "2025-04-15T02:26:33.955Z"
   },
   {
    "duration": 955,
    "start_time": "2025-04-15T02:27:08.959Z"
   },
   {
    "duration": 320,
    "start_time": "2025-04-15T02:27:09.919Z"
   },
   {
    "duration": 158,
    "start_time": "2025-04-15T02:27:10.241Z"
   },
   {
    "duration": 16,
    "start_time": "2025-04-15T02:27:10.401Z"
   },
   {
    "duration": 382,
    "start_time": "2025-04-15T02:27:10.421Z"
   },
   {
    "duration": 282,
    "start_time": "2025-04-15T02:27:10.804Z"
   },
   {
    "duration": 272,
    "start_time": "2025-04-15T02:27:11.088Z"
   },
   {
    "duration": 281,
    "start_time": "2025-04-15T02:27:11.362Z"
   },
   {
    "duration": 21,
    "start_time": "2025-04-15T02:27:11.646Z"
   },
   {
    "duration": 20,
    "start_time": "2025-04-15T02:27:11.669Z"
   },
   {
    "duration": 11,
    "start_time": "2025-04-15T02:27:11.691Z"
   },
   {
    "duration": 42,
    "start_time": "2025-04-15T02:27:11.704Z"
   },
   {
    "duration": 99,
    "start_time": "2025-04-15T02:27:11.749Z"
   },
   {
    "duration": 30,
    "start_time": "2025-04-15T02:27:11.854Z"
   },
   {
    "duration": 12,
    "start_time": "2025-04-15T02:27:11.885Z"
   },
   {
    "duration": 142,
    "start_time": "2025-04-15T02:27:11.901Z"
   },
   {
    "duration": 19,
    "start_time": "2025-04-15T02:27:12.045Z"
   },
   {
    "duration": 29,
    "start_time": "2025-04-15T02:27:12.065Z"
   },
   {
    "duration": 2,
    "start_time": "2025-04-15T02:27:12.097Z"
   },
   {
    "duration": 4,
    "start_time": "2025-04-15T02:27:12.101Z"
   },
   {
    "duration": 9,
    "start_time": "2025-04-15T02:27:12.144Z"
   },
   {
    "duration": 21,
    "start_time": "2025-04-15T02:27:12.157Z"
   },
   {
    "duration": 3,
    "start_time": "2025-04-15T02:27:12.179Z"
   },
   {
    "duration": 60,
    "start_time": "2025-04-15T02:27:12.184Z"
   },
   {
    "duration": 759,
    "start_time": "2025-04-15T02:27:12.246Z"
   },
   {
    "duration": 637,
    "start_time": "2025-04-15T02:27:13.007Z"
   },
   {
    "duration": 640,
    "start_time": "2025-04-15T02:27:13.646Z"
   },
   {
    "duration": 1001,
    "start_time": "2025-04-15T02:28:46.744Z"
   },
   {
    "duration": 286,
    "start_time": "2025-04-15T02:28:47.748Z"
   },
   {
    "duration": 148,
    "start_time": "2025-04-15T02:28:48.036Z"
   },
   {
    "duration": 14,
    "start_time": "2025-04-15T02:28:48.187Z"
   },
   {
    "duration": 450,
    "start_time": "2025-04-15T02:28:48.203Z"
   },
   {
    "duration": 309,
    "start_time": "2025-04-15T02:28:48.655Z"
   },
   {
    "duration": 312,
    "start_time": "2025-04-15T02:28:48.967Z"
   },
   {
    "duration": 287,
    "start_time": "2025-04-15T02:28:49.280Z"
   },
   {
    "duration": 21,
    "start_time": "2025-04-15T02:28:49.569Z"
   },
   {
    "duration": 14,
    "start_time": "2025-04-15T02:28:49.594Z"
   },
   {
    "duration": 9,
    "start_time": "2025-04-15T02:28:49.610Z"
   },
   {
    "duration": 22,
    "start_time": "2025-04-15T02:28:49.643Z"
   },
   {
    "duration": 92,
    "start_time": "2025-04-15T02:28:49.668Z"
   },
   {
    "duration": 16,
    "start_time": "2025-04-15T02:28:49.763Z"
   },
   {
    "duration": 13,
    "start_time": "2025-04-15T02:28:49.781Z"
   },
   {
    "duration": 75,
    "start_time": "2025-04-15T02:28:49.796Z"
   },
   {
    "duration": 22,
    "start_time": "2025-04-15T02:28:49.874Z"
   },
   {
    "duration": 57,
    "start_time": "2025-04-15T02:28:49.897Z"
   },
   {
    "duration": 2,
    "start_time": "2025-04-15T02:28:49.956Z"
   },
   {
    "duration": 6,
    "start_time": "2025-04-15T02:28:49.961Z"
   },
   {
    "duration": 76,
    "start_time": "2025-04-15T02:28:49.970Z"
   },
   {
    "duration": 11,
    "start_time": "2025-04-15T02:28:50.047Z"
   },
   {
    "duration": 3,
    "start_time": "2025-04-15T02:28:50.060Z"
   },
   {
    "duration": 4,
    "start_time": "2025-04-15T02:28:50.065Z"
   },
   {
    "duration": 667,
    "start_time": "2025-04-15T02:28:50.071Z"
   },
   {
    "duration": 617,
    "start_time": "2025-04-15T02:28:50.743Z"
   },
   {
    "duration": 579,
    "start_time": "2025-04-15T02:28:51.367Z"
   }
  ],
  "kernelspec": {
   "display_name": "Python 3 (ipykernel)",
   "language": "python",
   "name": "python3"
  },
  "language_info": {
   "codemirror_mode": {
    "name": "ipython",
    "version": 3
   },
   "file_extension": ".py",
   "mimetype": "text/x-python",
   "name": "python",
   "nbconvert_exporter": "python",
   "pygments_lexer": "ipython3",
   "version": "3.9.19"
  },
  "toc": {
   "base_numbering": 1,
   "nav_menu": {},
   "number_sections": true,
   "sideBar": true,
   "skip_h1_title": true,
   "title_cell": "Table of Contents",
   "title_sidebar": "Contents",
   "toc_cell": false,
   "toc_position": {},
   "toc_section_display": true,
   "toc_window_display": false
  }
 },
 "nbformat": 4,
 "nbformat_minor": 2
}
